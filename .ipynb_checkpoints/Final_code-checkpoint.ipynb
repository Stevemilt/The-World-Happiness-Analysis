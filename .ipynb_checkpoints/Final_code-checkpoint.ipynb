{
 "cells": [
  {
   "cell_type": "code",
   "execution_count": 2,
   "metadata": {
    "ExecuteTime": {
     "end_time": "2020-10-24T04:25:17.393036Z",
     "start_time": "2020-10-24T04:25:07.442132Z"
    }
   },
   "outputs": [],
   "source": [
    "import pandas as pd\n",
    "import matplotlib.pyplot as plt\n",
    "#Graphing libraries\n",
    "#import for seaborn graphs\n",
    "import seaborn as sns\n",
    "import plotly.express as px\n",
    "from plotly.subplots import make_subplots\n",
    "import plotly.graph_objs as go\n",
    "import plotly.io as pio\n",
    "pio.templates.default = \"plotly_dark\"\n"
   ]
  },
  {
   "cell_type": "code",
   "execution_count": 5,
   "metadata": {
    "ExecuteTime": {
     "end_time": "2020-10-24T04:27:57.033988Z",
     "start_time": "2020-10-24T04:27:56.820409Z"
    }
   },
   "outputs": [
    {
     "ename": "FileNotFoundError",
     "evalue": "[Errno 2] No such file or directory: '../Output/concated_df.csv'",
     "output_type": "error",
     "traceback": [
      "\u001b[1;31m---------------------------------------------------------------------------\u001b[0m",
      "\u001b[1;31mFileNotFoundError\u001b[0m                         Traceback (most recent call last)",
      "\u001b[1;32m<ipython-input-5-5a75f291cfce>\u001b[0m in \u001b[0;36m<module>\u001b[1;34m\u001b[0m\n\u001b[0;32m      8\u001b[0m \u001b[1;31m#Retreivng the concated csv file\u001b[0m\u001b[1;33m\u001b[0m\u001b[1;33m\u001b[0m\u001b[1;33m\u001b[0m\u001b[0m\n\u001b[0;32m      9\u001b[0m \u001b[0murl_concat\u001b[0m \u001b[1;33m=\u001b[0m \u001b[1;34mf\"../Output/concated_df.csv\"\u001b[0m\u001b[1;33m\u001b[0m\u001b[1;33m\u001b[0m\u001b[0m\n\u001b[1;32m---> 10\u001b[1;33m \u001b[0mdf_concat\u001b[0m \u001b[1;33m=\u001b[0m \u001b[0mpd\u001b[0m\u001b[1;33m.\u001b[0m\u001b[0mread_csv\u001b[0m\u001b[1;33m(\u001b[0m\u001b[0murl_concat\u001b[0m\u001b[1;33m)\u001b[0m\u001b[1;33m\u001b[0m\u001b[1;33m\u001b[0m\u001b[0m\n\u001b[0m\u001b[0;32m     11\u001b[0m \u001b[1;31m#Unpacking the dataframe\u001b[0m\u001b[1;33m\u001b[0m\u001b[1;33m\u001b[0m\u001b[1;33m\u001b[0m\u001b[0m\n\u001b[0;32m     12\u001b[0m \u001b[0mdf_2015\u001b[0m\u001b[1;33m,\u001b[0m\u001b[0mdf_2016\u001b[0m\u001b[1;33m,\u001b[0m\u001b[0mdf_2017\u001b[0m\u001b[1;33m,\u001b[0m\u001b[0mdf_2018\u001b[0m\u001b[1;33m,\u001b[0m\u001b[0mdf_2019\u001b[0m \u001b[1;33m=\u001b[0m \u001b[0mdf\u001b[0m\u001b[1;33m[\u001b[0m\u001b[1;36m2015\u001b[0m\u001b[1;33m]\u001b[0m\u001b[1;33m,\u001b[0m\u001b[0mdf\u001b[0m\u001b[1;33m[\u001b[0m\u001b[1;36m2016\u001b[0m\u001b[1;33m]\u001b[0m\u001b[1;33m,\u001b[0m\u001b[0mdf\u001b[0m\u001b[1;33m[\u001b[0m\u001b[1;36m2017\u001b[0m\u001b[1;33m]\u001b[0m\u001b[1;33m,\u001b[0m\u001b[0mdf\u001b[0m\u001b[1;33m[\u001b[0m\u001b[1;36m2018\u001b[0m\u001b[1;33m]\u001b[0m\u001b[1;33m,\u001b[0m\u001b[0mdf\u001b[0m\u001b[1;33m[\u001b[0m\u001b[1;36m2019\u001b[0m\u001b[1;33m]\u001b[0m\u001b[1;33m\u001b[0m\u001b[1;33m\u001b[0m\u001b[0m\n",
      "\u001b[1;32m~\\anaconda3\\lib\\site-packages\\pandas\\io\\parsers.py\u001b[0m in \u001b[0;36mread_csv\u001b[1;34m(filepath_or_buffer, sep, delimiter, header, names, index_col, usecols, squeeze, prefix, mangle_dupe_cols, dtype, engine, converters, true_values, false_values, skipinitialspace, skiprows, skipfooter, nrows, na_values, keep_default_na, na_filter, verbose, skip_blank_lines, parse_dates, infer_datetime_format, keep_date_col, date_parser, dayfirst, cache_dates, iterator, chunksize, compression, thousands, decimal, lineterminator, quotechar, quoting, doublequote, escapechar, comment, encoding, dialect, error_bad_lines, warn_bad_lines, delim_whitespace, low_memory, memory_map, float_precision)\u001b[0m\n\u001b[0;32m    684\u001b[0m     )\n\u001b[0;32m    685\u001b[0m \u001b[1;33m\u001b[0m\u001b[0m\n\u001b[1;32m--> 686\u001b[1;33m     \u001b[1;32mreturn\u001b[0m \u001b[0m_read\u001b[0m\u001b[1;33m(\u001b[0m\u001b[0mfilepath_or_buffer\u001b[0m\u001b[1;33m,\u001b[0m \u001b[0mkwds\u001b[0m\u001b[1;33m)\u001b[0m\u001b[1;33m\u001b[0m\u001b[1;33m\u001b[0m\u001b[0m\n\u001b[0m\u001b[0;32m    687\u001b[0m \u001b[1;33m\u001b[0m\u001b[0m\n\u001b[0;32m    688\u001b[0m \u001b[1;33m\u001b[0m\u001b[0m\n",
      "\u001b[1;32m~\\anaconda3\\lib\\site-packages\\pandas\\io\\parsers.py\u001b[0m in \u001b[0;36m_read\u001b[1;34m(filepath_or_buffer, kwds)\u001b[0m\n\u001b[0;32m    450\u001b[0m \u001b[1;33m\u001b[0m\u001b[0m\n\u001b[0;32m    451\u001b[0m     \u001b[1;31m# Create the parser.\u001b[0m\u001b[1;33m\u001b[0m\u001b[1;33m\u001b[0m\u001b[1;33m\u001b[0m\u001b[0m\n\u001b[1;32m--> 452\u001b[1;33m     \u001b[0mparser\u001b[0m \u001b[1;33m=\u001b[0m \u001b[0mTextFileReader\u001b[0m\u001b[1;33m(\u001b[0m\u001b[0mfp_or_buf\u001b[0m\u001b[1;33m,\u001b[0m \u001b[1;33m**\u001b[0m\u001b[0mkwds\u001b[0m\u001b[1;33m)\u001b[0m\u001b[1;33m\u001b[0m\u001b[1;33m\u001b[0m\u001b[0m\n\u001b[0m\u001b[0;32m    453\u001b[0m \u001b[1;33m\u001b[0m\u001b[0m\n\u001b[0;32m    454\u001b[0m     \u001b[1;32mif\u001b[0m \u001b[0mchunksize\u001b[0m \u001b[1;32mor\u001b[0m \u001b[0miterator\u001b[0m\u001b[1;33m:\u001b[0m\u001b[1;33m\u001b[0m\u001b[1;33m\u001b[0m\u001b[0m\n",
      "\u001b[1;32m~\\anaconda3\\lib\\site-packages\\pandas\\io\\parsers.py\u001b[0m in \u001b[0;36m__init__\u001b[1;34m(self, f, engine, **kwds)\u001b[0m\n\u001b[0;32m    934\u001b[0m             \u001b[0mself\u001b[0m\u001b[1;33m.\u001b[0m\u001b[0moptions\u001b[0m\u001b[1;33m[\u001b[0m\u001b[1;34m\"has_index_names\"\u001b[0m\u001b[1;33m]\u001b[0m \u001b[1;33m=\u001b[0m \u001b[0mkwds\u001b[0m\u001b[1;33m[\u001b[0m\u001b[1;34m\"has_index_names\"\u001b[0m\u001b[1;33m]\u001b[0m\u001b[1;33m\u001b[0m\u001b[1;33m\u001b[0m\u001b[0m\n\u001b[0;32m    935\u001b[0m \u001b[1;33m\u001b[0m\u001b[0m\n\u001b[1;32m--> 936\u001b[1;33m         \u001b[0mself\u001b[0m\u001b[1;33m.\u001b[0m\u001b[0m_make_engine\u001b[0m\u001b[1;33m(\u001b[0m\u001b[0mself\u001b[0m\u001b[1;33m.\u001b[0m\u001b[0mengine\u001b[0m\u001b[1;33m)\u001b[0m\u001b[1;33m\u001b[0m\u001b[1;33m\u001b[0m\u001b[0m\n\u001b[0m\u001b[0;32m    937\u001b[0m \u001b[1;33m\u001b[0m\u001b[0m\n\u001b[0;32m    938\u001b[0m     \u001b[1;32mdef\u001b[0m \u001b[0mclose\u001b[0m\u001b[1;33m(\u001b[0m\u001b[0mself\u001b[0m\u001b[1;33m)\u001b[0m\u001b[1;33m:\u001b[0m\u001b[1;33m\u001b[0m\u001b[1;33m\u001b[0m\u001b[0m\n",
      "\u001b[1;32m~\\anaconda3\\lib\\site-packages\\pandas\\io\\parsers.py\u001b[0m in \u001b[0;36m_make_engine\u001b[1;34m(self, engine)\u001b[0m\n\u001b[0;32m   1166\u001b[0m     \u001b[1;32mdef\u001b[0m \u001b[0m_make_engine\u001b[0m\u001b[1;33m(\u001b[0m\u001b[0mself\u001b[0m\u001b[1;33m,\u001b[0m \u001b[0mengine\u001b[0m\u001b[1;33m=\u001b[0m\u001b[1;34m\"c\"\u001b[0m\u001b[1;33m)\u001b[0m\u001b[1;33m:\u001b[0m\u001b[1;33m\u001b[0m\u001b[1;33m\u001b[0m\u001b[0m\n\u001b[0;32m   1167\u001b[0m         \u001b[1;32mif\u001b[0m \u001b[0mengine\u001b[0m \u001b[1;33m==\u001b[0m \u001b[1;34m\"c\"\u001b[0m\u001b[1;33m:\u001b[0m\u001b[1;33m\u001b[0m\u001b[1;33m\u001b[0m\u001b[0m\n\u001b[1;32m-> 1168\u001b[1;33m             \u001b[0mself\u001b[0m\u001b[1;33m.\u001b[0m\u001b[0m_engine\u001b[0m \u001b[1;33m=\u001b[0m \u001b[0mCParserWrapper\u001b[0m\u001b[1;33m(\u001b[0m\u001b[0mself\u001b[0m\u001b[1;33m.\u001b[0m\u001b[0mf\u001b[0m\u001b[1;33m,\u001b[0m \u001b[1;33m**\u001b[0m\u001b[0mself\u001b[0m\u001b[1;33m.\u001b[0m\u001b[0moptions\u001b[0m\u001b[1;33m)\u001b[0m\u001b[1;33m\u001b[0m\u001b[1;33m\u001b[0m\u001b[0m\n\u001b[0m\u001b[0;32m   1169\u001b[0m         \u001b[1;32melse\u001b[0m\u001b[1;33m:\u001b[0m\u001b[1;33m\u001b[0m\u001b[1;33m\u001b[0m\u001b[0m\n\u001b[0;32m   1170\u001b[0m             \u001b[1;32mif\u001b[0m \u001b[0mengine\u001b[0m \u001b[1;33m==\u001b[0m \u001b[1;34m\"python\"\u001b[0m\u001b[1;33m:\u001b[0m\u001b[1;33m\u001b[0m\u001b[1;33m\u001b[0m\u001b[0m\n",
      "\u001b[1;32m~\\anaconda3\\lib\\site-packages\\pandas\\io\\parsers.py\u001b[0m in \u001b[0;36m__init__\u001b[1;34m(self, src, **kwds)\u001b[0m\n\u001b[0;32m   1996\u001b[0m         \u001b[0mkwds\u001b[0m\u001b[1;33m[\u001b[0m\u001b[1;34m\"usecols\"\u001b[0m\u001b[1;33m]\u001b[0m \u001b[1;33m=\u001b[0m \u001b[0mself\u001b[0m\u001b[1;33m.\u001b[0m\u001b[0musecols\u001b[0m\u001b[1;33m\u001b[0m\u001b[1;33m\u001b[0m\u001b[0m\n\u001b[0;32m   1997\u001b[0m \u001b[1;33m\u001b[0m\u001b[0m\n\u001b[1;32m-> 1998\u001b[1;33m         \u001b[0mself\u001b[0m\u001b[1;33m.\u001b[0m\u001b[0m_reader\u001b[0m \u001b[1;33m=\u001b[0m \u001b[0mparsers\u001b[0m\u001b[1;33m.\u001b[0m\u001b[0mTextReader\u001b[0m\u001b[1;33m(\u001b[0m\u001b[0msrc\u001b[0m\u001b[1;33m,\u001b[0m \u001b[1;33m**\u001b[0m\u001b[0mkwds\u001b[0m\u001b[1;33m)\u001b[0m\u001b[1;33m\u001b[0m\u001b[1;33m\u001b[0m\u001b[0m\n\u001b[0m\u001b[0;32m   1999\u001b[0m         \u001b[0mself\u001b[0m\u001b[1;33m.\u001b[0m\u001b[0munnamed_cols\u001b[0m \u001b[1;33m=\u001b[0m \u001b[0mself\u001b[0m\u001b[1;33m.\u001b[0m\u001b[0m_reader\u001b[0m\u001b[1;33m.\u001b[0m\u001b[0munnamed_cols\u001b[0m\u001b[1;33m\u001b[0m\u001b[1;33m\u001b[0m\u001b[0m\n\u001b[0;32m   2000\u001b[0m \u001b[1;33m\u001b[0m\u001b[0m\n",
      "\u001b[1;32mpandas\\_libs\\parsers.pyx\u001b[0m in \u001b[0;36mpandas._libs.parsers.TextReader.__cinit__\u001b[1;34m()\u001b[0m\n",
      "\u001b[1;32mpandas\\_libs\\parsers.pyx\u001b[0m in \u001b[0;36mpandas._libs.parsers.TextReader._setup_parser_source\u001b[1;34m()\u001b[0m\n",
      "\u001b[1;31mFileNotFoundError\u001b[0m: [Errno 2] No such file or directory: '../Output/concated_df.csv'"
     ]
    }
   ],
   "source": [
    "#Retriveing the data from Output folder and combining into the dataframe and assigning variables\n",
    "#using loop to retrives 5 csv files.\n",
    "years = [x for x in range(2015,2020)]\n",
    "df={}\n",
    "for year in years:\n",
    "    url = f\"../Output/{year}.csv\"\n",
    "    df[year] = pd.read_csv(url)\n",
    "#Retreivng the concated csv file    \n",
    "url_concat = f\"../Output/concated_df.csv\"\n",
    "df_concat = pd.read_csv(url_concat)\n",
    "#Unpacking the dataframe\n",
    "df_2015,df_2016,df_2017,df_2018,df_2019 = df[2015],df[2016],df[2017],df[2018],df[2019]"
   ]
  },
  {
   "cell_type": "code",
   "execution_count": null,
   "metadata": {
    "ExecuteTime": {
     "end_time": "2020-10-24T04:25:20.635186Z",
     "start_time": "2020-10-24T04:25:07.495Z"
    }
   },
   "outputs": [],
   "source": [
    "df[2016].tail(10)"
   ]
  },
  {
   "cell_type": "markdown",
   "metadata": {},
   "source": [
    "# Horizontal Bars"
   ]
  },
  {
   "cell_type": "code",
   "execution_count": null,
   "metadata": {
    "ExecuteTime": {
     "end_time": "2020-10-24T04:25:20.640187Z",
     "start_time": "2020-10-24T04:25:07.561Z"
    },
    "scrolled": true
   },
   "outputs": [],
   "source": [
    "#Creating empty dictionioraing to hold top 10 and botton countries\n",
    "top_10 = {}\n",
    "bottom_10 = {}\n",
    "combined_10 = {}\n",
    "\n",
    "#using for loop to get the df for 5 years\n",
    "for year in years:\n",
    "        top_10[year] =df[year].set_index('Country')\n",
    "        #Using loc for columns having significant factor for happiness score\n",
    "        #Top 10 Countries\n",
    "        top_10[year] = df[year].loc[:,['Country','Economy_(GDP_per_Capita)','Family', 'Health_(Life_Expectancy)',\n",
    "       'Freedom', 'Trust_(Government_Corruption)', 'Generosity',\n",
    "       'Dystopia_Residual']].head(10)\n",
    "         #Using loc for columns having significant factor for happiness score\n",
    "        #bottom 10 Countries\n",
    "        bottom_10[year] = df[year].set_index('Country')\n",
    "        bottom_10[year] = df[year].loc[:,['Country','Economy_(GDP_per_Capita)','Family', 'Health_(Life_Expectancy)',\n",
    "       'Freedom', 'Trust_(Government_Corruption)', 'Generosity',\n",
    "       'Dystopia_Residual']].tail(10)\n",
    "        #combing to to and bottom to get in the same graphs\n",
    "        combined_10[year] = pd.concat([bottom_10[year][::-1],top_10[year][::-1]]).set_index('Country',drop=True)\n",
    "        fig =px.bar(combined_10[year], color_discrete_sequence = px.colors.colorbrewer.Paired,orientation='h',title= f'{year} Top-Bottom Analysis',barmode='stack', labels=dict(Country=\"Countries\", value=\"Happiness Score\", variable=\"Contributing Factors\"))\n",
    "        fig.show()\n"
   ]
  },
  {
   "cell_type": "markdown",
   "metadata": {},
   "source": [
    "# Correlational Heatmaps"
   ]
  },
  {
   "cell_type": "code",
   "execution_count": null,
   "metadata": {
    "ExecuteTime": {
     "end_time": "2020-10-24T04:25:20.646188Z",
     "start_time": "2020-10-24T04:25:07.580Z"
    },
    "scrolled": true
   },
   "outputs": [],
   "source": [
    "#deciding the size of graphs\n",
    "plt.figure(figsize=(10,6))\n",
    "heatmap_corr={}\n",
    "# Using for loops to map co-relations grpahs for 5 years\n",
    "for year in years:\n",
    "    heatmap_corr[year] = df[year]\n",
    "    fig = plt.figure(figsize=(10,6))\n",
    "    print(f\"Cor-relational heatmap - {year}\")\n",
    "    #Seaborn graphing using heatmap\n",
    "    sns.heatmap(heatmap_corr[year].corr(), annot=True)\n",
    "    plt.show()\n",
    "    \n",
    "  "
   ]
  },
  {
   "cell_type": "markdown",
   "metadata": {},
   "source": [
    "### Spider Graphs"
   ]
  },
  {
   "cell_type": "code",
   "execution_count": null,
   "metadata": {
    "ExecuteTime": {
     "end_time": "2020-10-24T04:25:20.651189Z",
     "start_time": "2020-10-24T04:25:07.593Z"
    }
   },
   "outputs": [],
   "source": [
    "\n",
    "categories = ['Economy_(GDP_per_Capita)', 'Family', 'Health_(Life_Expectancy)',\n",
    "       'Freedom', 'Trust_(Government_Corruption)', 'Generosity']\n",
    "#plotlly function for go graphs\n",
    "fig = go.Figure()\n",
    "#empty dictionary to hold australian column values for the seven aforementioned categories\n",
    "aus_data ={}\n",
    "top_data = {}\n",
    "country_name = {}\n",
    "for year in years:\n",
    "    #filtering out australian rows every years\n",
    "    aus_data[year] = df[year].loc[df[year]['Country']=='Australia'].values\n",
    "    #filtering out the top country values for evry years\n",
    "    top_data[year]  = df[year].iloc[0,:].values\n",
    "    #storing country name for all the years\n",
    "    country_name[year]  = top_data[year][0]\n",
    "  \n",
    "    \n",
    "fig.add_trace(go.Scatterpolar(\n",
    "    #plotting top country data for 2019\n",
    "          r=top_data[2019][3:-1],\n",
    "    #adding afforentioned categories\n",
    "          theta=categories,\n",
    "          fill='toself',\n",
    "          name=f'{country_name[year]}'\n",
    "    ))\n",
    "fig.add_trace(go.Scatterpolar(\n",
    "    #plotting autrlaia data for 2019\n",
    "          r=aus_data[2019][0][3:-1],\n",
    "          theta=categories,\n",
    "          fill='toself',\n",
    "          name='Australia'\n",
    "    ))\n",
    "\n",
    "fig.update_layout(\n",
    "      polar=dict(\n",
    "        radialaxis=dict(\n",
    "          visible=True,\n",
    "          range=[0, 2]\n",
    "        )),\n",
    "      title=f\"{country_name[2019]} vs. Australia - 2019\",\n",
    "      showlegend=True\n",
    "    )\n",
    "\n",
    "fig.show()\n",
    "\n"
   ]
  },
  {
   "cell_type": "code",
   "execution_count": null,
   "metadata": {
    "ExecuteTime": {
     "end_time": "2020-10-24T04:25:20.656192Z",
     "start_time": "2020-10-24T04:25:07.624Z"
    }
   },
   "outputs": [],
   "source": [
    "fig = go.Figure()\n",
    "   \n",
    "fig.add_trace(go.Scatterpolar(\n",
    "    #plotting top country data for 2015\n",
    "          r=top_data[2015][3:-1],\n",
    "          theta=categories,\n",
    "          fill='toself',\n",
    "          name=f'{country_name[2015]}'\n",
    "    ))\n",
    "fig.add_trace(go.Scatterpolar(\n",
    "    #plotting autrlaia data for 2015\n",
    "          r=aus_data[2015][0][3:-1],\n",
    "          theta=categories,\n",
    "          fill='toself',\n",
    "          name='Australia'\n",
    "    ))\n",
    "\n",
    "fig.update_layout(\n",
    "      polar=dict(\n",
    "        radialaxis=dict(\n",
    "          visible=True,\n",
    "          \n",
    "          range=[0, 2]\n",
    "        )),\n",
    "       title=f\"{country_name[2015]} vs. Australia - 2015\",\n",
    "      showlegend=True\n",
    "    )\n",
    "\n",
    "fig.show()\n",
    "\n"
   ]
  },
  {
   "cell_type": "markdown",
   "metadata": {},
   "source": [
    "### True Factor Graph"
   ]
  },
  {
   "cell_type": "code",
   "execution_count": null,
   "metadata": {
    "ExecuteTime": {
     "end_time": "2020-10-24T04:25:20.661190Z",
     "start_time": "2020-10-24T04:25:07.632Z"
    }
   },
   "outputs": [],
   "source": [
    "#fill True Factor column by finding the max value from the database\n",
    "df_concat['True_Factor']=df_concat.loc[:,['Economy_(GDP_per_Capita)','Family','Health_(Life_Expectancy)','Freedom','Trust_(Government_Corruption)','Generosity']].idxmax(axis=1)"
   ]
  },
  {
   "cell_type": "code",
   "execution_count": null,
   "metadata": {
    "ExecuteTime": {
     "end_time": "2020-10-24T04:25:20.666193Z",
     "start_time": "2020-10-24T04:25:07.648Z"
    },
    "scrolled": true
   },
   "outputs": [],
   "source": [
    "#plotly chrolopleth graph\n",
    "fig = px.choropleth(df_concat,  locations='Country',locationmode='country names', color='True_Factor',\n",
    "                           color_continuous_scale=\"Viridis\",\n",
    "                           range_color=(0, 12),\n",
    "                           scope=\"world\",\n",
    "                    animation_frame = 'year',\n",
    "                           labels={'True_Factor':'True Factor'}\n",
    "                          )\n",
    "\n",
    "fig.show()"
   ]
  },
  {
   "cell_type": "markdown",
   "metadata": {},
   "source": [
    "## Happiness Ranking of Top 10 Countries from 2015 to 2019\n",
    "\n",
    "#### Observations\n",
    "\n",
    "* Finland is the Country showed steady progress and is consistently Rank 1 in 2018 and 2019\n",
    "\n",
    "* Denmark keeps in first 3 positions from 2015 to 2019. In 2016, they were Rank 1\n",
    " \n",
    "* Switzerland was the Rank 1 in 2015 but went down is Rank 6 in 2019\n",
    "\n",
    "* The land of Midnight sun, Norway was Rank 1 in 2017\n",
    "\n",
    "* Australia was in top 10 Countries but not in there, last year. Austria comes instead.\n"
   ]
  },
  {
   "cell_type": "code",
   "execution_count": null,
   "metadata": {
    "ExecuteTime": {
     "end_time": "2020-10-24T04:25:20.705202Z",
     "start_time": "2020-10-24T04:25:07.748Z"
    }
   },
   "outputs": [],
   "source": [
    "# Creating a dataframe with only Records of top 10 ranks in each year\n",
    "df = df_concat.loc[df_concat[\"Happiness_Rank\"] <= 10].sort_values(by=['year'])\n",
    "\n",
    "# Getting the countries list\n",
    "countries = df_concat.loc[df_concat[\"Happiness_Rank\"] <= 10]['Country'].unique()\n",
    "\n",
    "# Creating a figure\n",
    "fig = go.Figure()\n",
    "\n",
    "# Looping through each country to plot its ranking from 2015 to 2019\n",
    "for country in countries: \n",
    "    \n",
    "    # Setting x values as Year and y values as Happiness_Rank from the data frame\n",
    "    x = df.loc[df['Country']==country]['year']\n",
    "    y = df.loc[df['Country']==country]['Happiness_Rank']\n",
    "    \n",
    "    # Ploting the scatter + lines\n",
    "    fig.add_trace(go.Scatter(x=x, y=y,\n",
    "                        mode='markers+lines',\n",
    "                        line=dict(width=5, dash='solid'),\n",
    "                        marker=dict(size=10,symbol='square',),\n",
    "                        name=country),\n",
    "                 )\n",
    "    \n",
    "# Changing the figure style \n",
    "fig.update_xaxes(nticks=5)\n",
    "fig.update_yaxes(tick0=1, dtick=1, autorange = \"reversed\")\n",
    "fig.update_layout(\n",
    "    title=\"Happiness Ranking of Top 10 Countries from 2015 to 2019\",\n",
    "    xaxis_title=\"Year\",\n",
    "    yaxis_title=\"Happiness Rank\",\n",
    "    font=dict(\n",
    "        family=\"Courier New, monospace\",\n",
    "        size=16,\n",
    "        color=\"#ffffff\"\n",
    "    )\n",
    ")\n",
    "# import plotly.io as pio\n",
    "# pio.write_image(fig, '../Images/ranking.png')\n",
    "\n",
    "\n",
    "fig.show()"
   ]
  }
 ],
 "metadata": {
  "kernelspec": {
   "display_name": "Python 3",
   "language": "python",
   "name": "python3"
  },
  "language_info": {
   "codemirror_mode": {
    "name": "ipython",
    "version": 3
   },
   "file_extension": ".py",
   "mimetype": "text/x-python",
   "name": "python",
   "nbconvert_exporter": "python",
   "pygments_lexer": "ipython3",
   "version": "3.8.3"
  },
  "varInspector": {
   "cols": {
    "lenName": 16,
    "lenType": 16,
    "lenVar": 40
   },
   "kernels_config": {
    "python": {
     "delete_cmd_postfix": "",
     "delete_cmd_prefix": "del ",
     "library": "var_list.py",
     "varRefreshCmd": "print(var_dic_list())"
    },
    "r": {
     "delete_cmd_postfix": ") ",
     "delete_cmd_prefix": "rm(",
     "library": "var_list.r",
     "varRefreshCmd": "cat(var_dic_list()) "
    }
   },
   "types_to_exclude": [
    "module",
    "function",
    "builtin_function_or_method",
    "instance",
    "_Feature"
   ],
   "window_display": false
  }
 },
 "nbformat": 4,
 "nbformat_minor": 4
}
