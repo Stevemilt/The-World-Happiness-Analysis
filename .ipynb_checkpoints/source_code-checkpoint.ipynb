{
 "cells": [
  {
   "cell_type": "code",
   "execution_count": 156,
   "metadata": {
    "ExecuteTime": {
     "end_time": "2020-10-19T13:14:00.878107Z",
     "start_time": "2020-10-19T13:14:00.764082Z"
    }
   },
   "outputs": [
    {
     "data": {
      "text/html": [
       "        <script type=\"text/javascript\">\n",
       "        window.PlotlyConfig = {MathJaxConfig: 'local'};\n",
       "        if (window.MathJax) {MathJax.Hub.Config({SVG: {font: \"STIX-Web\"}});}\n",
       "        if (typeof require !== 'undefined') {\n",
       "        require.undef(\"plotly\");\n",
       "        requirejs.config({\n",
       "            paths: {\n",
       "                'plotly': ['https://cdn.plot.ly/plotly-latest.min']\n",
       "            }\n",
       "        });\n",
       "        require(['plotly'], function(Plotly) {\n",
       "            window._Plotly = Plotly;\n",
       "        });\n",
       "        }\n",
       "        </script>\n",
       "        "
      ]
     },
     "metadata": {},
     "output_type": "display_data"
    },
    {
     "data": {
      "text/html": [
       "        <script type=\"text/javascript\">\n",
       "        window.PlotlyConfig = {MathJaxConfig: 'local'};\n",
       "        if (window.MathJax) {MathJax.Hub.Config({SVG: {font: \"STIX-Web\"}});}\n",
       "        if (typeof require !== 'undefined') {\n",
       "        require.undef(\"plotly\");\n",
       "        requirejs.config({\n",
       "            paths: {\n",
       "                'plotly': ['https://cdn.plot.ly/plotly-latest.min']\n",
       "            }\n",
       "        });\n",
       "        require(['plotly'], function(Plotly) {\n",
       "            window._Plotly = Plotly;\n",
       "        });\n",
       "        }\n",
       "        </script>\n",
       "        "
      ]
     },
     "metadata": {},
     "output_type": "display_data"
    }
   ],
   "source": [
    "import pandas as pd\n",
    "import matplotlib.pyplot as plt\n",
    "import seaborn as sns\n",
    "import plotly.express as px\n",
    "#Graphing libraries\n",
    "import cufflinks as cf\n",
    "from plotly.offline import download_plotlyjs,init_notebook_mode,plot,iplot\n",
    "init_notebook_mode(connected=True)\n",
    "cf.go_offline()\n",
    "cf.set_config_file(world_readable=True,theme='Solar')\n"
   ]
  },
  {
   "cell_type": "code",
   "execution_count": null,
   "metadata": {
    "ExecuteTime": {
     "start_time": "2020-10-19T13:15:32.139Z"
    }
   },
   "outputs": [],
   "source": [
    "years = [x for x in range(2015,2020)]\n",
    "df={}\n",
    "for year in years:\n",
    "    url = f\"../UWA-Project/Output/{year}.csv\"\n",
    "    pd.set_option(\"display.max_rows\",800)\n",
    "    df[year] = pd.read_csv(url)\n",
    "    \n",
    "url_concat = f\"../UWA-Project/Output/concated_df.csv\"\n",
    "df_concat = pd.read_csv(url_concat)\n",
    "#Unpacking the df\n",
    "df_2015,df_2016,df_2017,df_2018,df_2019 = df[2015],df[2016],df[2017],df[2018],df[2019]"
   ]
  },
  {
   "cell_type": "code",
   "execution_count": null,
   "metadata": {
    "ExecuteTime": {
     "start_time": "2020-10-19T13:15:34.720Z"
    }
   },
   "outputs": [],
   "source": [
    "for year in years:\n",
    "    print(f\"\"\"{year} \\n{df[year].columns}\n",
    "----------\"\"\")"
   ]
  },
  {
   "cell_type": "code",
   "execution_count": null,
   "metadata": {
    "ExecuteTime": {
     "start_time": "2020-10-19T13:15:35.148Z"
    }
   },
   "outputs": [],
   "source": [
    "df[2016].tail(10)"
   ]
  },
  {
   "cell_type": "code",
   "execution_count": null,
   "metadata": {
    "ExecuteTime": {
     "start_time": "2020-10-19T13:15:09.954Z"
    },
    "scrolled": false
   },
   "outputs": [],
   "source": [
    "top_10 = {}\n",
    "bottom_10 = {}\n",
    "for year in years:\n",
    "        top_10[year] =df[year].set_index('Country')\n",
    "        top_10[year] = top_10[year].loc[:,'Economy_(GDP_per_Capita)':].head(10)\n",
    "        top_10[year].iplot(kind='barh',title= f'{year} top',barmode='stack',bargap=.1)\n",
    "        \n",
    "        bottom_10[year] = df[year].set_index('Country')\n",
    "        bottom_10[year] = bottom_10[year].loc[:,'Economy_(GDP_per_Capita)':].tail(10)\n",
    "        bottom_10[year].iplot(kind='barh',title= f'{year} bottom',barmode='stack',bargap=.1)"
   ]
  },
  {
   "cell_type": "code",
   "execution_count": null,
   "metadata": {
    "ExecuteTime": {
     "start_time": "2020-10-19T13:15:10.758Z"
    }
   },
   "outputs": [],
   "source": [
    "df_concat.sort_values('Year',inplace=True)\n",
    "df_concat"
   ]
  },
  {
   "cell_type": "code",
   "execution_count": null,
   "metadata": {
    "ExecuteTime": {
     "start_time": "2020-10-19T13:15:11.753Z"
    }
   },
   "outputs": [],
   "source": [
    "fig = px.scatter(df_concat, x=\"Economy_(GDP_per_Capita)\",color=\"Country\", y=\"Happiness_Rank\", animation_frame=\"Year\", animation_group=\"Country\",size=\"Happiness_Score\", hover_name=\"Country\", log_x=True, size_max=40)# color=\"continent\"\n",
    "\n",
    "fig[\"layout\"].pop(\"updatemenus\") # optional, drop animation buttons\n",
    "fig.show()"
   ]
  }
 ],
 "metadata": {
  "kernelspec": {
   "display_name": "Python 3",
   "language": "python",
   "name": "python3"
  },
  "language_info": {
   "codemirror_mode": {
    "name": "ipython",
    "version": 3
   },
   "file_extension": ".py",
   "mimetype": "text/x-python",
   "name": "python",
   "nbconvert_exporter": "python",
   "pygments_lexer": "ipython3",
   "version": "3.8.3"
  },
  "varInspector": {
   "cols": {
    "lenName": 16,
    "lenType": 16,
    "lenVar": 40
   },
   "kernels_config": {
    "python": {
     "delete_cmd_postfix": "",
     "delete_cmd_prefix": "del ",
     "library": "var_list.py",
     "varRefreshCmd": "print(var_dic_list())"
    },
    "r": {
     "delete_cmd_postfix": ") ",
     "delete_cmd_prefix": "rm(",
     "library": "var_list.r",
     "varRefreshCmd": "cat(var_dic_list()) "
    }
   },
   "types_to_exclude": [
    "module",
    "function",
    "builtin_function_or_method",
    "instance",
    "_Feature"
   ],
   "window_display": false
  }
 },
 "nbformat": 4,
 "nbformat_minor": 4
}
