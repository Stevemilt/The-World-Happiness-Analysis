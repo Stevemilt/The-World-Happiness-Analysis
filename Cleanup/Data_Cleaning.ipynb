{
 "cells": [
  {
   "cell_type": "code",
   "execution_count": 42,
   "metadata": {
    "ExecuteTime": {
     "end_time": "2020-10-17T05:32:13.637508Z",
     "start_time": "2020-10-17T05:32:13.634509Z"
    }
   },
   "outputs": [],
   "source": [
    "# Dependencies and Setup\n",
    "import pandas as pd"
   ]
  },
  {
   "cell_type": "code",
   "execution_count": 43,
   "metadata": {
    "ExecuteTime": {
     "end_time": "2020-10-17T05:32:15.041144Z",
     "start_time": "2020-10-17T05:32:15.027151Z"
    }
   },
   "outputs": [
    {
     "name": "stdout",
     "output_type": "stream",
     "text": [
      "<class 'pandas.core.frame.DataFrame'>\n",
      "RangeIndex: 158 entries, 0 to 157\n",
      "Data columns (total 10 columns):\n",
      " #   Column                         Non-Null Count  Dtype  \n",
      "---  ------                         --------------  -----  \n",
      " 0   Country                        158 non-null    object \n",
      " 1   Happiness Rank                 158 non-null    int64  \n",
      " 2   Happiness Score                158 non-null    float64\n",
      " 3   Economy (GDP per Capita)       158 non-null    float64\n",
      " 4   Family                         158 non-null    float64\n",
      " 5   Health (Life Expectancy)       158 non-null    float64\n",
      " 6   Freedom                        158 non-null    float64\n",
      " 7   Trust (Government Corruption)  158 non-null    float64\n",
      " 8   Generosity                     158 non-null    float64\n",
      " 9   Dystopia Residual              158 non-null    float64\n",
      "dtypes: float64(8), int64(1), object(1)\n",
      "memory usage: 12.5+ KB\n"
     ]
    }
   ],
   "source": [
    "# File to Load (Remember to Change These)\n",
    "file_to_load = \"Resources/2015.csv\"\n",
    "\n",
    "# Read Purchasing File and store into Pandas data frame\n",
    "df2015 = pd.read_csv(file_to_load)\n",
    "\n",
    "#Drop unnecessary columns\n",
    "df2015.drop(columns=['Region','Standard Error'], inplace= True)\n",
    "\n",
    "df2015.info()"
   ]
  },
  {
   "cell_type": "code",
   "execution_count": 44,
   "metadata": {
    "ExecuteTime": {
     "end_time": "2020-10-17T05:32:16.703028Z",
     "start_time": "2020-10-17T05:32:16.683040Z"
    }
   },
   "outputs": [
    {
     "name": "stdout",
     "output_type": "stream",
     "text": [
      "<class 'pandas.core.frame.DataFrame'>\n",
      "RangeIndex: 157 entries, 0 to 156\n",
      "Data columns (total 10 columns):\n",
      " #   Column                         Non-Null Count  Dtype  \n",
      "---  ------                         --------------  -----  \n",
      " 0   Country                        157 non-null    object \n",
      " 1   Happiness Rank                 157 non-null    int64  \n",
      " 2   Happiness Score                157 non-null    float64\n",
      " 3   Economy (GDP per Capita)       157 non-null    float64\n",
      " 4   Family                         157 non-null    float64\n",
      " 5   Health (Life Expectancy)       157 non-null    float64\n",
      " 6   Freedom                        157 non-null    float64\n",
      " 7   Trust (Government Corruption)  157 non-null    float64\n",
      " 8   Generosity                     157 non-null    float64\n",
      " 9   Dystopia Residual              157 non-null    float64\n",
      "dtypes: float64(8), int64(1), object(1)\n",
      "memory usage: 12.4+ KB\n"
     ]
    }
   ],
   "source": [
    "# File to Load (Remember to Change These)\n",
    "file_to_load = \"Resources/2016.csv\"\n",
    "\n",
    "# Read Purchasing File and store into Pandas data frame\n",
    "df2016 = pd.read_csv(file_to_load)\n",
    "\n",
    "#Drop unnecessary columns\n",
    "df2016.drop(columns=['Region','Lower Confidence Interval','Upper Confidence Interval'], inplace= True)\n",
    "\n",
    "df2016.info()"
   ]
  },
  {
   "cell_type": "code",
   "execution_count": 45,
   "metadata": {
    "ExecuteTime": {
     "end_time": "2020-10-17T05:32:18.563073Z",
     "start_time": "2020-10-17T05:32:18.547083Z"
    }
   },
   "outputs": [
    {
     "name": "stdout",
     "output_type": "stream",
     "text": [
      "<class 'pandas.core.frame.DataFrame'>\n",
      "RangeIndex: 155 entries, 0 to 154\n",
      "Data columns (total 10 columns):\n",
      " #   Column                         Non-Null Count  Dtype  \n",
      "---  ------                         --------------  -----  \n",
      " 0   Country                        155 non-null    object \n",
      " 1   Happiness Rank                 155 non-null    int64  \n",
      " 2   Happiness Score                155 non-null    float64\n",
      " 3   Economy (GDP per Capita)       155 non-null    float64\n",
      " 4   Family                         155 non-null    float64\n",
      " 5   Health (Life Expectancy)       155 non-null    float64\n",
      " 6   Freedom                        155 non-null    float64\n",
      " 7   Generosity                     155 non-null    float64\n",
      " 8   Trust (Government Corruption)  155 non-null    float64\n",
      " 9   Dystopia Residual              155 non-null    float64\n",
      "dtypes: float64(8), int64(1), object(1)\n",
      "memory usage: 12.2+ KB\n"
     ]
    }
   ],
   "source": [
    "# File to Load (Remember to Change These)\n",
    "file_to_load = \"Resources/2017.csv\"\n",
    "\n",
    "# Read Purchasing File and store into Pandas data frame\n",
    "df2017 = pd.read_csv(file_to_load)\n",
    "\n",
    "#Drop unnecessary columns\n",
    "df2017.drop(columns=['Whisker.high','Whisker.low'], inplace= True)\n",
    "\n",
    "# Rename columns to match with other data frames\n",
    "df2017 = df2017.rename(columns={\"Happiness.Rank\": \"Happiness Rank\",\n",
    "                       \"Happiness.Score\": \"Happiness Score\",\n",
    "                       \"Economy..GDP.per.Capita.\": \"Economy (GDP per Capita) \",\n",
    "                       \"Health..Life.Expectancy.\": \"Health (Life Expectancy)\",\n",
    "                       \"Trust..Government.Corruption.\": \"Trust (Government Corruption)\",\n",
    "                       \"Dystopia.Residual\": \"Dystopia Residual\"\n",
    "                      })\n",
    "\n",
    "df2017.info()"
   ]
  },
  {
   "cell_type": "code",
   "execution_count": 46,
   "metadata": {
    "ExecuteTime": {
     "end_time": "2020-10-17T05:32:20.739223Z",
     "start_time": "2020-10-17T05:32:20.723233Z"
    }
   },
   "outputs": [
    {
     "name": "stdout",
     "output_type": "stream",
     "text": [
      "<class 'pandas.core.frame.DataFrame'>\n",
      "RangeIndex: 156 entries, 0 to 155\n",
      "Data columns (total 9 columns):\n",
      " #   Column                         Non-Null Count  Dtype  \n",
      "---  ------                         --------------  -----  \n",
      " 0   Happiness Rank                 156 non-null    int64  \n",
      " 1   Country                        156 non-null    object \n",
      " 2   Happiness Score                156 non-null    float64\n",
      " 3   Economy (GDP per Capita)       156 non-null    float64\n",
      " 4   Family                         156 non-null    float64\n",
      " 5   Health (Life Expectancy)       156 non-null    float64\n",
      " 6   Freedom                        156 non-null    float64\n",
      " 7   Generosity                     156 non-null    float64\n",
      " 8   Trust (Government Corruption)  155 non-null    float64\n",
      "dtypes: float64(7), int64(1), object(1)\n",
      "memory usage: 11.1+ KB\n"
     ]
    }
   ],
   "source": [
    "# File to Load (Remember to Change These)\n",
    "file_to_load = \"Resources/2018.csv\"\n",
    "\n",
    "# Read Purchasing File and store into Pandas data frame\n",
    "df2018 = pd.read_csv(file_to_load)\n",
    "\n",
    "# Rename columns to match with other data frames\n",
    "df2018 = df2018.rename(columns={\"Country or region\": \"Country\",\n",
    "                       \"Score\": \"Happiness Score\",\n",
    "                       \"Overall rank\": \"Happiness Rank\",\n",
    "                       \"GDP per capita\": \"Economy (GDP per Capita) \",\n",
    "                       \"Social support\": \"Family\",\n",
    "                       \"Healthy life expectancy\": \"Health (Life Expectancy)\",\n",
    "                       \"Perceptions of corruption\": \"Trust (Government Corruption)\",\n",
    "                       \"Freedom to make life choices\": \"Freedom\"\n",
    "                      })\n",
    "\n",
    "# add dystopia\n",
    "\n",
    "df2018.info()"
   ]
  },
  {
   "cell_type": "code",
   "execution_count": 47,
   "metadata": {
    "ExecuteTime": {
     "end_time": "2020-10-17T05:32:23.417528Z",
     "start_time": "2020-10-17T05:32:23.395537Z"
    }
   },
   "outputs": [
    {
     "name": "stdout",
     "output_type": "stream",
     "text": [
      "<class 'pandas.core.frame.DataFrame'>\n",
      "RangeIndex: 156 entries, 0 to 155\n",
      "Data columns (total 9 columns):\n",
      " #   Column                         Non-Null Count  Dtype  \n",
      "---  ------                         --------------  -----  \n",
      " 0   Happiness Rank                 156 non-null    int64  \n",
      " 1   Country                        156 non-null    object \n",
      " 2   Happiness Score                156 non-null    float64\n",
      " 3   Economy (GDP per Capita)       156 non-null    float64\n",
      " 4   Family                         156 non-null    float64\n",
      " 5   Health (Life Expectancy)       156 non-null    float64\n",
      " 6   Freedom                        156 non-null    float64\n",
      " 7   Generosity                     156 non-null    float64\n",
      " 8   Trust (Government Corruption)  156 non-null    float64\n",
      "dtypes: float64(7), int64(1), object(1)\n",
      "memory usage: 11.1+ KB\n"
     ]
    }
   ],
   "source": [
    "# File to Load (Remember to Change These)\n",
    "file_to_load = \"Resources/2019.csv\"\n",
    "\n",
    "# Read Purchasing File and store into Pandas data frame\n",
    "df2019 = pd.read_csv(file_to_load)\n",
    "\n",
    "# Rename columns to match with other data frames\n",
    "df2019 = df2019.rename(columns={\"Overall rank\": \"Happiness Rank\",\n",
    "                                \"Country or region\": \"Country\",\n",
    "                                \"Score\": \"Happiness Score\",\n",
    "                                \"GDP per capita\": \"Economy (GDP per Capita) \",\n",
    "                                \"Social support\": \"Family\",\n",
    "                                \"Healthy life expectancy\": \"Health (Life Expectancy)\",\n",
    "                                \"Perceptions of corruption\": \"Trust (Government Corruption)\",\n",
    "                                \"Freedom to make life choices\": \"Freedom\"\n",
    "                               })\n",
    "\n",
    "df2019.info()"
   ]
  },
  {
   "cell_type": "code",
   "execution_count": 39,
   "metadata": {
    "ExecuteTime": {
     "end_time": "2020-10-17T05:17:18.754533Z",
     "start_time": "2020-10-17T05:17:18.545530Z"
    }
   },
   "outputs": [
    {
     "name": "stdout",
     "output_type": "stream",
     "text": [
      "<class 'pandas.core.frame.DataFrame'>\n",
      "Int64Index: 164 entries, 0 to 163\n",
      "Data columns (total 19 columns):\n",
      " #   Column                              Non-Null Count  Dtype  \n",
      "---  ------                              --------------  -----  \n",
      " 0   Country                             164 non-null    object \n",
      " 1   Happiness Rank_2015                 158 non-null    float64\n",
      " 2   Happiness Score_2015                158 non-null    float64\n",
      " 3   Economy (GDP per Capita)_2015       158 non-null    float64\n",
      " 4   Family_2015                         158 non-null    float64\n",
      " 5   Health (Life Expectancy)_2015       158 non-null    float64\n",
      " 6   Freedom_2015                        158 non-null    float64\n",
      " 7   Trust (Government Corruption)_2015  158 non-null    float64\n",
      " 8   Generosity_2015                     158 non-null    float64\n",
      " 9   Dystopia Residual_2015              158 non-null    float64\n",
      " 10  Happiness Rank_2016                 157 non-null    float64\n",
      " 11  Happiness Score_2016                157 non-null    float64\n",
      " 12  Economy (GDP per Capita)_2016       157 non-null    float64\n",
      " 13  Family_2016                         157 non-null    float64\n",
      " 14  Health (Life Expectancy)_2016       157 non-null    float64\n",
      " 15  Freedom_2016                        157 non-null    float64\n",
      " 16  Trust (Government Corruption)_2016  157 non-null    float64\n",
      " 17  Generosity_2016                     157 non-null    float64\n",
      " 18  Dystopia Residual_2016              157 non-null    float64\n",
      "dtypes: float64(18), object(1)\n",
      "memory usage: 25.6+ KB\n"
     ]
    },
    {
     "data": {
      "text/html": [
       "<div>\n",
       "<style scoped>\n",
       "    .dataframe tbody tr th:only-of-type {\n",
       "        vertical-align: middle;\n",
       "    }\n",
       "\n",
       "    .dataframe tbody tr th {\n",
       "        vertical-align: top;\n",
       "    }\n",
       "\n",
       "    .dataframe thead th {\n",
       "        text-align: right;\n",
       "    }\n",
       "</style>\n",
       "<table border=\"1\" class=\"dataframe\">\n",
       "  <thead>\n",
       "    <tr style=\"text-align: right;\">\n",
       "      <th></th>\n",
       "      <th>Country</th>\n",
       "      <th>Happiness Rank</th>\n",
       "      <th>Happiness Score</th>\n",
       "      <th>Economy (GDP per Capita)</th>\n",
       "      <th>Family</th>\n",
       "      <th>Health (Life Expectancy)</th>\n",
       "      <th>Freedom</th>\n",
       "      <th>Trust (Government Corruption)</th>\n",
       "      <th>Generosity</th>\n",
       "      <th>Dystopia Residual</th>\n",
       "    </tr>\n",
       "  </thead>\n",
       "  <tbody>\n",
       "    <tr>\n",
       "      <th>21</th>\n",
       "      <td>Oman</td>\n",
       "      <td>22</td>\n",
       "      <td>6.853</td>\n",
       "      <td>1.36011</td>\n",
       "      <td>1.08182</td>\n",
       "      <td>0.76276</td>\n",
       "      <td>0.63274</td>\n",
       "      <td>0.32524</td>\n",
       "      <td>0.21542</td>\n",
       "      <td>2.47489</td>\n",
       "    </tr>\n",
       "    <tr>\n",
       "      <th>90</th>\n",
       "      <td>Somaliland region</td>\n",
       "      <td>91</td>\n",
       "      <td>5.057</td>\n",
       "      <td>0.18847</td>\n",
       "      <td>0.95152</td>\n",
       "      <td>0.43873</td>\n",
       "      <td>0.46582</td>\n",
       "      <td>0.39928</td>\n",
       "      <td>0.50318</td>\n",
       "      <td>2.11032</td>\n",
       "    </tr>\n",
       "    <tr>\n",
       "      <th>93</th>\n",
       "      <td>Mozambique</td>\n",
       "      <td>94</td>\n",
       "      <td>4.971</td>\n",
       "      <td>0.08308</td>\n",
       "      <td>1.02626</td>\n",
       "      <td>0.09131</td>\n",
       "      <td>0.34037</td>\n",
       "      <td>0.15603</td>\n",
       "      <td>0.22269</td>\n",
       "      <td>3.05137</td>\n",
       "    </tr>\n",
       "    <tr>\n",
       "      <th>96</th>\n",
       "      <td>Lesotho</td>\n",
       "      <td>97</td>\n",
       "      <td>4.898</td>\n",
       "      <td>0.37545</td>\n",
       "      <td>1.04103</td>\n",
       "      <td>0.07612</td>\n",
       "      <td>0.31767</td>\n",
       "      <td>0.12504</td>\n",
       "      <td>0.16388</td>\n",
       "      <td>2.79832</td>\n",
       "    </tr>\n",
       "    <tr>\n",
       "      <th>100</th>\n",
       "      <td>Swaziland</td>\n",
       "      <td>101</td>\n",
       "      <td>4.867</td>\n",
       "      <td>0.71206</td>\n",
       "      <td>1.07284</td>\n",
       "      <td>0.07566</td>\n",
       "      <td>0.30658</td>\n",
       "      <td>0.03060</td>\n",
       "      <td>0.18259</td>\n",
       "      <td>2.48676</td>\n",
       "    </tr>\n",
       "    <tr>\n",
       "      <th>125</th>\n",
       "      <td>Djibouti</td>\n",
       "      <td>126</td>\n",
       "      <td>4.369</td>\n",
       "      <td>0.44025</td>\n",
       "      <td>0.59207</td>\n",
       "      <td>0.36291</td>\n",
       "      <td>0.46074</td>\n",
       "      <td>0.28105</td>\n",
       "      <td>0.18093</td>\n",
       "      <td>2.05125</td>\n",
       "    </tr>\n",
       "    <tr>\n",
       "      <th>147</th>\n",
       "      <td>Central African Republic</td>\n",
       "      <td>148</td>\n",
       "      <td>3.678</td>\n",
       "      <td>0.07850</td>\n",
       "      <td>0.00000</td>\n",
       "      <td>0.06699</td>\n",
       "      <td>0.48879</td>\n",
       "      <td>0.08289</td>\n",
       "      <td>0.23835</td>\n",
       "      <td>2.72230</td>\n",
       "    </tr>\n",
       "  </tbody>\n",
       "</table>\n",
       "</div>"
      ],
      "text/plain": [
       "                      Country  Happiness Rank  Happiness Score  \\\n",
       "21                       Oman              22            6.853   \n",
       "90          Somaliland region              91            5.057   \n",
       "93                 Mozambique              94            4.971   \n",
       "96                    Lesotho              97            4.898   \n",
       "100                 Swaziland             101            4.867   \n",
       "125                  Djibouti             126            4.369   \n",
       "147  Central African Republic             148            3.678   \n",
       "\n",
       "     Economy (GDP per Capita)   Family  Health (Life Expectancy)  Freedom  \\\n",
       "21                    1.36011  1.08182                   0.76276  0.63274   \n",
       "90                    0.18847  0.95152                   0.43873  0.46582   \n",
       "93                    0.08308  1.02626                   0.09131  0.34037   \n",
       "96                    0.37545  1.04103                   0.07612  0.31767   \n",
       "100                   0.71206  1.07284                   0.07566  0.30658   \n",
       "125                   0.44025  0.59207                   0.36291  0.46074   \n",
       "147                   0.07850  0.00000                   0.06699  0.48879   \n",
       "\n",
       "     Trust (Government Corruption)  Generosity  Dystopia Residual  \n",
       "21                         0.32524     0.21542            2.47489  \n",
       "90                         0.39928     0.50318            2.11032  \n",
       "93                         0.15603     0.22269            3.05137  \n",
       "96                         0.12504     0.16388            2.79832  \n",
       "100                        0.03060     0.18259            2.48676  \n",
       "125                        0.28105     0.18093            2.05125  \n",
       "147                        0.08289     0.23835            2.72230  "
      ]
     },
     "execution_count": 39,
     "metadata": {},
     "output_type": "execute_result"
    }
   ],
   "source": [
    "merge_df = df2015.merge(df2016, on=['Country'], how='outer', suffixes=['_2015','_2016'])\n",
    "merge_df.info()\n",
    "\n",
    "df2015[~df2015.Country.isin(df2016.Country)]"
   ]
  },
  {
   "cell_type": "code",
   "execution_count": 40,
   "metadata": {
    "ExecuteTime": {
     "end_time": "2020-10-17T05:23:29.897065Z",
     "start_time": "2020-10-17T05:23:29.878076Z"
    }
   },
   "outputs": [
    {
     "data": {
      "text/html": [
       "<div>\n",
       "<style scoped>\n",
       "    .dataframe tbody tr th:only-of-type {\n",
       "        vertical-align: middle;\n",
       "    }\n",
       "\n",
       "    .dataframe tbody tr th {\n",
       "        vertical-align: top;\n",
       "    }\n",
       "\n",
       "    .dataframe thead th {\n",
       "        text-align: right;\n",
       "    }\n",
       "</style>\n",
       "<table border=\"1\" class=\"dataframe\">\n",
       "  <thead>\n",
       "    <tr style=\"text-align: right;\">\n",
       "      <th></th>\n",
       "      <th>Country</th>\n",
       "      <th>Happiness Rank</th>\n",
       "      <th>Happiness Score</th>\n",
       "      <th>Economy (GDP per Capita)</th>\n",
       "      <th>Family</th>\n",
       "      <th>Health (Life Expectancy)</th>\n",
       "      <th>Freedom</th>\n",
       "      <th>Trust (Government Corruption)</th>\n",
       "      <th>Generosity</th>\n",
       "      <th>Dystopia Residual</th>\n",
       "    </tr>\n",
       "  </thead>\n",
       "  <tbody>\n",
       "    <tr>\n",
       "      <th>14</th>\n",
       "      <td>Puerto Rico</td>\n",
       "      <td>15</td>\n",
       "      <td>7.039</td>\n",
       "      <td>1.35943</td>\n",
       "      <td>1.08113</td>\n",
       "      <td>0.77758</td>\n",
       "      <td>0.46823</td>\n",
       "      <td>0.12275</td>\n",
       "      <td>0.22202</td>\n",
       "      <td>3.00760</td>\n",
       "    </tr>\n",
       "    <tr>\n",
       "      <th>51</th>\n",
       "      <td>Belize</td>\n",
       "      <td>52</td>\n",
       "      <td>5.956</td>\n",
       "      <td>0.87616</td>\n",
       "      <td>0.68655</td>\n",
       "      <td>0.45569</td>\n",
       "      <td>0.51231</td>\n",
       "      <td>0.10771</td>\n",
       "      <td>0.23684</td>\n",
       "      <td>3.08039</td>\n",
       "    </tr>\n",
       "    <tr>\n",
       "      <th>75</th>\n",
       "      <td>Somalia</td>\n",
       "      <td>76</td>\n",
       "      <td>5.440</td>\n",
       "      <td>0.00000</td>\n",
       "      <td>0.33613</td>\n",
       "      <td>0.11466</td>\n",
       "      <td>0.56778</td>\n",
       "      <td>0.31180</td>\n",
       "      <td>0.27225</td>\n",
       "      <td>3.83772</td>\n",
       "    </tr>\n",
       "    <tr>\n",
       "      <th>96</th>\n",
       "      <td>Somaliland Region</td>\n",
       "      <td>97</td>\n",
       "      <td>5.057</td>\n",
       "      <td>0.25558</td>\n",
       "      <td>0.75862</td>\n",
       "      <td>0.33108</td>\n",
       "      <td>0.39130</td>\n",
       "      <td>0.36794</td>\n",
       "      <td>0.51479</td>\n",
       "      <td>2.43801</td>\n",
       "    </tr>\n",
       "    <tr>\n",
       "      <th>112</th>\n",
       "      <td>Namibia</td>\n",
       "      <td>113</td>\n",
       "      <td>4.574</td>\n",
       "      <td>0.93287</td>\n",
       "      <td>0.70362</td>\n",
       "      <td>0.34745</td>\n",
       "      <td>0.48614</td>\n",
       "      <td>0.10398</td>\n",
       "      <td>0.07795</td>\n",
       "      <td>1.92198</td>\n",
       "    </tr>\n",
       "    <tr>\n",
       "      <th>142</th>\n",
       "      <td>South Sudan</td>\n",
       "      <td>143</td>\n",
       "      <td>3.832</td>\n",
       "      <td>0.39394</td>\n",
       "      <td>0.18519</td>\n",
       "      <td>0.15781</td>\n",
       "      <td>0.19662</td>\n",
       "      <td>0.13015</td>\n",
       "      <td>0.25899</td>\n",
       "      <td>2.50929</td>\n",
       "    </tr>\n",
       "  </tbody>\n",
       "</table>\n",
       "</div>"
      ],
      "text/plain": [
       "               Country  Happiness Rank  Happiness Score  \\\n",
       "14         Puerto Rico              15            7.039   \n",
       "51              Belize              52            5.956   \n",
       "75             Somalia              76            5.440   \n",
       "96   Somaliland Region              97            5.057   \n",
       "112            Namibia             113            4.574   \n",
       "142        South Sudan             143            3.832   \n",
       "\n",
       "     Economy (GDP per Capita)   Family  Health (Life Expectancy)  Freedom  \\\n",
       "14                    1.35943  1.08113                   0.77758  0.46823   \n",
       "51                    0.87616  0.68655                   0.45569  0.51231   \n",
       "75                    0.00000  0.33613                   0.11466  0.56778   \n",
       "96                    0.25558  0.75862                   0.33108  0.39130   \n",
       "112                   0.93287  0.70362                   0.34745  0.48614   \n",
       "142                   0.39394  0.18519                   0.15781  0.19662   \n",
       "\n",
       "     Trust (Government Corruption)  Generosity  Dystopia Residual  \n",
       "14                         0.12275     0.22202            3.00760  \n",
       "51                         0.10771     0.23684            3.08039  \n",
       "75                         0.31180     0.27225            3.83772  \n",
       "96                         0.36794     0.51479            2.43801  \n",
       "112                        0.10398     0.07795            1.92198  \n",
       "142                        0.13015     0.25899            2.50929  "
      ]
     },
     "execution_count": 40,
     "metadata": {},
     "output_type": "execute_result"
    }
   ],
   "source": [
    "df2016[~df2016.Country.isin(df2015.Country)]"
   ]
  },
  {
   "cell_type": "code",
   "execution_count": null,
   "metadata": {},
   "outputs": [],
   "source": []
  }
 ],
 "metadata": {
  "hide_input": false,
  "kernelspec": {
   "display_name": "Python 3",
   "language": "python",
   "name": "python3"
  },
  "language_info": {
   "codemirror_mode": {
    "name": "ipython",
    "version": 3
   },
   "file_extension": ".py",
   "mimetype": "text/x-python",
   "name": "python",
   "nbconvert_exporter": "python",
   "pygments_lexer": "ipython3",
   "version": "3.7.9"
  },
  "varInspector": {
   "cols": {
    "lenName": 16,
    "lenType": 16,
    "lenVar": 40
   },
   "kernels_config": {
    "python": {
     "delete_cmd_postfix": "",
     "delete_cmd_prefix": "del ",
     "library": "var_list.py",
     "varRefreshCmd": "print(var_dic_list())"
    },
    "r": {
     "delete_cmd_postfix": ") ",
     "delete_cmd_prefix": "rm(",
     "library": "var_list.r",
     "varRefreshCmd": "cat(var_dic_list()) "
    }
   },
   "types_to_exclude": [
    "module",
    "function",
    "builtin_function_or_method",
    "instance",
    "_Feature"
   ],
   "window_display": false
  }
 },
 "nbformat": 4,
 "nbformat_minor": 4
}
