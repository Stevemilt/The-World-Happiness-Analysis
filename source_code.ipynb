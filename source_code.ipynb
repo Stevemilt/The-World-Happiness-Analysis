{
 "cells": [
  {
   "cell_type": "code",
   "execution_count": 72,
   "metadata": {
    "ExecuteTime": {
     "end_time": "2020-10-24T01:59:50.881104Z",
     "start_time": "2020-10-24T01:59:50.795081Z"
    }
   },
   "outputs": [],
   "source": [
    "import pandas as pd\n",
    "import matplotlib.pyplot as plt\n",
    "#Graphing libraries\n",
    "#import for seaborn graphs\n",
    "import seaborn as sns\n",
    "import plotly.express as px\n",
    "from plotly.subplots import make_subplots\n",
    "import plotly.graph_objs as go\n",
    "import plotly.io as pio\n",
    "pio.templates.default = \"plotly_dark\"\n"
   ]
  },
  {
   "cell_type": "code",
   "execution_count": 73,
   "metadata": {
    "ExecuteTime": {
     "end_time": "2020-10-24T01:59:51.139166Z",
     "start_time": "2020-10-24T01:59:50.906109Z"
    }
   },
   "outputs": [],
   "source": [
    "#Retriveing the data from Output folder and combining into the dataframe and assigning variables\n",
    "#using loop to retrives 5 csv files.\n",
    "years = [x for x in range(2015,2020)]\n",
    "df={}\n",
    "for year in years:\n",
    "    url = f\"../UWA-Project/Output/{year}.csv\"\n",
    "    pd.set_option(\"display.max_rows\",800)\n",
    "    df[year] = pd.read_csv(url)\n",
    "#Retreivng the concated csv file    \n",
    "url_concat = f\"../UWA-Project/Output/concated_df.csv\"\n",
    "df_concat = pd.read_csv(url_concat)\n",
    "#Unpacking the dataframe\n",
    "df_2015,df_2016,df_2017,df_2018,df_2019 = df[2015],df[2016],df[2017],df[2018],df[2019]"
   ]
  },
  {
   "cell_type": "code",
   "execution_count": 75,
   "metadata": {
    "ExecuteTime": {
     "end_time": "2020-10-24T01:59:51.476252Z",
     "start_time": "2020-10-24T01:59:51.241192Z"
    }
   },
   "outputs": [
    {
     "data": {
      "text/html": [
       "<div>\n",
       "<style scoped>\n",
       "    .dataframe tbody tr th:only-of-type {\n",
       "        vertical-align: middle;\n",
       "    }\n",
       "\n",
       "    .dataframe tbody tr th {\n",
       "        vertical-align: top;\n",
       "    }\n",
       "\n",
       "    .dataframe thead th {\n",
       "        text-align: right;\n",
       "    }\n",
       "</style>\n",
       "<table border=\"1\" class=\"dataframe\">\n",
       "  <thead>\n",
       "    <tr style=\"text-align: right;\">\n",
       "      <th></th>\n",
       "      <th>Country</th>\n",
       "      <th>Happiness_Rank</th>\n",
       "      <th>Happiness_Score</th>\n",
       "      <th>Economy_(GDP_per_Capita)</th>\n",
       "      <th>Family</th>\n",
       "      <th>Health_(Life_Expectancy)</th>\n",
       "      <th>Freedom</th>\n",
       "      <th>Trust_(Government_Corruption)</th>\n",
       "      <th>Generosity</th>\n",
       "      <th>Dystopia_Residual</th>\n",
       "    </tr>\n",
       "  </thead>\n",
       "  <tbody>\n",
       "    <tr>\n",
       "      <th>147</th>\n",
       "      <td>Madagascar</td>\n",
       "      <td>148</td>\n",
       "      <td>3.695</td>\n",
       "      <td>0.27954</td>\n",
       "      <td>0.46115</td>\n",
       "      <td>0.37109</td>\n",
       "      <td>0.13684</td>\n",
       "      <td>0.07506</td>\n",
       "      <td>0.22040</td>\n",
       "      <td>2.15075</td>\n",
       "    </tr>\n",
       "    <tr>\n",
       "      <th>148</th>\n",
       "      <td>Tanzania</td>\n",
       "      <td>149</td>\n",
       "      <td>3.666</td>\n",
       "      <td>0.47155</td>\n",
       "      <td>0.77623</td>\n",
       "      <td>0.35700</td>\n",
       "      <td>0.31760</td>\n",
       "      <td>0.05099</td>\n",
       "      <td>0.31472</td>\n",
       "      <td>1.37769</td>\n",
       "    </tr>\n",
       "    <tr>\n",
       "      <th>149</th>\n",
       "      <td>Liberia</td>\n",
       "      <td>150</td>\n",
       "      <td>3.622</td>\n",
       "      <td>0.10706</td>\n",
       "      <td>0.50353</td>\n",
       "      <td>0.23165</td>\n",
       "      <td>0.25748</td>\n",
       "      <td>0.04852</td>\n",
       "      <td>0.24063</td>\n",
       "      <td>2.23284</td>\n",
       "    </tr>\n",
       "    <tr>\n",
       "      <th>150</th>\n",
       "      <td>Guinea</td>\n",
       "      <td>151</td>\n",
       "      <td>3.607</td>\n",
       "      <td>0.22415</td>\n",
       "      <td>0.31090</td>\n",
       "      <td>0.18829</td>\n",
       "      <td>0.30953</td>\n",
       "      <td>0.11920</td>\n",
       "      <td>0.29914</td>\n",
       "      <td>2.15604</td>\n",
       "    </tr>\n",
       "    <tr>\n",
       "      <th>151</th>\n",
       "      <td>Rwanda</td>\n",
       "      <td>152</td>\n",
       "      <td>3.515</td>\n",
       "      <td>0.32846</td>\n",
       "      <td>0.61586</td>\n",
       "      <td>0.31865</td>\n",
       "      <td>0.54320</td>\n",
       "      <td>0.50521</td>\n",
       "      <td>0.23552</td>\n",
       "      <td>0.96819</td>\n",
       "    </tr>\n",
       "    <tr>\n",
       "      <th>152</th>\n",
       "      <td>Benin</td>\n",
       "      <td>153</td>\n",
       "      <td>3.484</td>\n",
       "      <td>0.39499</td>\n",
       "      <td>0.10419</td>\n",
       "      <td>0.21028</td>\n",
       "      <td>0.39747</td>\n",
       "      <td>0.06681</td>\n",
       "      <td>0.20180</td>\n",
       "      <td>2.10812</td>\n",
       "    </tr>\n",
       "    <tr>\n",
       "      <th>153</th>\n",
       "      <td>Afghanistan</td>\n",
       "      <td>154</td>\n",
       "      <td>3.360</td>\n",
       "      <td>0.38227</td>\n",
       "      <td>0.11037</td>\n",
       "      <td>0.17344</td>\n",
       "      <td>0.16430</td>\n",
       "      <td>0.07112</td>\n",
       "      <td>0.31268</td>\n",
       "      <td>2.14558</td>\n",
       "    </tr>\n",
       "    <tr>\n",
       "      <th>154</th>\n",
       "      <td>Togo</td>\n",
       "      <td>155</td>\n",
       "      <td>3.303</td>\n",
       "      <td>0.28123</td>\n",
       "      <td>0.00000</td>\n",
       "      <td>0.24811</td>\n",
       "      <td>0.34678</td>\n",
       "      <td>0.11587</td>\n",
       "      <td>0.17517</td>\n",
       "      <td>2.13540</td>\n",
       "    </tr>\n",
       "    <tr>\n",
       "      <th>155</th>\n",
       "      <td>Syria</td>\n",
       "      <td>156</td>\n",
       "      <td>3.069</td>\n",
       "      <td>0.74719</td>\n",
       "      <td>0.14866</td>\n",
       "      <td>0.62994</td>\n",
       "      <td>0.06912</td>\n",
       "      <td>0.17233</td>\n",
       "      <td>0.48397</td>\n",
       "      <td>0.81789</td>\n",
       "    </tr>\n",
       "    <tr>\n",
       "      <th>156</th>\n",
       "      <td>Burundi</td>\n",
       "      <td>157</td>\n",
       "      <td>2.905</td>\n",
       "      <td>0.06831</td>\n",
       "      <td>0.23442</td>\n",
       "      <td>0.15747</td>\n",
       "      <td>0.04320</td>\n",
       "      <td>0.09419</td>\n",
       "      <td>0.20290</td>\n",
       "      <td>2.10404</td>\n",
       "    </tr>\n",
       "  </tbody>\n",
       "</table>\n",
       "</div>"
      ],
      "text/plain": [
       "         Country  Happiness_Rank  Happiness_Score  Economy_(GDP_per_Capita)  \\\n",
       "147   Madagascar             148            3.695                   0.27954   \n",
       "148     Tanzania             149            3.666                   0.47155   \n",
       "149      Liberia             150            3.622                   0.10706   \n",
       "150       Guinea             151            3.607                   0.22415   \n",
       "151       Rwanda             152            3.515                   0.32846   \n",
       "152        Benin             153            3.484                   0.39499   \n",
       "153  Afghanistan             154            3.360                   0.38227   \n",
       "154         Togo             155            3.303                   0.28123   \n",
       "155        Syria             156            3.069                   0.74719   \n",
       "156      Burundi             157            2.905                   0.06831   \n",
       "\n",
       "      Family  Health_(Life_Expectancy)  Freedom  \\\n",
       "147  0.46115                   0.37109  0.13684   \n",
       "148  0.77623                   0.35700  0.31760   \n",
       "149  0.50353                   0.23165  0.25748   \n",
       "150  0.31090                   0.18829  0.30953   \n",
       "151  0.61586                   0.31865  0.54320   \n",
       "152  0.10419                   0.21028  0.39747   \n",
       "153  0.11037                   0.17344  0.16430   \n",
       "154  0.00000                   0.24811  0.34678   \n",
       "155  0.14866                   0.62994  0.06912   \n",
       "156  0.23442                   0.15747  0.04320   \n",
       "\n",
       "     Trust_(Government_Corruption)  Generosity  Dystopia_Residual  \n",
       "147                        0.07506     0.22040            2.15075  \n",
       "148                        0.05099     0.31472            1.37769  \n",
       "149                        0.04852     0.24063            2.23284  \n",
       "150                        0.11920     0.29914            2.15604  \n",
       "151                        0.50521     0.23552            0.96819  \n",
       "152                        0.06681     0.20180            2.10812  \n",
       "153                        0.07112     0.31268            2.14558  \n",
       "154                        0.11587     0.17517            2.13540  \n",
       "155                        0.17233     0.48397            0.81789  \n",
       "156                        0.09419     0.20290            2.10404  "
      ]
     },
     "execution_count": 75,
     "metadata": {},
     "output_type": "execute_result"
    }
   ],
   "source": [
    "df[2016].tail(10)"
   ]
  },
  {
   "cell_type": "markdown",
   "metadata": {},
   "source": [
    "# Horizontal Bars"
   ]
  },
  {
   "cell_type": "code",
   "execution_count": 76,
   "metadata": {
    "ExecuteTime": {
     "end_time": "2020-10-24T01:59:54.329601Z",
     "start_time": "2020-10-24T01:59:51.514261Z"
    },
    "scrolled": true
   },
   "outputs": [
    {
     "data": {
      "application/vnd.plotly.v1+json": {
       "config": {
        "plotlyServerURL": "https://plot.ly"
       },
       "data": [
        {
         "alignmentgroup": "True",
         "hovertemplate": "Contributing Factors=Economy_(GDP_per_Capita)<br>Happiness Score=%{x}<br>Countries=%{y}<extra></extra>",
         "legendgroup": "Economy_(GDP_per_Capita)",
         "marker": {
          "color": "rgb(166,206,227)"
         },
         "name": "Economy_(GDP_per_Capita)",
         "offsetgroup": "Economy_(GDP_per_Capita)",
         "orientation": "h",
         "showlegend": true,
         "textposition": "auto",
         "type": "bar",
         "x": [
          0.20868,
          0.0153,
          0.6632,
          0.28665,
          0.22208000000000006,
          0.31982,
          0.25812,
          0.46534,
          0.17417,
          0.34193,
          1.33358,
          1.2501799999999998,
          1.33171,
          1.32944,
          1.29025,
          1.32629,
          1.459,
          1.32548,
          1.30232,
          1.39651
         ],
         "xaxis": "x",
         "y": [
          "Togo",
          "Burundi",
          "Syria",
          "Benin",
          "Rwanda",
          "Afghanistan",
          "Burkina Faso",
          "Ivory Coast",
          "Guinea",
          "Chad",
          "Australia",
          "New Zealand",
          "Sweden",
          "Netherlands",
          "Finland",
          "Canada",
          "Norway",
          "Denmark",
          "Iceland",
          "Switzerland"
         ],
         "yaxis": "y"
        },
        {
         "alignmentgroup": "True",
         "hovertemplate": "Contributing Factors=Family<br>Happiness Score=%{x}<br>Countries=%{y}<extra></extra>",
         "legendgroup": "Family",
         "marker": {
          "color": "rgb(31,120,180)"
         },
         "name": "Family",
         "offsetgroup": "Family",
         "orientation": "h",
         "showlegend": true,
         "textposition": "auto",
         "type": "bar",
         "x": [
          0.13995,
          0.41587,
          0.47489,
          0.35386,
          0.7737,
          0.30285,
          0.85188,
          0.77115,
          0.46475,
          0.76062,
          1.30923,
          1.31967,
          1.2890700000000002,
          1.28017,
          1.31826,
          1.32261,
          1.33095,
          1.36058,
          1.40223,
          1.34951
         ],
         "xaxis": "x",
         "y": [
          "Togo",
          "Burundi",
          "Syria",
          "Benin",
          "Rwanda",
          "Afghanistan",
          "Burkina Faso",
          "Ivory Coast",
          "Guinea",
          "Chad",
          "Australia",
          "New Zealand",
          "Sweden",
          "Netherlands",
          "Finland",
          "Canada",
          "Norway",
          "Denmark",
          "Iceland",
          "Switzerland"
         ],
         "yaxis": "y"
        },
        {
         "alignmentgroup": "True",
         "hovertemplate": "Contributing Factors=Health_(Life_Expectancy)<br>Happiness Score=%{x}<br>Countries=%{y}<extra></extra>",
         "legendgroup": "Health_(Life_Expectancy)",
         "marker": {
          "color": "rgb(178,223,138)"
         },
         "name": "Health_(Life_Expectancy)",
         "offsetgroup": "Health_(Life_Expectancy)",
         "orientation": "h",
         "showlegend": true,
         "textposition": "auto",
         "type": "bar",
         "x": [
          0.28443,
          0.22396,
          0.7219300000000001,
          0.3191,
          0.42864,
          0.30335,
          0.27125,
          0.15185,
          0.24009,
          0.1501,
          0.93156,
          0.90837,
          0.91087,
          0.89284,
          0.8891100000000001,
          0.90563,
          0.88521,
          0.87464,
          0.94784,
          0.94143
         ],
         "xaxis": "x",
         "y": [
          "Togo",
          "Burundi",
          "Syria",
          "Benin",
          "Rwanda",
          "Afghanistan",
          "Burkina Faso",
          "Ivory Coast",
          "Guinea",
          "Chad",
          "Australia",
          "New Zealand",
          "Sweden",
          "Netherlands",
          "Finland",
          "Canada",
          "Norway",
          "Denmark",
          "Iceland",
          "Switzerland"
         ],
         "yaxis": "y"
        },
        {
         "alignmentgroup": "True",
         "hovertemplate": "Contributing Factors=Freedom<br>Happiness Score=%{x}<br>Countries=%{y}<extra></extra>",
         "legendgroup": "Freedom",
         "marker": {
          "color": "rgb(51,160,44)"
         },
         "name": "Freedom",
         "offsetgroup": "Freedom",
         "orientation": "h",
         "showlegend": true,
         "textposition": "auto",
         "type": "bar",
         "x": [
          0.36453,
          0.1185,
          0.15684,
          0.4845,
          0.59201,
          0.23414,
          0.39493,
          0.46866,
          0.37725,
          0.23501,
          0.6512399999999999,
          0.6393800000000001,
          0.6598,
          0.6157600000000001,
          0.64169,
          0.63297,
          0.66973,
          0.6493800000000001,
          0.6287699999999999,
          0.66557
         ],
         "xaxis": "x",
         "y": [
          "Togo",
          "Burundi",
          "Syria",
          "Benin",
          "Rwanda",
          "Afghanistan",
          "Burkina Faso",
          "Ivory Coast",
          "Guinea",
          "Chad",
          "Australia",
          "New Zealand",
          "Sweden",
          "Netherlands",
          "Finland",
          "Canada",
          "Norway",
          "Denmark",
          "Iceland",
          "Switzerland"
         ],
         "yaxis": "y"
        },
        {
         "alignmentgroup": "True",
         "hovertemplate": "Contributing Factors=Trust_(Government_Corruption)<br>Happiness Score=%{x}<br>Countries=%{y}<extra></extra>",
         "legendgroup": "Trust_(Government_Corruption)",
         "marker": {
          "color": "rgb(251,154,153)"
         },
         "name": "Trust_(Government_Corruption)",
         "offsetgroup": "Trust_(Government_Corruption)",
         "orientation": "h",
         "showlegend": true,
         "textposition": "auto",
         "type": "bar",
         "x": [
          0.10731,
          0.10062,
          0.18906,
          0.0801,
          0.55191,
          0.09719,
          0.12832000000000002,
          0.17922000000000002,
          0.12139,
          0.05269,
          0.35637,
          0.42922,
          0.43844,
          0.31814000000000003,
          0.41372,
          0.32957,
          0.36503,
          0.48357,
          0.14145,
          0.41978
         ],
         "xaxis": "x",
         "y": [
          "Togo",
          "Burundi",
          "Syria",
          "Benin",
          "Rwanda",
          "Afghanistan",
          "Burkina Faso",
          "Ivory Coast",
          "Guinea",
          "Chad",
          "Australia",
          "New Zealand",
          "Sweden",
          "Netherlands",
          "Finland",
          "Canada",
          "Norway",
          "Denmark",
          "Iceland",
          "Switzerland"
         ],
         "yaxis": "y"
        },
        {
         "alignmentgroup": "True",
         "hovertemplate": "Contributing Factors=Generosity<br>Happiness Score=%{x}<br>Countries=%{y}<extra></extra>",
         "legendgroup": "Generosity",
         "marker": {
          "color": "rgb(227,26,28)"
         },
         "name": "Generosity",
         "offsetgroup": "Generosity",
         "orientation": "h",
         "showlegend": true,
         "textposition": "auto",
         "type": "bar",
         "x": [
          0.16681,
          0.19727,
          0.47179,
          0.1826,
          0.22628,
          0.3651,
          0.21747,
          0.20165,
          0.28657,
          0.18386,
          0.43562,
          0.47501,
          0.36262,
          0.4761,
          0.23351,
          0.45811,
          0.34699,
          0.34139,
          0.4363,
          0.29678000000000004
         ],
         "xaxis": "x",
         "y": [
          "Togo",
          "Burundi",
          "Syria",
          "Benin",
          "Rwanda",
          "Afghanistan",
          "Burkina Faso",
          "Ivory Coast",
          "Guinea",
          "Chad",
          "Australia",
          "New Zealand",
          "Sweden",
          "Netherlands",
          "Finland",
          "Canada",
          "Norway",
          "Denmark",
          "Iceland",
          "Switzerland"
         ],
         "yaxis": "y"
        },
        {
         "alignmentgroup": "True",
         "hovertemplate": "Contributing Factors=Dystopia_Residual<br>Happiness Score=%{x}<br>Countries=%{y}<extra></extra>",
         "legendgroup": "Dystopia_Residual",
         "marker": {
          "color": "rgb(253,191,111)"
         },
         "name": "Dystopia_Residual",
         "offsetgroup": "Dystopia_Residual",
         "orientation": "h",
         "showlegend": true,
         "textposition": "auto",
         "type": "bar",
         "x": [
          1.56726,
          1.83302,
          0.32858000000000004,
          1.6332799999999998,
          0.67042,
          1.9521,
          1.46494,
          1.41723,
          1.99172,
          1.94296,
          2.26646,
          2.26425,
          2.3711900000000004,
          2.4657,
          2.61955,
          2.45176,
          2.46531,
          2.4920400000000003,
          2.70201,
          2.51738
         ],
         "xaxis": "x",
         "y": [
          "Togo",
          "Burundi",
          "Syria",
          "Benin",
          "Rwanda",
          "Afghanistan",
          "Burkina Faso",
          "Ivory Coast",
          "Guinea",
          "Chad",
          "Australia",
          "New Zealand",
          "Sweden",
          "Netherlands",
          "Finland",
          "Canada",
          "Norway",
          "Denmark",
          "Iceland",
          "Switzerland"
         ],
         "yaxis": "y"
        }
       ],
       "layout": {
        "barmode": "stack",
        "legend": {
         "title": {
          "text": "Contributing Factors"
         },
         "tracegroupgap": 0
        },
        "template": {
         "data": {
          "bar": [
           {
            "error_x": {
             "color": "#f2f5fa"
            },
            "error_y": {
             "color": "#f2f5fa"
            },
            "marker": {
             "line": {
              "color": "rgb(17,17,17)",
              "width": 0.5
             }
            },
            "type": "bar"
           }
          ],
          "barpolar": [
           {
            "marker": {
             "line": {
              "color": "rgb(17,17,17)",
              "width": 0.5
             }
            },
            "type": "barpolar"
           }
          ],
          "carpet": [
           {
            "aaxis": {
             "endlinecolor": "#A2B1C6",
             "gridcolor": "#506784",
             "linecolor": "#506784",
             "minorgridcolor": "#506784",
             "startlinecolor": "#A2B1C6"
            },
            "baxis": {
             "endlinecolor": "#A2B1C6",
             "gridcolor": "#506784",
             "linecolor": "#506784",
             "minorgridcolor": "#506784",
             "startlinecolor": "#A2B1C6"
            },
            "type": "carpet"
           }
          ],
          "choropleth": [
           {
            "colorbar": {
             "outlinewidth": 0,
             "ticks": ""
            },
            "type": "choropleth"
           }
          ],
          "contour": [
           {
            "colorbar": {
             "outlinewidth": 0,
             "ticks": ""
            },
            "colorscale": [
             [
              0,
              "#0d0887"
             ],
             [
              0.1111111111111111,
              "#46039f"
             ],
             [
              0.2222222222222222,
              "#7201a8"
             ],
             [
              0.3333333333333333,
              "#9c179e"
             ],
             [
              0.4444444444444444,
              "#bd3786"
             ],
             [
              0.5555555555555556,
              "#d8576b"
             ],
             [
              0.6666666666666666,
              "#ed7953"
             ],
             [
              0.7777777777777778,
              "#fb9f3a"
             ],
             [
              0.8888888888888888,
              "#fdca26"
             ],
             [
              1,
              "#f0f921"
             ]
            ],
            "type": "contour"
           }
          ],
          "contourcarpet": [
           {
            "colorbar": {
             "outlinewidth": 0,
             "ticks": ""
            },
            "type": "contourcarpet"
           }
          ],
          "heatmap": [
           {
            "colorbar": {
             "outlinewidth": 0,
             "ticks": ""
            },
            "colorscale": [
             [
              0,
              "#0d0887"
             ],
             [
              0.1111111111111111,
              "#46039f"
             ],
             [
              0.2222222222222222,
              "#7201a8"
             ],
             [
              0.3333333333333333,
              "#9c179e"
             ],
             [
              0.4444444444444444,
              "#bd3786"
             ],
             [
              0.5555555555555556,
              "#d8576b"
             ],
             [
              0.6666666666666666,
              "#ed7953"
             ],
             [
              0.7777777777777778,
              "#fb9f3a"
             ],
             [
              0.8888888888888888,
              "#fdca26"
             ],
             [
              1,
              "#f0f921"
             ]
            ],
            "type": "heatmap"
           }
          ],
          "heatmapgl": [
           {
            "colorbar": {
             "outlinewidth": 0,
             "ticks": ""
            },
            "colorscale": [
             [
              0,
              "#0d0887"
             ],
             [
              0.1111111111111111,
              "#46039f"
             ],
             [
              0.2222222222222222,
              "#7201a8"
             ],
             [
              0.3333333333333333,
              "#9c179e"
             ],
             [
              0.4444444444444444,
              "#bd3786"
             ],
             [
              0.5555555555555556,
              "#d8576b"
             ],
             [
              0.6666666666666666,
              "#ed7953"
             ],
             [
              0.7777777777777778,
              "#fb9f3a"
             ],
             [
              0.8888888888888888,
              "#fdca26"
             ],
             [
              1,
              "#f0f921"
             ]
            ],
            "type": "heatmapgl"
           }
          ],
          "histogram": [
           {
            "marker": {
             "colorbar": {
              "outlinewidth": 0,
              "ticks": ""
             }
            },
            "type": "histogram"
           }
          ],
          "histogram2d": [
           {
            "colorbar": {
             "outlinewidth": 0,
             "ticks": ""
            },
            "colorscale": [
             [
              0,
              "#0d0887"
             ],
             [
              0.1111111111111111,
              "#46039f"
             ],
             [
              0.2222222222222222,
              "#7201a8"
             ],
             [
              0.3333333333333333,
              "#9c179e"
             ],
             [
              0.4444444444444444,
              "#bd3786"
             ],
             [
              0.5555555555555556,
              "#d8576b"
             ],
             [
              0.6666666666666666,
              "#ed7953"
             ],
             [
              0.7777777777777778,
              "#fb9f3a"
             ],
             [
              0.8888888888888888,
              "#fdca26"
             ],
             [
              1,
              "#f0f921"
             ]
            ],
            "type": "histogram2d"
           }
          ],
          "histogram2dcontour": [
           {
            "colorbar": {
             "outlinewidth": 0,
             "ticks": ""
            },
            "colorscale": [
             [
              0,
              "#0d0887"
             ],
             [
              0.1111111111111111,
              "#46039f"
             ],
             [
              0.2222222222222222,
              "#7201a8"
             ],
             [
              0.3333333333333333,
              "#9c179e"
             ],
             [
              0.4444444444444444,
              "#bd3786"
             ],
             [
              0.5555555555555556,
              "#d8576b"
             ],
             [
              0.6666666666666666,
              "#ed7953"
             ],
             [
              0.7777777777777778,
              "#fb9f3a"
             ],
             [
              0.8888888888888888,
              "#fdca26"
             ],
             [
              1,
              "#f0f921"
             ]
            ],
            "type": "histogram2dcontour"
           }
          ],
          "mesh3d": [
           {
            "colorbar": {
             "outlinewidth": 0,
             "ticks": ""
            },
            "type": "mesh3d"
           }
          ],
          "parcoords": [
           {
            "line": {
             "colorbar": {
              "outlinewidth": 0,
              "ticks": ""
             }
            },
            "type": "parcoords"
           }
          ],
          "pie": [
           {
            "automargin": true,
            "type": "pie"
           }
          ],
          "scatter": [
           {
            "marker": {
             "line": {
              "color": "#283442"
             }
            },
            "type": "scatter"
           }
          ],
          "scatter3d": [
           {
            "line": {
             "colorbar": {
              "outlinewidth": 0,
              "ticks": ""
             }
            },
            "marker": {
             "colorbar": {
              "outlinewidth": 0,
              "ticks": ""
             }
            },
            "type": "scatter3d"
           }
          ],
          "scattercarpet": [
           {
            "marker": {
             "colorbar": {
              "outlinewidth": 0,
              "ticks": ""
             }
            },
            "type": "scattercarpet"
           }
          ],
          "scattergeo": [
           {
            "marker": {
             "colorbar": {
              "outlinewidth": 0,
              "ticks": ""
             }
            },
            "type": "scattergeo"
           }
          ],
          "scattergl": [
           {
            "marker": {
             "line": {
              "color": "#283442"
             }
            },
            "type": "scattergl"
           }
          ],
          "scattermapbox": [
           {
            "marker": {
             "colorbar": {
              "outlinewidth": 0,
              "ticks": ""
             }
            },
            "type": "scattermapbox"
           }
          ],
          "scatterpolar": [
           {
            "marker": {
             "colorbar": {
              "outlinewidth": 0,
              "ticks": ""
             }
            },
            "type": "scatterpolar"
           }
          ],
          "scatterpolargl": [
           {
            "marker": {
             "colorbar": {
              "outlinewidth": 0,
              "ticks": ""
             }
            },
            "type": "scatterpolargl"
           }
          ],
          "scatterternary": [
           {
            "marker": {
             "colorbar": {
              "outlinewidth": 0,
              "ticks": ""
             }
            },
            "type": "scatterternary"
           }
          ],
          "surface": [
           {
            "colorbar": {
             "outlinewidth": 0,
             "ticks": ""
            },
            "colorscale": [
             [
              0,
              "#0d0887"
             ],
             [
              0.1111111111111111,
              "#46039f"
             ],
             [
              0.2222222222222222,
              "#7201a8"
             ],
             [
              0.3333333333333333,
              "#9c179e"
             ],
             [
              0.4444444444444444,
              "#bd3786"
             ],
             [
              0.5555555555555556,
              "#d8576b"
             ],
             [
              0.6666666666666666,
              "#ed7953"
             ],
             [
              0.7777777777777778,
              "#fb9f3a"
             ],
             [
              0.8888888888888888,
              "#fdca26"
             ],
             [
              1,
              "#f0f921"
             ]
            ],
            "type": "surface"
           }
          ],
          "table": [
           {
            "cells": {
             "fill": {
              "color": "#506784"
             },
             "line": {
              "color": "rgb(17,17,17)"
             }
            },
            "header": {
             "fill": {
              "color": "#2a3f5f"
             },
             "line": {
              "color": "rgb(17,17,17)"
             }
            },
            "type": "table"
           }
          ]
         },
         "layout": {
          "annotationdefaults": {
           "arrowcolor": "#f2f5fa",
           "arrowhead": 0,
           "arrowwidth": 1
          },
          "coloraxis": {
           "colorbar": {
            "outlinewidth": 0,
            "ticks": ""
           }
          },
          "colorscale": {
           "diverging": [
            [
             0,
             "#8e0152"
            ],
            [
             0.1,
             "#c51b7d"
            ],
            [
             0.2,
             "#de77ae"
            ],
            [
             0.3,
             "#f1b6da"
            ],
            [
             0.4,
             "#fde0ef"
            ],
            [
             0.5,
             "#f7f7f7"
            ],
            [
             0.6,
             "#e6f5d0"
            ],
            [
             0.7,
             "#b8e186"
            ],
            [
             0.8,
             "#7fbc41"
            ],
            [
             0.9,
             "#4d9221"
            ],
            [
             1,
             "#276419"
            ]
           ],
           "sequential": [
            [
             0,
             "#0d0887"
            ],
            [
             0.1111111111111111,
             "#46039f"
            ],
            [
             0.2222222222222222,
             "#7201a8"
            ],
            [
             0.3333333333333333,
             "#9c179e"
            ],
            [
             0.4444444444444444,
             "#bd3786"
            ],
            [
             0.5555555555555556,
             "#d8576b"
            ],
            [
             0.6666666666666666,
             "#ed7953"
            ],
            [
             0.7777777777777778,
             "#fb9f3a"
            ],
            [
             0.8888888888888888,
             "#fdca26"
            ],
            [
             1,
             "#f0f921"
            ]
           ],
           "sequentialminus": [
            [
             0,
             "#0d0887"
            ],
            [
             0.1111111111111111,
             "#46039f"
            ],
            [
             0.2222222222222222,
             "#7201a8"
            ],
            [
             0.3333333333333333,
             "#9c179e"
            ],
            [
             0.4444444444444444,
             "#bd3786"
            ],
            [
             0.5555555555555556,
             "#d8576b"
            ],
            [
             0.6666666666666666,
             "#ed7953"
            ],
            [
             0.7777777777777778,
             "#fb9f3a"
            ],
            [
             0.8888888888888888,
             "#fdca26"
            ],
            [
             1,
             "#f0f921"
            ]
           ]
          },
          "colorway": [
           "#636efa",
           "#EF553B",
           "#00cc96",
           "#ab63fa",
           "#FFA15A",
           "#19d3f3",
           "#FF6692",
           "#B6E880",
           "#FF97FF",
           "#FECB52"
          ],
          "font": {
           "color": "#f2f5fa"
          },
          "geo": {
           "bgcolor": "rgb(17,17,17)",
           "lakecolor": "rgb(17,17,17)",
           "landcolor": "rgb(17,17,17)",
           "showlakes": true,
           "showland": true,
           "subunitcolor": "#506784"
          },
          "hoverlabel": {
           "align": "left"
          },
          "hovermode": "closest",
          "mapbox": {
           "style": "dark"
          },
          "paper_bgcolor": "rgb(17,17,17)",
          "plot_bgcolor": "rgb(17,17,17)",
          "polar": {
           "angularaxis": {
            "gridcolor": "#506784",
            "linecolor": "#506784",
            "ticks": ""
           },
           "bgcolor": "rgb(17,17,17)",
           "radialaxis": {
            "gridcolor": "#506784",
            "linecolor": "#506784",
            "ticks": ""
           }
          },
          "scene": {
           "xaxis": {
            "backgroundcolor": "rgb(17,17,17)",
            "gridcolor": "#506784",
            "gridwidth": 2,
            "linecolor": "#506784",
            "showbackground": true,
            "ticks": "",
            "zerolinecolor": "#C8D4E3"
           },
           "yaxis": {
            "backgroundcolor": "rgb(17,17,17)",
            "gridcolor": "#506784",
            "gridwidth": 2,
            "linecolor": "#506784",
            "showbackground": true,
            "ticks": "",
            "zerolinecolor": "#C8D4E3"
           },
           "zaxis": {
            "backgroundcolor": "rgb(17,17,17)",
            "gridcolor": "#506784",
            "gridwidth": 2,
            "linecolor": "#506784",
            "showbackground": true,
            "ticks": "",
            "zerolinecolor": "#C8D4E3"
           }
          },
          "shapedefaults": {
           "line": {
            "color": "#f2f5fa"
           }
          },
          "sliderdefaults": {
           "bgcolor": "#C8D4E3",
           "bordercolor": "rgb(17,17,17)",
           "borderwidth": 1,
           "tickwidth": 0
          },
          "ternary": {
           "aaxis": {
            "gridcolor": "#506784",
            "linecolor": "#506784",
            "ticks": ""
           },
           "baxis": {
            "gridcolor": "#506784",
            "linecolor": "#506784",
            "ticks": ""
           },
           "bgcolor": "rgb(17,17,17)",
           "caxis": {
            "gridcolor": "#506784",
            "linecolor": "#506784",
            "ticks": ""
           }
          },
          "title": {
           "x": 0.05
          },
          "updatemenudefaults": {
           "bgcolor": "#506784",
           "borderwidth": 0
          },
          "xaxis": {
           "automargin": true,
           "gridcolor": "#283442",
           "linecolor": "#506784",
           "ticks": "",
           "title": {
            "standoff": 15
           },
           "zerolinecolor": "#283442",
           "zerolinewidth": 2
          },
          "yaxis": {
           "automargin": true,
           "gridcolor": "#283442",
           "linecolor": "#506784",
           "ticks": "",
           "title": {
            "standoff": 15
           },
           "zerolinecolor": "#283442",
           "zerolinewidth": 2
          }
         }
        },
        "title": {
         "text": "2015 Top-Bottom Analysis"
        },
        "xaxis": {
         "anchor": "y",
         "domain": [
          0,
          1
         ],
         "title": {
          "text": "Happiness Score"
         }
        },
        "yaxis": {
         "anchor": "x",
         "domain": [
          0,
          1
         ],
         "title": {
          "text": "Countries"
         }
        }
       }
      },
      "text/html": [
       "<div>                            <div id=\"6ba0f3b8-c2b4-48d6-8de5-9c8c2826faa7\" class=\"plotly-graph-div\" style=\"height:525px; width:100%;\"></div>            <script type=\"text/javascript\">                require([\"plotly\"], function(Plotly) {                    window.PLOTLYENV=window.PLOTLYENV || {};                                    if (document.getElementById(\"6ba0f3b8-c2b4-48d6-8de5-9c8c2826faa7\")) {                    Plotly.newPlot(                        \"6ba0f3b8-c2b4-48d6-8de5-9c8c2826faa7\",                        [{\"alignmentgroup\": \"True\", \"hovertemplate\": \"Contributing Factors=Economy_(GDP_per_Capita)<br>Happiness Score=%{x}<br>Countries=%{y}<extra></extra>\", \"legendgroup\": \"Economy_(GDP_per_Capita)\", \"marker\": {\"color\": \"rgb(166,206,227)\"}, \"name\": \"Economy_(GDP_per_Capita)\", \"offsetgroup\": \"Economy_(GDP_per_Capita)\", \"orientation\": \"h\", \"showlegend\": true, \"textposition\": \"auto\", \"type\": \"bar\", \"x\": [0.20868, 0.0153, 0.6632, 0.28665, 0.22208000000000006, 0.31982, 0.25812, 0.46534, 0.17417, 0.34193, 1.33358, 1.2501799999999998, 1.33171, 1.32944, 1.29025, 1.32629, 1.459, 1.32548, 1.30232, 1.39651], \"xaxis\": \"x\", \"y\": [\"Togo\", \"Burundi\", \"Syria\", \"Benin\", \"Rwanda\", \"Afghanistan\", \"Burkina Faso\", \"Ivory Coast\", \"Guinea\", \"Chad\", \"Australia\", \"New Zealand\", \"Sweden\", \"Netherlands\", \"Finland\", \"Canada\", \"Norway\", \"Denmark\", \"Iceland\", \"Switzerland\"], \"yaxis\": \"y\"}, {\"alignmentgroup\": \"True\", \"hovertemplate\": \"Contributing Factors=Family<br>Happiness Score=%{x}<br>Countries=%{y}<extra></extra>\", \"legendgroup\": \"Family\", \"marker\": {\"color\": \"rgb(31,120,180)\"}, \"name\": \"Family\", \"offsetgroup\": \"Family\", \"orientation\": \"h\", \"showlegend\": true, \"textposition\": \"auto\", \"type\": \"bar\", \"x\": [0.13995, 0.41587, 0.47489, 0.35386, 0.7737, 0.30285, 0.85188, 0.77115, 0.46475, 0.76062, 1.30923, 1.31967, 1.2890700000000002, 1.28017, 1.31826, 1.32261, 1.33095, 1.36058, 1.40223, 1.34951], \"xaxis\": \"x\", \"y\": [\"Togo\", \"Burundi\", \"Syria\", \"Benin\", \"Rwanda\", \"Afghanistan\", \"Burkina Faso\", \"Ivory Coast\", \"Guinea\", \"Chad\", \"Australia\", \"New Zealand\", \"Sweden\", \"Netherlands\", \"Finland\", \"Canada\", \"Norway\", \"Denmark\", \"Iceland\", \"Switzerland\"], \"yaxis\": \"y\"}, {\"alignmentgroup\": \"True\", \"hovertemplate\": \"Contributing Factors=Health_(Life_Expectancy)<br>Happiness Score=%{x}<br>Countries=%{y}<extra></extra>\", \"legendgroup\": \"Health_(Life_Expectancy)\", \"marker\": {\"color\": \"rgb(178,223,138)\"}, \"name\": \"Health_(Life_Expectancy)\", \"offsetgroup\": \"Health_(Life_Expectancy)\", \"orientation\": \"h\", \"showlegend\": true, \"textposition\": \"auto\", \"type\": \"bar\", \"x\": [0.28443, 0.22396, 0.7219300000000001, 0.3191, 0.42864, 0.30335, 0.27125, 0.15185, 0.24009, 0.1501, 0.93156, 0.90837, 0.91087, 0.89284, 0.8891100000000001, 0.90563, 0.88521, 0.87464, 0.94784, 0.94143], \"xaxis\": \"x\", \"y\": [\"Togo\", \"Burundi\", \"Syria\", \"Benin\", \"Rwanda\", \"Afghanistan\", \"Burkina Faso\", \"Ivory Coast\", \"Guinea\", \"Chad\", \"Australia\", \"New Zealand\", \"Sweden\", \"Netherlands\", \"Finland\", \"Canada\", \"Norway\", \"Denmark\", \"Iceland\", \"Switzerland\"], \"yaxis\": \"y\"}, {\"alignmentgroup\": \"True\", \"hovertemplate\": \"Contributing Factors=Freedom<br>Happiness Score=%{x}<br>Countries=%{y}<extra></extra>\", \"legendgroup\": \"Freedom\", \"marker\": {\"color\": \"rgb(51,160,44)\"}, \"name\": \"Freedom\", \"offsetgroup\": \"Freedom\", \"orientation\": \"h\", \"showlegend\": true, \"textposition\": \"auto\", \"type\": \"bar\", \"x\": [0.36453, 0.1185, 0.15684, 0.4845, 0.59201, 0.23414, 0.39493, 0.46866, 0.37725, 0.23501, 0.6512399999999999, 0.6393800000000001, 0.6598, 0.6157600000000001, 0.64169, 0.63297, 0.66973, 0.6493800000000001, 0.6287699999999999, 0.66557], \"xaxis\": \"x\", \"y\": [\"Togo\", \"Burundi\", \"Syria\", \"Benin\", \"Rwanda\", \"Afghanistan\", \"Burkina Faso\", \"Ivory Coast\", \"Guinea\", \"Chad\", \"Australia\", \"New Zealand\", \"Sweden\", \"Netherlands\", \"Finland\", \"Canada\", \"Norway\", \"Denmark\", \"Iceland\", \"Switzerland\"], \"yaxis\": \"y\"}, {\"alignmentgroup\": \"True\", \"hovertemplate\": \"Contributing Factors=Trust_(Government_Corruption)<br>Happiness Score=%{x}<br>Countries=%{y}<extra></extra>\", \"legendgroup\": \"Trust_(Government_Corruption)\", \"marker\": {\"color\": \"rgb(251,154,153)\"}, \"name\": \"Trust_(Government_Corruption)\", \"offsetgroup\": \"Trust_(Government_Corruption)\", \"orientation\": \"h\", \"showlegend\": true, \"textposition\": \"auto\", \"type\": \"bar\", \"x\": [0.10731, 0.10062, 0.18906, 0.0801, 0.55191, 0.09719, 0.12832000000000002, 0.17922000000000002, 0.12139, 0.05269, 0.35637, 0.42922, 0.43844, 0.31814000000000003, 0.41372, 0.32957, 0.36503, 0.48357, 0.14145, 0.41978], \"xaxis\": \"x\", \"y\": [\"Togo\", \"Burundi\", \"Syria\", \"Benin\", \"Rwanda\", \"Afghanistan\", \"Burkina Faso\", \"Ivory Coast\", \"Guinea\", \"Chad\", \"Australia\", \"New Zealand\", \"Sweden\", \"Netherlands\", \"Finland\", \"Canada\", \"Norway\", \"Denmark\", \"Iceland\", \"Switzerland\"], \"yaxis\": \"y\"}, {\"alignmentgroup\": \"True\", \"hovertemplate\": \"Contributing Factors=Generosity<br>Happiness Score=%{x}<br>Countries=%{y}<extra></extra>\", \"legendgroup\": \"Generosity\", \"marker\": {\"color\": \"rgb(227,26,28)\"}, \"name\": \"Generosity\", \"offsetgroup\": \"Generosity\", \"orientation\": \"h\", \"showlegend\": true, \"textposition\": \"auto\", \"type\": \"bar\", \"x\": [0.16681, 0.19727, 0.47179, 0.1826, 0.22628, 0.3651, 0.21747, 0.20165, 0.28657, 0.18386, 0.43562, 0.47501, 0.36262, 0.4761, 0.23351, 0.45811, 0.34699, 0.34139, 0.4363, 0.29678000000000004], \"xaxis\": \"x\", \"y\": [\"Togo\", \"Burundi\", \"Syria\", \"Benin\", \"Rwanda\", \"Afghanistan\", \"Burkina Faso\", \"Ivory Coast\", \"Guinea\", \"Chad\", \"Australia\", \"New Zealand\", \"Sweden\", \"Netherlands\", \"Finland\", \"Canada\", \"Norway\", \"Denmark\", \"Iceland\", \"Switzerland\"], \"yaxis\": \"y\"}, {\"alignmentgroup\": \"True\", \"hovertemplate\": \"Contributing Factors=Dystopia_Residual<br>Happiness Score=%{x}<br>Countries=%{y}<extra></extra>\", \"legendgroup\": \"Dystopia_Residual\", \"marker\": {\"color\": \"rgb(253,191,111)\"}, \"name\": \"Dystopia_Residual\", \"offsetgroup\": \"Dystopia_Residual\", \"orientation\": \"h\", \"showlegend\": true, \"textposition\": \"auto\", \"type\": \"bar\", \"x\": [1.56726, 1.83302, 0.32858000000000004, 1.6332799999999998, 0.67042, 1.9521, 1.46494, 1.41723, 1.99172, 1.94296, 2.26646, 2.26425, 2.3711900000000004, 2.4657, 2.61955, 2.45176, 2.46531, 2.4920400000000003, 2.70201, 2.51738], \"xaxis\": \"x\", \"y\": [\"Togo\", \"Burundi\", \"Syria\", \"Benin\", \"Rwanda\", \"Afghanistan\", \"Burkina Faso\", \"Ivory Coast\", \"Guinea\", \"Chad\", \"Australia\", \"New Zealand\", \"Sweden\", \"Netherlands\", \"Finland\", \"Canada\", \"Norway\", \"Denmark\", \"Iceland\", \"Switzerland\"], \"yaxis\": \"y\"}],                        {\"barmode\": \"stack\", \"legend\": {\"title\": {\"text\": \"Contributing Factors\"}, \"tracegroupgap\": 0}, \"template\": {\"data\": {\"bar\": [{\"error_x\": {\"color\": \"#f2f5fa\"}, \"error_y\": {\"color\": \"#f2f5fa\"}, \"marker\": {\"line\": {\"color\": \"rgb(17,17,17)\", \"width\": 0.5}}, \"type\": \"bar\"}], \"barpolar\": [{\"marker\": {\"line\": {\"color\": \"rgb(17,17,17)\", \"width\": 0.5}}, \"type\": \"barpolar\"}], \"carpet\": [{\"aaxis\": {\"endlinecolor\": \"#A2B1C6\", \"gridcolor\": \"#506784\", \"linecolor\": \"#506784\", \"minorgridcolor\": \"#506784\", \"startlinecolor\": \"#A2B1C6\"}, \"baxis\": {\"endlinecolor\": \"#A2B1C6\", \"gridcolor\": \"#506784\", \"linecolor\": \"#506784\", \"minorgridcolor\": \"#506784\", \"startlinecolor\": \"#A2B1C6\"}, \"type\": \"carpet\"}], \"choropleth\": [{\"colorbar\": {\"outlinewidth\": 0, \"ticks\": \"\"}, \"type\": \"choropleth\"}], \"contour\": [{\"colorbar\": {\"outlinewidth\": 0, \"ticks\": \"\"}, \"colorscale\": [[0.0, \"#0d0887\"], [0.1111111111111111, \"#46039f\"], [0.2222222222222222, \"#7201a8\"], [0.3333333333333333, \"#9c179e\"], [0.4444444444444444, \"#bd3786\"], [0.5555555555555556, \"#d8576b\"], [0.6666666666666666, \"#ed7953\"], [0.7777777777777778, \"#fb9f3a\"], [0.8888888888888888, \"#fdca26\"], [1.0, \"#f0f921\"]], \"type\": \"contour\"}], \"contourcarpet\": [{\"colorbar\": {\"outlinewidth\": 0, \"ticks\": \"\"}, \"type\": \"contourcarpet\"}], \"heatmap\": [{\"colorbar\": {\"outlinewidth\": 0, \"ticks\": \"\"}, \"colorscale\": [[0.0, \"#0d0887\"], [0.1111111111111111, \"#46039f\"], [0.2222222222222222, \"#7201a8\"], [0.3333333333333333, \"#9c179e\"], [0.4444444444444444, \"#bd3786\"], [0.5555555555555556, \"#d8576b\"], [0.6666666666666666, \"#ed7953\"], [0.7777777777777778, \"#fb9f3a\"], [0.8888888888888888, \"#fdca26\"], [1.0, \"#f0f921\"]], \"type\": \"heatmap\"}], \"heatmapgl\": [{\"colorbar\": {\"outlinewidth\": 0, \"ticks\": \"\"}, \"colorscale\": [[0.0, \"#0d0887\"], [0.1111111111111111, \"#46039f\"], [0.2222222222222222, \"#7201a8\"], [0.3333333333333333, \"#9c179e\"], [0.4444444444444444, \"#bd3786\"], [0.5555555555555556, \"#d8576b\"], [0.6666666666666666, \"#ed7953\"], [0.7777777777777778, \"#fb9f3a\"], [0.8888888888888888, \"#fdca26\"], [1.0, \"#f0f921\"]], \"type\": \"heatmapgl\"}], \"histogram\": [{\"marker\": {\"colorbar\": {\"outlinewidth\": 0, \"ticks\": \"\"}}, \"type\": \"histogram\"}], \"histogram2d\": [{\"colorbar\": {\"outlinewidth\": 0, \"ticks\": \"\"}, \"colorscale\": [[0.0, \"#0d0887\"], [0.1111111111111111, \"#46039f\"], [0.2222222222222222, \"#7201a8\"], [0.3333333333333333, \"#9c179e\"], [0.4444444444444444, \"#bd3786\"], [0.5555555555555556, \"#d8576b\"], [0.6666666666666666, \"#ed7953\"], [0.7777777777777778, \"#fb9f3a\"], [0.8888888888888888, \"#fdca26\"], [1.0, \"#f0f921\"]], \"type\": \"histogram2d\"}], \"histogram2dcontour\": [{\"colorbar\": {\"outlinewidth\": 0, \"ticks\": \"\"}, \"colorscale\": [[0.0, \"#0d0887\"], [0.1111111111111111, \"#46039f\"], [0.2222222222222222, \"#7201a8\"], [0.3333333333333333, \"#9c179e\"], [0.4444444444444444, \"#bd3786\"], [0.5555555555555556, \"#d8576b\"], [0.6666666666666666, \"#ed7953\"], [0.7777777777777778, \"#fb9f3a\"], [0.8888888888888888, \"#fdca26\"], [1.0, \"#f0f921\"]], \"type\": \"histogram2dcontour\"}], \"mesh3d\": [{\"colorbar\": {\"outlinewidth\": 0, \"ticks\": \"\"}, \"type\": \"mesh3d\"}], \"parcoords\": [{\"line\": {\"colorbar\": {\"outlinewidth\": 0, \"ticks\": \"\"}}, \"type\": \"parcoords\"}], \"pie\": [{\"automargin\": true, \"type\": \"pie\"}], \"scatter\": [{\"marker\": {\"line\": {\"color\": \"#283442\"}}, \"type\": \"scatter\"}], \"scatter3d\": [{\"line\": {\"colorbar\": {\"outlinewidth\": 0, \"ticks\": \"\"}}, \"marker\": {\"colorbar\": {\"outlinewidth\": 0, \"ticks\": \"\"}}, \"type\": \"scatter3d\"}], \"scattercarpet\": [{\"marker\": {\"colorbar\": {\"outlinewidth\": 0, \"ticks\": \"\"}}, \"type\": \"scattercarpet\"}], \"scattergeo\": [{\"marker\": {\"colorbar\": {\"outlinewidth\": 0, \"ticks\": \"\"}}, \"type\": \"scattergeo\"}], \"scattergl\": [{\"marker\": {\"line\": {\"color\": \"#283442\"}}, \"type\": \"scattergl\"}], \"scattermapbox\": [{\"marker\": {\"colorbar\": {\"outlinewidth\": 0, \"ticks\": \"\"}}, \"type\": \"scattermapbox\"}], \"scatterpolar\": [{\"marker\": {\"colorbar\": {\"outlinewidth\": 0, \"ticks\": \"\"}}, \"type\": \"scatterpolar\"}], \"scatterpolargl\": [{\"marker\": {\"colorbar\": {\"outlinewidth\": 0, \"ticks\": \"\"}}, \"type\": \"scatterpolargl\"}], \"scatterternary\": [{\"marker\": {\"colorbar\": {\"outlinewidth\": 0, \"ticks\": \"\"}}, \"type\": \"scatterternary\"}], \"surface\": [{\"colorbar\": {\"outlinewidth\": 0, \"ticks\": \"\"}, \"colorscale\": [[0.0, \"#0d0887\"], [0.1111111111111111, \"#46039f\"], [0.2222222222222222, \"#7201a8\"], [0.3333333333333333, \"#9c179e\"], [0.4444444444444444, \"#bd3786\"], [0.5555555555555556, \"#d8576b\"], [0.6666666666666666, \"#ed7953\"], [0.7777777777777778, \"#fb9f3a\"], [0.8888888888888888, \"#fdca26\"], [1.0, \"#f0f921\"]], \"type\": \"surface\"}], \"table\": [{\"cells\": {\"fill\": {\"color\": \"#506784\"}, \"line\": {\"color\": \"rgb(17,17,17)\"}}, \"header\": {\"fill\": {\"color\": \"#2a3f5f\"}, \"line\": {\"color\": \"rgb(17,17,17)\"}}, \"type\": \"table\"}]}, \"layout\": {\"annotationdefaults\": {\"arrowcolor\": \"#f2f5fa\", \"arrowhead\": 0, \"arrowwidth\": 1}, \"coloraxis\": {\"colorbar\": {\"outlinewidth\": 0, \"ticks\": \"\"}}, \"colorscale\": {\"diverging\": [[0, \"#8e0152\"], [0.1, \"#c51b7d\"], [0.2, \"#de77ae\"], [0.3, \"#f1b6da\"], [0.4, \"#fde0ef\"], [0.5, \"#f7f7f7\"], [0.6, \"#e6f5d0\"], [0.7, \"#b8e186\"], [0.8, \"#7fbc41\"], [0.9, \"#4d9221\"], [1, \"#276419\"]], \"sequential\": [[0.0, \"#0d0887\"], [0.1111111111111111, \"#46039f\"], [0.2222222222222222, \"#7201a8\"], [0.3333333333333333, \"#9c179e\"], [0.4444444444444444, \"#bd3786\"], [0.5555555555555556, \"#d8576b\"], [0.6666666666666666, \"#ed7953\"], [0.7777777777777778, \"#fb9f3a\"], [0.8888888888888888, \"#fdca26\"], [1.0, \"#f0f921\"]], \"sequentialminus\": [[0.0, \"#0d0887\"], [0.1111111111111111, \"#46039f\"], [0.2222222222222222, \"#7201a8\"], [0.3333333333333333, \"#9c179e\"], [0.4444444444444444, \"#bd3786\"], [0.5555555555555556, \"#d8576b\"], [0.6666666666666666, \"#ed7953\"], [0.7777777777777778, \"#fb9f3a\"], [0.8888888888888888, \"#fdca26\"], [1.0, \"#f0f921\"]]}, \"colorway\": [\"#636efa\", \"#EF553B\", \"#00cc96\", \"#ab63fa\", \"#FFA15A\", \"#19d3f3\", \"#FF6692\", \"#B6E880\", \"#FF97FF\", \"#FECB52\"], \"font\": {\"color\": \"#f2f5fa\"}, \"geo\": {\"bgcolor\": \"rgb(17,17,17)\", \"lakecolor\": \"rgb(17,17,17)\", \"landcolor\": \"rgb(17,17,17)\", \"showlakes\": true, \"showland\": true, \"subunitcolor\": \"#506784\"}, \"hoverlabel\": {\"align\": \"left\"}, \"hovermode\": \"closest\", \"mapbox\": {\"style\": \"dark\"}, \"paper_bgcolor\": \"rgb(17,17,17)\", \"plot_bgcolor\": \"rgb(17,17,17)\", \"polar\": {\"angularaxis\": {\"gridcolor\": \"#506784\", \"linecolor\": \"#506784\", \"ticks\": \"\"}, \"bgcolor\": \"rgb(17,17,17)\", \"radialaxis\": {\"gridcolor\": \"#506784\", \"linecolor\": \"#506784\", \"ticks\": \"\"}}, \"scene\": {\"xaxis\": {\"backgroundcolor\": \"rgb(17,17,17)\", \"gridcolor\": \"#506784\", \"gridwidth\": 2, \"linecolor\": \"#506784\", \"showbackground\": true, \"ticks\": \"\", \"zerolinecolor\": \"#C8D4E3\"}, \"yaxis\": {\"backgroundcolor\": \"rgb(17,17,17)\", \"gridcolor\": \"#506784\", \"gridwidth\": 2, \"linecolor\": \"#506784\", \"showbackground\": true, \"ticks\": \"\", \"zerolinecolor\": \"#C8D4E3\"}, \"zaxis\": {\"backgroundcolor\": \"rgb(17,17,17)\", \"gridcolor\": \"#506784\", \"gridwidth\": 2, \"linecolor\": \"#506784\", \"showbackground\": true, \"ticks\": \"\", \"zerolinecolor\": \"#C8D4E3\"}}, \"shapedefaults\": {\"line\": {\"color\": \"#f2f5fa\"}}, \"sliderdefaults\": {\"bgcolor\": \"#C8D4E3\", \"bordercolor\": \"rgb(17,17,17)\", \"borderwidth\": 1, \"tickwidth\": 0}, \"ternary\": {\"aaxis\": {\"gridcolor\": \"#506784\", \"linecolor\": \"#506784\", \"ticks\": \"\"}, \"baxis\": {\"gridcolor\": \"#506784\", \"linecolor\": \"#506784\", \"ticks\": \"\"}, \"bgcolor\": \"rgb(17,17,17)\", \"caxis\": {\"gridcolor\": \"#506784\", \"linecolor\": \"#506784\", \"ticks\": \"\"}}, \"title\": {\"x\": 0.05}, \"updatemenudefaults\": {\"bgcolor\": \"#506784\", \"borderwidth\": 0}, \"xaxis\": {\"automargin\": true, \"gridcolor\": \"#283442\", \"linecolor\": \"#506784\", \"ticks\": \"\", \"title\": {\"standoff\": 15}, \"zerolinecolor\": \"#283442\", \"zerolinewidth\": 2}, \"yaxis\": {\"automargin\": true, \"gridcolor\": \"#283442\", \"linecolor\": \"#506784\", \"ticks\": \"\", \"title\": {\"standoff\": 15}, \"zerolinecolor\": \"#283442\", \"zerolinewidth\": 2}}}, \"title\": {\"text\": \"2015 Top-Bottom Analysis\"}, \"xaxis\": {\"anchor\": \"y\", \"domain\": [0.0, 1.0], \"title\": {\"text\": \"Happiness Score\"}}, \"yaxis\": {\"anchor\": \"x\", \"domain\": [0.0, 1.0], \"title\": {\"text\": \"Countries\"}}},                        {\"responsive\": true}                    ).then(function(){\n",
       "                            \n",
       "var gd = document.getElementById('6ba0f3b8-c2b4-48d6-8de5-9c8c2826faa7');\n",
       "var x = new MutationObserver(function (mutations, observer) {{\n",
       "        var display = window.getComputedStyle(gd).display;\n",
       "        if (!display || display === 'none') {{\n",
       "            console.log([gd, 'removed!']);\n",
       "            Plotly.purge(gd);\n",
       "            observer.disconnect();\n",
       "        }}\n",
       "}});\n",
       "\n",
       "// Listen for the removal of the full notebook cells\n",
       "var notebookContainer = gd.closest('#notebook-container');\n",
       "if (notebookContainer) {{\n",
       "    x.observe(notebookContainer, {childList: true});\n",
       "}}\n",
       "\n",
       "// Listen for the clearing of the current output cell\n",
       "var outputEl = gd.closest('.output');\n",
       "if (outputEl) {{\n",
       "    x.observe(outputEl, {childList: true});\n",
       "}}\n",
       "\n",
       "                        })                };                });            </script>        </div>"
      ]
     },
     "metadata": {},
     "output_type": "display_data"
    },
    {
     "data": {
      "application/vnd.plotly.v1+json": {
       "config": {
        "plotlyServerURL": "https://plot.ly"
       },
       "data": [
        {
         "alignmentgroup": "True",
         "hovertemplate": "Contributing Factors=Economy_(GDP_per_Capita)<br>Happiness Score=%{x}<br>Countries=%{y}<extra></extra>",
         "legendgroup": "Economy_(GDP_per_Capita)",
         "marker": {
          "color": "rgb(166,206,227)"
         },
         "name": "Economy_(GDP_per_Capita)",
         "offsetgroup": "Economy_(GDP_per_Capita)",
         "orientation": "h",
         "showlegend": true,
         "textposition": "auto",
         "type": "bar",
         "x": [
          0.06831,
          0.7471899999999999,
          0.28123000000000004,
          0.38227,
          0.39499,
          0.32846,
          0.22415,
          0.10706,
          0.47155,
          0.27954,
          1.45181,
          1.44443,
          1.36066,
          1.46468,
          1.44015,
          1.40598,
          1.57744,
          1.42666,
          1.52733,
          1.4417799999999998
         ],
         "xaxis": "x",
         "y": [
          "Burundi",
          "Syria",
          "Togo",
          "Afghanistan",
          "Benin",
          "Rwanda",
          "Guinea",
          "Liberia",
          "Tanzania",
          "Madagascar",
          "Sweden",
          "Australia",
          "New Zealand",
          "Netherlands",
          "Canada",
          "Finland",
          "Norway",
          "Iceland",
          "Switzerland",
          "Denmark"
         ],
         "yaxis": "y"
        },
        {
         "alignmentgroup": "True",
         "hovertemplate": "Contributing Factors=Family<br>Happiness Score=%{x}<br>Countries=%{y}<extra></extra>",
         "legendgroup": "Family",
         "marker": {
          "color": "rgb(31,120,180)"
         },
         "name": "Family",
         "offsetgroup": "Family",
         "orientation": "h",
         "showlegend": true,
         "textposition": "auto",
         "type": "bar",
         "x": [
          0.23442,
          0.14866,
          0,
          0.11037,
          0.10419,
          0.6158600000000001,
          0.3109,
          0.50353,
          0.77623,
          0.46115,
          1.08764,
          1.10476,
          1.17278,
          1.02912,
          1.0961,
          1.13464,
          1.1269,
          1.18326,
          1.14524,
          1.16374
         ],
         "xaxis": "x",
         "y": [
          "Burundi",
          "Syria",
          "Togo",
          "Afghanistan",
          "Benin",
          "Rwanda",
          "Guinea",
          "Liberia",
          "Tanzania",
          "Madagascar",
          "Sweden",
          "Australia",
          "New Zealand",
          "Netherlands",
          "Canada",
          "Finland",
          "Norway",
          "Iceland",
          "Switzerland",
          "Denmark"
         ],
         "yaxis": "y"
        },
        {
         "alignmentgroup": "True",
         "hovertemplate": "Contributing Factors=Health_(Life_Expectancy)<br>Happiness Score=%{x}<br>Countries=%{y}<extra></extra>",
         "legendgroup": "Health_(Life_Expectancy)",
         "marker": {
          "color": "rgb(178,223,138)"
         },
         "name": "Health_(Life_Expectancy)",
         "offsetgroup": "Health_(Life_Expectancy)",
         "orientation": "h",
         "showlegend": true,
         "textposition": "auto",
         "type": "bar",
         "x": [
          0.15747,
          0.6299399999999999,
          0.24811,
          0.17344,
          0.21028,
          0.31865,
          0.18829,
          0.23165,
          0.35700000000000004,
          0.37109,
          0.83121,
          0.8512,
          0.83096,
          0.8123100000000001,
          0.8276,
          0.81091,
          0.79579,
          0.8673299999999999,
          0.86303,
          0.79504
         ],
         "xaxis": "x",
         "y": [
          "Burundi",
          "Syria",
          "Togo",
          "Afghanistan",
          "Benin",
          "Rwanda",
          "Guinea",
          "Liberia",
          "Tanzania",
          "Madagascar",
          "Sweden",
          "Australia",
          "New Zealand",
          "Netherlands",
          "Canada",
          "Finland",
          "Norway",
          "Iceland",
          "Switzerland",
          "Denmark"
         ],
         "yaxis": "y"
        },
        {
         "alignmentgroup": "True",
         "hovertemplate": "Contributing Factors=Freedom<br>Happiness Score=%{x}<br>Countries=%{y}<extra></extra>",
         "legendgroup": "Freedom",
         "marker": {
          "color": "rgb(51,160,44)"
         },
         "name": "Freedom",
         "offsetgroup": "Freedom",
         "orientation": "h",
         "showlegend": true,
         "textposition": "auto",
         "type": "bar",
         "x": [
          0.0432,
          0.06912,
          0.34678000000000003,
          0.1643,
          0.39747,
          0.5432,
          0.30953,
          0.25748000000000004,
          0.3176,
          0.13684000000000002,
          0.58218,
          0.5683699999999999,
          0.5814699999999999,
          0.55211,
          0.5737,
          0.57104,
          0.59609,
          0.56624,
          0.58557,
          0.5794100000000001
         ],
         "xaxis": "x",
         "y": [
          "Burundi",
          "Syria",
          "Togo",
          "Afghanistan",
          "Benin",
          "Rwanda",
          "Guinea",
          "Liberia",
          "Tanzania",
          "Madagascar",
          "Sweden",
          "Australia",
          "New Zealand",
          "Netherlands",
          "Canada",
          "Finland",
          "Norway",
          "Iceland",
          "Switzerland",
          "Denmark"
         ],
         "yaxis": "y"
        },
        {
         "alignmentgroup": "True",
         "hovertemplate": "Contributing Factors=Trust_(Government_Corruption)<br>Happiness Score=%{x}<br>Countries=%{y}<extra></extra>",
         "legendgroup": "Trust_(Government_Corruption)",
         "marker": {
          "color": "rgb(251,154,153)"
         },
         "name": "Trust_(Government_Corruption)",
         "offsetgroup": "Trust_(Government_Corruption)",
         "orientation": "h",
         "showlegend": true,
         "textposition": "auto",
         "type": "bar",
         "x": [
          0.09419,
          0.17232999999999998,
          0.11587,
          0.07112,
          0.06681000000000001,
          0.50521,
          0.1192,
          0.04852,
          0.05099,
          0.07506,
          0.40867,
          0.32331,
          0.41904,
          0.29927,
          0.31329,
          0.41004,
          0.35776,
          0.14975,
          0.41203,
          0.44453
         ],
         "xaxis": "x",
         "y": [
          "Burundi",
          "Syria",
          "Togo",
          "Afghanistan",
          "Benin",
          "Rwanda",
          "Guinea",
          "Liberia",
          "Tanzania",
          "Madagascar",
          "Sweden",
          "Australia",
          "New Zealand",
          "Netherlands",
          "Canada",
          "Finland",
          "Norway",
          "Iceland",
          "Switzerland",
          "Denmark"
         ],
         "yaxis": "y"
        },
        {
         "alignmentgroup": "True",
         "hovertemplate": "Contributing Factors=Generosity<br>Happiness Score=%{x}<br>Countries=%{y}<extra></extra>",
         "legendgroup": "Generosity",
         "marker": {
          "color": "rgb(227,26,28)"
         },
         "name": "Generosity",
         "offsetgroup": "Generosity",
         "orientation": "h",
         "showlegend": true,
         "textposition": "auto",
         "type": "bar",
         "x": [
          0.2029,
          0.48397,
          0.17517,
          0.31268,
          0.2018,
          0.23552,
          0.29914,
          0.24063,
          0.31472,
          0.2204,
          0.38254,
          0.47407,
          0.4940100000000001,
          0.47416,
          0.44834,
          0.25492,
          0.37895,
          0.47678,
          0.28083,
          0.36171
         ],
         "xaxis": "x",
         "y": [
          "Burundi",
          "Syria",
          "Togo",
          "Afghanistan",
          "Benin",
          "Rwanda",
          "Guinea",
          "Liberia",
          "Tanzania",
          "Madagascar",
          "Sweden",
          "Australia",
          "New Zealand",
          "Netherlands",
          "Canada",
          "Finland",
          "Norway",
          "Iceland",
          "Switzerland",
          "Denmark"
         ],
         "yaxis": "y"
        },
        {
         "alignmentgroup": "True",
         "hovertemplate": "Contributing Factors=Dystopia_Residual<br>Happiness Score=%{x}<br>Countries=%{y}<extra></extra>",
         "legendgroup": "Dystopia_Residual",
         "marker": {
          "color": "rgb(253,191,111)"
         },
         "name": "Dystopia_Residual",
         "offsetgroup": "Dystopia_Residual",
         "orientation": "h",
         "showlegend": true,
         "textposition": "auto",
         "type": "bar",
         "x": [
          2.1040400000000004,
          0.81789,
          2.1354,
          2.14558,
          2.10812,
          0.96819,
          2.15604,
          2.23284,
          1.37769,
          2.15075,
          2.54734,
          2.5465,
          2.47553,
          2.70749,
          2.70485,
          2.82596,
          2.66465,
          2.83137,
          2.69463,
          2.73939
         ],
         "xaxis": "x",
         "y": [
          "Burundi",
          "Syria",
          "Togo",
          "Afghanistan",
          "Benin",
          "Rwanda",
          "Guinea",
          "Liberia",
          "Tanzania",
          "Madagascar",
          "Sweden",
          "Australia",
          "New Zealand",
          "Netherlands",
          "Canada",
          "Finland",
          "Norway",
          "Iceland",
          "Switzerland",
          "Denmark"
         ],
         "yaxis": "y"
        }
       ],
       "layout": {
        "barmode": "stack",
        "legend": {
         "title": {
          "text": "Contributing Factors"
         },
         "tracegroupgap": 0
        },
        "template": {
         "data": {
          "bar": [
           {
            "error_x": {
             "color": "#f2f5fa"
            },
            "error_y": {
             "color": "#f2f5fa"
            },
            "marker": {
             "line": {
              "color": "rgb(17,17,17)",
              "width": 0.5
             }
            },
            "type": "bar"
           }
          ],
          "barpolar": [
           {
            "marker": {
             "line": {
              "color": "rgb(17,17,17)",
              "width": 0.5
             }
            },
            "type": "barpolar"
           }
          ],
          "carpet": [
           {
            "aaxis": {
             "endlinecolor": "#A2B1C6",
             "gridcolor": "#506784",
             "linecolor": "#506784",
             "minorgridcolor": "#506784",
             "startlinecolor": "#A2B1C6"
            },
            "baxis": {
             "endlinecolor": "#A2B1C6",
             "gridcolor": "#506784",
             "linecolor": "#506784",
             "minorgridcolor": "#506784",
             "startlinecolor": "#A2B1C6"
            },
            "type": "carpet"
           }
          ],
          "choropleth": [
           {
            "colorbar": {
             "outlinewidth": 0,
             "ticks": ""
            },
            "type": "choropleth"
           }
          ],
          "contour": [
           {
            "colorbar": {
             "outlinewidth": 0,
             "ticks": ""
            },
            "colorscale": [
             [
              0,
              "#0d0887"
             ],
             [
              0.1111111111111111,
              "#46039f"
             ],
             [
              0.2222222222222222,
              "#7201a8"
             ],
             [
              0.3333333333333333,
              "#9c179e"
             ],
             [
              0.4444444444444444,
              "#bd3786"
             ],
             [
              0.5555555555555556,
              "#d8576b"
             ],
             [
              0.6666666666666666,
              "#ed7953"
             ],
             [
              0.7777777777777778,
              "#fb9f3a"
             ],
             [
              0.8888888888888888,
              "#fdca26"
             ],
             [
              1,
              "#f0f921"
             ]
            ],
            "type": "contour"
           }
          ],
          "contourcarpet": [
           {
            "colorbar": {
             "outlinewidth": 0,
             "ticks": ""
            },
            "type": "contourcarpet"
           }
          ],
          "heatmap": [
           {
            "colorbar": {
             "outlinewidth": 0,
             "ticks": ""
            },
            "colorscale": [
             [
              0,
              "#0d0887"
             ],
             [
              0.1111111111111111,
              "#46039f"
             ],
             [
              0.2222222222222222,
              "#7201a8"
             ],
             [
              0.3333333333333333,
              "#9c179e"
             ],
             [
              0.4444444444444444,
              "#bd3786"
             ],
             [
              0.5555555555555556,
              "#d8576b"
             ],
             [
              0.6666666666666666,
              "#ed7953"
             ],
             [
              0.7777777777777778,
              "#fb9f3a"
             ],
             [
              0.8888888888888888,
              "#fdca26"
             ],
             [
              1,
              "#f0f921"
             ]
            ],
            "type": "heatmap"
           }
          ],
          "heatmapgl": [
           {
            "colorbar": {
             "outlinewidth": 0,
             "ticks": ""
            },
            "colorscale": [
             [
              0,
              "#0d0887"
             ],
             [
              0.1111111111111111,
              "#46039f"
             ],
             [
              0.2222222222222222,
              "#7201a8"
             ],
             [
              0.3333333333333333,
              "#9c179e"
             ],
             [
              0.4444444444444444,
              "#bd3786"
             ],
             [
              0.5555555555555556,
              "#d8576b"
             ],
             [
              0.6666666666666666,
              "#ed7953"
             ],
             [
              0.7777777777777778,
              "#fb9f3a"
             ],
             [
              0.8888888888888888,
              "#fdca26"
             ],
             [
              1,
              "#f0f921"
             ]
            ],
            "type": "heatmapgl"
           }
          ],
          "histogram": [
           {
            "marker": {
             "colorbar": {
              "outlinewidth": 0,
              "ticks": ""
             }
            },
            "type": "histogram"
           }
          ],
          "histogram2d": [
           {
            "colorbar": {
             "outlinewidth": 0,
             "ticks": ""
            },
            "colorscale": [
             [
              0,
              "#0d0887"
             ],
             [
              0.1111111111111111,
              "#46039f"
             ],
             [
              0.2222222222222222,
              "#7201a8"
             ],
             [
              0.3333333333333333,
              "#9c179e"
             ],
             [
              0.4444444444444444,
              "#bd3786"
             ],
             [
              0.5555555555555556,
              "#d8576b"
             ],
             [
              0.6666666666666666,
              "#ed7953"
             ],
             [
              0.7777777777777778,
              "#fb9f3a"
             ],
             [
              0.8888888888888888,
              "#fdca26"
             ],
             [
              1,
              "#f0f921"
             ]
            ],
            "type": "histogram2d"
           }
          ],
          "histogram2dcontour": [
           {
            "colorbar": {
             "outlinewidth": 0,
             "ticks": ""
            },
            "colorscale": [
             [
              0,
              "#0d0887"
             ],
             [
              0.1111111111111111,
              "#46039f"
             ],
             [
              0.2222222222222222,
              "#7201a8"
             ],
             [
              0.3333333333333333,
              "#9c179e"
             ],
             [
              0.4444444444444444,
              "#bd3786"
             ],
             [
              0.5555555555555556,
              "#d8576b"
             ],
             [
              0.6666666666666666,
              "#ed7953"
             ],
             [
              0.7777777777777778,
              "#fb9f3a"
             ],
             [
              0.8888888888888888,
              "#fdca26"
             ],
             [
              1,
              "#f0f921"
             ]
            ],
            "type": "histogram2dcontour"
           }
          ],
          "mesh3d": [
           {
            "colorbar": {
             "outlinewidth": 0,
             "ticks": ""
            },
            "type": "mesh3d"
           }
          ],
          "parcoords": [
           {
            "line": {
             "colorbar": {
              "outlinewidth": 0,
              "ticks": ""
             }
            },
            "type": "parcoords"
           }
          ],
          "pie": [
           {
            "automargin": true,
            "type": "pie"
           }
          ],
          "scatter": [
           {
            "marker": {
             "line": {
              "color": "#283442"
             }
            },
            "type": "scatter"
           }
          ],
          "scatter3d": [
           {
            "line": {
             "colorbar": {
              "outlinewidth": 0,
              "ticks": ""
             }
            },
            "marker": {
             "colorbar": {
              "outlinewidth": 0,
              "ticks": ""
             }
            },
            "type": "scatter3d"
           }
          ],
          "scattercarpet": [
           {
            "marker": {
             "colorbar": {
              "outlinewidth": 0,
              "ticks": ""
             }
            },
            "type": "scattercarpet"
           }
          ],
          "scattergeo": [
           {
            "marker": {
             "colorbar": {
              "outlinewidth": 0,
              "ticks": ""
             }
            },
            "type": "scattergeo"
           }
          ],
          "scattergl": [
           {
            "marker": {
             "line": {
              "color": "#283442"
             }
            },
            "type": "scattergl"
           }
          ],
          "scattermapbox": [
           {
            "marker": {
             "colorbar": {
              "outlinewidth": 0,
              "ticks": ""
             }
            },
            "type": "scattermapbox"
           }
          ],
          "scatterpolar": [
           {
            "marker": {
             "colorbar": {
              "outlinewidth": 0,
              "ticks": ""
             }
            },
            "type": "scatterpolar"
           }
          ],
          "scatterpolargl": [
           {
            "marker": {
             "colorbar": {
              "outlinewidth": 0,
              "ticks": ""
             }
            },
            "type": "scatterpolargl"
           }
          ],
          "scatterternary": [
           {
            "marker": {
             "colorbar": {
              "outlinewidth": 0,
              "ticks": ""
             }
            },
            "type": "scatterternary"
           }
          ],
          "surface": [
           {
            "colorbar": {
             "outlinewidth": 0,
             "ticks": ""
            },
            "colorscale": [
             [
              0,
              "#0d0887"
             ],
             [
              0.1111111111111111,
              "#46039f"
             ],
             [
              0.2222222222222222,
              "#7201a8"
             ],
             [
              0.3333333333333333,
              "#9c179e"
             ],
             [
              0.4444444444444444,
              "#bd3786"
             ],
             [
              0.5555555555555556,
              "#d8576b"
             ],
             [
              0.6666666666666666,
              "#ed7953"
             ],
             [
              0.7777777777777778,
              "#fb9f3a"
             ],
             [
              0.8888888888888888,
              "#fdca26"
             ],
             [
              1,
              "#f0f921"
             ]
            ],
            "type": "surface"
           }
          ],
          "table": [
           {
            "cells": {
             "fill": {
              "color": "#506784"
             },
             "line": {
              "color": "rgb(17,17,17)"
             }
            },
            "header": {
             "fill": {
              "color": "#2a3f5f"
             },
             "line": {
              "color": "rgb(17,17,17)"
             }
            },
            "type": "table"
           }
          ]
         },
         "layout": {
          "annotationdefaults": {
           "arrowcolor": "#f2f5fa",
           "arrowhead": 0,
           "arrowwidth": 1
          },
          "coloraxis": {
           "colorbar": {
            "outlinewidth": 0,
            "ticks": ""
           }
          },
          "colorscale": {
           "diverging": [
            [
             0,
             "#8e0152"
            ],
            [
             0.1,
             "#c51b7d"
            ],
            [
             0.2,
             "#de77ae"
            ],
            [
             0.3,
             "#f1b6da"
            ],
            [
             0.4,
             "#fde0ef"
            ],
            [
             0.5,
             "#f7f7f7"
            ],
            [
             0.6,
             "#e6f5d0"
            ],
            [
             0.7,
             "#b8e186"
            ],
            [
             0.8,
             "#7fbc41"
            ],
            [
             0.9,
             "#4d9221"
            ],
            [
             1,
             "#276419"
            ]
           ],
           "sequential": [
            [
             0,
             "#0d0887"
            ],
            [
             0.1111111111111111,
             "#46039f"
            ],
            [
             0.2222222222222222,
             "#7201a8"
            ],
            [
             0.3333333333333333,
             "#9c179e"
            ],
            [
             0.4444444444444444,
             "#bd3786"
            ],
            [
             0.5555555555555556,
             "#d8576b"
            ],
            [
             0.6666666666666666,
             "#ed7953"
            ],
            [
             0.7777777777777778,
             "#fb9f3a"
            ],
            [
             0.8888888888888888,
             "#fdca26"
            ],
            [
             1,
             "#f0f921"
            ]
           ],
           "sequentialminus": [
            [
             0,
             "#0d0887"
            ],
            [
             0.1111111111111111,
             "#46039f"
            ],
            [
             0.2222222222222222,
             "#7201a8"
            ],
            [
             0.3333333333333333,
             "#9c179e"
            ],
            [
             0.4444444444444444,
             "#bd3786"
            ],
            [
             0.5555555555555556,
             "#d8576b"
            ],
            [
             0.6666666666666666,
             "#ed7953"
            ],
            [
             0.7777777777777778,
             "#fb9f3a"
            ],
            [
             0.8888888888888888,
             "#fdca26"
            ],
            [
             1,
             "#f0f921"
            ]
           ]
          },
          "colorway": [
           "#636efa",
           "#EF553B",
           "#00cc96",
           "#ab63fa",
           "#FFA15A",
           "#19d3f3",
           "#FF6692",
           "#B6E880",
           "#FF97FF",
           "#FECB52"
          ],
          "font": {
           "color": "#f2f5fa"
          },
          "geo": {
           "bgcolor": "rgb(17,17,17)",
           "lakecolor": "rgb(17,17,17)",
           "landcolor": "rgb(17,17,17)",
           "showlakes": true,
           "showland": true,
           "subunitcolor": "#506784"
          },
          "hoverlabel": {
           "align": "left"
          },
          "hovermode": "closest",
          "mapbox": {
           "style": "dark"
          },
          "paper_bgcolor": "rgb(17,17,17)",
          "plot_bgcolor": "rgb(17,17,17)",
          "polar": {
           "angularaxis": {
            "gridcolor": "#506784",
            "linecolor": "#506784",
            "ticks": ""
           },
           "bgcolor": "rgb(17,17,17)",
           "radialaxis": {
            "gridcolor": "#506784",
            "linecolor": "#506784",
            "ticks": ""
           }
          },
          "scene": {
           "xaxis": {
            "backgroundcolor": "rgb(17,17,17)",
            "gridcolor": "#506784",
            "gridwidth": 2,
            "linecolor": "#506784",
            "showbackground": true,
            "ticks": "",
            "zerolinecolor": "#C8D4E3"
           },
           "yaxis": {
            "backgroundcolor": "rgb(17,17,17)",
            "gridcolor": "#506784",
            "gridwidth": 2,
            "linecolor": "#506784",
            "showbackground": true,
            "ticks": "",
            "zerolinecolor": "#C8D4E3"
           },
           "zaxis": {
            "backgroundcolor": "rgb(17,17,17)",
            "gridcolor": "#506784",
            "gridwidth": 2,
            "linecolor": "#506784",
            "showbackground": true,
            "ticks": "",
            "zerolinecolor": "#C8D4E3"
           }
          },
          "shapedefaults": {
           "line": {
            "color": "#f2f5fa"
           }
          },
          "sliderdefaults": {
           "bgcolor": "#C8D4E3",
           "bordercolor": "rgb(17,17,17)",
           "borderwidth": 1,
           "tickwidth": 0
          },
          "ternary": {
           "aaxis": {
            "gridcolor": "#506784",
            "linecolor": "#506784",
            "ticks": ""
           },
           "baxis": {
            "gridcolor": "#506784",
            "linecolor": "#506784",
            "ticks": ""
           },
           "bgcolor": "rgb(17,17,17)",
           "caxis": {
            "gridcolor": "#506784",
            "linecolor": "#506784",
            "ticks": ""
           }
          },
          "title": {
           "x": 0.05
          },
          "updatemenudefaults": {
           "bgcolor": "#506784",
           "borderwidth": 0
          },
          "xaxis": {
           "automargin": true,
           "gridcolor": "#283442",
           "linecolor": "#506784",
           "ticks": "",
           "title": {
            "standoff": 15
           },
           "zerolinecolor": "#283442",
           "zerolinewidth": 2
          },
          "yaxis": {
           "automargin": true,
           "gridcolor": "#283442",
           "linecolor": "#506784",
           "ticks": "",
           "title": {
            "standoff": 15
           },
           "zerolinecolor": "#283442",
           "zerolinewidth": 2
          }
         }
        },
        "title": {
         "text": "2016 Top-Bottom Analysis"
        },
        "xaxis": {
         "anchor": "y",
         "domain": [
          0,
          1
         ],
         "title": {
          "text": "Happiness Score"
         }
        },
        "yaxis": {
         "anchor": "x",
         "domain": [
          0,
          1
         ],
         "title": {
          "text": "Countries"
         }
        }
       }
      },
      "text/html": [
       "<div>                            <div id=\"f721def8-d9fb-4c28-be85-a4f11fc38f65\" class=\"plotly-graph-div\" style=\"height:525px; width:100%;\"></div>            <script type=\"text/javascript\">                require([\"plotly\"], function(Plotly) {                    window.PLOTLYENV=window.PLOTLYENV || {};                                    if (document.getElementById(\"f721def8-d9fb-4c28-be85-a4f11fc38f65\")) {                    Plotly.newPlot(                        \"f721def8-d9fb-4c28-be85-a4f11fc38f65\",                        [{\"alignmentgroup\": \"True\", \"hovertemplate\": \"Contributing Factors=Economy_(GDP_per_Capita)<br>Happiness Score=%{x}<br>Countries=%{y}<extra></extra>\", \"legendgroup\": \"Economy_(GDP_per_Capita)\", \"marker\": {\"color\": \"rgb(166,206,227)\"}, \"name\": \"Economy_(GDP_per_Capita)\", \"offsetgroup\": \"Economy_(GDP_per_Capita)\", \"orientation\": \"h\", \"showlegend\": true, \"textposition\": \"auto\", \"type\": \"bar\", \"x\": [0.06831, 0.7471899999999999, 0.28123000000000004, 0.38227, 0.39499, 0.32846, 0.22415, 0.10706, 0.47155, 0.27954, 1.45181, 1.44443, 1.36066, 1.46468, 1.44015, 1.40598, 1.57744, 1.42666, 1.52733, 1.4417799999999998], \"xaxis\": \"x\", \"y\": [\"Burundi\", \"Syria\", \"Togo\", \"Afghanistan\", \"Benin\", \"Rwanda\", \"Guinea\", \"Liberia\", \"Tanzania\", \"Madagascar\", \"Sweden\", \"Australia\", \"New Zealand\", \"Netherlands\", \"Canada\", \"Finland\", \"Norway\", \"Iceland\", \"Switzerland\", \"Denmark\"], \"yaxis\": \"y\"}, {\"alignmentgroup\": \"True\", \"hovertemplate\": \"Contributing Factors=Family<br>Happiness Score=%{x}<br>Countries=%{y}<extra></extra>\", \"legendgroup\": \"Family\", \"marker\": {\"color\": \"rgb(31,120,180)\"}, \"name\": \"Family\", \"offsetgroup\": \"Family\", \"orientation\": \"h\", \"showlegend\": true, \"textposition\": \"auto\", \"type\": \"bar\", \"x\": [0.23442, 0.14866, 0.0, 0.11037, 0.10419, 0.6158600000000001, 0.3109, 0.50353, 0.77623, 0.46115, 1.08764, 1.10476, 1.17278, 1.02912, 1.0961, 1.13464, 1.1269, 1.18326, 1.14524, 1.16374], \"xaxis\": \"x\", \"y\": [\"Burundi\", \"Syria\", \"Togo\", \"Afghanistan\", \"Benin\", \"Rwanda\", \"Guinea\", \"Liberia\", \"Tanzania\", \"Madagascar\", \"Sweden\", \"Australia\", \"New Zealand\", \"Netherlands\", \"Canada\", \"Finland\", \"Norway\", \"Iceland\", \"Switzerland\", \"Denmark\"], \"yaxis\": \"y\"}, {\"alignmentgroup\": \"True\", \"hovertemplate\": \"Contributing Factors=Health_(Life_Expectancy)<br>Happiness Score=%{x}<br>Countries=%{y}<extra></extra>\", \"legendgroup\": \"Health_(Life_Expectancy)\", \"marker\": {\"color\": \"rgb(178,223,138)\"}, \"name\": \"Health_(Life_Expectancy)\", \"offsetgroup\": \"Health_(Life_Expectancy)\", \"orientation\": \"h\", \"showlegend\": true, \"textposition\": \"auto\", \"type\": \"bar\", \"x\": [0.15747, 0.6299399999999999, 0.24811, 0.17344, 0.21028, 0.31865, 0.18829, 0.23165, 0.35700000000000004, 0.37109, 0.83121, 0.8512, 0.83096, 0.8123100000000001, 0.8276, 0.81091, 0.79579, 0.8673299999999999, 0.86303, 0.79504], \"xaxis\": \"x\", \"y\": [\"Burundi\", \"Syria\", \"Togo\", \"Afghanistan\", \"Benin\", \"Rwanda\", \"Guinea\", \"Liberia\", \"Tanzania\", \"Madagascar\", \"Sweden\", \"Australia\", \"New Zealand\", \"Netherlands\", \"Canada\", \"Finland\", \"Norway\", \"Iceland\", \"Switzerland\", \"Denmark\"], \"yaxis\": \"y\"}, {\"alignmentgroup\": \"True\", \"hovertemplate\": \"Contributing Factors=Freedom<br>Happiness Score=%{x}<br>Countries=%{y}<extra></extra>\", \"legendgroup\": \"Freedom\", \"marker\": {\"color\": \"rgb(51,160,44)\"}, \"name\": \"Freedom\", \"offsetgroup\": \"Freedom\", \"orientation\": \"h\", \"showlegend\": true, \"textposition\": \"auto\", \"type\": \"bar\", \"x\": [0.0432, 0.06912, 0.34678000000000003, 0.1643, 0.39747, 0.5432, 0.30953, 0.25748000000000004, 0.3176, 0.13684000000000002, 0.58218, 0.5683699999999999, 0.5814699999999999, 0.55211, 0.5737, 0.57104, 0.59609, 0.56624, 0.58557, 0.5794100000000001], \"xaxis\": \"x\", \"y\": [\"Burundi\", \"Syria\", \"Togo\", \"Afghanistan\", \"Benin\", \"Rwanda\", \"Guinea\", \"Liberia\", \"Tanzania\", \"Madagascar\", \"Sweden\", \"Australia\", \"New Zealand\", \"Netherlands\", \"Canada\", \"Finland\", \"Norway\", \"Iceland\", \"Switzerland\", \"Denmark\"], \"yaxis\": \"y\"}, {\"alignmentgroup\": \"True\", \"hovertemplate\": \"Contributing Factors=Trust_(Government_Corruption)<br>Happiness Score=%{x}<br>Countries=%{y}<extra></extra>\", \"legendgroup\": \"Trust_(Government_Corruption)\", \"marker\": {\"color\": \"rgb(251,154,153)\"}, \"name\": \"Trust_(Government_Corruption)\", \"offsetgroup\": \"Trust_(Government_Corruption)\", \"orientation\": \"h\", \"showlegend\": true, \"textposition\": \"auto\", \"type\": \"bar\", \"x\": [0.09419, 0.17232999999999998, 0.11587, 0.07112, 0.06681000000000001, 0.50521, 0.1192, 0.04852, 0.05099, 0.07506, 0.40867, 0.32331, 0.41904, 0.29927, 0.31329, 0.41004, 0.35776, 0.14975, 0.41203, 0.44453], \"xaxis\": \"x\", \"y\": [\"Burundi\", \"Syria\", \"Togo\", \"Afghanistan\", \"Benin\", \"Rwanda\", \"Guinea\", \"Liberia\", \"Tanzania\", \"Madagascar\", \"Sweden\", \"Australia\", \"New Zealand\", \"Netherlands\", \"Canada\", \"Finland\", \"Norway\", \"Iceland\", \"Switzerland\", \"Denmark\"], \"yaxis\": \"y\"}, {\"alignmentgroup\": \"True\", \"hovertemplate\": \"Contributing Factors=Generosity<br>Happiness Score=%{x}<br>Countries=%{y}<extra></extra>\", \"legendgroup\": \"Generosity\", \"marker\": {\"color\": \"rgb(227,26,28)\"}, \"name\": \"Generosity\", \"offsetgroup\": \"Generosity\", \"orientation\": \"h\", \"showlegend\": true, \"textposition\": \"auto\", \"type\": \"bar\", \"x\": [0.2029, 0.48397, 0.17517, 0.31268, 0.2018, 0.23552, 0.29914, 0.24063, 0.31472, 0.2204, 0.38254, 0.47407, 0.4940100000000001, 0.47416, 0.44834, 0.25492, 0.37895, 0.47678, 0.28083, 0.36171], \"xaxis\": \"x\", \"y\": [\"Burundi\", \"Syria\", \"Togo\", \"Afghanistan\", \"Benin\", \"Rwanda\", \"Guinea\", \"Liberia\", \"Tanzania\", \"Madagascar\", \"Sweden\", \"Australia\", \"New Zealand\", \"Netherlands\", \"Canada\", \"Finland\", \"Norway\", \"Iceland\", \"Switzerland\", \"Denmark\"], \"yaxis\": \"y\"}, {\"alignmentgroup\": \"True\", \"hovertemplate\": \"Contributing Factors=Dystopia_Residual<br>Happiness Score=%{x}<br>Countries=%{y}<extra></extra>\", \"legendgroup\": \"Dystopia_Residual\", \"marker\": {\"color\": \"rgb(253,191,111)\"}, \"name\": \"Dystopia_Residual\", \"offsetgroup\": \"Dystopia_Residual\", \"orientation\": \"h\", \"showlegend\": true, \"textposition\": \"auto\", \"type\": \"bar\", \"x\": [2.1040400000000004, 0.81789, 2.1354, 2.14558, 2.10812, 0.96819, 2.15604, 2.23284, 1.37769, 2.15075, 2.54734, 2.5465, 2.47553, 2.70749, 2.70485, 2.82596, 2.66465, 2.83137, 2.69463, 2.73939], \"xaxis\": \"x\", \"y\": [\"Burundi\", \"Syria\", \"Togo\", \"Afghanistan\", \"Benin\", \"Rwanda\", \"Guinea\", \"Liberia\", \"Tanzania\", \"Madagascar\", \"Sweden\", \"Australia\", \"New Zealand\", \"Netherlands\", \"Canada\", \"Finland\", \"Norway\", \"Iceland\", \"Switzerland\", \"Denmark\"], \"yaxis\": \"y\"}],                        {\"barmode\": \"stack\", \"legend\": {\"title\": {\"text\": \"Contributing Factors\"}, \"tracegroupgap\": 0}, \"template\": {\"data\": {\"bar\": [{\"error_x\": {\"color\": \"#f2f5fa\"}, \"error_y\": {\"color\": \"#f2f5fa\"}, \"marker\": {\"line\": {\"color\": \"rgb(17,17,17)\", \"width\": 0.5}}, \"type\": \"bar\"}], \"barpolar\": [{\"marker\": {\"line\": {\"color\": \"rgb(17,17,17)\", \"width\": 0.5}}, \"type\": \"barpolar\"}], \"carpet\": [{\"aaxis\": {\"endlinecolor\": \"#A2B1C6\", \"gridcolor\": \"#506784\", \"linecolor\": \"#506784\", \"minorgridcolor\": \"#506784\", \"startlinecolor\": \"#A2B1C6\"}, \"baxis\": {\"endlinecolor\": \"#A2B1C6\", \"gridcolor\": \"#506784\", \"linecolor\": \"#506784\", \"minorgridcolor\": \"#506784\", \"startlinecolor\": \"#A2B1C6\"}, \"type\": \"carpet\"}], \"choropleth\": [{\"colorbar\": {\"outlinewidth\": 0, \"ticks\": \"\"}, \"type\": \"choropleth\"}], \"contour\": [{\"colorbar\": {\"outlinewidth\": 0, \"ticks\": \"\"}, \"colorscale\": [[0.0, \"#0d0887\"], [0.1111111111111111, \"#46039f\"], [0.2222222222222222, \"#7201a8\"], [0.3333333333333333, \"#9c179e\"], [0.4444444444444444, \"#bd3786\"], [0.5555555555555556, \"#d8576b\"], [0.6666666666666666, \"#ed7953\"], [0.7777777777777778, \"#fb9f3a\"], [0.8888888888888888, \"#fdca26\"], [1.0, \"#f0f921\"]], \"type\": \"contour\"}], \"contourcarpet\": [{\"colorbar\": {\"outlinewidth\": 0, \"ticks\": \"\"}, \"type\": \"contourcarpet\"}], \"heatmap\": [{\"colorbar\": {\"outlinewidth\": 0, \"ticks\": \"\"}, \"colorscale\": [[0.0, \"#0d0887\"], [0.1111111111111111, \"#46039f\"], [0.2222222222222222, \"#7201a8\"], [0.3333333333333333, \"#9c179e\"], [0.4444444444444444, \"#bd3786\"], [0.5555555555555556, \"#d8576b\"], [0.6666666666666666, \"#ed7953\"], [0.7777777777777778, \"#fb9f3a\"], [0.8888888888888888, \"#fdca26\"], [1.0, \"#f0f921\"]], \"type\": \"heatmap\"}], \"heatmapgl\": [{\"colorbar\": {\"outlinewidth\": 0, \"ticks\": \"\"}, \"colorscale\": [[0.0, \"#0d0887\"], [0.1111111111111111, \"#46039f\"], [0.2222222222222222, \"#7201a8\"], [0.3333333333333333, \"#9c179e\"], [0.4444444444444444, \"#bd3786\"], [0.5555555555555556, \"#d8576b\"], [0.6666666666666666, \"#ed7953\"], [0.7777777777777778, \"#fb9f3a\"], [0.8888888888888888, \"#fdca26\"], [1.0, \"#f0f921\"]], \"type\": \"heatmapgl\"}], \"histogram\": [{\"marker\": {\"colorbar\": {\"outlinewidth\": 0, \"ticks\": \"\"}}, \"type\": \"histogram\"}], \"histogram2d\": [{\"colorbar\": {\"outlinewidth\": 0, \"ticks\": \"\"}, \"colorscale\": [[0.0, \"#0d0887\"], [0.1111111111111111, \"#46039f\"], [0.2222222222222222, \"#7201a8\"], [0.3333333333333333, \"#9c179e\"], [0.4444444444444444, \"#bd3786\"], [0.5555555555555556, \"#d8576b\"], [0.6666666666666666, \"#ed7953\"], [0.7777777777777778, \"#fb9f3a\"], [0.8888888888888888, \"#fdca26\"], [1.0, \"#f0f921\"]], \"type\": \"histogram2d\"}], \"histogram2dcontour\": [{\"colorbar\": {\"outlinewidth\": 0, \"ticks\": \"\"}, \"colorscale\": [[0.0, \"#0d0887\"], [0.1111111111111111, \"#46039f\"], [0.2222222222222222, \"#7201a8\"], [0.3333333333333333, \"#9c179e\"], [0.4444444444444444, \"#bd3786\"], [0.5555555555555556, \"#d8576b\"], [0.6666666666666666, \"#ed7953\"], [0.7777777777777778, \"#fb9f3a\"], [0.8888888888888888, \"#fdca26\"], [1.0, \"#f0f921\"]], \"type\": \"histogram2dcontour\"}], \"mesh3d\": [{\"colorbar\": {\"outlinewidth\": 0, \"ticks\": \"\"}, \"type\": \"mesh3d\"}], \"parcoords\": [{\"line\": {\"colorbar\": {\"outlinewidth\": 0, \"ticks\": \"\"}}, \"type\": \"parcoords\"}], \"pie\": [{\"automargin\": true, \"type\": \"pie\"}], \"scatter\": [{\"marker\": {\"line\": {\"color\": \"#283442\"}}, \"type\": \"scatter\"}], \"scatter3d\": [{\"line\": {\"colorbar\": {\"outlinewidth\": 0, \"ticks\": \"\"}}, \"marker\": {\"colorbar\": {\"outlinewidth\": 0, \"ticks\": \"\"}}, \"type\": \"scatter3d\"}], \"scattercarpet\": [{\"marker\": {\"colorbar\": {\"outlinewidth\": 0, \"ticks\": \"\"}}, \"type\": \"scattercarpet\"}], \"scattergeo\": [{\"marker\": {\"colorbar\": {\"outlinewidth\": 0, \"ticks\": \"\"}}, \"type\": \"scattergeo\"}], \"scattergl\": [{\"marker\": {\"line\": {\"color\": \"#283442\"}}, \"type\": \"scattergl\"}], \"scattermapbox\": [{\"marker\": {\"colorbar\": {\"outlinewidth\": 0, \"ticks\": \"\"}}, \"type\": \"scattermapbox\"}], \"scatterpolar\": [{\"marker\": {\"colorbar\": {\"outlinewidth\": 0, \"ticks\": \"\"}}, \"type\": \"scatterpolar\"}], \"scatterpolargl\": [{\"marker\": {\"colorbar\": {\"outlinewidth\": 0, \"ticks\": \"\"}}, \"type\": \"scatterpolargl\"}], \"scatterternary\": [{\"marker\": {\"colorbar\": {\"outlinewidth\": 0, \"ticks\": \"\"}}, \"type\": \"scatterternary\"}], \"surface\": [{\"colorbar\": {\"outlinewidth\": 0, \"ticks\": \"\"}, \"colorscale\": [[0.0, \"#0d0887\"], [0.1111111111111111, \"#46039f\"], [0.2222222222222222, \"#7201a8\"], [0.3333333333333333, \"#9c179e\"], [0.4444444444444444, \"#bd3786\"], [0.5555555555555556, \"#d8576b\"], [0.6666666666666666, \"#ed7953\"], [0.7777777777777778, \"#fb9f3a\"], [0.8888888888888888, \"#fdca26\"], [1.0, \"#f0f921\"]], \"type\": \"surface\"}], \"table\": [{\"cells\": {\"fill\": {\"color\": \"#506784\"}, \"line\": {\"color\": \"rgb(17,17,17)\"}}, \"header\": {\"fill\": {\"color\": \"#2a3f5f\"}, \"line\": {\"color\": \"rgb(17,17,17)\"}}, \"type\": \"table\"}]}, \"layout\": {\"annotationdefaults\": {\"arrowcolor\": \"#f2f5fa\", \"arrowhead\": 0, \"arrowwidth\": 1}, \"coloraxis\": {\"colorbar\": {\"outlinewidth\": 0, \"ticks\": \"\"}}, \"colorscale\": {\"diverging\": [[0, \"#8e0152\"], [0.1, \"#c51b7d\"], [0.2, \"#de77ae\"], [0.3, \"#f1b6da\"], [0.4, \"#fde0ef\"], [0.5, \"#f7f7f7\"], [0.6, \"#e6f5d0\"], [0.7, \"#b8e186\"], [0.8, \"#7fbc41\"], [0.9, \"#4d9221\"], [1, \"#276419\"]], \"sequential\": [[0.0, \"#0d0887\"], [0.1111111111111111, \"#46039f\"], [0.2222222222222222, \"#7201a8\"], [0.3333333333333333, \"#9c179e\"], [0.4444444444444444, \"#bd3786\"], [0.5555555555555556, \"#d8576b\"], [0.6666666666666666, \"#ed7953\"], [0.7777777777777778, \"#fb9f3a\"], [0.8888888888888888, \"#fdca26\"], [1.0, \"#f0f921\"]], \"sequentialminus\": [[0.0, \"#0d0887\"], [0.1111111111111111, \"#46039f\"], [0.2222222222222222, \"#7201a8\"], [0.3333333333333333, \"#9c179e\"], [0.4444444444444444, \"#bd3786\"], [0.5555555555555556, \"#d8576b\"], [0.6666666666666666, \"#ed7953\"], [0.7777777777777778, \"#fb9f3a\"], [0.8888888888888888, \"#fdca26\"], [1.0, \"#f0f921\"]]}, \"colorway\": [\"#636efa\", \"#EF553B\", \"#00cc96\", \"#ab63fa\", \"#FFA15A\", \"#19d3f3\", \"#FF6692\", \"#B6E880\", \"#FF97FF\", \"#FECB52\"], \"font\": {\"color\": \"#f2f5fa\"}, \"geo\": {\"bgcolor\": \"rgb(17,17,17)\", \"lakecolor\": \"rgb(17,17,17)\", \"landcolor\": \"rgb(17,17,17)\", \"showlakes\": true, \"showland\": true, \"subunitcolor\": \"#506784\"}, \"hoverlabel\": {\"align\": \"left\"}, \"hovermode\": \"closest\", \"mapbox\": {\"style\": \"dark\"}, \"paper_bgcolor\": \"rgb(17,17,17)\", \"plot_bgcolor\": \"rgb(17,17,17)\", \"polar\": {\"angularaxis\": {\"gridcolor\": \"#506784\", \"linecolor\": \"#506784\", \"ticks\": \"\"}, \"bgcolor\": \"rgb(17,17,17)\", \"radialaxis\": {\"gridcolor\": \"#506784\", \"linecolor\": \"#506784\", \"ticks\": \"\"}}, \"scene\": {\"xaxis\": {\"backgroundcolor\": \"rgb(17,17,17)\", \"gridcolor\": \"#506784\", \"gridwidth\": 2, \"linecolor\": \"#506784\", \"showbackground\": true, \"ticks\": \"\", \"zerolinecolor\": \"#C8D4E3\"}, \"yaxis\": {\"backgroundcolor\": \"rgb(17,17,17)\", \"gridcolor\": \"#506784\", \"gridwidth\": 2, \"linecolor\": \"#506784\", \"showbackground\": true, \"ticks\": \"\", \"zerolinecolor\": \"#C8D4E3\"}, \"zaxis\": {\"backgroundcolor\": \"rgb(17,17,17)\", \"gridcolor\": \"#506784\", \"gridwidth\": 2, \"linecolor\": \"#506784\", \"showbackground\": true, \"ticks\": \"\", \"zerolinecolor\": \"#C8D4E3\"}}, \"shapedefaults\": {\"line\": {\"color\": \"#f2f5fa\"}}, \"sliderdefaults\": {\"bgcolor\": \"#C8D4E3\", \"bordercolor\": \"rgb(17,17,17)\", \"borderwidth\": 1, \"tickwidth\": 0}, \"ternary\": {\"aaxis\": {\"gridcolor\": \"#506784\", \"linecolor\": \"#506784\", \"ticks\": \"\"}, \"baxis\": {\"gridcolor\": \"#506784\", \"linecolor\": \"#506784\", \"ticks\": \"\"}, \"bgcolor\": \"rgb(17,17,17)\", \"caxis\": {\"gridcolor\": \"#506784\", \"linecolor\": \"#506784\", \"ticks\": \"\"}}, \"title\": {\"x\": 0.05}, \"updatemenudefaults\": {\"bgcolor\": \"#506784\", \"borderwidth\": 0}, \"xaxis\": {\"automargin\": true, \"gridcolor\": \"#283442\", \"linecolor\": \"#506784\", \"ticks\": \"\", \"title\": {\"standoff\": 15}, \"zerolinecolor\": \"#283442\", \"zerolinewidth\": 2}, \"yaxis\": {\"automargin\": true, \"gridcolor\": \"#283442\", \"linecolor\": \"#506784\", \"ticks\": \"\", \"title\": {\"standoff\": 15}, \"zerolinecolor\": \"#283442\", \"zerolinewidth\": 2}}}, \"title\": {\"text\": \"2016 Top-Bottom Analysis\"}, \"xaxis\": {\"anchor\": \"y\", \"domain\": [0.0, 1.0], \"title\": {\"text\": \"Happiness Score\"}}, \"yaxis\": {\"anchor\": \"x\", \"domain\": [0.0, 1.0], \"title\": {\"text\": \"Countries\"}}},                        {\"responsive\": true}                    ).then(function(){\n",
       "                            \n",
       "var gd = document.getElementById('f721def8-d9fb-4c28-be85-a4f11fc38f65');\n",
       "var x = new MutationObserver(function (mutations, observer) {{\n",
       "        var display = window.getComputedStyle(gd).display;\n",
       "        if (!display || display === 'none') {{\n",
       "            console.log([gd, 'removed!']);\n",
       "            Plotly.purge(gd);\n",
       "            observer.disconnect();\n",
       "        }}\n",
       "}});\n",
       "\n",
       "// Listen for the removal of the full notebook cells\n",
       "var notebookContainer = gd.closest('#notebook-container');\n",
       "if (notebookContainer) {{\n",
       "    x.observe(notebookContainer, {childList: true});\n",
       "}}\n",
       "\n",
       "// Listen for the clearing of the current output cell\n",
       "var outputEl = gd.closest('.output');\n",
       "if (outputEl) {{\n",
       "    x.observe(outputEl, {childList: true});\n",
       "}}\n",
       "\n",
       "                        })                };                });            </script>        </div>"
      ]
     },
     "metadata": {},
     "output_type": "display_data"
    },
    {
     "data": {
      "application/vnd.plotly.v1+json": {
       "config": {
        "plotlyServerURL": "https://plot.ly"
       },
       "data": [
        {
         "alignmentgroup": "True",
         "hovertemplate": "Contributing Factors=Economy_(GDP_per_Capita)<br>Happiness Score=%{x}<br>Countries=%{y}<extra></extra>",
         "legendgroup": "Economy_(GDP_per_Capita)",
         "marker": {
          "color": "rgb(166,206,227)"
         },
         "name": "Economy_(GDP_per_Capita)",
         "offsetgroup": "Economy_(GDP_per_Capita)",
         "orientation": "h",
         "showlegend": true,
         "textposition": "auto",
         "type": "bar",
         "x": [
          0,
          0.091622568666935,
          0.511135876178741,
          0.777153134346008,
          0.368745893239975,
          0.3054447174072269,
          0.24454993009567305,
          0.119041793048382,
          0.39724862575531,
          0.5916834473609921,
          1.4844149351120002,
          1.49438726902008,
          1.40570604801178,
          1.47920441627502,
          1.50394463539124,
          1.44357192516327,
          1.5649795532226598,
          1.480633020401,
          1.48238301277161,
          1.61646318435669
         ],
         "xaxis": "x",
         "y": [
          "Central African Republic",
          "Burundi",
          "Tanzania",
          "Syria",
          "Rwanda",
          "Togo",
          "Guinea",
          "Liberia",
          "South Sudan",
          "Yemen",
          "Australia",
          "Sweden",
          "New Zealand",
          "Canada",
          "Netherlands",
          "Finland",
          "Switzerland",
          "Iceland",
          "Denmark",
          "Norway"
         ],
         "yaxis": "y"
        },
        {
         "alignmentgroup": "True",
         "hovertemplate": "Contributing Factors=Family<br>Happiness Score=%{x}<br>Countries=%{y}<extra></extra>",
         "legendgroup": "Family",
         "marker": {
          "color": "rgb(31,120,180)"
         },
         "name": "Family",
         "offsetgroup": "Family",
         "orientation": "h",
         "showlegend": true,
         "textposition": "auto",
         "type": "bar",
         "x": [
          0,
          0.629793584346771,
          1.04198980331421,
          0.396102607250214,
          0.945707023143768,
          0.4318825304508211,
          0.7912446856498722,
          0.8721179366111759,
          0.601323127746582,
          0.93538224697113,
          1.5100419521331798,
          1.47816216945648,
          1.54819512367249,
          1.48134899139404,
          1.42893922328949,
          1.5402467250824,
          1.51691174507141,
          1.6105740070343,
          1.55112159252167,
          1.53352355957031
         ],
         "xaxis": "x",
         "y": [
          "Central African Republic",
          "Burundi",
          "Tanzania",
          "Syria",
          "Rwanda",
          "Togo",
          "Guinea",
          "Liberia",
          "South Sudan",
          "Yemen",
          "Australia",
          "Sweden",
          "New Zealand",
          "Canada",
          "Netherlands",
          "Finland",
          "Switzerland",
          "Iceland",
          "Denmark",
          "Norway"
         ],
         "yaxis": "y"
        },
        {
         "alignmentgroup": "True",
         "hovertemplate": "Contributing Factors=Health_(Life_Expectancy)<br>Happiness Score=%{x}<br>Countries=%{y}<extra></extra>",
         "legendgroup": "Health_(Life_Expectancy)",
         "marker": {
          "color": "rgb(178,223,138)"
         },
         "name": "Health_(Life_Expectancy)",
         "offsetgroup": "Health_(Life_Expectancy)",
         "orientation": "h",
         "showlegend": true,
         "textposition": "auto",
         "type": "bar",
         "x": [
          0.0187726859003305,
          0.151610791683197,
          0.364509284496307,
          0.5005333423614501,
          0.326424807310104,
          0.247105568647385,
          0.194129139184952,
          0.229918196797371,
          0.163486003875732,
          0.310080915689468,
          0.84388679265976,
          0.830875158309937,
          0.816759705543518,
          0.83455765247345,
          0.8106961250305179,
          0.80915766954422,
          0.858131289482117,
          0.8335521221160892,
          0.7925655245780941,
          0.796666502952576
         ],
         "xaxis": "x",
         "y": [
          "Central African Republic",
          "Burundi",
          "Tanzania",
          "Syria",
          "Rwanda",
          "Togo",
          "Guinea",
          "Liberia",
          "South Sudan",
          "Yemen",
          "Australia",
          "Sweden",
          "New Zealand",
          "Canada",
          "Netherlands",
          "Finland",
          "Switzerland",
          "Iceland",
          "Denmark",
          "Norway"
         ],
         "yaxis": "y"
        },
        {
         "alignmentgroup": "True",
         "hovertemplate": "Contributing Factors=Freedom<br>Happiness Score=%{x}<br>Countries=%{y}<extra></extra>",
         "legendgroup": "Freedom",
         "marker": {
          "color": "rgb(51,160,44)"
         },
         "name": "Freedom",
         "offsetgroup": "Freedom",
         "orientation": "h",
         "showlegend": true,
         "textposition": "auto",
         "type": "bar",
         "x": [
          0.270842045545578,
          0.0599007532000542,
          0.390017777681351,
          0.0815394446253777,
          0.5818438529968261,
          0.38042613863945,
          0.348587512969971,
          0.33288118243217496,
          0.147062435746193,
          0.24946372210979506,
          0.601607382297516,
          0.612924098968506,
          0.6140621304512021,
          0.611100912094116,
          0.5853844881057739,
          0.6179508566856379,
          0.620070576667786,
          0.6271626353263849,
          0.626006722450256,
          0.635422587394714
         ],
         "xaxis": "x",
         "y": [
          "Central African Republic",
          "Burundi",
          "Tanzania",
          "Syria",
          "Rwanda",
          "Togo",
          "Guinea",
          "Liberia",
          "South Sudan",
          "Yemen",
          "Australia",
          "Sweden",
          "New Zealand",
          "Canada",
          "Netherlands",
          "Finland",
          "Switzerland",
          "Iceland",
          "Denmark",
          "Norway"
         ],
         "yaxis": "y"
        },
        {
         "alignmentgroup": "True",
         "hovertemplate": "Contributing Factors=Trust_(Government_Corruption)<br>Happiness Score=%{x}<br>Countries=%{y}<extra></extra>",
         "legendgroup": "Trust_(Government_Corruption)",
         "marker": {
          "color": "rgb(251,154,153)"
         },
         "name": "Trust_(Government_Corruption)",
         "offsetgroup": "Trust_(Government_Corruption)",
         "orientation": "h",
         "showlegend": true,
         "textposition": "auto",
         "type": "bar",
         "x": [
          0.0565650761127472,
          0.0841479450464249,
          0.0660351067781448,
          0.15134713053703305,
          0.455220013856888,
          0.0956650152802467,
          0.110937617719173,
          0.0389482490718365,
          0.116793513298035,
          0.0567674227058887,
          0.301183730363846,
          0.384398728609085,
          0.38281670212745705,
          0.287371516227722,
          0.282661825418472,
          0.38261154294014,
          0.3670072853565221,
          0.15352655947208402,
          0.40077006816864,
          0.31596383452415505
         ],
         "xaxis": "x",
         "y": [
          "Central African Republic",
          "Burundi",
          "Tanzania",
          "Syria",
          "Rwanda",
          "Togo",
          "Guinea",
          "Liberia",
          "South Sudan",
          "Yemen",
          "Australia",
          "Sweden",
          "New Zealand",
          "Canada",
          "Netherlands",
          "Finland",
          "Switzerland",
          "Iceland",
          "Denmark",
          "Norway"
         ],
         "yaxis": "y"
        },
        {
         "alignmentgroup": "True",
         "hovertemplate": "Contributing Factors=Generosity<br>Happiness Score=%{x}<br>Countries=%{y}<extra></extra>",
         "legendgroup": "Generosity",
         "marker": {
          "color": "rgb(227,26,28)"
         },
         "name": "Generosity",
         "offsetgroup": "Generosity",
         "orientation": "h",
         "showlegend": true,
         "textposition": "auto",
         "type": "bar",
         "x": [
          0.280876487493515,
          0.20443518459796894,
          0.354256361722946,
          0.493663728237152,
          0.2527560293674469,
          0.19689615070819896,
          0.264815092086792,
          0.26654988527298,
          0.285670816898346,
          0.104125209152699,
          0.477699249982834,
          0.38539925217628496,
          0.500005125999451,
          0.435539722442627,
          0.470489829778671,
          0.24548277258873,
          0.29054927825927696,
          0.475540220737457,
          0.3552804887294771,
          0.36201223731041
         ],
         "xaxis": "x",
         "y": [
          "Central African Republic",
          "Burundi",
          "Tanzania",
          "Syria",
          "Rwanda",
          "Togo",
          "Guinea",
          "Liberia",
          "South Sudan",
          "Yemen",
          "Australia",
          "Sweden",
          "New Zealand",
          "Canada",
          "Netherlands",
          "Finland",
          "Switzerland",
          "Iceland",
          "Denmark",
          "Norway"
         ],
         "yaxis": "y"
        },
        {
         "alignmentgroup": "True",
         "hovertemplate": "Contributing Factors=Dystopia_Residual<br>Happiness Score=%{x}<br>Countries=%{y}<extra></extra>",
         "legendgroup": "Dystopia_Residual",
         "marker": {
          "color": "rgb(253,191,111)"
         },
         "name": "Dystopia_Residual",
         "offsetgroup": "Dystopia_Residual",
         "orientation": "h",
         "showlegend": true,
         "textposition": "auto",
         "type": "bar",
         "x": [
          2.06600475311279,
          1.68302416801453,
          0.621130466461182,
          1.06157350540161,
          0.540061235427856,
          1.8372292518615705,
          1.55231189727783,
          1.6732859611511202,
          1.8795673847198504,
          1.34560060501099,
          2.06521081924438,
          2.09753799438477,
          2.0464563369751,
          2.18726444244385,
          2.29480409622192,
          2.4301815032959,
          2.2767162322998,
          2.32271528244019,
          2.31370735168457,
          2.27702665328979
         ],
         "xaxis": "x",
         "y": [
          "Central African Republic",
          "Burundi",
          "Tanzania",
          "Syria",
          "Rwanda",
          "Togo",
          "Guinea",
          "Liberia",
          "South Sudan",
          "Yemen",
          "Australia",
          "Sweden",
          "New Zealand",
          "Canada",
          "Netherlands",
          "Finland",
          "Switzerland",
          "Iceland",
          "Denmark",
          "Norway"
         ],
         "yaxis": "y"
        }
       ],
       "layout": {
        "barmode": "stack",
        "legend": {
         "title": {
          "text": "Contributing Factors"
         },
         "tracegroupgap": 0
        },
        "template": {
         "data": {
          "bar": [
           {
            "error_x": {
             "color": "#f2f5fa"
            },
            "error_y": {
             "color": "#f2f5fa"
            },
            "marker": {
             "line": {
              "color": "rgb(17,17,17)",
              "width": 0.5
             }
            },
            "type": "bar"
           }
          ],
          "barpolar": [
           {
            "marker": {
             "line": {
              "color": "rgb(17,17,17)",
              "width": 0.5
             }
            },
            "type": "barpolar"
           }
          ],
          "carpet": [
           {
            "aaxis": {
             "endlinecolor": "#A2B1C6",
             "gridcolor": "#506784",
             "linecolor": "#506784",
             "minorgridcolor": "#506784",
             "startlinecolor": "#A2B1C6"
            },
            "baxis": {
             "endlinecolor": "#A2B1C6",
             "gridcolor": "#506784",
             "linecolor": "#506784",
             "minorgridcolor": "#506784",
             "startlinecolor": "#A2B1C6"
            },
            "type": "carpet"
           }
          ],
          "choropleth": [
           {
            "colorbar": {
             "outlinewidth": 0,
             "ticks": ""
            },
            "type": "choropleth"
           }
          ],
          "contour": [
           {
            "colorbar": {
             "outlinewidth": 0,
             "ticks": ""
            },
            "colorscale": [
             [
              0,
              "#0d0887"
             ],
             [
              0.1111111111111111,
              "#46039f"
             ],
             [
              0.2222222222222222,
              "#7201a8"
             ],
             [
              0.3333333333333333,
              "#9c179e"
             ],
             [
              0.4444444444444444,
              "#bd3786"
             ],
             [
              0.5555555555555556,
              "#d8576b"
             ],
             [
              0.6666666666666666,
              "#ed7953"
             ],
             [
              0.7777777777777778,
              "#fb9f3a"
             ],
             [
              0.8888888888888888,
              "#fdca26"
             ],
             [
              1,
              "#f0f921"
             ]
            ],
            "type": "contour"
           }
          ],
          "contourcarpet": [
           {
            "colorbar": {
             "outlinewidth": 0,
             "ticks": ""
            },
            "type": "contourcarpet"
           }
          ],
          "heatmap": [
           {
            "colorbar": {
             "outlinewidth": 0,
             "ticks": ""
            },
            "colorscale": [
             [
              0,
              "#0d0887"
             ],
             [
              0.1111111111111111,
              "#46039f"
             ],
             [
              0.2222222222222222,
              "#7201a8"
             ],
             [
              0.3333333333333333,
              "#9c179e"
             ],
             [
              0.4444444444444444,
              "#bd3786"
             ],
             [
              0.5555555555555556,
              "#d8576b"
             ],
             [
              0.6666666666666666,
              "#ed7953"
             ],
             [
              0.7777777777777778,
              "#fb9f3a"
             ],
             [
              0.8888888888888888,
              "#fdca26"
             ],
             [
              1,
              "#f0f921"
             ]
            ],
            "type": "heatmap"
           }
          ],
          "heatmapgl": [
           {
            "colorbar": {
             "outlinewidth": 0,
             "ticks": ""
            },
            "colorscale": [
             [
              0,
              "#0d0887"
             ],
             [
              0.1111111111111111,
              "#46039f"
             ],
             [
              0.2222222222222222,
              "#7201a8"
             ],
             [
              0.3333333333333333,
              "#9c179e"
             ],
             [
              0.4444444444444444,
              "#bd3786"
             ],
             [
              0.5555555555555556,
              "#d8576b"
             ],
             [
              0.6666666666666666,
              "#ed7953"
             ],
             [
              0.7777777777777778,
              "#fb9f3a"
             ],
             [
              0.8888888888888888,
              "#fdca26"
             ],
             [
              1,
              "#f0f921"
             ]
            ],
            "type": "heatmapgl"
           }
          ],
          "histogram": [
           {
            "marker": {
             "colorbar": {
              "outlinewidth": 0,
              "ticks": ""
             }
            },
            "type": "histogram"
           }
          ],
          "histogram2d": [
           {
            "colorbar": {
             "outlinewidth": 0,
             "ticks": ""
            },
            "colorscale": [
             [
              0,
              "#0d0887"
             ],
             [
              0.1111111111111111,
              "#46039f"
             ],
             [
              0.2222222222222222,
              "#7201a8"
             ],
             [
              0.3333333333333333,
              "#9c179e"
             ],
             [
              0.4444444444444444,
              "#bd3786"
             ],
             [
              0.5555555555555556,
              "#d8576b"
             ],
             [
              0.6666666666666666,
              "#ed7953"
             ],
             [
              0.7777777777777778,
              "#fb9f3a"
             ],
             [
              0.8888888888888888,
              "#fdca26"
             ],
             [
              1,
              "#f0f921"
             ]
            ],
            "type": "histogram2d"
           }
          ],
          "histogram2dcontour": [
           {
            "colorbar": {
             "outlinewidth": 0,
             "ticks": ""
            },
            "colorscale": [
             [
              0,
              "#0d0887"
             ],
             [
              0.1111111111111111,
              "#46039f"
             ],
             [
              0.2222222222222222,
              "#7201a8"
             ],
             [
              0.3333333333333333,
              "#9c179e"
             ],
             [
              0.4444444444444444,
              "#bd3786"
             ],
             [
              0.5555555555555556,
              "#d8576b"
             ],
             [
              0.6666666666666666,
              "#ed7953"
             ],
             [
              0.7777777777777778,
              "#fb9f3a"
             ],
             [
              0.8888888888888888,
              "#fdca26"
             ],
             [
              1,
              "#f0f921"
             ]
            ],
            "type": "histogram2dcontour"
           }
          ],
          "mesh3d": [
           {
            "colorbar": {
             "outlinewidth": 0,
             "ticks": ""
            },
            "type": "mesh3d"
           }
          ],
          "parcoords": [
           {
            "line": {
             "colorbar": {
              "outlinewidth": 0,
              "ticks": ""
             }
            },
            "type": "parcoords"
           }
          ],
          "pie": [
           {
            "automargin": true,
            "type": "pie"
           }
          ],
          "scatter": [
           {
            "marker": {
             "line": {
              "color": "#283442"
             }
            },
            "type": "scatter"
           }
          ],
          "scatter3d": [
           {
            "line": {
             "colorbar": {
              "outlinewidth": 0,
              "ticks": ""
             }
            },
            "marker": {
             "colorbar": {
              "outlinewidth": 0,
              "ticks": ""
             }
            },
            "type": "scatter3d"
           }
          ],
          "scattercarpet": [
           {
            "marker": {
             "colorbar": {
              "outlinewidth": 0,
              "ticks": ""
             }
            },
            "type": "scattercarpet"
           }
          ],
          "scattergeo": [
           {
            "marker": {
             "colorbar": {
              "outlinewidth": 0,
              "ticks": ""
             }
            },
            "type": "scattergeo"
           }
          ],
          "scattergl": [
           {
            "marker": {
             "line": {
              "color": "#283442"
             }
            },
            "type": "scattergl"
           }
          ],
          "scattermapbox": [
           {
            "marker": {
             "colorbar": {
              "outlinewidth": 0,
              "ticks": ""
             }
            },
            "type": "scattermapbox"
           }
          ],
          "scatterpolar": [
           {
            "marker": {
             "colorbar": {
              "outlinewidth": 0,
              "ticks": ""
             }
            },
            "type": "scatterpolar"
           }
          ],
          "scatterpolargl": [
           {
            "marker": {
             "colorbar": {
              "outlinewidth": 0,
              "ticks": ""
             }
            },
            "type": "scatterpolargl"
           }
          ],
          "scatterternary": [
           {
            "marker": {
             "colorbar": {
              "outlinewidth": 0,
              "ticks": ""
             }
            },
            "type": "scatterternary"
           }
          ],
          "surface": [
           {
            "colorbar": {
             "outlinewidth": 0,
             "ticks": ""
            },
            "colorscale": [
             [
              0,
              "#0d0887"
             ],
             [
              0.1111111111111111,
              "#46039f"
             ],
             [
              0.2222222222222222,
              "#7201a8"
             ],
             [
              0.3333333333333333,
              "#9c179e"
             ],
             [
              0.4444444444444444,
              "#bd3786"
             ],
             [
              0.5555555555555556,
              "#d8576b"
             ],
             [
              0.6666666666666666,
              "#ed7953"
             ],
             [
              0.7777777777777778,
              "#fb9f3a"
             ],
             [
              0.8888888888888888,
              "#fdca26"
             ],
             [
              1,
              "#f0f921"
             ]
            ],
            "type": "surface"
           }
          ],
          "table": [
           {
            "cells": {
             "fill": {
              "color": "#506784"
             },
             "line": {
              "color": "rgb(17,17,17)"
             }
            },
            "header": {
             "fill": {
              "color": "#2a3f5f"
             },
             "line": {
              "color": "rgb(17,17,17)"
             }
            },
            "type": "table"
           }
          ]
         },
         "layout": {
          "annotationdefaults": {
           "arrowcolor": "#f2f5fa",
           "arrowhead": 0,
           "arrowwidth": 1
          },
          "coloraxis": {
           "colorbar": {
            "outlinewidth": 0,
            "ticks": ""
           }
          },
          "colorscale": {
           "diverging": [
            [
             0,
             "#8e0152"
            ],
            [
             0.1,
             "#c51b7d"
            ],
            [
             0.2,
             "#de77ae"
            ],
            [
             0.3,
             "#f1b6da"
            ],
            [
             0.4,
             "#fde0ef"
            ],
            [
             0.5,
             "#f7f7f7"
            ],
            [
             0.6,
             "#e6f5d0"
            ],
            [
             0.7,
             "#b8e186"
            ],
            [
             0.8,
             "#7fbc41"
            ],
            [
             0.9,
             "#4d9221"
            ],
            [
             1,
             "#276419"
            ]
           ],
           "sequential": [
            [
             0,
             "#0d0887"
            ],
            [
             0.1111111111111111,
             "#46039f"
            ],
            [
             0.2222222222222222,
             "#7201a8"
            ],
            [
             0.3333333333333333,
             "#9c179e"
            ],
            [
             0.4444444444444444,
             "#bd3786"
            ],
            [
             0.5555555555555556,
             "#d8576b"
            ],
            [
             0.6666666666666666,
             "#ed7953"
            ],
            [
             0.7777777777777778,
             "#fb9f3a"
            ],
            [
             0.8888888888888888,
             "#fdca26"
            ],
            [
             1,
             "#f0f921"
            ]
           ],
           "sequentialminus": [
            [
             0,
             "#0d0887"
            ],
            [
             0.1111111111111111,
             "#46039f"
            ],
            [
             0.2222222222222222,
             "#7201a8"
            ],
            [
             0.3333333333333333,
             "#9c179e"
            ],
            [
             0.4444444444444444,
             "#bd3786"
            ],
            [
             0.5555555555555556,
             "#d8576b"
            ],
            [
             0.6666666666666666,
             "#ed7953"
            ],
            [
             0.7777777777777778,
             "#fb9f3a"
            ],
            [
             0.8888888888888888,
             "#fdca26"
            ],
            [
             1,
             "#f0f921"
            ]
           ]
          },
          "colorway": [
           "#636efa",
           "#EF553B",
           "#00cc96",
           "#ab63fa",
           "#FFA15A",
           "#19d3f3",
           "#FF6692",
           "#B6E880",
           "#FF97FF",
           "#FECB52"
          ],
          "font": {
           "color": "#f2f5fa"
          },
          "geo": {
           "bgcolor": "rgb(17,17,17)",
           "lakecolor": "rgb(17,17,17)",
           "landcolor": "rgb(17,17,17)",
           "showlakes": true,
           "showland": true,
           "subunitcolor": "#506784"
          },
          "hoverlabel": {
           "align": "left"
          },
          "hovermode": "closest",
          "mapbox": {
           "style": "dark"
          },
          "paper_bgcolor": "rgb(17,17,17)",
          "plot_bgcolor": "rgb(17,17,17)",
          "polar": {
           "angularaxis": {
            "gridcolor": "#506784",
            "linecolor": "#506784",
            "ticks": ""
           },
           "bgcolor": "rgb(17,17,17)",
           "radialaxis": {
            "gridcolor": "#506784",
            "linecolor": "#506784",
            "ticks": ""
           }
          },
          "scene": {
           "xaxis": {
            "backgroundcolor": "rgb(17,17,17)",
            "gridcolor": "#506784",
            "gridwidth": 2,
            "linecolor": "#506784",
            "showbackground": true,
            "ticks": "",
            "zerolinecolor": "#C8D4E3"
           },
           "yaxis": {
            "backgroundcolor": "rgb(17,17,17)",
            "gridcolor": "#506784",
            "gridwidth": 2,
            "linecolor": "#506784",
            "showbackground": true,
            "ticks": "",
            "zerolinecolor": "#C8D4E3"
           },
           "zaxis": {
            "backgroundcolor": "rgb(17,17,17)",
            "gridcolor": "#506784",
            "gridwidth": 2,
            "linecolor": "#506784",
            "showbackground": true,
            "ticks": "",
            "zerolinecolor": "#C8D4E3"
           }
          },
          "shapedefaults": {
           "line": {
            "color": "#f2f5fa"
           }
          },
          "sliderdefaults": {
           "bgcolor": "#C8D4E3",
           "bordercolor": "rgb(17,17,17)",
           "borderwidth": 1,
           "tickwidth": 0
          },
          "ternary": {
           "aaxis": {
            "gridcolor": "#506784",
            "linecolor": "#506784",
            "ticks": ""
           },
           "baxis": {
            "gridcolor": "#506784",
            "linecolor": "#506784",
            "ticks": ""
           },
           "bgcolor": "rgb(17,17,17)",
           "caxis": {
            "gridcolor": "#506784",
            "linecolor": "#506784",
            "ticks": ""
           }
          },
          "title": {
           "x": 0.05
          },
          "updatemenudefaults": {
           "bgcolor": "#506784",
           "borderwidth": 0
          },
          "xaxis": {
           "automargin": true,
           "gridcolor": "#283442",
           "linecolor": "#506784",
           "ticks": "",
           "title": {
            "standoff": 15
           },
           "zerolinecolor": "#283442",
           "zerolinewidth": 2
          },
          "yaxis": {
           "automargin": true,
           "gridcolor": "#283442",
           "linecolor": "#506784",
           "ticks": "",
           "title": {
            "standoff": 15
           },
           "zerolinecolor": "#283442",
           "zerolinewidth": 2
          }
         }
        },
        "title": {
         "text": "2017 Top-Bottom Analysis"
        },
        "xaxis": {
         "anchor": "y",
         "domain": [
          0,
          1
         ],
         "title": {
          "text": "Happiness Score"
         }
        },
        "yaxis": {
         "anchor": "x",
         "domain": [
          0,
          1
         ],
         "title": {
          "text": "Countries"
         }
        }
       }
      },
      "text/html": [
       "<div>                            <div id=\"87d21547-dc79-4d41-93ee-b374bddd6105\" class=\"plotly-graph-div\" style=\"height:525px; width:100%;\"></div>            <script type=\"text/javascript\">                require([\"plotly\"], function(Plotly) {                    window.PLOTLYENV=window.PLOTLYENV || {};                                    if (document.getElementById(\"87d21547-dc79-4d41-93ee-b374bddd6105\")) {                    Plotly.newPlot(                        \"87d21547-dc79-4d41-93ee-b374bddd6105\",                        [{\"alignmentgroup\": \"True\", \"hovertemplate\": \"Contributing Factors=Economy_(GDP_per_Capita)<br>Happiness Score=%{x}<br>Countries=%{y}<extra></extra>\", \"legendgroup\": \"Economy_(GDP_per_Capita)\", \"marker\": {\"color\": \"rgb(166,206,227)\"}, \"name\": \"Economy_(GDP_per_Capita)\", \"offsetgroup\": \"Economy_(GDP_per_Capita)\", \"orientation\": \"h\", \"showlegend\": true, \"textposition\": \"auto\", \"type\": \"bar\", \"x\": [0.0, 0.091622568666935, 0.511135876178741, 0.777153134346008, 0.368745893239975, 0.3054447174072269, 0.24454993009567305, 0.119041793048382, 0.39724862575531, 0.5916834473609921, 1.4844149351120002, 1.49438726902008, 1.40570604801178, 1.47920441627502, 1.50394463539124, 1.44357192516327, 1.5649795532226598, 1.480633020401, 1.48238301277161, 1.61646318435669], \"xaxis\": \"x\", \"y\": [\"Central African Republic\", \"Burundi\", \"Tanzania\", \"Syria\", \"Rwanda\", \"Togo\", \"Guinea\", \"Liberia\", \"South Sudan\", \"Yemen\", \"Australia\", \"Sweden\", \"New Zealand\", \"Canada\", \"Netherlands\", \"Finland\", \"Switzerland\", \"Iceland\", \"Denmark\", \"Norway\"], \"yaxis\": \"y\"}, {\"alignmentgroup\": \"True\", \"hovertemplate\": \"Contributing Factors=Family<br>Happiness Score=%{x}<br>Countries=%{y}<extra></extra>\", \"legendgroup\": \"Family\", \"marker\": {\"color\": \"rgb(31,120,180)\"}, \"name\": \"Family\", \"offsetgroup\": \"Family\", \"orientation\": \"h\", \"showlegend\": true, \"textposition\": \"auto\", \"type\": \"bar\", \"x\": [0.0, 0.629793584346771, 1.04198980331421, 0.396102607250214, 0.945707023143768, 0.4318825304508211, 0.7912446856498722, 0.8721179366111759, 0.601323127746582, 0.93538224697113, 1.5100419521331798, 1.47816216945648, 1.54819512367249, 1.48134899139404, 1.42893922328949, 1.5402467250824, 1.51691174507141, 1.6105740070343, 1.55112159252167, 1.53352355957031], \"xaxis\": \"x\", \"y\": [\"Central African Republic\", \"Burundi\", \"Tanzania\", \"Syria\", \"Rwanda\", \"Togo\", \"Guinea\", \"Liberia\", \"South Sudan\", \"Yemen\", \"Australia\", \"Sweden\", \"New Zealand\", \"Canada\", \"Netherlands\", \"Finland\", \"Switzerland\", \"Iceland\", \"Denmark\", \"Norway\"], \"yaxis\": \"y\"}, {\"alignmentgroup\": \"True\", \"hovertemplate\": \"Contributing Factors=Health_(Life_Expectancy)<br>Happiness Score=%{x}<br>Countries=%{y}<extra></extra>\", \"legendgroup\": \"Health_(Life_Expectancy)\", \"marker\": {\"color\": \"rgb(178,223,138)\"}, \"name\": \"Health_(Life_Expectancy)\", \"offsetgroup\": \"Health_(Life_Expectancy)\", \"orientation\": \"h\", \"showlegend\": true, \"textposition\": \"auto\", \"type\": \"bar\", \"x\": [0.0187726859003305, 0.151610791683197, 0.364509284496307, 0.5005333423614501, 0.326424807310104, 0.247105568647385, 0.194129139184952, 0.229918196797371, 0.163486003875732, 0.310080915689468, 0.84388679265976, 0.830875158309937, 0.816759705543518, 0.83455765247345, 0.8106961250305179, 0.80915766954422, 0.858131289482117, 0.8335521221160892, 0.7925655245780941, 0.796666502952576], \"xaxis\": \"x\", \"y\": [\"Central African Republic\", \"Burundi\", \"Tanzania\", \"Syria\", \"Rwanda\", \"Togo\", \"Guinea\", \"Liberia\", \"South Sudan\", \"Yemen\", \"Australia\", \"Sweden\", \"New Zealand\", \"Canada\", \"Netherlands\", \"Finland\", \"Switzerland\", \"Iceland\", \"Denmark\", \"Norway\"], \"yaxis\": \"y\"}, {\"alignmentgroup\": \"True\", \"hovertemplate\": \"Contributing Factors=Freedom<br>Happiness Score=%{x}<br>Countries=%{y}<extra></extra>\", \"legendgroup\": \"Freedom\", \"marker\": {\"color\": \"rgb(51,160,44)\"}, \"name\": \"Freedom\", \"offsetgroup\": \"Freedom\", \"orientation\": \"h\", \"showlegend\": true, \"textposition\": \"auto\", \"type\": \"bar\", \"x\": [0.270842045545578, 0.0599007532000542, 0.390017777681351, 0.0815394446253777, 0.5818438529968261, 0.38042613863945, 0.348587512969971, 0.33288118243217496, 0.147062435746193, 0.24946372210979506, 0.601607382297516, 0.612924098968506, 0.6140621304512021, 0.611100912094116, 0.5853844881057739, 0.6179508566856379, 0.620070576667786, 0.6271626353263849, 0.626006722450256, 0.635422587394714], \"xaxis\": \"x\", \"y\": [\"Central African Republic\", \"Burundi\", \"Tanzania\", \"Syria\", \"Rwanda\", \"Togo\", \"Guinea\", \"Liberia\", \"South Sudan\", \"Yemen\", \"Australia\", \"Sweden\", \"New Zealand\", \"Canada\", \"Netherlands\", \"Finland\", \"Switzerland\", \"Iceland\", \"Denmark\", \"Norway\"], \"yaxis\": \"y\"}, {\"alignmentgroup\": \"True\", \"hovertemplate\": \"Contributing Factors=Trust_(Government_Corruption)<br>Happiness Score=%{x}<br>Countries=%{y}<extra></extra>\", \"legendgroup\": \"Trust_(Government_Corruption)\", \"marker\": {\"color\": \"rgb(251,154,153)\"}, \"name\": \"Trust_(Government_Corruption)\", \"offsetgroup\": \"Trust_(Government_Corruption)\", \"orientation\": \"h\", \"showlegend\": true, \"textposition\": \"auto\", \"type\": \"bar\", \"x\": [0.0565650761127472, 0.0841479450464249, 0.0660351067781448, 0.15134713053703305, 0.455220013856888, 0.0956650152802467, 0.110937617719173, 0.0389482490718365, 0.116793513298035, 0.0567674227058887, 0.301183730363846, 0.384398728609085, 0.38281670212745705, 0.287371516227722, 0.282661825418472, 0.38261154294014, 0.3670072853565221, 0.15352655947208402, 0.40077006816864, 0.31596383452415505], \"xaxis\": \"x\", \"y\": [\"Central African Republic\", \"Burundi\", \"Tanzania\", \"Syria\", \"Rwanda\", \"Togo\", \"Guinea\", \"Liberia\", \"South Sudan\", \"Yemen\", \"Australia\", \"Sweden\", \"New Zealand\", \"Canada\", \"Netherlands\", \"Finland\", \"Switzerland\", \"Iceland\", \"Denmark\", \"Norway\"], \"yaxis\": \"y\"}, {\"alignmentgroup\": \"True\", \"hovertemplate\": \"Contributing Factors=Generosity<br>Happiness Score=%{x}<br>Countries=%{y}<extra></extra>\", \"legendgroup\": \"Generosity\", \"marker\": {\"color\": \"rgb(227,26,28)\"}, \"name\": \"Generosity\", \"offsetgroup\": \"Generosity\", \"orientation\": \"h\", \"showlegend\": true, \"textposition\": \"auto\", \"type\": \"bar\", \"x\": [0.280876487493515, 0.20443518459796894, 0.354256361722946, 0.493663728237152, 0.2527560293674469, 0.19689615070819896, 0.264815092086792, 0.26654988527298, 0.285670816898346, 0.104125209152699, 0.477699249982834, 0.38539925217628496, 0.500005125999451, 0.435539722442627, 0.470489829778671, 0.24548277258873, 0.29054927825927696, 0.475540220737457, 0.3552804887294771, 0.36201223731041], \"xaxis\": \"x\", \"y\": [\"Central African Republic\", \"Burundi\", \"Tanzania\", \"Syria\", \"Rwanda\", \"Togo\", \"Guinea\", \"Liberia\", \"South Sudan\", \"Yemen\", \"Australia\", \"Sweden\", \"New Zealand\", \"Canada\", \"Netherlands\", \"Finland\", \"Switzerland\", \"Iceland\", \"Denmark\", \"Norway\"], \"yaxis\": \"y\"}, {\"alignmentgroup\": \"True\", \"hovertemplate\": \"Contributing Factors=Dystopia_Residual<br>Happiness Score=%{x}<br>Countries=%{y}<extra></extra>\", \"legendgroup\": \"Dystopia_Residual\", \"marker\": {\"color\": \"rgb(253,191,111)\"}, \"name\": \"Dystopia_Residual\", \"offsetgroup\": \"Dystopia_Residual\", \"orientation\": \"h\", \"showlegend\": true, \"textposition\": \"auto\", \"type\": \"bar\", \"x\": [2.06600475311279, 1.68302416801453, 0.621130466461182, 1.06157350540161, 0.540061235427856, 1.8372292518615705, 1.55231189727783, 1.6732859611511202, 1.8795673847198504, 1.34560060501099, 2.06521081924438, 2.09753799438477, 2.0464563369751, 2.18726444244385, 2.29480409622192, 2.4301815032959, 2.2767162322998, 2.32271528244019, 2.31370735168457, 2.27702665328979], \"xaxis\": \"x\", \"y\": [\"Central African Republic\", \"Burundi\", \"Tanzania\", \"Syria\", \"Rwanda\", \"Togo\", \"Guinea\", \"Liberia\", \"South Sudan\", \"Yemen\", \"Australia\", \"Sweden\", \"New Zealand\", \"Canada\", \"Netherlands\", \"Finland\", \"Switzerland\", \"Iceland\", \"Denmark\", \"Norway\"], \"yaxis\": \"y\"}],                        {\"barmode\": \"stack\", \"legend\": {\"title\": {\"text\": \"Contributing Factors\"}, \"tracegroupgap\": 0}, \"template\": {\"data\": {\"bar\": [{\"error_x\": {\"color\": \"#f2f5fa\"}, \"error_y\": {\"color\": \"#f2f5fa\"}, \"marker\": {\"line\": {\"color\": \"rgb(17,17,17)\", \"width\": 0.5}}, \"type\": \"bar\"}], \"barpolar\": [{\"marker\": {\"line\": {\"color\": \"rgb(17,17,17)\", \"width\": 0.5}}, \"type\": \"barpolar\"}], \"carpet\": [{\"aaxis\": {\"endlinecolor\": \"#A2B1C6\", \"gridcolor\": \"#506784\", \"linecolor\": \"#506784\", \"minorgridcolor\": \"#506784\", \"startlinecolor\": \"#A2B1C6\"}, \"baxis\": {\"endlinecolor\": \"#A2B1C6\", \"gridcolor\": \"#506784\", \"linecolor\": \"#506784\", \"minorgridcolor\": \"#506784\", \"startlinecolor\": \"#A2B1C6\"}, \"type\": \"carpet\"}], \"choropleth\": [{\"colorbar\": {\"outlinewidth\": 0, \"ticks\": \"\"}, \"type\": \"choropleth\"}], \"contour\": [{\"colorbar\": {\"outlinewidth\": 0, \"ticks\": \"\"}, \"colorscale\": [[0.0, \"#0d0887\"], [0.1111111111111111, \"#46039f\"], [0.2222222222222222, \"#7201a8\"], [0.3333333333333333, \"#9c179e\"], [0.4444444444444444, \"#bd3786\"], [0.5555555555555556, \"#d8576b\"], [0.6666666666666666, \"#ed7953\"], [0.7777777777777778, \"#fb9f3a\"], [0.8888888888888888, \"#fdca26\"], [1.0, \"#f0f921\"]], \"type\": \"contour\"}], \"contourcarpet\": [{\"colorbar\": {\"outlinewidth\": 0, \"ticks\": \"\"}, \"type\": \"contourcarpet\"}], \"heatmap\": [{\"colorbar\": {\"outlinewidth\": 0, \"ticks\": \"\"}, \"colorscale\": [[0.0, \"#0d0887\"], [0.1111111111111111, \"#46039f\"], [0.2222222222222222, \"#7201a8\"], [0.3333333333333333, \"#9c179e\"], [0.4444444444444444, \"#bd3786\"], [0.5555555555555556, \"#d8576b\"], [0.6666666666666666, \"#ed7953\"], [0.7777777777777778, \"#fb9f3a\"], [0.8888888888888888, \"#fdca26\"], [1.0, \"#f0f921\"]], \"type\": \"heatmap\"}], \"heatmapgl\": [{\"colorbar\": {\"outlinewidth\": 0, \"ticks\": \"\"}, \"colorscale\": [[0.0, \"#0d0887\"], [0.1111111111111111, \"#46039f\"], [0.2222222222222222, \"#7201a8\"], [0.3333333333333333, \"#9c179e\"], [0.4444444444444444, \"#bd3786\"], [0.5555555555555556, \"#d8576b\"], [0.6666666666666666, \"#ed7953\"], [0.7777777777777778, \"#fb9f3a\"], [0.8888888888888888, \"#fdca26\"], [1.0, \"#f0f921\"]], \"type\": \"heatmapgl\"}], \"histogram\": [{\"marker\": {\"colorbar\": {\"outlinewidth\": 0, \"ticks\": \"\"}}, \"type\": \"histogram\"}], \"histogram2d\": [{\"colorbar\": {\"outlinewidth\": 0, \"ticks\": \"\"}, \"colorscale\": [[0.0, \"#0d0887\"], [0.1111111111111111, \"#46039f\"], [0.2222222222222222, \"#7201a8\"], [0.3333333333333333, \"#9c179e\"], [0.4444444444444444, \"#bd3786\"], [0.5555555555555556, \"#d8576b\"], [0.6666666666666666, \"#ed7953\"], [0.7777777777777778, \"#fb9f3a\"], [0.8888888888888888, \"#fdca26\"], [1.0, \"#f0f921\"]], \"type\": \"histogram2d\"}], \"histogram2dcontour\": [{\"colorbar\": {\"outlinewidth\": 0, \"ticks\": \"\"}, \"colorscale\": [[0.0, \"#0d0887\"], [0.1111111111111111, \"#46039f\"], [0.2222222222222222, \"#7201a8\"], [0.3333333333333333, \"#9c179e\"], [0.4444444444444444, \"#bd3786\"], [0.5555555555555556, \"#d8576b\"], [0.6666666666666666, \"#ed7953\"], [0.7777777777777778, \"#fb9f3a\"], [0.8888888888888888, \"#fdca26\"], [1.0, \"#f0f921\"]], \"type\": \"histogram2dcontour\"}], \"mesh3d\": [{\"colorbar\": {\"outlinewidth\": 0, \"ticks\": \"\"}, \"type\": \"mesh3d\"}], \"parcoords\": [{\"line\": {\"colorbar\": {\"outlinewidth\": 0, \"ticks\": \"\"}}, \"type\": \"parcoords\"}], \"pie\": [{\"automargin\": true, \"type\": \"pie\"}], \"scatter\": [{\"marker\": {\"line\": {\"color\": \"#283442\"}}, \"type\": \"scatter\"}], \"scatter3d\": [{\"line\": {\"colorbar\": {\"outlinewidth\": 0, \"ticks\": \"\"}}, \"marker\": {\"colorbar\": {\"outlinewidth\": 0, \"ticks\": \"\"}}, \"type\": \"scatter3d\"}], \"scattercarpet\": [{\"marker\": {\"colorbar\": {\"outlinewidth\": 0, \"ticks\": \"\"}}, \"type\": \"scattercarpet\"}], \"scattergeo\": [{\"marker\": {\"colorbar\": {\"outlinewidth\": 0, \"ticks\": \"\"}}, \"type\": \"scattergeo\"}], \"scattergl\": [{\"marker\": {\"line\": {\"color\": \"#283442\"}}, \"type\": \"scattergl\"}], \"scattermapbox\": [{\"marker\": {\"colorbar\": {\"outlinewidth\": 0, \"ticks\": \"\"}}, \"type\": \"scattermapbox\"}], \"scatterpolar\": [{\"marker\": {\"colorbar\": {\"outlinewidth\": 0, \"ticks\": \"\"}}, \"type\": \"scatterpolar\"}], \"scatterpolargl\": [{\"marker\": {\"colorbar\": {\"outlinewidth\": 0, \"ticks\": \"\"}}, \"type\": \"scatterpolargl\"}], \"scatterternary\": [{\"marker\": {\"colorbar\": {\"outlinewidth\": 0, \"ticks\": \"\"}}, \"type\": \"scatterternary\"}], \"surface\": [{\"colorbar\": {\"outlinewidth\": 0, \"ticks\": \"\"}, \"colorscale\": [[0.0, \"#0d0887\"], [0.1111111111111111, \"#46039f\"], [0.2222222222222222, \"#7201a8\"], [0.3333333333333333, \"#9c179e\"], [0.4444444444444444, \"#bd3786\"], [0.5555555555555556, \"#d8576b\"], [0.6666666666666666, \"#ed7953\"], [0.7777777777777778, \"#fb9f3a\"], [0.8888888888888888, \"#fdca26\"], [1.0, \"#f0f921\"]], \"type\": \"surface\"}], \"table\": [{\"cells\": {\"fill\": {\"color\": \"#506784\"}, \"line\": {\"color\": \"rgb(17,17,17)\"}}, \"header\": {\"fill\": {\"color\": \"#2a3f5f\"}, \"line\": {\"color\": \"rgb(17,17,17)\"}}, \"type\": \"table\"}]}, \"layout\": {\"annotationdefaults\": {\"arrowcolor\": \"#f2f5fa\", \"arrowhead\": 0, \"arrowwidth\": 1}, \"coloraxis\": {\"colorbar\": {\"outlinewidth\": 0, \"ticks\": \"\"}}, \"colorscale\": {\"diverging\": [[0, \"#8e0152\"], [0.1, \"#c51b7d\"], [0.2, \"#de77ae\"], [0.3, \"#f1b6da\"], [0.4, \"#fde0ef\"], [0.5, \"#f7f7f7\"], [0.6, \"#e6f5d0\"], [0.7, \"#b8e186\"], [0.8, \"#7fbc41\"], [0.9, \"#4d9221\"], [1, \"#276419\"]], \"sequential\": [[0.0, \"#0d0887\"], [0.1111111111111111, \"#46039f\"], [0.2222222222222222, \"#7201a8\"], [0.3333333333333333, \"#9c179e\"], [0.4444444444444444, \"#bd3786\"], [0.5555555555555556, \"#d8576b\"], [0.6666666666666666, \"#ed7953\"], [0.7777777777777778, \"#fb9f3a\"], [0.8888888888888888, \"#fdca26\"], [1.0, \"#f0f921\"]], \"sequentialminus\": [[0.0, \"#0d0887\"], [0.1111111111111111, \"#46039f\"], [0.2222222222222222, \"#7201a8\"], [0.3333333333333333, \"#9c179e\"], [0.4444444444444444, \"#bd3786\"], [0.5555555555555556, \"#d8576b\"], [0.6666666666666666, \"#ed7953\"], [0.7777777777777778, \"#fb9f3a\"], [0.8888888888888888, \"#fdca26\"], [1.0, \"#f0f921\"]]}, \"colorway\": [\"#636efa\", \"#EF553B\", \"#00cc96\", \"#ab63fa\", \"#FFA15A\", \"#19d3f3\", \"#FF6692\", \"#B6E880\", \"#FF97FF\", \"#FECB52\"], \"font\": {\"color\": \"#f2f5fa\"}, \"geo\": {\"bgcolor\": \"rgb(17,17,17)\", \"lakecolor\": \"rgb(17,17,17)\", \"landcolor\": \"rgb(17,17,17)\", \"showlakes\": true, \"showland\": true, \"subunitcolor\": \"#506784\"}, \"hoverlabel\": {\"align\": \"left\"}, \"hovermode\": \"closest\", \"mapbox\": {\"style\": \"dark\"}, \"paper_bgcolor\": \"rgb(17,17,17)\", \"plot_bgcolor\": \"rgb(17,17,17)\", \"polar\": {\"angularaxis\": {\"gridcolor\": \"#506784\", \"linecolor\": \"#506784\", \"ticks\": \"\"}, \"bgcolor\": \"rgb(17,17,17)\", \"radialaxis\": {\"gridcolor\": \"#506784\", \"linecolor\": \"#506784\", \"ticks\": \"\"}}, \"scene\": {\"xaxis\": {\"backgroundcolor\": \"rgb(17,17,17)\", \"gridcolor\": \"#506784\", \"gridwidth\": 2, \"linecolor\": \"#506784\", \"showbackground\": true, \"ticks\": \"\", \"zerolinecolor\": \"#C8D4E3\"}, \"yaxis\": {\"backgroundcolor\": \"rgb(17,17,17)\", \"gridcolor\": \"#506784\", \"gridwidth\": 2, \"linecolor\": \"#506784\", \"showbackground\": true, \"ticks\": \"\", \"zerolinecolor\": \"#C8D4E3\"}, \"zaxis\": {\"backgroundcolor\": \"rgb(17,17,17)\", \"gridcolor\": \"#506784\", \"gridwidth\": 2, \"linecolor\": \"#506784\", \"showbackground\": true, \"ticks\": \"\", \"zerolinecolor\": \"#C8D4E3\"}}, \"shapedefaults\": {\"line\": {\"color\": \"#f2f5fa\"}}, \"sliderdefaults\": {\"bgcolor\": \"#C8D4E3\", \"bordercolor\": \"rgb(17,17,17)\", \"borderwidth\": 1, \"tickwidth\": 0}, \"ternary\": {\"aaxis\": {\"gridcolor\": \"#506784\", \"linecolor\": \"#506784\", \"ticks\": \"\"}, \"baxis\": {\"gridcolor\": \"#506784\", \"linecolor\": \"#506784\", \"ticks\": \"\"}, \"bgcolor\": \"rgb(17,17,17)\", \"caxis\": {\"gridcolor\": \"#506784\", \"linecolor\": \"#506784\", \"ticks\": \"\"}}, \"title\": {\"x\": 0.05}, \"updatemenudefaults\": {\"bgcolor\": \"#506784\", \"borderwidth\": 0}, \"xaxis\": {\"automargin\": true, \"gridcolor\": \"#283442\", \"linecolor\": \"#506784\", \"ticks\": \"\", \"title\": {\"standoff\": 15}, \"zerolinecolor\": \"#283442\", \"zerolinewidth\": 2}, \"yaxis\": {\"automargin\": true, \"gridcolor\": \"#283442\", \"linecolor\": \"#506784\", \"ticks\": \"\", \"title\": {\"standoff\": 15}, \"zerolinecolor\": \"#283442\", \"zerolinewidth\": 2}}}, \"title\": {\"text\": \"2017 Top-Bottom Analysis\"}, \"xaxis\": {\"anchor\": \"y\", \"domain\": [0.0, 1.0], \"title\": {\"text\": \"Happiness Score\"}}, \"yaxis\": {\"anchor\": \"x\", \"domain\": [0.0, 1.0], \"title\": {\"text\": \"Countries\"}}},                        {\"responsive\": true}                    ).then(function(){\n",
       "                            \n",
       "var gd = document.getElementById('87d21547-dc79-4d41-93ee-b374bddd6105');\n",
       "var x = new MutationObserver(function (mutations, observer) {{\n",
       "        var display = window.getComputedStyle(gd).display;\n",
       "        if (!display || display === 'none') {{\n",
       "            console.log([gd, 'removed!']);\n",
       "            Plotly.purge(gd);\n",
       "            observer.disconnect();\n",
       "        }}\n",
       "}});\n",
       "\n",
       "// Listen for the removal of the full notebook cells\n",
       "var notebookContainer = gd.closest('#notebook-container');\n",
       "if (notebookContainer) {{\n",
       "    x.observe(notebookContainer, {childList: true});\n",
       "}}\n",
       "\n",
       "// Listen for the clearing of the current output cell\n",
       "var outputEl = gd.closest('.output');\n",
       "if (outputEl) {{\n",
       "    x.observe(outputEl, {childList: true});\n",
       "}}\n",
       "\n",
       "                        })                };                });            </script>        </div>"
      ]
     },
     "metadata": {},
     "output_type": "display_data"
    },
    {
     "data": {
      "application/vnd.plotly.v1+json": {
       "config": {
        "plotlyServerURL": "https://plot.ly"
       },
       "data": [
        {
         "alignmentgroup": "True",
         "hovertemplate": "Contributing Factors=Economy_(GDP_per_Capita)<br>Happiness Score=%{x}<br>Countries=%{y}<extra></extra>",
         "legendgroup": "Economy_(GDP_per_Capita)",
         "marker": {
          "color": "rgb(166,206,227)"
         },
         "name": "Economy_(GDP_per_Capita)",
         "offsetgroup": "Economy_(GDP_per_Capita)",
         "orientation": "h",
         "showlegend": true,
         "textposition": "auto",
         "type": "bar",
         "x": [
          0.091,
          0.024,
          0.337,
          0.455,
          0.442,
          0.332,
          0.6890000000000001,
          0.076,
          0.315,
          0.18600000000000005,
          1.34,
          1.355,
          1.268,
          1.33,
          1.361,
          1.42,
          1.3430000000000002,
          1.351,
          1.456,
          1.305
         ],
         "xaxis": "x",
         "y": [
          "Burundi",
          "Central African Republic",
          "South Sudan",
          "Tanzania",
          "Yemen",
          "Rwanda",
          "Syria",
          "Liberia",
          "Haiti",
          "Malawi",
          "Australia",
          "Sweden",
          "New Zealand",
          "Canada",
          "Netherlands",
          "Switzerland",
          "Iceland",
          "Denmark",
          "Norway",
          "Finland"
         ],
         "yaxis": "y"
        },
        {
         "alignmentgroup": "True",
         "hovertemplate": "Contributing Factors=Family<br>Happiness Score=%{x}<br>Countries=%{y}<extra></extra>",
         "legendgroup": "Family",
         "marker": {
          "color": "rgb(31,120,180)"
         },
         "name": "Family",
         "offsetgroup": "Family",
         "orientation": "h",
         "showlegend": true,
         "textposition": "auto",
         "type": "bar",
         "x": [
          0.627,
          0,
          0.608,
          0.991,
          1.073,
          0.8959999999999999,
          0.382,
          0.858,
          0.7140000000000001,
          0.541,
          1.5730000000000002,
          1.501,
          1.601,
          1.5319999999999998,
          1.4880000000000002,
          1.5490000000000002,
          1.644,
          1.59,
          1.582,
          1.592
         ],
         "xaxis": "x",
         "y": [
          "Burundi",
          "Central African Republic",
          "South Sudan",
          "Tanzania",
          "Yemen",
          "Rwanda",
          "Syria",
          "Liberia",
          "Haiti",
          "Malawi",
          "Australia",
          "Sweden",
          "New Zealand",
          "Canada",
          "Netherlands",
          "Switzerland",
          "Iceland",
          "Denmark",
          "Norway",
          "Finland"
         ],
         "yaxis": "y"
        },
        {
         "alignmentgroup": "True",
         "hovertemplate": "Contributing Factors=Health_(Life_Expectancy)<br>Happiness Score=%{x}<br>Countries=%{y}<extra></extra>",
         "legendgroup": "Health_(Life_Expectancy)",
         "marker": {
          "color": "rgb(178,223,138)"
         },
         "name": "Health_(Life_Expectancy)",
         "offsetgroup": "Health_(Life_Expectancy)",
         "orientation": "h",
         "showlegend": true,
         "textposition": "auto",
         "type": "bar",
         "x": [
          0.145,
          0.01,
          0.177,
          0.381,
          0.343,
          0.4,
          0.539,
          0.267,
          0.289,
          0.306,
          0.91,
          0.913,
          0.8759999999999999,
          0.8959999999999999,
          0.878,
          0.927,
          0.914,
          0.868,
          0.861,
          0.8740000000000001
         ],
         "xaxis": "x",
         "y": [
          "Burundi",
          "Central African Republic",
          "South Sudan",
          "Tanzania",
          "Yemen",
          "Rwanda",
          "Syria",
          "Liberia",
          "Haiti",
          "Malawi",
          "Australia",
          "Sweden",
          "New Zealand",
          "Canada",
          "Netherlands",
          "Switzerland",
          "Iceland",
          "Denmark",
          "Norway",
          "Finland"
         ],
         "yaxis": "y"
        },
        {
         "alignmentgroup": "True",
         "hovertemplate": "Contributing Factors=Freedom<br>Happiness Score=%{x}<br>Countries=%{y}<extra></extra>",
         "legendgroup": "Freedom",
         "marker": {
          "color": "rgb(51,160,44)"
         },
         "name": "Freedom",
         "offsetgroup": "Freedom",
         "orientation": "h",
         "showlegend": true,
         "textposition": "auto",
         "type": "bar",
         "x": [
          0.065,
          0.305,
          0.112,
          0.481,
          0.244,
          0.636,
          0.08800000000000001,
          0.419,
          0.025,
          0.531,
          0.647,
          0.659,
          0.669,
          0.653,
          0.638,
          0.66,
          0.677,
          0.6829999999999999,
          0.6859999999999999,
          0.6809999999999999
         ],
         "xaxis": "x",
         "y": [
          "Burundi",
          "Central African Republic",
          "South Sudan",
          "Tanzania",
          "Yemen",
          "Rwanda",
          "Syria",
          "Liberia",
          "Haiti",
          "Malawi",
          "Australia",
          "Sweden",
          "New Zealand",
          "Canada",
          "Netherlands",
          "Switzerland",
          "Iceland",
          "Denmark",
          "Norway",
          "Finland"
         ],
         "yaxis": "y"
        },
        {
         "alignmentgroup": "True",
         "hovertemplate": "Contributing Factors=Trust_(Government_Corruption)<br>Happiness Score=%{x}<br>Countries=%{y}<extra></extra>",
         "legendgroup": "Trust_(Government_Corruption)",
         "marker": {
          "color": "rgb(251,154,153)"
         },
         "name": "Trust_(Government_Corruption)",
         "offsetgroup": "Trust_(Government_Corruption)",
         "orientation": "h",
         "showlegend": true,
         "textposition": "auto",
         "type": "bar",
         "x": [
          0.076,
          0.038,
          0.106,
          0.097,
          0.064,
          0.444,
          0.14400000000000002,
          0.03,
          0.104,
          0.08,
          0.302,
          0.383,
          0.389,
          0.29100000000000004,
          0.295,
          0.35700000000000004,
          0.138,
          0.408,
          0.34,
          0.393
         ],
         "xaxis": "x",
         "y": [
          "Burundi",
          "Central African Republic",
          "South Sudan",
          "Tanzania",
          "Yemen",
          "Rwanda",
          "Syria",
          "Liberia",
          "Haiti",
          "Malawi",
          "Australia",
          "Sweden",
          "New Zealand",
          "Canada",
          "Netherlands",
          "Switzerland",
          "Iceland",
          "Denmark",
          "Norway",
          "Finland"
         ],
         "yaxis": "y"
        },
        {
         "alignmentgroup": "True",
         "hovertemplate": "Contributing Factors=Generosity<br>Happiness Score=%{x}<br>Countries=%{y}<extra></extra>",
         "legendgroup": "Generosity",
         "marker": {
          "color": "rgb(227,26,28)"
         },
         "name": "Generosity",
         "offsetgroup": "Generosity",
         "orientation": "h",
         "showlegend": true,
         "textposition": "auto",
         "type": "bar",
         "x": [
          0.149,
          0.218,
          0.224,
          0.27,
          0.083,
          0.2,
          0.376,
          0.206,
          0.392,
          0.21,
          0.361,
          0.285,
          0.365,
          0.321,
          0.333,
          0.256,
          0.353,
          0.284,
          0.28600000000000003,
          0.202
         ],
         "xaxis": "x",
         "y": [
          "Burundi",
          "Central African Republic",
          "South Sudan",
          "Tanzania",
          "Yemen",
          "Rwanda",
          "Syria",
          "Liberia",
          "Haiti",
          "Malawi",
          "Australia",
          "Sweden",
          "New Zealand",
          "Canada",
          "Netherlands",
          "Switzerland",
          "Iceland",
          "Denmark",
          "Norway",
          "Finland"
         ],
         "yaxis": "y"
        },
        {
         "alignmentgroup": "True",
         "hovertemplate": "Contributing Factors=Dystopia_Residual<br>Happiness Score=%{x}<br>Countries=%{y}<extra></extra>",
         "legendgroup": "Dystopia_Residual",
         "marker": {
          "color": "rgb(253,191,111)"
         },
         "name": "Dystopia_Residual",
         "offsetgroup": "Dystopia_Residual",
         "orientation": "h",
         "showlegend": true,
         "textposition": "auto",
         "type": "bar",
         "x": [
          1.7519999999999998,
          2.4880000000000004,
          1.6899999999999995,
          0.6280000000000001,
          1.106,
          0.4999999999999996,
          1.243999999999999,
          1.639,
          1.743,
          1.7329999999999997,
          2.139,
          2.218,
          2.156,
          2.305,
          2.4479999999999995,
          2.318,
          2.426,
          2.371,
          2.382999999999999,
          2.585000000000001
         ],
         "xaxis": "x",
         "y": [
          "Burundi",
          "Central African Republic",
          "South Sudan",
          "Tanzania",
          "Yemen",
          "Rwanda",
          "Syria",
          "Liberia",
          "Haiti",
          "Malawi",
          "Australia",
          "Sweden",
          "New Zealand",
          "Canada",
          "Netherlands",
          "Switzerland",
          "Iceland",
          "Denmark",
          "Norway",
          "Finland"
         ],
         "yaxis": "y"
        }
       ],
       "layout": {
        "barmode": "stack",
        "legend": {
         "title": {
          "text": "Contributing Factors"
         },
         "tracegroupgap": 0
        },
        "template": {
         "data": {
          "bar": [
           {
            "error_x": {
             "color": "#f2f5fa"
            },
            "error_y": {
             "color": "#f2f5fa"
            },
            "marker": {
             "line": {
              "color": "rgb(17,17,17)",
              "width": 0.5
             }
            },
            "type": "bar"
           }
          ],
          "barpolar": [
           {
            "marker": {
             "line": {
              "color": "rgb(17,17,17)",
              "width": 0.5
             }
            },
            "type": "barpolar"
           }
          ],
          "carpet": [
           {
            "aaxis": {
             "endlinecolor": "#A2B1C6",
             "gridcolor": "#506784",
             "linecolor": "#506784",
             "minorgridcolor": "#506784",
             "startlinecolor": "#A2B1C6"
            },
            "baxis": {
             "endlinecolor": "#A2B1C6",
             "gridcolor": "#506784",
             "linecolor": "#506784",
             "minorgridcolor": "#506784",
             "startlinecolor": "#A2B1C6"
            },
            "type": "carpet"
           }
          ],
          "choropleth": [
           {
            "colorbar": {
             "outlinewidth": 0,
             "ticks": ""
            },
            "type": "choropleth"
           }
          ],
          "contour": [
           {
            "colorbar": {
             "outlinewidth": 0,
             "ticks": ""
            },
            "colorscale": [
             [
              0,
              "#0d0887"
             ],
             [
              0.1111111111111111,
              "#46039f"
             ],
             [
              0.2222222222222222,
              "#7201a8"
             ],
             [
              0.3333333333333333,
              "#9c179e"
             ],
             [
              0.4444444444444444,
              "#bd3786"
             ],
             [
              0.5555555555555556,
              "#d8576b"
             ],
             [
              0.6666666666666666,
              "#ed7953"
             ],
             [
              0.7777777777777778,
              "#fb9f3a"
             ],
             [
              0.8888888888888888,
              "#fdca26"
             ],
             [
              1,
              "#f0f921"
             ]
            ],
            "type": "contour"
           }
          ],
          "contourcarpet": [
           {
            "colorbar": {
             "outlinewidth": 0,
             "ticks": ""
            },
            "type": "contourcarpet"
           }
          ],
          "heatmap": [
           {
            "colorbar": {
             "outlinewidth": 0,
             "ticks": ""
            },
            "colorscale": [
             [
              0,
              "#0d0887"
             ],
             [
              0.1111111111111111,
              "#46039f"
             ],
             [
              0.2222222222222222,
              "#7201a8"
             ],
             [
              0.3333333333333333,
              "#9c179e"
             ],
             [
              0.4444444444444444,
              "#bd3786"
             ],
             [
              0.5555555555555556,
              "#d8576b"
             ],
             [
              0.6666666666666666,
              "#ed7953"
             ],
             [
              0.7777777777777778,
              "#fb9f3a"
             ],
             [
              0.8888888888888888,
              "#fdca26"
             ],
             [
              1,
              "#f0f921"
             ]
            ],
            "type": "heatmap"
           }
          ],
          "heatmapgl": [
           {
            "colorbar": {
             "outlinewidth": 0,
             "ticks": ""
            },
            "colorscale": [
             [
              0,
              "#0d0887"
             ],
             [
              0.1111111111111111,
              "#46039f"
             ],
             [
              0.2222222222222222,
              "#7201a8"
             ],
             [
              0.3333333333333333,
              "#9c179e"
             ],
             [
              0.4444444444444444,
              "#bd3786"
             ],
             [
              0.5555555555555556,
              "#d8576b"
             ],
             [
              0.6666666666666666,
              "#ed7953"
             ],
             [
              0.7777777777777778,
              "#fb9f3a"
             ],
             [
              0.8888888888888888,
              "#fdca26"
             ],
             [
              1,
              "#f0f921"
             ]
            ],
            "type": "heatmapgl"
           }
          ],
          "histogram": [
           {
            "marker": {
             "colorbar": {
              "outlinewidth": 0,
              "ticks": ""
             }
            },
            "type": "histogram"
           }
          ],
          "histogram2d": [
           {
            "colorbar": {
             "outlinewidth": 0,
             "ticks": ""
            },
            "colorscale": [
             [
              0,
              "#0d0887"
             ],
             [
              0.1111111111111111,
              "#46039f"
             ],
             [
              0.2222222222222222,
              "#7201a8"
             ],
             [
              0.3333333333333333,
              "#9c179e"
             ],
             [
              0.4444444444444444,
              "#bd3786"
             ],
             [
              0.5555555555555556,
              "#d8576b"
             ],
             [
              0.6666666666666666,
              "#ed7953"
             ],
             [
              0.7777777777777778,
              "#fb9f3a"
             ],
             [
              0.8888888888888888,
              "#fdca26"
             ],
             [
              1,
              "#f0f921"
             ]
            ],
            "type": "histogram2d"
           }
          ],
          "histogram2dcontour": [
           {
            "colorbar": {
             "outlinewidth": 0,
             "ticks": ""
            },
            "colorscale": [
             [
              0,
              "#0d0887"
             ],
             [
              0.1111111111111111,
              "#46039f"
             ],
             [
              0.2222222222222222,
              "#7201a8"
             ],
             [
              0.3333333333333333,
              "#9c179e"
             ],
             [
              0.4444444444444444,
              "#bd3786"
             ],
             [
              0.5555555555555556,
              "#d8576b"
             ],
             [
              0.6666666666666666,
              "#ed7953"
             ],
             [
              0.7777777777777778,
              "#fb9f3a"
             ],
             [
              0.8888888888888888,
              "#fdca26"
             ],
             [
              1,
              "#f0f921"
             ]
            ],
            "type": "histogram2dcontour"
           }
          ],
          "mesh3d": [
           {
            "colorbar": {
             "outlinewidth": 0,
             "ticks": ""
            },
            "type": "mesh3d"
           }
          ],
          "parcoords": [
           {
            "line": {
             "colorbar": {
              "outlinewidth": 0,
              "ticks": ""
             }
            },
            "type": "parcoords"
           }
          ],
          "pie": [
           {
            "automargin": true,
            "type": "pie"
           }
          ],
          "scatter": [
           {
            "marker": {
             "line": {
              "color": "#283442"
             }
            },
            "type": "scatter"
           }
          ],
          "scatter3d": [
           {
            "line": {
             "colorbar": {
              "outlinewidth": 0,
              "ticks": ""
             }
            },
            "marker": {
             "colorbar": {
              "outlinewidth": 0,
              "ticks": ""
             }
            },
            "type": "scatter3d"
           }
          ],
          "scattercarpet": [
           {
            "marker": {
             "colorbar": {
              "outlinewidth": 0,
              "ticks": ""
             }
            },
            "type": "scattercarpet"
           }
          ],
          "scattergeo": [
           {
            "marker": {
             "colorbar": {
              "outlinewidth": 0,
              "ticks": ""
             }
            },
            "type": "scattergeo"
           }
          ],
          "scattergl": [
           {
            "marker": {
             "line": {
              "color": "#283442"
             }
            },
            "type": "scattergl"
           }
          ],
          "scattermapbox": [
           {
            "marker": {
             "colorbar": {
              "outlinewidth": 0,
              "ticks": ""
             }
            },
            "type": "scattermapbox"
           }
          ],
          "scatterpolar": [
           {
            "marker": {
             "colorbar": {
              "outlinewidth": 0,
              "ticks": ""
             }
            },
            "type": "scatterpolar"
           }
          ],
          "scatterpolargl": [
           {
            "marker": {
             "colorbar": {
              "outlinewidth": 0,
              "ticks": ""
             }
            },
            "type": "scatterpolargl"
           }
          ],
          "scatterternary": [
           {
            "marker": {
             "colorbar": {
              "outlinewidth": 0,
              "ticks": ""
             }
            },
            "type": "scatterternary"
           }
          ],
          "surface": [
           {
            "colorbar": {
             "outlinewidth": 0,
             "ticks": ""
            },
            "colorscale": [
             [
              0,
              "#0d0887"
             ],
             [
              0.1111111111111111,
              "#46039f"
             ],
             [
              0.2222222222222222,
              "#7201a8"
             ],
             [
              0.3333333333333333,
              "#9c179e"
             ],
             [
              0.4444444444444444,
              "#bd3786"
             ],
             [
              0.5555555555555556,
              "#d8576b"
             ],
             [
              0.6666666666666666,
              "#ed7953"
             ],
             [
              0.7777777777777778,
              "#fb9f3a"
             ],
             [
              0.8888888888888888,
              "#fdca26"
             ],
             [
              1,
              "#f0f921"
             ]
            ],
            "type": "surface"
           }
          ],
          "table": [
           {
            "cells": {
             "fill": {
              "color": "#506784"
             },
             "line": {
              "color": "rgb(17,17,17)"
             }
            },
            "header": {
             "fill": {
              "color": "#2a3f5f"
             },
             "line": {
              "color": "rgb(17,17,17)"
             }
            },
            "type": "table"
           }
          ]
         },
         "layout": {
          "annotationdefaults": {
           "arrowcolor": "#f2f5fa",
           "arrowhead": 0,
           "arrowwidth": 1
          },
          "coloraxis": {
           "colorbar": {
            "outlinewidth": 0,
            "ticks": ""
           }
          },
          "colorscale": {
           "diverging": [
            [
             0,
             "#8e0152"
            ],
            [
             0.1,
             "#c51b7d"
            ],
            [
             0.2,
             "#de77ae"
            ],
            [
             0.3,
             "#f1b6da"
            ],
            [
             0.4,
             "#fde0ef"
            ],
            [
             0.5,
             "#f7f7f7"
            ],
            [
             0.6,
             "#e6f5d0"
            ],
            [
             0.7,
             "#b8e186"
            ],
            [
             0.8,
             "#7fbc41"
            ],
            [
             0.9,
             "#4d9221"
            ],
            [
             1,
             "#276419"
            ]
           ],
           "sequential": [
            [
             0,
             "#0d0887"
            ],
            [
             0.1111111111111111,
             "#46039f"
            ],
            [
             0.2222222222222222,
             "#7201a8"
            ],
            [
             0.3333333333333333,
             "#9c179e"
            ],
            [
             0.4444444444444444,
             "#bd3786"
            ],
            [
             0.5555555555555556,
             "#d8576b"
            ],
            [
             0.6666666666666666,
             "#ed7953"
            ],
            [
             0.7777777777777778,
             "#fb9f3a"
            ],
            [
             0.8888888888888888,
             "#fdca26"
            ],
            [
             1,
             "#f0f921"
            ]
           ],
           "sequentialminus": [
            [
             0,
             "#0d0887"
            ],
            [
             0.1111111111111111,
             "#46039f"
            ],
            [
             0.2222222222222222,
             "#7201a8"
            ],
            [
             0.3333333333333333,
             "#9c179e"
            ],
            [
             0.4444444444444444,
             "#bd3786"
            ],
            [
             0.5555555555555556,
             "#d8576b"
            ],
            [
             0.6666666666666666,
             "#ed7953"
            ],
            [
             0.7777777777777778,
             "#fb9f3a"
            ],
            [
             0.8888888888888888,
             "#fdca26"
            ],
            [
             1,
             "#f0f921"
            ]
           ]
          },
          "colorway": [
           "#636efa",
           "#EF553B",
           "#00cc96",
           "#ab63fa",
           "#FFA15A",
           "#19d3f3",
           "#FF6692",
           "#B6E880",
           "#FF97FF",
           "#FECB52"
          ],
          "font": {
           "color": "#f2f5fa"
          },
          "geo": {
           "bgcolor": "rgb(17,17,17)",
           "lakecolor": "rgb(17,17,17)",
           "landcolor": "rgb(17,17,17)",
           "showlakes": true,
           "showland": true,
           "subunitcolor": "#506784"
          },
          "hoverlabel": {
           "align": "left"
          },
          "hovermode": "closest",
          "mapbox": {
           "style": "dark"
          },
          "paper_bgcolor": "rgb(17,17,17)",
          "plot_bgcolor": "rgb(17,17,17)",
          "polar": {
           "angularaxis": {
            "gridcolor": "#506784",
            "linecolor": "#506784",
            "ticks": ""
           },
           "bgcolor": "rgb(17,17,17)",
           "radialaxis": {
            "gridcolor": "#506784",
            "linecolor": "#506784",
            "ticks": ""
           }
          },
          "scene": {
           "xaxis": {
            "backgroundcolor": "rgb(17,17,17)",
            "gridcolor": "#506784",
            "gridwidth": 2,
            "linecolor": "#506784",
            "showbackground": true,
            "ticks": "",
            "zerolinecolor": "#C8D4E3"
           },
           "yaxis": {
            "backgroundcolor": "rgb(17,17,17)",
            "gridcolor": "#506784",
            "gridwidth": 2,
            "linecolor": "#506784",
            "showbackground": true,
            "ticks": "",
            "zerolinecolor": "#C8D4E3"
           },
           "zaxis": {
            "backgroundcolor": "rgb(17,17,17)",
            "gridcolor": "#506784",
            "gridwidth": 2,
            "linecolor": "#506784",
            "showbackground": true,
            "ticks": "",
            "zerolinecolor": "#C8D4E3"
           }
          },
          "shapedefaults": {
           "line": {
            "color": "#f2f5fa"
           }
          },
          "sliderdefaults": {
           "bgcolor": "#C8D4E3",
           "bordercolor": "rgb(17,17,17)",
           "borderwidth": 1,
           "tickwidth": 0
          },
          "ternary": {
           "aaxis": {
            "gridcolor": "#506784",
            "linecolor": "#506784",
            "ticks": ""
           },
           "baxis": {
            "gridcolor": "#506784",
            "linecolor": "#506784",
            "ticks": ""
           },
           "bgcolor": "rgb(17,17,17)",
           "caxis": {
            "gridcolor": "#506784",
            "linecolor": "#506784",
            "ticks": ""
           }
          },
          "title": {
           "x": 0.05
          },
          "updatemenudefaults": {
           "bgcolor": "#506784",
           "borderwidth": 0
          },
          "xaxis": {
           "automargin": true,
           "gridcolor": "#283442",
           "linecolor": "#506784",
           "ticks": "",
           "title": {
            "standoff": 15
           },
           "zerolinecolor": "#283442",
           "zerolinewidth": 2
          },
          "yaxis": {
           "automargin": true,
           "gridcolor": "#283442",
           "linecolor": "#506784",
           "ticks": "",
           "title": {
            "standoff": 15
           },
           "zerolinecolor": "#283442",
           "zerolinewidth": 2
          }
         }
        },
        "title": {
         "text": "2018 Top-Bottom Analysis"
        },
        "xaxis": {
         "anchor": "y",
         "domain": [
          0,
          1
         ],
         "title": {
          "text": "Happiness Score"
         }
        },
        "yaxis": {
         "anchor": "x",
         "domain": [
          0,
          1
         ],
         "title": {
          "text": "Countries"
         }
        }
       }
      },
      "text/html": [
       "<div>                            <div id=\"4374513b-4c9a-46c6-9a8a-52ccd09beb2f\" class=\"plotly-graph-div\" style=\"height:525px; width:100%;\"></div>            <script type=\"text/javascript\">                require([\"plotly\"], function(Plotly) {                    window.PLOTLYENV=window.PLOTLYENV || {};                                    if (document.getElementById(\"4374513b-4c9a-46c6-9a8a-52ccd09beb2f\")) {                    Plotly.newPlot(                        \"4374513b-4c9a-46c6-9a8a-52ccd09beb2f\",                        [{\"alignmentgroup\": \"True\", \"hovertemplate\": \"Contributing Factors=Economy_(GDP_per_Capita)<br>Happiness Score=%{x}<br>Countries=%{y}<extra></extra>\", \"legendgroup\": \"Economy_(GDP_per_Capita)\", \"marker\": {\"color\": \"rgb(166,206,227)\"}, \"name\": \"Economy_(GDP_per_Capita)\", \"offsetgroup\": \"Economy_(GDP_per_Capita)\", \"orientation\": \"h\", \"showlegend\": true, \"textposition\": \"auto\", \"type\": \"bar\", \"x\": [0.091, 0.024, 0.337, 0.455, 0.442, 0.332, 0.6890000000000001, 0.076, 0.315, 0.18600000000000005, 1.34, 1.355, 1.268, 1.33, 1.361, 1.42, 1.3430000000000002, 1.351, 1.456, 1.305], \"xaxis\": \"x\", \"y\": [\"Burundi\", \"Central African Republic\", \"South Sudan\", \"Tanzania\", \"Yemen\", \"Rwanda\", \"Syria\", \"Liberia\", \"Haiti\", \"Malawi\", \"Australia\", \"Sweden\", \"New Zealand\", \"Canada\", \"Netherlands\", \"Switzerland\", \"Iceland\", \"Denmark\", \"Norway\", \"Finland\"], \"yaxis\": \"y\"}, {\"alignmentgroup\": \"True\", \"hovertemplate\": \"Contributing Factors=Family<br>Happiness Score=%{x}<br>Countries=%{y}<extra></extra>\", \"legendgroup\": \"Family\", \"marker\": {\"color\": \"rgb(31,120,180)\"}, \"name\": \"Family\", \"offsetgroup\": \"Family\", \"orientation\": \"h\", \"showlegend\": true, \"textposition\": \"auto\", \"type\": \"bar\", \"x\": [0.627, 0.0, 0.608, 0.991, 1.073, 0.8959999999999999, 0.382, 0.858, 0.7140000000000001, 0.541, 1.5730000000000002, 1.501, 1.601, 1.5319999999999998, 1.4880000000000002, 1.5490000000000002, 1.644, 1.59, 1.582, 1.592], \"xaxis\": \"x\", \"y\": [\"Burundi\", \"Central African Republic\", \"South Sudan\", \"Tanzania\", \"Yemen\", \"Rwanda\", \"Syria\", \"Liberia\", \"Haiti\", \"Malawi\", \"Australia\", \"Sweden\", \"New Zealand\", \"Canada\", \"Netherlands\", \"Switzerland\", \"Iceland\", \"Denmark\", \"Norway\", \"Finland\"], \"yaxis\": \"y\"}, {\"alignmentgroup\": \"True\", \"hovertemplate\": \"Contributing Factors=Health_(Life_Expectancy)<br>Happiness Score=%{x}<br>Countries=%{y}<extra></extra>\", \"legendgroup\": \"Health_(Life_Expectancy)\", \"marker\": {\"color\": \"rgb(178,223,138)\"}, \"name\": \"Health_(Life_Expectancy)\", \"offsetgroup\": \"Health_(Life_Expectancy)\", \"orientation\": \"h\", \"showlegend\": true, \"textposition\": \"auto\", \"type\": \"bar\", \"x\": [0.145, 0.01, 0.177, 0.381, 0.343, 0.4, 0.539, 0.267, 0.289, 0.306, 0.91, 0.913, 0.8759999999999999, 0.8959999999999999, 0.878, 0.927, 0.914, 0.868, 0.861, 0.8740000000000001], \"xaxis\": \"x\", \"y\": [\"Burundi\", \"Central African Republic\", \"South Sudan\", \"Tanzania\", \"Yemen\", \"Rwanda\", \"Syria\", \"Liberia\", \"Haiti\", \"Malawi\", \"Australia\", \"Sweden\", \"New Zealand\", \"Canada\", \"Netherlands\", \"Switzerland\", \"Iceland\", \"Denmark\", \"Norway\", \"Finland\"], \"yaxis\": \"y\"}, {\"alignmentgroup\": \"True\", \"hovertemplate\": \"Contributing Factors=Freedom<br>Happiness Score=%{x}<br>Countries=%{y}<extra></extra>\", \"legendgroup\": \"Freedom\", \"marker\": {\"color\": \"rgb(51,160,44)\"}, \"name\": \"Freedom\", \"offsetgroup\": \"Freedom\", \"orientation\": \"h\", \"showlegend\": true, \"textposition\": \"auto\", \"type\": \"bar\", \"x\": [0.065, 0.305, 0.112, 0.481, 0.244, 0.636, 0.08800000000000001, 0.419, 0.025, 0.531, 0.647, 0.659, 0.669, 0.653, 0.638, 0.66, 0.677, 0.6829999999999999, 0.6859999999999999, 0.6809999999999999], \"xaxis\": \"x\", \"y\": [\"Burundi\", \"Central African Republic\", \"South Sudan\", \"Tanzania\", \"Yemen\", \"Rwanda\", \"Syria\", \"Liberia\", \"Haiti\", \"Malawi\", \"Australia\", \"Sweden\", \"New Zealand\", \"Canada\", \"Netherlands\", \"Switzerland\", \"Iceland\", \"Denmark\", \"Norway\", \"Finland\"], \"yaxis\": \"y\"}, {\"alignmentgroup\": \"True\", \"hovertemplate\": \"Contributing Factors=Trust_(Government_Corruption)<br>Happiness Score=%{x}<br>Countries=%{y}<extra></extra>\", \"legendgroup\": \"Trust_(Government_Corruption)\", \"marker\": {\"color\": \"rgb(251,154,153)\"}, \"name\": \"Trust_(Government_Corruption)\", \"offsetgroup\": \"Trust_(Government_Corruption)\", \"orientation\": \"h\", \"showlegend\": true, \"textposition\": \"auto\", \"type\": \"bar\", \"x\": [0.076, 0.038, 0.106, 0.097, 0.064, 0.444, 0.14400000000000002, 0.03, 0.104, 0.08, 0.302, 0.383, 0.389, 0.29100000000000004, 0.295, 0.35700000000000004, 0.138, 0.408, 0.34, 0.393], \"xaxis\": \"x\", \"y\": [\"Burundi\", \"Central African Republic\", \"South Sudan\", \"Tanzania\", \"Yemen\", \"Rwanda\", \"Syria\", \"Liberia\", \"Haiti\", \"Malawi\", \"Australia\", \"Sweden\", \"New Zealand\", \"Canada\", \"Netherlands\", \"Switzerland\", \"Iceland\", \"Denmark\", \"Norway\", \"Finland\"], \"yaxis\": \"y\"}, {\"alignmentgroup\": \"True\", \"hovertemplate\": \"Contributing Factors=Generosity<br>Happiness Score=%{x}<br>Countries=%{y}<extra></extra>\", \"legendgroup\": \"Generosity\", \"marker\": {\"color\": \"rgb(227,26,28)\"}, \"name\": \"Generosity\", \"offsetgroup\": \"Generosity\", \"orientation\": \"h\", \"showlegend\": true, \"textposition\": \"auto\", \"type\": \"bar\", \"x\": [0.149, 0.218, 0.224, 0.27, 0.083, 0.2, 0.376, 0.206, 0.392, 0.21, 0.361, 0.285, 0.365, 0.321, 0.333, 0.256, 0.353, 0.284, 0.28600000000000003, 0.202], \"xaxis\": \"x\", \"y\": [\"Burundi\", \"Central African Republic\", \"South Sudan\", \"Tanzania\", \"Yemen\", \"Rwanda\", \"Syria\", \"Liberia\", \"Haiti\", \"Malawi\", \"Australia\", \"Sweden\", \"New Zealand\", \"Canada\", \"Netherlands\", \"Switzerland\", \"Iceland\", \"Denmark\", \"Norway\", \"Finland\"], \"yaxis\": \"y\"}, {\"alignmentgroup\": \"True\", \"hovertemplate\": \"Contributing Factors=Dystopia_Residual<br>Happiness Score=%{x}<br>Countries=%{y}<extra></extra>\", \"legendgroup\": \"Dystopia_Residual\", \"marker\": {\"color\": \"rgb(253,191,111)\"}, \"name\": \"Dystopia_Residual\", \"offsetgroup\": \"Dystopia_Residual\", \"orientation\": \"h\", \"showlegend\": true, \"textposition\": \"auto\", \"type\": \"bar\", \"x\": [1.7519999999999998, 2.4880000000000004, 1.6899999999999995, 0.6280000000000001, 1.106, 0.4999999999999996, 1.243999999999999, 1.639, 1.743, 1.7329999999999997, 2.139, 2.218, 2.156, 2.305, 2.4479999999999995, 2.318, 2.426, 2.371, 2.382999999999999, 2.585000000000001], \"xaxis\": \"x\", \"y\": [\"Burundi\", \"Central African Republic\", \"South Sudan\", \"Tanzania\", \"Yemen\", \"Rwanda\", \"Syria\", \"Liberia\", \"Haiti\", \"Malawi\", \"Australia\", \"Sweden\", \"New Zealand\", \"Canada\", \"Netherlands\", \"Switzerland\", \"Iceland\", \"Denmark\", \"Norway\", \"Finland\"], \"yaxis\": \"y\"}],                        {\"barmode\": \"stack\", \"legend\": {\"title\": {\"text\": \"Contributing Factors\"}, \"tracegroupgap\": 0}, \"template\": {\"data\": {\"bar\": [{\"error_x\": {\"color\": \"#f2f5fa\"}, \"error_y\": {\"color\": \"#f2f5fa\"}, \"marker\": {\"line\": {\"color\": \"rgb(17,17,17)\", \"width\": 0.5}}, \"type\": \"bar\"}], \"barpolar\": [{\"marker\": {\"line\": {\"color\": \"rgb(17,17,17)\", \"width\": 0.5}}, \"type\": \"barpolar\"}], \"carpet\": [{\"aaxis\": {\"endlinecolor\": \"#A2B1C6\", \"gridcolor\": \"#506784\", \"linecolor\": \"#506784\", \"minorgridcolor\": \"#506784\", \"startlinecolor\": \"#A2B1C6\"}, \"baxis\": {\"endlinecolor\": \"#A2B1C6\", \"gridcolor\": \"#506784\", \"linecolor\": \"#506784\", \"minorgridcolor\": \"#506784\", \"startlinecolor\": \"#A2B1C6\"}, \"type\": \"carpet\"}], \"choropleth\": [{\"colorbar\": {\"outlinewidth\": 0, \"ticks\": \"\"}, \"type\": \"choropleth\"}], \"contour\": [{\"colorbar\": {\"outlinewidth\": 0, \"ticks\": \"\"}, \"colorscale\": [[0.0, \"#0d0887\"], [0.1111111111111111, \"#46039f\"], [0.2222222222222222, \"#7201a8\"], [0.3333333333333333, \"#9c179e\"], [0.4444444444444444, \"#bd3786\"], [0.5555555555555556, \"#d8576b\"], [0.6666666666666666, \"#ed7953\"], [0.7777777777777778, \"#fb9f3a\"], [0.8888888888888888, \"#fdca26\"], [1.0, \"#f0f921\"]], \"type\": \"contour\"}], \"contourcarpet\": [{\"colorbar\": {\"outlinewidth\": 0, \"ticks\": \"\"}, \"type\": \"contourcarpet\"}], \"heatmap\": [{\"colorbar\": {\"outlinewidth\": 0, \"ticks\": \"\"}, \"colorscale\": [[0.0, \"#0d0887\"], [0.1111111111111111, \"#46039f\"], [0.2222222222222222, \"#7201a8\"], [0.3333333333333333, \"#9c179e\"], [0.4444444444444444, \"#bd3786\"], [0.5555555555555556, \"#d8576b\"], [0.6666666666666666, \"#ed7953\"], [0.7777777777777778, \"#fb9f3a\"], [0.8888888888888888, \"#fdca26\"], [1.0, \"#f0f921\"]], \"type\": \"heatmap\"}], \"heatmapgl\": [{\"colorbar\": {\"outlinewidth\": 0, \"ticks\": \"\"}, \"colorscale\": [[0.0, \"#0d0887\"], [0.1111111111111111, \"#46039f\"], [0.2222222222222222, \"#7201a8\"], [0.3333333333333333, \"#9c179e\"], [0.4444444444444444, \"#bd3786\"], [0.5555555555555556, \"#d8576b\"], [0.6666666666666666, \"#ed7953\"], [0.7777777777777778, \"#fb9f3a\"], [0.8888888888888888, \"#fdca26\"], [1.0, \"#f0f921\"]], \"type\": \"heatmapgl\"}], \"histogram\": [{\"marker\": {\"colorbar\": {\"outlinewidth\": 0, \"ticks\": \"\"}}, \"type\": \"histogram\"}], \"histogram2d\": [{\"colorbar\": {\"outlinewidth\": 0, \"ticks\": \"\"}, \"colorscale\": [[0.0, \"#0d0887\"], [0.1111111111111111, \"#46039f\"], [0.2222222222222222, \"#7201a8\"], [0.3333333333333333, \"#9c179e\"], [0.4444444444444444, \"#bd3786\"], [0.5555555555555556, \"#d8576b\"], [0.6666666666666666, \"#ed7953\"], [0.7777777777777778, \"#fb9f3a\"], [0.8888888888888888, \"#fdca26\"], [1.0, \"#f0f921\"]], \"type\": \"histogram2d\"}], \"histogram2dcontour\": [{\"colorbar\": {\"outlinewidth\": 0, \"ticks\": \"\"}, \"colorscale\": [[0.0, \"#0d0887\"], [0.1111111111111111, \"#46039f\"], [0.2222222222222222, \"#7201a8\"], [0.3333333333333333, \"#9c179e\"], [0.4444444444444444, \"#bd3786\"], [0.5555555555555556, \"#d8576b\"], [0.6666666666666666, \"#ed7953\"], [0.7777777777777778, \"#fb9f3a\"], [0.8888888888888888, \"#fdca26\"], [1.0, \"#f0f921\"]], \"type\": \"histogram2dcontour\"}], \"mesh3d\": [{\"colorbar\": {\"outlinewidth\": 0, \"ticks\": \"\"}, \"type\": \"mesh3d\"}], \"parcoords\": [{\"line\": {\"colorbar\": {\"outlinewidth\": 0, \"ticks\": \"\"}}, \"type\": \"parcoords\"}], \"pie\": [{\"automargin\": true, \"type\": \"pie\"}], \"scatter\": [{\"marker\": {\"line\": {\"color\": \"#283442\"}}, \"type\": \"scatter\"}], \"scatter3d\": [{\"line\": {\"colorbar\": {\"outlinewidth\": 0, \"ticks\": \"\"}}, \"marker\": {\"colorbar\": {\"outlinewidth\": 0, \"ticks\": \"\"}}, \"type\": \"scatter3d\"}], \"scattercarpet\": [{\"marker\": {\"colorbar\": {\"outlinewidth\": 0, \"ticks\": \"\"}}, \"type\": \"scattercarpet\"}], \"scattergeo\": [{\"marker\": {\"colorbar\": {\"outlinewidth\": 0, \"ticks\": \"\"}}, \"type\": \"scattergeo\"}], \"scattergl\": [{\"marker\": {\"line\": {\"color\": \"#283442\"}}, \"type\": \"scattergl\"}], \"scattermapbox\": [{\"marker\": {\"colorbar\": {\"outlinewidth\": 0, \"ticks\": \"\"}}, \"type\": \"scattermapbox\"}], \"scatterpolar\": [{\"marker\": {\"colorbar\": {\"outlinewidth\": 0, \"ticks\": \"\"}}, \"type\": \"scatterpolar\"}], \"scatterpolargl\": [{\"marker\": {\"colorbar\": {\"outlinewidth\": 0, \"ticks\": \"\"}}, \"type\": \"scatterpolargl\"}], \"scatterternary\": [{\"marker\": {\"colorbar\": {\"outlinewidth\": 0, \"ticks\": \"\"}}, \"type\": \"scatterternary\"}], \"surface\": [{\"colorbar\": {\"outlinewidth\": 0, \"ticks\": \"\"}, \"colorscale\": [[0.0, \"#0d0887\"], [0.1111111111111111, \"#46039f\"], [0.2222222222222222, \"#7201a8\"], [0.3333333333333333, \"#9c179e\"], [0.4444444444444444, \"#bd3786\"], [0.5555555555555556, \"#d8576b\"], [0.6666666666666666, \"#ed7953\"], [0.7777777777777778, \"#fb9f3a\"], [0.8888888888888888, \"#fdca26\"], [1.0, \"#f0f921\"]], \"type\": \"surface\"}], \"table\": [{\"cells\": {\"fill\": {\"color\": \"#506784\"}, \"line\": {\"color\": \"rgb(17,17,17)\"}}, \"header\": {\"fill\": {\"color\": \"#2a3f5f\"}, \"line\": {\"color\": \"rgb(17,17,17)\"}}, \"type\": \"table\"}]}, \"layout\": {\"annotationdefaults\": {\"arrowcolor\": \"#f2f5fa\", \"arrowhead\": 0, \"arrowwidth\": 1}, \"coloraxis\": {\"colorbar\": {\"outlinewidth\": 0, \"ticks\": \"\"}}, \"colorscale\": {\"diverging\": [[0, \"#8e0152\"], [0.1, \"#c51b7d\"], [0.2, \"#de77ae\"], [0.3, \"#f1b6da\"], [0.4, \"#fde0ef\"], [0.5, \"#f7f7f7\"], [0.6, \"#e6f5d0\"], [0.7, \"#b8e186\"], [0.8, \"#7fbc41\"], [0.9, \"#4d9221\"], [1, \"#276419\"]], \"sequential\": [[0.0, \"#0d0887\"], [0.1111111111111111, \"#46039f\"], [0.2222222222222222, \"#7201a8\"], [0.3333333333333333, \"#9c179e\"], [0.4444444444444444, \"#bd3786\"], [0.5555555555555556, \"#d8576b\"], [0.6666666666666666, \"#ed7953\"], [0.7777777777777778, \"#fb9f3a\"], [0.8888888888888888, \"#fdca26\"], [1.0, \"#f0f921\"]], \"sequentialminus\": [[0.0, \"#0d0887\"], [0.1111111111111111, \"#46039f\"], [0.2222222222222222, \"#7201a8\"], [0.3333333333333333, \"#9c179e\"], [0.4444444444444444, \"#bd3786\"], [0.5555555555555556, \"#d8576b\"], [0.6666666666666666, \"#ed7953\"], [0.7777777777777778, \"#fb9f3a\"], [0.8888888888888888, \"#fdca26\"], [1.0, \"#f0f921\"]]}, \"colorway\": [\"#636efa\", \"#EF553B\", \"#00cc96\", \"#ab63fa\", \"#FFA15A\", \"#19d3f3\", \"#FF6692\", \"#B6E880\", \"#FF97FF\", \"#FECB52\"], \"font\": {\"color\": \"#f2f5fa\"}, \"geo\": {\"bgcolor\": \"rgb(17,17,17)\", \"lakecolor\": \"rgb(17,17,17)\", \"landcolor\": \"rgb(17,17,17)\", \"showlakes\": true, \"showland\": true, \"subunitcolor\": \"#506784\"}, \"hoverlabel\": {\"align\": \"left\"}, \"hovermode\": \"closest\", \"mapbox\": {\"style\": \"dark\"}, \"paper_bgcolor\": \"rgb(17,17,17)\", \"plot_bgcolor\": \"rgb(17,17,17)\", \"polar\": {\"angularaxis\": {\"gridcolor\": \"#506784\", \"linecolor\": \"#506784\", \"ticks\": \"\"}, \"bgcolor\": \"rgb(17,17,17)\", \"radialaxis\": {\"gridcolor\": \"#506784\", \"linecolor\": \"#506784\", \"ticks\": \"\"}}, \"scene\": {\"xaxis\": {\"backgroundcolor\": \"rgb(17,17,17)\", \"gridcolor\": \"#506784\", \"gridwidth\": 2, \"linecolor\": \"#506784\", \"showbackground\": true, \"ticks\": \"\", \"zerolinecolor\": \"#C8D4E3\"}, \"yaxis\": {\"backgroundcolor\": \"rgb(17,17,17)\", \"gridcolor\": \"#506784\", \"gridwidth\": 2, \"linecolor\": \"#506784\", \"showbackground\": true, \"ticks\": \"\", \"zerolinecolor\": \"#C8D4E3\"}, \"zaxis\": {\"backgroundcolor\": \"rgb(17,17,17)\", \"gridcolor\": \"#506784\", \"gridwidth\": 2, \"linecolor\": \"#506784\", \"showbackground\": true, \"ticks\": \"\", \"zerolinecolor\": \"#C8D4E3\"}}, \"shapedefaults\": {\"line\": {\"color\": \"#f2f5fa\"}}, \"sliderdefaults\": {\"bgcolor\": \"#C8D4E3\", \"bordercolor\": \"rgb(17,17,17)\", \"borderwidth\": 1, \"tickwidth\": 0}, \"ternary\": {\"aaxis\": {\"gridcolor\": \"#506784\", \"linecolor\": \"#506784\", \"ticks\": \"\"}, \"baxis\": {\"gridcolor\": \"#506784\", \"linecolor\": \"#506784\", \"ticks\": \"\"}, \"bgcolor\": \"rgb(17,17,17)\", \"caxis\": {\"gridcolor\": \"#506784\", \"linecolor\": \"#506784\", \"ticks\": \"\"}}, \"title\": {\"x\": 0.05}, \"updatemenudefaults\": {\"bgcolor\": \"#506784\", \"borderwidth\": 0}, \"xaxis\": {\"automargin\": true, \"gridcolor\": \"#283442\", \"linecolor\": \"#506784\", \"ticks\": \"\", \"title\": {\"standoff\": 15}, \"zerolinecolor\": \"#283442\", \"zerolinewidth\": 2}, \"yaxis\": {\"automargin\": true, \"gridcolor\": \"#283442\", \"linecolor\": \"#506784\", \"ticks\": \"\", \"title\": {\"standoff\": 15}, \"zerolinecolor\": \"#283442\", \"zerolinewidth\": 2}}}, \"title\": {\"text\": \"2018 Top-Bottom Analysis\"}, \"xaxis\": {\"anchor\": \"y\", \"domain\": [0.0, 1.0], \"title\": {\"text\": \"Happiness Score\"}}, \"yaxis\": {\"anchor\": \"x\", \"domain\": [0.0, 1.0], \"title\": {\"text\": \"Countries\"}}},                        {\"responsive\": true}                    ).then(function(){\n",
       "                            \n",
       "var gd = document.getElementById('4374513b-4c9a-46c6-9a8a-52ccd09beb2f');\n",
       "var x = new MutationObserver(function (mutations, observer) {{\n",
       "        var display = window.getComputedStyle(gd).display;\n",
       "        if (!display || display === 'none') {{\n",
       "            console.log([gd, 'removed!']);\n",
       "            Plotly.purge(gd);\n",
       "            observer.disconnect();\n",
       "        }}\n",
       "}});\n",
       "\n",
       "// Listen for the removal of the full notebook cells\n",
       "var notebookContainer = gd.closest('#notebook-container');\n",
       "if (notebookContainer) {{\n",
       "    x.observe(notebookContainer, {childList: true});\n",
       "}}\n",
       "\n",
       "// Listen for the clearing of the current output cell\n",
       "var outputEl = gd.closest('.output');\n",
       "if (outputEl) {{\n",
       "    x.observe(outputEl, {childList: true});\n",
       "}}\n",
       "\n",
       "                        })                };                });            </script>        </div>"
      ]
     },
     "metadata": {},
     "output_type": "display_data"
    },
    {
     "data": {
      "application/vnd.plotly.v1+json": {
       "config": {
        "plotlyServerURL": "https://plot.ly"
       },
       "data": [
        {
         "alignmentgroup": "True",
         "hovertemplate": "Contributing Factors=Economy_(GDP_per_Capita)<br>Happiness Score=%{x}<br>Countries=%{y}<extra></extra>",
         "legendgroup": "Economy_(GDP_per_Capita)",
         "marker": {
          "color": "rgb(166,206,227)"
         },
         "name": "Economy_(GDP_per_Capita)",
         "offsetgroup": "Economy_(GDP_per_Capita)",
         "orientation": "h",
         "showlegend": true,
         "textposition": "auto",
         "type": "bar",
         "x": [
          0.306,
          0.026,
          0.35,
          0.476,
          0.359,
          0.287,
          0.191,
          0.619,
          1.041,
          0.32299999999999995,
          1.376,
          1.365,
          1.3030000000000002,
          1.3869999999999998,
          1.452,
          1.396,
          1.38,
          1.4880000000000002,
          1.383,
          1.34
         ],
         "xaxis": "x",
         "y": [
          "South Sudan",
          "Central African Republic",
          "Afghanistan",
          "Tanzania",
          "Rwanda",
          "Yemen",
          "Malawi",
          "Syria",
          "Botswana",
          "Haiti",
          "Austria",
          "Canada",
          "New Zealand",
          "Sweden",
          "Switzerland",
          "Netherlands",
          "Iceland",
          "Norway",
          "Denmark",
          "Finland"
         ],
         "yaxis": "y"
        },
        {
         "alignmentgroup": "True",
         "hovertemplate": "Contributing Factors=Family<br>Happiness Score=%{x}<br>Countries=%{y}<extra></extra>",
         "legendgroup": "Family",
         "marker": {
          "color": "rgb(31,120,180)"
         },
         "name": "Family",
         "offsetgroup": "Family",
         "orientation": "h",
         "showlegend": true,
         "textposition": "auto",
         "type": "bar",
         "x": [
          0.575,
          0,
          0.517,
          0.885,
          0.711,
          1.163,
          0.56,
          0.378,
          1.145,
          0.688,
          1.475,
          1.505,
          1.557,
          1.487,
          1.526,
          1.5219999999999998,
          1.624,
          1.582,
          1.5730000000000002,
          1.587
         ],
         "xaxis": "x",
         "y": [
          "South Sudan",
          "Central African Republic",
          "Afghanistan",
          "Tanzania",
          "Rwanda",
          "Yemen",
          "Malawi",
          "Syria",
          "Botswana",
          "Haiti",
          "Austria",
          "Canada",
          "New Zealand",
          "Sweden",
          "Switzerland",
          "Netherlands",
          "Iceland",
          "Norway",
          "Denmark",
          "Finland"
         ],
         "yaxis": "y"
        },
        {
         "alignmentgroup": "True",
         "hovertemplate": "Contributing Factors=Health_(Life_Expectancy)<br>Happiness Score=%{x}<br>Countries=%{y}<extra></extra>",
         "legendgroup": "Health_(Life_Expectancy)",
         "marker": {
          "color": "rgb(178,223,138)"
         },
         "name": "Health_(Life_Expectancy)",
         "offsetgroup": "Health_(Life_Expectancy)",
         "orientation": "h",
         "showlegend": true,
         "textposition": "auto",
         "type": "bar",
         "x": [
          0.295,
          0.105,
          0.361,
          0.499,
          0.614,
          0.463,
          0.495,
          0.44,
          0.5379999999999999,
          0.449,
          1.016,
          1.039,
          1.026,
          1.009,
          1.052,
          0.999,
          1.026,
          1.028,
          0.996,
          0.986
         ],
         "xaxis": "x",
         "y": [
          "South Sudan",
          "Central African Republic",
          "Afghanistan",
          "Tanzania",
          "Rwanda",
          "Yemen",
          "Malawi",
          "Syria",
          "Botswana",
          "Haiti",
          "Austria",
          "Canada",
          "New Zealand",
          "Sweden",
          "Switzerland",
          "Netherlands",
          "Iceland",
          "Norway",
          "Denmark",
          "Finland"
         ],
         "yaxis": "y"
        },
        {
         "alignmentgroup": "True",
         "hovertemplate": "Contributing Factors=Freedom<br>Happiness Score=%{x}<br>Countries=%{y}<extra></extra>",
         "legendgroup": "Freedom",
         "marker": {
          "color": "rgb(51,160,44)"
         },
         "name": "Freedom",
         "offsetgroup": "Freedom",
         "orientation": "h",
         "showlegend": true,
         "textposition": "auto",
         "type": "bar",
         "x": [
          0.01,
          0.225,
          0,
          0.417,
          0.555,
          0.14300000000000002,
          0.443,
          0.013,
          0.455,
          0.026,
          0.532,
          0.584,
          0.585,
          0.574,
          0.5720000000000001,
          0.557,
          0.591,
          0.603,
          0.5920000000000001,
          0.596
         ],
         "xaxis": "x",
         "y": [
          "South Sudan",
          "Central African Republic",
          "Afghanistan",
          "Tanzania",
          "Rwanda",
          "Yemen",
          "Malawi",
          "Syria",
          "Botswana",
          "Haiti",
          "Austria",
          "Canada",
          "New Zealand",
          "Sweden",
          "Switzerland",
          "Netherlands",
          "Iceland",
          "Norway",
          "Denmark",
          "Finland"
         ],
         "yaxis": "y"
        },
        {
         "alignmentgroup": "True",
         "hovertemplate": "Contributing Factors=Trust_(Government_Corruption)<br>Happiness Score=%{x}<br>Countries=%{y}<extra></extra>",
         "legendgroup": "Trust_(Government_Corruption)",
         "marker": {
          "color": "rgb(251,154,153)"
         },
         "name": "Trust_(Government_Corruption)",
         "offsetgroup": "Trust_(Government_Corruption)",
         "orientation": "h",
         "showlegend": true,
         "textposition": "auto",
         "type": "bar",
         "x": [
          0.091,
          0.035,
          0.025,
          0.147,
          0.411,
          0.077,
          0.08900000000000001,
          0.141,
          0.1,
          0.11,
          0.226,
          0.308,
          0.38,
          0.373,
          0.343,
          0.298,
          0.118,
          0.341,
          0.41,
          0.393
         ],
         "xaxis": "x",
         "y": [
          "South Sudan",
          "Central African Republic",
          "Afghanistan",
          "Tanzania",
          "Rwanda",
          "Yemen",
          "Malawi",
          "Syria",
          "Botswana",
          "Haiti",
          "Austria",
          "Canada",
          "New Zealand",
          "Sweden",
          "Switzerland",
          "Netherlands",
          "Iceland",
          "Norway",
          "Denmark",
          "Finland"
         ],
         "yaxis": "y"
        },
        {
         "alignmentgroup": "True",
         "hovertemplate": "Contributing Factors=Generosity<br>Happiness Score=%{x}<br>Countries=%{y}<extra></extra>",
         "legendgroup": "Generosity",
         "marker": {
          "color": "rgb(227,26,28)"
         },
         "name": "Generosity",
         "offsetgroup": "Generosity",
         "orientation": "h",
         "showlegend": true,
         "textposition": "auto",
         "type": "bar",
         "x": [
          0.202,
          0.235,
          0.158,
          0.276,
          0.217,
          0.108,
          0.218,
          0.331,
          0.025,
          0.419,
          0.244,
          0.285,
          0.33,
          0.267,
          0.263,
          0.322,
          0.354,
          0.271,
          0.252,
          0.153
         ],
         "xaxis": "x",
         "y": [
          "South Sudan",
          "Central African Republic",
          "Afghanistan",
          "Tanzania",
          "Rwanda",
          "Yemen",
          "Malawi",
          "Syria",
          "Botswana",
          "Haiti",
          "Austria",
          "Canada",
          "New Zealand",
          "Sweden",
          "Switzerland",
          "Netherlands",
          "Iceland",
          "Norway",
          "Denmark",
          "Finland"
         ],
         "yaxis": "y"
        },
        {
         "alignmentgroup": "True",
         "hovertemplate": "Contributing Factors=Dystopia_Residual<br>Happiness Score=%{x}<br>Countries=%{y}<extra></extra>",
         "legendgroup": "Dystopia_Residual",
         "marker": {
          "color": "rgb(253,191,111)"
         },
         "name": "Dystopia_Residual",
         "offsetgroup": "Dystopia_Residual",
         "orientation": "h",
         "showlegend": true,
         "textposition": "auto",
         "type": "bar",
         "x": [
          1.3740000000000003,
          2.4570000000000003,
          1.7920000000000005,
          0.5310000000000006,
          0.4669999999999997,
          1.1389999999999998,
          1.414,
          1.54,
          0.18400000000000016,
          1.582,
          2.3770000000000007,
          2.1919999999999997,
          2.1260000000000003,
          2.246,
          2.2720000000000007,
          2.3939999999999992,
          2.400999999999999,
          2.2409999999999988,
          2.3939999999999992,
          2.7140000000000004
         ],
         "xaxis": "x",
         "y": [
          "South Sudan",
          "Central African Republic",
          "Afghanistan",
          "Tanzania",
          "Rwanda",
          "Yemen",
          "Malawi",
          "Syria",
          "Botswana",
          "Haiti",
          "Austria",
          "Canada",
          "New Zealand",
          "Sweden",
          "Switzerland",
          "Netherlands",
          "Iceland",
          "Norway",
          "Denmark",
          "Finland"
         ],
         "yaxis": "y"
        }
       ],
       "layout": {
        "barmode": "stack",
        "legend": {
         "title": {
          "text": "Contributing Factors"
         },
         "tracegroupgap": 0
        },
        "template": {
         "data": {
          "bar": [
           {
            "error_x": {
             "color": "#f2f5fa"
            },
            "error_y": {
             "color": "#f2f5fa"
            },
            "marker": {
             "line": {
              "color": "rgb(17,17,17)",
              "width": 0.5
             }
            },
            "type": "bar"
           }
          ],
          "barpolar": [
           {
            "marker": {
             "line": {
              "color": "rgb(17,17,17)",
              "width": 0.5
             }
            },
            "type": "barpolar"
           }
          ],
          "carpet": [
           {
            "aaxis": {
             "endlinecolor": "#A2B1C6",
             "gridcolor": "#506784",
             "linecolor": "#506784",
             "minorgridcolor": "#506784",
             "startlinecolor": "#A2B1C6"
            },
            "baxis": {
             "endlinecolor": "#A2B1C6",
             "gridcolor": "#506784",
             "linecolor": "#506784",
             "minorgridcolor": "#506784",
             "startlinecolor": "#A2B1C6"
            },
            "type": "carpet"
           }
          ],
          "choropleth": [
           {
            "colorbar": {
             "outlinewidth": 0,
             "ticks": ""
            },
            "type": "choropleth"
           }
          ],
          "contour": [
           {
            "colorbar": {
             "outlinewidth": 0,
             "ticks": ""
            },
            "colorscale": [
             [
              0,
              "#0d0887"
             ],
             [
              0.1111111111111111,
              "#46039f"
             ],
             [
              0.2222222222222222,
              "#7201a8"
             ],
             [
              0.3333333333333333,
              "#9c179e"
             ],
             [
              0.4444444444444444,
              "#bd3786"
             ],
             [
              0.5555555555555556,
              "#d8576b"
             ],
             [
              0.6666666666666666,
              "#ed7953"
             ],
             [
              0.7777777777777778,
              "#fb9f3a"
             ],
             [
              0.8888888888888888,
              "#fdca26"
             ],
             [
              1,
              "#f0f921"
             ]
            ],
            "type": "contour"
           }
          ],
          "contourcarpet": [
           {
            "colorbar": {
             "outlinewidth": 0,
             "ticks": ""
            },
            "type": "contourcarpet"
           }
          ],
          "heatmap": [
           {
            "colorbar": {
             "outlinewidth": 0,
             "ticks": ""
            },
            "colorscale": [
             [
              0,
              "#0d0887"
             ],
             [
              0.1111111111111111,
              "#46039f"
             ],
             [
              0.2222222222222222,
              "#7201a8"
             ],
             [
              0.3333333333333333,
              "#9c179e"
             ],
             [
              0.4444444444444444,
              "#bd3786"
             ],
             [
              0.5555555555555556,
              "#d8576b"
             ],
             [
              0.6666666666666666,
              "#ed7953"
             ],
             [
              0.7777777777777778,
              "#fb9f3a"
             ],
             [
              0.8888888888888888,
              "#fdca26"
             ],
             [
              1,
              "#f0f921"
             ]
            ],
            "type": "heatmap"
           }
          ],
          "heatmapgl": [
           {
            "colorbar": {
             "outlinewidth": 0,
             "ticks": ""
            },
            "colorscale": [
             [
              0,
              "#0d0887"
             ],
             [
              0.1111111111111111,
              "#46039f"
             ],
             [
              0.2222222222222222,
              "#7201a8"
             ],
             [
              0.3333333333333333,
              "#9c179e"
             ],
             [
              0.4444444444444444,
              "#bd3786"
             ],
             [
              0.5555555555555556,
              "#d8576b"
             ],
             [
              0.6666666666666666,
              "#ed7953"
             ],
             [
              0.7777777777777778,
              "#fb9f3a"
             ],
             [
              0.8888888888888888,
              "#fdca26"
             ],
             [
              1,
              "#f0f921"
             ]
            ],
            "type": "heatmapgl"
           }
          ],
          "histogram": [
           {
            "marker": {
             "colorbar": {
              "outlinewidth": 0,
              "ticks": ""
             }
            },
            "type": "histogram"
           }
          ],
          "histogram2d": [
           {
            "colorbar": {
             "outlinewidth": 0,
             "ticks": ""
            },
            "colorscale": [
             [
              0,
              "#0d0887"
             ],
             [
              0.1111111111111111,
              "#46039f"
             ],
             [
              0.2222222222222222,
              "#7201a8"
             ],
             [
              0.3333333333333333,
              "#9c179e"
             ],
             [
              0.4444444444444444,
              "#bd3786"
             ],
             [
              0.5555555555555556,
              "#d8576b"
             ],
             [
              0.6666666666666666,
              "#ed7953"
             ],
             [
              0.7777777777777778,
              "#fb9f3a"
             ],
             [
              0.8888888888888888,
              "#fdca26"
             ],
             [
              1,
              "#f0f921"
             ]
            ],
            "type": "histogram2d"
           }
          ],
          "histogram2dcontour": [
           {
            "colorbar": {
             "outlinewidth": 0,
             "ticks": ""
            },
            "colorscale": [
             [
              0,
              "#0d0887"
             ],
             [
              0.1111111111111111,
              "#46039f"
             ],
             [
              0.2222222222222222,
              "#7201a8"
             ],
             [
              0.3333333333333333,
              "#9c179e"
             ],
             [
              0.4444444444444444,
              "#bd3786"
             ],
             [
              0.5555555555555556,
              "#d8576b"
             ],
             [
              0.6666666666666666,
              "#ed7953"
             ],
             [
              0.7777777777777778,
              "#fb9f3a"
             ],
             [
              0.8888888888888888,
              "#fdca26"
             ],
             [
              1,
              "#f0f921"
             ]
            ],
            "type": "histogram2dcontour"
           }
          ],
          "mesh3d": [
           {
            "colorbar": {
             "outlinewidth": 0,
             "ticks": ""
            },
            "type": "mesh3d"
           }
          ],
          "parcoords": [
           {
            "line": {
             "colorbar": {
              "outlinewidth": 0,
              "ticks": ""
             }
            },
            "type": "parcoords"
           }
          ],
          "pie": [
           {
            "automargin": true,
            "type": "pie"
           }
          ],
          "scatter": [
           {
            "marker": {
             "line": {
              "color": "#283442"
             }
            },
            "type": "scatter"
           }
          ],
          "scatter3d": [
           {
            "line": {
             "colorbar": {
              "outlinewidth": 0,
              "ticks": ""
             }
            },
            "marker": {
             "colorbar": {
              "outlinewidth": 0,
              "ticks": ""
             }
            },
            "type": "scatter3d"
           }
          ],
          "scattercarpet": [
           {
            "marker": {
             "colorbar": {
              "outlinewidth": 0,
              "ticks": ""
             }
            },
            "type": "scattercarpet"
           }
          ],
          "scattergeo": [
           {
            "marker": {
             "colorbar": {
              "outlinewidth": 0,
              "ticks": ""
             }
            },
            "type": "scattergeo"
           }
          ],
          "scattergl": [
           {
            "marker": {
             "line": {
              "color": "#283442"
             }
            },
            "type": "scattergl"
           }
          ],
          "scattermapbox": [
           {
            "marker": {
             "colorbar": {
              "outlinewidth": 0,
              "ticks": ""
             }
            },
            "type": "scattermapbox"
           }
          ],
          "scatterpolar": [
           {
            "marker": {
             "colorbar": {
              "outlinewidth": 0,
              "ticks": ""
             }
            },
            "type": "scatterpolar"
           }
          ],
          "scatterpolargl": [
           {
            "marker": {
             "colorbar": {
              "outlinewidth": 0,
              "ticks": ""
             }
            },
            "type": "scatterpolargl"
           }
          ],
          "scatterternary": [
           {
            "marker": {
             "colorbar": {
              "outlinewidth": 0,
              "ticks": ""
             }
            },
            "type": "scatterternary"
           }
          ],
          "surface": [
           {
            "colorbar": {
             "outlinewidth": 0,
             "ticks": ""
            },
            "colorscale": [
             [
              0,
              "#0d0887"
             ],
             [
              0.1111111111111111,
              "#46039f"
             ],
             [
              0.2222222222222222,
              "#7201a8"
             ],
             [
              0.3333333333333333,
              "#9c179e"
             ],
             [
              0.4444444444444444,
              "#bd3786"
             ],
             [
              0.5555555555555556,
              "#d8576b"
             ],
             [
              0.6666666666666666,
              "#ed7953"
             ],
             [
              0.7777777777777778,
              "#fb9f3a"
             ],
             [
              0.8888888888888888,
              "#fdca26"
             ],
             [
              1,
              "#f0f921"
             ]
            ],
            "type": "surface"
           }
          ],
          "table": [
           {
            "cells": {
             "fill": {
              "color": "#506784"
             },
             "line": {
              "color": "rgb(17,17,17)"
             }
            },
            "header": {
             "fill": {
              "color": "#2a3f5f"
             },
             "line": {
              "color": "rgb(17,17,17)"
             }
            },
            "type": "table"
           }
          ]
         },
         "layout": {
          "annotationdefaults": {
           "arrowcolor": "#f2f5fa",
           "arrowhead": 0,
           "arrowwidth": 1
          },
          "coloraxis": {
           "colorbar": {
            "outlinewidth": 0,
            "ticks": ""
           }
          },
          "colorscale": {
           "diverging": [
            [
             0,
             "#8e0152"
            ],
            [
             0.1,
             "#c51b7d"
            ],
            [
             0.2,
             "#de77ae"
            ],
            [
             0.3,
             "#f1b6da"
            ],
            [
             0.4,
             "#fde0ef"
            ],
            [
             0.5,
             "#f7f7f7"
            ],
            [
             0.6,
             "#e6f5d0"
            ],
            [
             0.7,
             "#b8e186"
            ],
            [
             0.8,
             "#7fbc41"
            ],
            [
             0.9,
             "#4d9221"
            ],
            [
             1,
             "#276419"
            ]
           ],
           "sequential": [
            [
             0,
             "#0d0887"
            ],
            [
             0.1111111111111111,
             "#46039f"
            ],
            [
             0.2222222222222222,
             "#7201a8"
            ],
            [
             0.3333333333333333,
             "#9c179e"
            ],
            [
             0.4444444444444444,
             "#bd3786"
            ],
            [
             0.5555555555555556,
             "#d8576b"
            ],
            [
             0.6666666666666666,
             "#ed7953"
            ],
            [
             0.7777777777777778,
             "#fb9f3a"
            ],
            [
             0.8888888888888888,
             "#fdca26"
            ],
            [
             1,
             "#f0f921"
            ]
           ],
           "sequentialminus": [
            [
             0,
             "#0d0887"
            ],
            [
             0.1111111111111111,
             "#46039f"
            ],
            [
             0.2222222222222222,
             "#7201a8"
            ],
            [
             0.3333333333333333,
             "#9c179e"
            ],
            [
             0.4444444444444444,
             "#bd3786"
            ],
            [
             0.5555555555555556,
             "#d8576b"
            ],
            [
             0.6666666666666666,
             "#ed7953"
            ],
            [
             0.7777777777777778,
             "#fb9f3a"
            ],
            [
             0.8888888888888888,
             "#fdca26"
            ],
            [
             1,
             "#f0f921"
            ]
           ]
          },
          "colorway": [
           "#636efa",
           "#EF553B",
           "#00cc96",
           "#ab63fa",
           "#FFA15A",
           "#19d3f3",
           "#FF6692",
           "#B6E880",
           "#FF97FF",
           "#FECB52"
          ],
          "font": {
           "color": "#f2f5fa"
          },
          "geo": {
           "bgcolor": "rgb(17,17,17)",
           "lakecolor": "rgb(17,17,17)",
           "landcolor": "rgb(17,17,17)",
           "showlakes": true,
           "showland": true,
           "subunitcolor": "#506784"
          },
          "hoverlabel": {
           "align": "left"
          },
          "hovermode": "closest",
          "mapbox": {
           "style": "dark"
          },
          "paper_bgcolor": "rgb(17,17,17)",
          "plot_bgcolor": "rgb(17,17,17)",
          "polar": {
           "angularaxis": {
            "gridcolor": "#506784",
            "linecolor": "#506784",
            "ticks": ""
           },
           "bgcolor": "rgb(17,17,17)",
           "radialaxis": {
            "gridcolor": "#506784",
            "linecolor": "#506784",
            "ticks": ""
           }
          },
          "scene": {
           "xaxis": {
            "backgroundcolor": "rgb(17,17,17)",
            "gridcolor": "#506784",
            "gridwidth": 2,
            "linecolor": "#506784",
            "showbackground": true,
            "ticks": "",
            "zerolinecolor": "#C8D4E3"
           },
           "yaxis": {
            "backgroundcolor": "rgb(17,17,17)",
            "gridcolor": "#506784",
            "gridwidth": 2,
            "linecolor": "#506784",
            "showbackground": true,
            "ticks": "",
            "zerolinecolor": "#C8D4E3"
           },
           "zaxis": {
            "backgroundcolor": "rgb(17,17,17)",
            "gridcolor": "#506784",
            "gridwidth": 2,
            "linecolor": "#506784",
            "showbackground": true,
            "ticks": "",
            "zerolinecolor": "#C8D4E3"
           }
          },
          "shapedefaults": {
           "line": {
            "color": "#f2f5fa"
           }
          },
          "sliderdefaults": {
           "bgcolor": "#C8D4E3",
           "bordercolor": "rgb(17,17,17)",
           "borderwidth": 1,
           "tickwidth": 0
          },
          "ternary": {
           "aaxis": {
            "gridcolor": "#506784",
            "linecolor": "#506784",
            "ticks": ""
           },
           "baxis": {
            "gridcolor": "#506784",
            "linecolor": "#506784",
            "ticks": ""
           },
           "bgcolor": "rgb(17,17,17)",
           "caxis": {
            "gridcolor": "#506784",
            "linecolor": "#506784",
            "ticks": ""
           }
          },
          "title": {
           "x": 0.05
          },
          "updatemenudefaults": {
           "bgcolor": "#506784",
           "borderwidth": 0
          },
          "xaxis": {
           "automargin": true,
           "gridcolor": "#283442",
           "linecolor": "#506784",
           "ticks": "",
           "title": {
            "standoff": 15
           },
           "zerolinecolor": "#283442",
           "zerolinewidth": 2
          },
          "yaxis": {
           "automargin": true,
           "gridcolor": "#283442",
           "linecolor": "#506784",
           "ticks": "",
           "title": {
            "standoff": 15
           },
           "zerolinecolor": "#283442",
           "zerolinewidth": 2
          }
         }
        },
        "title": {
         "text": "2019 Top-Bottom Analysis"
        },
        "xaxis": {
         "anchor": "y",
         "domain": [
          0,
          1
         ],
         "title": {
          "text": "Happiness Score"
         }
        },
        "yaxis": {
         "anchor": "x",
         "domain": [
          0,
          1
         ],
         "title": {
          "text": "Countries"
         }
        }
       }
      },
      "text/html": [
       "<div>                            <div id=\"8ec3f416-9132-4fe6-b141-b35add148159\" class=\"plotly-graph-div\" style=\"height:525px; width:100%;\"></div>            <script type=\"text/javascript\">                require([\"plotly\"], function(Plotly) {                    window.PLOTLYENV=window.PLOTLYENV || {};                                    if (document.getElementById(\"8ec3f416-9132-4fe6-b141-b35add148159\")) {                    Plotly.newPlot(                        \"8ec3f416-9132-4fe6-b141-b35add148159\",                        [{\"alignmentgroup\": \"True\", \"hovertemplate\": \"Contributing Factors=Economy_(GDP_per_Capita)<br>Happiness Score=%{x}<br>Countries=%{y}<extra></extra>\", \"legendgroup\": \"Economy_(GDP_per_Capita)\", \"marker\": {\"color\": \"rgb(166,206,227)\"}, \"name\": \"Economy_(GDP_per_Capita)\", \"offsetgroup\": \"Economy_(GDP_per_Capita)\", \"orientation\": \"h\", \"showlegend\": true, \"textposition\": \"auto\", \"type\": \"bar\", \"x\": [0.306, 0.026, 0.35, 0.476, 0.359, 0.287, 0.191, 0.619, 1.041, 0.32299999999999995, 1.376, 1.365, 1.3030000000000002, 1.3869999999999998, 1.452, 1.396, 1.38, 1.4880000000000002, 1.383, 1.34], \"xaxis\": \"x\", \"y\": [\"South Sudan\", \"Central African Republic\", \"Afghanistan\", \"Tanzania\", \"Rwanda\", \"Yemen\", \"Malawi\", \"Syria\", \"Botswana\", \"Haiti\", \"Austria\", \"Canada\", \"New Zealand\", \"Sweden\", \"Switzerland\", \"Netherlands\", \"Iceland\", \"Norway\", \"Denmark\", \"Finland\"], \"yaxis\": \"y\"}, {\"alignmentgroup\": \"True\", \"hovertemplate\": \"Contributing Factors=Family<br>Happiness Score=%{x}<br>Countries=%{y}<extra></extra>\", \"legendgroup\": \"Family\", \"marker\": {\"color\": \"rgb(31,120,180)\"}, \"name\": \"Family\", \"offsetgroup\": \"Family\", \"orientation\": \"h\", \"showlegend\": true, \"textposition\": \"auto\", \"type\": \"bar\", \"x\": [0.575, 0.0, 0.517, 0.885, 0.711, 1.163, 0.56, 0.378, 1.145, 0.688, 1.475, 1.505, 1.557, 1.487, 1.526, 1.5219999999999998, 1.624, 1.582, 1.5730000000000002, 1.587], \"xaxis\": \"x\", \"y\": [\"South Sudan\", \"Central African Republic\", \"Afghanistan\", \"Tanzania\", \"Rwanda\", \"Yemen\", \"Malawi\", \"Syria\", \"Botswana\", \"Haiti\", \"Austria\", \"Canada\", \"New Zealand\", \"Sweden\", \"Switzerland\", \"Netherlands\", \"Iceland\", \"Norway\", \"Denmark\", \"Finland\"], \"yaxis\": \"y\"}, {\"alignmentgroup\": \"True\", \"hovertemplate\": \"Contributing Factors=Health_(Life_Expectancy)<br>Happiness Score=%{x}<br>Countries=%{y}<extra></extra>\", \"legendgroup\": \"Health_(Life_Expectancy)\", \"marker\": {\"color\": \"rgb(178,223,138)\"}, \"name\": \"Health_(Life_Expectancy)\", \"offsetgroup\": \"Health_(Life_Expectancy)\", \"orientation\": \"h\", \"showlegend\": true, \"textposition\": \"auto\", \"type\": \"bar\", \"x\": [0.295, 0.105, 0.361, 0.499, 0.614, 0.463, 0.495, 0.44, 0.5379999999999999, 0.449, 1.016, 1.039, 1.026, 1.009, 1.052, 0.999, 1.026, 1.028, 0.996, 0.986], \"xaxis\": \"x\", \"y\": [\"South Sudan\", \"Central African Republic\", \"Afghanistan\", \"Tanzania\", \"Rwanda\", \"Yemen\", \"Malawi\", \"Syria\", \"Botswana\", \"Haiti\", \"Austria\", \"Canada\", \"New Zealand\", \"Sweden\", \"Switzerland\", \"Netherlands\", \"Iceland\", \"Norway\", \"Denmark\", \"Finland\"], \"yaxis\": \"y\"}, {\"alignmentgroup\": \"True\", \"hovertemplate\": \"Contributing Factors=Freedom<br>Happiness Score=%{x}<br>Countries=%{y}<extra></extra>\", \"legendgroup\": \"Freedom\", \"marker\": {\"color\": \"rgb(51,160,44)\"}, \"name\": \"Freedom\", \"offsetgroup\": \"Freedom\", \"orientation\": \"h\", \"showlegend\": true, \"textposition\": \"auto\", \"type\": \"bar\", \"x\": [0.01, 0.225, 0.0, 0.417, 0.555, 0.14300000000000002, 0.443, 0.013, 0.455, 0.026, 0.532, 0.584, 0.585, 0.574, 0.5720000000000001, 0.557, 0.591, 0.603, 0.5920000000000001, 0.596], \"xaxis\": \"x\", \"y\": [\"South Sudan\", \"Central African Republic\", \"Afghanistan\", \"Tanzania\", \"Rwanda\", \"Yemen\", \"Malawi\", \"Syria\", \"Botswana\", \"Haiti\", \"Austria\", \"Canada\", \"New Zealand\", \"Sweden\", \"Switzerland\", \"Netherlands\", \"Iceland\", \"Norway\", \"Denmark\", \"Finland\"], \"yaxis\": \"y\"}, {\"alignmentgroup\": \"True\", \"hovertemplate\": \"Contributing Factors=Trust_(Government_Corruption)<br>Happiness Score=%{x}<br>Countries=%{y}<extra></extra>\", \"legendgroup\": \"Trust_(Government_Corruption)\", \"marker\": {\"color\": \"rgb(251,154,153)\"}, \"name\": \"Trust_(Government_Corruption)\", \"offsetgroup\": \"Trust_(Government_Corruption)\", \"orientation\": \"h\", \"showlegend\": true, \"textposition\": \"auto\", \"type\": \"bar\", \"x\": [0.091, 0.035, 0.025, 0.147, 0.411, 0.077, 0.08900000000000001, 0.141, 0.1, 0.11, 0.226, 0.308, 0.38, 0.373, 0.343, 0.298, 0.118, 0.341, 0.41, 0.393], \"xaxis\": \"x\", \"y\": [\"South Sudan\", \"Central African Republic\", \"Afghanistan\", \"Tanzania\", \"Rwanda\", \"Yemen\", \"Malawi\", \"Syria\", \"Botswana\", \"Haiti\", \"Austria\", \"Canada\", \"New Zealand\", \"Sweden\", \"Switzerland\", \"Netherlands\", \"Iceland\", \"Norway\", \"Denmark\", \"Finland\"], \"yaxis\": \"y\"}, {\"alignmentgroup\": \"True\", \"hovertemplate\": \"Contributing Factors=Generosity<br>Happiness Score=%{x}<br>Countries=%{y}<extra></extra>\", \"legendgroup\": \"Generosity\", \"marker\": {\"color\": \"rgb(227,26,28)\"}, \"name\": \"Generosity\", \"offsetgroup\": \"Generosity\", \"orientation\": \"h\", \"showlegend\": true, \"textposition\": \"auto\", \"type\": \"bar\", \"x\": [0.202, 0.235, 0.158, 0.276, 0.217, 0.108, 0.218, 0.331, 0.025, 0.419, 0.244, 0.285, 0.33, 0.267, 0.263, 0.322, 0.354, 0.271, 0.252, 0.153], \"xaxis\": \"x\", \"y\": [\"South Sudan\", \"Central African Republic\", \"Afghanistan\", \"Tanzania\", \"Rwanda\", \"Yemen\", \"Malawi\", \"Syria\", \"Botswana\", \"Haiti\", \"Austria\", \"Canada\", \"New Zealand\", \"Sweden\", \"Switzerland\", \"Netherlands\", \"Iceland\", \"Norway\", \"Denmark\", \"Finland\"], \"yaxis\": \"y\"}, {\"alignmentgroup\": \"True\", \"hovertemplate\": \"Contributing Factors=Dystopia_Residual<br>Happiness Score=%{x}<br>Countries=%{y}<extra></extra>\", \"legendgroup\": \"Dystopia_Residual\", \"marker\": {\"color\": \"rgb(253,191,111)\"}, \"name\": \"Dystopia_Residual\", \"offsetgroup\": \"Dystopia_Residual\", \"orientation\": \"h\", \"showlegend\": true, \"textposition\": \"auto\", \"type\": \"bar\", \"x\": [1.3740000000000003, 2.4570000000000003, 1.7920000000000005, 0.5310000000000006, 0.4669999999999997, 1.1389999999999998, 1.414, 1.54, 0.18400000000000016, 1.582, 2.3770000000000007, 2.1919999999999997, 2.1260000000000003, 2.246, 2.2720000000000007, 2.3939999999999992, 2.400999999999999, 2.2409999999999988, 2.3939999999999992, 2.7140000000000004], \"xaxis\": \"x\", \"y\": [\"South Sudan\", \"Central African Republic\", \"Afghanistan\", \"Tanzania\", \"Rwanda\", \"Yemen\", \"Malawi\", \"Syria\", \"Botswana\", \"Haiti\", \"Austria\", \"Canada\", \"New Zealand\", \"Sweden\", \"Switzerland\", \"Netherlands\", \"Iceland\", \"Norway\", \"Denmark\", \"Finland\"], \"yaxis\": \"y\"}],                        {\"barmode\": \"stack\", \"legend\": {\"title\": {\"text\": \"Contributing Factors\"}, \"tracegroupgap\": 0}, \"template\": {\"data\": {\"bar\": [{\"error_x\": {\"color\": \"#f2f5fa\"}, \"error_y\": {\"color\": \"#f2f5fa\"}, \"marker\": {\"line\": {\"color\": \"rgb(17,17,17)\", \"width\": 0.5}}, \"type\": \"bar\"}], \"barpolar\": [{\"marker\": {\"line\": {\"color\": \"rgb(17,17,17)\", \"width\": 0.5}}, \"type\": \"barpolar\"}], \"carpet\": [{\"aaxis\": {\"endlinecolor\": \"#A2B1C6\", \"gridcolor\": \"#506784\", \"linecolor\": \"#506784\", \"minorgridcolor\": \"#506784\", \"startlinecolor\": \"#A2B1C6\"}, \"baxis\": {\"endlinecolor\": \"#A2B1C6\", \"gridcolor\": \"#506784\", \"linecolor\": \"#506784\", \"minorgridcolor\": \"#506784\", \"startlinecolor\": \"#A2B1C6\"}, \"type\": \"carpet\"}], \"choropleth\": [{\"colorbar\": {\"outlinewidth\": 0, \"ticks\": \"\"}, \"type\": \"choropleth\"}], \"contour\": [{\"colorbar\": {\"outlinewidth\": 0, \"ticks\": \"\"}, \"colorscale\": [[0.0, \"#0d0887\"], [0.1111111111111111, \"#46039f\"], [0.2222222222222222, \"#7201a8\"], [0.3333333333333333, \"#9c179e\"], [0.4444444444444444, \"#bd3786\"], [0.5555555555555556, \"#d8576b\"], [0.6666666666666666, \"#ed7953\"], [0.7777777777777778, \"#fb9f3a\"], [0.8888888888888888, \"#fdca26\"], [1.0, \"#f0f921\"]], \"type\": \"contour\"}], \"contourcarpet\": [{\"colorbar\": {\"outlinewidth\": 0, \"ticks\": \"\"}, \"type\": \"contourcarpet\"}], \"heatmap\": [{\"colorbar\": {\"outlinewidth\": 0, \"ticks\": \"\"}, \"colorscale\": [[0.0, \"#0d0887\"], [0.1111111111111111, \"#46039f\"], [0.2222222222222222, \"#7201a8\"], [0.3333333333333333, \"#9c179e\"], [0.4444444444444444, \"#bd3786\"], [0.5555555555555556, \"#d8576b\"], [0.6666666666666666, \"#ed7953\"], [0.7777777777777778, \"#fb9f3a\"], [0.8888888888888888, \"#fdca26\"], [1.0, \"#f0f921\"]], \"type\": \"heatmap\"}], \"heatmapgl\": [{\"colorbar\": {\"outlinewidth\": 0, \"ticks\": \"\"}, \"colorscale\": [[0.0, \"#0d0887\"], [0.1111111111111111, \"#46039f\"], [0.2222222222222222, \"#7201a8\"], [0.3333333333333333, \"#9c179e\"], [0.4444444444444444, \"#bd3786\"], [0.5555555555555556, \"#d8576b\"], [0.6666666666666666, \"#ed7953\"], [0.7777777777777778, \"#fb9f3a\"], [0.8888888888888888, \"#fdca26\"], [1.0, \"#f0f921\"]], \"type\": \"heatmapgl\"}], \"histogram\": [{\"marker\": {\"colorbar\": {\"outlinewidth\": 0, \"ticks\": \"\"}}, \"type\": \"histogram\"}], \"histogram2d\": [{\"colorbar\": {\"outlinewidth\": 0, \"ticks\": \"\"}, \"colorscale\": [[0.0, \"#0d0887\"], [0.1111111111111111, \"#46039f\"], [0.2222222222222222, \"#7201a8\"], [0.3333333333333333, \"#9c179e\"], [0.4444444444444444, \"#bd3786\"], [0.5555555555555556, \"#d8576b\"], [0.6666666666666666, \"#ed7953\"], [0.7777777777777778, \"#fb9f3a\"], [0.8888888888888888, \"#fdca26\"], [1.0, \"#f0f921\"]], \"type\": \"histogram2d\"}], \"histogram2dcontour\": [{\"colorbar\": {\"outlinewidth\": 0, \"ticks\": \"\"}, \"colorscale\": [[0.0, \"#0d0887\"], [0.1111111111111111, \"#46039f\"], [0.2222222222222222, \"#7201a8\"], [0.3333333333333333, \"#9c179e\"], [0.4444444444444444, \"#bd3786\"], [0.5555555555555556, \"#d8576b\"], [0.6666666666666666, \"#ed7953\"], [0.7777777777777778, \"#fb9f3a\"], [0.8888888888888888, \"#fdca26\"], [1.0, \"#f0f921\"]], \"type\": \"histogram2dcontour\"}], \"mesh3d\": [{\"colorbar\": {\"outlinewidth\": 0, \"ticks\": \"\"}, \"type\": \"mesh3d\"}], \"parcoords\": [{\"line\": {\"colorbar\": {\"outlinewidth\": 0, \"ticks\": \"\"}}, \"type\": \"parcoords\"}], \"pie\": [{\"automargin\": true, \"type\": \"pie\"}], \"scatter\": [{\"marker\": {\"line\": {\"color\": \"#283442\"}}, \"type\": \"scatter\"}], \"scatter3d\": [{\"line\": {\"colorbar\": {\"outlinewidth\": 0, \"ticks\": \"\"}}, \"marker\": {\"colorbar\": {\"outlinewidth\": 0, \"ticks\": \"\"}}, \"type\": \"scatter3d\"}], \"scattercarpet\": [{\"marker\": {\"colorbar\": {\"outlinewidth\": 0, \"ticks\": \"\"}}, \"type\": \"scattercarpet\"}], \"scattergeo\": [{\"marker\": {\"colorbar\": {\"outlinewidth\": 0, \"ticks\": \"\"}}, \"type\": \"scattergeo\"}], \"scattergl\": [{\"marker\": {\"line\": {\"color\": \"#283442\"}}, \"type\": \"scattergl\"}], \"scattermapbox\": [{\"marker\": {\"colorbar\": {\"outlinewidth\": 0, \"ticks\": \"\"}}, \"type\": \"scattermapbox\"}], \"scatterpolar\": [{\"marker\": {\"colorbar\": {\"outlinewidth\": 0, \"ticks\": \"\"}}, \"type\": \"scatterpolar\"}], \"scatterpolargl\": [{\"marker\": {\"colorbar\": {\"outlinewidth\": 0, \"ticks\": \"\"}}, \"type\": \"scatterpolargl\"}], \"scatterternary\": [{\"marker\": {\"colorbar\": {\"outlinewidth\": 0, \"ticks\": \"\"}}, \"type\": \"scatterternary\"}], \"surface\": [{\"colorbar\": {\"outlinewidth\": 0, \"ticks\": \"\"}, \"colorscale\": [[0.0, \"#0d0887\"], [0.1111111111111111, \"#46039f\"], [0.2222222222222222, \"#7201a8\"], [0.3333333333333333, \"#9c179e\"], [0.4444444444444444, \"#bd3786\"], [0.5555555555555556, \"#d8576b\"], [0.6666666666666666, \"#ed7953\"], [0.7777777777777778, \"#fb9f3a\"], [0.8888888888888888, \"#fdca26\"], [1.0, \"#f0f921\"]], \"type\": \"surface\"}], \"table\": [{\"cells\": {\"fill\": {\"color\": \"#506784\"}, \"line\": {\"color\": \"rgb(17,17,17)\"}}, \"header\": {\"fill\": {\"color\": \"#2a3f5f\"}, \"line\": {\"color\": \"rgb(17,17,17)\"}}, \"type\": \"table\"}]}, \"layout\": {\"annotationdefaults\": {\"arrowcolor\": \"#f2f5fa\", \"arrowhead\": 0, \"arrowwidth\": 1}, \"coloraxis\": {\"colorbar\": {\"outlinewidth\": 0, \"ticks\": \"\"}}, \"colorscale\": {\"diverging\": [[0, \"#8e0152\"], [0.1, \"#c51b7d\"], [0.2, \"#de77ae\"], [0.3, \"#f1b6da\"], [0.4, \"#fde0ef\"], [0.5, \"#f7f7f7\"], [0.6, \"#e6f5d0\"], [0.7, \"#b8e186\"], [0.8, \"#7fbc41\"], [0.9, \"#4d9221\"], [1, \"#276419\"]], \"sequential\": [[0.0, \"#0d0887\"], [0.1111111111111111, \"#46039f\"], [0.2222222222222222, \"#7201a8\"], [0.3333333333333333, \"#9c179e\"], [0.4444444444444444, \"#bd3786\"], [0.5555555555555556, \"#d8576b\"], [0.6666666666666666, \"#ed7953\"], [0.7777777777777778, \"#fb9f3a\"], [0.8888888888888888, \"#fdca26\"], [1.0, \"#f0f921\"]], \"sequentialminus\": [[0.0, \"#0d0887\"], [0.1111111111111111, \"#46039f\"], [0.2222222222222222, \"#7201a8\"], [0.3333333333333333, \"#9c179e\"], [0.4444444444444444, \"#bd3786\"], [0.5555555555555556, \"#d8576b\"], [0.6666666666666666, \"#ed7953\"], [0.7777777777777778, \"#fb9f3a\"], [0.8888888888888888, \"#fdca26\"], [1.0, \"#f0f921\"]]}, \"colorway\": [\"#636efa\", \"#EF553B\", \"#00cc96\", \"#ab63fa\", \"#FFA15A\", \"#19d3f3\", \"#FF6692\", \"#B6E880\", \"#FF97FF\", \"#FECB52\"], \"font\": {\"color\": \"#f2f5fa\"}, \"geo\": {\"bgcolor\": \"rgb(17,17,17)\", \"lakecolor\": \"rgb(17,17,17)\", \"landcolor\": \"rgb(17,17,17)\", \"showlakes\": true, \"showland\": true, \"subunitcolor\": \"#506784\"}, \"hoverlabel\": {\"align\": \"left\"}, \"hovermode\": \"closest\", \"mapbox\": {\"style\": \"dark\"}, \"paper_bgcolor\": \"rgb(17,17,17)\", \"plot_bgcolor\": \"rgb(17,17,17)\", \"polar\": {\"angularaxis\": {\"gridcolor\": \"#506784\", \"linecolor\": \"#506784\", \"ticks\": \"\"}, \"bgcolor\": \"rgb(17,17,17)\", \"radialaxis\": {\"gridcolor\": \"#506784\", \"linecolor\": \"#506784\", \"ticks\": \"\"}}, \"scene\": {\"xaxis\": {\"backgroundcolor\": \"rgb(17,17,17)\", \"gridcolor\": \"#506784\", \"gridwidth\": 2, \"linecolor\": \"#506784\", \"showbackground\": true, \"ticks\": \"\", \"zerolinecolor\": \"#C8D4E3\"}, \"yaxis\": {\"backgroundcolor\": \"rgb(17,17,17)\", \"gridcolor\": \"#506784\", \"gridwidth\": 2, \"linecolor\": \"#506784\", \"showbackground\": true, \"ticks\": \"\", \"zerolinecolor\": \"#C8D4E3\"}, \"zaxis\": {\"backgroundcolor\": \"rgb(17,17,17)\", \"gridcolor\": \"#506784\", \"gridwidth\": 2, \"linecolor\": \"#506784\", \"showbackground\": true, \"ticks\": \"\", \"zerolinecolor\": \"#C8D4E3\"}}, \"shapedefaults\": {\"line\": {\"color\": \"#f2f5fa\"}}, \"sliderdefaults\": {\"bgcolor\": \"#C8D4E3\", \"bordercolor\": \"rgb(17,17,17)\", \"borderwidth\": 1, \"tickwidth\": 0}, \"ternary\": {\"aaxis\": {\"gridcolor\": \"#506784\", \"linecolor\": \"#506784\", \"ticks\": \"\"}, \"baxis\": {\"gridcolor\": \"#506784\", \"linecolor\": \"#506784\", \"ticks\": \"\"}, \"bgcolor\": \"rgb(17,17,17)\", \"caxis\": {\"gridcolor\": \"#506784\", \"linecolor\": \"#506784\", \"ticks\": \"\"}}, \"title\": {\"x\": 0.05}, \"updatemenudefaults\": {\"bgcolor\": \"#506784\", \"borderwidth\": 0}, \"xaxis\": {\"automargin\": true, \"gridcolor\": \"#283442\", \"linecolor\": \"#506784\", \"ticks\": \"\", \"title\": {\"standoff\": 15}, \"zerolinecolor\": \"#283442\", \"zerolinewidth\": 2}, \"yaxis\": {\"automargin\": true, \"gridcolor\": \"#283442\", \"linecolor\": \"#506784\", \"ticks\": \"\", \"title\": {\"standoff\": 15}, \"zerolinecolor\": \"#283442\", \"zerolinewidth\": 2}}}, \"title\": {\"text\": \"2019 Top-Bottom Analysis\"}, \"xaxis\": {\"anchor\": \"y\", \"domain\": [0.0, 1.0], \"title\": {\"text\": \"Happiness Score\"}}, \"yaxis\": {\"anchor\": \"x\", \"domain\": [0.0, 1.0], \"title\": {\"text\": \"Countries\"}}},                        {\"responsive\": true}                    ).then(function(){\n",
       "                            \n",
       "var gd = document.getElementById('8ec3f416-9132-4fe6-b141-b35add148159');\n",
       "var x = new MutationObserver(function (mutations, observer) {{\n",
       "        var display = window.getComputedStyle(gd).display;\n",
       "        if (!display || display === 'none') {{\n",
       "            console.log([gd, 'removed!']);\n",
       "            Plotly.purge(gd);\n",
       "            observer.disconnect();\n",
       "        }}\n",
       "}});\n",
       "\n",
       "// Listen for the removal of the full notebook cells\n",
       "var notebookContainer = gd.closest('#notebook-container');\n",
       "if (notebookContainer) {{\n",
       "    x.observe(notebookContainer, {childList: true});\n",
       "}}\n",
       "\n",
       "// Listen for the clearing of the current output cell\n",
       "var outputEl = gd.closest('.output');\n",
       "if (outputEl) {{\n",
       "    x.observe(outputEl, {childList: true});\n",
       "}}\n",
       "\n",
       "                        })                };                });            </script>        </div>"
      ]
     },
     "metadata": {},
     "output_type": "display_data"
    }
   ],
   "source": [
    "#Creating empty dictionioraing to hold top 10 and botton countries\n",
    "top_10 = {}\n",
    "bottom_10 = {}\n",
    "combined_10 = {}\n",
    "\n",
    "#using for loop to get the df for 5 years\n",
    "for year in years:\n",
    "        top_10[year] =df[year].set_index('Country')\n",
    "        #Using loc for columns having significant factor for happiness score\n",
    "        #Top 10 Countries\n",
    "        top_10[year] = df[year].loc[:,['Country','Economy_(GDP_per_Capita)','Family', 'Health_(Life_Expectancy)',\n",
    "       'Freedom', 'Trust_(Government_Corruption)', 'Generosity',\n",
    "       'Dystopia_Residual']].head(10)\n",
    "         #Using loc for columns having significant factor for happiness score\n",
    "        #bottom 10 Countries\n",
    "        bottom_10[year] = df[year].set_index('Country')\n",
    "        bottom_10[year] = df[year].loc[:,['Country','Economy_(GDP_per_Capita)','Family', 'Health_(Life_Expectancy)',\n",
    "       'Freedom', 'Trust_(Government_Corruption)', 'Generosity',\n",
    "       'Dystopia_Residual']].tail(10)\n",
    "        #combing to to and bottom to get in the same graphs\n",
    "        combined_10[year] = pd.concat([bottom_10[year][::-1],top_10[year][::-1]]).set_index('Country',drop=True)\n",
    "        fig =px.bar(combined_10[year], color_discrete_sequence = px.colors.colorbrewer.Paired,orientation='h',title= f'{year} Top-Bottom Analysis',barmode='stack', labels=dict(Country=\"Countries\", value=\"Happiness Score\", variable=\"Contributing Factors\"))\n",
    "        fig.show()\n"
   ]
  },
  {
   "cell_type": "markdown",
   "metadata": {},
   "source": [
    "# Correlational Heatmaps"
   ]
  },
  {
   "cell_type": "code",
   "execution_count": 77,
   "metadata": {
    "ExecuteTime": {
     "end_time": "2020-10-24T02:00:24.717508Z",
     "start_time": "2020-10-24T01:59:54.340604Z"
    },
    "scrolled": true
   },
   "outputs": [
    {
     "name": "stdout",
     "output_type": "stream",
     "text": [
      "Cor-relational heatmap - 2015\n"
     ]
    },
    {
     "data": {
      "text/plain": [
       "<Figure size 720x432 with 0 Axes>"
      ]
     },
     "metadata": {},
     "output_type": "display_data"
    },
    {
     "data": {
      "image/png": "[encoded data removed]",
      "text/plain": [
       "<Figure size 720x432 with 2 Axes>"
      ]
     },
     "metadata": {
      "needs_background": "light"
     },
     "output_type": "display_data"
    },
    {
     "name": "stdout",
     "output_type": "stream",
     "text": [
      "Cor-relational heatmap - 2016\n"
     ]
    },
    {
     "data": {
      "image/png": "[encoded data removed]",
      "text/plain": [
       "<Figure size 720x432 with 2 Axes>"
      ]
     },
     "metadata": {
      "needs_background": "light"
     },
     "output_type": "display_data"
    },
    {
     "name": "stdout",
     "output_type": "stream",
     "text": [
      "Cor-relational heatmap - 2017\n"
     ]
    },
    {
     "data": {
      "image/png": "[encoded data removed]",
      "text/plain": [
       "<Figure size 720x432 with 2 Axes>"
      ]
     },
     "metadata": {
      "needs_background": "light"
     },
     "output_type": "display_data"
    },
    {
     "name": "stdout",
     "output_type": "stream",
     "text": [
      "Cor-relational heatmap - 2018\n"
     ]
    },
    {
     "data": {
      "image/png": "[encoded data removed]",
      "text/plain": [
       "<Figure size 720x432 with 2 Axes>"
      ]
     },
     "metadata": {
      "needs_background": "light"
     },
     "output_type": "display_data"
    },
    {
     "name": "stdout",
     "output_type": "stream",
     "text": [
      "Cor-relational heatmap - 2019\n"
     ]
    },
    {
     "data": {
      "image/png": "[encoded data removed]",
      "text/plain": [
       "<Figure size 720x432 with 2 Axes>"
      ]
     },
     "metadata": {
      "needs_background": "light"
     },
     "output_type": "display_data"
    }
   ],
   "source": [
    "#deciding the size of graphs\n",
    "plt.figure(figsize=(10,6))\n",
    "heatmap_corr={}\n",
    "# Using for loops to map co-relations grpahs for 5 years\n",
    "for year in years:\n",
    "    heatmap_corr[year] = df[year]\n",
    "    fig = plt.figure(figsize=(10,6))\n",
    "    print(f\"Cor-relational heatmap - {year}\")\n",
    "    #Seaborn graphing using heatmap\n",
    "    sns.heatmap(heatmap_corr[year].corr(), annot=True)\n",
    "    plt.show()\n",
    "    \n",
    "\n",
    "    \n",
    "    "
   ]
  },
  {
   "cell_type": "markdown",
   "metadata": {},
   "source": [
    "### Spider Graphs"
   ]
  },
  {
   "cell_type": "code",
   "execution_count": 94,
   "metadata": {
    "ExecuteTime": {
     "end_time": "2020-10-24T03:21:03.399052Z",
     "start_time": "2020-10-24T03:21:03.279022Z"
    }
   },
   "outputs": [
    {
     "data": {
      "application/vnd.plotly.v1+json": {
       "config": {
        "plotlyServerURL": "https://plot.ly"
       },
       "data": [
        {
         "fill": "toself",
         "name": "Finland",
         "r": [
          1.34,
          1.587,
          0.986,
          0.596,
          0.393,
          0.153
         ],
         "theta": [
          "Economy_(GDP_per_Capita)",
          "Family",
          "Health_(Life_Expectancy)",
          "Freedom",
          "Trust_(Government_Corruption)",
          "Generosity"
         ],
         "type": "scatterpolar"
        },
        {
         "fill": "toself",
         "name": "Australia",
         "r": [
          1.372,
          1.548,
          1.036,
          0.557,
          0.29,
          0.332
         ],
         "theta": [
          "Economy_(GDP_per_Capita)",
          "Family",
          "Health_(Life_Expectancy)",
          "Freedom",
          "Trust_(Government_Corruption)",
          "Generosity"
         ],
         "type": "scatterpolar"
        }
       ],
       "layout": {
        "polar": {
         "radialaxis": {
          "range": [
           0,
           2
          ],
          "visible": true
         }
        },
        "showlegend": true,
        "template": {
         "data": {
          "bar": [
           {
            "error_x": {
             "color": "#f2f5fa"
            },
            "error_y": {
             "color": "#f2f5fa"
            },
            "marker": {
             "line": {
              "color": "rgb(17,17,17)",
              "width": 0.5
             }
            },
            "type": "bar"
           }
          ],
          "barpolar": [
           {
            "marker": {
             "line": {
              "color": "rgb(17,17,17)",
              "width": 0.5
             }
            },
            "type": "barpolar"
           }
          ],
          "carpet": [
           {
            "aaxis": {
             "endlinecolor": "#A2B1C6",
             "gridcolor": "#506784",
             "linecolor": "#506784",
             "minorgridcolor": "#506784",
             "startlinecolor": "#A2B1C6"
            },
            "baxis": {
             "endlinecolor": "#A2B1C6",
             "gridcolor": "#506784",
             "linecolor": "#506784",
             "minorgridcolor": "#506784",
             "startlinecolor": "#A2B1C6"
            },
            "type": "carpet"
           }
          ],
          "choropleth": [
           {
            "colorbar": {
             "outlinewidth": 0,
             "ticks": ""
            },
            "type": "choropleth"
           }
          ],
          "contour": [
           {
            "colorbar": {
             "outlinewidth": 0,
             "ticks": ""
            },
            "colorscale": [
             [
              0,
              "#0d0887"
             ],
             [
              0.1111111111111111,
              "#46039f"
             ],
             [
              0.2222222222222222,
              "#7201a8"
             ],
             [
              0.3333333333333333,
              "#9c179e"
             ],
             [
              0.4444444444444444,
              "#bd3786"
             ],
             [
              0.5555555555555556,
              "#d8576b"
             ],
             [
              0.6666666666666666,
              "#ed7953"
             ],
             [
              0.7777777777777778,
              "#fb9f3a"
             ],
             [
              0.8888888888888888,
              "#fdca26"
             ],
             [
              1,
              "#f0f921"
             ]
            ],
            "type": "contour"
           }
          ],
          "contourcarpet": [
           {
            "colorbar": {
             "outlinewidth": 0,
             "ticks": ""
            },
            "type": "contourcarpet"
           }
          ],
          "heatmap": [
           {
            "colorbar": {
             "outlinewidth": 0,
             "ticks": ""
            },
            "colorscale": [
             [
              0,
              "#0d0887"
             ],
             [
              0.1111111111111111,
              "#46039f"
             ],
             [
              0.2222222222222222,
              "#7201a8"
             ],
             [
              0.3333333333333333,
              "#9c179e"
             ],
             [
              0.4444444444444444,
              "#bd3786"
             ],
             [
              0.5555555555555556,
              "#d8576b"
             ],
             [
              0.6666666666666666,
              "#ed7953"
             ],
             [
              0.7777777777777778,
              "#fb9f3a"
             ],
             [
              0.8888888888888888,
              "#fdca26"
             ],
             [
              1,
              "#f0f921"
             ]
            ],
            "type": "heatmap"
           }
          ],
          "heatmapgl": [
           {
            "colorbar": {
             "outlinewidth": 0,
             "ticks": ""
            },
            "colorscale": [
             [
              0,
              "#0d0887"
             ],
             [
              0.1111111111111111,
              "#46039f"
             ],
             [
              0.2222222222222222,
              "#7201a8"
             ],
             [
              0.3333333333333333,
              "#9c179e"
             ],
             [
              0.4444444444444444,
              "#bd3786"
             ],
             [
              0.5555555555555556,
              "#d8576b"
             ],
             [
              0.6666666666666666,
              "#ed7953"
             ],
             [
              0.7777777777777778,
              "#fb9f3a"
             ],
             [
              0.8888888888888888,
              "#fdca26"
             ],
             [
              1,
              "#f0f921"
             ]
            ],
            "type": "heatmapgl"
           }
          ],
          "histogram": [
           {
            "marker": {
             "colorbar": {
              "outlinewidth": 0,
              "ticks": ""
             }
            },
            "type": "histogram"
           }
          ],
          "histogram2d": [
           {
            "colorbar": {
             "outlinewidth": 0,
             "ticks": ""
            },
            "colorscale": [
             [
              0,
              "#0d0887"
             ],
             [
              0.1111111111111111,
              "#46039f"
             ],
             [
              0.2222222222222222,
              "#7201a8"
             ],
             [
              0.3333333333333333,
              "#9c179e"
             ],
             [
              0.4444444444444444,
              "#bd3786"
             ],
             [
              0.5555555555555556,
              "#d8576b"
             ],
             [
              0.6666666666666666,
              "#ed7953"
             ],
             [
              0.7777777777777778,
              "#fb9f3a"
             ],
             [
              0.8888888888888888,
              "#fdca26"
             ],
             [
              1,
              "#f0f921"
             ]
            ],
            "type": "histogram2d"
           }
          ],
          "histogram2dcontour": [
           {
            "colorbar": {
             "outlinewidth": 0,
             "ticks": ""
            },
            "colorscale": [
             [
              0,
              "#0d0887"
             ],
             [
              0.1111111111111111,
              "#46039f"
             ],
             [
              0.2222222222222222,
              "#7201a8"
             ],
             [
              0.3333333333333333,
              "#9c179e"
             ],
             [
              0.4444444444444444,
              "#bd3786"
             ],
             [
              0.5555555555555556,
              "#d8576b"
             ],
             [
              0.6666666666666666,
              "#ed7953"
             ],
             [
              0.7777777777777778,
              "#fb9f3a"
             ],
             [
              0.8888888888888888,
              "#fdca26"
             ],
             [
              1,
              "#f0f921"
             ]
            ],
            "type": "histogram2dcontour"
           }
          ],
          "mesh3d": [
           {
            "colorbar": {
             "outlinewidth": 0,
             "ticks": ""
            },
            "type": "mesh3d"
           }
          ],
          "parcoords": [
           {
            "line": {
             "colorbar": {
              "outlinewidth": 0,
              "ticks": ""
             }
            },
            "type": "parcoords"
           }
          ],
          "pie": [
           {
            "automargin": true,
            "type": "pie"
           }
          ],
          "scatter": [
           {
            "marker": {
             "line": {
              "color": "#283442"
             }
            },
            "type": "scatter"
           }
          ],
          "scatter3d": [
           {
            "line": {
             "colorbar": {
              "outlinewidth": 0,
              "ticks": ""
             }
            },
            "marker": {
             "colorbar": {
              "outlinewidth": 0,
              "ticks": ""
             }
            },
            "type": "scatter3d"
           }
          ],
          "scattercarpet": [
           {
            "marker": {
             "colorbar": {
              "outlinewidth": 0,
              "ticks": ""
             }
            },
            "type": "scattercarpet"
           }
          ],
          "scattergeo": [
           {
            "marker": {
             "colorbar": {
              "outlinewidth": 0,
              "ticks": ""
             }
            },
            "type": "scattergeo"
           }
          ],
          "scattergl": [
           {
            "marker": {
             "line": {
              "color": "#283442"
             }
            },
            "type": "scattergl"
           }
          ],
          "scattermapbox": [
           {
            "marker": {
             "colorbar": {
              "outlinewidth": 0,
              "ticks": ""
             }
            },
            "type": "scattermapbox"
           }
          ],
          "scatterpolar": [
           {
            "marker": {
             "colorbar": {
              "outlinewidth": 0,
              "ticks": ""
             }
            },
            "type": "scatterpolar"
           }
          ],
          "scatterpolargl": [
           {
            "marker": {
             "colorbar": {
              "outlinewidth": 0,
              "ticks": ""
             }
            },
            "type": "scatterpolargl"
           }
          ],
          "scatterternary": [
           {
            "marker": {
             "colorbar": {
              "outlinewidth": 0,
              "ticks": ""
             }
            },
            "type": "scatterternary"
           }
          ],
          "surface": [
           {
            "colorbar": {
             "outlinewidth": 0,
             "ticks": ""
            },
            "colorscale": [
             [
              0,
              "#0d0887"
             ],
             [
              0.1111111111111111,
              "#46039f"
             ],
             [
              0.2222222222222222,
              "#7201a8"
             ],
             [
              0.3333333333333333,
              "#9c179e"
             ],
             [
              0.4444444444444444,
              "#bd3786"
             ],
             [
              0.5555555555555556,
              "#d8576b"
             ],
             [
              0.6666666666666666,
              "#ed7953"
             ],
             [
              0.7777777777777778,
              "#fb9f3a"
             ],
             [
              0.8888888888888888,
              "#fdca26"
             ],
             [
              1,
              "#f0f921"
             ]
            ],
            "type": "surface"
           }
          ],
          "table": [
           {
            "cells": {
             "fill": {
              "color": "#506784"
             },
             "line": {
              "color": "rgb(17,17,17)"
             }
            },
            "header": {
             "fill": {
              "color": "#2a3f5f"
             },
             "line": {
              "color": "rgb(17,17,17)"
             }
            },
            "type": "table"
           }
          ]
         },
         "layout": {
          "annotationdefaults": {
           "arrowcolor": "#f2f5fa",
           "arrowhead": 0,
           "arrowwidth": 1
          },
          "coloraxis": {
           "colorbar": {
            "outlinewidth": 0,
            "ticks": ""
           }
          },
          "colorscale": {
           "diverging": [
            [
             0,
             "#8e0152"
            ],
            [
             0.1,
             "#c51b7d"
            ],
            [
             0.2,
             "#de77ae"
            ],
            [
             0.3,
             "#f1b6da"
            ],
            [
             0.4,
             "#fde0ef"
            ],
            [
             0.5,
             "#f7f7f7"
            ],
            [
             0.6,
             "#e6f5d0"
            ],
            [
             0.7,
             "#b8e186"
            ],
            [
             0.8,
             "#7fbc41"
            ],
            [
             0.9,
             "#4d9221"
            ],
            [
             1,
             "#276419"
            ]
           ],
           "sequential": [
            [
             0,
             "#0d0887"
            ],
            [
             0.1111111111111111,
             "#46039f"
            ],
            [
             0.2222222222222222,
             "#7201a8"
            ],
            [
             0.3333333333333333,
             "#9c179e"
            ],
            [
             0.4444444444444444,
             "#bd3786"
            ],
            [
             0.5555555555555556,
             "#d8576b"
            ],
            [
             0.6666666666666666,
             "#ed7953"
            ],
            [
             0.7777777777777778,
             "#fb9f3a"
            ],
            [
             0.8888888888888888,
             "#fdca26"
            ],
            [
             1,
             "#f0f921"
            ]
           ],
           "sequentialminus": [
            [
             0,
             "#0d0887"
            ],
            [
             0.1111111111111111,
             "#46039f"
            ],
            [
             0.2222222222222222,
             "#7201a8"
            ],
            [
             0.3333333333333333,
             "#9c179e"
            ],
            [
             0.4444444444444444,
             "#bd3786"
            ],
            [
             0.5555555555555556,
             "#d8576b"
            ],
            [
             0.6666666666666666,
             "#ed7953"
            ],
            [
             0.7777777777777778,
             "#fb9f3a"
            ],
            [
             0.8888888888888888,
             "#fdca26"
            ],
            [
             1,
             "#f0f921"
            ]
           ]
          },
          "colorway": [
           "#636efa",
           "#EF553B",
           "#00cc96",
           "#ab63fa",
           "#FFA15A",
           "#19d3f3",
           "#FF6692",
           "#B6E880",
           "#FF97FF",
           "#FECB52"
          ],
          "font": {
           "color": "#f2f5fa"
          },
          "geo": {
           "bgcolor": "rgb(17,17,17)",
           "lakecolor": "rgb(17,17,17)",
           "landcolor": "rgb(17,17,17)",
           "showlakes": true,
           "showland": true,
           "subunitcolor": "#506784"
          },
          "hoverlabel": {
           "align": "left"
          },
          "hovermode": "closest",
          "mapbox": {
           "style": "dark"
          },
          "paper_bgcolor": "rgb(17,17,17)",
          "plot_bgcolor": "rgb(17,17,17)",
          "polar": {
           "angularaxis": {
            "gridcolor": "#506784",
            "linecolor": "#506784",
            "ticks": ""
           },
           "bgcolor": "rgb(17,17,17)",
           "radialaxis": {
            "gridcolor": "#506784",
            "linecolor": "#506784",
            "ticks": ""
           }
          },
          "scene": {
           "xaxis": {
            "backgroundcolor": "rgb(17,17,17)",
            "gridcolor": "#506784",
            "gridwidth": 2,
            "linecolor": "#506784",
            "showbackground": true,
            "ticks": "",
            "zerolinecolor": "#C8D4E3"
           },
           "yaxis": {
            "backgroundcolor": "rgb(17,17,17)",
            "gridcolor": "#506784",
            "gridwidth": 2,
            "linecolor": "#506784",
            "showbackground": true,
            "ticks": "",
            "zerolinecolor": "#C8D4E3"
           },
           "zaxis": {
            "backgroundcolor": "rgb(17,17,17)",
            "gridcolor": "#506784",
            "gridwidth": 2,
            "linecolor": "#506784",
            "showbackground": true,
            "ticks": "",
            "zerolinecolor": "#C8D4E3"
           }
          },
          "shapedefaults": {
           "line": {
            "color": "#f2f5fa"
           }
          },
          "sliderdefaults": {
           "bgcolor": "#C8D4E3",
           "bordercolor": "rgb(17,17,17)",
           "borderwidth": 1,
           "tickwidth": 0
          },
          "ternary": {
           "aaxis": {
            "gridcolor": "#506784",
            "linecolor": "#506784",
            "ticks": ""
           },
           "baxis": {
            "gridcolor": "#506784",
            "linecolor": "#506784",
            "ticks": ""
           },
           "bgcolor": "rgb(17,17,17)",
           "caxis": {
            "gridcolor": "#506784",
            "linecolor": "#506784",
            "ticks": ""
           }
          },
          "title": {
           "x": 0.05
          },
          "updatemenudefaults": {
           "bgcolor": "#506784",
           "borderwidth": 0
          },
          "xaxis": {
           "automargin": true,
           "gridcolor": "#283442",
           "linecolor": "#506784",
           "ticks": "",
           "title": {
            "standoff": 15
           },
           "zerolinecolor": "#283442",
           "zerolinewidth": 2
          },
          "yaxis": {
           "automargin": true,
           "gridcolor": "#283442",
           "linecolor": "#506784",
           "ticks": "",
           "title": {
            "standoff": 15
           },
           "zerolinecolor": "#283442",
           "zerolinewidth": 2
          }
         }
        },
        "title": {
         "text": "Finland vs. Australia - 2019"
        }
       }
      },
      "text/html": [
       "<div>                            <div id=\"16612d50-43b0-42cd-9b2d-d59af6c7a80c\" class=\"plotly-graph-div\" style=\"height:525px; width:100%;\"></div>            <script type=\"text/javascript\">                require([\"plotly\"], function(Plotly) {                    window.PLOTLYENV=window.PLOTLYENV || {};                                    if (document.getElementById(\"16612d50-43b0-42cd-9b2d-d59af6c7a80c\")) {                    Plotly.newPlot(                        \"16612d50-43b0-42cd-9b2d-d59af6c7a80c\",                        [{\"fill\": \"toself\", \"name\": \"Finland\", \"r\": [1.34, 1.587, 0.986, 0.596, 0.393, 0.153], \"theta\": [\"Economy_(GDP_per_Capita)\", \"Family\", \"Health_(Life_Expectancy)\", \"Freedom\", \"Trust_(Government_Corruption)\", \"Generosity\"], \"type\": \"scatterpolar\"}, {\"fill\": \"toself\", \"name\": \"Australia\", \"r\": [1.372, 1.548, 1.036, 0.557, 0.29, 0.332], \"theta\": [\"Economy_(GDP_per_Capita)\", \"Family\", \"Health_(Life_Expectancy)\", \"Freedom\", \"Trust_(Government_Corruption)\", \"Generosity\"], \"type\": \"scatterpolar\"}],                        {\"polar\": {\"radialaxis\": {\"range\": [0, 2], \"visible\": true}}, \"showlegend\": true, \"template\": {\"data\": {\"bar\": [{\"error_x\": {\"color\": \"#f2f5fa\"}, \"error_y\": {\"color\": \"#f2f5fa\"}, \"marker\": {\"line\": {\"color\": \"rgb(17,17,17)\", \"width\": 0.5}}, \"type\": \"bar\"}], \"barpolar\": [{\"marker\": {\"line\": {\"color\": \"rgb(17,17,17)\", \"width\": 0.5}}, \"type\": \"barpolar\"}], \"carpet\": [{\"aaxis\": {\"endlinecolor\": \"#A2B1C6\", \"gridcolor\": \"#506784\", \"linecolor\": \"#506784\", \"minorgridcolor\": \"#506784\", \"startlinecolor\": \"#A2B1C6\"}, \"baxis\": {\"endlinecolor\": \"#A2B1C6\", \"gridcolor\": \"#506784\", \"linecolor\": \"#506784\", \"minorgridcolor\": \"#506784\", \"startlinecolor\": \"#A2B1C6\"}, \"type\": \"carpet\"}], \"choropleth\": [{\"colorbar\": {\"outlinewidth\": 0, \"ticks\": \"\"}, \"type\": \"choropleth\"}], \"contour\": [{\"colorbar\": {\"outlinewidth\": 0, \"ticks\": \"\"}, \"colorscale\": [[0.0, \"#0d0887\"], [0.1111111111111111, \"#46039f\"], [0.2222222222222222, \"#7201a8\"], [0.3333333333333333, \"#9c179e\"], [0.4444444444444444, \"#bd3786\"], [0.5555555555555556, \"#d8576b\"], [0.6666666666666666, \"#ed7953\"], [0.7777777777777778, \"#fb9f3a\"], [0.8888888888888888, \"#fdca26\"], [1.0, \"#f0f921\"]], \"type\": \"contour\"}], \"contourcarpet\": [{\"colorbar\": {\"outlinewidth\": 0, \"ticks\": \"\"}, \"type\": \"contourcarpet\"}], \"heatmap\": [{\"colorbar\": {\"outlinewidth\": 0, \"ticks\": \"\"}, \"colorscale\": [[0.0, \"#0d0887\"], [0.1111111111111111, \"#46039f\"], [0.2222222222222222, \"#7201a8\"], [0.3333333333333333, \"#9c179e\"], [0.4444444444444444, \"#bd3786\"], [0.5555555555555556, \"#d8576b\"], [0.6666666666666666, \"#ed7953\"], [0.7777777777777778, \"#fb9f3a\"], [0.8888888888888888, \"#fdca26\"], [1.0, \"#f0f921\"]], \"type\": \"heatmap\"}], \"heatmapgl\": [{\"colorbar\": {\"outlinewidth\": 0, \"ticks\": \"\"}, \"colorscale\": [[0.0, \"#0d0887\"], [0.1111111111111111, \"#46039f\"], [0.2222222222222222, \"#7201a8\"], [0.3333333333333333, \"#9c179e\"], [0.4444444444444444, \"#bd3786\"], [0.5555555555555556, \"#d8576b\"], [0.6666666666666666, \"#ed7953\"], [0.7777777777777778, \"#fb9f3a\"], [0.8888888888888888, \"#fdca26\"], [1.0, \"#f0f921\"]], \"type\": \"heatmapgl\"}], \"histogram\": [{\"marker\": {\"colorbar\": {\"outlinewidth\": 0, \"ticks\": \"\"}}, \"type\": \"histogram\"}], \"histogram2d\": [{\"colorbar\": {\"outlinewidth\": 0, \"ticks\": \"\"}, \"colorscale\": [[0.0, \"#0d0887\"], [0.1111111111111111, \"#46039f\"], [0.2222222222222222, \"#7201a8\"], [0.3333333333333333, \"#9c179e\"], [0.4444444444444444, \"#bd3786\"], [0.5555555555555556, \"#d8576b\"], [0.6666666666666666, \"#ed7953\"], [0.7777777777777778, \"#fb9f3a\"], [0.8888888888888888, \"#fdca26\"], [1.0, \"#f0f921\"]], \"type\": \"histogram2d\"}], \"histogram2dcontour\": [{\"colorbar\": {\"outlinewidth\": 0, \"ticks\": \"\"}, \"colorscale\": [[0.0, \"#0d0887\"], [0.1111111111111111, \"#46039f\"], [0.2222222222222222, \"#7201a8\"], [0.3333333333333333, \"#9c179e\"], [0.4444444444444444, \"#bd3786\"], [0.5555555555555556, \"#d8576b\"], [0.6666666666666666, \"#ed7953\"], [0.7777777777777778, \"#fb9f3a\"], [0.8888888888888888, \"#fdca26\"], [1.0, \"#f0f921\"]], \"type\": \"histogram2dcontour\"}], \"mesh3d\": [{\"colorbar\": {\"outlinewidth\": 0, \"ticks\": \"\"}, \"type\": \"mesh3d\"}], \"parcoords\": [{\"line\": {\"colorbar\": {\"outlinewidth\": 0, \"ticks\": \"\"}}, \"type\": \"parcoords\"}], \"pie\": [{\"automargin\": true, \"type\": \"pie\"}], \"scatter\": [{\"marker\": {\"line\": {\"color\": \"#283442\"}}, \"type\": \"scatter\"}], \"scatter3d\": [{\"line\": {\"colorbar\": {\"outlinewidth\": 0, \"ticks\": \"\"}}, \"marker\": {\"colorbar\": {\"outlinewidth\": 0, \"ticks\": \"\"}}, \"type\": \"scatter3d\"}], \"scattercarpet\": [{\"marker\": {\"colorbar\": {\"outlinewidth\": 0, \"ticks\": \"\"}}, \"type\": \"scattercarpet\"}], \"scattergeo\": [{\"marker\": {\"colorbar\": {\"outlinewidth\": 0, \"ticks\": \"\"}}, \"type\": \"scattergeo\"}], \"scattergl\": [{\"marker\": {\"line\": {\"color\": \"#283442\"}}, \"type\": \"scattergl\"}], \"scattermapbox\": [{\"marker\": {\"colorbar\": {\"outlinewidth\": 0, \"ticks\": \"\"}}, \"type\": \"scattermapbox\"}], \"scatterpolar\": [{\"marker\": {\"colorbar\": {\"outlinewidth\": 0, \"ticks\": \"\"}}, \"type\": \"scatterpolar\"}], \"scatterpolargl\": [{\"marker\": {\"colorbar\": {\"outlinewidth\": 0, \"ticks\": \"\"}}, \"type\": \"scatterpolargl\"}], \"scatterternary\": [{\"marker\": {\"colorbar\": {\"outlinewidth\": 0, \"ticks\": \"\"}}, \"type\": \"scatterternary\"}], \"surface\": [{\"colorbar\": {\"outlinewidth\": 0, \"ticks\": \"\"}, \"colorscale\": [[0.0, \"#0d0887\"], [0.1111111111111111, \"#46039f\"], [0.2222222222222222, \"#7201a8\"], [0.3333333333333333, \"#9c179e\"], [0.4444444444444444, \"#bd3786\"], [0.5555555555555556, \"#d8576b\"], [0.6666666666666666, \"#ed7953\"], [0.7777777777777778, \"#fb9f3a\"], [0.8888888888888888, \"#fdca26\"], [1.0, \"#f0f921\"]], \"type\": \"surface\"}], \"table\": [{\"cells\": {\"fill\": {\"color\": \"#506784\"}, \"line\": {\"color\": \"rgb(17,17,17)\"}}, \"header\": {\"fill\": {\"color\": \"#2a3f5f\"}, \"line\": {\"color\": \"rgb(17,17,17)\"}}, \"type\": \"table\"}]}, \"layout\": {\"annotationdefaults\": {\"arrowcolor\": \"#f2f5fa\", \"arrowhead\": 0, \"arrowwidth\": 1}, \"coloraxis\": {\"colorbar\": {\"outlinewidth\": 0, \"ticks\": \"\"}}, \"colorscale\": {\"diverging\": [[0, \"#8e0152\"], [0.1, \"#c51b7d\"], [0.2, \"#de77ae\"], [0.3, \"#f1b6da\"], [0.4, \"#fde0ef\"], [0.5, \"#f7f7f7\"], [0.6, \"#e6f5d0\"], [0.7, \"#b8e186\"], [0.8, \"#7fbc41\"], [0.9, \"#4d9221\"], [1, \"#276419\"]], \"sequential\": [[0.0, \"#0d0887\"], [0.1111111111111111, \"#46039f\"], [0.2222222222222222, \"#7201a8\"], [0.3333333333333333, \"#9c179e\"], [0.4444444444444444, \"#bd3786\"], [0.5555555555555556, \"#d8576b\"], [0.6666666666666666, \"#ed7953\"], [0.7777777777777778, \"#fb9f3a\"], [0.8888888888888888, \"#fdca26\"], [1.0, \"#f0f921\"]], \"sequentialminus\": [[0.0, \"#0d0887\"], [0.1111111111111111, \"#46039f\"], [0.2222222222222222, \"#7201a8\"], [0.3333333333333333, \"#9c179e\"], [0.4444444444444444, \"#bd3786\"], [0.5555555555555556, \"#d8576b\"], [0.6666666666666666, \"#ed7953\"], [0.7777777777777778, \"#fb9f3a\"], [0.8888888888888888, \"#fdca26\"], [1.0, \"#f0f921\"]]}, \"colorway\": [\"#636efa\", \"#EF553B\", \"#00cc96\", \"#ab63fa\", \"#FFA15A\", \"#19d3f3\", \"#FF6692\", \"#B6E880\", \"#FF97FF\", \"#FECB52\"], \"font\": {\"color\": \"#f2f5fa\"}, \"geo\": {\"bgcolor\": \"rgb(17,17,17)\", \"lakecolor\": \"rgb(17,17,17)\", \"landcolor\": \"rgb(17,17,17)\", \"showlakes\": true, \"showland\": true, \"subunitcolor\": \"#506784\"}, \"hoverlabel\": {\"align\": \"left\"}, \"hovermode\": \"closest\", \"mapbox\": {\"style\": \"dark\"}, \"paper_bgcolor\": \"rgb(17,17,17)\", \"plot_bgcolor\": \"rgb(17,17,17)\", \"polar\": {\"angularaxis\": {\"gridcolor\": \"#506784\", \"linecolor\": \"#506784\", \"ticks\": \"\"}, \"bgcolor\": \"rgb(17,17,17)\", \"radialaxis\": {\"gridcolor\": \"#506784\", \"linecolor\": \"#506784\", \"ticks\": \"\"}}, \"scene\": {\"xaxis\": {\"backgroundcolor\": \"rgb(17,17,17)\", \"gridcolor\": \"#506784\", \"gridwidth\": 2, \"linecolor\": \"#506784\", \"showbackground\": true, \"ticks\": \"\", \"zerolinecolor\": \"#C8D4E3\"}, \"yaxis\": {\"backgroundcolor\": \"rgb(17,17,17)\", \"gridcolor\": \"#506784\", \"gridwidth\": 2, \"linecolor\": \"#506784\", \"showbackground\": true, \"ticks\": \"\", \"zerolinecolor\": \"#C8D4E3\"}, \"zaxis\": {\"backgroundcolor\": \"rgb(17,17,17)\", \"gridcolor\": \"#506784\", \"gridwidth\": 2, \"linecolor\": \"#506784\", \"showbackground\": true, \"ticks\": \"\", \"zerolinecolor\": \"#C8D4E3\"}}, \"shapedefaults\": {\"line\": {\"color\": \"#f2f5fa\"}}, \"sliderdefaults\": {\"bgcolor\": \"#C8D4E3\", \"bordercolor\": \"rgb(17,17,17)\", \"borderwidth\": 1, \"tickwidth\": 0}, \"ternary\": {\"aaxis\": {\"gridcolor\": \"#506784\", \"linecolor\": \"#506784\", \"ticks\": \"\"}, \"baxis\": {\"gridcolor\": \"#506784\", \"linecolor\": \"#506784\", \"ticks\": \"\"}, \"bgcolor\": \"rgb(17,17,17)\", \"caxis\": {\"gridcolor\": \"#506784\", \"linecolor\": \"#506784\", \"ticks\": \"\"}}, \"title\": {\"x\": 0.05}, \"updatemenudefaults\": {\"bgcolor\": \"#506784\", \"borderwidth\": 0}, \"xaxis\": {\"automargin\": true, \"gridcolor\": \"#283442\", \"linecolor\": \"#506784\", \"ticks\": \"\", \"title\": {\"standoff\": 15}, \"zerolinecolor\": \"#283442\", \"zerolinewidth\": 2}, \"yaxis\": {\"automargin\": true, \"gridcolor\": \"#283442\", \"linecolor\": \"#506784\", \"ticks\": \"\", \"title\": {\"standoff\": 15}, \"zerolinecolor\": \"#283442\", \"zerolinewidth\": 2}}}, \"title\": {\"text\": \"Finland vs. Australia - 2019\"}},                        {\"responsive\": true}                    ).then(function(){\n",
       "                            \n",
       "var gd = document.getElementById('16612d50-43b0-42cd-9b2d-d59af6c7a80c');\n",
       "var x = new MutationObserver(function (mutations, observer) {{\n",
       "        var display = window.getComputedStyle(gd).display;\n",
       "        if (!display || display === 'none') {{\n",
       "            console.log([gd, 'removed!']);\n",
       "            Plotly.purge(gd);\n",
       "            observer.disconnect();\n",
       "        }}\n",
       "}});\n",
       "\n",
       "// Listen for the removal of the full notebook cells\n",
       "var notebookContainer = gd.closest('#notebook-container');\n",
       "if (notebookContainer) {{\n",
       "    x.observe(notebookContainer, {childList: true});\n",
       "}}\n",
       "\n",
       "// Listen for the clearing of the current output cell\n",
       "var outputEl = gd.closest('.output');\n",
       "if (outputEl) {{\n",
       "    x.observe(outputEl, {childList: true});\n",
       "}}\n",
       "\n",
       "                        })                };                });            </script>        </div>"
      ]
     },
     "metadata": {},
     "output_type": "display_data"
    }
   ],
   "source": [
    "\n",
    "categories = ['Economy_(GDP_per_Capita)', 'Family', 'Health_(Life_Expectancy)',\n",
    "       'Freedom', 'Trust_(Government_Corruption)', 'Generosity']\n",
    "#plotlly function for go graphs\n",
    "fig = go.Figure()\n",
    "#empty dictionary to hold australian column values for the seven aforementioned categories\n",
    "aus_data ={}\n",
    "top_data = {}\n",
    "country_name = {}\n",
    "for year in years:\n",
    "    #filtering out australian rows every years\n",
    "    aus_data[year] = df[year].loc[df[year]['Country']=='Australia'].values\n",
    "    #filtering out the top country values for evry years\n",
    "    top_data[year]  = df[year].iloc[0,:].values\n",
    "    #storing country name for all the years\n",
    "    country_name[year]  = top_data[year][0]\n",
    "  \n",
    "    \n",
    "fig.add_trace(go.Scatterpolar(\n",
    "    #plotting top country data for 2019\n",
    "          r=top_data[2019][3:-1],\n",
    "    #adding afforentioned categories\n",
    "          theta=categories,\n",
    "          fill='toself',\n",
    "          name=f'{country_name[year]}'\n",
    "    ))\n",
    "fig.add_trace(go.Scatterpolar(\n",
    "    #plotting autrlaia data for 2019\n",
    "          r=aus_data[2019][0][3:-1],\n",
    "          theta=categories,\n",
    "          fill='toself',\n",
    "          name='Australia'\n",
    "    ))\n",
    "\n",
    "fig.update_layout(\n",
    "      polar=dict(\n",
    "        radialaxis=dict(\n",
    "          visible=True,\n",
    "          range=[0, 2]\n",
    "        )),\n",
    "      title=f\"{country_name[2019]} vs. Australia - 2019\",\n",
    "      showlegend=True\n",
    "    )\n",
    "\n",
    "fig.show()\n",
    "\n"
   ]
  },
  {
   "cell_type": "code",
   "execution_count": 83,
   "metadata": {
    "ExecuteTime": {
     "end_time": "2020-10-24T02:00:26.836045Z",
     "start_time": "2020-10-24T02:00:26.758023Z"
    }
   },
   "outputs": [
    {
     "data": {
      "application/vnd.plotly.v1+json": {
       "config": {
        "plotlyServerURL": "https://plot.ly"
       },
       "data": [
        {
         "fill": "toself",
         "name": "Switzerland",
         "r": [
          1.39651,
          1.34951,
          0.94143,
          0.66557,
          0.41978,
          0.29678000000000004
         ],
         "theta": [
          "Economy_(GDP_per_Capita)",
          "Family",
          "Health_(Life_Expectancy)",
          "Freedom",
          "Trust_(Government_Corruption)",
          "Generosity"
         ],
         "type": "scatterpolar"
        },
        {
         "fill": "toself",
         "name": "Australia",
         "r": [
          1.33358,
          1.30923,
          0.93156,
          0.6512399999999999,
          0.35637,
          0.43562
         ],
         "theta": [
          "Economy_(GDP_per_Capita)",
          "Family",
          "Health_(Life_Expectancy)",
          "Freedom",
          "Trust_(Government_Corruption)",
          "Generosity"
         ],
         "type": "scatterpolar"
        }
       ],
       "layout": {
        "polar": {
         "radialaxis": {
          "range": [
           0,
           2
          ],
          "visible": true
         }
        },
        "showlegend": true,
        "template": {
         "data": {
          "bar": [
           {
            "error_x": {
             "color": "#f2f5fa"
            },
            "error_y": {
             "color": "#f2f5fa"
            },
            "marker": {
             "line": {
              "color": "rgb(17,17,17)",
              "width": 0.5
             }
            },
            "type": "bar"
           }
          ],
          "barpolar": [
           {
            "marker": {
             "line": {
              "color": "rgb(17,17,17)",
              "width": 0.5
             }
            },
            "type": "barpolar"
           }
          ],
          "carpet": [
           {
            "aaxis": {
             "endlinecolor": "#A2B1C6",
             "gridcolor": "#506784",
             "linecolor": "#506784",
             "minorgridcolor": "#506784",
             "startlinecolor": "#A2B1C6"
            },
            "baxis": {
             "endlinecolor": "#A2B1C6",
             "gridcolor": "#506784",
             "linecolor": "#506784",
             "minorgridcolor": "#506784",
             "startlinecolor": "#A2B1C6"
            },
            "type": "carpet"
           }
          ],
          "choropleth": [
           {
            "colorbar": {
             "outlinewidth": 0,
             "ticks": ""
            },
            "type": "choropleth"
           }
          ],
          "contour": [
           {
            "colorbar": {
             "outlinewidth": 0,
             "ticks": ""
            },
            "colorscale": [
             [
              0,
              "#0d0887"
             ],
             [
              0.1111111111111111,
              "#46039f"
             ],
             [
              0.2222222222222222,
              "#7201a8"
             ],
             [
              0.3333333333333333,
              "#9c179e"
             ],
             [
              0.4444444444444444,
              "#bd3786"
             ],
             [
              0.5555555555555556,
              "#d8576b"
             ],
             [
              0.6666666666666666,
              "#ed7953"
             ],
             [
              0.7777777777777778,
              "#fb9f3a"
             ],
             [
              0.8888888888888888,
              "#fdca26"
             ],
             [
              1,
              "#f0f921"
             ]
            ],
            "type": "contour"
           }
          ],
          "contourcarpet": [
           {
            "colorbar": {
             "outlinewidth": 0,
             "ticks": ""
            },
            "type": "contourcarpet"
           }
          ],
          "heatmap": [
           {
            "colorbar": {
             "outlinewidth": 0,
             "ticks": ""
            },
            "colorscale": [
             [
              0,
              "#0d0887"
             ],
             [
              0.1111111111111111,
              "#46039f"
             ],
             [
              0.2222222222222222,
              "#7201a8"
             ],
             [
              0.3333333333333333,
              "#9c179e"
             ],
             [
              0.4444444444444444,
              "#bd3786"
             ],
             [
              0.5555555555555556,
              "#d8576b"
             ],
             [
              0.6666666666666666,
              "#ed7953"
             ],
             [
              0.7777777777777778,
              "#fb9f3a"
             ],
             [
              0.8888888888888888,
              "#fdca26"
             ],
             [
              1,
              "#f0f921"
             ]
            ],
            "type": "heatmap"
           }
          ],
          "heatmapgl": [
           {
            "colorbar": {
             "outlinewidth": 0,
             "ticks": ""
            },
            "colorscale": [
             [
              0,
              "#0d0887"
             ],
             [
              0.1111111111111111,
              "#46039f"
             ],
             [
              0.2222222222222222,
              "#7201a8"
             ],
             [
              0.3333333333333333,
              "#9c179e"
             ],
             [
              0.4444444444444444,
              "#bd3786"
             ],
             [
              0.5555555555555556,
              "#d8576b"
             ],
             [
              0.6666666666666666,
              "#ed7953"
             ],
             [
              0.7777777777777778,
              "#fb9f3a"
             ],
             [
              0.8888888888888888,
              "#fdca26"
             ],
             [
              1,
              "#f0f921"
             ]
            ],
            "type": "heatmapgl"
           }
          ],
          "histogram": [
           {
            "marker": {
             "colorbar": {
              "outlinewidth": 0,
              "ticks": ""
             }
            },
            "type": "histogram"
           }
          ],
          "histogram2d": [
           {
            "colorbar": {
             "outlinewidth": 0,
             "ticks": ""
            },
            "colorscale": [
             [
              0,
              "#0d0887"
             ],
             [
              0.1111111111111111,
              "#46039f"
             ],
             [
              0.2222222222222222,
              "#7201a8"
             ],
             [
              0.3333333333333333,
              "#9c179e"
             ],
             [
              0.4444444444444444,
              "#bd3786"
             ],
             [
              0.5555555555555556,
              "#d8576b"
             ],
             [
              0.6666666666666666,
              "#ed7953"
             ],
             [
              0.7777777777777778,
              "#fb9f3a"
             ],
             [
              0.8888888888888888,
              "#fdca26"
             ],
             [
              1,
              "#f0f921"
             ]
            ],
            "type": "histogram2d"
           }
          ],
          "histogram2dcontour": [
           {
            "colorbar": {
             "outlinewidth": 0,
             "ticks": ""
            },
            "colorscale": [
             [
              0,
              "#0d0887"
             ],
             [
              0.1111111111111111,
              "#46039f"
             ],
             [
              0.2222222222222222,
              "#7201a8"
             ],
             [
              0.3333333333333333,
              "#9c179e"
             ],
             [
              0.4444444444444444,
              "#bd3786"
             ],
             [
              0.5555555555555556,
              "#d8576b"
             ],
             [
              0.6666666666666666,
              "#ed7953"
             ],
             [
              0.7777777777777778,
              "#fb9f3a"
             ],
             [
              0.8888888888888888,
              "#fdca26"
             ],
             [
              1,
              "#f0f921"
             ]
            ],
            "type": "histogram2dcontour"
           }
          ],
          "mesh3d": [
           {
            "colorbar": {
             "outlinewidth": 0,
             "ticks": ""
            },
            "type": "mesh3d"
           }
          ],
          "parcoords": [
           {
            "line": {
             "colorbar": {
              "outlinewidth": 0,
              "ticks": ""
             }
            },
            "type": "parcoords"
           }
          ],
          "pie": [
           {
            "automargin": true,
            "type": "pie"
           }
          ],
          "scatter": [
           {
            "marker": {
             "line": {
              "color": "#283442"
             }
            },
            "type": "scatter"
           }
          ],
          "scatter3d": [
           {
            "line": {
             "colorbar": {
              "outlinewidth": 0,
              "ticks": ""
             }
            },
            "marker": {
             "colorbar": {
              "outlinewidth": 0,
              "ticks": ""
             }
            },
            "type": "scatter3d"
           }
          ],
          "scattercarpet": [
           {
            "marker": {
             "colorbar": {
              "outlinewidth": 0,
              "ticks": ""
             }
            },
            "type": "scattercarpet"
           }
          ],
          "scattergeo": [
           {
            "marker": {
             "colorbar": {
              "outlinewidth": 0,
              "ticks": ""
             }
            },
            "type": "scattergeo"
           }
          ],
          "scattergl": [
           {
            "marker": {
             "line": {
              "color": "#283442"
             }
            },
            "type": "scattergl"
           }
          ],
          "scattermapbox": [
           {
            "marker": {
             "colorbar": {
              "outlinewidth": 0,
              "ticks": ""
             }
            },
            "type": "scattermapbox"
           }
          ],
          "scatterpolar": [
           {
            "marker": {
             "colorbar": {
              "outlinewidth": 0,
              "ticks": ""
             }
            },
            "type": "scatterpolar"
           }
          ],
          "scatterpolargl": [
           {
            "marker": {
             "colorbar": {
              "outlinewidth": 0,
              "ticks": ""
             }
            },
            "type": "scatterpolargl"
           }
          ],
          "scatterternary": [
           {
            "marker": {
             "colorbar": {
              "outlinewidth": 0,
              "ticks": ""
             }
            },
            "type": "scatterternary"
           }
          ],
          "surface": [
           {
            "colorbar": {
             "outlinewidth": 0,
             "ticks": ""
            },
            "colorscale": [
             [
              0,
              "#0d0887"
             ],
             [
              0.1111111111111111,
              "#46039f"
             ],
             [
              0.2222222222222222,
              "#7201a8"
             ],
             [
              0.3333333333333333,
              "#9c179e"
             ],
             [
              0.4444444444444444,
              "#bd3786"
             ],
             [
              0.5555555555555556,
              "#d8576b"
             ],
             [
              0.6666666666666666,
              "#ed7953"
             ],
             [
              0.7777777777777778,
              "#fb9f3a"
             ],
             [
              0.8888888888888888,
              "#fdca26"
             ],
             [
              1,
              "#f0f921"
             ]
            ],
            "type": "surface"
           }
          ],
          "table": [
           {
            "cells": {
             "fill": {
              "color": "#506784"
             },
             "line": {
              "color": "rgb(17,17,17)"
             }
            },
            "header": {
             "fill": {
              "color": "#2a3f5f"
             },
             "line": {
              "color": "rgb(17,17,17)"
             }
            },
            "type": "table"
           }
          ]
         },
         "layout": {
          "annotationdefaults": {
           "arrowcolor": "#f2f5fa",
           "arrowhead": 0,
           "arrowwidth": 1
          },
          "coloraxis": {
           "colorbar": {
            "outlinewidth": 0,
            "ticks": ""
           }
          },
          "colorscale": {
           "diverging": [
            [
             0,
             "#8e0152"
            ],
            [
             0.1,
             "#c51b7d"
            ],
            [
             0.2,
             "#de77ae"
            ],
            [
             0.3,
             "#f1b6da"
            ],
            [
             0.4,
             "#fde0ef"
            ],
            [
             0.5,
             "#f7f7f7"
            ],
            [
             0.6,
             "#e6f5d0"
            ],
            [
             0.7,
             "#b8e186"
            ],
            [
             0.8,
             "#7fbc41"
            ],
            [
             0.9,
             "#4d9221"
            ],
            [
             1,
             "#276419"
            ]
           ],
           "sequential": [
            [
             0,
             "#0d0887"
            ],
            [
             0.1111111111111111,
             "#46039f"
            ],
            [
             0.2222222222222222,
             "#7201a8"
            ],
            [
             0.3333333333333333,
             "#9c179e"
            ],
            [
             0.4444444444444444,
             "#bd3786"
            ],
            [
             0.5555555555555556,
             "#d8576b"
            ],
            [
             0.6666666666666666,
             "#ed7953"
            ],
            [
             0.7777777777777778,
             "#fb9f3a"
            ],
            [
             0.8888888888888888,
             "#fdca26"
            ],
            [
             1,
             "#f0f921"
            ]
           ],
           "sequentialminus": [
            [
             0,
             "#0d0887"
            ],
            [
             0.1111111111111111,
             "#46039f"
            ],
            [
             0.2222222222222222,
             "#7201a8"
            ],
            [
             0.3333333333333333,
             "#9c179e"
            ],
            [
             0.4444444444444444,
             "#bd3786"
            ],
            [
             0.5555555555555556,
             "#d8576b"
            ],
            [
             0.6666666666666666,
             "#ed7953"
            ],
            [
             0.7777777777777778,
             "#fb9f3a"
            ],
            [
             0.8888888888888888,
             "#fdca26"
            ],
            [
             1,
             "#f0f921"
            ]
           ]
          },
          "colorway": [
           "#636efa",
           "#EF553B",
           "#00cc96",
           "#ab63fa",
           "#FFA15A",
           "#19d3f3",
           "#FF6692",
           "#B6E880",
           "#FF97FF",
           "#FECB52"
          ],
          "font": {
           "color": "#f2f5fa"
          },
          "geo": {
           "bgcolor": "rgb(17,17,17)",
           "lakecolor": "rgb(17,17,17)",
           "landcolor": "rgb(17,17,17)",
           "showlakes": true,
           "showland": true,
           "subunitcolor": "#506784"
          },
          "hoverlabel": {
           "align": "left"
          },
          "hovermode": "closest",
          "mapbox": {
           "style": "dark"
          },
          "paper_bgcolor": "rgb(17,17,17)",
          "plot_bgcolor": "rgb(17,17,17)",
          "polar": {
           "angularaxis": {
            "gridcolor": "#506784",
            "linecolor": "#506784",
            "ticks": ""
           },
           "bgcolor": "rgb(17,17,17)",
           "radialaxis": {
            "gridcolor": "#506784",
            "linecolor": "#506784",
            "ticks": ""
           }
          },
          "scene": {
           "xaxis": {
            "backgroundcolor": "rgb(17,17,17)",
            "gridcolor": "#506784",
            "gridwidth": 2,
            "linecolor": "#506784",
            "showbackground": true,
            "ticks": "",
            "zerolinecolor": "#C8D4E3"
           },
           "yaxis": {
            "backgroundcolor": "rgb(17,17,17)",
            "gridcolor": "#506784",
            "gridwidth": 2,
            "linecolor": "#506784",
            "showbackground": true,
            "ticks": "",
            "zerolinecolor": "#C8D4E3"
           },
           "zaxis": {
            "backgroundcolor": "rgb(17,17,17)",
            "gridcolor": "#506784",
            "gridwidth": 2,
            "linecolor": "#506784",
            "showbackground": true,
            "ticks": "",
            "zerolinecolor": "#C8D4E3"
           }
          },
          "shapedefaults": {
           "line": {
            "color": "#f2f5fa"
           }
          },
          "sliderdefaults": {
           "bgcolor": "#C8D4E3",
           "bordercolor": "rgb(17,17,17)",
           "borderwidth": 1,
           "tickwidth": 0
          },
          "ternary": {
           "aaxis": {
            "gridcolor": "#506784",
            "linecolor": "#506784",
            "ticks": ""
           },
           "baxis": {
            "gridcolor": "#506784",
            "linecolor": "#506784",
            "ticks": ""
           },
           "bgcolor": "rgb(17,17,17)",
           "caxis": {
            "gridcolor": "#506784",
            "linecolor": "#506784",
            "ticks": ""
           }
          },
          "title": {
           "x": 0.05
          },
          "updatemenudefaults": {
           "bgcolor": "#506784",
           "borderwidth": 0
          },
          "xaxis": {
           "automargin": true,
           "gridcolor": "#283442",
           "linecolor": "#506784",
           "ticks": "",
           "title": {
            "standoff": 15
           },
           "zerolinecolor": "#283442",
           "zerolinewidth": 2
          },
          "yaxis": {
           "automargin": true,
           "gridcolor": "#283442",
           "linecolor": "#506784",
           "ticks": "",
           "title": {
            "standoff": 15
           },
           "zerolinecolor": "#283442",
           "zerolinewidth": 2
          }
         }
        },
        "title": {
         "text": "Switzerland vs. Australia - 2015"
        }
       }
      },
      "text/html": [
       "<div>                            <div id=\"02556999-33ca-4166-8347-bae8680da8fb\" class=\"plotly-graph-div\" style=\"height:525px; width:100%;\"></div>            <script type=\"text/javascript\">                require([\"plotly\"], function(Plotly) {                    window.PLOTLYENV=window.PLOTLYENV || {};                                    if (document.getElementById(\"02556999-33ca-4166-8347-bae8680da8fb\")) {                    Plotly.newPlot(                        \"02556999-33ca-4166-8347-bae8680da8fb\",                        [{\"fill\": \"toself\", \"name\": \"Switzerland\", \"r\": [1.39651, 1.34951, 0.94143, 0.66557, 0.41978, 0.29678000000000004], \"theta\": [\"Economy_(GDP_per_Capita)\", \"Family\", \"Health_(Life_Expectancy)\", \"Freedom\", \"Trust_(Government_Corruption)\", \"Generosity\"], \"type\": \"scatterpolar\"}, {\"fill\": \"toself\", \"name\": \"Australia\", \"r\": [1.33358, 1.30923, 0.93156, 0.6512399999999999, 0.35637, 0.43562], \"theta\": [\"Economy_(GDP_per_Capita)\", \"Family\", \"Health_(Life_Expectancy)\", \"Freedom\", \"Trust_(Government_Corruption)\", \"Generosity\"], \"type\": \"scatterpolar\"}],                        {\"polar\": {\"radialaxis\": {\"range\": [0, 2], \"visible\": true}}, \"showlegend\": true, \"template\": {\"data\": {\"bar\": [{\"error_x\": {\"color\": \"#f2f5fa\"}, \"error_y\": {\"color\": \"#f2f5fa\"}, \"marker\": {\"line\": {\"color\": \"rgb(17,17,17)\", \"width\": 0.5}}, \"type\": \"bar\"}], \"barpolar\": [{\"marker\": {\"line\": {\"color\": \"rgb(17,17,17)\", \"width\": 0.5}}, \"type\": \"barpolar\"}], \"carpet\": [{\"aaxis\": {\"endlinecolor\": \"#A2B1C6\", \"gridcolor\": \"#506784\", \"linecolor\": \"#506784\", \"minorgridcolor\": \"#506784\", \"startlinecolor\": \"#A2B1C6\"}, \"baxis\": {\"endlinecolor\": \"#A2B1C6\", \"gridcolor\": \"#506784\", \"linecolor\": \"#506784\", \"minorgridcolor\": \"#506784\", \"startlinecolor\": \"#A2B1C6\"}, \"type\": \"carpet\"}], \"choropleth\": [{\"colorbar\": {\"outlinewidth\": 0, \"ticks\": \"\"}, \"type\": \"choropleth\"}], \"contour\": [{\"colorbar\": {\"outlinewidth\": 0, \"ticks\": \"\"}, \"colorscale\": [[0.0, \"#0d0887\"], [0.1111111111111111, \"#46039f\"], [0.2222222222222222, \"#7201a8\"], [0.3333333333333333, \"#9c179e\"], [0.4444444444444444, \"#bd3786\"], [0.5555555555555556, \"#d8576b\"], [0.6666666666666666, \"#ed7953\"], [0.7777777777777778, \"#fb9f3a\"], [0.8888888888888888, \"#fdca26\"], [1.0, \"#f0f921\"]], \"type\": \"contour\"}], \"contourcarpet\": [{\"colorbar\": {\"outlinewidth\": 0, \"ticks\": \"\"}, \"type\": \"contourcarpet\"}], \"heatmap\": [{\"colorbar\": {\"outlinewidth\": 0, \"ticks\": \"\"}, \"colorscale\": [[0.0, \"#0d0887\"], [0.1111111111111111, \"#46039f\"], [0.2222222222222222, \"#7201a8\"], [0.3333333333333333, \"#9c179e\"], [0.4444444444444444, \"#bd3786\"], [0.5555555555555556, \"#d8576b\"], [0.6666666666666666, \"#ed7953\"], [0.7777777777777778, \"#fb9f3a\"], [0.8888888888888888, \"#fdca26\"], [1.0, \"#f0f921\"]], \"type\": \"heatmap\"}], \"heatmapgl\": [{\"colorbar\": {\"outlinewidth\": 0, \"ticks\": \"\"}, \"colorscale\": [[0.0, \"#0d0887\"], [0.1111111111111111, \"#46039f\"], [0.2222222222222222, \"#7201a8\"], [0.3333333333333333, \"#9c179e\"], [0.4444444444444444, \"#bd3786\"], [0.5555555555555556, \"#d8576b\"], [0.6666666666666666, \"#ed7953\"], [0.7777777777777778, \"#fb9f3a\"], [0.8888888888888888, \"#fdca26\"], [1.0, \"#f0f921\"]], \"type\": \"heatmapgl\"}], \"histogram\": [{\"marker\": {\"colorbar\": {\"outlinewidth\": 0, \"ticks\": \"\"}}, \"type\": \"histogram\"}], \"histogram2d\": [{\"colorbar\": {\"outlinewidth\": 0, \"ticks\": \"\"}, \"colorscale\": [[0.0, \"#0d0887\"], [0.1111111111111111, \"#46039f\"], [0.2222222222222222, \"#7201a8\"], [0.3333333333333333, \"#9c179e\"], [0.4444444444444444, \"#bd3786\"], [0.5555555555555556, \"#d8576b\"], [0.6666666666666666, \"#ed7953\"], [0.7777777777777778, \"#fb9f3a\"], [0.8888888888888888, \"#fdca26\"], [1.0, \"#f0f921\"]], \"type\": \"histogram2d\"}], \"histogram2dcontour\": [{\"colorbar\": {\"outlinewidth\": 0, \"ticks\": \"\"}, \"colorscale\": [[0.0, \"#0d0887\"], [0.1111111111111111, \"#46039f\"], [0.2222222222222222, \"#7201a8\"], [0.3333333333333333, \"#9c179e\"], [0.4444444444444444, \"#bd3786\"], [0.5555555555555556, \"#d8576b\"], [0.6666666666666666, \"#ed7953\"], [0.7777777777777778, \"#fb9f3a\"], [0.8888888888888888, \"#fdca26\"], [1.0, \"#f0f921\"]], \"type\": \"histogram2dcontour\"}], \"mesh3d\": [{\"colorbar\": {\"outlinewidth\": 0, \"ticks\": \"\"}, \"type\": \"mesh3d\"}], \"parcoords\": [{\"line\": {\"colorbar\": {\"outlinewidth\": 0, \"ticks\": \"\"}}, \"type\": \"parcoords\"}], \"pie\": [{\"automargin\": true, \"type\": \"pie\"}], \"scatter\": [{\"marker\": {\"line\": {\"color\": \"#283442\"}}, \"type\": \"scatter\"}], \"scatter3d\": [{\"line\": {\"colorbar\": {\"outlinewidth\": 0, \"ticks\": \"\"}}, \"marker\": {\"colorbar\": {\"outlinewidth\": 0, \"ticks\": \"\"}}, \"type\": \"scatter3d\"}], \"scattercarpet\": [{\"marker\": {\"colorbar\": {\"outlinewidth\": 0, \"ticks\": \"\"}}, \"type\": \"scattercarpet\"}], \"scattergeo\": [{\"marker\": {\"colorbar\": {\"outlinewidth\": 0, \"ticks\": \"\"}}, \"type\": \"scattergeo\"}], \"scattergl\": [{\"marker\": {\"line\": {\"color\": \"#283442\"}}, \"type\": \"scattergl\"}], \"scattermapbox\": [{\"marker\": {\"colorbar\": {\"outlinewidth\": 0, \"ticks\": \"\"}}, \"type\": \"scattermapbox\"}], \"scatterpolar\": [{\"marker\": {\"colorbar\": {\"outlinewidth\": 0, \"ticks\": \"\"}}, \"type\": \"scatterpolar\"}], \"scatterpolargl\": [{\"marker\": {\"colorbar\": {\"outlinewidth\": 0, \"ticks\": \"\"}}, \"type\": \"scatterpolargl\"}], \"scatterternary\": [{\"marker\": {\"colorbar\": {\"outlinewidth\": 0, \"ticks\": \"\"}}, \"type\": \"scatterternary\"}], \"surface\": [{\"colorbar\": {\"outlinewidth\": 0, \"ticks\": \"\"}, \"colorscale\": [[0.0, \"#0d0887\"], [0.1111111111111111, \"#46039f\"], [0.2222222222222222, \"#7201a8\"], [0.3333333333333333, \"#9c179e\"], [0.4444444444444444, \"#bd3786\"], [0.5555555555555556, \"#d8576b\"], [0.6666666666666666, \"#ed7953\"], [0.7777777777777778, \"#fb9f3a\"], [0.8888888888888888, \"#fdca26\"], [1.0, \"#f0f921\"]], \"type\": \"surface\"}], \"table\": [{\"cells\": {\"fill\": {\"color\": \"#506784\"}, \"line\": {\"color\": \"rgb(17,17,17)\"}}, \"header\": {\"fill\": {\"color\": \"#2a3f5f\"}, \"line\": {\"color\": \"rgb(17,17,17)\"}}, \"type\": \"table\"}]}, \"layout\": {\"annotationdefaults\": {\"arrowcolor\": \"#f2f5fa\", \"arrowhead\": 0, \"arrowwidth\": 1}, \"coloraxis\": {\"colorbar\": {\"outlinewidth\": 0, \"ticks\": \"\"}}, \"colorscale\": {\"diverging\": [[0, \"#8e0152\"], [0.1, \"#c51b7d\"], [0.2, \"#de77ae\"], [0.3, \"#f1b6da\"], [0.4, \"#fde0ef\"], [0.5, \"#f7f7f7\"], [0.6, \"#e6f5d0\"], [0.7, \"#b8e186\"], [0.8, \"#7fbc41\"], [0.9, \"#4d9221\"], [1, \"#276419\"]], \"sequential\": [[0.0, \"#0d0887\"], [0.1111111111111111, \"#46039f\"], [0.2222222222222222, \"#7201a8\"], [0.3333333333333333, \"#9c179e\"], [0.4444444444444444, \"#bd3786\"], [0.5555555555555556, \"#d8576b\"], [0.6666666666666666, \"#ed7953\"], [0.7777777777777778, \"#fb9f3a\"], [0.8888888888888888, \"#fdca26\"], [1.0, \"#f0f921\"]], \"sequentialminus\": [[0.0, \"#0d0887\"], [0.1111111111111111, \"#46039f\"], [0.2222222222222222, \"#7201a8\"], [0.3333333333333333, \"#9c179e\"], [0.4444444444444444, \"#bd3786\"], [0.5555555555555556, \"#d8576b\"], [0.6666666666666666, \"#ed7953\"], [0.7777777777777778, \"#fb9f3a\"], [0.8888888888888888, \"#fdca26\"], [1.0, \"#f0f921\"]]}, \"colorway\": [\"#636efa\", \"#EF553B\", \"#00cc96\", \"#ab63fa\", \"#FFA15A\", \"#19d3f3\", \"#FF6692\", \"#B6E880\", \"#FF97FF\", \"#FECB52\"], \"font\": {\"color\": \"#f2f5fa\"}, \"geo\": {\"bgcolor\": \"rgb(17,17,17)\", \"lakecolor\": \"rgb(17,17,17)\", \"landcolor\": \"rgb(17,17,17)\", \"showlakes\": true, \"showland\": true, \"subunitcolor\": \"#506784\"}, \"hoverlabel\": {\"align\": \"left\"}, \"hovermode\": \"closest\", \"mapbox\": {\"style\": \"dark\"}, \"paper_bgcolor\": \"rgb(17,17,17)\", \"plot_bgcolor\": \"rgb(17,17,17)\", \"polar\": {\"angularaxis\": {\"gridcolor\": \"#506784\", \"linecolor\": \"#506784\", \"ticks\": \"\"}, \"bgcolor\": \"rgb(17,17,17)\", \"radialaxis\": {\"gridcolor\": \"#506784\", \"linecolor\": \"#506784\", \"ticks\": \"\"}}, \"scene\": {\"xaxis\": {\"backgroundcolor\": \"rgb(17,17,17)\", \"gridcolor\": \"#506784\", \"gridwidth\": 2, \"linecolor\": \"#506784\", \"showbackground\": true, \"ticks\": \"\", \"zerolinecolor\": \"#C8D4E3\"}, \"yaxis\": {\"backgroundcolor\": \"rgb(17,17,17)\", \"gridcolor\": \"#506784\", \"gridwidth\": 2, \"linecolor\": \"#506784\", \"showbackground\": true, \"ticks\": \"\", \"zerolinecolor\": \"#C8D4E3\"}, \"zaxis\": {\"backgroundcolor\": \"rgb(17,17,17)\", \"gridcolor\": \"#506784\", \"gridwidth\": 2, \"linecolor\": \"#506784\", \"showbackground\": true, \"ticks\": \"\", \"zerolinecolor\": \"#C8D4E3\"}}, \"shapedefaults\": {\"line\": {\"color\": \"#f2f5fa\"}}, \"sliderdefaults\": {\"bgcolor\": \"#C8D4E3\", \"bordercolor\": \"rgb(17,17,17)\", \"borderwidth\": 1, \"tickwidth\": 0}, \"ternary\": {\"aaxis\": {\"gridcolor\": \"#506784\", \"linecolor\": \"#506784\", \"ticks\": \"\"}, \"baxis\": {\"gridcolor\": \"#506784\", \"linecolor\": \"#506784\", \"ticks\": \"\"}, \"bgcolor\": \"rgb(17,17,17)\", \"caxis\": {\"gridcolor\": \"#506784\", \"linecolor\": \"#506784\", \"ticks\": \"\"}}, \"title\": {\"x\": 0.05}, \"updatemenudefaults\": {\"bgcolor\": \"#506784\", \"borderwidth\": 0}, \"xaxis\": {\"automargin\": true, \"gridcolor\": \"#283442\", \"linecolor\": \"#506784\", \"ticks\": \"\", \"title\": {\"standoff\": 15}, \"zerolinecolor\": \"#283442\", \"zerolinewidth\": 2}, \"yaxis\": {\"automargin\": true, \"gridcolor\": \"#283442\", \"linecolor\": \"#506784\", \"ticks\": \"\", \"title\": {\"standoff\": 15}, \"zerolinecolor\": \"#283442\", \"zerolinewidth\": 2}}}, \"title\": {\"text\": \"Switzerland vs. Australia - 2015\"}},                        {\"responsive\": true}                    ).then(function(){\n",
       "                            \n",
       "var gd = document.getElementById('02556999-33ca-4166-8347-bae8680da8fb');\n",
       "var x = new MutationObserver(function (mutations, observer) {{\n",
       "        var display = window.getComputedStyle(gd).display;\n",
       "        if (!display || display === 'none') {{\n",
       "            console.log([gd, 'removed!']);\n",
       "            Plotly.purge(gd);\n",
       "            observer.disconnect();\n",
       "        }}\n",
       "}});\n",
       "\n",
       "// Listen for the removal of the full notebook cells\n",
       "var notebookContainer = gd.closest('#notebook-container');\n",
       "if (notebookContainer) {{\n",
       "    x.observe(notebookContainer, {childList: true});\n",
       "}}\n",
       "\n",
       "// Listen for the clearing of the current output cell\n",
       "var outputEl = gd.closest('.output');\n",
       "if (outputEl) {{\n",
       "    x.observe(outputEl, {childList: true});\n",
       "}}\n",
       "\n",
       "                        })                };                });            </script>        </div>"
      ]
     },
     "metadata": {},
     "output_type": "display_data"
    }
   ],
   "source": [
    "fig = go.Figure()\n",
    "   \n",
    "fig.add_trace(go.Scatterpolar(\n",
    "    #plotting top country data for 2015\n",
    "          r=top_data[2015][3:-1],\n",
    "          theta=categories,\n",
    "          fill='toself',\n",
    "          name=f'{country_name[2015]}'\n",
    "    ))\n",
    "fig.add_trace(go.Scatterpolar(\n",
    "    #plotting autrlaia data for 2015\n",
    "          r=aus_data[2015][0][3:-1],\n",
    "          theta=categories,\n",
    "          fill='toself',\n",
    "          name='Australia'\n",
    "    ))\n",
    "\n",
    "fig.update_layout(\n",
    "      polar=dict(\n",
    "        radialaxis=dict(\n",
    "          visible=True,\n",
    "          \n",
    "          range=[0, 2]\n",
    "        )),\n",
    "       title=f\"{country_name[2015]} vs. Australia - 2015\",\n",
    "      showlegend=True\n",
    "    )\n",
    "\n",
    "fig.show()\n",
    "\n"
   ]
  },
  {
   "cell_type": "markdown",
   "metadata": {},
   "source": [
    "### True Factor Graph"
   ]
  },
  {
   "cell_type": "code",
   "execution_count": 96,
   "metadata": {
    "ExecuteTime": {
     "end_time": "2020-10-24T03:38:22.269280Z",
     "start_time": "2020-10-24T03:38:22.239276Z"
    }
   },
   "outputs": [],
   "source": [
    "#fill True Factor column by finding the max value from the database\n",
    "df_concat['True_Factor']=df_concat.loc[:,['Economy_(GDP_per_Capita)','Family','Health_(Life_Expectancy)','Freedom','Trust_(Government_Corruption)','Generosity']].idxmax(axis=1)"
   ]
  },
  {
   "cell_type": "code",
   "execution_count": 98,
   "metadata": {
    "ExecuteTime": {
     "end_time": "2020-10-24T03:38:31.273675Z",
     "start_time": "2020-10-24T03:38:30.496441Z"
    }
   },
   "outputs": [
    {
     "data": {
      "application/vnd.plotly.v1+json": {
       "config": {
        "plotlyServerURL": "https://plot.ly"
       },
       "data": [
        {
         "colorscale": [
          [
           0,
           "#636efa"
          ],
          [
           1,
           "#636efa"
          ]
         ],
         "geo": "geo",
         "hovertemplate": "True Factor=Economy_(GDP_per_Capita)<br>year=2015<br>Country=%{location}<extra></extra>",
         "locationmode": "country names",
         "locations": [
          "Switzerland",
          "Greece",
          "Albania",
          "Lebanon",
          "Tunisia",
          "Iran",
          "Gabon",
          "Sweden",
          "Austria",
          "Singapore",
          "Australia",
          "Israel",
          "Mexico",
          "Germany",
          "United Arab Emirates",
          "Belgium",
          "Norway",
          "United States",
          "India",
          "Netherlands",
          "Canada",
          "Luxembourg",
          "Oman",
          "Iraq",
          "Montenegro",
          "Romania",
          "Portugal",
          "Pakistan",
          "Latvia",
          "Malaysia",
          "France",
          "Azerbaijan",
          "Congo (Brazzaville)",
          "Libya",
          "North Cyprus",
          "Cyprus",
          "Mauritius",
          "Hong Kong",
          "Turkey",
          "Croatia",
          "Saudi Arabia",
          "Qatar",
          "Morocco",
          "Egypt",
          "Georgia",
          "Kazakhstan",
          "Taiwan",
          "Kuwait",
          "Trinidad and Tobago",
          "Suriname",
          "Japan",
          "South Korea",
          "Bahrain",
          "Italy"
         ],
         "name": "Economy_(GDP_per_Capita)",
         "showlegend": true,
         "showscale": false,
         "type": "choropleth",
         "z": [
          1,
          1,
          1,
          1,
          1,
          1,
          1,
          1,
          1,
          1,
          1,
          1,
          1,
          1,
          1,
          1,
          1,
          1,
          1,
          1,
          1,
          1,
          1,
          1,
          1,
          1,
          1,
          1,
          1,
          1,
          1,
          1,
          1,
          1,
          1,
          1,
          1,
          1,
          1,
          1,
          1,
          1,
          1,
          1,
          1,
          1,
          1,
          1,
          1,
          1,
          1,
          1,
          1,
          1
         ]
        },
        {
         "colorscale": [
          [
           0,
           "#EF553B"
          ],
          [
           1,
           "#EF553B"
          ]
         ],
         "geo": "geo",
         "hovertemplate": "True Factor=Family<br>year=2015<br>Country=%{location}<extra></extra>",
         "locationmode": "country names",
         "locations": [
          "Bosnia and Herzegovina",
          "Lesotho",
          "Dominican Republic",
          "Laos",
          "Mongolia",
          "Swaziland",
          "Honduras",
          "Tajikistan",
          "Palestinian Territories",
          "Ukraine",
          "Hungary",
          "South Africa",
          "Mauritania",
          "Macedonia",
          "Senegal",
          "Niger",
          "Tanzania",
          "Madagascar",
          "Djibouti",
          "Chad",
          "Ivory Coast",
          "Burkina Faso",
          "Rwanda",
          "Armenia",
          "Guinea",
          "Uganda",
          "Ghana",
          "Liberia",
          "Venezuela",
          "New Zealand",
          "Costa Rica",
          "Panama",
          "Denmark",
          "Iceland",
          "United Kingdom",
          "Zimbabwe",
          "Finland",
          "Sudan",
          "Haiti",
          "Congo (Kinshasa)",
          "Nepal",
          "Ethiopia",
          "Sierra Leone",
          "Kenya",
          "Bhutan",
          "Ireland",
          "Brazil",
          "Chile",
          "Comoros",
          "Mali",
          "Jordan",
          "China",
          "Zambia",
          "Serbia",
          "Somaliland region",
          "Poland",
          "Peru",
          "Argentina",
          "Czech Republic",
          "Philippines",
          "Uruguay",
          "Nigeria",
          "Russia",
          "Jamaica",
          "Algeria",
          "Burundi",
          "Kosovo",
          "Estonia",
          "Indonesia",
          "Vietnam",
          "Kyrgyzstan",
          "Turkmenistan",
          "Colombia",
          "Lithuania",
          "Nicaragua",
          "Belarus",
          "Mozambique",
          "Botswana",
          "Slovenia",
          "Sri Lanka",
          "Cameroon",
          "Bulgaria",
          "Yemen",
          "Thailand",
          "Angola",
          "Moldova",
          "Spain",
          "Malta",
          "Paraguay",
          "El Salvador",
          "Guatemala",
          "Slovakia",
          "Ecuador",
          "Bolivia",
          "Uzbekistan"
         ],
         "name": "Family",
         "showlegend": true,
         "showscale": false,
         "type": "choropleth",
         "z": [
          1,
          1,
          1,
          1,
          1,
          1,
          1,
          1,
          1,
          1,
          1,
          1,
          1,
          1,
          1,
          1,
          1,
          1,
          1,
          1,
          1,
          1,
          1,
          1,
          1,
          1,
          1,
          1,
          1,
          1,
          1,
          1,
          1,
          1,
          1,
          1,
          1,
          1,
          1,
          1,
          1,
          1,
          1,
          1,
          1,
          1,
          1,
          1,
          1,
          1,
          1,
          1,
          1,
          1,
          1,
          1,
          1,
          1,
          1,
          1,
          1,
          1,
          1,
          1,
          1,
          1,
          1,
          1,
          1,
          1,
          1,
          1,
          1,
          1,
          1,
          1,
          1,
          1,
          1,
          1,
          1,
          1,
          1,
          1,
          1,
          1,
          1,
          1,
          1,
          1,
          1,
          1,
          1,
          1,
          1
         ]
        },
        {
         "colorscale": [
          [
           0,
           "#00cc96"
          ],
          [
           1,
           "#00cc96"
          ]
         ],
         "geo": "geo",
         "hovertemplate": "True Factor=Health_(Life_Expectancy)<br>year=2015<br>Country=%{location}<extra></extra>",
         "locationmode": "country names",
         "locations": [
          "Bangladesh",
          "Syria"
         ],
         "name": "Health_(Life_Expectancy)",
         "showlegend": true,
         "showscale": false,
         "type": "choropleth",
         "z": [
          1,
          1
         ]
        },
        {
         "colorscale": [
          [
           0,
           "#ab63fa"
          ],
          [
           1,
           "#ab63fa"
          ]
         ],
         "geo": "geo",
         "hovertemplate": "True Factor=Freedom<br>year=2015<br>Country=%{location}<extra></extra>",
         "locationmode": "country names",
         "locations": [
          "Cambodia",
          "Central African Republic",
          "Benin",
          "Togo",
          "Malawi"
         ],
         "name": "Freedom",
         "showlegend": true,
         "showscale": false,
         "type": "choropleth",
         "z": [
          1,
          1,
          1,
          1,
          1
         ]
        },
        {
         "colorscale": [
          [
           0,
           "#FFA15A"
          ],
          [
           1,
           "#FFA15A"
          ]
         ],
         "geo": "geo",
         "hovertemplate": "True Factor=Generosity<br>year=2015<br>Country=%{location}<extra></extra>",
         "locationmode": "country names",
         "locations": [
          "Afghanistan",
          "Myanmar"
         ],
         "name": "Generosity",
         "showlegend": true,
         "showscale": false,
         "type": "choropleth",
         "z": [
          1,
          1
         ]
        }
       ],
       "frames": [
        {
         "data": [
          {
           "colorscale": [
            [
             0,
             "#636efa"
            ],
            [
             1,
             "#636efa"
            ]
           ],
           "geo": "geo",
           "hovertemplate": "True Factor=Economy_(GDP_per_Capita)<br>year=2015<br>Country=%{location}<extra></extra>",
           "locationmode": "country names",
           "locations": [
            "Switzerland",
            "Greece",
            "Albania",
            "Lebanon",
            "Tunisia",
            "Iran",
            "Gabon",
            "Sweden",
            "Austria",
            "Singapore",
            "Australia",
            "Israel",
            "Mexico",
            "Germany",
            "United Arab Emirates",
            "Belgium",
            "Norway",
            "United States",
            "India",
            "Netherlands",
            "Canada",
            "Luxembourg",
            "Oman",
            "Iraq",
            "Montenegro",
            "Romania",
            "Portugal",
            "Pakistan",
            "Latvia",
            "Malaysia",
            "France",
            "Azerbaijan",
            "Congo (Brazzaville)",
            "Libya",
            "North Cyprus",
            "Cyprus",
            "Mauritius",
            "Hong Kong",
            "Turkey",
            "Croatia",
            "Saudi Arabia",
            "Qatar",
            "Morocco",
            "Egypt",
            "Georgia",
            "Kazakhstan",
            "Taiwan",
            "Kuwait",
            "Trinidad and Tobago",
            "Suriname",
            "Japan",
            "South Korea",
            "Bahrain",
            "Italy"
           ],
           "name": "Economy_(GDP_per_Capita)",
           "showlegend": true,
           "showscale": false,
           "type": "choropleth",
           "z": [
            1,
            1,
            1,
            1,
            1,
            1,
            1,
            1,
            1,
            1,
            1,
            1,
            1,
            1,
            1,
            1,
            1,
            1,
            1,
            1,
            1,
            1,
            1,
            1,
            1,
            1,
            1,
            1,
            1,
            1,
            1,
            1,
            1,
            1,
            1,
            1,
            1,
            1,
            1,
            1,
            1,
            1,
            1,
            1,
            1,
            1,
            1,
            1,
            1,
            1,
            1,
            1,
            1,
            1
           ]
          },
          {
           "colorscale": [
            [
             0,
             "#EF553B"
            ],
            [
             1,
             "#EF553B"
            ]
           ],
           "geo": "geo",
           "hovertemplate": "True Factor=Family<br>year=2015<br>Country=%{location}<extra></extra>",
           "locationmode": "country names",
           "locations": [
            "Bosnia and Herzegovina",
            "Lesotho",
            "Dominican Republic",
            "Laos",
            "Mongolia",
            "Swaziland",
            "Honduras",
            "Tajikistan",
            "Palestinian Territories",
            "Ukraine",
            "Hungary",
            "South Africa",
            "Mauritania",
            "Macedonia",
            "Senegal",
            "Niger",
            "Tanzania",
            "Madagascar",
            "Djibouti",
            "Chad",
            "Ivory Coast",
            "Burkina Faso",
            "Rwanda",
            "Armenia",
            "Guinea",
            "Uganda",
            "Ghana",
            "Liberia",
            "Venezuela",
            "New Zealand",
            "Costa Rica",
            "Panama",
            "Denmark",
            "Iceland",
            "United Kingdom",
            "Zimbabwe",
            "Finland",
            "Sudan",
            "Haiti",
            "Congo (Kinshasa)",
            "Nepal",
            "Ethiopia",
            "Sierra Leone",
            "Kenya",
            "Bhutan",
            "Ireland",
            "Brazil",
            "Chile",
            "Comoros",
            "Mali",
            "Jordan",
            "China",
            "Zambia",
            "Serbia",
            "Somaliland region",
            "Poland",
            "Peru",
            "Argentina",
            "Czech Republic",
            "Philippines",
            "Uruguay",
            "Nigeria",
            "Russia",
            "Jamaica",
            "Algeria",
            "Burundi",
            "Kosovo",
            "Estonia",
            "Indonesia",
            "Vietnam",
            "Kyrgyzstan",
            "Turkmenistan",
            "Colombia",
            "Lithuania",
            "Nicaragua",
            "Belarus",
            "Mozambique",
            "Botswana",
            "Slovenia",
            "Sri Lanka",
            "Cameroon",
            "Bulgaria",
            "Yemen",
            "Thailand",
            "Angola",
            "Moldova",
            "Spain",
            "Malta",
            "Paraguay",
            "El Salvador",
            "Guatemala",
            "Slovakia",
            "Ecuador",
            "Bolivia",
            "Uzbekistan"
           ],
           "name": "Family",
           "showlegend": true,
           "showscale": false,
           "type": "choropleth",
           "z": [
            1,
            1,
            1,
            1,
            1,
            1,
            1,
            1,
            1,
            1,
            1,
            1,
            1,
            1,
            1,
            1,
            1,
            1,
            1,
            1,
            1,
            1,
            1,
            1,
            1,
            1,
            1,
            1,
            1,
            1,
            1,
            1,
            1,
            1,
            1,
            1,
            1,
            1,
            1,
            1,
            1,
            1,
            1,
            1,
            1,
            1,
            1,
            1,
            1,
            1,
            1,
            1,
            1,
            1,
            1,
            1,
            1,
            1,
            1,
            1,
            1,
            1,
            1,
            1,
            1,
            1,
            1,
            1,
            1,
            1,
            1,
            1,
            1,
            1,
            1,
            1,
            1,
            1,
            1,
            1,
            1,
            1,
            1,
            1,
            1,
            1,
            1,
            1,
            1,
            1,
            1,
            1,
            1,
            1,
            1
           ]
          },
          {
           "colorscale": [
            [
             0,
             "#00cc96"
            ],
            [
             1,
             "#00cc96"
            ]
           ],
           "geo": "geo",
           "hovertemplate": "True Factor=Health_(Life_Expectancy)<br>year=2015<br>Country=%{location}<extra></extra>",
           "locationmode": "country names",
           "locations": [
            "Bangladesh",
            "Syria"
           ],
           "name": "Health_(Life_Expectancy)",
           "showlegend": true,
           "showscale": false,
           "type": "choropleth",
           "z": [
            1,
            1
           ]
          },
          {
           "colorscale": [
            [
             0,
             "#ab63fa"
            ],
            [
             1,
             "#ab63fa"
            ]
           ],
           "geo": "geo",
           "hovertemplate": "True Factor=Freedom<br>year=2015<br>Country=%{location}<extra></extra>",
           "locationmode": "country names",
           "locations": [
            "Cambodia",
            "Central African Republic",
            "Benin",
            "Togo",
            "Malawi"
           ],
           "name": "Freedom",
           "showlegend": true,
           "showscale": false,
           "type": "choropleth",
           "z": [
            1,
            1,
            1,
            1,
            1
           ]
          },
          {
           "colorscale": [
            [
             0,
             "#FFA15A"
            ],
            [
             1,
             "#FFA15A"
            ]
           ],
           "geo": "geo",
           "hovertemplate": "True Factor=Generosity<br>year=2015<br>Country=%{location}<extra></extra>",
           "locationmode": "country names",
           "locations": [
            "Afghanistan",
            "Myanmar"
           ],
           "name": "Generosity",
           "showlegend": true,
           "showscale": false,
           "type": "choropleth",
           "z": [
            1,
            1
           ]
          }
         ],
         "name": "2015"
        },
        {
         "data": [
          {
           "colorscale": [
            [
             0,
             "#636efa"
            ],
            [
             1,
             "#636efa"
            ]
           ],
           "geo": "geo",
           "hovertemplate": "True Factor=Economy_(GDP_per_Capita)<br>year=2016<br>Country=%{location}<extra></extra>",
           "locationmode": "country names",
           "locations": [
            "South Africa",
            "Australia",
            "India",
            "New Zealand",
            "Congo (Brazzaville)",
            "Armenia",
            "Ghana",
            "Netherlands",
            "Georgia",
            "Afghanistan",
            "Egypt",
            "Iraq",
            "Syria",
            "Israel",
            "Namibia",
            "Iran",
            "South Korea",
            "Albania",
            "Sweden",
            "Bangladesh",
            "Bulgaria",
            "Colombia",
            "Poland",
            "Belize",
            "Italy",
            "Kuwait",
            "Argentina",
            "United Arab Emirates",
            "Japan",
            "Thailand",
            "Saudi Arabia",
            "Panama",
            "Russia",
            "Bahrain",
            "Suriname",
            "Sri Lanka",
            "Qatar",
            "Malta",
            "Czech Republic",
            "Taiwan",
            "Trinidad and Tobago",
            "Ecuador",
            "Spain",
            "Uruguay",
            "United Kingdom",
            "El Salvador",
            "Chile",
            "Venezuela",
            "Malaysia",
            "Slovakia",
            "Algeria",
            "France",
            "Mexico",
            "Singapore",
            "Kazakhstan",
            "Denmark",
            "Kosovo",
            "Luxembourg",
            "North Cyprus",
            "Bosnia and Herzegovina",
            "Serbia",
            "Belgium",
            "Greece",
            "Romania",
            "Estonia",
            "Brazil",
            "Croatia",
            "Hong Kong",
            "Latvia",
            "Libya",
            "Cyprus",
            "Austria",
            "Tunisia",
            "Costa Rica",
            "Dominican Republic",
            "Morocco",
            "Slovenia",
            "Ireland",
            "Hungary",
            "Lithuania",
            "Pakistan",
            "Portugal",
            "Belarus",
            "Montenegro",
            "Macedonia",
            "United States",
            "Lebanon",
            "Puerto Rico",
            "Switzerland",
            "Botswana",
            "Norway",
            "Angola",
            "Germany",
            "South Sudan",
            "Canada",
            "Yemen",
            "Iceland",
            "Gabon",
            "Finland",
            "Indonesia",
            "Mauritius",
            "Turkmenistan",
            "Azerbaijan",
            "China",
            "Jordan",
            "Turkey",
            "Laos",
            "Nigeria",
            "Peru"
           ],
           "name": "Economy_(GDP_per_Capita)",
           "showlegend": true,
           "showscale": false,
           "type": "choropleth",
           "z": [
            1,
            1,
            1,
            1,
            1,
            1,
            1,
            1,
            1,
            1,
            1,
            1,
            1,
            1,
            1,
            1,
            1,
            1,
            1,
            1,
            1,
            1,
            1,
            1,
            1,
            1,
            1,
            1,
            1,
            1,
            1,
            1,
            1,
            1,
            1,
            1,
            1,
            1,
            1,
            1,
            1,
            1,
            1,
            1,
            1,
            1,
            1,
            1,
            1,
            1,
            1,
            1,
            1,
            1,
            1,
            1,
            1,
            1,
            1,
            1,
            1,
            1,
            1,
            1,
            1,
            1,
            1,
            1,
            1,
            1,
            1,
            1,
            1,
            1,
            1,
            1,
            1,
            1,
            1,
            1,
            1,
            1,
            1,
            1,
            1,
            1,
            1,
            1,
            1,
            1,
            1,
            1,
            1,
            1,
            1,
            1,
            1,
            1,
            1,
            1,
            1,
            1,
            1,
            1,
            1,
            1,
            1,
            1,
            1
           ]
          },
          {
           "colorscale": [
            [
             0,
             "#EF553B"
            ],
            [
             1,
             "#EF553B"
            ]
           ],
           "geo": "geo",
           "hovertemplate": "True Factor=Family<br>year=2016<br>Country=%{location}<extra></extra>",
           "locationmode": "country names",
           "locations": [
            "Ethiopia",
            "Zimbabwe",
            "Kenya",
            "Ukraine",
            "Congo (Kinshasa)",
            "Cameroon",
            "Zambia",
            "Senegal",
            "Burundi",
            "Uganda",
            "Mauritania",
            "Palestinian Territories",
            "Sierra Leone",
            "Honduras",
            "Moldova",
            "Guatemala",
            "Nicaragua",
            "Uzbekistan",
            "Guinea",
            "Bolivia",
            "Tajikistan",
            "Jamaica",
            "Rwanda",
            "Vietnam",
            "Somaliland Region",
            "Paraguay",
            "Comoros",
            "Ivory Coast",
            "Burkina Faso",
            "Madagascar",
            "Tanzania",
            "Liberia",
            "Chad",
            "Mali",
            "Niger",
            "Mongolia",
            "Philippines",
            "Bhutan",
            "Kyrgyzstan",
            "Nepal",
            "Sudan"
           ],
           "name": "Family",
           "showlegend": true,
           "showscale": false,
           "type": "choropleth",
           "z": [
            1,
            1,
            1,
            1,
            1,
            1,
            1,
            1,
            1,
            1,
            1,
            1,
            1,
            1,
            1,
            1,
            1,
            1,
            1,
            1,
            1,
            1,
            1,
            1,
            1,
            1,
            1,
            1,
            1,
            1,
            1,
            1,
            1,
            1,
            1,
            1,
            1,
            1,
            1,
            1,
            1
           ]
          },
          {
           "colorscale": [
            [
             0,
             "#ab63fa"
            ],
            [
             1,
             "#ab63fa"
            ]
           ],
           "geo": "geo",
           "hovertemplate": "True Factor=Freedom<br>year=2016<br>Country=%{location}<extra></extra>",
           "locationmode": "country names",
           "locations": [
            "Togo",
            "Malawi",
            "Benin",
            "Somalia",
            "Cambodia"
           ],
           "name": "Freedom",
           "showlegend": true,
           "showscale": false,
           "type": "choropleth",
           "z": [
            1,
            1,
            1,
            1,
            1
           ]
          },
          {
           "colorscale": [
            [
             0,
             "#FFA15A"
            ],
            [
             1,
             "#FFA15A"
            ]
           ],
           "geo": "geo",
           "hovertemplate": "True Factor=Generosity<br>year=2016<br>Country=%{location}<extra></extra>",
           "locationmode": "country names",
           "locations": [
            "Myanmar",
            "Haiti"
           ],
           "name": "Generosity",
           "showlegend": true,
           "showscale": false,
           "type": "choropleth",
           "z": [
            1,
            1
           ]
          }
         ],
         "name": "2016"
        },
        {
         "data": [
          {
           "colorscale": [
            [
             0,
             "#636efa"
            ],
            [
             1,
             "#636efa"
            ]
           ],
           "geo": "geo",
           "hovertemplate": "True Factor=Economy_(GDP_per_Capita)<br>year=2017<br>Country=%{location}<extra></extra>",
           "locationmode": "country names",
           "locations": [
            "Switzerland",
            "North Cyprus",
            "Cyprus",
            "Singapore",
            "Pakistan",
            "Iraq",
            "Kuwait",
            "France",
            "South Korea",
            "Hong Kong S.A.R., China",
            "Syria",
            "Norway",
            "Luxembourg",
            "Taiwan Province of China",
            "Croatia",
            "United Arab Emirates",
            "Belgium",
            "Gabon",
            "Qatar",
            "Greece",
            "Morocco",
            "United States",
            "Netherlands",
            "Albania",
            "Romania",
            "Austria",
            "Germany",
            "Georgia",
            "Azerbaijan",
            "Tunisia",
            "Sweden",
            "Saudi Arabia",
            "India",
            "Bahrain",
            "Malaysia",
            "Iran"
           ],
           "name": "Economy_(GDP_per_Capita)",
           "showlegend": true,
           "showscale": false,
           "type": "choropleth",
           "z": [
            1,
            1,
            1,
            1,
            1,
            1,
            1,
            1,
            1,
            1,
            1,
            1,
            1,
            1,
            1,
            1,
            1,
            1,
            1,
            1,
            1,
            1,
            1,
            1,
            1,
            1,
            1,
            1,
            1,
            1,
            1,
            1,
            1,
            1,
            1,
            1
           ]
          },
          {
           "colorscale": [
            [
             0,
             "#EF553B"
            ],
            [
             1,
             "#EF553B"
            ]
           ],
           "geo": "geo",
           "hovertemplate": "True Factor=Family<br>year=2017<br>Country=%{location}<extra></extra>",
           "locationmode": "country names",
           "locations": [
            "Rwanda",
            "Denmark",
            "Serbia",
            "Jordan",
            "Haiti",
            "United Kingdom",
            "Mauritius",
            "Liberia",
            "Estonia",
            "Panama",
            "Togo",
            "Botswana",
            "Argentina",
            "Benin",
            "Belarus",
            "Nepal",
            "Mongolia",
            "Nigeria",
            "Uganda",
            "Turkey",
            "Paraguay",
            "Madagascar",
            "Slovenia",
            "Iceland",
            "Philippines",
            "Lithuania",
            "South Sudan",
            "Zimbabwe",
            "Yemen",
            "Uruguay",
            "Turkmenistan",
            "Hungary",
            "Tanzania",
            "Chile",
            "Angola",
            "Burundi",
            "Niger",
            "Lesotho",
            "Kosovo",
            "Thailand",
            "Brazil",
            "Malta",
            "Russia",
            "Jamaica",
            "Malawi",
            "China",
            "Bolivia",
            "Peru",
            "Algeria",
            "Guatemala",
            "Libya",
            "Kazakhstan",
            "Afghanistan",
            "Latvia",
            "Guinea",
            "Chad",
            "Belize",
            "Japan",
            "Kyrgyzstan",
            "Sri Lanka",
            "Sudan",
            "Ivory Coast",
            "Ukraine",
            "Lebanon",
            "Dominican Republic",
            "Colombia",
            "Montenegro",
            "Uzbekistan",
            "Cambodia",
            "Portugal",
            "Italy",
            "Spain",
            "Ethiopia",
            "Ireland",
            "Bosnia and Herzegovina",
            "Canada",
            "Honduras",
            "Burkina Faso",
            "Finland",
            "Congo (Brazzaville)",
            "Macedonia",
            "Venezuela",
            "Mali",
            "Ghana",
            "Mexico",
            "Poland",
            "Congo (Kinshasa)",
            "Nicaragua",
            "South Africa",
            "Somalia",
            "Vietnam",
            "El Salvador",
            "Indonesia",
            "New Zealand",
            "Tajikistan",
            "Armenia",
            "Czech Republic",
            "Bhutan",
            "Ecuador",
            "Trinidad and Tobago",
            "Costa Rica",
            "Mauritania",
            "Zambia",
            "Bangladesh",
            "Senegal",
            "Myanmar",
            "Egypt",
            "Israel",
            "Mozambique",
            "Slovakia",
            "Kenya",
            "Bulgaria",
            "Palestinian Territories",
            "Namibia",
            "Moldova",
            "Cameroon",
            "Australia",
            "Sierra Leone"
           ],
           "name": "Family",
           "showlegend": true,
           "showscale": false,
           "type": "choropleth",
           "z": [
            1,
            1,
            1,
            1,
            1,
            1,
            1,
            1,
            1,
            1,
            1,
            1,
            1,
            1,
            1,
            1,
            1,
            1,
            1,
            1,
            1,
            1,
            1,
            1,
            1,
            1,
            1,
            1,
            1,
            1,
            1,
            1,
            1,
            1,
            1,
            1,
            1,
            1,
            1,
            1,
            1,
            1,
            1,
            1,
            1,
            1,
            1,
            1,
            1,
            1,
            1,
            1,
            1,
            1,
            1,
            1,
            1,
            1,
            1,
            1,
            1,
            1,
            1,
            1,
            1,
            1,
            1,
            1,
            1,
            1,
            1,
            1,
            1,
            1,
            1,
            1,
            1,
            1,
            1,
            1,
            1,
            1,
            1,
            1,
            1,
            1,
            1,
            1,
            1,
            1,
            1,
            1,
            1,
            1,
            1,
            1,
            1,
            1,
            1,
            1,
            1,
            1,
            1,
            1,
            1,
            1,
            1,
            1,
            1,
            1,
            1,
            1,
            1,
            1,
            1,
            1,
            1,
            1
           ]
          },
          {
           "colorscale": [
            [
             0,
             "#FFA15A"
            ],
            [
             1,
             "#FFA15A"
            ]
           ],
           "geo": "geo",
           "hovertemplate": "True Factor=Generosity<br>year=2017<br>Country=%{location}<extra></extra>",
           "locationmode": "country names",
           "locations": [
            "Central African Republic"
           ],
           "name": "Generosity",
           "showlegend": true,
           "showscale": false,
           "type": "choropleth",
           "z": [
            1
           ]
          }
         ],
         "name": "2017"
        },
        {
         "data": [
          {
           "colorscale": [
            [
             0,
             "#636efa"
            ],
            [
             1,
             "#636efa"
            ]
           ],
           "geo": "geo",
           "hovertemplate": "True Factor=Economy_(GDP_per_Capita)<br>year=2018<br>Country=%{location}<extra></extra>",
           "locationmode": "country names",
           "locations": [
            "Hong Kong",
            "United Arab Emirates",
            "Cyprus",
            "Kuwait",
            "Luxembourg",
            "Northern Cyprus",
            "South Korea",
            "Iran",
            "Georgia",
            "Qatar",
            "Albania",
            "Syria",
            "Iraq",
            "Singapore",
            "Saudi Arabia"
           ],
           "name": "Economy_(GDP_per_Capita)",
           "showlegend": true,
           "showscale": false,
           "type": "choropleth",
           "z": [
            1,
            1,
            1,
            1,
            1,
            1,
            1,
            1,
            1,
            1,
            1,
            1,
            1,
            1,
            1
           ]
          },
          {
           "colorscale": [
            [
             0,
             "#EF553B"
            ],
            [
             1,
             "#EF553B"
            ]
           ],
           "geo": "geo",
           "hovertemplate": "True Factor=Family<br>year=2018<br>Country=%{location}<extra></extra>",
           "locationmode": "country names",
           "locations": [
            "Macedonia",
            "Libya",
            "United States",
            "Tajikistan",
            "Italy",
            "Latvia",
            "China",
            "Israel",
            "Ecuador",
            "Turkmenistan",
            "Jordan",
            "Germany",
            "Moldova",
            "Nigeria",
            "Honduras",
            "Hungary",
            "Azerbaijan",
            "Belarus",
            "Malta",
            "Panama",
            "Romania",
            "Vietnam",
            "Costa Rica",
            "Dominican Republic",
            "Paraguay",
            "Croatia",
            "Ireland",
            "Indonesia",
            "Bhutan",
            "Somalia",
            "Turkey",
            "Japan",
            "Austria",
            "Portugal",
            "Cameroon",
            "Slovenia",
            "Morocco",
            "Estonia",
            "Pakistan",
            "Gabon",
            "Philippines",
            "Bahrain",
            "Belgium",
            "Bolivia",
            "Senegal",
            "Bulgaria",
            "Kazakhstan",
            "Nepal",
            "France",
            "Venezuela",
            "Mauritius",
            "Belize",
            "Lebanon",
            "Ghana",
            "Czech Republic",
            "Uzbekistan",
            "Russia",
            "Palestinian Territories",
            "Montenegro",
            "Greece",
            "Jamaica",
            "Lithuania",
            "Poland",
            "Mexico",
            "United Kingdom",
            "Ivory Coast",
            "Serbia",
            "South Africa",
            "Peru",
            "Algeria",
            "Bosnia and Herzegovina",
            "Congo (Brazzaville)",
            "Brazil",
            "El Salvador",
            "Tanzania",
            "Niger",
            "Haiti",
            "Mongolia",
            "Netherlands",
            "Malaysia",
            "Armenia",
            "Myanmar",
            "Chad",
            "Togo",
            "Ethiopia",
            "Guinea",
            "Ukraine",
            "South Sudan",
            "Liberia",
            "Finland",
            "Tunisia",
            "Burundi",
            "Laos",
            "Norway",
            "Slovakia",
            "Argentina",
            "Rwanda",
            "Australia",
            "Bangladesh",
            "Sweden",
            "Yemen",
            "Sri Lanka",
            "Congo (Kinshasa)",
            "Sierra Leone",
            "Chile",
            "Canada",
            "Guatemala",
            "Mozambique",
            "Afghanistan",
            "Colombia",
            "Zimbabwe",
            "Uruguay",
            "Egypt",
            "Madagascar",
            "Mauritania",
            "Taiwan",
            "Nicaragua",
            "Kyrgyzstan",
            "Thailand",
            "Kosovo",
            "Zambia",
            "New Zealand",
            "Kenya",
            "Burkina Faso",
            "Denmark",
            "Switzerland",
            "India",
            "Uganda",
            "Iceland",
            "Spain",
            "Sudan",
            "Angola",
            "Mali",
            "Trinidad & Tobago",
            "Namibia",
            "Malawi",
            "Cambodia",
            "Botswana",
            "Lesotho"
           ],
           "name": "Family",
           "showlegend": true,
           "showscale": false,
           "type": "choropleth",
           "z": [
            1,
            1,
            1,
            1,
            1,
            1,
            1,
            1,
            1,
            1,
            1,
            1,
            1,
            1,
            1,
            1,
            1,
            1,
            1,
            1,
            1,
            1,
            1,
            1,
            1,
            1,
            1,
            1,
            1,
            1,
            1,
            1,
            1,
            1,
            1,
            1,
            1,
            1,
            1,
            1,
            1,
            1,
            1,
            1,
            1,
            1,
            1,
            1,
            1,
            1,
            1,
            1,
            1,
            1,
            1,
            1,
            1,
            1,
            1,
            1,
            1,
            1,
            1,
            1,
            1,
            1,
            1,
            1,
            1,
            1,
            1,
            1,
            1,
            1,
            1,
            1,
            1,
            1,
            1,
            1,
            1,
            1,
            1,
            1,
            1,
            1,
            1,
            1,
            1,
            1,
            1,
            1,
            1,
            1,
            1,
            1,
            1,
            1,
            1,
            1,
            1,
            1,
            1,
            1,
            1,
            1,
            1,
            1,
            1,
            1,
            1,
            1,
            1,
            1,
            1,
            1,
            1,
            1,
            1,
            1,
            1,
            1,
            1,
            1,
            1,
            1,
            1,
            1,
            1,
            1,
            1,
            1,
            1,
            1,
            1,
            1,
            1,
            1,
            1
           ]
          },
          {
           "colorscale": [
            [
             0,
             "#ab63fa"
            ],
            [
             1,
             "#ab63fa"
            ]
           ],
           "geo": "geo",
           "hovertemplate": "True Factor=Freedom<br>year=2018<br>Country=%{location}<extra></extra>",
           "locationmode": "country names",
           "locations": [
            "Central African Republic",
            "Benin"
           ],
           "name": "Freedom",
           "showlegend": true,
           "showscale": false,
           "type": "choropleth",
           "z": [
            1,
            1
           ]
          }
         ],
         "name": "2018"
        },
        {
         "data": [
          {
           "colorscale": [
            [
             0,
             "#636efa"
            ],
            [
             1,
             "#636efa"
            ]
           ],
           "geo": "geo",
           "hovertemplate": "True Factor=Economy_(GDP_per_Capita)<br>year=2019<br>Country=%{location}<extra></extra>",
           "locationmode": "country names",
           "locations": [
            "Kuwait",
            "Iran",
            "Singapore",
            "Iraq",
            "Morocco",
            "Luxembourg",
            "Greece",
            "Cyprus",
            "Malaysia",
            "Saudi Arabia",
            "Hong Kong",
            "United Arab Emirates",
            "Qatar",
            "Georgia",
            "Syria",
            "Northern Cyprus",
            "South Korea",
            "Albania"
           ],
           "name": "Economy_(GDP_per_Capita)",
           "showlegend": true,
           "showscale": false,
           "type": "choropleth",
           "z": [
            1,
            1,
            1,
            1,
            1,
            1,
            1,
            1,
            1,
            1,
            1,
            1,
            1,
            1,
            1,
            1,
            1,
            1
           ]
          },
          {
           "colorscale": [
            [
             0,
             "#EF553B"
            ],
            [
             1,
             "#EF553B"
            ]
           ],
           "geo": "geo",
           "hovertemplate": "True Factor=Family<br>year=2019<br>Country=%{location}<extra></extra>",
           "locationmode": "country names",
           "locations": [
            "Canada",
            "Colombia",
            "Niger",
            "Congo (Brazzaville)",
            "Benin",
            "Burkina Faso",
            "Armenia",
            "Indonesia",
            "China",
            "North Macedonia",
            "Malta",
            "Chad",
            "Mongolia",
            "Gabon",
            "Australia",
            "Laos",
            "Bahrain",
            "Taiwan",
            "Mauritania",
            "Vietnam",
            "Mozambique",
            "Costa Rica",
            "Jordan",
            "Trinidad & Tobago",
            "Namibia",
            "Palestinian Territories",
            "France",
            "Lithuania",
            "Senegal",
            "Somalia",
            "Poland",
            "Austria",
            "South Africa",
            "Venezuela",
            "Uzbekistan",
            "Sri Lanka",
            "Italy",
            "Azerbaijan",
            "Kosovo",
            "Tunisia",
            "Congo (Kinshasa)",
            "Algeria",
            "Argentina",
            "Sierra Leone",
            "Turkmenistan",
            "Switzerland",
            "Romania",
            "United Kingdom",
            "Kenya",
            "Mali",
            "Lebanon",
            "Bangladesh",
            "Ethiopia",
            "Belarus",
            "Swaziland",
            "Ecuador",
            "Netherlands",
            "Sweden",
            "Turkey",
            "Ireland",
            "Bosnia and Herzegovina",
            "Egypt",
            "Nigeria",
            "Myanmar",
            "Kyrgyzstan",
            "El Salvador",
            "Uganda",
            "Nicaragua",
            "Honduras",
            "Cameroon",
            "Lesotho",
            "Hungary",
            "Yemen",
            "Rwanda",
            "Tanzania",
            "Bolivia",
            "Kazakhstan",
            "Afghanistan",
            "Estonia",
            "Czech Republic",
            "Japan",
            "Jamaica",
            "Guatemala",
            "Cambodia",
            "India",
            "Liberia",
            "Mexico",
            "Montenegro",
            "Libya",
            "Zambia",
            "Tajikistan",
            "Chile",
            "Belgium",
            "Finland",
            "Norway",
            "Croatia",
            "Germany",
            "Panama",
            "Madagascar",
            "Brazil",
            "Togo",
            "Iceland",
            "Comoros",
            "Mauritius",
            "South Sudan",
            "Portugal",
            "Uruguay",
            "Ukraine",
            "Dominican Republic",
            "Nepal",
            "Slovakia",
            "Denmark",
            "Ivory Coast",
            "Slovenia",
            "Ghana",
            "New Zealand",
            "Gambia",
            "Bulgaria",
            "Israel",
            "Guinea",
            "Bhutan",
            "United States",
            "Moldova",
            "Paraguay",
            "Malawi",
            "Thailand",
            "Serbia",
            "Burundi",
            "Philippines",
            "Peru",
            "Zimbabwe",
            "Pakistan",
            "Haiti",
            "Latvia",
            "Spain",
            "Botswana",
            "Russia"
           ],
           "name": "Family",
           "showlegend": true,
           "showscale": false,
           "type": "choropleth",
           "z": [
            1,
            1,
            1,
            1,
            1,
            1,
            1,
            1,
            1,
            1,
            1,
            1,
            1,
            1,
            1,
            1,
            1,
            1,
            1,
            1,
            1,
            1,
            1,
            1,
            1,
            1,
            1,
            1,
            1,
            1,
            1,
            1,
            1,
            1,
            1,
            1,
            1,
            1,
            1,
            1,
            1,
            1,
            1,
            1,
            1,
            1,
            1,
            1,
            1,
            1,
            1,
            1,
            1,
            1,
            1,
            1,
            1,
            1,
            1,
            1,
            1,
            1,
            1,
            1,
            1,
            1,
            1,
            1,
            1,
            1,
            1,
            1,
            1,
            1,
            1,
            1,
            1,
            1,
            1,
            1,
            1,
            1,
            1,
            1,
            1,
            1,
            1,
            1,
            1,
            1,
            1,
            1,
            1,
            1,
            1,
            1,
            1,
            1,
            1,
            1,
            1,
            1,
            1,
            1,
            1,
            1,
            1,
            1,
            1,
            1,
            1,
            1,
            1,
            1,
            1,
            1,
            1,
            1,
            1,
            1,
            1,
            1,
            1,
            1,
            1,
            1,
            1,
            1,
            1,
            1,
            1,
            1,
            1,
            1,
            1,
            1,
            1
           ]
          },
          {
           "colorscale": [
            [
             0,
             "#FFA15A"
            ],
            [
             1,
             "#FFA15A"
            ]
           ],
           "geo": "geo",
           "hovertemplate": "True Factor=Generosity<br>year=2019<br>Country=%{location}<extra></extra>",
           "locationmode": "country names",
           "locations": [
            "Central African Republic"
           ],
           "name": "Generosity",
           "showlegend": true,
           "showscale": false,
           "type": "choropleth",
           "z": [
            1
           ]
          }
         ],
         "name": "2019"
        }
       ],
       "layout": {
        "geo": {
         "center": {},
         "domain": {
          "x": [
           0,
           1
          ],
          "y": [
           0,
           1
          ]
         },
         "scope": "world"
        },
        "legend": {
         "title": {
          "text": "True Factor"
         },
         "tracegroupgap": 0
        },
        "margin": {
         "t": 60
        },
        "sliders": [
         {
          "active": 0,
          "currentvalue": {
           "prefix": "year="
          },
          "len": 0.9,
          "pad": {
           "b": 10,
           "t": 60
          },
          "steps": [
           {
            "args": [
             [
              "2015"
             ],
             {
              "frame": {
               "duration": 0,
               "redraw": true
              },
              "fromcurrent": true,
              "mode": "immediate",
              "transition": {
               "duration": 0,
               "easing": "linear"
              }
             }
            ],
            "label": "2015",
            "method": "animate"
           },
           {
            "args": [
             [
              "2016"
             ],
             {
              "frame": {
               "duration": 0,
               "redraw": true
              },
              "fromcurrent": true,
              "mode": "immediate",
              "transition": {
               "duration": 0,
               "easing": "linear"
              }
             }
            ],
            "label": "2016",
            "method": "animate"
           },
           {
            "args": [
             [
              "2017"
             ],
             {
              "frame": {
               "duration": 0,
               "redraw": true
              },
              "fromcurrent": true,
              "mode": "immediate",
              "transition": {
               "duration": 0,
               "easing": "linear"
              }
             }
            ],
            "label": "2017",
            "method": "animate"
           },
           {
            "args": [
             [
              "2018"
             ],
             {
              "frame": {
               "duration": 0,
               "redraw": true
              },
              "fromcurrent": true,
              "mode": "immediate",
              "transition": {
               "duration": 0,
               "easing": "linear"
              }
             }
            ],
            "label": "2018",
            "method": "animate"
           },
           {
            "args": [
             [
              "2019"
             ],
             {
              "frame": {
               "duration": 0,
               "redraw": true
              },
              "fromcurrent": true,
              "mode": "immediate",
              "transition": {
               "duration": 0,
               "easing": "linear"
              }
             }
            ],
            "label": "2019",
            "method": "animate"
           }
          ],
          "x": 0.1,
          "xanchor": "left",
          "y": 0,
          "yanchor": "top"
         }
        ],
        "template": {
         "data": {
          "bar": [
           {
            "error_x": {
             "color": "#f2f5fa"
            },
            "error_y": {
             "color": "#f2f5fa"
            },
            "marker": {
             "line": {
              "color": "rgb(17,17,17)",
              "width": 0.5
             }
            },
            "type": "bar"
           }
          ],
          "barpolar": [
           {
            "marker": {
             "line": {
              "color": "rgb(17,17,17)",
              "width": 0.5
             }
            },
            "type": "barpolar"
           }
          ],
          "carpet": [
           {
            "aaxis": {
             "endlinecolor": "#A2B1C6",
             "gridcolor": "#506784",
             "linecolor": "#506784",
             "minorgridcolor": "#506784",
             "startlinecolor": "#A2B1C6"
            },
            "baxis": {
             "endlinecolor": "#A2B1C6",
             "gridcolor": "#506784",
             "linecolor": "#506784",
             "minorgridcolor": "#506784",
             "startlinecolor": "#A2B1C6"
            },
            "type": "carpet"
           }
          ],
          "choropleth": [
           {
            "colorbar": {
             "outlinewidth": 0,
             "ticks": ""
            },
            "type": "choropleth"
           }
          ],
          "contour": [
           {
            "colorbar": {
             "outlinewidth": 0,
             "ticks": ""
            },
            "colorscale": [
             [
              0,
              "#0d0887"
             ],
             [
              0.1111111111111111,
              "#46039f"
             ],
             [
              0.2222222222222222,
              "#7201a8"
             ],
             [
              0.3333333333333333,
              "#9c179e"
             ],
             [
              0.4444444444444444,
              "#bd3786"
             ],
             [
              0.5555555555555556,
              "#d8576b"
             ],
             [
              0.6666666666666666,
              "#ed7953"
             ],
             [
              0.7777777777777778,
              "#fb9f3a"
             ],
             [
              0.8888888888888888,
              "#fdca26"
             ],
             [
              1,
              "#f0f921"
             ]
            ],
            "type": "contour"
           }
          ],
          "contourcarpet": [
           {
            "colorbar": {
             "outlinewidth": 0,
             "ticks": ""
            },
            "type": "contourcarpet"
           }
          ],
          "heatmap": [
           {
            "colorbar": {
             "outlinewidth": 0,
             "ticks": ""
            },
            "colorscale": [
             [
              0,
              "#0d0887"
             ],
             [
              0.1111111111111111,
              "#46039f"
             ],
             [
              0.2222222222222222,
              "#7201a8"
             ],
             [
              0.3333333333333333,
              "#9c179e"
             ],
             [
              0.4444444444444444,
              "#bd3786"
             ],
             [
              0.5555555555555556,
              "#d8576b"
             ],
             [
              0.6666666666666666,
              "#ed7953"
             ],
             [
              0.7777777777777778,
              "#fb9f3a"
             ],
             [
              0.8888888888888888,
              "#fdca26"
             ],
             [
              1,
              "#f0f921"
             ]
            ],
            "type": "heatmap"
           }
          ],
          "heatmapgl": [
           {
            "colorbar": {
             "outlinewidth": 0,
             "ticks": ""
            },
            "colorscale": [
             [
              0,
              "#0d0887"
             ],
             [
              0.1111111111111111,
              "#46039f"
             ],
             [
              0.2222222222222222,
              "#7201a8"
             ],
             [
              0.3333333333333333,
              "#9c179e"
             ],
             [
              0.4444444444444444,
              "#bd3786"
             ],
             [
              0.5555555555555556,
              "#d8576b"
             ],
             [
              0.6666666666666666,
              "#ed7953"
             ],
             [
              0.7777777777777778,
              "#fb9f3a"
             ],
             [
              0.8888888888888888,
              "#fdca26"
             ],
             [
              1,
              "#f0f921"
             ]
            ],
            "type": "heatmapgl"
           }
          ],
          "histogram": [
           {
            "marker": {
             "colorbar": {
              "outlinewidth": 0,
              "ticks": ""
             }
            },
            "type": "histogram"
           }
          ],
          "histogram2d": [
           {
            "colorbar": {
             "outlinewidth": 0,
             "ticks": ""
            },
            "colorscale": [
             [
              0,
              "#0d0887"
             ],
             [
              0.1111111111111111,
              "#46039f"
             ],
             [
              0.2222222222222222,
              "#7201a8"
             ],
             [
              0.3333333333333333,
              "#9c179e"
             ],
             [
              0.4444444444444444,
              "#bd3786"
             ],
             [
              0.5555555555555556,
              "#d8576b"
             ],
             [
              0.6666666666666666,
              "#ed7953"
             ],
             [
              0.7777777777777778,
              "#fb9f3a"
             ],
             [
              0.8888888888888888,
              "#fdca26"
             ],
             [
              1,
              "#f0f921"
             ]
            ],
            "type": "histogram2d"
           }
          ],
          "histogram2dcontour": [
           {
            "colorbar": {
             "outlinewidth": 0,
             "ticks": ""
            },
            "colorscale": [
             [
              0,
              "#0d0887"
             ],
             [
              0.1111111111111111,
              "#46039f"
             ],
             [
              0.2222222222222222,
              "#7201a8"
             ],
             [
              0.3333333333333333,
              "#9c179e"
             ],
             [
              0.4444444444444444,
              "#bd3786"
             ],
             [
              0.5555555555555556,
              "#d8576b"
             ],
             [
              0.6666666666666666,
              "#ed7953"
             ],
             [
              0.7777777777777778,
              "#fb9f3a"
             ],
             [
              0.8888888888888888,
              "#fdca26"
             ],
             [
              1,
              "#f0f921"
             ]
            ],
            "type": "histogram2dcontour"
           }
          ],
          "mesh3d": [
           {
            "colorbar": {
             "outlinewidth": 0,
             "ticks": ""
            },
            "type": "mesh3d"
           }
          ],
          "parcoords": [
           {
            "line": {
             "colorbar": {
              "outlinewidth": 0,
              "ticks": ""
             }
            },
            "type": "parcoords"
           }
          ],
          "pie": [
           {
            "automargin": true,
            "type": "pie"
           }
          ],
          "scatter": [
           {
            "marker": {
             "line": {
              "color": "#283442"
             }
            },
            "type": "scatter"
           }
          ],
          "scatter3d": [
           {
            "line": {
             "colorbar": {
              "outlinewidth": 0,
              "ticks": ""
             }
            },
            "marker": {
             "colorbar": {
              "outlinewidth": 0,
              "ticks": ""
             }
            },
            "type": "scatter3d"
           }
          ],
          "scattercarpet": [
           {
            "marker": {
             "colorbar": {
              "outlinewidth": 0,
              "ticks": ""
             }
            },
            "type": "scattercarpet"
           }
          ],
          "scattergeo": [
           {
            "marker": {
             "colorbar": {
              "outlinewidth": 0,
              "ticks": ""
             }
            },
            "type": "scattergeo"
           }
          ],
          "scattergl": [
           {
            "marker": {
             "line": {
              "color": "#283442"
             }
            },
            "type": "scattergl"
           }
          ],
          "scattermapbox": [
           {
            "marker": {
             "colorbar": {
              "outlinewidth": 0,
              "ticks": ""
             }
            },
            "type": "scattermapbox"
           }
          ],
          "scatterpolar": [
           {
            "marker": {
             "colorbar": {
              "outlinewidth": 0,
              "ticks": ""
             }
            },
            "type": "scatterpolar"
           }
          ],
          "scatterpolargl": [
           {
            "marker": {
             "colorbar": {
              "outlinewidth": 0,
              "ticks": ""
             }
            },
            "type": "scatterpolargl"
           }
          ],
          "scatterternary": [
           {
            "marker": {
             "colorbar": {
              "outlinewidth": 0,
              "ticks": ""
             }
            },
            "type": "scatterternary"
           }
          ],
          "surface": [
           {
            "colorbar": {
             "outlinewidth": 0,
             "ticks": ""
            },
            "colorscale": [
             [
              0,
              "#0d0887"
             ],
             [
              0.1111111111111111,
              "#46039f"
             ],
             [
              0.2222222222222222,
              "#7201a8"
             ],
             [
              0.3333333333333333,
              "#9c179e"
             ],
             [
              0.4444444444444444,
              "#bd3786"
             ],
             [
              0.5555555555555556,
              "#d8576b"
             ],
             [
              0.6666666666666666,
              "#ed7953"
             ],
             [
              0.7777777777777778,
              "#fb9f3a"
             ],
             [
              0.8888888888888888,
              "#fdca26"
             ],
             [
              1,
              "#f0f921"
             ]
            ],
            "type": "surface"
           }
          ],
          "table": [
           {
            "cells": {
             "fill": {
              "color": "#506784"
             },
             "line": {
              "color": "rgb(17,17,17)"
             }
            },
            "header": {
             "fill": {
              "color": "#2a3f5f"
             },
             "line": {
              "color": "rgb(17,17,17)"
             }
            },
            "type": "table"
           }
          ]
         },
         "layout": {
          "annotationdefaults": {
           "arrowcolor": "#f2f5fa",
           "arrowhead": 0,
           "arrowwidth": 1
          },
          "coloraxis": {
           "colorbar": {
            "outlinewidth": 0,
            "ticks": ""
           }
          },
          "colorscale": {
           "diverging": [
            [
             0,
             "#8e0152"
            ],
            [
             0.1,
             "#c51b7d"
            ],
            [
             0.2,
             "#de77ae"
            ],
            [
             0.3,
             "#f1b6da"
            ],
            [
             0.4,
             "#fde0ef"
            ],
            [
             0.5,
             "#f7f7f7"
            ],
            [
             0.6,
             "#e6f5d0"
            ],
            [
             0.7,
             "#b8e186"
            ],
            [
             0.8,
             "#7fbc41"
            ],
            [
             0.9,
             "#4d9221"
            ],
            [
             1,
             "#276419"
            ]
           ],
           "sequential": [
            [
             0,
             "#0d0887"
            ],
            [
             0.1111111111111111,
             "#46039f"
            ],
            [
             0.2222222222222222,
             "#7201a8"
            ],
            [
             0.3333333333333333,
             "#9c179e"
            ],
            [
             0.4444444444444444,
             "#bd3786"
            ],
            [
             0.5555555555555556,
             "#d8576b"
            ],
            [
             0.6666666666666666,
             "#ed7953"
            ],
            [
             0.7777777777777778,
             "#fb9f3a"
            ],
            [
             0.8888888888888888,
             "#fdca26"
            ],
            [
             1,
             "#f0f921"
            ]
           ],
           "sequentialminus": [
            [
             0,
             "#0d0887"
            ],
            [
             0.1111111111111111,
             "#46039f"
            ],
            [
             0.2222222222222222,
             "#7201a8"
            ],
            [
             0.3333333333333333,
             "#9c179e"
            ],
            [
             0.4444444444444444,
             "#bd3786"
            ],
            [
             0.5555555555555556,
             "#d8576b"
            ],
            [
             0.6666666666666666,
             "#ed7953"
            ],
            [
             0.7777777777777778,
             "#fb9f3a"
            ],
            [
             0.8888888888888888,
             "#fdca26"
            ],
            [
             1,
             "#f0f921"
            ]
           ]
          },
          "colorway": [
           "#636efa",
           "#EF553B",
           "#00cc96",
           "#ab63fa",
           "#FFA15A",
           "#19d3f3",
           "#FF6692",
           "#B6E880",
           "#FF97FF",
           "#FECB52"
          ],
          "font": {
           "color": "#f2f5fa"
          },
          "geo": {
           "bgcolor": "rgb(17,17,17)",
           "lakecolor": "rgb(17,17,17)",
           "landcolor": "rgb(17,17,17)",
           "showlakes": true,
           "showland": true,
           "subunitcolor": "#506784"
          },
          "hoverlabel": {
           "align": "left"
          },
          "hovermode": "closest",
          "mapbox": {
           "style": "dark"
          },
          "paper_bgcolor": "rgb(17,17,17)",
          "plot_bgcolor": "rgb(17,17,17)",
          "polar": {
           "angularaxis": {
            "gridcolor": "#506784",
            "linecolor": "#506784",
            "ticks": ""
           },
           "bgcolor": "rgb(17,17,17)",
           "radialaxis": {
            "gridcolor": "#506784",
            "linecolor": "#506784",
            "ticks": ""
           }
          },
          "scene": {
           "xaxis": {
            "backgroundcolor": "rgb(17,17,17)",
            "gridcolor": "#506784",
            "gridwidth": 2,
            "linecolor": "#506784",
            "showbackground": true,
            "ticks": "",
            "zerolinecolor": "#C8D4E3"
           },
           "yaxis": {
            "backgroundcolor": "rgb(17,17,17)",
            "gridcolor": "#506784",
            "gridwidth": 2,
            "linecolor": "#506784",
            "showbackground": true,
            "ticks": "",
            "zerolinecolor": "#C8D4E3"
           },
           "zaxis": {
            "backgroundcolor": "rgb(17,17,17)",
            "gridcolor": "#506784",
            "gridwidth": 2,
            "linecolor": "#506784",
            "showbackground": true,
            "ticks": "",
            "zerolinecolor": "#C8D4E3"
           }
          },
          "shapedefaults": {
           "line": {
            "color": "#f2f5fa"
           }
          },
          "sliderdefaults": {
           "bgcolor": "#C8D4E3",
           "bordercolor": "rgb(17,17,17)",
           "borderwidth": 1,
           "tickwidth": 0
          },
          "ternary": {
           "aaxis": {
            "gridcolor": "#506784",
            "linecolor": "#506784",
            "ticks": ""
           },
           "baxis": {
            "gridcolor": "#506784",
            "linecolor": "#506784",
            "ticks": ""
           },
           "bgcolor": "rgb(17,17,17)",
           "caxis": {
            "gridcolor": "#506784",
            "linecolor": "#506784",
            "ticks": ""
           }
          },
          "title": {
           "x": 0.05
          },
          "updatemenudefaults": {
           "bgcolor": "#506784",
           "borderwidth": 0
          },
          "xaxis": {
           "automargin": true,
           "gridcolor": "#283442",
           "linecolor": "#506784",
           "ticks": "",
           "title": {
            "standoff": 15
           },
           "zerolinecolor": "#283442",
           "zerolinewidth": 2
          },
          "yaxis": {
           "automargin": true,
           "gridcolor": "#283442",
           "linecolor": "#506784",
           "ticks": "",
           "title": {
            "standoff": 15
           },
           "zerolinecolor": "#283442",
           "zerolinewidth": 2
          }
         }
        },
        "updatemenus": [
         {
          "buttons": [
           {
            "args": [
             null,
             {
              "frame": {
               "duration": 500,
               "redraw": true
              },
              "fromcurrent": true,
              "mode": "immediate",
              "transition": {
               "duration": 500,
               "easing": "linear"
              }
             }
            ],
            "label": "&#9654;",
            "method": "animate"
           },
           {
            "args": [
             [
              null
             ],
             {
              "frame": {
               "duration": 0,
               "redraw": true
              },
              "fromcurrent": true,
              "mode": "immediate",
              "transition": {
               "duration": 0,
               "easing": "linear"
              }
             }
            ],
            "label": "&#9724;",
            "method": "animate"
           }
          ],
          "direction": "left",
          "pad": {
           "r": 10,
           "t": 70
          },
          "showactive": false,
          "type": "buttons",
          "x": 0.1,
          "xanchor": "right",
          "y": 0,
          "yanchor": "top"
         }
        ]
       }
      },
      "text/html": [
       "<div>                            <div id=\"c576a230-95bf-4ec4-bf17-b018f7d20366\" class=\"plotly-graph-div\" style=\"height:525px; width:100%;\"></div>            <script type=\"text/javascript\">                require([\"plotly\"], function(Plotly) {                    window.PLOTLYENV=window.PLOTLYENV || {};                                    if (document.getElementById(\"c576a230-95bf-4ec4-bf17-b018f7d20366\")) {                    Plotly.newPlot(                        \"c576a230-95bf-4ec4-bf17-b018f7d20366\",                        [{\"colorscale\": [[0.0, \"#636efa\"], [1.0, \"#636efa\"]], \"geo\": \"geo\", \"hovertemplate\": \"True Factor=Economy_(GDP_per_Capita)<br>year=2015<br>Country=%{location}<extra></extra>\", \"locationmode\": \"country names\", \"locations\": [\"Switzerland\", \"Greece\", \"Albania\", \"Lebanon\", \"Tunisia\", \"Iran\", \"Gabon\", \"Sweden\", \"Austria\", \"Singapore\", \"Australia\", \"Israel\", \"Mexico\", \"Germany\", \"United Arab Emirates\", \"Belgium\", \"Norway\", \"United States\", \"India\", \"Netherlands\", \"Canada\", \"Luxembourg\", \"Oman\", \"Iraq\", \"Montenegro\", \"Romania\", \"Portugal\", \"Pakistan\", \"Latvia\", \"Malaysia\", \"France\", \"Azerbaijan\", \"Congo (Brazzaville)\", \"Libya\", \"North Cyprus\", \"Cyprus\", \"Mauritius\", \"Hong Kong\", \"Turkey\", \"Croatia\", \"Saudi Arabia\", \"Qatar\", \"Morocco\", \"Egypt\", \"Georgia\", \"Kazakhstan\", \"Taiwan\", \"Kuwait\", \"Trinidad and Tobago\", \"Suriname\", \"Japan\", \"South Korea\", \"Bahrain\", \"Italy\"], \"name\": \"Economy_(GDP_per_Capita)\", \"showlegend\": true, \"showscale\": false, \"type\": \"choropleth\", \"z\": [1, 1, 1, 1, 1, 1, 1, 1, 1, 1, 1, 1, 1, 1, 1, 1, 1, 1, 1, 1, 1, 1, 1, 1, 1, 1, 1, 1, 1, 1, 1, 1, 1, 1, 1, 1, 1, 1, 1, 1, 1, 1, 1, 1, 1, 1, 1, 1, 1, 1, 1, 1, 1, 1]}, {\"colorscale\": [[0.0, \"#EF553B\"], [1.0, \"#EF553B\"]], \"geo\": \"geo\", \"hovertemplate\": \"True Factor=Family<br>year=2015<br>Country=%{location}<extra></extra>\", \"locationmode\": \"country names\", \"locations\": [\"Bosnia and Herzegovina\", \"Lesotho\", \"Dominican Republic\", \"Laos\", \"Mongolia\", \"Swaziland\", \"Honduras\", \"Tajikistan\", \"Palestinian Territories\", \"Ukraine\", \"Hungary\", \"South Africa\", \"Mauritania\", \"Macedonia\", \"Senegal\", \"Niger\", \"Tanzania\", \"Madagascar\", \"Djibouti\", \"Chad\", \"Ivory Coast\", \"Burkina Faso\", \"Rwanda\", \"Armenia\", \"Guinea\", \"Uganda\", \"Ghana\", \"Liberia\", \"Venezuela\", \"New Zealand\", \"Costa Rica\", \"Panama\", \"Denmark\", \"Iceland\", \"United Kingdom\", \"Zimbabwe\", \"Finland\", \"Sudan\", \"Haiti\", \"Congo (Kinshasa)\", \"Nepal\", \"Ethiopia\", \"Sierra Leone\", \"Kenya\", \"Bhutan\", \"Ireland\", \"Brazil\", \"Chile\", \"Comoros\", \"Mali\", \"Jordan\", \"China\", \"Zambia\", \"Serbia\", \"Somaliland region\", \"Poland\", \"Peru\", \"Argentina\", \"Czech Republic\", \"Philippines\", \"Uruguay\", \"Nigeria\", \"Russia\", \"Jamaica\", \"Algeria\", \"Burundi\", \"Kosovo\", \"Estonia\", \"Indonesia\", \"Vietnam\", \"Kyrgyzstan\", \"Turkmenistan\", \"Colombia\", \"Lithuania\", \"Nicaragua\", \"Belarus\", \"Mozambique\", \"Botswana\", \"Slovenia\", \"Sri Lanka\", \"Cameroon\", \"Bulgaria\", \"Yemen\", \"Thailand\", \"Angola\", \"Moldova\", \"Spain\", \"Malta\", \"Paraguay\", \"El Salvador\", \"Guatemala\", \"Slovakia\", \"Ecuador\", \"Bolivia\", \"Uzbekistan\"], \"name\": \"Family\", \"showlegend\": true, \"showscale\": false, \"type\": \"choropleth\", \"z\": [1, 1, 1, 1, 1, 1, 1, 1, 1, 1, 1, 1, 1, 1, 1, 1, 1, 1, 1, 1, 1, 1, 1, 1, 1, 1, 1, 1, 1, 1, 1, 1, 1, 1, 1, 1, 1, 1, 1, 1, 1, 1, 1, 1, 1, 1, 1, 1, 1, 1, 1, 1, 1, 1, 1, 1, 1, 1, 1, 1, 1, 1, 1, 1, 1, 1, 1, 1, 1, 1, 1, 1, 1, 1, 1, 1, 1, 1, 1, 1, 1, 1, 1, 1, 1, 1, 1, 1, 1, 1, 1, 1, 1, 1, 1]}, {\"colorscale\": [[0.0, \"#00cc96\"], [1.0, \"#00cc96\"]], \"geo\": \"geo\", \"hovertemplate\": \"True Factor=Health_(Life_Expectancy)<br>year=2015<br>Country=%{location}<extra></extra>\", \"locationmode\": \"country names\", \"locations\": [\"Bangladesh\", \"Syria\"], \"name\": \"Health_(Life_Expectancy)\", \"showlegend\": true, \"showscale\": false, \"type\": \"choropleth\", \"z\": [1, 1]}, {\"colorscale\": [[0.0, \"#ab63fa\"], [1.0, \"#ab63fa\"]], \"geo\": \"geo\", \"hovertemplate\": \"True Factor=Freedom<br>year=2015<br>Country=%{location}<extra></extra>\", \"locationmode\": \"country names\", \"locations\": [\"Cambodia\", \"Central African Republic\", \"Benin\", \"Togo\", \"Malawi\"], \"name\": \"Freedom\", \"showlegend\": true, \"showscale\": false, \"type\": \"choropleth\", \"z\": [1, 1, 1, 1, 1]}, {\"colorscale\": [[0.0, \"#FFA15A\"], [1.0, \"#FFA15A\"]], \"geo\": \"geo\", \"hovertemplate\": \"True Factor=Generosity<br>year=2015<br>Country=%{location}<extra></extra>\", \"locationmode\": \"country names\", \"locations\": [\"Afghanistan\", \"Myanmar\"], \"name\": \"Generosity\", \"showlegend\": true, \"showscale\": false, \"type\": \"choropleth\", \"z\": [1, 1]}],                        {\"geo\": {\"center\": {}, \"domain\": {\"x\": [0.0, 1.0], \"y\": [0.0, 1.0]}, \"scope\": \"world\"}, \"legend\": {\"title\": {\"text\": \"True Factor\"}, \"tracegroupgap\": 0}, \"margin\": {\"t\": 60}, \"sliders\": [{\"active\": 0, \"currentvalue\": {\"prefix\": \"year=\"}, \"len\": 0.9, \"pad\": {\"b\": 10, \"t\": 60}, \"steps\": [{\"args\": [[\"2015\"], {\"frame\": {\"duration\": 0, \"redraw\": true}, \"fromcurrent\": true, \"mode\": \"immediate\", \"transition\": {\"duration\": 0, \"easing\": \"linear\"}}], \"label\": \"2015\", \"method\": \"animate\"}, {\"args\": [[\"2016\"], {\"frame\": {\"duration\": 0, \"redraw\": true}, \"fromcurrent\": true, \"mode\": \"immediate\", \"transition\": {\"duration\": 0, \"easing\": \"linear\"}}], \"label\": \"2016\", \"method\": \"animate\"}, {\"args\": [[\"2017\"], {\"frame\": {\"duration\": 0, \"redraw\": true}, \"fromcurrent\": true, \"mode\": \"immediate\", \"transition\": {\"duration\": 0, \"easing\": \"linear\"}}], \"label\": \"2017\", \"method\": \"animate\"}, {\"args\": [[\"2018\"], {\"frame\": {\"duration\": 0, \"redraw\": true}, \"fromcurrent\": true, \"mode\": \"immediate\", \"transition\": {\"duration\": 0, \"easing\": \"linear\"}}], \"label\": \"2018\", \"method\": \"animate\"}, {\"args\": [[\"2019\"], {\"frame\": {\"duration\": 0, \"redraw\": true}, \"fromcurrent\": true, \"mode\": \"immediate\", \"transition\": {\"duration\": 0, \"easing\": \"linear\"}}], \"label\": \"2019\", \"method\": \"animate\"}], \"x\": 0.1, \"xanchor\": \"left\", \"y\": 0, \"yanchor\": \"top\"}], \"template\": {\"data\": {\"bar\": [{\"error_x\": {\"color\": \"#f2f5fa\"}, \"error_y\": {\"color\": \"#f2f5fa\"}, \"marker\": {\"line\": {\"color\": \"rgb(17,17,17)\", \"width\": 0.5}}, \"type\": \"bar\"}], \"barpolar\": [{\"marker\": {\"line\": {\"color\": \"rgb(17,17,17)\", \"width\": 0.5}}, \"type\": \"barpolar\"}], \"carpet\": [{\"aaxis\": {\"endlinecolor\": \"#A2B1C6\", \"gridcolor\": \"#506784\", \"linecolor\": \"#506784\", \"minorgridcolor\": \"#506784\", \"startlinecolor\": \"#A2B1C6\"}, \"baxis\": {\"endlinecolor\": \"#A2B1C6\", \"gridcolor\": \"#506784\", \"linecolor\": \"#506784\", \"minorgridcolor\": \"#506784\", \"startlinecolor\": \"#A2B1C6\"}, \"type\": \"carpet\"}], \"choropleth\": [{\"colorbar\": {\"outlinewidth\": 0, \"ticks\": \"\"}, \"type\": \"choropleth\"}], \"contour\": [{\"colorbar\": {\"outlinewidth\": 0, \"ticks\": \"\"}, \"colorscale\": [[0.0, \"#0d0887\"], [0.1111111111111111, \"#46039f\"], [0.2222222222222222, \"#7201a8\"], [0.3333333333333333, \"#9c179e\"], [0.4444444444444444, \"#bd3786\"], [0.5555555555555556, \"#d8576b\"], [0.6666666666666666, \"#ed7953\"], [0.7777777777777778, \"#fb9f3a\"], [0.8888888888888888, \"#fdca26\"], [1.0, \"#f0f921\"]], \"type\": \"contour\"}], \"contourcarpet\": [{\"colorbar\": {\"outlinewidth\": 0, \"ticks\": \"\"}, \"type\": \"contourcarpet\"}], \"heatmap\": [{\"colorbar\": {\"outlinewidth\": 0, \"ticks\": \"\"}, \"colorscale\": [[0.0, \"#0d0887\"], [0.1111111111111111, \"#46039f\"], [0.2222222222222222, \"#7201a8\"], [0.3333333333333333, \"#9c179e\"], [0.4444444444444444, \"#bd3786\"], [0.5555555555555556, \"#d8576b\"], [0.6666666666666666, \"#ed7953\"], [0.7777777777777778, \"#fb9f3a\"], [0.8888888888888888, \"#fdca26\"], [1.0, \"#f0f921\"]], \"type\": \"heatmap\"}], \"heatmapgl\": [{\"colorbar\": {\"outlinewidth\": 0, \"ticks\": \"\"}, \"colorscale\": [[0.0, \"#0d0887\"], [0.1111111111111111, \"#46039f\"], [0.2222222222222222, \"#7201a8\"], [0.3333333333333333, \"#9c179e\"], [0.4444444444444444, \"#bd3786\"], [0.5555555555555556, \"#d8576b\"], [0.6666666666666666, \"#ed7953\"], [0.7777777777777778, \"#fb9f3a\"], [0.8888888888888888, \"#fdca26\"], [1.0, \"#f0f921\"]], \"type\": \"heatmapgl\"}], \"histogram\": [{\"marker\": {\"colorbar\": {\"outlinewidth\": 0, \"ticks\": \"\"}}, \"type\": \"histogram\"}], \"histogram2d\": [{\"colorbar\": {\"outlinewidth\": 0, \"ticks\": \"\"}, \"colorscale\": [[0.0, \"#0d0887\"], [0.1111111111111111, \"#46039f\"], [0.2222222222222222, \"#7201a8\"], [0.3333333333333333, \"#9c179e\"], [0.4444444444444444, \"#bd3786\"], [0.5555555555555556, \"#d8576b\"], [0.6666666666666666, \"#ed7953\"], [0.7777777777777778, \"#fb9f3a\"], [0.8888888888888888, \"#fdca26\"], [1.0, \"#f0f921\"]], \"type\": \"histogram2d\"}], \"histogram2dcontour\": [{\"colorbar\": {\"outlinewidth\": 0, \"ticks\": \"\"}, \"colorscale\": [[0.0, \"#0d0887\"], [0.1111111111111111, \"#46039f\"], [0.2222222222222222, \"#7201a8\"], [0.3333333333333333, \"#9c179e\"], [0.4444444444444444, \"#bd3786\"], [0.5555555555555556, \"#d8576b\"], [0.6666666666666666, \"#ed7953\"], [0.7777777777777778, \"#fb9f3a\"], [0.8888888888888888, \"#fdca26\"], [1.0, \"#f0f921\"]], \"type\": \"histogram2dcontour\"}], \"mesh3d\": [{\"colorbar\": {\"outlinewidth\": 0, \"ticks\": \"\"}, \"type\": \"mesh3d\"}], \"parcoords\": [{\"line\": {\"colorbar\": {\"outlinewidth\": 0, \"ticks\": \"\"}}, \"type\": \"parcoords\"}], \"pie\": [{\"automargin\": true, \"type\": \"pie\"}], \"scatter\": [{\"marker\": {\"line\": {\"color\": \"#283442\"}}, \"type\": \"scatter\"}], \"scatter3d\": [{\"line\": {\"colorbar\": {\"outlinewidth\": 0, \"ticks\": \"\"}}, \"marker\": {\"colorbar\": {\"outlinewidth\": 0, \"ticks\": \"\"}}, \"type\": \"scatter3d\"}], \"scattercarpet\": [{\"marker\": {\"colorbar\": {\"outlinewidth\": 0, \"ticks\": \"\"}}, \"type\": \"scattercarpet\"}], \"scattergeo\": [{\"marker\": {\"colorbar\": {\"outlinewidth\": 0, \"ticks\": \"\"}}, \"type\": \"scattergeo\"}], \"scattergl\": [{\"marker\": {\"line\": {\"color\": \"#283442\"}}, \"type\": \"scattergl\"}], \"scattermapbox\": [{\"marker\": {\"colorbar\": {\"outlinewidth\": 0, \"ticks\": \"\"}}, \"type\": \"scattermapbox\"}], \"scatterpolar\": [{\"marker\": {\"colorbar\": {\"outlinewidth\": 0, \"ticks\": \"\"}}, \"type\": \"scatterpolar\"}], \"scatterpolargl\": [{\"marker\": {\"colorbar\": {\"outlinewidth\": 0, \"ticks\": \"\"}}, \"type\": \"scatterpolargl\"}], \"scatterternary\": [{\"marker\": {\"colorbar\": {\"outlinewidth\": 0, \"ticks\": \"\"}}, \"type\": \"scatterternary\"}], \"surface\": [{\"colorbar\": {\"outlinewidth\": 0, \"ticks\": \"\"}, \"colorscale\": [[0.0, \"#0d0887\"], [0.1111111111111111, \"#46039f\"], [0.2222222222222222, \"#7201a8\"], [0.3333333333333333, \"#9c179e\"], [0.4444444444444444, \"#bd3786\"], [0.5555555555555556, \"#d8576b\"], [0.6666666666666666, \"#ed7953\"], [0.7777777777777778, \"#fb9f3a\"], [0.8888888888888888, \"#fdca26\"], [1.0, \"#f0f921\"]], \"type\": \"surface\"}], \"table\": [{\"cells\": {\"fill\": {\"color\": \"#506784\"}, \"line\": {\"color\": \"rgb(17,17,17)\"}}, \"header\": {\"fill\": {\"color\": \"#2a3f5f\"}, \"line\": {\"color\": \"rgb(17,17,17)\"}}, \"type\": \"table\"}]}, \"layout\": {\"annotationdefaults\": {\"arrowcolor\": \"#f2f5fa\", \"arrowhead\": 0, \"arrowwidth\": 1}, \"coloraxis\": {\"colorbar\": {\"outlinewidth\": 0, \"ticks\": \"\"}}, \"colorscale\": {\"diverging\": [[0, \"#8e0152\"], [0.1, \"#c51b7d\"], [0.2, \"#de77ae\"], [0.3, \"#f1b6da\"], [0.4, \"#fde0ef\"], [0.5, \"#f7f7f7\"], [0.6, \"#e6f5d0\"], [0.7, \"#b8e186\"], [0.8, \"#7fbc41\"], [0.9, \"#4d9221\"], [1, \"#276419\"]], \"sequential\": [[0.0, \"#0d0887\"], [0.1111111111111111, \"#46039f\"], [0.2222222222222222, \"#7201a8\"], [0.3333333333333333, \"#9c179e\"], [0.4444444444444444, \"#bd3786\"], [0.5555555555555556, \"#d8576b\"], [0.6666666666666666, \"#ed7953\"], [0.7777777777777778, \"#fb9f3a\"], [0.8888888888888888, \"#fdca26\"], [1.0, \"#f0f921\"]], \"sequentialminus\": [[0.0, \"#0d0887\"], [0.1111111111111111, \"#46039f\"], [0.2222222222222222, \"#7201a8\"], [0.3333333333333333, \"#9c179e\"], [0.4444444444444444, \"#bd3786\"], [0.5555555555555556, \"#d8576b\"], [0.6666666666666666, \"#ed7953\"], [0.7777777777777778, \"#fb9f3a\"], [0.8888888888888888, \"#fdca26\"], [1.0, \"#f0f921\"]]}, \"colorway\": [\"#636efa\", \"#EF553B\", \"#00cc96\", \"#ab63fa\", \"#FFA15A\", \"#19d3f3\", \"#FF6692\", \"#B6E880\", \"#FF97FF\", \"#FECB52\"], \"font\": {\"color\": \"#f2f5fa\"}, \"geo\": {\"bgcolor\": \"rgb(17,17,17)\", \"lakecolor\": \"rgb(17,17,17)\", \"landcolor\": \"rgb(17,17,17)\", \"showlakes\": true, \"showland\": true, \"subunitcolor\": \"#506784\"}, \"hoverlabel\": {\"align\": \"left\"}, \"hovermode\": \"closest\", \"mapbox\": {\"style\": \"dark\"}, \"paper_bgcolor\": \"rgb(17,17,17)\", \"plot_bgcolor\": \"rgb(17,17,17)\", \"polar\": {\"angularaxis\": {\"gridcolor\": \"#506784\", \"linecolor\": \"#506784\", \"ticks\": \"\"}, \"bgcolor\": \"rgb(17,17,17)\", \"radialaxis\": {\"gridcolor\": \"#506784\", \"linecolor\": \"#506784\", \"ticks\": \"\"}}, \"scene\": {\"xaxis\": {\"backgroundcolor\": \"rgb(17,17,17)\", \"gridcolor\": \"#506784\", \"gridwidth\": 2, \"linecolor\": \"#506784\", \"showbackground\": true, \"ticks\": \"\", \"zerolinecolor\": \"#C8D4E3\"}, \"yaxis\": {\"backgroundcolor\": \"rgb(17,17,17)\", \"gridcolor\": \"#506784\", \"gridwidth\": 2, \"linecolor\": \"#506784\", \"showbackground\": true, \"ticks\": \"\", \"zerolinecolor\": \"#C8D4E3\"}, \"zaxis\": {\"backgroundcolor\": \"rgb(17,17,17)\", \"gridcolor\": \"#506784\", \"gridwidth\": 2, \"linecolor\": \"#506784\", \"showbackground\": true, \"ticks\": \"\", \"zerolinecolor\": \"#C8D4E3\"}}, \"shapedefaults\": {\"line\": {\"color\": \"#f2f5fa\"}}, \"sliderdefaults\": {\"bgcolor\": \"#C8D4E3\", \"bordercolor\": \"rgb(17,17,17)\", \"borderwidth\": 1, \"tickwidth\": 0}, \"ternary\": {\"aaxis\": {\"gridcolor\": \"#506784\", \"linecolor\": \"#506784\", \"ticks\": \"\"}, \"baxis\": {\"gridcolor\": \"#506784\", \"linecolor\": \"#506784\", \"ticks\": \"\"}, \"bgcolor\": \"rgb(17,17,17)\", \"caxis\": {\"gridcolor\": \"#506784\", \"linecolor\": \"#506784\", \"ticks\": \"\"}}, \"title\": {\"x\": 0.05}, \"updatemenudefaults\": {\"bgcolor\": \"#506784\", \"borderwidth\": 0}, \"xaxis\": {\"automargin\": true, \"gridcolor\": \"#283442\", \"linecolor\": \"#506784\", \"ticks\": \"\", \"title\": {\"standoff\": 15}, \"zerolinecolor\": \"#283442\", \"zerolinewidth\": 2}, \"yaxis\": {\"automargin\": true, \"gridcolor\": \"#283442\", \"linecolor\": \"#506784\", \"ticks\": \"\", \"title\": {\"standoff\": 15}, \"zerolinecolor\": \"#283442\", \"zerolinewidth\": 2}}}, \"updatemenus\": [{\"buttons\": [{\"args\": [null, {\"frame\": {\"duration\": 500, \"redraw\": true}, \"fromcurrent\": true, \"mode\": \"immediate\", \"transition\": {\"duration\": 500, \"easing\": \"linear\"}}], \"label\": \"&#9654;\", \"method\": \"animate\"}, {\"args\": [[null], {\"frame\": {\"duration\": 0, \"redraw\": true}, \"fromcurrent\": true, \"mode\": \"immediate\", \"transition\": {\"duration\": 0, \"easing\": \"linear\"}}], \"label\": \"&#9724;\", \"method\": \"animate\"}], \"direction\": \"left\", \"pad\": {\"r\": 10, \"t\": 70}, \"showactive\": false, \"type\": \"buttons\", \"x\": 0.1, \"xanchor\": \"right\", \"y\": 0, \"yanchor\": \"top\"}]},                        {\"responsive\": true}                    ).then(function(){\n",
       "                            Plotly.addFrames('c576a230-95bf-4ec4-bf17-b018f7d20366', [{\"data\": [{\"colorscale\": [[0.0, \"#636efa\"], [1.0, \"#636efa\"]], \"geo\": \"geo\", \"hovertemplate\": \"True Factor=Economy_(GDP_per_Capita)<br>year=2015<br>Country=%{location}<extra></extra>\", \"locationmode\": \"country names\", \"locations\": [\"Switzerland\", \"Greece\", \"Albania\", \"Lebanon\", \"Tunisia\", \"Iran\", \"Gabon\", \"Sweden\", \"Austria\", \"Singapore\", \"Australia\", \"Israel\", \"Mexico\", \"Germany\", \"United Arab Emirates\", \"Belgium\", \"Norway\", \"United States\", \"India\", \"Netherlands\", \"Canada\", \"Luxembourg\", \"Oman\", \"Iraq\", \"Montenegro\", \"Romania\", \"Portugal\", \"Pakistan\", \"Latvia\", \"Malaysia\", \"France\", \"Azerbaijan\", \"Congo (Brazzaville)\", \"Libya\", \"North Cyprus\", \"Cyprus\", \"Mauritius\", \"Hong Kong\", \"Turkey\", \"Croatia\", \"Saudi Arabia\", \"Qatar\", \"Morocco\", \"Egypt\", \"Georgia\", \"Kazakhstan\", \"Taiwan\", \"Kuwait\", \"Trinidad and Tobago\", \"Suriname\", \"Japan\", \"South Korea\", \"Bahrain\", \"Italy\"], \"name\": \"Economy_(GDP_per_Capita)\", \"showlegend\": true, \"showscale\": false, \"z\": [1, 1, 1, 1, 1, 1, 1, 1, 1, 1, 1, 1, 1, 1, 1, 1, 1, 1, 1, 1, 1, 1, 1, 1, 1, 1, 1, 1, 1, 1, 1, 1, 1, 1, 1, 1, 1, 1, 1, 1, 1, 1, 1, 1, 1, 1, 1, 1, 1, 1, 1, 1, 1, 1], \"type\": \"choropleth\"}, {\"colorscale\": [[0.0, \"#EF553B\"], [1.0, \"#EF553B\"]], \"geo\": \"geo\", \"hovertemplate\": \"True Factor=Family<br>year=2015<br>Country=%{location}<extra></extra>\", \"locationmode\": \"country names\", \"locations\": [\"Bosnia and Herzegovina\", \"Lesotho\", \"Dominican Republic\", \"Laos\", \"Mongolia\", \"Swaziland\", \"Honduras\", \"Tajikistan\", \"Palestinian Territories\", \"Ukraine\", \"Hungary\", \"South Africa\", \"Mauritania\", \"Macedonia\", \"Senegal\", \"Niger\", \"Tanzania\", \"Madagascar\", \"Djibouti\", \"Chad\", \"Ivory Coast\", \"Burkina Faso\", \"Rwanda\", \"Armenia\", \"Guinea\", \"Uganda\", \"Ghana\", \"Liberia\", \"Venezuela\", \"New Zealand\", \"Costa Rica\", \"Panama\", \"Denmark\", \"Iceland\", \"United Kingdom\", \"Zimbabwe\", \"Finland\", \"Sudan\", \"Haiti\", \"Congo (Kinshasa)\", \"Nepal\", \"Ethiopia\", \"Sierra Leone\", \"Kenya\", \"Bhutan\", \"Ireland\", \"Brazil\", \"Chile\", \"Comoros\", \"Mali\", \"Jordan\", \"China\", \"Zambia\", \"Serbia\", \"Somaliland region\", \"Poland\", \"Peru\", \"Argentina\", \"Czech Republic\", \"Philippines\", \"Uruguay\", \"Nigeria\", \"Russia\", \"Jamaica\", \"Algeria\", \"Burundi\", \"Kosovo\", \"Estonia\", \"Indonesia\", \"Vietnam\", \"Kyrgyzstan\", \"Turkmenistan\", \"Colombia\", \"Lithuania\", \"Nicaragua\", \"Belarus\", \"Mozambique\", \"Botswana\", \"Slovenia\", \"Sri Lanka\", \"Cameroon\", \"Bulgaria\", \"Yemen\", \"Thailand\", \"Angola\", \"Moldova\", \"Spain\", \"Malta\", \"Paraguay\", \"El Salvador\", \"Guatemala\", \"Slovakia\", \"Ecuador\", \"Bolivia\", \"Uzbekistan\"], \"name\": \"Family\", \"showlegend\": true, \"showscale\": false, \"z\": [1, 1, 1, 1, 1, 1, 1, 1, 1, 1, 1, 1, 1, 1, 1, 1, 1, 1, 1, 1, 1, 1, 1, 1, 1, 1, 1, 1, 1, 1, 1, 1, 1, 1, 1, 1, 1, 1, 1, 1, 1, 1, 1, 1, 1, 1, 1, 1, 1, 1, 1, 1, 1, 1, 1, 1, 1, 1, 1, 1, 1, 1, 1, 1, 1, 1, 1, 1, 1, 1, 1, 1, 1, 1, 1, 1, 1, 1, 1, 1, 1, 1, 1, 1, 1, 1, 1, 1, 1, 1, 1, 1, 1, 1, 1], \"type\": \"choropleth\"}, {\"colorscale\": [[0.0, \"#00cc96\"], [1.0, \"#00cc96\"]], \"geo\": \"geo\", \"hovertemplate\": \"True Factor=Health_(Life_Expectancy)<br>year=2015<br>Country=%{location}<extra></extra>\", \"locationmode\": \"country names\", \"locations\": [\"Bangladesh\", \"Syria\"], \"name\": \"Health_(Life_Expectancy)\", \"showlegend\": true, \"showscale\": false, \"z\": [1, 1], \"type\": \"choropleth\"}, {\"colorscale\": [[0.0, \"#ab63fa\"], [1.0, \"#ab63fa\"]], \"geo\": \"geo\", \"hovertemplate\": \"True Factor=Freedom<br>year=2015<br>Country=%{location}<extra></extra>\", \"locationmode\": \"country names\", \"locations\": [\"Cambodia\", \"Central African Republic\", \"Benin\", \"Togo\", \"Malawi\"], \"name\": \"Freedom\", \"showlegend\": true, \"showscale\": false, \"z\": [1, 1, 1, 1, 1], \"type\": \"choropleth\"}, {\"colorscale\": [[0.0, \"#FFA15A\"], [1.0, \"#FFA15A\"]], \"geo\": \"geo\", \"hovertemplate\": \"True Factor=Generosity<br>year=2015<br>Country=%{location}<extra></extra>\", \"locationmode\": \"country names\", \"locations\": [\"Afghanistan\", \"Myanmar\"], \"name\": \"Generosity\", \"showlegend\": true, \"showscale\": false, \"z\": [1, 1], \"type\": \"choropleth\"}], \"name\": \"2015\"}, {\"data\": [{\"colorscale\": [[0.0, \"#636efa\"], [1.0, \"#636efa\"]], \"geo\": \"geo\", \"hovertemplate\": \"True Factor=Economy_(GDP_per_Capita)<br>year=2016<br>Country=%{location}<extra></extra>\", \"locationmode\": \"country names\", \"locations\": [\"South Africa\", \"Australia\", \"India\", \"New Zealand\", \"Congo (Brazzaville)\", \"Armenia\", \"Ghana\", \"Netherlands\", \"Georgia\", \"Afghanistan\", \"Egypt\", \"Iraq\", \"Syria\", \"Israel\", \"Namibia\", \"Iran\", \"South Korea\", \"Albania\", \"Sweden\", \"Bangladesh\", \"Bulgaria\", \"Colombia\", \"Poland\", \"Belize\", \"Italy\", \"Kuwait\", \"Argentina\", \"United Arab Emirates\", \"Japan\", \"Thailand\", \"Saudi Arabia\", \"Panama\", \"Russia\", \"Bahrain\", \"Suriname\", \"Sri Lanka\", \"Qatar\", \"Malta\", \"Czech Republic\", \"Taiwan\", \"Trinidad and Tobago\", \"Ecuador\", \"Spain\", \"Uruguay\", \"United Kingdom\", \"El Salvador\", \"Chile\", \"Venezuela\", \"Malaysia\", \"Slovakia\", \"Algeria\", \"France\", \"Mexico\", \"Singapore\", \"Kazakhstan\", \"Denmark\", \"Kosovo\", \"Luxembourg\", \"North Cyprus\", \"Bosnia and Herzegovina\", \"Serbia\", \"Belgium\", \"Greece\", \"Romania\", \"Estonia\", \"Brazil\", \"Croatia\", \"Hong Kong\", \"Latvia\", \"Libya\", \"Cyprus\", \"Austria\", \"Tunisia\", \"Costa Rica\", \"Dominican Republic\", \"Morocco\", \"Slovenia\", \"Ireland\", \"Hungary\", \"Lithuania\", \"Pakistan\", \"Portugal\", \"Belarus\", \"Montenegro\", \"Macedonia\", \"United States\", \"Lebanon\", \"Puerto Rico\", \"Switzerland\", \"Botswana\", \"Norway\", \"Angola\", \"Germany\", \"South Sudan\", \"Canada\", \"Yemen\", \"Iceland\", \"Gabon\", \"Finland\", \"Indonesia\", \"Mauritius\", \"Turkmenistan\", \"Azerbaijan\", \"China\", \"Jordan\", \"Turkey\", \"Laos\", \"Nigeria\", \"Peru\"], \"name\": \"Economy_(GDP_per_Capita)\", \"showlegend\": true, \"showscale\": false, \"z\": [1, 1, 1, 1, 1, 1, 1, 1, 1, 1, 1, 1, 1, 1, 1, 1, 1, 1, 1, 1, 1, 1, 1, 1, 1, 1, 1, 1, 1, 1, 1, 1, 1, 1, 1, 1, 1, 1, 1, 1, 1, 1, 1, 1, 1, 1, 1, 1, 1, 1, 1, 1, 1, 1, 1, 1, 1, 1, 1, 1, 1, 1, 1, 1, 1, 1, 1, 1, 1, 1, 1, 1, 1, 1, 1, 1, 1, 1, 1, 1, 1, 1, 1, 1, 1, 1, 1, 1, 1, 1, 1, 1, 1, 1, 1, 1, 1, 1, 1, 1, 1, 1, 1, 1, 1, 1, 1, 1, 1], \"type\": \"choropleth\"}, {\"colorscale\": [[0.0, \"#EF553B\"], [1.0, \"#EF553B\"]], \"geo\": \"geo\", \"hovertemplate\": \"True Factor=Family<br>year=2016<br>Country=%{location}<extra></extra>\", \"locationmode\": \"country names\", \"locations\": [\"Ethiopia\", \"Zimbabwe\", \"Kenya\", \"Ukraine\", \"Congo (Kinshasa)\", \"Cameroon\", \"Zambia\", \"Senegal\", \"Burundi\", \"Uganda\", \"Mauritania\", \"Palestinian Territories\", \"Sierra Leone\", \"Honduras\", \"Moldova\", \"Guatemala\", \"Nicaragua\", \"Uzbekistan\", \"Guinea\", \"Bolivia\", \"Tajikistan\", \"Jamaica\", \"Rwanda\", \"Vietnam\", \"Somaliland Region\", \"Paraguay\", \"Comoros\", \"Ivory Coast\", \"Burkina Faso\", \"Madagascar\", \"Tanzania\", \"Liberia\", \"Chad\", \"Mali\", \"Niger\", \"Mongolia\", \"Philippines\", \"Bhutan\", \"Kyrgyzstan\", \"Nepal\", \"Sudan\"], \"name\": \"Family\", \"showlegend\": true, \"showscale\": false, \"z\": [1, 1, 1, 1, 1, 1, 1, 1, 1, 1, 1, 1, 1, 1, 1, 1, 1, 1, 1, 1, 1, 1, 1, 1, 1, 1, 1, 1, 1, 1, 1, 1, 1, 1, 1, 1, 1, 1, 1, 1, 1], \"type\": \"choropleth\"}, {\"colorscale\": [[0.0, \"#ab63fa\"], [1.0, \"#ab63fa\"]], \"geo\": \"geo\", \"hovertemplate\": \"True Factor=Freedom<br>year=2016<br>Country=%{location}<extra></extra>\", \"locationmode\": \"country names\", \"locations\": [\"Togo\", \"Malawi\", \"Benin\", \"Somalia\", \"Cambodia\"], \"name\": \"Freedom\", \"showlegend\": true, \"showscale\": false, \"z\": [1, 1, 1, 1, 1], \"type\": \"choropleth\"}, {\"colorscale\": [[0.0, \"#FFA15A\"], [1.0, \"#FFA15A\"]], \"geo\": \"geo\", \"hovertemplate\": \"True Factor=Generosity<br>year=2016<br>Country=%{location}<extra></extra>\", \"locationmode\": \"country names\", \"locations\": [\"Myanmar\", \"Haiti\"], \"name\": \"Generosity\", \"showlegend\": true, \"showscale\": false, \"z\": [1, 1], \"type\": \"choropleth\"}], \"name\": \"2016\"}, {\"data\": [{\"colorscale\": [[0.0, \"#636efa\"], [1.0, \"#636efa\"]], \"geo\": \"geo\", \"hovertemplate\": \"True Factor=Economy_(GDP_per_Capita)<br>year=2017<br>Country=%{location}<extra></extra>\", \"locationmode\": \"country names\", \"locations\": [\"Switzerland\", \"North Cyprus\", \"Cyprus\", \"Singapore\", \"Pakistan\", \"Iraq\", \"Kuwait\", \"France\", \"South Korea\", \"Hong Kong S.A.R., China\", \"Syria\", \"Norway\", \"Luxembourg\", \"Taiwan Province of China\", \"Croatia\", \"United Arab Emirates\", \"Belgium\", \"Gabon\", \"Qatar\", \"Greece\", \"Morocco\", \"United States\", \"Netherlands\", \"Albania\", \"Romania\", \"Austria\", \"Germany\", \"Georgia\", \"Azerbaijan\", \"Tunisia\", \"Sweden\", \"Saudi Arabia\", \"India\", \"Bahrain\", \"Malaysia\", \"Iran\"], \"name\": \"Economy_(GDP_per_Capita)\", \"showlegend\": true, \"showscale\": false, \"z\": [1, 1, 1, 1, 1, 1, 1, 1, 1, 1, 1, 1, 1, 1, 1, 1, 1, 1, 1, 1, 1, 1, 1, 1, 1, 1, 1, 1, 1, 1, 1, 1, 1, 1, 1, 1], \"type\": \"choropleth\"}, {\"colorscale\": [[0.0, \"#EF553B\"], [1.0, \"#EF553B\"]], \"geo\": \"geo\", \"hovertemplate\": \"True Factor=Family<br>year=2017<br>Country=%{location}<extra></extra>\", \"locationmode\": \"country names\", \"locations\": [\"Rwanda\", \"Denmark\", \"Serbia\", \"Jordan\", \"Haiti\", \"United Kingdom\", \"Mauritius\", \"Liberia\", \"Estonia\", \"Panama\", \"Togo\", \"Botswana\", \"Argentina\", \"Benin\", \"Belarus\", \"Nepal\", \"Mongolia\", \"Nigeria\", \"Uganda\", \"Turkey\", \"Paraguay\", \"Madagascar\", \"Slovenia\", \"Iceland\", \"Philippines\", \"Lithuania\", \"South Sudan\", \"Zimbabwe\", \"Yemen\", \"Uruguay\", \"Turkmenistan\", \"Hungary\", \"Tanzania\", \"Chile\", \"Angola\", \"Burundi\", \"Niger\", \"Lesotho\", \"Kosovo\", \"Thailand\", \"Brazil\", \"Malta\", \"Russia\", \"Jamaica\", \"Malawi\", \"China\", \"Bolivia\", \"Peru\", \"Algeria\", \"Guatemala\", \"Libya\", \"Kazakhstan\", \"Afghanistan\", \"Latvia\", \"Guinea\", \"Chad\", \"Belize\", \"Japan\", \"Kyrgyzstan\", \"Sri Lanka\", \"Sudan\", \"Ivory Coast\", \"Ukraine\", \"Lebanon\", \"Dominican Republic\", \"Colombia\", \"Montenegro\", \"Uzbekistan\", \"Cambodia\", \"Portugal\", \"Italy\", \"Spain\", \"Ethiopia\", \"Ireland\", \"Bosnia and Herzegovina\", \"Canada\", \"Honduras\", \"Burkina Faso\", \"Finland\", \"Congo (Brazzaville)\", \"Macedonia\", \"Venezuela\", \"Mali\", \"Ghana\", \"Mexico\", \"Poland\", \"Congo (Kinshasa)\", \"Nicaragua\", \"South Africa\", \"Somalia\", \"Vietnam\", \"El Salvador\", \"Indonesia\", \"New Zealand\", \"Tajikistan\", \"Armenia\", \"Czech Republic\", \"Bhutan\", \"Ecuador\", \"Trinidad and Tobago\", \"Costa Rica\", \"Mauritania\", \"Zambia\", \"Bangladesh\", \"Senegal\", \"Myanmar\", \"Egypt\", \"Israel\", \"Mozambique\", \"Slovakia\", \"Kenya\", \"Bulgaria\", \"Palestinian Territories\", \"Namibia\", \"Moldova\", \"Cameroon\", \"Australia\", \"Sierra Leone\"], \"name\": \"Family\", \"showlegend\": true, \"showscale\": false, \"z\": [1, 1, 1, 1, 1, 1, 1, 1, 1, 1, 1, 1, 1, 1, 1, 1, 1, 1, 1, 1, 1, 1, 1, 1, 1, 1, 1, 1, 1, 1, 1, 1, 1, 1, 1, 1, 1, 1, 1, 1, 1, 1, 1, 1, 1, 1, 1, 1, 1, 1, 1, 1, 1, 1, 1, 1, 1, 1, 1, 1, 1, 1, 1, 1, 1, 1, 1, 1, 1, 1, 1, 1, 1, 1, 1, 1, 1, 1, 1, 1, 1, 1, 1, 1, 1, 1, 1, 1, 1, 1, 1, 1, 1, 1, 1, 1, 1, 1, 1, 1, 1, 1, 1, 1, 1, 1, 1, 1, 1, 1, 1, 1, 1, 1, 1, 1, 1, 1], \"type\": \"choropleth\"}, {\"colorscale\": [[0.0, \"#FFA15A\"], [1.0, \"#FFA15A\"]], \"geo\": \"geo\", \"hovertemplate\": \"True Factor=Generosity<br>year=2017<br>Country=%{location}<extra></extra>\", \"locationmode\": \"country names\", \"locations\": [\"Central African Republic\"], \"name\": \"Generosity\", \"showlegend\": true, \"showscale\": false, \"z\": [1], \"type\": \"choropleth\"}], \"name\": \"2017\"}, {\"data\": [{\"colorscale\": [[0.0, \"#636efa\"], [1.0, \"#636efa\"]], \"geo\": \"geo\", \"hovertemplate\": \"True Factor=Economy_(GDP_per_Capita)<br>year=2018<br>Country=%{location}<extra></extra>\", \"locationmode\": \"country names\", \"locations\": [\"Hong Kong\", \"United Arab Emirates\", \"Cyprus\", \"Kuwait\", \"Luxembourg\", \"Northern Cyprus\", \"South Korea\", \"Iran\", \"Georgia\", \"Qatar\", \"Albania\", \"Syria\", \"Iraq\", \"Singapore\", \"Saudi Arabia\"], \"name\": \"Economy_(GDP_per_Capita)\", \"showlegend\": true, \"showscale\": false, \"z\": [1, 1, 1, 1, 1, 1, 1, 1, 1, 1, 1, 1, 1, 1, 1], \"type\": \"choropleth\"}, {\"colorscale\": [[0.0, \"#EF553B\"], [1.0, \"#EF553B\"]], \"geo\": \"geo\", \"hovertemplate\": \"True Factor=Family<br>year=2018<br>Country=%{location}<extra></extra>\", \"locationmode\": \"country names\", \"locations\": [\"Macedonia\", \"Libya\", \"United States\", \"Tajikistan\", \"Italy\", \"Latvia\", \"China\", \"Israel\", \"Ecuador\", \"Turkmenistan\", \"Jordan\", \"Germany\", \"Moldova\", \"Nigeria\", \"Honduras\", \"Hungary\", \"Azerbaijan\", \"Belarus\", \"Malta\", \"Panama\", \"Romania\", \"Vietnam\", \"Costa Rica\", \"Dominican Republic\", \"Paraguay\", \"Croatia\", \"Ireland\", \"Indonesia\", \"Bhutan\", \"Somalia\", \"Turkey\", \"Japan\", \"Austria\", \"Portugal\", \"Cameroon\", \"Slovenia\", \"Morocco\", \"Estonia\", \"Pakistan\", \"Gabon\", \"Philippines\", \"Bahrain\", \"Belgium\", \"Bolivia\", \"Senegal\", \"Bulgaria\", \"Kazakhstan\", \"Nepal\", \"France\", \"Venezuela\", \"Mauritius\", \"Belize\", \"Lebanon\", \"Ghana\", \"Czech Republic\", \"Uzbekistan\", \"Russia\", \"Palestinian Territories\", \"Montenegro\", \"Greece\", \"Jamaica\", \"Lithuania\", \"Poland\", \"Mexico\", \"United Kingdom\", \"Ivory Coast\", \"Serbia\", \"South Africa\", \"Peru\", \"Algeria\", \"Bosnia and Herzegovina\", \"Congo (Brazzaville)\", \"Brazil\", \"El Salvador\", \"Tanzania\", \"Niger\", \"Haiti\", \"Mongolia\", \"Netherlands\", \"Malaysia\", \"Armenia\", \"Myanmar\", \"Chad\", \"Togo\", \"Ethiopia\", \"Guinea\", \"Ukraine\", \"South Sudan\", \"Liberia\", \"Finland\", \"Tunisia\", \"Burundi\", \"Laos\", \"Norway\", \"Slovakia\", \"Argentina\", \"Rwanda\", \"Australia\", \"Bangladesh\", \"Sweden\", \"Yemen\", \"Sri Lanka\", \"Congo (Kinshasa)\", \"Sierra Leone\", \"Chile\", \"Canada\", \"Guatemala\", \"Mozambique\", \"Afghanistan\", \"Colombia\", \"Zimbabwe\", \"Uruguay\", \"Egypt\", \"Madagascar\", \"Mauritania\", \"Taiwan\", \"Nicaragua\", \"Kyrgyzstan\", \"Thailand\", \"Kosovo\", \"Zambia\", \"New Zealand\", \"Kenya\", \"Burkina Faso\", \"Denmark\", \"Switzerland\", \"India\", \"Uganda\", \"Iceland\", \"Spain\", \"Sudan\", \"Angola\", \"Mali\", \"Trinidad & Tobago\", \"Namibia\", \"Malawi\", \"Cambodia\", \"Botswana\", \"Lesotho\"], \"name\": \"Family\", \"showlegend\": true, \"showscale\": false, \"z\": [1, 1, 1, 1, 1, 1, 1, 1, 1, 1, 1, 1, 1, 1, 1, 1, 1, 1, 1, 1, 1, 1, 1, 1, 1, 1, 1, 1, 1, 1, 1, 1, 1, 1, 1, 1, 1, 1, 1, 1, 1, 1, 1, 1, 1, 1, 1, 1, 1, 1, 1, 1, 1, 1, 1, 1, 1, 1, 1, 1, 1, 1, 1, 1, 1, 1, 1, 1, 1, 1, 1, 1, 1, 1, 1, 1, 1, 1, 1, 1, 1, 1, 1, 1, 1, 1, 1, 1, 1, 1, 1, 1, 1, 1, 1, 1, 1, 1, 1, 1, 1, 1, 1, 1, 1, 1, 1, 1, 1, 1, 1, 1, 1, 1, 1, 1, 1, 1, 1, 1, 1, 1, 1, 1, 1, 1, 1, 1, 1, 1, 1, 1, 1, 1, 1, 1, 1, 1, 1], \"type\": \"choropleth\"}, {\"colorscale\": [[0.0, \"#ab63fa\"], [1.0, \"#ab63fa\"]], \"geo\": \"geo\", \"hovertemplate\": \"True Factor=Freedom<br>year=2018<br>Country=%{location}<extra></extra>\", \"locationmode\": \"country names\", \"locations\": [\"Central African Republic\", \"Benin\"], \"name\": \"Freedom\", \"showlegend\": true, \"showscale\": false, \"z\": [1, 1], \"type\": \"choropleth\"}], \"name\": \"2018\"}, {\"data\": [{\"colorscale\": [[0.0, \"#636efa\"], [1.0, \"#636efa\"]], \"geo\": \"geo\", \"hovertemplate\": \"True Factor=Economy_(GDP_per_Capita)<br>year=2019<br>Country=%{location}<extra></extra>\", \"locationmode\": \"country names\", \"locations\": [\"Kuwait\", \"Iran\", \"Singapore\", \"Iraq\", \"Morocco\", \"Luxembourg\", \"Greece\", \"Cyprus\", \"Malaysia\", \"Saudi Arabia\", \"Hong Kong\", \"United Arab Emirates\", \"Qatar\", \"Georgia\", \"Syria\", \"Northern Cyprus\", \"South Korea\", \"Albania\"], \"name\": \"Economy_(GDP_per_Capita)\", \"showlegend\": true, \"showscale\": false, \"z\": [1, 1, 1, 1, 1, 1, 1, 1, 1, 1, 1, 1, 1, 1, 1, 1, 1, 1], \"type\": \"choropleth\"}, {\"colorscale\": [[0.0, \"#EF553B\"], [1.0, \"#EF553B\"]], \"geo\": \"geo\", \"hovertemplate\": \"True Factor=Family<br>year=2019<br>Country=%{location}<extra></extra>\", \"locationmode\": \"country names\", \"locations\": [\"Canada\", \"Colombia\", \"Niger\", \"Congo (Brazzaville)\", \"Benin\", \"Burkina Faso\", \"Armenia\", \"Indonesia\", \"China\", \"North Macedonia\", \"Malta\", \"Chad\", \"Mongolia\", \"Gabon\", \"Australia\", \"Laos\", \"Bahrain\", \"Taiwan\", \"Mauritania\", \"Vietnam\", \"Mozambique\", \"Costa Rica\", \"Jordan\", \"Trinidad & Tobago\", \"Namibia\", \"Palestinian Territories\", \"France\", \"Lithuania\", \"Senegal\", \"Somalia\", \"Poland\", \"Austria\", \"South Africa\", \"Venezuela\", \"Uzbekistan\", \"Sri Lanka\", \"Italy\", \"Azerbaijan\", \"Kosovo\", \"Tunisia\", \"Congo (Kinshasa)\", \"Algeria\", \"Argentina\", \"Sierra Leone\", \"Turkmenistan\", \"Switzerland\", \"Romania\", \"United Kingdom\", \"Kenya\", \"Mali\", \"Lebanon\", \"Bangladesh\", \"Ethiopia\", \"Belarus\", \"Swaziland\", \"Ecuador\", \"Netherlands\", \"Sweden\", \"Turkey\", \"Ireland\", \"Bosnia and Herzegovina\", \"Egypt\", \"Nigeria\", \"Myanmar\", \"Kyrgyzstan\", \"El Salvador\", \"Uganda\", \"Nicaragua\", \"Honduras\", \"Cameroon\", \"Lesotho\", \"Hungary\", \"Yemen\", \"Rwanda\", \"Tanzania\", \"Bolivia\", \"Kazakhstan\", \"Afghanistan\", \"Estonia\", \"Czech Republic\", \"Japan\", \"Jamaica\", \"Guatemala\", \"Cambodia\", \"India\", \"Liberia\", \"Mexico\", \"Montenegro\", \"Libya\", \"Zambia\", \"Tajikistan\", \"Chile\", \"Belgium\", \"Finland\", \"Norway\", \"Croatia\", \"Germany\", \"Panama\", \"Madagascar\", \"Brazil\", \"Togo\", \"Iceland\", \"Comoros\", \"Mauritius\", \"South Sudan\", \"Portugal\", \"Uruguay\", \"Ukraine\", \"Dominican Republic\", \"Nepal\", \"Slovakia\", \"Denmark\", \"Ivory Coast\", \"Slovenia\", \"Ghana\", \"New Zealand\", \"Gambia\", \"Bulgaria\", \"Israel\", \"Guinea\", \"Bhutan\", \"United States\", \"Moldova\", \"Paraguay\", \"Malawi\", \"Thailand\", \"Serbia\", \"Burundi\", \"Philippines\", \"Peru\", \"Zimbabwe\", \"Pakistan\", \"Haiti\", \"Latvia\", \"Spain\", \"Botswana\", \"Russia\"], \"name\": \"Family\", \"showlegend\": true, \"showscale\": false, \"z\": [1, 1, 1, 1, 1, 1, 1, 1, 1, 1, 1, 1, 1, 1, 1, 1, 1, 1, 1, 1, 1, 1, 1, 1, 1, 1, 1, 1, 1, 1, 1, 1, 1, 1, 1, 1, 1, 1, 1, 1, 1, 1, 1, 1, 1, 1, 1, 1, 1, 1, 1, 1, 1, 1, 1, 1, 1, 1, 1, 1, 1, 1, 1, 1, 1, 1, 1, 1, 1, 1, 1, 1, 1, 1, 1, 1, 1, 1, 1, 1, 1, 1, 1, 1, 1, 1, 1, 1, 1, 1, 1, 1, 1, 1, 1, 1, 1, 1, 1, 1, 1, 1, 1, 1, 1, 1, 1, 1, 1, 1, 1, 1, 1, 1, 1, 1, 1, 1, 1, 1, 1, 1, 1, 1, 1, 1, 1, 1, 1, 1, 1, 1, 1, 1, 1, 1, 1], \"type\": \"choropleth\"}, {\"colorscale\": [[0.0, \"#FFA15A\"], [1.0, \"#FFA15A\"]], \"geo\": \"geo\", \"hovertemplate\": \"True Factor=Generosity<br>year=2019<br>Country=%{location}<extra></extra>\", \"locationmode\": \"country names\", \"locations\": [\"Central African Republic\"], \"name\": \"Generosity\", \"showlegend\": true, \"showscale\": false, \"z\": [1], \"type\": \"choropleth\"}], \"name\": \"2019\"}]);\n",
       "                        }).then(function(){\n",
       "                            \n",
       "var gd = document.getElementById('c576a230-95bf-4ec4-bf17-b018f7d20366');\n",
       "var x = new MutationObserver(function (mutations, observer) {{\n",
       "        var display = window.getComputedStyle(gd).display;\n",
       "        if (!display || display === 'none') {{\n",
       "            console.log([gd, 'removed!']);\n",
       "            Plotly.purge(gd);\n",
       "            observer.disconnect();\n",
       "        }}\n",
       "}});\n",
       "\n",
       "// Listen for the removal of the full notebook cells\n",
       "var notebookContainer = gd.closest('#notebook-container');\n",
       "if (notebookContainer) {{\n",
       "    x.observe(notebookContainer, {childList: true});\n",
       "}}\n",
       "\n",
       "// Listen for the clearing of the current output cell\n",
       "var outputEl = gd.closest('.output');\n",
       "if (outputEl) {{\n",
       "    x.observe(outputEl, {childList: true});\n",
       "}}\n",
       "\n",
       "                        })                };                });            </script>        </div>"
      ]
     },
     "metadata": {},
     "output_type": "display_data"
    }
   ],
   "source": [
    "#plotly chrolopleth graph\n",
    "fig = px.choropleth(df_concat,  locations='Country',locationmode='country names', color='True_Factor',\n",
    "                           color_continuous_scale=\"Viridis\",\n",
    "                           range_color=(0, 12),\n",
    "                           scope=\"world\",\n",
    "                    animation_frame = 'year',\n",
    "                           labels={'True_Factor':'True Factor'}\n",
    "                          )\n",
    "\n",
    "fig.show()"
   ]
  },
  {
   "cell_type": "code",
   "execution_count": null,
   "metadata": {},
   "outputs": [],
   "source": []
  }
 ],
 "metadata": {
  "kernelspec": {
   "display_name": "Python 3",
   "language": "python",
   "name": "python3"
  },
  "language_info": {
   "codemirror_mode": {
    "name": "ipython",
    "version": 3
   },
   "file_extension": ".py",
   "mimetype": "text/x-python",
   "name": "python",
   "nbconvert_exporter": "python",
   "pygments_lexer": "ipython3",
   "version": "3.8.3"
  },
  "varInspector": {
   "cols": {
    "lenName": 16,
    "lenType": 16,
    "lenVar": 40
   },
   "kernels_config": {
    "python": {
     "delete_cmd_postfix": "",
     "delete_cmd_prefix": "del ",
     "library": "var_list.py",
     "varRefreshCmd": "print(var_dic_list())"
    },
    "r": {
     "delete_cmd_postfix": ") ",
     "delete_cmd_prefix": "rm(",
     "library": "var_list.r",
     "varRefreshCmd": "cat(var_dic_list()) "
    }
   },
   "types_to_exclude": [
    "module",
    "function",
    "builtin_function_or_method",
    "instance",
    "_Feature"
   ],
   "window_display": false
  }
 },
 "nbformat": 4,
 "nbformat_minor": 4
}
