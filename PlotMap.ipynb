{
 "cells": [
  {
   "cell_type": "code",
   "execution_count": 94,
   "metadata": {
    "ExecuteTime": {
     "end_time": "2020-10-25T00:04:07.635449Z",
     "start_time": "2020-10-25T00:04:07.619443Z"
    }
   },
   "outputs": [],
   "source": [
    "#Dependencies\n",
    "import pandas as pd\n",
    "import gmaps\n",
    "# Dependencies\n",
    "import requests\n",
    "import json\n",
    "\n",
    "# Google developer API key\n",
    "import os\n",
    "g_key = os.environ.get('GOOGLE_API_KEY')"
   ]
  },
  {
   "cell_type": "code",
   "execution_count": 95,
   "metadata": {
    "ExecuteTime": {
     "end_time": "2020-10-25T00:04:08.335496Z",
     "start_time": "2020-10-25T00:04:08.290484Z"
    }
   },
   "outputs": [
    {
     "data": {
      "text/html": [
       "<div>\n",
       "<style scoped>\n",
       "    .dataframe tbody tr th:only-of-type {\n",
       "        vertical-align: middle;\n",
       "    }\n",
       "\n",
       "    .dataframe tbody tr th {\n",
       "        vertical-align: top;\n",
       "    }\n",
       "\n",
       "    .dataframe thead th {\n",
       "        text-align: right;\n",
       "    }\n",
       "</style>\n",
       "<table border=\"1\" class=\"dataframe\">\n",
       "  <thead>\n",
       "    <tr style=\"text-align: right;\">\n",
       "      <th></th>\n",
       "      <th>Country</th>\n",
       "      <th>Happiness_Rank</th>\n",
       "      <th>Happiness_Score</th>\n",
       "      <th>Economy_(GDP_per_Capita)</th>\n",
       "      <th>Family</th>\n",
       "      <th>Health_(Life_Expectancy)</th>\n",
       "      <th>Freedom</th>\n",
       "      <th>Trust_(Government_Corruption)</th>\n",
       "      <th>Generosity</th>\n",
       "      <th>Dystopia_Residual</th>\n",
       "      <th>year</th>\n",
       "    </tr>\n",
       "  </thead>\n",
       "  <tbody>\n",
       "    <tr>\n",
       "      <th>0</th>\n",
       "      <td>Switzerland</td>\n",
       "      <td>1</td>\n",
       "      <td>7.587</td>\n",
       "      <td>1.396510</td>\n",
       "      <td>1.349510</td>\n",
       "      <td>0.941430</td>\n",
       "      <td>0.665570</td>\n",
       "      <td>0.419780</td>\n",
       "      <td>0.296780</td>\n",
       "      <td>2.517380</td>\n",
       "      <td>2015</td>\n",
       "    </tr>\n",
       "    <tr>\n",
       "      <th>1</th>\n",
       "      <td>Finland</td>\n",
       "      <td>1</td>\n",
       "      <td>7.769</td>\n",
       "      <td>1.340000</td>\n",
       "      <td>1.587000</td>\n",
       "      <td>0.986000</td>\n",
       "      <td>0.596000</td>\n",
       "      <td>0.393000</td>\n",
       "      <td>0.153000</td>\n",
       "      <td>2.714000</td>\n",
       "      <td>2019</td>\n",
       "    </tr>\n",
       "    <tr>\n",
       "      <th>2</th>\n",
       "      <td>Finland</td>\n",
       "      <td>1</td>\n",
       "      <td>7.632</td>\n",
       "      <td>1.305000</td>\n",
       "      <td>1.592000</td>\n",
       "      <td>0.874000</td>\n",
       "      <td>0.681000</td>\n",
       "      <td>0.393000</td>\n",
       "      <td>0.202000</td>\n",
       "      <td>2.585000</td>\n",
       "      <td>2018</td>\n",
       "    </tr>\n",
       "    <tr>\n",
       "      <th>3</th>\n",
       "      <td>Norway</td>\n",
       "      <td>1</td>\n",
       "      <td>7.537</td>\n",
       "      <td>1.616463</td>\n",
       "      <td>1.533524</td>\n",
       "      <td>0.796667</td>\n",
       "      <td>0.635423</td>\n",
       "      <td>0.315964</td>\n",
       "      <td>0.362012</td>\n",
       "      <td>2.277027</td>\n",
       "      <td>2017</td>\n",
       "    </tr>\n",
       "    <tr>\n",
       "      <th>4</th>\n",
       "      <td>Denmark</td>\n",
       "      <td>1</td>\n",
       "      <td>7.526</td>\n",
       "      <td>1.441780</td>\n",
       "      <td>1.163740</td>\n",
       "      <td>0.795040</td>\n",
       "      <td>0.579410</td>\n",
       "      <td>0.444530</td>\n",
       "      <td>0.361710</td>\n",
       "      <td>2.739390</td>\n",
       "      <td>2016</td>\n",
       "    </tr>\n",
       "  </tbody>\n",
       "</table>\n",
       "</div>"
      ],
      "text/plain": [
       "       Country  Happiness_Rank  Happiness_Score  Economy_(GDP_per_Capita)  \\\n",
       "0  Switzerland               1            7.587                  1.396510   \n",
       "1      Finland               1            7.769                  1.340000   \n",
       "2      Finland               1            7.632                  1.305000   \n",
       "3       Norway               1            7.537                  1.616463   \n",
       "4      Denmark               1            7.526                  1.441780   \n",
       "\n",
       "     Family  Health_(Life_Expectancy)   Freedom  \\\n",
       "0  1.349510                  0.941430  0.665570   \n",
       "1  1.587000                  0.986000  0.596000   \n",
       "2  1.592000                  0.874000  0.681000   \n",
       "3  1.533524                  0.796667  0.635423   \n",
       "4  1.163740                  0.795040  0.579410   \n",
       "\n",
       "   Trust_(Government_Corruption)  Generosity  Dystopia_Residual  year  \n",
       "0                       0.419780    0.296780           2.517380  2015  \n",
       "1                       0.393000    0.153000           2.714000  2019  \n",
       "2                       0.393000    0.202000           2.585000  2018  \n",
       "3                       0.315964    0.362012           2.277027  2017  \n",
       "4                       0.444530    0.361710           2.739390  2016  "
      ]
     },
     "execution_count": 95,
     "metadata": {},
     "output_type": "execute_result"
    }
   ],
   "source": [
    "data_file = 'Output/concated_df.csv'\n",
    "\n",
    "data_file_df = pd.read_csv(data_file)\n",
    "data_file_df.head()"
   ]
  },
  {
   "cell_type": "code",
   "execution_count": 96,
   "metadata": {
    "ExecuteTime": {
     "end_time": "2020-10-25T00:04:29.001707Z",
     "start_time": "2020-10-25T00:04:09.021600Z"
    }
   },
   "outputs": [],
   "source": [
    "# base_url = ('https://maps.googleapis.com/maps/api/geocode/json?'\n",
    "#     'address={0}&key={1}').format(target_city, g_key)\n",
    "\n",
    "lat= []\n",
    "lon =[]\n",
    "\n",
    "countries = top_10_df[\"Country\"]\n",
    "\n",
    "#processing starting from 0\n",
    "count = 1\n",
    "\n",
    "# use iterrows to iterate through pandas dataframe\n",
    "for country in countries:\n",
    "\n",
    "    try:\n",
    "        # Target city\n",
    "        target_city = country\n",
    "\n",
    "        # Build the endpoint URL\n",
    "        target_url = ('https://maps.googleapis.com/maps/api/geocode/json?address={0}&key={1}').format(target_city, g_key)\n",
    "\n",
    "        # Run a request to endpoint and convert result to json\n",
    "        geo_data = requests.get(target_url).json()\n",
    "\n",
    "        # Print the json\n",
    "        #print(geo_data)\n",
    "    \n",
    "        # Print the json (pretty printed)\n",
    "        #print(json.dumps(geo_data, indent=4, sort_keys=True))\n",
    "    \n",
    "        # Extract latitude and longitude\n",
    "        lat.append(geo_data[\"results\"][0][\"geometry\"][\"location\"][\"lat\"])\n",
    "        lon.append(geo_data[\"results\"][0][\"geometry\"][\"location\"][\"lng\"])\n",
    "        #top_10_df_2015['Lat'] = geo_data[\"results\"][0][\"geometry\"][\"location\"][\"lat\"]\n",
    "        #top_10_df_2015['Lon'] = geo_data[\"results\"][0][\"geometry\"][\"location\"][\"lng\"]\n",
    "        \n",
    "        #loop to the next one\n",
    "        count += 1\n",
    "        \n",
    "    except (KeyError, IndexError):\n",
    "        print(\"Missing field/result... skipping.\")\n",
    "        "
   ]
  },
  {
   "cell_type": "code",
   "execution_count": 82,
   "metadata": {
    "ExecuteTime": {
     "end_time": "2020-10-24T23:58:33.285296Z",
     "start_time": "2020-10-24T23:58:33.274291Z"
    }
   },
   "outputs": [],
   "source": [
    "top_10_df[\"lat\"] = lat\n",
    "top_10_df[\"lon\"] = lon"
   ]
  },
  {
   "cell_type": "code",
   "execution_count": 83,
   "metadata": {
    "ExecuteTime": {
     "end_time": "2020-10-24T23:58:33.540359Z",
     "start_time": "2020-10-24T23:58:33.496347Z"
    }
   },
   "outputs": [
    {
     "data": {
      "text/html": [
       "<div>\n",
       "<style scoped>\n",
       "    .dataframe tbody tr th:only-of-type {\n",
       "        vertical-align: middle;\n",
       "    }\n",
       "\n",
       "    .dataframe tbody tr th {\n",
       "        vertical-align: top;\n",
       "    }\n",
       "\n",
       "    .dataframe thead th {\n",
       "        text-align: right;\n",
       "    }\n",
       "</style>\n",
       "<table border=\"1\" class=\"dataframe\">\n",
       "  <thead>\n",
       "    <tr style=\"text-align: right;\">\n",
       "      <th></th>\n",
       "      <th>Country</th>\n",
       "      <th>Happiness_Rank</th>\n",
       "      <th>Happiness_Score</th>\n",
       "      <th>Economy_(GDP_per_Capita)</th>\n",
       "      <th>Family</th>\n",
       "      <th>Health_(Life_Expectancy)</th>\n",
       "      <th>Freedom</th>\n",
       "      <th>Trust_(Government_Corruption)</th>\n",
       "      <th>Generosity</th>\n",
       "      <th>Dystopia_Residual</th>\n",
       "      <th>year</th>\n",
       "      <th>lat</th>\n",
       "      <th>lon</th>\n",
       "    </tr>\n",
       "  </thead>\n",
       "  <tbody>\n",
       "    <tr>\n",
       "      <th>0</th>\n",
       "      <td>Switzerland</td>\n",
       "      <td>1</td>\n",
       "      <td>7.587</td>\n",
       "      <td>1.39651</td>\n",
       "      <td>1.34951</td>\n",
       "      <td>0.94143</td>\n",
       "      <td>0.66557</td>\n",
       "      <td>0.41978</td>\n",
       "      <td>0.29678</td>\n",
       "      <td>2.51738</td>\n",
       "      <td>2015</td>\n",
       "      <td>46.818188</td>\n",
       "      <td>8.227512</td>\n",
       "    </tr>\n",
       "    <tr>\n",
       "      <th>20</th>\n",
       "      <td>Canada</td>\n",
       "      <td>5</td>\n",
       "      <td>7.427</td>\n",
       "      <td>1.32629</td>\n",
       "      <td>1.32261</td>\n",
       "      <td>0.90563</td>\n",
       "      <td>0.63297</td>\n",
       "      <td>0.32957</td>\n",
       "      <td>0.45811</td>\n",
       "      <td>2.45176</td>\n",
       "      <td>2015</td>\n",
       "      <td>56.130366</td>\n",
       "      <td>-106.346771</td>\n",
       "    </tr>\n",
       "    <tr>\n",
       "      <th>27</th>\n",
       "      <td>Finland</td>\n",
       "      <td>6</td>\n",
       "      <td>7.406</td>\n",
       "      <td>1.29025</td>\n",
       "      <td>1.31826</td>\n",
       "      <td>0.88911</td>\n",
       "      <td>0.64169</td>\n",
       "      <td>0.41372</td>\n",
       "      <td>0.23351</td>\n",
       "      <td>2.61955</td>\n",
       "      <td>2015</td>\n",
       "      <td>61.924110</td>\n",
       "      <td>25.748151</td>\n",
       "    </tr>\n",
       "    <tr>\n",
       "      <th>30</th>\n",
       "      <td>Netherlands</td>\n",
       "      <td>7</td>\n",
       "      <td>7.378</td>\n",
       "      <td>1.32944</td>\n",
       "      <td>1.28017</td>\n",
       "      <td>0.89284</td>\n",
       "      <td>0.61576</td>\n",
       "      <td>0.31814</td>\n",
       "      <td>0.47610</td>\n",
       "      <td>2.46570</td>\n",
       "      <td>2015</td>\n",
       "      <td>52.132633</td>\n",
       "      <td>5.291266</td>\n",
       "    </tr>\n",
       "    <tr>\n",
       "      <th>15</th>\n",
       "      <td>Norway</td>\n",
       "      <td>4</td>\n",
       "      <td>7.522</td>\n",
       "      <td>1.45900</td>\n",
       "      <td>1.33095</td>\n",
       "      <td>0.88521</td>\n",
       "      <td>0.66973</td>\n",
       "      <td>0.36503</td>\n",
       "      <td>0.34699</td>\n",
       "      <td>2.46531</td>\n",
       "      <td>2015</td>\n",
       "      <td>60.472024</td>\n",
       "      <td>8.468946</td>\n",
       "    </tr>\n",
       "  </tbody>\n",
       "</table>\n",
       "</div>"
      ],
      "text/plain": [
       "        Country  Happiness_Rank  Happiness_Score  Economy_(GDP_per_Capita)  \\\n",
       "0   Switzerland               1            7.587                   1.39651   \n",
       "20       Canada               5            7.427                   1.32629   \n",
       "27      Finland               6            7.406                   1.29025   \n",
       "30  Netherlands               7            7.378                   1.32944   \n",
       "15       Norway               4            7.522                   1.45900   \n",
       "\n",
       "     Family  Health_(Life_Expectancy)  Freedom  Trust_(Government_Corruption)  \\\n",
       "0   1.34951                   0.94143  0.66557                        0.41978   \n",
       "20  1.32261                   0.90563  0.63297                        0.32957   \n",
       "27  1.31826                   0.88911  0.64169                        0.41372   \n",
       "30  1.28017                   0.89284  0.61576                        0.31814   \n",
       "15  1.33095                   0.88521  0.66973                        0.36503   \n",
       "\n",
       "    Generosity  Dystopia_Residual  year        lat         lon  \n",
       "0      0.29678            2.51738  2015  46.818188    8.227512  \n",
       "20     0.45811            2.45176  2015  56.130366 -106.346771  \n",
       "27     0.23351            2.61955  2015  61.924110   25.748151  \n",
       "30     0.47610            2.46570  2015  52.132633    5.291266  \n",
       "15     0.34699            2.46531  2015  60.472024    8.468946  "
      ]
     },
     "execution_count": 83,
     "metadata": {},
     "output_type": "execute_result"
    }
   ],
   "source": [
    "#display Dataframe (Lon and Lat)\n",
    "top_10_df.head()"
   ]
  },
  {
   "cell_type": "code",
   "execution_count": 84,
   "metadata": {
    "ExecuteTime": {
     "end_time": "2020-10-24T23:58:33.809426Z",
     "start_time": "2020-10-24T23:58:33.798426Z"
    }
   },
   "outputs": [],
   "source": [
    "top_10_df=top_10_df.sort_values(by=['year'])"
   ]
  },
  {
   "cell_type": "code",
   "execution_count": 85,
   "metadata": {
    "ExecuteTime": {
     "end_time": "2020-10-24T23:58:34.255543Z",
     "start_time": "2020-10-24T23:58:34.071494Z"
    }
   },
   "outputs": [
    {
     "data": {
      "application/vnd.plotly.v1+json": {
       "config": {
        "plotlyServerURL": "https://plot.ly"
       },
       "data": [
        {
         "geo": "geo",
         "hovertemplate": "<b>%{hovertext}</b><br><br>year=2015<br>Happiness_Score=%{marker.color}<br>Happiness_Rank=%{text}<br>lat=%{lat}<br>lon=%{lon}<extra></extra>",
         "hovertext": [
          "Switzerland",
          "Canada",
          "Finland",
          "Netherlands",
          "Norway",
          "Denmark",
          "Sweden",
          "Australia",
          "New Zealand",
          "Iceland"
         ],
         "lat": [
          46.818188,
          56.130366,
          61.92410999999999,
          52.132633,
          60.47202399999999,
          56.26392,
          60.12816100000001,
          -25.274398,
          -40.900557,
          64.963051
         ],
         "legendgroup": "",
         "lon": [
          8.227511999999999,
          -106.346771,
          25.7481511,
          5.291265999999999,
          8.468945999999999,
          9.501785,
          18.643501,
          133.775136,
          174.885971,
          -19.020835
         ],
         "marker": {
          "color": [
           7.5870000000000015,
           7.427,
           7.4060000000000015,
           7.377999999999999,
           7.522,
           7.527,
           7.364,
           7.284,
           7.286,
           7.561
          ],
          "coloraxis": "coloraxis",
          "size": [
           7.5870000000000015,
           7.427,
           7.4060000000000015,
           7.377999999999999,
           7.522,
           7.527,
           7.364,
           7.284,
           7.286,
           7.561
          ],
          "sizemode": "area",
          "sizeref": 0.0194225
         },
         "name": "",
         "showlegend": false,
         "text": [
          1,
          5,
          6,
          7,
          4,
          3,
          8,
          10,
          9,
          2
         ],
         "type": "scattergeo"
        }
       ],
       "frames": [
        {
         "data": [
          {
           "geo": "geo",
           "hovertemplate": "<b>%{hovertext}</b><br><br>year=2015<br>Happiness_Score=%{marker.color}<br>Happiness_Rank=%{text}<br>lat=%{lat}<br>lon=%{lon}<extra></extra>",
           "hovertext": [
            "Switzerland",
            "Canada",
            "Finland",
            "Netherlands",
            "Norway",
            "Denmark",
            "Sweden",
            "Australia",
            "New Zealand",
            "Iceland"
           ],
           "lat": [
            46.818188,
            56.130366,
            61.92410999999999,
            52.132633,
            60.47202399999999,
            56.26392,
            60.12816100000001,
            -25.274398,
            -40.900557,
            64.963051
           ],
           "legendgroup": "",
           "lon": [
            8.227511999999999,
            -106.346771,
            25.7481511,
            5.291265999999999,
            8.468945999999999,
            9.501785,
            18.643501,
            133.775136,
            174.885971,
            -19.020835
           ],
           "marker": {
            "color": [
             7.5870000000000015,
             7.427,
             7.4060000000000015,
             7.377999999999999,
             7.522,
             7.527,
             7.364,
             7.284,
             7.286,
             7.561
            ],
            "coloraxis": "coloraxis",
            "size": [
             7.5870000000000015,
             7.427,
             7.4060000000000015,
             7.377999999999999,
             7.522,
             7.527,
             7.364,
             7.284,
             7.286,
             7.561
            ],
            "sizemode": "area",
            "sizeref": 0.0194225
           },
           "name": "",
           "showlegend": false,
           "text": [
            1,
            5,
            6,
            7,
            4,
            3,
            8,
            10,
            9,
            2
           ],
           "type": "scattergeo"
          }
         ],
         "name": "2015"
        },
        {
         "data": [
          {
           "geo": "geo",
           "hovertemplate": "<b>%{hovertext}</b><br><br>year=2016<br>Happiness_Score=%{marker.color}<br>Happiness_Rank=%{text}<br>lat=%{lat}<br>lon=%{lon}<extra></extra>",
           "hovertext": [
            "Australia",
            "Switzerland",
            "New Zealand",
            "Finland",
            "Iceland",
            "Norway",
            "Denmark",
            "Sweden",
            "Canada",
            "Netherlands"
           ],
           "lat": [
            -25.274398,
            46.818188,
            -40.900557,
            61.92410999999999,
            64.963051,
            60.47202399999999,
            56.26392,
            60.12816100000001,
            56.130366,
            52.132633
           ],
           "legendgroup": "",
           "lon": [
            133.775136,
            8.227511999999999,
            174.885971,
            25.7481511,
            -19.020835,
            8.468945999999999,
            9.501785,
            18.643501,
            -106.346771,
            5.291265999999999
           ],
           "marker": {
            "color": [
             7.313,
             7.508999999999999,
             7.334,
             7.4129999999999985,
             7.501,
             7.497999999999998,
             7.526,
             7.291,
             7.404,
             7.338999999999999
            ],
            "coloraxis": "coloraxis",
            "size": [
             7.313,
             7.508999999999999,
             7.334,
             7.4129999999999985,
             7.501,
             7.497999999999998,
             7.526,
             7.291,
             7.404,
             7.338999999999999
            ],
            "sizemode": "area",
            "sizeref": 0.0194225
           },
           "name": "",
           "showlegend": false,
           "text": [
            9,
            2,
            8,
            5,
            3,
            4,
            1,
            10,
            6,
            7
           ],
           "type": "scattergeo"
          }
         ],
         "name": "2016"
        },
        {
         "data": [
          {
           "geo": "geo",
           "hovertemplate": "<b>%{hovertext}</b><br><br>year=2017<br>Happiness_Score=%{marker.color}<br>Happiness_Rank=%{text}<br>lat=%{lat}<br>lon=%{lon}<extra></extra>",
           "hovertext": [
            "New Zealand",
            "Canada",
            "Sweden",
            "Netherlands",
            "Australia",
            "Denmark",
            "Switzerland",
            "Finland",
            "Iceland",
            "Norway"
           ],
           "lat": [
            -40.900557,
            56.130366,
            60.12816100000001,
            52.132633,
            -25.274398,
            56.26392,
            46.818188,
            61.92410999999999,
            64.963051,
            60.47202399999999
           ],
           "legendgroup": "",
           "lon": [
            174.885971,
            -106.346771,
            18.643501,
            5.291265999999999,
            133.775136,
            9.501785,
            8.227511999999999,
            25.7481511,
            -19.020835,
            8.468945999999999
           ],
           "marker": {
            "color": [
             7.31400012969971,
             7.31599998474121,
             7.28399991989136,
             7.3769998550415,
             7.28399991989136,
             7.52199983596802,
             7.49399995803833,
             7.468999862670901,
             7.50400018692017,
             7.537000179290769
            ],
            "coloraxis": "coloraxis",
            "size": [
             7.31400012969971,
             7.31599998474121,
             7.28399991989136,
             7.3769998550415,
             7.28399991989136,
             7.52199983596802,
             7.49399995803833,
             7.468999862670901,
             7.50400018692017,
             7.537000179290769
            ],
            "sizemode": "area",
            "sizeref": 0.0194225
           },
           "name": "",
           "showlegend": false,
           "text": [
            8,
            7,
            9,
            6,
            10,
            2,
            4,
            5,
            3,
            1
           ],
           "type": "scattergeo"
          }
         ],
         "name": "2017"
        },
        {
         "data": [
          {
           "geo": "geo",
           "hovertemplate": "<b>%{hovertext}</b><br><br>year=2018<br>Happiness_Score=%{marker.color}<br>Happiness_Rank=%{text}<br>lat=%{lat}<br>lon=%{lon}<extra></extra>",
           "hovertext": [
            "Denmark",
            "Australia",
            "Sweden",
            "Norway",
            "Finland",
            "Switzerland",
            "Canada",
            "Iceland",
            "New Zealand",
            "Netherlands"
           ],
           "lat": [
            56.26392,
            -25.274398,
            60.12816100000001,
            60.47202399999999,
            61.92410999999999,
            46.818188,
            56.130366,
            64.963051,
            -40.900557,
            52.132633
           ],
           "legendgroup": "",
           "lon": [
            9.501785,
            133.775136,
            18.643501,
            8.468945999999999,
            25.7481511,
            8.227511999999999,
            -106.346771,
            -19.020835,
            174.885971,
            5.291265999999999
           ],
           "marker": {
            "color": [
             7.555,
             7.272,
             7.314,
             7.5939999999999985,
             7.6320000000000014,
             7.487,
             7.3279999999999985,
             7.495,
             7.324,
             7.441
            ],
            "coloraxis": "coloraxis",
            "size": [
             7.555,
             7.272,
             7.314,
             7.5939999999999985,
             7.6320000000000014,
             7.487,
             7.3279999999999985,
             7.495,
             7.324,
             7.441
            ],
            "sizemode": "area",
            "sizeref": 0.0194225
           },
           "name": "",
           "showlegend": false,
           "text": [
            3,
            10,
            9,
            2,
            1,
            5,
            7,
            4,
            8,
            6
           ],
           "type": "scattergeo"
          }
         ],
         "name": "2018"
        },
        {
         "data": [
          {
           "geo": "geo",
           "hovertemplate": "<b>%{hovertext}</b><br><br>year=2019<br>Happiness_Score=%{marker.color}<br>Happiness_Rank=%{text}<br>lat=%{lat}<br>lon=%{lon}<extra></extra>",
           "hovertext": [
            "Austria",
            "Finland",
            "Sweden",
            "New Zealand",
            "Denmark",
            "Norway",
            "Switzerland",
            "Canada",
            "Iceland",
            "Netherlands"
           ],
           "lat": [
            47.516231,
            61.92410999999999,
            60.12816100000001,
            -40.900557,
            56.26392,
            60.47202399999999,
            46.818188,
            56.130366,
            64.963051,
            52.132633
           ],
           "legendgroup": "",
           "lon": [
            14.550072,
            25.7481511,
            18.643501,
            174.885971,
            9.501785,
            8.468945999999999,
            8.227511999999999,
            -106.346771,
            -19.020835,
            5.291265999999999
           ],
           "marker": {
            "color": [
             7.246,
             7.769,
             7.343,
             7.307,
             7.6,
             7.5539999999999985,
             7.48,
             7.278,
             7.494,
             7.487999999999999
            ],
            "coloraxis": "coloraxis",
            "size": [
             7.246,
             7.769,
             7.343,
             7.307,
             7.6,
             7.5539999999999985,
             7.48,
             7.278,
             7.494,
             7.487999999999999
            ],
            "sizemode": "area",
            "sizeref": 0.0194225
           },
           "name": "",
           "showlegend": false,
           "text": [
            10,
            1,
            7,
            8,
            2,
            3,
            6,
            9,
            4,
            5
           ],
           "type": "scattergeo"
          }
         ],
         "name": "2019"
        }
       ],
       "layout": {
        "coloraxis": {
         "colorbar": {
          "title": {
           "text": "Happiness_Score"
          }
         },
         "colorscale": [
          [
           0,
           "#0d0887"
          ],
          [
           0.1111111111111111,
           "#46039f"
          ],
          [
           0.2222222222222222,
           "#7201a8"
          ],
          [
           0.3333333333333333,
           "#9c179e"
          ],
          [
           0.4444444444444444,
           "#bd3786"
          ],
          [
           0.5555555555555556,
           "#d8576b"
          ],
          [
           0.6666666666666666,
           "#ed7953"
          ],
          [
           0.7777777777777778,
           "#fb9f3a"
          ],
          [
           0.8888888888888888,
           "#fdca26"
          ],
          [
           1,
           "#f0f921"
          ]
         ]
        },
        "geo": {
         "center": {},
         "domain": {
          "x": [
           0,
           1
          ],
          "y": [
           0,
           1
          ]
         },
         "projection": {
          "type": "natural earth"
         }
        },
        "legend": {
         "itemsizing": "constant",
         "tracegroupgap": 0
        },
        "margin": {
         "t": 60
        },
        "sliders": [
         {
          "active": 0,
          "currentvalue": {
           "prefix": "year="
          },
          "len": 0.9,
          "pad": {
           "b": 10,
           "t": 60
          },
          "steps": [
           {
            "args": [
             [
              "2015"
             ],
             {
              "frame": {
               "duration": 0,
               "redraw": true
              },
              "fromcurrent": true,
              "mode": "immediate",
              "transition": {
               "duration": 0,
               "easing": "linear"
              }
             }
            ],
            "label": "2015",
            "method": "animate"
           },
           {
            "args": [
             [
              "2016"
             ],
             {
              "frame": {
               "duration": 0,
               "redraw": true
              },
              "fromcurrent": true,
              "mode": "immediate",
              "transition": {
               "duration": 0,
               "easing": "linear"
              }
             }
            ],
            "label": "2016",
            "method": "animate"
           },
           {
            "args": [
             [
              "2017"
             ],
             {
              "frame": {
               "duration": 0,
               "redraw": true
              },
              "fromcurrent": true,
              "mode": "immediate",
              "transition": {
               "duration": 0,
               "easing": "linear"
              }
             }
            ],
            "label": "2017",
            "method": "animate"
           },
           {
            "args": [
             [
              "2018"
             ],
             {
              "frame": {
               "duration": 0,
               "redraw": true
              },
              "fromcurrent": true,
              "mode": "immediate",
              "transition": {
               "duration": 0,
               "easing": "linear"
              }
             }
            ],
            "label": "2018",
            "method": "animate"
           },
           {
            "args": [
             [
              "2019"
             ],
             {
              "frame": {
               "duration": 0,
               "redraw": true
              },
              "fromcurrent": true,
              "mode": "immediate",
              "transition": {
               "duration": 0,
               "easing": "linear"
              }
             }
            ],
            "label": "2019",
            "method": "animate"
           }
          ],
          "x": 0.1,
          "xanchor": "left",
          "y": 0,
          "yanchor": "top"
         }
        ],
        "template": {
         "data": {
          "bar": [
           {
            "error_x": {
             "color": "#2a3f5f"
            },
            "error_y": {
             "color": "#2a3f5f"
            },
            "marker": {
             "line": {
              "color": "#E5ECF6",
              "width": 0.5
             }
            },
            "type": "bar"
           }
          ],
          "barpolar": [
           {
            "marker": {
             "line": {
              "color": "#E5ECF6",
              "width": 0.5
             }
            },
            "type": "barpolar"
           }
          ],
          "carpet": [
           {
            "aaxis": {
             "endlinecolor": "#2a3f5f",
             "gridcolor": "white",
             "linecolor": "white",
             "minorgridcolor": "white",
             "startlinecolor": "#2a3f5f"
            },
            "baxis": {
             "endlinecolor": "#2a3f5f",
             "gridcolor": "white",
             "linecolor": "white",
             "minorgridcolor": "white",
             "startlinecolor": "#2a3f5f"
            },
            "type": "carpet"
           }
          ],
          "choropleth": [
           {
            "colorbar": {
             "outlinewidth": 0,
             "ticks": ""
            },
            "type": "choropleth"
           }
          ],
          "contour": [
           {
            "colorbar": {
             "outlinewidth": 0,
             "ticks": ""
            },
            "colorscale": [
             [
              0,
              "#0d0887"
             ],
             [
              0.1111111111111111,
              "#46039f"
             ],
             [
              0.2222222222222222,
              "#7201a8"
             ],
             [
              0.3333333333333333,
              "#9c179e"
             ],
             [
              0.4444444444444444,
              "#bd3786"
             ],
             [
              0.5555555555555556,
              "#d8576b"
             ],
             [
              0.6666666666666666,
              "#ed7953"
             ],
             [
              0.7777777777777778,
              "#fb9f3a"
             ],
             [
              0.8888888888888888,
              "#fdca26"
             ],
             [
              1,
              "#f0f921"
             ]
            ],
            "type": "contour"
           }
          ],
          "contourcarpet": [
           {
            "colorbar": {
             "outlinewidth": 0,
             "ticks": ""
            },
            "type": "contourcarpet"
           }
          ],
          "heatmap": [
           {
            "colorbar": {
             "outlinewidth": 0,
             "ticks": ""
            },
            "colorscale": [
             [
              0,
              "#0d0887"
             ],
             [
              0.1111111111111111,
              "#46039f"
             ],
             [
              0.2222222222222222,
              "#7201a8"
             ],
             [
              0.3333333333333333,
              "#9c179e"
             ],
             [
              0.4444444444444444,
              "#bd3786"
             ],
             [
              0.5555555555555556,
              "#d8576b"
             ],
             [
              0.6666666666666666,
              "#ed7953"
             ],
             [
              0.7777777777777778,
              "#fb9f3a"
             ],
             [
              0.8888888888888888,
              "#fdca26"
             ],
             [
              1,
              "#f0f921"
             ]
            ],
            "type": "heatmap"
           }
          ],
          "heatmapgl": [
           {
            "colorbar": {
             "outlinewidth": 0,
             "ticks": ""
            },
            "colorscale": [
             [
              0,
              "#0d0887"
             ],
             [
              0.1111111111111111,
              "#46039f"
             ],
             [
              0.2222222222222222,
              "#7201a8"
             ],
             [
              0.3333333333333333,
              "#9c179e"
             ],
             [
              0.4444444444444444,
              "#bd3786"
             ],
             [
              0.5555555555555556,
              "#d8576b"
             ],
             [
              0.6666666666666666,
              "#ed7953"
             ],
             [
              0.7777777777777778,
              "#fb9f3a"
             ],
             [
              0.8888888888888888,
              "#fdca26"
             ],
             [
              1,
              "#f0f921"
             ]
            ],
            "type": "heatmapgl"
           }
          ],
          "histogram": [
           {
            "marker": {
             "colorbar": {
              "outlinewidth": 0,
              "ticks": ""
             }
            },
            "type": "histogram"
           }
          ],
          "histogram2d": [
           {
            "colorbar": {
             "outlinewidth": 0,
             "ticks": ""
            },
            "colorscale": [
             [
              0,
              "#0d0887"
             ],
             [
              0.1111111111111111,
              "#46039f"
             ],
             [
              0.2222222222222222,
              "#7201a8"
             ],
             [
              0.3333333333333333,
              "#9c179e"
             ],
             [
              0.4444444444444444,
              "#bd3786"
             ],
             [
              0.5555555555555556,
              "#d8576b"
             ],
             [
              0.6666666666666666,
              "#ed7953"
             ],
             [
              0.7777777777777778,
              "#fb9f3a"
             ],
             [
              0.8888888888888888,
              "#fdca26"
             ],
             [
              1,
              "#f0f921"
             ]
            ],
            "type": "histogram2d"
           }
          ],
          "histogram2dcontour": [
           {
            "colorbar": {
             "outlinewidth": 0,
             "ticks": ""
            },
            "colorscale": [
             [
              0,
              "#0d0887"
             ],
             [
              0.1111111111111111,
              "#46039f"
             ],
             [
              0.2222222222222222,
              "#7201a8"
             ],
             [
              0.3333333333333333,
              "#9c179e"
             ],
             [
              0.4444444444444444,
              "#bd3786"
             ],
             [
              0.5555555555555556,
              "#d8576b"
             ],
             [
              0.6666666666666666,
              "#ed7953"
             ],
             [
              0.7777777777777778,
              "#fb9f3a"
             ],
             [
              0.8888888888888888,
              "#fdca26"
             ],
             [
              1,
              "#f0f921"
             ]
            ],
            "type": "histogram2dcontour"
           }
          ],
          "mesh3d": [
           {
            "colorbar": {
             "outlinewidth": 0,
             "ticks": ""
            },
            "type": "mesh3d"
           }
          ],
          "parcoords": [
           {
            "line": {
             "colorbar": {
              "outlinewidth": 0,
              "ticks": ""
             }
            },
            "type": "parcoords"
           }
          ],
          "pie": [
           {
            "automargin": true,
            "type": "pie"
           }
          ],
          "scatter": [
           {
            "marker": {
             "colorbar": {
              "outlinewidth": 0,
              "ticks": ""
             }
            },
            "type": "scatter"
           }
          ],
          "scatter3d": [
           {
            "line": {
             "colorbar": {
              "outlinewidth": 0,
              "ticks": ""
             }
            },
            "marker": {
             "colorbar": {
              "outlinewidth": 0,
              "ticks": ""
             }
            },
            "type": "scatter3d"
           }
          ],
          "scattercarpet": [
           {
            "marker": {
             "colorbar": {
              "outlinewidth": 0,
              "ticks": ""
             }
            },
            "type": "scattercarpet"
           }
          ],
          "scattergeo": [
           {
            "marker": {
             "colorbar": {
              "outlinewidth": 0,
              "ticks": ""
             }
            },
            "type": "scattergeo"
           }
          ],
          "scattergl": [
           {
            "marker": {
             "colorbar": {
              "outlinewidth": 0,
              "ticks": ""
             }
            },
            "type": "scattergl"
           }
          ],
          "scattermapbox": [
           {
            "marker": {
             "colorbar": {
              "outlinewidth": 0,
              "ticks": ""
             }
            },
            "type": "scattermapbox"
           }
          ],
          "scatterpolar": [
           {
            "marker": {
             "colorbar": {
              "outlinewidth": 0,
              "ticks": ""
             }
            },
            "type": "scatterpolar"
           }
          ],
          "scatterpolargl": [
           {
            "marker": {
             "colorbar": {
              "outlinewidth": 0,
              "ticks": ""
             }
            },
            "type": "scatterpolargl"
           }
          ],
          "scatterternary": [
           {
            "marker": {
             "colorbar": {
              "outlinewidth": 0,
              "ticks": ""
             }
            },
            "type": "scatterternary"
           }
          ],
          "surface": [
           {
            "colorbar": {
             "outlinewidth": 0,
             "ticks": ""
            },
            "colorscale": [
             [
              0,
              "#0d0887"
             ],
             [
              0.1111111111111111,
              "#46039f"
             ],
             [
              0.2222222222222222,
              "#7201a8"
             ],
             [
              0.3333333333333333,
              "#9c179e"
             ],
             [
              0.4444444444444444,
              "#bd3786"
             ],
             [
              0.5555555555555556,
              "#d8576b"
             ],
             [
              0.6666666666666666,
              "#ed7953"
             ],
             [
              0.7777777777777778,
              "#fb9f3a"
             ],
             [
              0.8888888888888888,
              "#fdca26"
             ],
             [
              1,
              "#f0f921"
             ]
            ],
            "type": "surface"
           }
          ],
          "table": [
           {
            "cells": {
             "fill": {
              "color": "#EBF0F8"
             },
             "line": {
              "color": "white"
             }
            },
            "header": {
             "fill": {
              "color": "#C8D4E3"
             },
             "line": {
              "color": "white"
             }
            },
            "type": "table"
           }
          ]
         },
         "layout": {
          "annotationdefaults": {
           "arrowcolor": "#2a3f5f",
           "arrowhead": 0,
           "arrowwidth": 1
          },
          "coloraxis": {
           "colorbar": {
            "outlinewidth": 0,
            "ticks": ""
           }
          },
          "colorscale": {
           "diverging": [
            [
             0,
             "#8e0152"
            ],
            [
             0.1,
             "#c51b7d"
            ],
            [
             0.2,
             "#de77ae"
            ],
            [
             0.3,
             "#f1b6da"
            ],
            [
             0.4,
             "#fde0ef"
            ],
            [
             0.5,
             "#f7f7f7"
            ],
            [
             0.6,
             "#e6f5d0"
            ],
            [
             0.7,
             "#b8e186"
            ],
            [
             0.8,
             "#7fbc41"
            ],
            [
             0.9,
             "#4d9221"
            ],
            [
             1,
             "#276419"
            ]
           ],
           "sequential": [
            [
             0,
             "#0d0887"
            ],
            [
             0.1111111111111111,
             "#46039f"
            ],
            [
             0.2222222222222222,
             "#7201a8"
            ],
            [
             0.3333333333333333,
             "#9c179e"
            ],
            [
             0.4444444444444444,
             "#bd3786"
            ],
            [
             0.5555555555555556,
             "#d8576b"
            ],
            [
             0.6666666666666666,
             "#ed7953"
            ],
            [
             0.7777777777777778,
             "#fb9f3a"
            ],
            [
             0.8888888888888888,
             "#fdca26"
            ],
            [
             1,
             "#f0f921"
            ]
           ],
           "sequentialminus": [
            [
             0,
             "#0d0887"
            ],
            [
             0.1111111111111111,
             "#46039f"
            ],
            [
             0.2222222222222222,
             "#7201a8"
            ],
            [
             0.3333333333333333,
             "#9c179e"
            ],
            [
             0.4444444444444444,
             "#bd3786"
            ],
            [
             0.5555555555555556,
             "#d8576b"
            ],
            [
             0.6666666666666666,
             "#ed7953"
            ],
            [
             0.7777777777777778,
             "#fb9f3a"
            ],
            [
             0.8888888888888888,
             "#fdca26"
            ],
            [
             1,
             "#f0f921"
            ]
           ]
          },
          "colorway": [
           "#636efa",
           "#EF553B",
           "#00cc96",
           "#ab63fa",
           "#FFA15A",
           "#19d3f3",
           "#FF6692",
           "#B6E880",
           "#FF97FF",
           "#FECB52"
          ],
          "font": {
           "color": "#2a3f5f"
          },
          "geo": {
           "bgcolor": "white",
           "lakecolor": "white",
           "landcolor": "#E5ECF6",
           "showlakes": true,
           "showland": true,
           "subunitcolor": "white"
          },
          "hoverlabel": {
           "align": "left"
          },
          "hovermode": "closest",
          "mapbox": {
           "style": "light"
          },
          "paper_bgcolor": "white",
          "plot_bgcolor": "#E5ECF6",
          "polar": {
           "angularaxis": {
            "gridcolor": "white",
            "linecolor": "white",
            "ticks": ""
           },
           "bgcolor": "#E5ECF6",
           "radialaxis": {
            "gridcolor": "white",
            "linecolor": "white",
            "ticks": ""
           }
          },
          "scene": {
           "xaxis": {
            "backgroundcolor": "#E5ECF6",
            "gridcolor": "white",
            "gridwidth": 2,
            "linecolor": "white",
            "showbackground": true,
            "ticks": "",
            "zerolinecolor": "white"
           },
           "yaxis": {
            "backgroundcolor": "#E5ECF6",
            "gridcolor": "white",
            "gridwidth": 2,
            "linecolor": "white",
            "showbackground": true,
            "ticks": "",
            "zerolinecolor": "white"
           },
           "zaxis": {
            "backgroundcolor": "#E5ECF6",
            "gridcolor": "white",
            "gridwidth": 2,
            "linecolor": "white",
            "showbackground": true,
            "ticks": "",
            "zerolinecolor": "white"
           }
          },
          "shapedefaults": {
           "line": {
            "color": "#2a3f5f"
           }
          },
          "ternary": {
           "aaxis": {
            "gridcolor": "white",
            "linecolor": "white",
            "ticks": ""
           },
           "baxis": {
            "gridcolor": "white",
            "linecolor": "white",
            "ticks": ""
           },
           "bgcolor": "#E5ECF6",
           "caxis": {
            "gridcolor": "white",
            "linecolor": "white",
            "ticks": ""
           }
          },
          "title": {
           "x": 0.05
          },
          "xaxis": {
           "automargin": true,
           "gridcolor": "white",
           "linecolor": "white",
           "ticks": "",
           "title": {
            "standoff": 15
           },
           "zerolinecolor": "white",
           "zerolinewidth": 2
          },
          "yaxis": {
           "automargin": true,
           "gridcolor": "white",
           "linecolor": "white",
           "ticks": "",
           "title": {
            "standoff": 15
           },
           "zerolinecolor": "white",
           "zerolinewidth": 2
          }
         }
        },
        "updatemenus": [
         {
          "buttons": [
           {
            "args": [
             null,
             {
              "frame": {
               "duration": 500,
               "redraw": true
              },
              "fromcurrent": true,
              "mode": "immediate",
              "transition": {
               "duration": 500,
               "easing": "linear"
              }
             }
            ],
            "label": "&#9654;",
            "method": "animate"
           },
           {
            "args": [
             [
              null
             ],
             {
              "frame": {
               "duration": 0,
               "redraw": true
              },
              "fromcurrent": true,
              "mode": "immediate",
              "transition": {
               "duration": 0,
               "easing": "linear"
              }
             }
            ],
            "label": "&#9724;",
            "method": "animate"
           }
          ],
          "direction": "left",
          "pad": {
           "r": 10,
           "t": 70
          },
          "showactive": false,
          "type": "buttons",
          "x": 0.1,
          "xanchor": "right",
          "y": 0,
          "yanchor": "top"
         }
        ]
       }
      },
      "text/html": [
       "<div>                            <div id=\"3ee6e55d-4a00-4ba0-aa7a-9f49d1f31aab\" class=\"plotly-graph-div\" style=\"height:525px; width:100%;\"></div>            <script type=\"text/javascript\">                require([\"plotly\"], function(Plotly) {                    window.PLOTLYENV=window.PLOTLYENV || {};                                    if (document.getElementById(\"3ee6e55d-4a00-4ba0-aa7a-9f49d1f31aab\")) {                    Plotly.newPlot(                        \"3ee6e55d-4a00-4ba0-aa7a-9f49d1f31aab\",                        [{\"geo\": \"geo\", \"hovertemplate\": \"<b>%{hovertext}</b><br><br>year=2015<br>Happiness_Score=%{marker.color}<br>Happiness_Rank=%{text}<br>lat=%{lat}<br>lon=%{lon}<extra></extra>\", \"hovertext\": [\"Switzerland\", \"Canada\", \"Finland\", \"Netherlands\", \"Norway\", \"Denmark\", \"Sweden\", \"Australia\", \"New Zealand\", \"Iceland\"], \"lat\": [46.818188, 56.130366, 61.92410999999999, 52.132633, 60.47202399999999, 56.26392, 60.12816100000001, -25.274398, -40.900557, 64.963051], \"legendgroup\": \"\", \"lon\": [8.227511999999999, -106.346771, 25.7481511, 5.291265999999999, 8.468945999999999, 9.501785, 18.643501, 133.775136, 174.885971, -19.020835], \"marker\": {\"color\": [7.5870000000000015, 7.427, 7.4060000000000015, 7.377999999999999, 7.522, 7.527, 7.364, 7.284, 7.286, 7.561], \"coloraxis\": \"coloraxis\", \"size\": [7.5870000000000015, 7.427, 7.4060000000000015, 7.377999999999999, 7.522, 7.527, 7.364, 7.284, 7.286, 7.561], \"sizemode\": \"area\", \"sizeref\": 0.0194225}, \"name\": \"\", \"showlegend\": false, \"text\": [1.0, 5.0, 6.0, 7.0, 4.0, 3.0, 8.0, 10.0, 9.0, 2.0], \"type\": \"scattergeo\"}],                        {\"coloraxis\": {\"colorbar\": {\"title\": {\"text\": \"Happiness_Score\"}}, \"colorscale\": [[0.0, \"#0d0887\"], [0.1111111111111111, \"#46039f\"], [0.2222222222222222, \"#7201a8\"], [0.3333333333333333, \"#9c179e\"], [0.4444444444444444, \"#bd3786\"], [0.5555555555555556, \"#d8576b\"], [0.6666666666666666, \"#ed7953\"], [0.7777777777777778, \"#fb9f3a\"], [0.8888888888888888, \"#fdca26\"], [1.0, \"#f0f921\"]]}, \"geo\": {\"center\": {}, \"domain\": {\"x\": [0.0, 1.0], \"y\": [0.0, 1.0]}, \"projection\": {\"type\": \"natural earth\"}}, \"legend\": {\"itemsizing\": \"constant\", \"tracegroupgap\": 0}, \"margin\": {\"t\": 60}, \"sliders\": [{\"active\": 0, \"currentvalue\": {\"prefix\": \"year=\"}, \"len\": 0.9, \"pad\": {\"b\": 10, \"t\": 60}, \"steps\": [{\"args\": [[\"2015\"], {\"frame\": {\"duration\": 0, \"redraw\": true}, \"fromcurrent\": true, \"mode\": \"immediate\", \"transition\": {\"duration\": 0, \"easing\": \"linear\"}}], \"label\": \"2015\", \"method\": \"animate\"}, {\"args\": [[\"2016\"], {\"frame\": {\"duration\": 0, \"redraw\": true}, \"fromcurrent\": true, \"mode\": \"immediate\", \"transition\": {\"duration\": 0, \"easing\": \"linear\"}}], \"label\": \"2016\", \"method\": \"animate\"}, {\"args\": [[\"2017\"], {\"frame\": {\"duration\": 0, \"redraw\": true}, \"fromcurrent\": true, \"mode\": \"immediate\", \"transition\": {\"duration\": 0, \"easing\": \"linear\"}}], \"label\": \"2017\", \"method\": \"animate\"}, {\"args\": [[\"2018\"], {\"frame\": {\"duration\": 0, \"redraw\": true}, \"fromcurrent\": true, \"mode\": \"immediate\", \"transition\": {\"duration\": 0, \"easing\": \"linear\"}}], \"label\": \"2018\", \"method\": \"animate\"}, {\"args\": [[\"2019\"], {\"frame\": {\"duration\": 0, \"redraw\": true}, \"fromcurrent\": true, \"mode\": \"immediate\", \"transition\": {\"duration\": 0, \"easing\": \"linear\"}}], \"label\": \"2019\", \"method\": \"animate\"}], \"x\": 0.1, \"xanchor\": \"left\", \"y\": 0, \"yanchor\": \"top\"}], \"template\": {\"data\": {\"bar\": [{\"error_x\": {\"color\": \"#2a3f5f\"}, \"error_y\": {\"color\": \"#2a3f5f\"}, \"marker\": {\"line\": {\"color\": \"#E5ECF6\", \"width\": 0.5}}, \"type\": \"bar\"}], \"barpolar\": [{\"marker\": {\"line\": {\"color\": \"#E5ECF6\", \"width\": 0.5}}, \"type\": \"barpolar\"}], \"carpet\": [{\"aaxis\": {\"endlinecolor\": \"#2a3f5f\", \"gridcolor\": \"white\", \"linecolor\": \"white\", \"minorgridcolor\": \"white\", \"startlinecolor\": \"#2a3f5f\"}, \"baxis\": {\"endlinecolor\": \"#2a3f5f\", \"gridcolor\": \"white\", \"linecolor\": \"white\", \"minorgridcolor\": \"white\", \"startlinecolor\": \"#2a3f5f\"}, \"type\": \"carpet\"}], \"choropleth\": [{\"colorbar\": {\"outlinewidth\": 0, \"ticks\": \"\"}, \"type\": \"choropleth\"}], \"contour\": [{\"colorbar\": {\"outlinewidth\": 0, \"ticks\": \"\"}, \"colorscale\": [[0.0, \"#0d0887\"], [0.1111111111111111, \"#46039f\"], [0.2222222222222222, \"#7201a8\"], [0.3333333333333333, \"#9c179e\"], [0.4444444444444444, \"#bd3786\"], [0.5555555555555556, \"#d8576b\"], [0.6666666666666666, \"#ed7953\"], [0.7777777777777778, \"#fb9f3a\"], [0.8888888888888888, \"#fdca26\"], [1.0, \"#f0f921\"]], \"type\": \"contour\"}], \"contourcarpet\": [{\"colorbar\": {\"outlinewidth\": 0, \"ticks\": \"\"}, \"type\": \"contourcarpet\"}], \"heatmap\": [{\"colorbar\": {\"outlinewidth\": 0, \"ticks\": \"\"}, \"colorscale\": [[0.0, \"#0d0887\"], [0.1111111111111111, \"#46039f\"], [0.2222222222222222, \"#7201a8\"], [0.3333333333333333, \"#9c179e\"], [0.4444444444444444, \"#bd3786\"], [0.5555555555555556, \"#d8576b\"], [0.6666666666666666, \"#ed7953\"], [0.7777777777777778, \"#fb9f3a\"], [0.8888888888888888, \"#fdca26\"], [1.0, \"#f0f921\"]], \"type\": \"heatmap\"}], \"heatmapgl\": [{\"colorbar\": {\"outlinewidth\": 0, \"ticks\": \"\"}, \"colorscale\": [[0.0, \"#0d0887\"], [0.1111111111111111, \"#46039f\"], [0.2222222222222222, \"#7201a8\"], [0.3333333333333333, \"#9c179e\"], [0.4444444444444444, \"#bd3786\"], [0.5555555555555556, \"#d8576b\"], [0.6666666666666666, \"#ed7953\"], [0.7777777777777778, \"#fb9f3a\"], [0.8888888888888888, \"#fdca26\"], [1.0, \"#f0f921\"]], \"type\": \"heatmapgl\"}], \"histogram\": [{\"marker\": {\"colorbar\": {\"outlinewidth\": 0, \"ticks\": \"\"}}, \"type\": \"histogram\"}], \"histogram2d\": [{\"colorbar\": {\"outlinewidth\": 0, \"ticks\": \"\"}, \"colorscale\": [[0.0, \"#0d0887\"], [0.1111111111111111, \"#46039f\"], [0.2222222222222222, \"#7201a8\"], [0.3333333333333333, \"#9c179e\"], [0.4444444444444444, \"#bd3786\"], [0.5555555555555556, \"#d8576b\"], [0.6666666666666666, \"#ed7953\"], [0.7777777777777778, \"#fb9f3a\"], [0.8888888888888888, \"#fdca26\"], [1.0, \"#f0f921\"]], \"type\": \"histogram2d\"}], \"histogram2dcontour\": [{\"colorbar\": {\"outlinewidth\": 0, \"ticks\": \"\"}, \"colorscale\": [[0.0, \"#0d0887\"], [0.1111111111111111, \"#46039f\"], [0.2222222222222222, \"#7201a8\"], [0.3333333333333333, \"#9c179e\"], [0.4444444444444444, \"#bd3786\"], [0.5555555555555556, \"#d8576b\"], [0.6666666666666666, \"#ed7953\"], [0.7777777777777778, \"#fb9f3a\"], [0.8888888888888888, \"#fdca26\"], [1.0, \"#f0f921\"]], \"type\": \"histogram2dcontour\"}], \"mesh3d\": [{\"colorbar\": {\"outlinewidth\": 0, \"ticks\": \"\"}, \"type\": \"mesh3d\"}], \"parcoords\": [{\"line\": {\"colorbar\": {\"outlinewidth\": 0, \"ticks\": \"\"}}, \"type\": \"parcoords\"}], \"pie\": [{\"automargin\": true, \"type\": \"pie\"}], \"scatter\": [{\"marker\": {\"colorbar\": {\"outlinewidth\": 0, \"ticks\": \"\"}}, \"type\": \"scatter\"}], \"scatter3d\": [{\"line\": {\"colorbar\": {\"outlinewidth\": 0, \"ticks\": \"\"}}, \"marker\": {\"colorbar\": {\"outlinewidth\": 0, \"ticks\": \"\"}}, \"type\": \"scatter3d\"}], \"scattercarpet\": [{\"marker\": {\"colorbar\": {\"outlinewidth\": 0, \"ticks\": \"\"}}, \"type\": \"scattercarpet\"}], \"scattergeo\": [{\"marker\": {\"colorbar\": {\"outlinewidth\": 0, \"ticks\": \"\"}}, \"type\": \"scattergeo\"}], \"scattergl\": [{\"marker\": {\"colorbar\": {\"outlinewidth\": 0, \"ticks\": \"\"}}, \"type\": \"scattergl\"}], \"scattermapbox\": [{\"marker\": {\"colorbar\": {\"outlinewidth\": 0, \"ticks\": \"\"}}, \"type\": \"scattermapbox\"}], \"scatterpolar\": [{\"marker\": {\"colorbar\": {\"outlinewidth\": 0, \"ticks\": \"\"}}, \"type\": \"scatterpolar\"}], \"scatterpolargl\": [{\"marker\": {\"colorbar\": {\"outlinewidth\": 0, \"ticks\": \"\"}}, \"type\": \"scatterpolargl\"}], \"scatterternary\": [{\"marker\": {\"colorbar\": {\"outlinewidth\": 0, \"ticks\": \"\"}}, \"type\": \"scatterternary\"}], \"surface\": [{\"colorbar\": {\"outlinewidth\": 0, \"ticks\": \"\"}, \"colorscale\": [[0.0, \"#0d0887\"], [0.1111111111111111, \"#46039f\"], [0.2222222222222222, \"#7201a8\"], [0.3333333333333333, \"#9c179e\"], [0.4444444444444444, \"#bd3786\"], [0.5555555555555556, \"#d8576b\"], [0.6666666666666666, \"#ed7953\"], [0.7777777777777778, \"#fb9f3a\"], [0.8888888888888888, \"#fdca26\"], [1.0, \"#f0f921\"]], \"type\": \"surface\"}], \"table\": [{\"cells\": {\"fill\": {\"color\": \"#EBF0F8\"}, \"line\": {\"color\": \"white\"}}, \"header\": {\"fill\": {\"color\": \"#C8D4E3\"}, \"line\": {\"color\": \"white\"}}, \"type\": \"table\"}]}, \"layout\": {\"annotationdefaults\": {\"arrowcolor\": \"#2a3f5f\", \"arrowhead\": 0, \"arrowwidth\": 1}, \"coloraxis\": {\"colorbar\": {\"outlinewidth\": 0, \"ticks\": \"\"}}, \"colorscale\": {\"diverging\": [[0, \"#8e0152\"], [0.1, \"#c51b7d\"], [0.2, \"#de77ae\"], [0.3, \"#f1b6da\"], [0.4, \"#fde0ef\"], [0.5, \"#f7f7f7\"], [0.6, \"#e6f5d0\"], [0.7, \"#b8e186\"], [0.8, \"#7fbc41\"], [0.9, \"#4d9221\"], [1, \"#276419\"]], \"sequential\": [[0.0, \"#0d0887\"], [0.1111111111111111, \"#46039f\"], [0.2222222222222222, \"#7201a8\"], [0.3333333333333333, \"#9c179e\"], [0.4444444444444444, \"#bd3786\"], [0.5555555555555556, \"#d8576b\"], [0.6666666666666666, \"#ed7953\"], [0.7777777777777778, \"#fb9f3a\"], [0.8888888888888888, \"#fdca26\"], [1.0, \"#f0f921\"]], \"sequentialminus\": [[0.0, \"#0d0887\"], [0.1111111111111111, \"#46039f\"], [0.2222222222222222, \"#7201a8\"], [0.3333333333333333, \"#9c179e\"], [0.4444444444444444, \"#bd3786\"], [0.5555555555555556, \"#d8576b\"], [0.6666666666666666, \"#ed7953\"], [0.7777777777777778, \"#fb9f3a\"], [0.8888888888888888, \"#fdca26\"], [1.0, \"#f0f921\"]]}, \"colorway\": [\"#636efa\", \"#EF553B\", \"#00cc96\", \"#ab63fa\", \"#FFA15A\", \"#19d3f3\", \"#FF6692\", \"#B6E880\", \"#FF97FF\", \"#FECB52\"], \"font\": {\"color\": \"#2a3f5f\"}, \"geo\": {\"bgcolor\": \"white\", \"lakecolor\": \"white\", \"landcolor\": \"#E5ECF6\", \"showlakes\": true, \"showland\": true, \"subunitcolor\": \"white\"}, \"hoverlabel\": {\"align\": \"left\"}, \"hovermode\": \"closest\", \"mapbox\": {\"style\": \"light\"}, \"paper_bgcolor\": \"white\", \"plot_bgcolor\": \"#E5ECF6\", \"polar\": {\"angularaxis\": {\"gridcolor\": \"white\", \"linecolor\": \"white\", \"ticks\": \"\"}, \"bgcolor\": \"#E5ECF6\", \"radialaxis\": {\"gridcolor\": \"white\", \"linecolor\": \"white\", \"ticks\": \"\"}}, \"scene\": {\"xaxis\": {\"backgroundcolor\": \"#E5ECF6\", \"gridcolor\": \"white\", \"gridwidth\": 2, \"linecolor\": \"white\", \"showbackground\": true, \"ticks\": \"\", \"zerolinecolor\": \"white\"}, \"yaxis\": {\"backgroundcolor\": \"#E5ECF6\", \"gridcolor\": \"white\", \"gridwidth\": 2, \"linecolor\": \"white\", \"showbackground\": true, \"ticks\": \"\", \"zerolinecolor\": \"white\"}, \"zaxis\": {\"backgroundcolor\": \"#E5ECF6\", \"gridcolor\": \"white\", \"gridwidth\": 2, \"linecolor\": \"white\", \"showbackground\": true, \"ticks\": \"\", \"zerolinecolor\": \"white\"}}, \"shapedefaults\": {\"line\": {\"color\": \"#2a3f5f\"}}, \"ternary\": {\"aaxis\": {\"gridcolor\": \"white\", \"linecolor\": \"white\", \"ticks\": \"\"}, \"baxis\": {\"gridcolor\": \"white\", \"linecolor\": \"white\", \"ticks\": \"\"}, \"bgcolor\": \"#E5ECF6\", \"caxis\": {\"gridcolor\": \"white\", \"linecolor\": \"white\", \"ticks\": \"\"}}, \"title\": {\"x\": 0.05}, \"xaxis\": {\"automargin\": true, \"gridcolor\": \"white\", \"linecolor\": \"white\", \"ticks\": \"\", \"title\": {\"standoff\": 15}, \"zerolinecolor\": \"white\", \"zerolinewidth\": 2}, \"yaxis\": {\"automargin\": true, \"gridcolor\": \"white\", \"linecolor\": \"white\", \"ticks\": \"\", \"title\": {\"standoff\": 15}, \"zerolinecolor\": \"white\", \"zerolinewidth\": 2}}}, \"updatemenus\": [{\"buttons\": [{\"args\": [null, {\"frame\": {\"duration\": 500, \"redraw\": true}, \"fromcurrent\": true, \"mode\": \"immediate\", \"transition\": {\"duration\": 500, \"easing\": \"linear\"}}], \"label\": \"&#9654;\", \"method\": \"animate\"}, {\"args\": [[null], {\"frame\": {\"duration\": 0, \"redraw\": true}, \"fromcurrent\": true, \"mode\": \"immediate\", \"transition\": {\"duration\": 0, \"easing\": \"linear\"}}], \"label\": \"&#9724;\", \"method\": \"animate\"}], \"direction\": \"left\", \"pad\": {\"r\": 10, \"t\": 70}, \"showactive\": false, \"type\": \"buttons\", \"x\": 0.1, \"xanchor\": \"right\", \"y\": 0, \"yanchor\": \"top\"}]},                        {\"responsive\": true}                    ).then(function(){\n",
       "                            Plotly.addFrames('3ee6e55d-4a00-4ba0-aa7a-9f49d1f31aab', [{\"data\": [{\"geo\": \"geo\", \"hovertemplate\": \"<b>%{hovertext}</b><br><br>year=2015<br>Happiness_Score=%{marker.color}<br>Happiness_Rank=%{text}<br>lat=%{lat}<br>lon=%{lon}<extra></extra>\", \"hovertext\": [\"Switzerland\", \"Canada\", \"Finland\", \"Netherlands\", \"Norway\", \"Denmark\", \"Sweden\", \"Australia\", \"New Zealand\", \"Iceland\"], \"lat\": [46.818188, 56.130366, 61.92410999999999, 52.132633, 60.47202399999999, 56.26392, 60.12816100000001, -25.274398, -40.900557, 64.963051], \"legendgroup\": \"\", \"lon\": [8.227511999999999, -106.346771, 25.7481511, 5.291265999999999, 8.468945999999999, 9.501785, 18.643501, 133.775136, 174.885971, -19.020835], \"marker\": {\"color\": [7.5870000000000015, 7.427, 7.4060000000000015, 7.377999999999999, 7.522, 7.527, 7.364, 7.284, 7.286, 7.561], \"coloraxis\": \"coloraxis\", \"size\": [7.5870000000000015, 7.427, 7.4060000000000015, 7.377999999999999, 7.522, 7.527, 7.364, 7.284, 7.286, 7.561], \"sizemode\": \"area\", \"sizeref\": 0.0194225}, \"name\": \"\", \"showlegend\": false, \"text\": [1.0, 5.0, 6.0, 7.0, 4.0, 3.0, 8.0, 10.0, 9.0, 2.0], \"type\": \"scattergeo\"}], \"name\": \"2015\"}, {\"data\": [{\"geo\": \"geo\", \"hovertemplate\": \"<b>%{hovertext}</b><br><br>year=2016<br>Happiness_Score=%{marker.color}<br>Happiness_Rank=%{text}<br>lat=%{lat}<br>lon=%{lon}<extra></extra>\", \"hovertext\": [\"Australia\", \"Switzerland\", \"New Zealand\", \"Finland\", \"Iceland\", \"Norway\", \"Denmark\", \"Sweden\", \"Canada\", \"Netherlands\"], \"lat\": [-25.274398, 46.818188, -40.900557, 61.92410999999999, 64.963051, 60.47202399999999, 56.26392, 60.12816100000001, 56.130366, 52.132633], \"legendgroup\": \"\", \"lon\": [133.775136, 8.227511999999999, 174.885971, 25.7481511, -19.020835, 8.468945999999999, 9.501785, 18.643501, -106.346771, 5.291265999999999], \"marker\": {\"color\": [7.313, 7.508999999999999, 7.334, 7.4129999999999985, 7.501, 7.497999999999998, 7.526, 7.291, 7.404, 7.338999999999999], \"coloraxis\": \"coloraxis\", \"size\": [7.313, 7.508999999999999, 7.334, 7.4129999999999985, 7.501, 7.497999999999998, 7.526, 7.291, 7.404, 7.338999999999999], \"sizemode\": \"area\", \"sizeref\": 0.0194225}, \"name\": \"\", \"showlegend\": false, \"text\": [9.0, 2.0, 8.0, 5.0, 3.0, 4.0, 1.0, 10.0, 6.0, 7.0], \"type\": \"scattergeo\"}], \"name\": \"2016\"}, {\"data\": [{\"geo\": \"geo\", \"hovertemplate\": \"<b>%{hovertext}</b><br><br>year=2017<br>Happiness_Score=%{marker.color}<br>Happiness_Rank=%{text}<br>lat=%{lat}<br>lon=%{lon}<extra></extra>\", \"hovertext\": [\"New Zealand\", \"Canada\", \"Sweden\", \"Netherlands\", \"Australia\", \"Denmark\", \"Switzerland\", \"Finland\", \"Iceland\", \"Norway\"], \"lat\": [-40.900557, 56.130366, 60.12816100000001, 52.132633, -25.274398, 56.26392, 46.818188, 61.92410999999999, 64.963051, 60.47202399999999], \"legendgroup\": \"\", \"lon\": [174.885971, -106.346771, 18.643501, 5.291265999999999, 133.775136, 9.501785, 8.227511999999999, 25.7481511, -19.020835, 8.468945999999999], \"marker\": {\"color\": [7.31400012969971, 7.31599998474121, 7.28399991989136, 7.3769998550415, 7.28399991989136, 7.52199983596802, 7.49399995803833, 7.468999862670901, 7.50400018692017, 7.537000179290769], \"coloraxis\": \"coloraxis\", \"size\": [7.31400012969971, 7.31599998474121, 7.28399991989136, 7.3769998550415, 7.28399991989136, 7.52199983596802, 7.49399995803833, 7.468999862670901, 7.50400018692017, 7.537000179290769], \"sizemode\": \"area\", \"sizeref\": 0.0194225}, \"name\": \"\", \"showlegend\": false, \"text\": [8.0, 7.0, 9.0, 6.0, 10.0, 2.0, 4.0, 5.0, 3.0, 1.0], \"type\": \"scattergeo\"}], \"name\": \"2017\"}, {\"data\": [{\"geo\": \"geo\", \"hovertemplate\": \"<b>%{hovertext}</b><br><br>year=2018<br>Happiness_Score=%{marker.color}<br>Happiness_Rank=%{text}<br>lat=%{lat}<br>lon=%{lon}<extra></extra>\", \"hovertext\": [\"Denmark\", \"Australia\", \"Sweden\", \"Norway\", \"Finland\", \"Switzerland\", \"Canada\", \"Iceland\", \"New Zealand\", \"Netherlands\"], \"lat\": [56.26392, -25.274398, 60.12816100000001, 60.47202399999999, 61.92410999999999, 46.818188, 56.130366, 64.963051, -40.900557, 52.132633], \"legendgroup\": \"\", \"lon\": [9.501785, 133.775136, 18.643501, 8.468945999999999, 25.7481511, 8.227511999999999, -106.346771, -19.020835, 174.885971, 5.291265999999999], \"marker\": {\"color\": [7.555, 7.272, 7.314, 7.5939999999999985, 7.6320000000000014, 7.487, 7.3279999999999985, 7.495, 7.324, 7.441], \"coloraxis\": \"coloraxis\", \"size\": [7.555, 7.272, 7.314, 7.5939999999999985, 7.6320000000000014, 7.487, 7.3279999999999985, 7.495, 7.324, 7.441], \"sizemode\": \"area\", \"sizeref\": 0.0194225}, \"name\": \"\", \"showlegend\": false, \"text\": [3.0, 10.0, 9.0, 2.0, 1.0, 5.0, 7.0, 4.0, 8.0, 6.0], \"type\": \"scattergeo\"}], \"name\": \"2018\"}, {\"data\": [{\"geo\": \"geo\", \"hovertemplate\": \"<b>%{hovertext}</b><br><br>year=2019<br>Happiness_Score=%{marker.color}<br>Happiness_Rank=%{text}<br>lat=%{lat}<br>lon=%{lon}<extra></extra>\", \"hovertext\": [\"Austria\", \"Finland\", \"Sweden\", \"New Zealand\", \"Denmark\", \"Norway\", \"Switzerland\", \"Canada\", \"Iceland\", \"Netherlands\"], \"lat\": [47.516231, 61.92410999999999, 60.12816100000001, -40.900557, 56.26392, 60.47202399999999, 46.818188, 56.130366, 64.963051, 52.132633], \"legendgroup\": \"\", \"lon\": [14.550072, 25.7481511, 18.643501, 174.885971, 9.501785, 8.468945999999999, 8.227511999999999, -106.346771, -19.020835, 5.291265999999999], \"marker\": {\"color\": [7.246, 7.769, 7.343, 7.307, 7.6, 7.5539999999999985, 7.48, 7.278, 7.494, 7.487999999999999], \"coloraxis\": \"coloraxis\", \"size\": [7.246, 7.769, 7.343, 7.307, 7.6, 7.5539999999999985, 7.48, 7.278, 7.494, 7.487999999999999], \"sizemode\": \"area\", \"sizeref\": 0.0194225}, \"name\": \"\", \"showlegend\": false, \"text\": [10.0, 1.0, 7.0, 8.0, 2.0, 3.0, 6.0, 9.0, 4.0, 5.0], \"type\": \"scattergeo\"}], \"name\": \"2019\"}]);\n",
       "                        }).then(function(){\n",
       "                            \n",
       "var gd = document.getElementById('3ee6e55d-4a00-4ba0-aa7a-9f49d1f31aab');\n",
       "var x = new MutationObserver(function (mutations, observer) {{\n",
       "        var display = window.getComputedStyle(gd).display;\n",
       "        if (!display || display === 'none') {{\n",
       "            console.log([gd, 'removed!']);\n",
       "            Plotly.purge(gd);\n",
       "            observer.disconnect();\n",
       "        }}\n",
       "}});\n",
       "\n",
       "// Listen for the removal of the full notebook cells\n",
       "var notebookContainer = gd.closest('#notebook-container');\n",
       "if (notebookContainer) {{\n",
       "    x.observe(notebookContainer, {childList: true});\n",
       "}}\n",
       "\n",
       "// Listen for the clearing of the current output cell\n",
       "var outputEl = gd.closest('.output');\n",
       "if (outputEl) {{\n",
       "    x.observe(outputEl, {childList: true});\n",
       "}}\n",
       "\n",
       "                        })                };                });            </script>        </div>"
      ]
     },
     "metadata": {},
     "output_type": "display_data"
    }
   ],
   "source": [
    "#Top 10 by Region\n",
    "import plotly.express as px\n",
    "fig = px.scatter_geo(top_10_df, lat=\"lat\",lon=\"lon\", color=\"Happiness_Score\", hover_name=\"Country\" , \n",
    "                     text=\"Happiness_Rank\", animation_frame=\"year\",projection=\"natural earth\",\n",
    "                     size='Happiness_Score')\n",
    "\n",
    "fig.show()"
   ]
  },
  {
   "cell_type": "code",
   "execution_count": 86,
   "metadata": {
    "ExecuteTime": {
     "end_time": "2020-10-24T23:58:34.990804Z",
     "start_time": "2020-10-24T23:58:34.514604Z"
    }
   },
   "outputs": [],
   "source": [
    "import plotly.io as pio\n",
    "pio.write_html(fig, 'top10.html')"
   ]
  },
  {
   "cell_type": "code",
   "execution_count": 87,
   "metadata": {
    "ExecuteTime": {
     "end_time": "2020-10-24T23:58:35.309810Z",
     "start_time": "2020-10-24T23:58:35.266796Z"
    }
   },
   "outputs": [
    {
     "data": {
      "text/html": [
       "<div>\n",
       "<style scoped>\n",
       "    .dataframe tbody tr th:only-of-type {\n",
       "        vertical-align: middle;\n",
       "    }\n",
       "\n",
       "    .dataframe tbody tr th {\n",
       "        vertical-align: top;\n",
       "    }\n",
       "\n",
       "    .dataframe thead th {\n",
       "        text-align: right;\n",
       "    }\n",
       "</style>\n",
       "<table border=\"1\" class=\"dataframe\">\n",
       "  <thead>\n",
       "    <tr style=\"text-align: right;\">\n",
       "      <th></th>\n",
       "      <th>Country</th>\n",
       "      <th>Happiness_Rank</th>\n",
       "      <th>Happiness_Score</th>\n",
       "      <th>Economy_(GDP_per_Capita)</th>\n",
       "      <th>Family</th>\n",
       "      <th>Health_(Life_Expectancy)</th>\n",
       "      <th>Freedom</th>\n",
       "      <th>Trust_(Government_Corruption)</th>\n",
       "      <th>Generosity</th>\n",
       "      <th>Dystopia_Residual</th>\n",
       "      <th>year</th>\n",
       "    </tr>\n",
       "  </thead>\n",
       "  <tbody>\n",
       "    <tr>\n",
       "      <th>0</th>\n",
       "      <td>Switzerland</td>\n",
       "      <td>1</td>\n",
       "      <td>7.587</td>\n",
       "      <td>1.396510</td>\n",
       "      <td>1.349510</td>\n",
       "      <td>0.941430</td>\n",
       "      <td>0.665570</td>\n",
       "      <td>0.419780</td>\n",
       "      <td>0.296780</td>\n",
       "      <td>2.517380</td>\n",
       "      <td>2015</td>\n",
       "    </tr>\n",
       "    <tr>\n",
       "      <th>1</th>\n",
       "      <td>Finland</td>\n",
       "      <td>1</td>\n",
       "      <td>7.769</td>\n",
       "      <td>1.340000</td>\n",
       "      <td>1.587000</td>\n",
       "      <td>0.986000</td>\n",
       "      <td>0.596000</td>\n",
       "      <td>0.393000</td>\n",
       "      <td>0.153000</td>\n",
       "      <td>2.714000</td>\n",
       "      <td>2019</td>\n",
       "    </tr>\n",
       "    <tr>\n",
       "      <th>2</th>\n",
       "      <td>Finland</td>\n",
       "      <td>1</td>\n",
       "      <td>7.632</td>\n",
       "      <td>1.305000</td>\n",
       "      <td>1.592000</td>\n",
       "      <td>0.874000</td>\n",
       "      <td>0.681000</td>\n",
       "      <td>0.393000</td>\n",
       "      <td>0.202000</td>\n",
       "      <td>2.585000</td>\n",
       "      <td>2018</td>\n",
       "    </tr>\n",
       "    <tr>\n",
       "      <th>3</th>\n",
       "      <td>Norway</td>\n",
       "      <td>1</td>\n",
       "      <td>7.537</td>\n",
       "      <td>1.616463</td>\n",
       "      <td>1.533524</td>\n",
       "      <td>0.796667</td>\n",
       "      <td>0.635423</td>\n",
       "      <td>0.315964</td>\n",
       "      <td>0.362012</td>\n",
       "      <td>2.277027</td>\n",
       "      <td>2017</td>\n",
       "    </tr>\n",
       "    <tr>\n",
       "      <th>4</th>\n",
       "      <td>Denmark</td>\n",
       "      <td>1</td>\n",
       "      <td>7.526</td>\n",
       "      <td>1.441780</td>\n",
       "      <td>1.163740</td>\n",
       "      <td>0.795040</td>\n",
       "      <td>0.579410</td>\n",
       "      <td>0.444530</td>\n",
       "      <td>0.361710</td>\n",
       "      <td>2.739390</td>\n",
       "      <td>2016</td>\n",
       "    </tr>\n",
       "  </tbody>\n",
       "</table>\n",
       "</div>"
      ],
      "text/plain": [
       "       Country  Happiness_Rank  Happiness_Score  Economy_(GDP_per_Capita)  \\\n",
       "0  Switzerland               1            7.587                  1.396510   \n",
       "1      Finland               1            7.769                  1.340000   \n",
       "2      Finland               1            7.632                  1.305000   \n",
       "3       Norway               1            7.537                  1.616463   \n",
       "4      Denmark               1            7.526                  1.441780   \n",
       "\n",
       "     Family  Health_(Life_Expectancy)   Freedom  \\\n",
       "0  1.349510                  0.941430  0.665570   \n",
       "1  1.587000                  0.986000  0.596000   \n",
       "2  1.592000                  0.874000  0.681000   \n",
       "3  1.533524                  0.796667  0.635423   \n",
       "4  1.163740                  0.795040  0.579410   \n",
       "\n",
       "   Trust_(Government_Corruption)  Generosity  Dystopia_Residual  year  \n",
       "0                       0.419780    0.296780           2.517380  2015  \n",
       "1                       0.393000    0.153000           2.714000  2019  \n",
       "2                       0.393000    0.202000           2.585000  2018  \n",
       "3                       0.315964    0.362012           2.277027  2017  \n",
       "4                       0.444530    0.361710           2.739390  2016  "
      ]
     },
     "execution_count": 87,
     "metadata": {},
     "output_type": "execute_result"
    }
   ],
   "source": [
    "#filter the data by top 10 country\n",
    "data_file_df.head()"
   ]
  },
  {
   "cell_type": "code",
   "execution_count": 88,
   "metadata": {
    "ExecuteTime": {
     "end_time": "2020-10-24T23:58:35.613883Z",
     "start_time": "2020-10-24T23:58:35.587876Z"
    }
   },
   "outputs": [
    {
     "data": {
      "text/plain": [
       "2015    158\n",
       "2016    157\n",
       "2019    156\n",
       "2018    156\n",
       "2017    155\n",
       "Name: year, dtype: int64"
      ]
     },
     "execution_count": 88,
     "metadata": {},
     "output_type": "execute_result"
    }
   ],
   "source": [
    "data_file_df[\"year\"].value_counts()"
   ]
  },
  {
   "cell_type": "code",
   "execution_count": 89,
   "metadata": {
    "ExecuteTime": {
     "end_time": "2020-10-24T23:58:35.901957Z",
     "start_time": "2020-10-24T23:58:35.874951Z"
    }
   },
   "outputs": [
    {
     "data": {
      "text/html": [
       "<div>\n",
       "<style scoped>\n",
       "    .dataframe tbody tr th:only-of-type {\n",
       "        vertical-align: middle;\n",
       "    }\n",
       "\n",
       "    .dataframe tbody tr th {\n",
       "        vertical-align: top;\n",
       "    }\n",
       "\n",
       "    .dataframe thead th {\n",
       "        text-align: right;\n",
       "    }\n",
       "</style>\n",
       "<table border=\"1\" class=\"dataframe\">\n",
       "  <thead>\n",
       "    <tr style=\"text-align: right;\">\n",
       "      <th></th>\n",
       "      <th>year</th>\n",
       "      <th>Happiness_Rank</th>\n",
       "    </tr>\n",
       "  </thead>\n",
       "  <tbody>\n",
       "    <tr>\n",
       "      <th>0</th>\n",
       "      <td>2015</td>\n",
       "      <td>158</td>\n",
       "    </tr>\n",
       "    <tr>\n",
       "      <th>1</th>\n",
       "      <td>2016</td>\n",
       "      <td>157</td>\n",
       "    </tr>\n",
       "    <tr>\n",
       "      <th>2</th>\n",
       "      <td>2017</td>\n",
       "      <td>155</td>\n",
       "    </tr>\n",
       "    <tr>\n",
       "      <th>3</th>\n",
       "      <td>2018</td>\n",
       "      <td>156</td>\n",
       "    </tr>\n",
       "    <tr>\n",
       "      <th>4</th>\n",
       "      <td>2019</td>\n",
       "      <td>156</td>\n",
       "    </tr>\n",
       "  </tbody>\n",
       "</table>\n",
       "</div>"
      ],
      "text/plain": [
       "   year  Happiness_Rank\n",
       "0  2015             158\n",
       "1  2016             157\n",
       "2  2017             155\n",
       "3  2018             156\n",
       "4  2019             156"
      ]
     },
     "execution_count": 89,
     "metadata": {},
     "output_type": "execute_result"
    }
   ],
   "source": [
    "#Find the last ranking of the year\n",
    "data_file_df.groupby(['year'], as_index=False)['Happiness_Rank'].max()"
   ]
  },
  {
   "cell_type": "code",
   "execution_count": 90,
   "metadata": {
    "ExecuteTime": {
     "end_time": "2020-10-24T23:58:36.189029Z",
     "start_time": "2020-10-24T23:58:36.145018Z"
    }
   },
   "outputs": [
    {
     "name": "stderr",
     "output_type": "stream",
     "text": [
      "<ipython-input-90-4fde3bb6b672>:3: UserWarning:\n",
      "\n",
      "Boolean Series key will be reindexed to match DataFrame index.\n",
      "\n",
      "<ipython-input-90-4fde3bb6b672>:4: UserWarning:\n",
      "\n",
      "Boolean Series key will be reindexed to match DataFrame index.\n",
      "\n",
      "<ipython-input-90-4fde3bb6b672>:5: UserWarning:\n",
      "\n",
      "Boolean Series key will be reindexed to match DataFrame index.\n",
      "\n",
      "<ipython-input-90-4fde3bb6b672>:6: UserWarning:\n",
      "\n",
      "Boolean Series key will be reindexed to match DataFrame index.\n",
      "\n"
     ]
    }
   ],
   "source": [
    "\n",
    "#filter the data by bottom 10 country\n",
    "bottom_10_df = data_file_df.loc[data_file_df[\"Happiness_Rank\"] >= 145 ]\n",
    "bottom_10_df = bottom_10_df.drop(bottom_10_df[(data_file_df[\"year\"]==2015) & (data_file_df[\"Happiness_Rank\"]<=148)].index)\n",
    "bottom_10_df = bottom_10_df.drop(bottom_10_df[(data_file_df[\"year\"]==2018) & (data_file_df[\"Happiness_Rank\"]<=145)].index)\n",
    "bottom_10_df = bottom_10_df.drop(bottom_10_df[(data_file_df[\"year\"]==2019) & (data_file_df[\"Happiness_Rank\"]<=145)].index)\n",
    "bottom_10_df = bottom_10_df.drop(bottom_10_df[(data_file_df[\"year\"]==2016) & (data_file_df[\"Happiness_Rank\"]<=147)].index)"
   ]
  },
  {
   "cell_type": "code",
   "execution_count": 91,
   "metadata": {
    "ExecuteTime": {
     "end_time": "2020-10-24T23:58:36.427197Z",
     "start_time": "2020-10-24T23:58:36.399082Z"
    }
   },
   "outputs": [
    {
     "data": {
      "text/plain": [
       "2019    11\n",
       "2018    11\n",
       "2017    11\n",
       "2016    10\n",
       "2015    10\n",
       "Name: year, dtype: int64"
      ]
     },
     "execution_count": 91,
     "metadata": {},
     "output_type": "execute_result"
    }
   ],
   "source": [
    "bottom_10_df[\"year\"].value_counts()"
   ]
  },
  {
   "cell_type": "code",
   "execution_count": 92,
   "metadata": {
    "ExecuteTime": {
     "end_time": "2020-10-24T23:58:36.665148Z",
     "start_time": "2020-10-24T23:58:36.626138Z"
    }
   },
   "outputs": [
    {
     "data": {
      "text/html": [
       "<div>\n",
       "<style scoped>\n",
       "    .dataframe tbody tr th:only-of-type {\n",
       "        vertical-align: middle;\n",
       "    }\n",
       "\n",
       "    .dataframe tbody tr th {\n",
       "        vertical-align: top;\n",
       "    }\n",
       "\n",
       "    .dataframe thead th {\n",
       "        text-align: right;\n",
       "    }\n",
       "</style>\n",
       "<table border=\"1\" class=\"dataframe\">\n",
       "  <thead>\n",
       "    <tr style=\"text-align: right;\">\n",
       "      <th></th>\n",
       "      <th>Country</th>\n",
       "      <th>Happiness_Rank</th>\n",
       "      <th>Happiness_Score</th>\n",
       "      <th>Economy_(GDP_per_Capita)</th>\n",
       "      <th>Family</th>\n",
       "      <th>Health_(Life_Expectancy)</th>\n",
       "      <th>Freedom</th>\n",
       "      <th>Trust_(Government_Corruption)</th>\n",
       "      <th>Generosity</th>\n",
       "      <th>Dystopia_Residual</th>\n",
       "      <th>year</th>\n",
       "    </tr>\n",
       "  </thead>\n",
       "  <tbody>\n",
       "    <tr>\n",
       "      <th>724</th>\n",
       "      <td>Haiti</td>\n",
       "      <td>145</td>\n",
       "      <td>3.603</td>\n",
       "      <td>0.368610</td>\n",
       "      <td>0.640450</td>\n",
       "      <td>0.277321</td>\n",
       "      <td>0.030370</td>\n",
       "      <td>0.099872</td>\n",
       "      <td>0.489204</td>\n",
       "      <td>1.697168</td>\n",
       "      <td>2017</td>\n",
       "    </tr>\n",
       "    <tr>\n",
       "      <th>726</th>\n",
       "      <td>Zimbabwe</td>\n",
       "      <td>146</td>\n",
       "      <td>3.663</td>\n",
       "      <td>0.366000</td>\n",
       "      <td>1.114000</td>\n",
       "      <td>0.433000</td>\n",
       "      <td>0.361000</td>\n",
       "      <td>0.089000</td>\n",
       "      <td>0.151000</td>\n",
       "      <td>1.149000</td>\n",
       "      <td>2019</td>\n",
       "    </tr>\n",
       "    <tr>\n",
       "      <th>728</th>\n",
       "      <td>Yemen</td>\n",
       "      <td>146</td>\n",
       "      <td>3.593</td>\n",
       "      <td>0.591683</td>\n",
       "      <td>0.935382</td>\n",
       "      <td>0.310081</td>\n",
       "      <td>0.249464</td>\n",
       "      <td>0.056767</td>\n",
       "      <td>0.104125</td>\n",
       "      <td>1.345601</td>\n",
       "      <td>2017</td>\n",
       "    </tr>\n",
       "    <tr>\n",
       "      <th>729</th>\n",
       "      <td>Botswana</td>\n",
       "      <td>146</td>\n",
       "      <td>3.590</td>\n",
       "      <td>1.017000</td>\n",
       "      <td>1.174000</td>\n",
       "      <td>0.417000</td>\n",
       "      <td>0.557000</td>\n",
       "      <td>0.092000</td>\n",
       "      <td>0.042000</td>\n",
       "      <td>0.291000</td>\n",
       "      <td>2018</td>\n",
       "    </tr>\n",
       "    <tr>\n",
       "      <th>730</th>\n",
       "      <td>South Sudan</td>\n",
       "      <td>147</td>\n",
       "      <td>3.591</td>\n",
       "      <td>0.397249</td>\n",
       "      <td>0.601323</td>\n",
       "      <td>0.163486</td>\n",
       "      <td>0.147062</td>\n",
       "      <td>0.116794</td>\n",
       "      <td>0.285671</td>\n",
       "      <td>1.879567</td>\n",
       "      <td>2017</td>\n",
       "    </tr>\n",
       "  </tbody>\n",
       "</table>\n",
       "</div>"
      ],
      "text/plain": [
       "         Country  Happiness_Rank  Happiness_Score  Economy_(GDP_per_Capita)  \\\n",
       "724        Haiti             145            3.603                  0.368610   \n",
       "726     Zimbabwe             146            3.663                  0.366000   \n",
       "728        Yemen             146            3.593                  0.591683   \n",
       "729     Botswana             146            3.590                  1.017000   \n",
       "730  South Sudan             147            3.591                  0.397249   \n",
       "\n",
       "       Family  Health_(Life_Expectancy)   Freedom  \\\n",
       "724  0.640450                  0.277321  0.030370   \n",
       "726  1.114000                  0.433000  0.361000   \n",
       "728  0.935382                  0.310081  0.249464   \n",
       "729  1.174000                  0.417000  0.557000   \n",
       "730  0.601323                  0.163486  0.147062   \n",
       "\n",
       "     Trust_(Government_Corruption)  Generosity  Dystopia_Residual  year  \n",
       "724                       0.099872    0.489204           1.697168  2017  \n",
       "726                       0.089000    0.151000           1.149000  2019  \n",
       "728                       0.056767    0.104125           1.345601  2017  \n",
       "729                       0.092000    0.042000           0.291000  2018  \n",
       "730                       0.116794    0.285671           1.879567  2017  "
      ]
     },
     "execution_count": 92,
     "metadata": {},
     "output_type": "execute_result"
    }
   ],
   "source": [
    "bottom_10_df.head()"
   ]
  },
  {
   "cell_type": "code",
   "execution_count": 93,
   "metadata": {
    "ExecuteTime": {
     "end_time": "2020-10-24T23:58:58.962060Z",
     "start_time": "2020-10-24T23:58:36.866198Z"
    }
   },
   "outputs": [],
   "source": [
    "base_url = ('https://maps.googleapis.com/maps/api/geocode/json?'\n",
    "    'address={0}&key={1}').format(target_city, g_key)\n",
    "\n",
    "lat= []\n",
    "lon =[]\n",
    "\n",
    "countries = bottom_10_df[\"Country\"]\n",
    "\n",
    "#processing starting from 0\n",
    "count = 1\n",
    "\n",
    "# use iterrows to iterate through pandas dataframe\n",
    "for country in countries:\n",
    "\n",
    "    try:\n",
    "        # Target city\n",
    "        target_city = country\n",
    "\n",
    "        # Build the endpoint URL\n",
    "        target_url = ('https://maps.googleapis.com/maps/api/geocode/json?address={0}&key={1}').format(target_city, g_key)\n",
    "\n",
    "        # Run a request to endpoint and convert result to json\n",
    "        geo_data = requests.get(target_url).json()\n",
    "\n",
    "        # Print the json\n",
    "        #print(geo_data)\n",
    "    \n",
    "        # Print the json (pretty printed)\n",
    "        #print(json.dumps(geo_data, indent=4, sort_keys=True))\n",
    "    \n",
    "        # Extract latitude and longitude\n",
    "        lat.append(geo_data[\"results\"][0][\"geometry\"][\"location\"][\"lat\"])\n",
    "        lon.append(geo_data[\"results\"][0][\"geometry\"][\"location\"][\"lng\"])\n",
    "        #top_10_df_2015['Lat'] = geo_data[\"results\"][0][\"geometry\"][\"location\"][\"lat\"]\n",
    "        #top_10_df_2015['Lon'] = geo_data[\"results\"][0][\"geometry\"][\"location\"][\"lng\"]\n",
    "        \n",
    "        #loop to the next one\n",
    "        count += 1\n",
    "        \n",
    "    except (KeyError, IndexError):\n",
    "        print(\"Missing field/result... skipping.\")"
   ]
  },
  {
   "cell_type": "code",
   "execution_count": 73,
   "metadata": {
    "ExecuteTime": {
     "end_time": "2020-10-24T05:45:52.951008Z",
     "start_time": "2020-10-24T05:45:52.929003Z"
    }
   },
   "outputs": [],
   "source": [
    "bottom_10_df[\"lat\"] = lat\n",
    "bottom_10_df[\"lon\"] = lon"
   ]
  },
  {
   "cell_type": "code",
   "execution_count": 74,
   "metadata": {
    "ExecuteTime": {
     "end_time": "2020-10-24T05:45:53.117050Z",
     "start_time": "2020-10-24T05:45:52.958009Z"
    }
   },
   "outputs": [],
   "source": [
    "bottom_10_df=bottom_10_df.sort_values(by=['year','Happiness_Score'])"
   ]
  },
  {
   "cell_type": "code",
   "execution_count": 75,
   "metadata": {
    "ExecuteTime": {
     "end_time": "2020-10-24T05:45:53.472180Z",
     "start_time": "2020-10-24T05:45:53.127056Z"
    }
   },
   "outputs": [
    {
     "data": {
      "text/html": [
       "<div>\n",
       "<style scoped>\n",
       "    .dataframe tbody tr th:only-of-type {\n",
       "        vertical-align: middle;\n",
       "    }\n",
       "\n",
       "    .dataframe tbody tr th {\n",
       "        vertical-align: top;\n",
       "    }\n",
       "\n",
       "    .dataframe thead th {\n",
       "        text-align: right;\n",
       "    }\n",
       "</style>\n",
       "<table border=\"1\" class=\"dataframe\">\n",
       "  <thead>\n",
       "    <tr style=\"text-align: right;\">\n",
       "      <th></th>\n",
       "      <th>Country</th>\n",
       "      <th>Happiness_Rank</th>\n",
       "      <th>Happiness_Score</th>\n",
       "      <th>Economy_(GDP_per_Capita)</th>\n",
       "      <th>Family</th>\n",
       "      <th>Health_(Life_Expectancy)</th>\n",
       "      <th>Freedom</th>\n",
       "      <th>Trust_(Government_Corruption)</th>\n",
       "      <th>Generosity</th>\n",
       "      <th>Dystopia_Residual</th>\n",
       "      <th>year</th>\n",
       "      <th>lat</th>\n",
       "      <th>lon</th>\n",
       "    </tr>\n",
       "  </thead>\n",
       "  <tbody>\n",
       "    <tr>\n",
       "      <th>781</th>\n",
       "      <td>Togo</td>\n",
       "      <td>158</td>\n",
       "      <td>2.839</td>\n",
       "      <td>0.208680</td>\n",
       "      <td>0.139950</td>\n",
       "      <td>0.284430</td>\n",
       "      <td>0.364530</td>\n",
       "      <td>0.107310</td>\n",
       "      <td>0.166810</td>\n",
       "      <td>1.567260</td>\n",
       "      <td>2015</td>\n",
       "      <td>8.619543</td>\n",
       "      <td>0.824782</td>\n",
       "    </tr>\n",
       "    <tr>\n",
       "      <th>780</th>\n",
       "      <td>Burundi</td>\n",
       "      <td>157</td>\n",
       "      <td>2.905</td>\n",
       "      <td>0.015300</td>\n",
       "      <td>0.415870</td>\n",
       "      <td>0.223960</td>\n",
       "      <td>0.118500</td>\n",
       "      <td>0.100620</td>\n",
       "      <td>0.197270</td>\n",
       "      <td>1.833020</td>\n",
       "      <td>2015</td>\n",
       "      <td>-3.373056</td>\n",
       "      <td>29.918886</td>\n",
       "    </tr>\n",
       "    <tr>\n",
       "      <th>776</th>\n",
       "      <td>Syria</td>\n",
       "      <td>156</td>\n",
       "      <td>3.006</td>\n",
       "      <td>0.663200</td>\n",
       "      <td>0.474890</td>\n",
       "      <td>0.721930</td>\n",
       "      <td>0.156840</td>\n",
       "      <td>0.189060</td>\n",
       "      <td>0.471790</td>\n",
       "      <td>0.328580</td>\n",
       "      <td>2015</td>\n",
       "      <td>34.802075</td>\n",
       "      <td>38.996815</td>\n",
       "    </tr>\n",
       "    <tr>\n",
       "      <th>774</th>\n",
       "      <td>Benin</td>\n",
       "      <td>155</td>\n",
       "      <td>3.340</td>\n",
       "      <td>0.286650</td>\n",
       "      <td>0.353860</td>\n",
       "      <td>0.319100</td>\n",
       "      <td>0.484500</td>\n",
       "      <td>0.080100</td>\n",
       "      <td>0.182600</td>\n",
       "      <td>1.633280</td>\n",
       "      <td>2015</td>\n",
       "      <td>9.307690</td>\n",
       "      <td>2.315834</td>\n",
       "    </tr>\n",
       "    <tr>\n",
       "      <th>767</th>\n",
       "      <td>Rwanda</td>\n",
       "      <td>154</td>\n",
       "      <td>3.465</td>\n",
       "      <td>0.222080</td>\n",
       "      <td>0.773700</td>\n",
       "      <td>0.428640</td>\n",
       "      <td>0.592010</td>\n",
       "      <td>0.551910</td>\n",
       "      <td>0.226280</td>\n",
       "      <td>0.670420</td>\n",
       "      <td>2015</td>\n",
       "      <td>-1.940278</td>\n",
       "      <td>29.873888</td>\n",
       "    </tr>\n",
       "    <tr>\n",
       "      <th>762</th>\n",
       "      <td>Afghanistan</td>\n",
       "      <td>153</td>\n",
       "      <td>3.575</td>\n",
       "      <td>0.319820</td>\n",
       "      <td>0.302850</td>\n",
       "      <td>0.303350</td>\n",
       "      <td>0.234140</td>\n",
       "      <td>0.097190</td>\n",
       "      <td>0.365100</td>\n",
       "      <td>1.952100</td>\n",
       "      <td>2015</td>\n",
       "      <td>33.939110</td>\n",
       "      <td>67.709953</td>\n",
       "    </tr>\n",
       "    <tr>\n",
       "      <th>759</th>\n",
       "      <td>Burkina Faso</td>\n",
       "      <td>152</td>\n",
       "      <td>3.587</td>\n",
       "      <td>0.258120</td>\n",
       "      <td>0.851880</td>\n",
       "      <td>0.271250</td>\n",
       "      <td>0.394930</td>\n",
       "      <td>0.128320</td>\n",
       "      <td>0.217470</td>\n",
       "      <td>1.464940</td>\n",
       "      <td>2015</td>\n",
       "      <td>12.238333</td>\n",
       "      <td>-1.561593</td>\n",
       "    </tr>\n",
       "    <tr>\n",
       "      <th>750</th>\n",
       "      <td>Ivory Coast</td>\n",
       "      <td>151</td>\n",
       "      <td>3.655</td>\n",
       "      <td>0.465340</td>\n",
       "      <td>0.771150</td>\n",
       "      <td>0.151850</td>\n",
       "      <td>0.468660</td>\n",
       "      <td>0.179220</td>\n",
       "      <td>0.201650</td>\n",
       "      <td>1.417230</td>\n",
       "      <td>2015</td>\n",
       "      <td>7.539989</td>\n",
       "      <td>-5.547080</td>\n",
       "    </tr>\n",
       "    <tr>\n",
       "      <th>745</th>\n",
       "      <td>Guinea</td>\n",
       "      <td>150</td>\n",
       "      <td>3.656</td>\n",
       "      <td>0.174170</td>\n",
       "      <td>0.464750</td>\n",
       "      <td>0.240090</td>\n",
       "      <td>0.377250</td>\n",
       "      <td>0.121390</td>\n",
       "      <td>0.286570</td>\n",
       "      <td>1.991720</td>\n",
       "      <td>2015</td>\n",
       "      <td>9.945587</td>\n",
       "      <td>-9.696645</td>\n",
       "    </tr>\n",
       "    <tr>\n",
       "      <th>743</th>\n",
       "      <td>Chad</td>\n",
       "      <td>149</td>\n",
       "      <td>3.667</td>\n",
       "      <td>0.341930</td>\n",
       "      <td>0.760620</td>\n",
       "      <td>0.150100</td>\n",
       "      <td>0.235010</td>\n",
       "      <td>0.052690</td>\n",
       "      <td>0.183860</td>\n",
       "      <td>1.942960</td>\n",
       "      <td>2015</td>\n",
       "      <td>15.454166</td>\n",
       "      <td>18.732207</td>\n",
       "    </tr>\n",
       "    <tr>\n",
       "      <th>779</th>\n",
       "      <td>Burundi</td>\n",
       "      <td>157</td>\n",
       "      <td>2.905</td>\n",
       "      <td>0.068310</td>\n",
       "      <td>0.234420</td>\n",
       "      <td>0.157470</td>\n",
       "      <td>0.043200</td>\n",
       "      <td>0.094190</td>\n",
       "      <td>0.202900</td>\n",
       "      <td>2.104040</td>\n",
       "      <td>2016</td>\n",
       "      <td>-3.373056</td>\n",
       "      <td>29.918886</td>\n",
       "    </tr>\n",
       "    <tr>\n",
       "      <th>775</th>\n",
       "      <td>Syria</td>\n",
       "      <td>156</td>\n",
       "      <td>3.069</td>\n",
       "      <td>0.747190</td>\n",
       "      <td>0.148660</td>\n",
       "      <td>0.629940</td>\n",
       "      <td>0.069120</td>\n",
       "      <td>0.172330</td>\n",
       "      <td>0.483970</td>\n",
       "      <td>0.817890</td>\n",
       "      <td>2016</td>\n",
       "      <td>34.802075</td>\n",
       "      <td>38.996815</td>\n",
       "    </tr>\n",
       "    <tr>\n",
       "      <th>771</th>\n",
       "      <td>Togo</td>\n",
       "      <td>155</td>\n",
       "      <td>3.303</td>\n",
       "      <td>0.281230</td>\n",
       "      <td>0.000000</td>\n",
       "      <td>0.248110</td>\n",
       "      <td>0.346780</td>\n",
       "      <td>0.115870</td>\n",
       "      <td>0.175170</td>\n",
       "      <td>2.135400</td>\n",
       "      <td>2016</td>\n",
       "      <td>8.619543</td>\n",
       "      <td>0.824782</td>\n",
       "    </tr>\n",
       "    <tr>\n",
       "      <th>769</th>\n",
       "      <td>Afghanistan</td>\n",
       "      <td>154</td>\n",
       "      <td>3.360</td>\n",
       "      <td>0.382270</td>\n",
       "      <td>0.110370</td>\n",
       "      <td>0.173440</td>\n",
       "      <td>0.164300</td>\n",
       "      <td>0.071120</td>\n",
       "      <td>0.312680</td>\n",
       "      <td>2.145580</td>\n",
       "      <td>2016</td>\n",
       "      <td>33.939110</td>\n",
       "      <td>67.709953</td>\n",
       "    </tr>\n",
       "    <tr>\n",
       "      <th>764</th>\n",
       "      <td>Benin</td>\n",
       "      <td>153</td>\n",
       "      <td>3.484</td>\n",
       "      <td>0.394990</td>\n",
       "      <td>0.104190</td>\n",
       "      <td>0.210280</td>\n",
       "      <td>0.397470</td>\n",
       "      <td>0.066810</td>\n",
       "      <td>0.201800</td>\n",
       "      <td>2.108120</td>\n",
       "      <td>2016</td>\n",
       "      <td>9.307690</td>\n",
       "      <td>2.315834</td>\n",
       "    </tr>\n",
       "    <tr>\n",
       "      <th>757</th>\n",
       "      <td>Rwanda</td>\n",
       "      <td>152</td>\n",
       "      <td>3.515</td>\n",
       "      <td>0.328460</td>\n",
       "      <td>0.615860</td>\n",
       "      <td>0.318650</td>\n",
       "      <td>0.543200</td>\n",
       "      <td>0.505210</td>\n",
       "      <td>0.235520</td>\n",
       "      <td>0.968190</td>\n",
       "      <td>2016</td>\n",
       "      <td>-1.940278</td>\n",
       "      <td>29.873888</td>\n",
       "    </tr>\n",
       "    <tr>\n",
       "      <th>751</th>\n",
       "      <td>Guinea</td>\n",
       "      <td>151</td>\n",
       "      <td>3.607</td>\n",
       "      <td>0.224150</td>\n",
       "      <td>0.310900</td>\n",
       "      <td>0.188290</td>\n",
       "      <td>0.309530</td>\n",
       "      <td>0.119200</td>\n",
       "      <td>0.299140</td>\n",
       "      <td>2.156040</td>\n",
       "      <td>2016</td>\n",
       "      <td>9.945587</td>\n",
       "      <td>-9.696645</td>\n",
       "    </tr>\n",
       "    <tr>\n",
       "      <th>747</th>\n",
       "      <td>Liberia</td>\n",
       "      <td>150</td>\n",
       "      <td>3.622</td>\n",
       "      <td>0.107060</td>\n",
       "      <td>0.503530</td>\n",
       "      <td>0.231650</td>\n",
       "      <td>0.257480</td>\n",
       "      <td>0.048520</td>\n",
       "      <td>0.240630</td>\n",
       "      <td>2.232840</td>\n",
       "      <td>2016</td>\n",
       "      <td>6.428055</td>\n",
       "      <td>-9.429499</td>\n",
       "    </tr>\n",
       "    <tr>\n",
       "      <th>741</th>\n",
       "      <td>Tanzania</td>\n",
       "      <td>149</td>\n",
       "      <td>3.666</td>\n",
       "      <td>0.471550</td>\n",
       "      <td>0.776230</td>\n",
       "      <td>0.357000</td>\n",
       "      <td>0.317600</td>\n",
       "      <td>0.050990</td>\n",
       "      <td>0.314720</td>\n",
       "      <td>1.377690</td>\n",
       "      <td>2016</td>\n",
       "      <td>-6.369028</td>\n",
       "      <td>34.888822</td>\n",
       "    </tr>\n",
       "    <tr>\n",
       "      <th>735</th>\n",
       "      <td>Madagascar</td>\n",
       "      <td>148</td>\n",
       "      <td>3.695</td>\n",
       "      <td>0.279540</td>\n",
       "      <td>0.461150</td>\n",
       "      <td>0.371090</td>\n",
       "      <td>0.136840</td>\n",
       "      <td>0.075060</td>\n",
       "      <td>0.220400</td>\n",
       "      <td>2.150750</td>\n",
       "      <td>2016</td>\n",
       "      <td>-18.766947</td>\n",
       "      <td>46.869107</td>\n",
       "    </tr>\n",
       "    <tr>\n",
       "      <th>772</th>\n",
       "      <td>Central African Republic</td>\n",
       "      <td>155</td>\n",
       "      <td>2.693</td>\n",
       "      <td>0.000000</td>\n",
       "      <td>0.000000</td>\n",
       "      <td>0.018773</td>\n",
       "      <td>0.270842</td>\n",
       "      <td>0.056565</td>\n",
       "      <td>0.280876</td>\n",
       "      <td>2.066005</td>\n",
       "      <td>2017</td>\n",
       "      <td>6.611111</td>\n",
       "      <td>20.939444</td>\n",
       "    </tr>\n",
       "    <tr>\n",
       "      <th>765</th>\n",
       "      <td>Burundi</td>\n",
       "      <td>154</td>\n",
       "      <td>2.905</td>\n",
       "      <td>0.091623</td>\n",
       "      <td>0.629794</td>\n",
       "      <td>0.151611</td>\n",
       "      <td>0.059901</td>\n",
       "      <td>0.084148</td>\n",
       "      <td>0.204435</td>\n",
       "      <td>1.683024</td>\n",
       "      <td>2017</td>\n",
       "      <td>-3.373056</td>\n",
       "      <td>29.918886</td>\n",
       "    </tr>\n",
       "    <tr>\n",
       "      <th>763</th>\n",
       "      <td>Tanzania</td>\n",
       "      <td>153</td>\n",
       "      <td>3.349</td>\n",
       "      <td>0.511136</td>\n",
       "      <td>1.041990</td>\n",
       "      <td>0.364509</td>\n",
       "      <td>0.390018</td>\n",
       "      <td>0.066035</td>\n",
       "      <td>0.354256</td>\n",
       "      <td>0.621130</td>\n",
       "      <td>2017</td>\n",
       "      <td>-6.369028</td>\n",
       "      <td>34.888822</td>\n",
       "    </tr>\n",
       "    <tr>\n",
       "      <th>755</th>\n",
       "      <td>Syria</td>\n",
       "      <td>152</td>\n",
       "      <td>3.462</td>\n",
       "      <td>0.777153</td>\n",
       "      <td>0.396103</td>\n",
       "      <td>0.500533</td>\n",
       "      <td>0.081539</td>\n",
       "      <td>0.151347</td>\n",
       "      <td>0.493664</td>\n",
       "      <td>1.061574</td>\n",
       "      <td>2017</td>\n",
       "      <td>34.802075</td>\n",
       "      <td>38.996815</td>\n",
       "    </tr>\n",
       "    <tr>\n",
       "      <th>753</th>\n",
       "      <td>Rwanda</td>\n",
       "      <td>151</td>\n",
       "      <td>3.471</td>\n",
       "      <td>0.368746</td>\n",
       "      <td>0.945707</td>\n",
       "      <td>0.326425</td>\n",
       "      <td>0.581844</td>\n",
       "      <td>0.455220</td>\n",
       "      <td>0.252756</td>\n",
       "      <td>0.540061</td>\n",
       "      <td>2017</td>\n",
       "      <td>-1.940278</td>\n",
       "      <td>29.873888</td>\n",
       "    </tr>\n",
       "    <tr>\n",
       "      <th>748</th>\n",
       "      <td>Togo</td>\n",
       "      <td>150</td>\n",
       "      <td>3.495</td>\n",
       "      <td>0.305445</td>\n",
       "      <td>0.431883</td>\n",
       "      <td>0.247106</td>\n",
       "      <td>0.380426</td>\n",
       "      <td>0.095665</td>\n",
       "      <td>0.196896</td>\n",
       "      <td>1.837229</td>\n",
       "      <td>2017</td>\n",
       "      <td>8.619543</td>\n",
       "      <td>0.824782</td>\n",
       "    </tr>\n",
       "    <tr>\n",
       "      <th>742</th>\n",
       "      <td>Guinea</td>\n",
       "      <td>149</td>\n",
       "      <td>3.507</td>\n",
       "      <td>0.244550</td>\n",
       "      <td>0.791245</td>\n",
       "      <td>0.194129</td>\n",
       "      <td>0.348588</td>\n",
       "      <td>0.110938</td>\n",
       "      <td>0.264815</td>\n",
       "      <td>1.552312</td>\n",
       "      <td>2017</td>\n",
       "      <td>9.945587</td>\n",
       "      <td>-9.696645</td>\n",
       "    </tr>\n",
       "    <tr>\n",
       "      <th>736</th>\n",
       "      <td>Liberia</td>\n",
       "      <td>148</td>\n",
       "      <td>3.533</td>\n",
       "      <td>0.119042</td>\n",
       "      <td>0.872118</td>\n",
       "      <td>0.229918</td>\n",
       "      <td>0.332881</td>\n",
       "      <td>0.038948</td>\n",
       "      <td>0.266550</td>\n",
       "      <td>1.673286</td>\n",
       "      <td>2017</td>\n",
       "      <td>6.428055</td>\n",
       "      <td>-9.429499</td>\n",
       "    </tr>\n",
       "    <tr>\n",
       "      <th>730</th>\n",
       "      <td>South Sudan</td>\n",
       "      <td>147</td>\n",
       "      <td>3.591</td>\n",
       "      <td>0.397249</td>\n",
       "      <td>0.601323</td>\n",
       "      <td>0.163486</td>\n",
       "      <td>0.147062</td>\n",
       "      <td>0.116794</td>\n",
       "      <td>0.285671</td>\n",
       "      <td>1.879567</td>\n",
       "      <td>2017</td>\n",
       "      <td>6.876992</td>\n",
       "      <td>31.306979</td>\n",
       "    </tr>\n",
       "    <tr>\n",
       "      <th>728</th>\n",
       "      <td>Yemen</td>\n",
       "      <td>146</td>\n",
       "      <td>3.593</td>\n",
       "      <td>0.591683</td>\n",
       "      <td>0.935382</td>\n",
       "      <td>0.310081</td>\n",
       "      <td>0.249464</td>\n",
       "      <td>0.056767</td>\n",
       "      <td>0.104125</td>\n",
       "      <td>1.345601</td>\n",
       "      <td>2017</td>\n",
       "      <td>15.552727</td>\n",
       "      <td>48.516388</td>\n",
       "    </tr>\n",
       "    <tr>\n",
       "      <th>724</th>\n",
       "      <td>Haiti</td>\n",
       "      <td>145</td>\n",
       "      <td>3.603</td>\n",
       "      <td>0.368610</td>\n",
       "      <td>0.640450</td>\n",
       "      <td>0.277321</td>\n",
       "      <td>0.030370</td>\n",
       "      <td>0.099872</td>\n",
       "      <td>0.489204</td>\n",
       "      <td>1.697168</td>\n",
       "      <td>2017</td>\n",
       "      <td>18.971187</td>\n",
       "      <td>-72.285215</td>\n",
       "    </tr>\n",
       "    <tr>\n",
       "      <th>777</th>\n",
       "      <td>Burundi</td>\n",
       "      <td>156</td>\n",
       "      <td>2.905</td>\n",
       "      <td>0.091000</td>\n",
       "      <td>0.627000</td>\n",
       "      <td>0.145000</td>\n",
       "      <td>0.065000</td>\n",
       "      <td>0.076000</td>\n",
       "      <td>0.149000</td>\n",
       "      <td>1.752000</td>\n",
       "      <td>2018</td>\n",
       "      <td>-3.373056</td>\n",
       "      <td>29.918886</td>\n",
       "    </tr>\n",
       "    <tr>\n",
       "      <th>770</th>\n",
       "      <td>Central African Republic</td>\n",
       "      <td>155</td>\n",
       "      <td>3.083</td>\n",
       "      <td>0.024000</td>\n",
       "      <td>0.000000</td>\n",
       "      <td>0.010000</td>\n",
       "      <td>0.305000</td>\n",
       "      <td>0.038000</td>\n",
       "      <td>0.218000</td>\n",
       "      <td>2.488000</td>\n",
       "      <td>2018</td>\n",
       "      <td>6.611111</td>\n",
       "      <td>20.939444</td>\n",
       "    </tr>\n",
       "    <tr>\n",
       "      <th>768</th>\n",
       "      <td>South Sudan</td>\n",
       "      <td>154</td>\n",
       "      <td>3.254</td>\n",
       "      <td>0.337000</td>\n",
       "      <td>0.608000</td>\n",
       "      <td>0.177000</td>\n",
       "      <td>0.112000</td>\n",
       "      <td>0.106000</td>\n",
       "      <td>0.224000</td>\n",
       "      <td>1.690000</td>\n",
       "      <td>2018</td>\n",
       "      <td>6.876992</td>\n",
       "      <td>31.306979</td>\n",
       "    </tr>\n",
       "    <tr>\n",
       "      <th>761</th>\n",
       "      <td>Tanzania</td>\n",
       "      <td>153</td>\n",
       "      <td>3.303</td>\n",
       "      <td>0.455000</td>\n",
       "      <td>0.991000</td>\n",
       "      <td>0.381000</td>\n",
       "      <td>0.481000</td>\n",
       "      <td>0.097000</td>\n",
       "      <td>0.270000</td>\n",
       "      <td>0.628000</td>\n",
       "      <td>2018</td>\n",
       "      <td>-6.369028</td>\n",
       "      <td>34.888822</td>\n",
       "    </tr>\n",
       "    <tr>\n",
       "      <th>756</th>\n",
       "      <td>Yemen</td>\n",
       "      <td>152</td>\n",
       "      <td>3.355</td>\n",
       "      <td>0.442000</td>\n",
       "      <td>1.073000</td>\n",
       "      <td>0.343000</td>\n",
       "      <td>0.244000</td>\n",
       "      <td>0.064000</td>\n",
       "      <td>0.083000</td>\n",
       "      <td>1.106000</td>\n",
       "      <td>2018</td>\n",
       "      <td>15.552727</td>\n",
       "      <td>48.516388</td>\n",
       "    </tr>\n",
       "    <tr>\n",
       "      <th>752</th>\n",
       "      <td>Rwanda</td>\n",
       "      <td>151</td>\n",
       "      <td>3.408</td>\n",
       "      <td>0.332000</td>\n",
       "      <td>0.896000</td>\n",
       "      <td>0.400000</td>\n",
       "      <td>0.636000</td>\n",
       "      <td>0.444000</td>\n",
       "      <td>0.200000</td>\n",
       "      <td>0.500000</td>\n",
       "      <td>2018</td>\n",
       "      <td>-1.940278</td>\n",
       "      <td>29.873888</td>\n",
       "    </tr>\n",
       "    <tr>\n",
       "      <th>749</th>\n",
       "      <td>Syria</td>\n",
       "      <td>150</td>\n",
       "      <td>3.462</td>\n",
       "      <td>0.689000</td>\n",
       "      <td>0.382000</td>\n",
       "      <td>0.539000</td>\n",
       "      <td>0.088000</td>\n",
       "      <td>0.144000</td>\n",
       "      <td>0.376000</td>\n",
       "      <td>1.244000</td>\n",
       "      <td>2018</td>\n",
       "      <td>34.802075</td>\n",
       "      <td>38.996815</td>\n",
       "    </tr>\n",
       "    <tr>\n",
       "      <th>744</th>\n",
       "      <td>Liberia</td>\n",
       "      <td>149</td>\n",
       "      <td>3.495</td>\n",
       "      <td>0.076000</td>\n",
       "      <td>0.858000</td>\n",
       "      <td>0.267000</td>\n",
       "      <td>0.419000</td>\n",
       "      <td>0.030000</td>\n",
       "      <td>0.206000</td>\n",
       "      <td>1.639000</td>\n",
       "      <td>2018</td>\n",
       "      <td>6.428055</td>\n",
       "      <td>-9.429499</td>\n",
       "    </tr>\n",
       "    <tr>\n",
       "      <th>739</th>\n",
       "      <td>Haiti</td>\n",
       "      <td>148</td>\n",
       "      <td>3.582</td>\n",
       "      <td>0.315000</td>\n",
       "      <td>0.714000</td>\n",
       "      <td>0.289000</td>\n",
       "      <td>0.025000</td>\n",
       "      <td>0.104000</td>\n",
       "      <td>0.392000</td>\n",
       "      <td>1.743000</td>\n",
       "      <td>2018</td>\n",
       "      <td>18.971187</td>\n",
       "      <td>-72.285215</td>\n",
       "    </tr>\n",
       "    <tr>\n",
       "      <th>731</th>\n",
       "      <td>Malawi</td>\n",
       "      <td>147</td>\n",
       "      <td>3.587</td>\n",
       "      <td>0.186000</td>\n",
       "      <td>0.541000</td>\n",
       "      <td>0.306000</td>\n",
       "      <td>0.531000</td>\n",
       "      <td>0.080000</td>\n",
       "      <td>0.210000</td>\n",
       "      <td>1.733000</td>\n",
       "      <td>2018</td>\n",
       "      <td>-13.254308</td>\n",
       "      <td>34.301525</td>\n",
       "    </tr>\n",
       "    <tr>\n",
       "      <th>729</th>\n",
       "      <td>Botswana</td>\n",
       "      <td>146</td>\n",
       "      <td>3.590</td>\n",
       "      <td>1.017000</td>\n",
       "      <td>1.174000</td>\n",
       "      <td>0.417000</td>\n",
       "      <td>0.557000</td>\n",
       "      <td>0.092000</td>\n",
       "      <td>0.042000</td>\n",
       "      <td>0.291000</td>\n",
       "      <td>2018</td>\n",
       "      <td>-22.328474</td>\n",
       "      <td>24.684866</td>\n",
       "    </tr>\n",
       "    <tr>\n",
       "      <th>778</th>\n",
       "      <td>South Sudan</td>\n",
       "      <td>156</td>\n",
       "      <td>2.853</td>\n",
       "      <td>0.306000</td>\n",
       "      <td>0.575000</td>\n",
       "      <td>0.295000</td>\n",
       "      <td>0.010000</td>\n",
       "      <td>0.091000</td>\n",
       "      <td>0.202000</td>\n",
       "      <td>1.374000</td>\n",
       "      <td>2019</td>\n",
       "      <td>6.876992</td>\n",
       "      <td>31.306979</td>\n",
       "    </tr>\n",
       "    <tr>\n",
       "      <th>773</th>\n",
       "      <td>Central African Republic</td>\n",
       "      <td>155</td>\n",
       "      <td>3.083</td>\n",
       "      <td>0.026000</td>\n",
       "      <td>0.000000</td>\n",
       "      <td>0.105000</td>\n",
       "      <td>0.225000</td>\n",
       "      <td>0.035000</td>\n",
       "      <td>0.235000</td>\n",
       "      <td>2.457000</td>\n",
       "      <td>2019</td>\n",
       "      <td>6.611111</td>\n",
       "      <td>20.939444</td>\n",
       "    </tr>\n",
       "    <tr>\n",
       "      <th>766</th>\n",
       "      <td>Afghanistan</td>\n",
       "      <td>154</td>\n",
       "      <td>3.203</td>\n",
       "      <td>0.350000</td>\n",
       "      <td>0.517000</td>\n",
       "      <td>0.361000</td>\n",
       "      <td>0.000000</td>\n",
       "      <td>0.025000</td>\n",
       "      <td>0.158000</td>\n",
       "      <td>1.792000</td>\n",
       "      <td>2019</td>\n",
       "      <td>33.939110</td>\n",
       "      <td>67.709953</td>\n",
       "    </tr>\n",
       "    <tr>\n",
       "      <th>760</th>\n",
       "      <td>Tanzania</td>\n",
       "      <td>153</td>\n",
       "      <td>3.231</td>\n",
       "      <td>0.476000</td>\n",
       "      <td>0.885000</td>\n",
       "      <td>0.499000</td>\n",
       "      <td>0.417000</td>\n",
       "      <td>0.147000</td>\n",
       "      <td>0.276000</td>\n",
       "      <td>0.531000</td>\n",
       "      <td>2019</td>\n",
       "      <td>-6.369028</td>\n",
       "      <td>34.888822</td>\n",
       "    </tr>\n",
       "    <tr>\n",
       "      <th>758</th>\n",
       "      <td>Rwanda</td>\n",
       "      <td>152</td>\n",
       "      <td>3.334</td>\n",
       "      <td>0.359000</td>\n",
       "      <td>0.711000</td>\n",
       "      <td>0.614000</td>\n",
       "      <td>0.555000</td>\n",
       "      <td>0.411000</td>\n",
       "      <td>0.217000</td>\n",
       "      <td>0.467000</td>\n",
       "      <td>2019</td>\n",
       "      <td>-1.940278</td>\n",
       "      <td>29.873888</td>\n",
       "    </tr>\n",
       "    <tr>\n",
       "      <th>754</th>\n",
       "      <td>Yemen</td>\n",
       "      <td>151</td>\n",
       "      <td>3.380</td>\n",
       "      <td>0.287000</td>\n",
       "      <td>1.163000</td>\n",
       "      <td>0.463000</td>\n",
       "      <td>0.143000</td>\n",
       "      <td>0.077000</td>\n",
       "      <td>0.108000</td>\n",
       "      <td>1.139000</td>\n",
       "      <td>2019</td>\n",
       "      <td>15.552727</td>\n",
       "      <td>48.516388</td>\n",
       "    </tr>\n",
       "    <tr>\n",
       "      <th>746</th>\n",
       "      <td>Malawi</td>\n",
       "      <td>150</td>\n",
       "      <td>3.410</td>\n",
       "      <td>0.191000</td>\n",
       "      <td>0.560000</td>\n",
       "      <td>0.495000</td>\n",
       "      <td>0.443000</td>\n",
       "      <td>0.089000</td>\n",
       "      <td>0.218000</td>\n",
       "      <td>1.414000</td>\n",
       "      <td>2019</td>\n",
       "      <td>-13.254308</td>\n",
       "      <td>34.301525</td>\n",
       "    </tr>\n",
       "    <tr>\n",
       "      <th>740</th>\n",
       "      <td>Syria</td>\n",
       "      <td>149</td>\n",
       "      <td>3.462</td>\n",
       "      <td>0.619000</td>\n",
       "      <td>0.378000</td>\n",
       "      <td>0.440000</td>\n",
       "      <td>0.013000</td>\n",
       "      <td>0.141000</td>\n",
       "      <td>0.331000</td>\n",
       "      <td>1.540000</td>\n",
       "      <td>2019</td>\n",
       "      <td>34.802075</td>\n",
       "      <td>38.996815</td>\n",
       "    </tr>\n",
       "    <tr>\n",
       "      <th>738</th>\n",
       "      <td>Botswana</td>\n",
       "      <td>148</td>\n",
       "      <td>3.488</td>\n",
       "      <td>1.041000</td>\n",
       "      <td>1.145000</td>\n",
       "      <td>0.538000</td>\n",
       "      <td>0.455000</td>\n",
       "      <td>0.100000</td>\n",
       "      <td>0.025000</td>\n",
       "      <td>0.184000</td>\n",
       "      <td>2019</td>\n",
       "      <td>-22.328474</td>\n",
       "      <td>24.684866</td>\n",
       "    </tr>\n",
       "    <tr>\n",
       "      <th>732</th>\n",
       "      <td>Haiti</td>\n",
       "      <td>147</td>\n",
       "      <td>3.597</td>\n",
       "      <td>0.323000</td>\n",
       "      <td>0.688000</td>\n",
       "      <td>0.449000</td>\n",
       "      <td>0.026000</td>\n",
       "      <td>0.110000</td>\n",
       "      <td>0.419000</td>\n",
       "      <td>1.582000</td>\n",
       "      <td>2019</td>\n",
       "      <td>18.971187</td>\n",
       "      <td>-72.285215</td>\n",
       "    </tr>\n",
       "    <tr>\n",
       "      <th>726</th>\n",
       "      <td>Zimbabwe</td>\n",
       "      <td>146</td>\n",
       "      <td>3.663</td>\n",
       "      <td>0.366000</td>\n",
       "      <td>1.114000</td>\n",
       "      <td>0.433000</td>\n",
       "      <td>0.361000</td>\n",
       "      <td>0.089000</td>\n",
       "      <td>0.151000</td>\n",
       "      <td>1.149000</td>\n",
       "      <td>2019</td>\n",
       "      <td>-19.015438</td>\n",
       "      <td>29.154857</td>\n",
       "    </tr>\n",
       "  </tbody>\n",
       "</table>\n",
       "</div>"
      ],
      "text/plain": [
       "                      Country  Happiness_Rank  Happiness_Score  \\\n",
       "781                      Togo             158            2.839   \n",
       "780                   Burundi             157            2.905   \n",
       "776                     Syria             156            3.006   \n",
       "774                     Benin             155            3.340   \n",
       "767                    Rwanda             154            3.465   \n",
       "762               Afghanistan             153            3.575   \n",
       "759              Burkina Faso             152            3.587   \n",
       "750               Ivory Coast             151            3.655   \n",
       "745                    Guinea             150            3.656   \n",
       "743                      Chad             149            3.667   \n",
       "779                   Burundi             157            2.905   \n",
       "775                     Syria             156            3.069   \n",
       "771                      Togo             155            3.303   \n",
       "769               Afghanistan             154            3.360   \n",
       "764                     Benin             153            3.484   \n",
       "757                    Rwanda             152            3.515   \n",
       "751                    Guinea             151            3.607   \n",
       "747                   Liberia             150            3.622   \n",
       "741                  Tanzania             149            3.666   \n",
       "735                Madagascar             148            3.695   \n",
       "772  Central African Republic             155            2.693   \n",
       "765                   Burundi             154            2.905   \n",
       "763                  Tanzania             153            3.349   \n",
       "755                     Syria             152            3.462   \n",
       "753                    Rwanda             151            3.471   \n",
       "748                      Togo             150            3.495   \n",
       "742                    Guinea             149            3.507   \n",
       "736                   Liberia             148            3.533   \n",
       "730               South Sudan             147            3.591   \n",
       "728                     Yemen             146            3.593   \n",
       "724                     Haiti             145            3.603   \n",
       "777                   Burundi             156            2.905   \n",
       "770  Central African Republic             155            3.083   \n",
       "768               South Sudan             154            3.254   \n",
       "761                  Tanzania             153            3.303   \n",
       "756                     Yemen             152            3.355   \n",
       "752                    Rwanda             151            3.408   \n",
       "749                     Syria             150            3.462   \n",
       "744                   Liberia             149            3.495   \n",
       "739                     Haiti             148            3.582   \n",
       "731                    Malawi             147            3.587   \n",
       "729                  Botswana             146            3.590   \n",
       "778               South Sudan             156            2.853   \n",
       "773  Central African Republic             155            3.083   \n",
       "766               Afghanistan             154            3.203   \n",
       "760                  Tanzania             153            3.231   \n",
       "758                    Rwanda             152            3.334   \n",
       "754                     Yemen             151            3.380   \n",
       "746                    Malawi             150            3.410   \n",
       "740                     Syria             149            3.462   \n",
       "738                  Botswana             148            3.488   \n",
       "732                     Haiti             147            3.597   \n",
       "726                  Zimbabwe             146            3.663   \n",
       "\n",
       "     Economy_(GDP_per_Capita)    Family  Health_(Life_Expectancy)   Freedom  \\\n",
       "781                  0.208680  0.139950                  0.284430  0.364530   \n",
       "780                  0.015300  0.415870                  0.223960  0.118500   \n",
       "776                  0.663200  0.474890                  0.721930  0.156840   \n",
       "774                  0.286650  0.353860                  0.319100  0.484500   \n",
       "767                  0.222080  0.773700                  0.428640  0.592010   \n",
       "762                  0.319820  0.302850                  0.303350  0.234140   \n",
       "759                  0.258120  0.851880                  0.271250  0.394930   \n",
       "750                  0.465340  0.771150                  0.151850  0.468660   \n",
       "745                  0.174170  0.464750                  0.240090  0.377250   \n",
       "743                  0.341930  0.760620                  0.150100  0.235010   \n",
       "779                  0.068310  0.234420                  0.157470  0.043200   \n",
       "775                  0.747190  0.148660                  0.629940  0.069120   \n",
       "771                  0.281230  0.000000                  0.248110  0.346780   \n",
       "769                  0.382270  0.110370                  0.173440  0.164300   \n",
       "764                  0.394990  0.104190                  0.210280  0.397470   \n",
       "757                  0.328460  0.615860                  0.318650  0.543200   \n",
       "751                  0.224150  0.310900                  0.188290  0.309530   \n",
       "747                  0.107060  0.503530                  0.231650  0.257480   \n",
       "741                  0.471550  0.776230                  0.357000  0.317600   \n",
       "735                  0.279540  0.461150                  0.371090  0.136840   \n",
       "772                  0.000000  0.000000                  0.018773  0.270842   \n",
       "765                  0.091623  0.629794                  0.151611  0.059901   \n",
       "763                  0.511136  1.041990                  0.364509  0.390018   \n",
       "755                  0.777153  0.396103                  0.500533  0.081539   \n",
       "753                  0.368746  0.945707                  0.326425  0.581844   \n",
       "748                  0.305445  0.431883                  0.247106  0.380426   \n",
       "742                  0.244550  0.791245                  0.194129  0.348588   \n",
       "736                  0.119042  0.872118                  0.229918  0.332881   \n",
       "730                  0.397249  0.601323                  0.163486  0.147062   \n",
       "728                  0.591683  0.935382                  0.310081  0.249464   \n",
       "724                  0.368610  0.640450                  0.277321  0.030370   \n",
       "777                  0.091000  0.627000                  0.145000  0.065000   \n",
       "770                  0.024000  0.000000                  0.010000  0.305000   \n",
       "768                  0.337000  0.608000                  0.177000  0.112000   \n",
       "761                  0.455000  0.991000                  0.381000  0.481000   \n",
       "756                  0.442000  1.073000                  0.343000  0.244000   \n",
       "752                  0.332000  0.896000                  0.400000  0.636000   \n",
       "749                  0.689000  0.382000                  0.539000  0.088000   \n",
       "744                  0.076000  0.858000                  0.267000  0.419000   \n",
       "739                  0.315000  0.714000                  0.289000  0.025000   \n",
       "731                  0.186000  0.541000                  0.306000  0.531000   \n",
       "729                  1.017000  1.174000                  0.417000  0.557000   \n",
       "778                  0.306000  0.575000                  0.295000  0.010000   \n",
       "773                  0.026000  0.000000                  0.105000  0.225000   \n",
       "766                  0.350000  0.517000                  0.361000  0.000000   \n",
       "760                  0.476000  0.885000                  0.499000  0.417000   \n",
       "758                  0.359000  0.711000                  0.614000  0.555000   \n",
       "754                  0.287000  1.163000                  0.463000  0.143000   \n",
       "746                  0.191000  0.560000                  0.495000  0.443000   \n",
       "740                  0.619000  0.378000                  0.440000  0.013000   \n",
       "738                  1.041000  1.145000                  0.538000  0.455000   \n",
       "732                  0.323000  0.688000                  0.449000  0.026000   \n",
       "726                  0.366000  1.114000                  0.433000  0.361000   \n",
       "\n",
       "     Trust_(Government_Corruption)  Generosity  Dystopia_Residual  year  \\\n",
       "781                       0.107310    0.166810           1.567260  2015   \n",
       "780                       0.100620    0.197270           1.833020  2015   \n",
       "776                       0.189060    0.471790           0.328580  2015   \n",
       "774                       0.080100    0.182600           1.633280  2015   \n",
       "767                       0.551910    0.226280           0.670420  2015   \n",
       "762                       0.097190    0.365100           1.952100  2015   \n",
       "759                       0.128320    0.217470           1.464940  2015   \n",
       "750                       0.179220    0.201650           1.417230  2015   \n",
       "745                       0.121390    0.286570           1.991720  2015   \n",
       "743                       0.052690    0.183860           1.942960  2015   \n",
       "779                       0.094190    0.202900           2.104040  2016   \n",
       "775                       0.172330    0.483970           0.817890  2016   \n",
       "771                       0.115870    0.175170           2.135400  2016   \n",
       "769                       0.071120    0.312680           2.145580  2016   \n",
       "764                       0.066810    0.201800           2.108120  2016   \n",
       "757                       0.505210    0.235520           0.968190  2016   \n",
       "751                       0.119200    0.299140           2.156040  2016   \n",
       "747                       0.048520    0.240630           2.232840  2016   \n",
       "741                       0.050990    0.314720           1.377690  2016   \n",
       "735                       0.075060    0.220400           2.150750  2016   \n",
       "772                       0.056565    0.280876           2.066005  2017   \n",
       "765                       0.084148    0.204435           1.683024  2017   \n",
       "763                       0.066035    0.354256           0.621130  2017   \n",
       "755                       0.151347    0.493664           1.061574  2017   \n",
       "753                       0.455220    0.252756           0.540061  2017   \n",
       "748                       0.095665    0.196896           1.837229  2017   \n",
       "742                       0.110938    0.264815           1.552312  2017   \n",
       "736                       0.038948    0.266550           1.673286  2017   \n",
       "730                       0.116794    0.285671           1.879567  2017   \n",
       "728                       0.056767    0.104125           1.345601  2017   \n",
       "724                       0.099872    0.489204           1.697168  2017   \n",
       "777                       0.076000    0.149000           1.752000  2018   \n",
       "770                       0.038000    0.218000           2.488000  2018   \n",
       "768                       0.106000    0.224000           1.690000  2018   \n",
       "761                       0.097000    0.270000           0.628000  2018   \n",
       "756                       0.064000    0.083000           1.106000  2018   \n",
       "752                       0.444000    0.200000           0.500000  2018   \n",
       "749                       0.144000    0.376000           1.244000  2018   \n",
       "744                       0.030000    0.206000           1.639000  2018   \n",
       "739                       0.104000    0.392000           1.743000  2018   \n",
       "731                       0.080000    0.210000           1.733000  2018   \n",
       "729                       0.092000    0.042000           0.291000  2018   \n",
       "778                       0.091000    0.202000           1.374000  2019   \n",
       "773                       0.035000    0.235000           2.457000  2019   \n",
       "766                       0.025000    0.158000           1.792000  2019   \n",
       "760                       0.147000    0.276000           0.531000  2019   \n",
       "758                       0.411000    0.217000           0.467000  2019   \n",
       "754                       0.077000    0.108000           1.139000  2019   \n",
       "746                       0.089000    0.218000           1.414000  2019   \n",
       "740                       0.141000    0.331000           1.540000  2019   \n",
       "738                       0.100000    0.025000           0.184000  2019   \n",
       "732                       0.110000    0.419000           1.582000  2019   \n",
       "726                       0.089000    0.151000           1.149000  2019   \n",
       "\n",
       "           lat        lon  \n",
       "781   8.619543   0.824782  \n",
       "780  -3.373056  29.918886  \n",
       "776  34.802075  38.996815  \n",
       "774   9.307690   2.315834  \n",
       "767  -1.940278  29.873888  \n",
       "762  33.939110  67.709953  \n",
       "759  12.238333  -1.561593  \n",
       "750   7.539989  -5.547080  \n",
       "745   9.945587  -9.696645  \n",
       "743  15.454166  18.732207  \n",
       "779  -3.373056  29.918886  \n",
       "775  34.802075  38.996815  \n",
       "771   8.619543   0.824782  \n",
       "769  33.939110  67.709953  \n",
       "764   9.307690   2.315834  \n",
       "757  -1.940278  29.873888  \n",
       "751   9.945587  -9.696645  \n",
       "747   6.428055  -9.429499  \n",
       "741  -6.369028  34.888822  \n",
       "735 -18.766947  46.869107  \n",
       "772   6.611111  20.939444  \n",
       "765  -3.373056  29.918886  \n",
       "763  -6.369028  34.888822  \n",
       "755  34.802075  38.996815  \n",
       "753  -1.940278  29.873888  \n",
       "748   8.619543   0.824782  \n",
       "742   9.945587  -9.696645  \n",
       "736   6.428055  -9.429499  \n",
       "730   6.876992  31.306979  \n",
       "728  15.552727  48.516388  \n",
       "724  18.971187 -72.285215  \n",
       "777  -3.373056  29.918886  \n",
       "770   6.611111  20.939444  \n",
       "768   6.876992  31.306979  \n",
       "761  -6.369028  34.888822  \n",
       "756  15.552727  48.516388  \n",
       "752  -1.940278  29.873888  \n",
       "749  34.802075  38.996815  \n",
       "744   6.428055  -9.429499  \n",
       "739  18.971187 -72.285215  \n",
       "731 -13.254308  34.301525  \n",
       "729 -22.328474  24.684866  \n",
       "778   6.876992  31.306979  \n",
       "773   6.611111  20.939444  \n",
       "766  33.939110  67.709953  \n",
       "760  -6.369028  34.888822  \n",
       "758  -1.940278  29.873888  \n",
       "754  15.552727  48.516388  \n",
       "746 -13.254308  34.301525  \n",
       "740  34.802075  38.996815  \n",
       "738 -22.328474  24.684866  \n",
       "732  18.971187 -72.285215  \n",
       "726 -19.015438  29.154857  "
      ]
     },
     "execution_count": 75,
     "metadata": {},
     "output_type": "execute_result"
    }
   ],
   "source": [
    "bottom_10_df"
   ]
  },
  {
   "cell_type": "code",
   "execution_count": 76,
   "metadata": {
    "ExecuteTime": {
     "end_time": "2020-10-24T05:45:54.079045Z",
     "start_time": "2020-10-24T05:45:53.488182Z"
    }
   },
   "outputs": [
    {
     "data": {
      "application/vnd.plotly.v1+json": {
       "config": {
        "plotlyServerURL": "https://plot.ly"
       },
       "data": [
        {
         "geo": "geo",
         "hovertemplate": "<b>%{hovertext}</b><br><br>year=2015<br>Happiness_Score=%{marker.color}<br>Happiness_Rank=%{text}<br>lat=%{lat}<br>lon=%{lon}<extra></extra>",
         "hovertext": [
          "Togo",
          "Burundi",
          "Syria",
          "Benin",
          "Rwanda",
          "Afghanistan",
          "Burkina Faso",
          "Ivory Coast",
          "Guinea",
          "Chad"
         ],
         "lat": [
          8.619543,
          -3.373056,
          34.80207499999999,
          9.30769,
          -1.940278,
          33.93911,
          12.238333,
          7.539988999999999,
          9.945587,
          15.454166
         ],
         "legendgroup": "",
         "lon": [
          0.824782,
          29.918886,
          38.996815,
          2.315834,
          29.873888,
          67.709953,
          -1.561593,
          -5.547079999999999,
          -9.696645,
          18.732207
         ],
         "marker": {
          "color": [
           2.839,
           2.905,
           3.006,
           3.34,
           3.465,
           3.575,
           3.587,
           3.655,
           3.656,
           3.667
          ],
          "coloraxis": "coloraxis",
          "size": [
           2.839,
           2.905,
           3.006,
           3.34,
           3.465,
           3.575,
           3.587,
           3.655,
           3.656,
           3.667
          ],
          "sizemode": "area",
          "sizeref": 0.0092375
         },
         "name": "",
         "showlegend": false,
         "text": [
          158,
          157,
          156,
          155,
          154,
          153,
          152,
          151,
          150,
          149
         ],
         "type": "scattergeo"
        }
       ],
       "frames": [
        {
         "data": [
          {
           "geo": "geo",
           "hovertemplate": "<b>%{hovertext}</b><br><br>year=2015<br>Happiness_Score=%{marker.color}<br>Happiness_Rank=%{text}<br>lat=%{lat}<br>lon=%{lon}<extra></extra>",
           "hovertext": [
            "Togo",
            "Burundi",
            "Syria",
            "Benin",
            "Rwanda",
            "Afghanistan",
            "Burkina Faso",
            "Ivory Coast",
            "Guinea",
            "Chad"
           ],
           "lat": [
            8.619543,
            -3.373056,
            34.80207499999999,
            9.30769,
            -1.940278,
            33.93911,
            12.238333,
            7.539988999999999,
            9.945587,
            15.454166
           ],
           "legendgroup": "",
           "lon": [
            0.824782,
            29.918886,
            38.996815,
            2.315834,
            29.873888,
            67.709953,
            -1.561593,
            -5.547079999999999,
            -9.696645,
            18.732207
           ],
           "marker": {
            "color": [
             2.839,
             2.905,
             3.006,
             3.34,
             3.465,
             3.575,
             3.587,
             3.655,
             3.656,
             3.667
            ],
            "coloraxis": "coloraxis",
            "size": [
             2.839,
             2.905,
             3.006,
             3.34,
             3.465,
             3.575,
             3.587,
             3.655,
             3.656,
             3.667
            ],
            "sizemode": "area",
            "sizeref": 0.0092375
           },
           "name": "",
           "showlegend": false,
           "text": [
            158,
            157,
            156,
            155,
            154,
            153,
            152,
            151,
            150,
            149
           ],
           "type": "scattergeo"
          }
         ],
         "name": "2015"
        },
        {
         "data": [
          {
           "geo": "geo",
           "hovertemplate": "<b>%{hovertext}</b><br><br>year=2016<br>Happiness_Score=%{marker.color}<br>Happiness_Rank=%{text}<br>lat=%{lat}<br>lon=%{lon}<extra></extra>",
           "hovertext": [
            "Burundi",
            "Syria",
            "Togo",
            "Afghanistan",
            "Benin",
            "Rwanda",
            "Guinea",
            "Liberia",
            "Tanzania",
            "Madagascar"
           ],
           "lat": [
            -3.373056,
            34.80207499999999,
            8.619543,
            33.93911,
            9.30769,
            -1.940278,
            9.945587,
            6.428055,
            -6.369028,
            -18.766947
           ],
           "legendgroup": "",
           "lon": [
            29.918886,
            38.996815,
            0.824782,
            67.709953,
            2.315834,
            29.873888,
            -9.696645,
            -9.429499000000002,
            34.888822,
            46.869107
           ],
           "marker": {
            "color": [
             2.905,
             3.069,
             3.303,
             3.36,
             3.484,
             3.515,
             3.607,
             3.622,
             3.666,
             3.695
            ],
            "coloraxis": "coloraxis",
            "size": [
             2.905,
             3.069,
             3.303,
             3.36,
             3.484,
             3.515,
             3.607,
             3.622,
             3.666,
             3.695
            ],
            "sizemode": "area",
            "sizeref": 0.0092375
           },
           "name": "",
           "showlegend": false,
           "text": [
            157,
            156,
            155,
            154,
            153,
            152,
            151,
            150,
            149,
            148
           ],
           "type": "scattergeo"
          }
         ],
         "name": "2016"
        },
        {
         "data": [
          {
           "geo": "geo",
           "hovertemplate": "<b>%{hovertext}</b><br><br>year=2017<br>Happiness_Score=%{marker.color}<br>Happiness_Rank=%{text}<br>lat=%{lat}<br>lon=%{lon}<extra></extra>",
           "hovertext": [
            "Central African Republic",
            "Burundi",
            "Tanzania",
            "Syria",
            "Rwanda",
            "Togo",
            "Guinea",
            "Liberia",
            "South Sudan",
            "Yemen",
            "Haiti"
           ],
           "lat": [
            6.611110999999999,
            -3.373056,
            -6.369028,
            34.80207499999999,
            -1.940278,
            8.619543,
            9.945587,
            6.428055,
            6.876991899999999,
            15.552727,
            18.971187
           ],
           "legendgroup": "",
           "lon": [
            20.939444,
            29.918886,
            34.888822,
            38.996815,
            29.873888,
            0.824782,
            -9.696645,
            -9.429499000000002,
            31.3069788,
            48.516388,
            -72.285215
           ],
           "marker": {
            "color": [
             2.69300007820129,
             2.90499997138977,
             3.34899997711182,
             3.46199989318848,
             3.47099995613098,
             3.4949998855590803,
             3.50699996948242,
             3.532999992370609,
             3.5910000801086404,
             3.59299993515015,
             3.6029999256134
            ],
            "coloraxis": "coloraxis",
            "size": [
             2.69300007820129,
             2.90499997138977,
             3.34899997711182,
             3.46199989318848,
             3.47099995613098,
             3.4949998855590803,
             3.50699996948242,
             3.532999992370609,
             3.5910000801086404,
             3.59299993515015,
             3.6029999256134
            ],
            "sizemode": "area",
            "sizeref": 0.0092375
           },
           "name": "",
           "showlegend": false,
           "text": [
            155,
            154,
            153,
            152,
            151,
            150,
            149,
            148,
            147,
            146,
            145
           ],
           "type": "scattergeo"
          }
         ],
         "name": "2017"
        },
        {
         "data": [
          {
           "geo": "geo",
           "hovertemplate": "<b>%{hovertext}</b><br><br>year=2018<br>Happiness_Score=%{marker.color}<br>Happiness_Rank=%{text}<br>lat=%{lat}<br>lon=%{lon}<extra></extra>",
           "hovertext": [
            "Burundi",
            "Central African Republic",
            "South Sudan",
            "Tanzania",
            "Yemen",
            "Rwanda",
            "Syria",
            "Liberia",
            "Haiti",
            "Malawi",
            "Botswana"
           ],
           "lat": [
            -3.373056,
            6.611110999999999,
            6.876991899999999,
            -6.369028,
            15.552727,
            -1.940278,
            34.80207499999999,
            6.428055,
            18.971187,
            -13.254308,
            -22.328474
           ],
           "legendgroup": "",
           "lon": [
            29.918886,
            20.939444,
            31.3069788,
            34.888822,
            48.516388,
            29.873888,
            38.996815,
            -9.429499000000002,
            -72.285215,
            34.301525,
            24.684866
           ],
           "marker": {
            "color": [
             2.905,
             3.083,
             3.254,
             3.303,
             3.355,
             3.408,
             3.462,
             3.495,
             3.582,
             3.587,
             3.59
            ],
            "coloraxis": "coloraxis",
            "size": [
             2.905,
             3.083,
             3.254,
             3.303,
             3.355,
             3.408,
             3.462,
             3.495,
             3.582,
             3.587,
             3.59
            ],
            "sizemode": "area",
            "sizeref": 0.0092375
           },
           "name": "",
           "showlegend": false,
           "text": [
            156,
            155,
            154,
            153,
            152,
            151,
            150,
            149,
            148,
            147,
            146
           ],
           "type": "scattergeo"
          }
         ],
         "name": "2018"
        },
        {
         "data": [
          {
           "geo": "geo",
           "hovertemplate": "<b>%{hovertext}</b><br><br>year=2019<br>Happiness_Score=%{marker.color}<br>Happiness_Rank=%{text}<br>lat=%{lat}<br>lon=%{lon}<extra></extra>",
           "hovertext": [
            "South Sudan",
            "Central African Republic",
            "Afghanistan",
            "Tanzania",
            "Rwanda",
            "Yemen",
            "Malawi",
            "Syria",
            "Botswana",
            "Haiti",
            "Zimbabwe"
           ],
           "lat": [
            6.876991899999999,
            6.611110999999999,
            33.93911,
            -6.369028,
            -1.940278,
            15.552727,
            -13.254308,
            34.80207499999999,
            -22.328474,
            18.971187,
            -19.015438
           ],
           "legendgroup": "",
           "lon": [
            31.3069788,
            20.939444,
            67.709953,
            34.888822,
            29.873888,
            48.516388,
            34.301525,
            38.996815,
            24.684866,
            -72.285215,
            29.154857
           ],
           "marker": {
            "color": [
             2.853,
             3.083,
             3.2030000000000003,
             3.2310000000000003,
             3.334,
             3.38,
             3.41,
             3.462,
             3.488,
             3.597,
             3.663
            ],
            "coloraxis": "coloraxis",
            "size": [
             2.853,
             3.083,
             3.2030000000000003,
             3.2310000000000003,
             3.334,
             3.38,
             3.41,
             3.462,
             3.488,
             3.597,
             3.663
            ],
            "sizemode": "area",
            "sizeref": 0.0092375
           },
           "name": "",
           "showlegend": false,
           "text": [
            156,
            155,
            154,
            153,
            152,
            151,
            150,
            149,
            148,
            147,
            146
           ],
           "type": "scattergeo"
          }
         ],
         "name": "2019"
        }
       ],
       "layout": {
        "coloraxis": {
         "colorbar": {
          "title": {
           "text": "Happiness_Score"
          }
         },
         "colorscale": [
          [
           0,
           "#0d0887"
          ],
          [
           0.1111111111111111,
           "#46039f"
          ],
          [
           0.2222222222222222,
           "#7201a8"
          ],
          [
           0.3333333333333333,
           "#9c179e"
          ],
          [
           0.4444444444444444,
           "#bd3786"
          ],
          [
           0.5555555555555556,
           "#d8576b"
          ],
          [
           0.6666666666666666,
           "#ed7953"
          ],
          [
           0.7777777777777778,
           "#fb9f3a"
          ],
          [
           0.8888888888888888,
           "#fdca26"
          ],
          [
           1,
           "#f0f921"
          ]
         ]
        },
        "geo": {
         "center": {},
         "domain": {
          "x": [
           0,
           1
          ],
          "y": [
           0,
           1
          ]
         },
         "projection": {
          "type": "natural earth"
         }
        },
        "legend": {
         "itemsizing": "constant",
         "tracegroupgap": 0
        },
        "margin": {
         "t": 60
        },
        "sliders": [
         {
          "active": 0,
          "currentvalue": {
           "prefix": "year="
          },
          "len": 0.9,
          "pad": {
           "b": 10,
           "t": 60
          },
          "steps": [
           {
            "args": [
             [
              "2015"
             ],
             {
              "frame": {
               "duration": 0,
               "redraw": true
              },
              "fromcurrent": true,
              "mode": "immediate",
              "transition": {
               "duration": 0,
               "easing": "linear"
              }
             }
            ],
            "label": "2015",
            "method": "animate"
           },
           {
            "args": [
             [
              "2016"
             ],
             {
              "frame": {
               "duration": 0,
               "redraw": true
              },
              "fromcurrent": true,
              "mode": "immediate",
              "transition": {
               "duration": 0,
               "easing": "linear"
              }
             }
            ],
            "label": "2016",
            "method": "animate"
           },
           {
            "args": [
             [
              "2017"
             ],
             {
              "frame": {
               "duration": 0,
               "redraw": true
              },
              "fromcurrent": true,
              "mode": "immediate",
              "transition": {
               "duration": 0,
               "easing": "linear"
              }
             }
            ],
            "label": "2017",
            "method": "animate"
           },
           {
            "args": [
             [
              "2018"
             ],
             {
              "frame": {
               "duration": 0,
               "redraw": true
              },
              "fromcurrent": true,
              "mode": "immediate",
              "transition": {
               "duration": 0,
               "easing": "linear"
              }
             }
            ],
            "label": "2018",
            "method": "animate"
           },
           {
            "args": [
             [
              "2019"
             ],
             {
              "frame": {
               "duration": 0,
               "redraw": true
              },
              "fromcurrent": true,
              "mode": "immediate",
              "transition": {
               "duration": 0,
               "easing": "linear"
              }
             }
            ],
            "label": "2019",
            "method": "animate"
           }
          ],
          "x": 0.1,
          "xanchor": "left",
          "y": 0,
          "yanchor": "top"
         }
        ],
        "template": {
         "data": {
          "bar": [
           {
            "error_x": {
             "color": "#2a3f5f"
            },
            "error_y": {
             "color": "#2a3f5f"
            },
            "marker": {
             "line": {
              "color": "#E5ECF6",
              "width": 0.5
             }
            },
            "type": "bar"
           }
          ],
          "barpolar": [
           {
            "marker": {
             "line": {
              "color": "#E5ECF6",
              "width": 0.5
             }
            },
            "type": "barpolar"
           }
          ],
          "carpet": [
           {
            "aaxis": {
             "endlinecolor": "#2a3f5f",
             "gridcolor": "white",
             "linecolor": "white",
             "minorgridcolor": "white",
             "startlinecolor": "#2a3f5f"
            },
            "baxis": {
             "endlinecolor": "#2a3f5f",
             "gridcolor": "white",
             "linecolor": "white",
             "minorgridcolor": "white",
             "startlinecolor": "#2a3f5f"
            },
            "type": "carpet"
           }
          ],
          "choropleth": [
           {
            "colorbar": {
             "outlinewidth": 0,
             "ticks": ""
            },
            "type": "choropleth"
           }
          ],
          "contour": [
           {
            "colorbar": {
             "outlinewidth": 0,
             "ticks": ""
            },
            "colorscale": [
             [
              0,
              "#0d0887"
             ],
             [
              0.1111111111111111,
              "#46039f"
             ],
             [
              0.2222222222222222,
              "#7201a8"
             ],
             [
              0.3333333333333333,
              "#9c179e"
             ],
             [
              0.4444444444444444,
              "#bd3786"
             ],
             [
              0.5555555555555556,
              "#d8576b"
             ],
             [
              0.6666666666666666,
              "#ed7953"
             ],
             [
              0.7777777777777778,
              "#fb9f3a"
             ],
             [
              0.8888888888888888,
              "#fdca26"
             ],
             [
              1,
              "#f0f921"
             ]
            ],
            "type": "contour"
           }
          ],
          "contourcarpet": [
           {
            "colorbar": {
             "outlinewidth": 0,
             "ticks": ""
            },
            "type": "contourcarpet"
           }
          ],
          "heatmap": [
           {
            "colorbar": {
             "outlinewidth": 0,
             "ticks": ""
            },
            "colorscale": [
             [
              0,
              "#0d0887"
             ],
             [
              0.1111111111111111,
              "#46039f"
             ],
             [
              0.2222222222222222,
              "#7201a8"
             ],
             [
              0.3333333333333333,
              "#9c179e"
             ],
             [
              0.4444444444444444,
              "#bd3786"
             ],
             [
              0.5555555555555556,
              "#d8576b"
             ],
             [
              0.6666666666666666,
              "#ed7953"
             ],
             [
              0.7777777777777778,
              "#fb9f3a"
             ],
             [
              0.8888888888888888,
              "#fdca26"
             ],
             [
              1,
              "#f0f921"
             ]
            ],
            "type": "heatmap"
           }
          ],
          "heatmapgl": [
           {
            "colorbar": {
             "outlinewidth": 0,
             "ticks": ""
            },
            "colorscale": [
             [
              0,
              "#0d0887"
             ],
             [
              0.1111111111111111,
              "#46039f"
             ],
             [
              0.2222222222222222,
              "#7201a8"
             ],
             [
              0.3333333333333333,
              "#9c179e"
             ],
             [
              0.4444444444444444,
              "#bd3786"
             ],
             [
              0.5555555555555556,
              "#d8576b"
             ],
             [
              0.6666666666666666,
              "#ed7953"
             ],
             [
              0.7777777777777778,
              "#fb9f3a"
             ],
             [
              0.8888888888888888,
              "#fdca26"
             ],
             [
              1,
              "#f0f921"
             ]
            ],
            "type": "heatmapgl"
           }
          ],
          "histogram": [
           {
            "marker": {
             "colorbar": {
              "outlinewidth": 0,
              "ticks": ""
             }
            },
            "type": "histogram"
           }
          ],
          "histogram2d": [
           {
            "colorbar": {
             "outlinewidth": 0,
             "ticks": ""
            },
            "colorscale": [
             [
              0,
              "#0d0887"
             ],
             [
              0.1111111111111111,
              "#46039f"
             ],
             [
              0.2222222222222222,
              "#7201a8"
             ],
             [
              0.3333333333333333,
              "#9c179e"
             ],
             [
              0.4444444444444444,
              "#bd3786"
             ],
             [
              0.5555555555555556,
              "#d8576b"
             ],
             [
              0.6666666666666666,
              "#ed7953"
             ],
             [
              0.7777777777777778,
              "#fb9f3a"
             ],
             [
              0.8888888888888888,
              "#fdca26"
             ],
             [
              1,
              "#f0f921"
             ]
            ],
            "type": "histogram2d"
           }
          ],
          "histogram2dcontour": [
           {
            "colorbar": {
             "outlinewidth": 0,
             "ticks": ""
            },
            "colorscale": [
             [
              0,
              "#0d0887"
             ],
             [
              0.1111111111111111,
              "#46039f"
             ],
             [
              0.2222222222222222,
              "#7201a8"
             ],
             [
              0.3333333333333333,
              "#9c179e"
             ],
             [
              0.4444444444444444,
              "#bd3786"
             ],
             [
              0.5555555555555556,
              "#d8576b"
             ],
             [
              0.6666666666666666,
              "#ed7953"
             ],
             [
              0.7777777777777778,
              "#fb9f3a"
             ],
             [
              0.8888888888888888,
              "#fdca26"
             ],
             [
              1,
              "#f0f921"
             ]
            ],
            "type": "histogram2dcontour"
           }
          ],
          "mesh3d": [
           {
            "colorbar": {
             "outlinewidth": 0,
             "ticks": ""
            },
            "type": "mesh3d"
           }
          ],
          "parcoords": [
           {
            "line": {
             "colorbar": {
              "outlinewidth": 0,
              "ticks": ""
             }
            },
            "type": "parcoords"
           }
          ],
          "pie": [
           {
            "automargin": true,
            "type": "pie"
           }
          ],
          "scatter": [
           {
            "marker": {
             "colorbar": {
              "outlinewidth": 0,
              "ticks": ""
             }
            },
            "type": "scatter"
           }
          ],
          "scatter3d": [
           {
            "line": {
             "colorbar": {
              "outlinewidth": 0,
              "ticks": ""
             }
            },
            "marker": {
             "colorbar": {
              "outlinewidth": 0,
              "ticks": ""
             }
            },
            "type": "scatter3d"
           }
          ],
          "scattercarpet": [
           {
            "marker": {
             "colorbar": {
              "outlinewidth": 0,
              "ticks": ""
             }
            },
            "type": "scattercarpet"
           }
          ],
          "scattergeo": [
           {
            "marker": {
             "colorbar": {
              "outlinewidth": 0,
              "ticks": ""
             }
            },
            "type": "scattergeo"
           }
          ],
          "scattergl": [
           {
            "marker": {
             "colorbar": {
              "outlinewidth": 0,
              "ticks": ""
             }
            },
            "type": "scattergl"
           }
          ],
          "scattermapbox": [
           {
            "marker": {
             "colorbar": {
              "outlinewidth": 0,
              "ticks": ""
             }
            },
            "type": "scattermapbox"
           }
          ],
          "scatterpolar": [
           {
            "marker": {
             "colorbar": {
              "outlinewidth": 0,
              "ticks": ""
             }
            },
            "type": "scatterpolar"
           }
          ],
          "scatterpolargl": [
           {
            "marker": {
             "colorbar": {
              "outlinewidth": 0,
              "ticks": ""
             }
            },
            "type": "scatterpolargl"
           }
          ],
          "scatterternary": [
           {
            "marker": {
             "colorbar": {
              "outlinewidth": 0,
              "ticks": ""
             }
            },
            "type": "scatterternary"
           }
          ],
          "surface": [
           {
            "colorbar": {
             "outlinewidth": 0,
             "ticks": ""
            },
            "colorscale": [
             [
              0,
              "#0d0887"
             ],
             [
              0.1111111111111111,
              "#46039f"
             ],
             [
              0.2222222222222222,
              "#7201a8"
             ],
             [
              0.3333333333333333,
              "#9c179e"
             ],
             [
              0.4444444444444444,
              "#bd3786"
             ],
             [
              0.5555555555555556,
              "#d8576b"
             ],
             [
              0.6666666666666666,
              "#ed7953"
             ],
             [
              0.7777777777777778,
              "#fb9f3a"
             ],
             [
              0.8888888888888888,
              "#fdca26"
             ],
             [
              1,
              "#f0f921"
             ]
            ],
            "type": "surface"
           }
          ],
          "table": [
           {
            "cells": {
             "fill": {
              "color": "#EBF0F8"
             },
             "line": {
              "color": "white"
             }
            },
            "header": {
             "fill": {
              "color": "#C8D4E3"
             },
             "line": {
              "color": "white"
             }
            },
            "type": "table"
           }
          ]
         },
         "layout": {
          "annotationdefaults": {
           "arrowcolor": "#2a3f5f",
           "arrowhead": 0,
           "arrowwidth": 1
          },
          "coloraxis": {
           "colorbar": {
            "outlinewidth": 0,
            "ticks": ""
           }
          },
          "colorscale": {
           "diverging": [
            [
             0,
             "#8e0152"
            ],
            [
             0.1,
             "#c51b7d"
            ],
            [
             0.2,
             "#de77ae"
            ],
            [
             0.3,
             "#f1b6da"
            ],
            [
             0.4,
             "#fde0ef"
            ],
            [
             0.5,
             "#f7f7f7"
            ],
            [
             0.6,
             "#e6f5d0"
            ],
            [
             0.7,
             "#b8e186"
            ],
            [
             0.8,
             "#7fbc41"
            ],
            [
             0.9,
             "#4d9221"
            ],
            [
             1,
             "#276419"
            ]
           ],
           "sequential": [
            [
             0,
             "#0d0887"
            ],
            [
             0.1111111111111111,
             "#46039f"
            ],
            [
             0.2222222222222222,
             "#7201a8"
            ],
            [
             0.3333333333333333,
             "#9c179e"
            ],
            [
             0.4444444444444444,
             "#bd3786"
            ],
            [
             0.5555555555555556,
             "#d8576b"
            ],
            [
             0.6666666666666666,
             "#ed7953"
            ],
            [
             0.7777777777777778,
             "#fb9f3a"
            ],
            [
             0.8888888888888888,
             "#fdca26"
            ],
            [
             1,
             "#f0f921"
            ]
           ],
           "sequentialminus": [
            [
             0,
             "#0d0887"
            ],
            [
             0.1111111111111111,
             "#46039f"
            ],
            [
             0.2222222222222222,
             "#7201a8"
            ],
            [
             0.3333333333333333,
             "#9c179e"
            ],
            [
             0.4444444444444444,
             "#bd3786"
            ],
            [
             0.5555555555555556,
             "#d8576b"
            ],
            [
             0.6666666666666666,
             "#ed7953"
            ],
            [
             0.7777777777777778,
             "#fb9f3a"
            ],
            [
             0.8888888888888888,
             "#fdca26"
            ],
            [
             1,
             "#f0f921"
            ]
           ]
          },
          "colorway": [
           "#636efa",
           "#EF553B",
           "#00cc96",
           "#ab63fa",
           "#FFA15A",
           "#19d3f3",
           "#FF6692",
           "#B6E880",
           "#FF97FF",
           "#FECB52"
          ],
          "font": {
           "color": "#2a3f5f"
          },
          "geo": {
           "bgcolor": "white",
           "lakecolor": "white",
           "landcolor": "#E5ECF6",
           "showlakes": true,
           "showland": true,
           "subunitcolor": "white"
          },
          "hoverlabel": {
           "align": "left"
          },
          "hovermode": "closest",
          "mapbox": {
           "style": "light"
          },
          "paper_bgcolor": "white",
          "plot_bgcolor": "#E5ECF6",
          "polar": {
           "angularaxis": {
            "gridcolor": "white",
            "linecolor": "white",
            "ticks": ""
           },
           "bgcolor": "#E5ECF6",
           "radialaxis": {
            "gridcolor": "white",
            "linecolor": "white",
            "ticks": ""
           }
          },
          "scene": {
           "xaxis": {
            "backgroundcolor": "#E5ECF6",
            "gridcolor": "white",
            "gridwidth": 2,
            "linecolor": "white",
            "showbackground": true,
            "ticks": "",
            "zerolinecolor": "white"
           },
           "yaxis": {
            "backgroundcolor": "#E5ECF6",
            "gridcolor": "white",
            "gridwidth": 2,
            "linecolor": "white",
            "showbackground": true,
            "ticks": "",
            "zerolinecolor": "white"
           },
           "zaxis": {
            "backgroundcolor": "#E5ECF6",
            "gridcolor": "white",
            "gridwidth": 2,
            "linecolor": "white",
            "showbackground": true,
            "ticks": "",
            "zerolinecolor": "white"
           }
          },
          "shapedefaults": {
           "line": {
            "color": "#2a3f5f"
           }
          },
          "ternary": {
           "aaxis": {
            "gridcolor": "white",
            "linecolor": "white",
            "ticks": ""
           },
           "baxis": {
            "gridcolor": "white",
            "linecolor": "white",
            "ticks": ""
           },
           "bgcolor": "#E5ECF6",
           "caxis": {
            "gridcolor": "white",
            "linecolor": "white",
            "ticks": ""
           }
          },
          "title": {
           "x": 0.05
          },
          "xaxis": {
           "automargin": true,
           "gridcolor": "white",
           "linecolor": "white",
           "ticks": "",
           "title": {
            "standoff": 15
           },
           "zerolinecolor": "white",
           "zerolinewidth": 2
          },
          "yaxis": {
           "automargin": true,
           "gridcolor": "white",
           "linecolor": "white",
           "ticks": "",
           "title": {
            "standoff": 15
           },
           "zerolinecolor": "white",
           "zerolinewidth": 2
          }
         }
        },
        "updatemenus": [
         {
          "buttons": [
           {
            "args": [
             null,
             {
              "frame": {
               "duration": 500,
               "redraw": true
              },
              "fromcurrent": true,
              "mode": "immediate",
              "transition": {
               "duration": 500,
               "easing": "linear"
              }
             }
            ],
            "label": "&#9654;",
            "method": "animate"
           },
           {
            "args": [
             [
              null
             ],
             {
              "frame": {
               "duration": 0,
               "redraw": true
              },
              "fromcurrent": true,
              "mode": "immediate",
              "transition": {
               "duration": 0,
               "easing": "linear"
              }
             }
            ],
            "label": "&#9724;",
            "method": "animate"
           }
          ],
          "direction": "left",
          "pad": {
           "r": 10,
           "t": 70
          },
          "showactive": false,
          "type": "buttons",
          "x": 0.1,
          "xanchor": "right",
          "y": 0,
          "yanchor": "top"
         }
        ]
       }
      },
      "text/html": [
       "<div>                            <div id=\"d1a34941-e6ad-4bb6-9b61-37ba0c33b539\" class=\"plotly-graph-div\" style=\"height:525px; width:100%;\"></div>            <script type=\"text/javascript\">                require([\"plotly\"], function(Plotly) {                    window.PLOTLYENV=window.PLOTLYENV || {};                                    if (document.getElementById(\"d1a34941-e6ad-4bb6-9b61-37ba0c33b539\")) {                    Plotly.newPlot(                        \"d1a34941-e6ad-4bb6-9b61-37ba0c33b539\",                        [{\"geo\": \"geo\", \"hovertemplate\": \"<b>%{hovertext}</b><br><br>year=2015<br>Happiness_Score=%{marker.color}<br>Happiness_Rank=%{text}<br>lat=%{lat}<br>lon=%{lon}<extra></extra>\", \"hovertext\": [\"Togo\", \"Burundi\", \"Syria\", \"Benin\", \"Rwanda\", \"Afghanistan\", \"Burkina Faso\", \"Ivory Coast\", \"Guinea\", \"Chad\"], \"lat\": [8.619543, -3.373056, 34.80207499999999, 9.30769, -1.940278, 33.93911, 12.238333, 7.539988999999999, 9.945587, 15.454166], \"legendgroup\": \"\", \"lon\": [0.824782, 29.918886, 38.996815, 2.315834, 29.873888, 67.709953, -1.561593, -5.547079999999999, -9.696645, 18.732207], \"marker\": {\"color\": [2.839, 2.905, 3.006, 3.34, 3.465, 3.575, 3.587, 3.655, 3.656, 3.667], \"coloraxis\": \"coloraxis\", \"size\": [2.839, 2.905, 3.006, 3.34, 3.465, 3.575, 3.587, 3.655, 3.656, 3.667], \"sizemode\": \"area\", \"sizeref\": 0.0092375}, \"name\": \"\", \"showlegend\": false, \"text\": [158.0, 157.0, 156.0, 155.0, 154.0, 153.0, 152.0, 151.0, 150.0, 149.0], \"type\": \"scattergeo\"}],                        {\"coloraxis\": {\"colorbar\": {\"title\": {\"text\": \"Happiness_Score\"}}, \"colorscale\": [[0.0, \"#0d0887\"], [0.1111111111111111, \"#46039f\"], [0.2222222222222222, \"#7201a8\"], [0.3333333333333333, \"#9c179e\"], [0.4444444444444444, \"#bd3786\"], [0.5555555555555556, \"#d8576b\"], [0.6666666666666666, \"#ed7953\"], [0.7777777777777778, \"#fb9f3a\"], [0.8888888888888888, \"#fdca26\"], [1.0, \"#f0f921\"]]}, \"geo\": {\"center\": {}, \"domain\": {\"x\": [0.0, 1.0], \"y\": [0.0, 1.0]}, \"projection\": {\"type\": \"natural earth\"}}, \"legend\": {\"itemsizing\": \"constant\", \"tracegroupgap\": 0}, \"margin\": {\"t\": 60}, \"sliders\": [{\"active\": 0, \"currentvalue\": {\"prefix\": \"year=\"}, \"len\": 0.9, \"pad\": {\"b\": 10, \"t\": 60}, \"steps\": [{\"args\": [[\"2015\"], {\"frame\": {\"duration\": 0, \"redraw\": true}, \"fromcurrent\": true, \"mode\": \"immediate\", \"transition\": {\"duration\": 0, \"easing\": \"linear\"}}], \"label\": \"2015\", \"method\": \"animate\"}, {\"args\": [[\"2016\"], {\"frame\": {\"duration\": 0, \"redraw\": true}, \"fromcurrent\": true, \"mode\": \"immediate\", \"transition\": {\"duration\": 0, \"easing\": \"linear\"}}], \"label\": \"2016\", \"method\": \"animate\"}, {\"args\": [[\"2017\"], {\"frame\": {\"duration\": 0, \"redraw\": true}, \"fromcurrent\": true, \"mode\": \"immediate\", \"transition\": {\"duration\": 0, \"easing\": \"linear\"}}], \"label\": \"2017\", \"method\": \"animate\"}, {\"args\": [[\"2018\"], {\"frame\": {\"duration\": 0, \"redraw\": true}, \"fromcurrent\": true, \"mode\": \"immediate\", \"transition\": {\"duration\": 0, \"easing\": \"linear\"}}], \"label\": \"2018\", \"method\": \"animate\"}, {\"args\": [[\"2019\"], {\"frame\": {\"duration\": 0, \"redraw\": true}, \"fromcurrent\": true, \"mode\": \"immediate\", \"transition\": {\"duration\": 0, \"easing\": \"linear\"}}], \"label\": \"2019\", \"method\": \"animate\"}], \"x\": 0.1, \"xanchor\": \"left\", \"y\": 0, \"yanchor\": \"top\"}], \"template\": {\"data\": {\"bar\": [{\"error_x\": {\"color\": \"#2a3f5f\"}, \"error_y\": {\"color\": \"#2a3f5f\"}, \"marker\": {\"line\": {\"color\": \"#E5ECF6\", \"width\": 0.5}}, \"type\": \"bar\"}], \"barpolar\": [{\"marker\": {\"line\": {\"color\": \"#E5ECF6\", \"width\": 0.5}}, \"type\": \"barpolar\"}], \"carpet\": [{\"aaxis\": {\"endlinecolor\": \"#2a3f5f\", \"gridcolor\": \"white\", \"linecolor\": \"white\", \"minorgridcolor\": \"white\", \"startlinecolor\": \"#2a3f5f\"}, \"baxis\": {\"endlinecolor\": \"#2a3f5f\", \"gridcolor\": \"white\", \"linecolor\": \"white\", \"minorgridcolor\": \"white\", \"startlinecolor\": \"#2a3f5f\"}, \"type\": \"carpet\"}], \"choropleth\": [{\"colorbar\": {\"outlinewidth\": 0, \"ticks\": \"\"}, \"type\": \"choropleth\"}], \"contour\": [{\"colorbar\": {\"outlinewidth\": 0, \"ticks\": \"\"}, \"colorscale\": [[0.0, \"#0d0887\"], [0.1111111111111111, \"#46039f\"], [0.2222222222222222, \"#7201a8\"], [0.3333333333333333, \"#9c179e\"], [0.4444444444444444, \"#bd3786\"], [0.5555555555555556, \"#d8576b\"], [0.6666666666666666, \"#ed7953\"], [0.7777777777777778, \"#fb9f3a\"], [0.8888888888888888, \"#fdca26\"], [1.0, \"#f0f921\"]], \"type\": \"contour\"}], \"contourcarpet\": [{\"colorbar\": {\"outlinewidth\": 0, \"ticks\": \"\"}, \"type\": \"contourcarpet\"}], \"heatmap\": [{\"colorbar\": {\"outlinewidth\": 0, \"ticks\": \"\"}, \"colorscale\": [[0.0, \"#0d0887\"], [0.1111111111111111, \"#46039f\"], [0.2222222222222222, \"#7201a8\"], [0.3333333333333333, \"#9c179e\"], [0.4444444444444444, \"#bd3786\"], [0.5555555555555556, \"#d8576b\"], [0.6666666666666666, \"#ed7953\"], [0.7777777777777778, \"#fb9f3a\"], [0.8888888888888888, \"#fdca26\"], [1.0, \"#f0f921\"]], \"type\": \"heatmap\"}], \"heatmapgl\": [{\"colorbar\": {\"outlinewidth\": 0, \"ticks\": \"\"}, \"colorscale\": [[0.0, \"#0d0887\"], [0.1111111111111111, \"#46039f\"], [0.2222222222222222, \"#7201a8\"], [0.3333333333333333, \"#9c179e\"], [0.4444444444444444, \"#bd3786\"], [0.5555555555555556, \"#d8576b\"], [0.6666666666666666, \"#ed7953\"], [0.7777777777777778, \"#fb9f3a\"], [0.8888888888888888, \"#fdca26\"], [1.0, \"#f0f921\"]], \"type\": \"heatmapgl\"}], \"histogram\": [{\"marker\": {\"colorbar\": {\"outlinewidth\": 0, \"ticks\": \"\"}}, \"type\": \"histogram\"}], \"histogram2d\": [{\"colorbar\": {\"outlinewidth\": 0, \"ticks\": \"\"}, \"colorscale\": [[0.0, \"#0d0887\"], [0.1111111111111111, \"#46039f\"], [0.2222222222222222, \"#7201a8\"], [0.3333333333333333, \"#9c179e\"], [0.4444444444444444, \"#bd3786\"], [0.5555555555555556, \"#d8576b\"], [0.6666666666666666, \"#ed7953\"], [0.7777777777777778, \"#fb9f3a\"], [0.8888888888888888, \"#fdca26\"], [1.0, \"#f0f921\"]], \"type\": \"histogram2d\"}], \"histogram2dcontour\": [{\"colorbar\": {\"outlinewidth\": 0, \"ticks\": \"\"}, \"colorscale\": [[0.0, \"#0d0887\"], [0.1111111111111111, \"#46039f\"], [0.2222222222222222, \"#7201a8\"], [0.3333333333333333, \"#9c179e\"], [0.4444444444444444, \"#bd3786\"], [0.5555555555555556, \"#d8576b\"], [0.6666666666666666, \"#ed7953\"], [0.7777777777777778, \"#fb9f3a\"], [0.8888888888888888, \"#fdca26\"], [1.0, \"#f0f921\"]], \"type\": \"histogram2dcontour\"}], \"mesh3d\": [{\"colorbar\": {\"outlinewidth\": 0, \"ticks\": \"\"}, \"type\": \"mesh3d\"}], \"parcoords\": [{\"line\": {\"colorbar\": {\"outlinewidth\": 0, \"ticks\": \"\"}}, \"type\": \"parcoords\"}], \"pie\": [{\"automargin\": true, \"type\": \"pie\"}], \"scatter\": [{\"marker\": {\"colorbar\": {\"outlinewidth\": 0, \"ticks\": \"\"}}, \"type\": \"scatter\"}], \"scatter3d\": [{\"line\": {\"colorbar\": {\"outlinewidth\": 0, \"ticks\": \"\"}}, \"marker\": {\"colorbar\": {\"outlinewidth\": 0, \"ticks\": \"\"}}, \"type\": \"scatter3d\"}], \"scattercarpet\": [{\"marker\": {\"colorbar\": {\"outlinewidth\": 0, \"ticks\": \"\"}}, \"type\": \"scattercarpet\"}], \"scattergeo\": [{\"marker\": {\"colorbar\": {\"outlinewidth\": 0, \"ticks\": \"\"}}, \"type\": \"scattergeo\"}], \"scattergl\": [{\"marker\": {\"colorbar\": {\"outlinewidth\": 0, \"ticks\": \"\"}}, \"type\": \"scattergl\"}], \"scattermapbox\": [{\"marker\": {\"colorbar\": {\"outlinewidth\": 0, \"ticks\": \"\"}}, \"type\": \"scattermapbox\"}], \"scatterpolar\": [{\"marker\": {\"colorbar\": {\"outlinewidth\": 0, \"ticks\": \"\"}}, \"type\": \"scatterpolar\"}], \"scatterpolargl\": [{\"marker\": {\"colorbar\": {\"outlinewidth\": 0, \"ticks\": \"\"}}, \"type\": \"scatterpolargl\"}], \"scatterternary\": [{\"marker\": {\"colorbar\": {\"outlinewidth\": 0, \"ticks\": \"\"}}, \"type\": \"scatterternary\"}], \"surface\": [{\"colorbar\": {\"outlinewidth\": 0, \"ticks\": \"\"}, \"colorscale\": [[0.0, \"#0d0887\"], [0.1111111111111111, \"#46039f\"], [0.2222222222222222, \"#7201a8\"], [0.3333333333333333, \"#9c179e\"], [0.4444444444444444, \"#bd3786\"], [0.5555555555555556, \"#d8576b\"], [0.6666666666666666, \"#ed7953\"], [0.7777777777777778, \"#fb9f3a\"], [0.8888888888888888, \"#fdca26\"], [1.0, \"#f0f921\"]], \"type\": \"surface\"}], \"table\": [{\"cells\": {\"fill\": {\"color\": \"#EBF0F8\"}, \"line\": {\"color\": \"white\"}}, \"header\": {\"fill\": {\"color\": \"#C8D4E3\"}, \"line\": {\"color\": \"white\"}}, \"type\": \"table\"}]}, \"layout\": {\"annotationdefaults\": {\"arrowcolor\": \"#2a3f5f\", \"arrowhead\": 0, \"arrowwidth\": 1}, \"coloraxis\": {\"colorbar\": {\"outlinewidth\": 0, \"ticks\": \"\"}}, \"colorscale\": {\"diverging\": [[0, \"#8e0152\"], [0.1, \"#c51b7d\"], [0.2, \"#de77ae\"], [0.3, \"#f1b6da\"], [0.4, \"#fde0ef\"], [0.5, \"#f7f7f7\"], [0.6, \"#e6f5d0\"], [0.7, \"#b8e186\"], [0.8, \"#7fbc41\"], [0.9, \"#4d9221\"], [1, \"#276419\"]], \"sequential\": [[0.0, \"#0d0887\"], [0.1111111111111111, \"#46039f\"], [0.2222222222222222, \"#7201a8\"], [0.3333333333333333, \"#9c179e\"], [0.4444444444444444, \"#bd3786\"], [0.5555555555555556, \"#d8576b\"], [0.6666666666666666, \"#ed7953\"], [0.7777777777777778, \"#fb9f3a\"], [0.8888888888888888, \"#fdca26\"], [1.0, \"#f0f921\"]], \"sequentialminus\": [[0.0, \"#0d0887\"], [0.1111111111111111, \"#46039f\"], [0.2222222222222222, \"#7201a8\"], [0.3333333333333333, \"#9c179e\"], [0.4444444444444444, \"#bd3786\"], [0.5555555555555556, \"#d8576b\"], [0.6666666666666666, \"#ed7953\"], [0.7777777777777778, \"#fb9f3a\"], [0.8888888888888888, \"#fdca26\"], [1.0, \"#f0f921\"]]}, \"colorway\": [\"#636efa\", \"#EF553B\", \"#00cc96\", \"#ab63fa\", \"#FFA15A\", \"#19d3f3\", \"#FF6692\", \"#B6E880\", \"#FF97FF\", \"#FECB52\"], \"font\": {\"color\": \"#2a3f5f\"}, \"geo\": {\"bgcolor\": \"white\", \"lakecolor\": \"white\", \"landcolor\": \"#E5ECF6\", \"showlakes\": true, \"showland\": true, \"subunitcolor\": \"white\"}, \"hoverlabel\": {\"align\": \"left\"}, \"hovermode\": \"closest\", \"mapbox\": {\"style\": \"light\"}, \"paper_bgcolor\": \"white\", \"plot_bgcolor\": \"#E5ECF6\", \"polar\": {\"angularaxis\": {\"gridcolor\": \"white\", \"linecolor\": \"white\", \"ticks\": \"\"}, \"bgcolor\": \"#E5ECF6\", \"radialaxis\": {\"gridcolor\": \"white\", \"linecolor\": \"white\", \"ticks\": \"\"}}, \"scene\": {\"xaxis\": {\"backgroundcolor\": \"#E5ECF6\", \"gridcolor\": \"white\", \"gridwidth\": 2, \"linecolor\": \"white\", \"showbackground\": true, \"ticks\": \"\", \"zerolinecolor\": \"white\"}, \"yaxis\": {\"backgroundcolor\": \"#E5ECF6\", \"gridcolor\": \"white\", \"gridwidth\": 2, \"linecolor\": \"white\", \"showbackground\": true, \"ticks\": \"\", \"zerolinecolor\": \"white\"}, \"zaxis\": {\"backgroundcolor\": \"#E5ECF6\", \"gridcolor\": \"white\", \"gridwidth\": 2, \"linecolor\": \"white\", \"showbackground\": true, \"ticks\": \"\", \"zerolinecolor\": \"white\"}}, \"shapedefaults\": {\"line\": {\"color\": \"#2a3f5f\"}}, \"ternary\": {\"aaxis\": {\"gridcolor\": \"white\", \"linecolor\": \"white\", \"ticks\": \"\"}, \"baxis\": {\"gridcolor\": \"white\", \"linecolor\": \"white\", \"ticks\": \"\"}, \"bgcolor\": \"#E5ECF6\", \"caxis\": {\"gridcolor\": \"white\", \"linecolor\": \"white\", \"ticks\": \"\"}}, \"title\": {\"x\": 0.05}, \"xaxis\": {\"automargin\": true, \"gridcolor\": \"white\", \"linecolor\": \"white\", \"ticks\": \"\", \"title\": {\"standoff\": 15}, \"zerolinecolor\": \"white\", \"zerolinewidth\": 2}, \"yaxis\": {\"automargin\": true, \"gridcolor\": \"white\", \"linecolor\": \"white\", \"ticks\": \"\", \"title\": {\"standoff\": 15}, \"zerolinecolor\": \"white\", \"zerolinewidth\": 2}}}, \"updatemenus\": [{\"buttons\": [{\"args\": [null, {\"frame\": {\"duration\": 500, \"redraw\": true}, \"fromcurrent\": true, \"mode\": \"immediate\", \"transition\": {\"duration\": 500, \"easing\": \"linear\"}}], \"label\": \"&#9654;\", \"method\": \"animate\"}, {\"args\": [[null], {\"frame\": {\"duration\": 0, \"redraw\": true}, \"fromcurrent\": true, \"mode\": \"immediate\", \"transition\": {\"duration\": 0, \"easing\": \"linear\"}}], \"label\": \"&#9724;\", \"method\": \"animate\"}], \"direction\": \"left\", \"pad\": {\"r\": 10, \"t\": 70}, \"showactive\": false, \"type\": \"buttons\", \"x\": 0.1, \"xanchor\": \"right\", \"y\": 0, \"yanchor\": \"top\"}]},                        {\"responsive\": true}                    ).then(function(){\n",
       "                            Plotly.addFrames('d1a34941-e6ad-4bb6-9b61-37ba0c33b539', [{\"data\": [{\"geo\": \"geo\", \"hovertemplate\": \"<b>%{hovertext}</b><br><br>year=2015<br>Happiness_Score=%{marker.color}<br>Happiness_Rank=%{text}<br>lat=%{lat}<br>lon=%{lon}<extra></extra>\", \"hovertext\": [\"Togo\", \"Burundi\", \"Syria\", \"Benin\", \"Rwanda\", \"Afghanistan\", \"Burkina Faso\", \"Ivory Coast\", \"Guinea\", \"Chad\"], \"lat\": [8.619543, -3.373056, 34.80207499999999, 9.30769, -1.940278, 33.93911, 12.238333, 7.539988999999999, 9.945587, 15.454166], \"legendgroup\": \"\", \"lon\": [0.824782, 29.918886, 38.996815, 2.315834, 29.873888, 67.709953, -1.561593, -5.547079999999999, -9.696645, 18.732207], \"marker\": {\"color\": [2.839, 2.905, 3.006, 3.34, 3.465, 3.575, 3.587, 3.655, 3.656, 3.667], \"coloraxis\": \"coloraxis\", \"size\": [2.839, 2.905, 3.006, 3.34, 3.465, 3.575, 3.587, 3.655, 3.656, 3.667], \"sizemode\": \"area\", \"sizeref\": 0.0092375}, \"name\": \"\", \"showlegend\": false, \"text\": [158.0, 157.0, 156.0, 155.0, 154.0, 153.0, 152.0, 151.0, 150.0, 149.0], \"type\": \"scattergeo\"}], \"name\": \"2015\"}, {\"data\": [{\"geo\": \"geo\", \"hovertemplate\": \"<b>%{hovertext}</b><br><br>year=2016<br>Happiness_Score=%{marker.color}<br>Happiness_Rank=%{text}<br>lat=%{lat}<br>lon=%{lon}<extra></extra>\", \"hovertext\": [\"Burundi\", \"Syria\", \"Togo\", \"Afghanistan\", \"Benin\", \"Rwanda\", \"Guinea\", \"Liberia\", \"Tanzania\", \"Madagascar\"], \"lat\": [-3.373056, 34.80207499999999, 8.619543, 33.93911, 9.30769, -1.940278, 9.945587, 6.428055, -6.369028, -18.766947], \"legendgroup\": \"\", \"lon\": [29.918886, 38.996815, 0.824782, 67.709953, 2.315834, 29.873888, -9.696645, -9.429499000000002, 34.888822, 46.869107], \"marker\": {\"color\": [2.905, 3.069, 3.303, 3.36, 3.484, 3.515, 3.607, 3.622, 3.666, 3.695], \"coloraxis\": \"coloraxis\", \"size\": [2.905, 3.069, 3.303, 3.36, 3.484, 3.515, 3.607, 3.622, 3.666, 3.695], \"sizemode\": \"area\", \"sizeref\": 0.0092375}, \"name\": \"\", \"showlegend\": false, \"text\": [157.0, 156.0, 155.0, 154.0, 153.0, 152.0, 151.0, 150.0, 149.0, 148.0], \"type\": \"scattergeo\"}], \"name\": \"2016\"}, {\"data\": [{\"geo\": \"geo\", \"hovertemplate\": \"<b>%{hovertext}</b><br><br>year=2017<br>Happiness_Score=%{marker.color}<br>Happiness_Rank=%{text}<br>lat=%{lat}<br>lon=%{lon}<extra></extra>\", \"hovertext\": [\"Central African Republic\", \"Burundi\", \"Tanzania\", \"Syria\", \"Rwanda\", \"Togo\", \"Guinea\", \"Liberia\", \"South Sudan\", \"Yemen\", \"Haiti\"], \"lat\": [6.611110999999999, -3.373056, -6.369028, 34.80207499999999, -1.940278, 8.619543, 9.945587, 6.428055, 6.876991899999999, 15.552727, 18.971187], \"legendgroup\": \"\", \"lon\": [20.939444, 29.918886, 34.888822, 38.996815, 29.873888, 0.824782, -9.696645, -9.429499000000002, 31.3069788, 48.516388, -72.285215], \"marker\": {\"color\": [2.69300007820129, 2.90499997138977, 3.34899997711182, 3.46199989318848, 3.47099995613098, 3.4949998855590803, 3.50699996948242, 3.532999992370609, 3.5910000801086404, 3.59299993515015, 3.6029999256134], \"coloraxis\": \"coloraxis\", \"size\": [2.69300007820129, 2.90499997138977, 3.34899997711182, 3.46199989318848, 3.47099995613098, 3.4949998855590803, 3.50699996948242, 3.532999992370609, 3.5910000801086404, 3.59299993515015, 3.6029999256134], \"sizemode\": \"area\", \"sizeref\": 0.0092375}, \"name\": \"\", \"showlegend\": false, \"text\": [155.0, 154.0, 153.0, 152.0, 151.0, 150.0, 149.0, 148.0, 147.0, 146.0, 145.0], \"type\": \"scattergeo\"}], \"name\": \"2017\"}, {\"data\": [{\"geo\": \"geo\", \"hovertemplate\": \"<b>%{hovertext}</b><br><br>year=2018<br>Happiness_Score=%{marker.color}<br>Happiness_Rank=%{text}<br>lat=%{lat}<br>lon=%{lon}<extra></extra>\", \"hovertext\": [\"Burundi\", \"Central African Republic\", \"South Sudan\", \"Tanzania\", \"Yemen\", \"Rwanda\", \"Syria\", \"Liberia\", \"Haiti\", \"Malawi\", \"Botswana\"], \"lat\": [-3.373056, 6.611110999999999, 6.876991899999999, -6.369028, 15.552727, -1.940278, 34.80207499999999, 6.428055, 18.971187, -13.254308, -22.328474], \"legendgroup\": \"\", \"lon\": [29.918886, 20.939444, 31.3069788, 34.888822, 48.516388, 29.873888, 38.996815, -9.429499000000002, -72.285215, 34.301525, 24.684866], \"marker\": {\"color\": [2.905, 3.083, 3.254, 3.303, 3.355, 3.408, 3.462, 3.495, 3.582, 3.587, 3.59], \"coloraxis\": \"coloraxis\", \"size\": [2.905, 3.083, 3.254, 3.303, 3.355, 3.408, 3.462, 3.495, 3.582, 3.587, 3.59], \"sizemode\": \"area\", \"sizeref\": 0.0092375}, \"name\": \"\", \"showlegend\": false, \"text\": [156.0, 155.0, 154.0, 153.0, 152.0, 151.0, 150.0, 149.0, 148.0, 147.0, 146.0], \"type\": \"scattergeo\"}], \"name\": \"2018\"}, {\"data\": [{\"geo\": \"geo\", \"hovertemplate\": \"<b>%{hovertext}</b><br><br>year=2019<br>Happiness_Score=%{marker.color}<br>Happiness_Rank=%{text}<br>lat=%{lat}<br>lon=%{lon}<extra></extra>\", \"hovertext\": [\"South Sudan\", \"Central African Republic\", \"Afghanistan\", \"Tanzania\", \"Rwanda\", \"Yemen\", \"Malawi\", \"Syria\", \"Botswana\", \"Haiti\", \"Zimbabwe\"], \"lat\": [6.876991899999999, 6.611110999999999, 33.93911, -6.369028, -1.940278, 15.552727, -13.254308, 34.80207499999999, -22.328474, 18.971187, -19.015438], \"legendgroup\": \"\", \"lon\": [31.3069788, 20.939444, 67.709953, 34.888822, 29.873888, 48.516388, 34.301525, 38.996815, 24.684866, -72.285215, 29.154857], \"marker\": {\"color\": [2.853, 3.083, 3.2030000000000003, 3.2310000000000003, 3.334, 3.38, 3.41, 3.462, 3.488, 3.597, 3.663], \"coloraxis\": \"coloraxis\", \"size\": [2.853, 3.083, 3.2030000000000003, 3.2310000000000003, 3.334, 3.38, 3.41, 3.462, 3.488, 3.597, 3.663], \"sizemode\": \"area\", \"sizeref\": 0.0092375}, \"name\": \"\", \"showlegend\": false, \"text\": [156.0, 155.0, 154.0, 153.0, 152.0, 151.0, 150.0, 149.0, 148.0, 147.0, 146.0], \"type\": \"scattergeo\"}], \"name\": \"2019\"}]);\n",
       "                        }).then(function(){\n",
       "                            \n",
       "var gd = document.getElementById('d1a34941-e6ad-4bb6-9b61-37ba0c33b539');\n",
       "var x = new MutationObserver(function (mutations, observer) {{\n",
       "        var display = window.getComputedStyle(gd).display;\n",
       "        if (!display || display === 'none') {{\n",
       "            console.log([gd, 'removed!']);\n",
       "            Plotly.purge(gd);\n",
       "            observer.disconnect();\n",
       "        }}\n",
       "}});\n",
       "\n",
       "// Listen for the removal of the full notebook cells\n",
       "var notebookContainer = gd.closest('#notebook-container');\n",
       "if (notebookContainer) {{\n",
       "    x.observe(notebookContainer, {childList: true});\n",
       "}}\n",
       "\n",
       "// Listen for the clearing of the current output cell\n",
       "var outputEl = gd.closest('.output');\n",
       "if (outputEl) {{\n",
       "    x.observe(outputEl, {childList: true});\n",
       "}}\n",
       "\n",
       "                        })                };                });            </script>        </div>"
      ]
     },
     "metadata": {},
     "output_type": "display_data"
    }
   ],
   "source": [
    "#Bottom 10 by Region\n",
    "fig = px.scatter_geo(bottom_10_df, lat=\"lat\",lon=\"lon\", color=\"Happiness_Score\", hover_name=\"Country\",\n",
    "                     text=\"Happiness_Rank\", animation_frame=\"year\",projection=\"natural earth\",size=\"Happiness_Score\")\n",
    "\n",
    "fig.show()"
   ]
  },
  {
   "cell_type": "code",
   "execution_count": 77,
   "metadata": {
    "ExecuteTime": {
     "end_time": "2020-10-24T05:45:55.379031Z",
     "start_time": "2020-10-24T05:45:54.090043Z"
    }
   },
   "outputs": [],
   "source": [
    "pio.write_html(fig, 'bottom10.html')"
   ]
  }
 ],
 "metadata": {
  "hide_input": false,
  "kernelspec": {
   "display_name": "Python 3",
   "language": "python",
   "name": "python3"
  },
  "language_info": {
   "codemirror_mode": {
    "name": "ipython",
    "version": 3
   },
   "file_extension": ".py",
   "mimetype": "text/x-python",
   "name": "python",
   "nbconvert_exporter": "python",
   "pygments_lexer": "ipython3",
   "version": "3.8.3"
  },
  "varInspector": {
   "cols": {
    "lenName": 16,
    "lenType": 16,
    "lenVar": 40
   },
   "kernels_config": {
    "python": {
     "delete_cmd_postfix": "",
     "delete_cmd_prefix": "del ",
     "library": "var_list.py",
     "varRefreshCmd": "print(var_dic_list())"
    },
    "r": {
     "delete_cmd_postfix": ") ",
     "delete_cmd_prefix": "rm(",
     "library": "var_list.r",
     "varRefreshCmd": "cat(var_dic_list()) "
    }
   },
   "types_to_exclude": [
    "module",
    "function",
    "builtin_function_or_method",
    "instance",
    "_Feature"
   ],
   "window_display": false
  }
 },
 "nbformat": 4,
 "nbformat_minor": 4
}
