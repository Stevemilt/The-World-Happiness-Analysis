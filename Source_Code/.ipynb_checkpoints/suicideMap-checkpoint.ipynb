{
 "cells": [
  {
   "cell_type": "code",
   "execution_count": 1,
   "metadata": {
    "ExecuteTime": {
     "end_time": "2020-10-23T17:13:59.168205Z",
     "start_time": "2020-10-23T17:13:57.750714Z"
    }
   },
   "outputs": [],
   "source": [
    "#Dependencies\n",
    "import pandas as pd\n",
    "import gmaps\n",
    "import requests\n",
    "import json\n",
    "import plotly.io as pio\n",
    "# Google developer API key\n",
    "from api_keys import g_key"
   ]
  },
  {
   "cell_type": "code",
   "execution_count": 2,
   "metadata": {
    "ExecuteTime": {
     "end_time": "2020-10-23T17:13:59.198187Z",
     "start_time": "2020-10-23T17:13:59.169205Z"
    }
   },
   "outputs": [
    {
     "data": {
      "text/html": [
       "<div>\n",
       "<style scoped>\n",
       "    .dataframe tbody tr th:only-of-type {\n",
       "        vertical-align: middle;\n",
       "    }\n",
       "\n",
       "    .dataframe tbody tr th {\n",
       "        vertical-align: top;\n",
       "    }\n",
       "\n",
       "    .dataframe thead th {\n",
       "        text-align: right;\n",
       "    }\n",
       "</style>\n",
       "<table border=\"1\" class=\"dataframe\">\n",
       "  <thead>\n",
       "    <tr style=\"text-align: right;\">\n",
       "      <th></th>\n",
       "      <th>Country</th>\n",
       "      <th>Region</th>\n",
       "      <th>Year</th>\n",
       "      <th>Happiness_Score</th>\n",
       "      <th>Suicide_Rate</th>\n",
       "    </tr>\n",
       "  </thead>\n",
       "  <tbody>\n",
       "    <tr>\n",
       "      <th>89</th>\n",
       "      <td>Lesotho</td>\n",
       "      <td>Africa</td>\n",
       "      <td>2015</td>\n",
       "      <td>4.898</td>\n",
       "      <td>37.115149</td>\n",
       "    </tr>\n",
       "    <tr>\n",
       "      <th>52</th>\n",
       "      <td>Lithuania</td>\n",
       "      <td>Europe</td>\n",
       "      <td>2015</td>\n",
       "      <td>5.833</td>\n",
       "      <td>36.980304</td>\n",
       "    </tr>\n",
       "    <tr>\n",
       "      <th>210</th>\n",
       "      <td>Lithuania</td>\n",
       "      <td>Europe</td>\n",
       "      <td>2016</td>\n",
       "      <td>5.813</td>\n",
       "      <td>35.858850</td>\n",
       "    </tr>\n",
       "    <tr>\n",
       "      <th>404</th>\n",
       "      <td>Lesotho</td>\n",
       "      <td>Africa</td>\n",
       "      <td>2017</td>\n",
       "      <td>3.808</td>\n",
       "      <td>35.835752</td>\n",
       "    </tr>\n",
       "    <tr>\n",
       "      <th>560</th>\n",
       "      <td>Lesotho</td>\n",
       "      <td>Africa</td>\n",
       "      <td>2018</td>\n",
       "      <td>3.808</td>\n",
       "      <td>35.521149</td>\n",
       "    </tr>\n",
       "  </tbody>\n",
       "</table>\n",
       "</div>"
      ],
      "text/plain": [
       "       Country  Region  Year  Happiness_Score  Suicide_Rate\n",
       "89     Lesotho  Africa  2015            4.898     37.115149\n",
       "52   Lithuania  Europe  2015            5.833     36.980304\n",
       "210  Lithuania  Europe  2016            5.813     35.858850\n",
       "404    Lesotho  Africa  2017            3.808     35.835752\n",
       "560    Lesotho  Africa  2018            3.808     35.521149"
      ]
     },
     "execution_count": 2,
     "metadata": {},
     "output_type": "execute_result"
    }
   ],
   "source": [
    "data_file_df = pd.read_csv('../Output/suicide_concat.csv')\n",
    "data_file_df = data_file_df.sort_values(by=\"Suicide_Rate\", ascending=False)\n",
    "data_file_df.head()"
   ]
  },
  {
   "cell_type": "code",
   "execution_count": 3,
   "metadata": {
    "ExecuteTime": {
     "end_time": "2020-10-23T17:13:59.352484Z",
     "start_time": "2020-10-23T17:13:59.200186Z"
    }
   },
   "outputs": [
    {
     "name": "stdout",
     "output_type": "stream",
     "text": [
      "         Country  Region  Year  Happiness_Score  Suicide_Rate\n",
      "0        Lesotho  Africa  2015            4.898     37.115149\n",
      "1      Lithuania  Europe  2015            5.833     36.980304\n",
      "2        Ukraine  Europe  2015            4.681     33.829427\n",
      "3         Russia  Europe  2015            5.716     30.574385\n",
      "4    South Korea    Asia  2015            5.984     28.007331\n",
      "..           ...     ...   ...              ...           ...\n",
      "25       Estonia  Europe  2019            5.893     15.855182\n",
      "26       Finland  Europe  2019            7.769     15.777844\n",
      "27      Bulgaria  Europe  2019            5.011     15.671422\n",
      "28       Moldova  Europe  2019            5.529     14.895320\n",
      "29  South Africa  Africa  2019            4.722     14.147434\n",
      "\n",
      "[150 rows x 5 columns]\n"
     ]
    }
   ],
   "source": [
    "years = [2015,2016,2017,2018,2019]\n",
    "df = pd.DataFrame()\n",
    "\n",
    "for year in years:\n",
    "    \n",
    "    temp_df = data_file_df.loc[data_file_df.Year==year].head(30).reset_index(drop=True)\n",
    "    df = pd.concat([df, temp_df])\n",
    "print(df)"
   ]
  },
  {
   "cell_type": "code",
   "execution_count": 4,
   "metadata": {
    "ExecuteTime": {
     "end_time": "2020-10-23T17:14:15.525551Z",
     "start_time": "2020-10-23T17:13:59.354474Z"
    }
   },
   "outputs": [
    {
     "name": "stdout",
     "output_type": "stream",
     "text": [
      "Retrieved coordinates of Lesotho\n",
      "Retrieved coordinates of Lithuania\n",
      "Retrieved coordinates of Ukraine\n",
      "Retrieved coordinates of Russia\n",
      "Retrieved coordinates of South Korea\n",
      "Retrieved coordinates of Kazakhstan\n",
      "Retrieved coordinates of Suriname\n",
      "Retrieved coordinates of Belarus\n",
      "Retrieved coordinates of Latvia\n",
      "Retrieved coordinates of Hungary\n",
      "Retrieved coordinates of Slovenia\n",
      "Retrieved coordinates of Swaziland\n",
      "Retrieved coordinates of Japan\n",
      "Retrieved coordinates of Uruguay\n",
      "Retrieved coordinates of Belgium\n",
      "Retrieved coordinates of Sri Lanka\n",
      "Retrieved coordinates of Mongolia\n",
      "Retrieved coordinates of Montenegro\n",
      "Retrieved coordinates of Serbia\n",
      "Retrieved coordinates of Moldova\n",
      "Retrieved coordinates of Poland\n",
      "Retrieved coordinates of Botswana\n",
      "Retrieved coordinates of Croatia\n",
      "Retrieved coordinates of France\n",
      "Retrieved coordinates of Taiwan\n",
      "Retrieved coordinates of Austria\n",
      "Retrieved coordinates of Estonia\n",
      "Retrieved coordinates of Zimbabwe\n",
      "Retrieved coordinates of Finland\n",
      "Retrieved coordinates of Czech Republic\n",
      "Retrieved coordinates of Bulgaria\n",
      "Retrieved coordinates of United States\n",
      "Retrieved coordinates of South Africa\n"
     ]
    }
   ],
   "source": [
    "lat= []\n",
    "lon =[]\n",
    "country_list=[]\n",
    "\n",
    "countries = df[\"Country\"].unique()\n",
    "\n",
    "# use iterrows to iterate through pandas dataframe\n",
    "for country in countries:\n",
    "\n",
    "    try:\n",
    "        # Target city\n",
    "        target_city = country\n",
    "\n",
    "        # Build the endpoint URL\n",
    "        target_url = ('https://maps.googleapis.com/maps/api/geocode/json?address={0}&key={1}').format(target_city, g_key)\n",
    "\n",
    "        # Run a request to endpoint and convert result to json\n",
    "        geo_data = requests.get(target_url).json()\n",
    "    \n",
    "        # Extract latitude and longitude\n",
    "        lat.append(geo_data[\"results\"][0][\"geometry\"][\"location\"][\"lat\"])\n",
    "        lon.append(geo_data[\"results\"][0][\"geometry\"][\"location\"][\"lng\"])\n",
    "        country_list.append(country)\n",
    "        \n",
    "        print(f\"Retrieved coordinates of {country}\")\n",
    "        \n",
    "    except (KeyError, IndexError):\n",
    "        print(\"Missing field/result... skipping.\")"
   ]
  },
  {
   "cell_type": "code",
   "execution_count": 5,
   "metadata": {
    "ExecuteTime": {
     "end_time": "2020-10-23T17:14:15.557525Z",
     "start_time": "2020-10-23T17:14:15.526539Z"
    }
   },
   "outputs": [
    {
     "data": {
      "text/html": [
       "<div>\n",
       "<style scoped>\n",
       "    .dataframe tbody tr th:only-of-type {\n",
       "        vertical-align: middle;\n",
       "    }\n",
       "\n",
       "    .dataframe tbody tr th {\n",
       "        vertical-align: top;\n",
       "    }\n",
       "\n",
       "    .dataframe thead th {\n",
       "        text-align: right;\n",
       "    }\n",
       "</style>\n",
       "<table border=\"1\" class=\"dataframe\">\n",
       "  <thead>\n",
       "    <tr style=\"text-align: right;\">\n",
       "      <th></th>\n",
       "      <th>Country</th>\n",
       "      <th>Region</th>\n",
       "      <th>Year</th>\n",
       "      <th>Happiness_Score</th>\n",
       "      <th>Suicide_Rate</th>\n",
       "      <th>Latitude</th>\n",
       "      <th>Longitude</th>\n",
       "    </tr>\n",
       "  </thead>\n",
       "  <tbody>\n",
       "    <tr>\n",
       "      <th>0</th>\n",
       "      <td>Lesotho</td>\n",
       "      <td>Africa</td>\n",
       "      <td>2015</td>\n",
       "      <td>4.898</td>\n",
       "      <td>37.115149</td>\n",
       "      <td>-29.609988</td>\n",
       "      <td>28.233608</td>\n",
       "    </tr>\n",
       "    <tr>\n",
       "      <th>1</th>\n",
       "      <td>Lithuania</td>\n",
       "      <td>Europe</td>\n",
       "      <td>2015</td>\n",
       "      <td>5.833</td>\n",
       "      <td>36.980304</td>\n",
       "      <td>55.169438</td>\n",
       "      <td>23.881275</td>\n",
       "    </tr>\n",
       "    <tr>\n",
       "      <th>2</th>\n",
       "      <td>Ukraine</td>\n",
       "      <td>Europe</td>\n",
       "      <td>2015</td>\n",
       "      <td>4.681</td>\n",
       "      <td>33.829427</td>\n",
       "      <td>48.379433</td>\n",
       "      <td>31.165580</td>\n",
       "    </tr>\n",
       "    <tr>\n",
       "      <th>3</th>\n",
       "      <td>Russia</td>\n",
       "      <td>Europe</td>\n",
       "      <td>2015</td>\n",
       "      <td>5.716</td>\n",
       "      <td>30.574385</td>\n",
       "      <td>61.524010</td>\n",
       "      <td>105.318756</td>\n",
       "    </tr>\n",
       "    <tr>\n",
       "      <th>4</th>\n",
       "      <td>South Korea</td>\n",
       "      <td>Asia</td>\n",
       "      <td>2015</td>\n",
       "      <td>5.984</td>\n",
       "      <td>28.007331</td>\n",
       "      <td>35.907757</td>\n",
       "      <td>127.766922</td>\n",
       "    </tr>\n",
       "    <tr>\n",
       "      <th>...</th>\n",
       "      <td>...</td>\n",
       "      <td>...</td>\n",
       "      <td>...</td>\n",
       "      <td>...</td>\n",
       "      <td>...</td>\n",
       "      <td>...</td>\n",
       "      <td>...</td>\n",
       "    </tr>\n",
       "    <tr>\n",
       "      <th>145</th>\n",
       "      <td>Estonia</td>\n",
       "      <td>Europe</td>\n",
       "      <td>2019</td>\n",
       "      <td>5.893</td>\n",
       "      <td>15.855182</td>\n",
       "      <td>58.595272</td>\n",
       "      <td>25.013607</td>\n",
       "    </tr>\n",
       "    <tr>\n",
       "      <th>146</th>\n",
       "      <td>Finland</td>\n",
       "      <td>Europe</td>\n",
       "      <td>2019</td>\n",
       "      <td>7.769</td>\n",
       "      <td>15.777844</td>\n",
       "      <td>61.924110</td>\n",
       "      <td>25.748151</td>\n",
       "    </tr>\n",
       "    <tr>\n",
       "      <th>147</th>\n",
       "      <td>Bulgaria</td>\n",
       "      <td>Europe</td>\n",
       "      <td>2019</td>\n",
       "      <td>5.011</td>\n",
       "      <td>15.671422</td>\n",
       "      <td>42.733883</td>\n",
       "      <td>25.485830</td>\n",
       "    </tr>\n",
       "    <tr>\n",
       "      <th>148</th>\n",
       "      <td>Moldova</td>\n",
       "      <td>Europe</td>\n",
       "      <td>2019</td>\n",
       "      <td>5.529</td>\n",
       "      <td>14.895320</td>\n",
       "      <td>47.411631</td>\n",
       "      <td>28.369885</td>\n",
       "    </tr>\n",
       "    <tr>\n",
       "      <th>149</th>\n",
       "      <td>South Africa</td>\n",
       "      <td>Africa</td>\n",
       "      <td>2019</td>\n",
       "      <td>4.722</td>\n",
       "      <td>14.147434</td>\n",
       "      <td>-30.559482</td>\n",
       "      <td>22.937506</td>\n",
       "    </tr>\n",
       "  </tbody>\n",
       "</table>\n",
       "<p>150 rows × 7 columns</p>\n",
       "</div>"
      ],
      "text/plain": [
       "          Country  Region  Year  Happiness_Score  Suicide_Rate   Latitude  \\\n",
       "0         Lesotho  Africa  2015            4.898     37.115149 -29.609988   \n",
       "1       Lithuania  Europe  2015            5.833     36.980304  55.169438   \n",
       "2         Ukraine  Europe  2015            4.681     33.829427  48.379433   \n",
       "3          Russia  Europe  2015            5.716     30.574385  61.524010   \n",
       "4     South Korea    Asia  2015            5.984     28.007331  35.907757   \n",
       "..            ...     ...   ...              ...           ...        ...   \n",
       "145       Estonia  Europe  2019            5.893     15.855182  58.595272   \n",
       "146       Finland  Europe  2019            7.769     15.777844  61.924110   \n",
       "147      Bulgaria  Europe  2019            5.011     15.671422  42.733883   \n",
       "148       Moldova  Europe  2019            5.529     14.895320  47.411631   \n",
       "149  South Africa  Africa  2019            4.722     14.147434 -30.559482   \n",
       "\n",
       "      Longitude  \n",
       "0     28.233608  \n",
       "1     23.881275  \n",
       "2     31.165580  \n",
       "3    105.318756  \n",
       "4    127.766922  \n",
       "..          ...  \n",
       "145   25.013607  \n",
       "146   25.748151  \n",
       "147   25.485830  \n",
       "148   28.369885  \n",
       "149   22.937506  \n",
       "\n",
       "[150 rows x 7 columns]"
      ]
     },
     "execution_count": 5,
     "metadata": {},
     "output_type": "execute_result"
    }
   ],
   "source": [
    "lat_lng_df = pd.DataFrame({\"Country\": country_list, \"Latitude\": lat, \"Longitude\": lon})\n",
    "df1 = df.merge(lat_lng_df, on=\"Country\", how=\"left\")\n",
    "\n",
    "df1"
   ]
  },
  {
   "cell_type": "code",
   "execution_count": 11,
   "metadata": {
    "ExecuteTime": {
     "end_time": "2020-10-23T17:30:26.713810Z",
     "start_time": "2020-10-23T17:30:26.429985Z"
    }
   },
   "outputs": [
    {
     "data": {
      "application/vnd.plotly.v1+json": {
       "config": {
        "plotlyServerURL": "https://plot.ly"
       },
       "data": [
        {
         "geo": "geo",
         "hovertemplate": "<b>%{hovertext}</b><br><br>Year=2015<br>Suicide_Rate=%{marker.color}<br>Latitude=%{lat}<br>Longitude=%{lon}<extra></extra>",
         "hovertext": [
          "Lesotho",
          "Lithuania",
          "Ukraine",
          "Russia",
          "South Korea",
          "Kazakhstan",
          "Suriname",
          "Belarus",
          "Latvia",
          "Hungary",
          "Slovenia",
          "Swaziland",
          "Japan",
          "Uruguay",
          "Belgium",
          "Sri Lanka",
          "Mongolia",
          "Montenegro",
          "Serbia",
          "Moldova",
          "Poland",
          "Botswana",
          "Croatia",
          "France",
          "Taiwan",
          "Austria",
          "Estonia",
          "Zimbabwe",
          "Finland",
          "Czech Republic"
         ],
         "lat": [
          -29.609988,
          55.169438,
          48.379433,
          61.52401,
          35.907757,
          48.019573,
          3.919305,
          53.709807,
          56.879635,
          47.162494,
          46.151241,
          -26.522503,
          36.204824,
          -32.522779,
          50.503887,
          7.873053999999999,
          46.862496,
          42.708678,
          44.016521,
          47.411631,
          51.919438,
          -22.328474,
          45.1,
          46.227638,
          23.69781,
          47.516231,
          58.595272,
          -19.015438,
          61.92410999999999,
          49.81749199999999
         ],
         "legendgroup": "",
         "lon": [
          28.233608,
          23.881275,
          31.1655799,
          105.318756,
          127.766922,
          66.923684,
          -56.027783,
          27.953389,
          24.603189,
          19.5033041,
          14.995463,
          31.465866,
          138.252924,
          -55.765835,
          4.469936,
          80.77179699999999,
          103.846656,
          19.37439,
          21.005859,
          28.369885,
          19.145136,
          24.684866,
          15.2000001,
          2.213749,
          120.960515,
          14.550072,
          25.0136071,
          29.154857,
          25.7481511,
          15.472962
         ],
         "marker": {
          "color": [
           37.11514896,
           36.98030415,
           33.829427,
           30.57438527,
           28.00733125,
           26.29179815,
           25.28971493,
           24.5156408,
           21.80118937,
           21.61213033,
           20.92866052,
           20.55179935,
           20.45587268,
           20.23957097,
           20.07795223,
           19.47198405,
           19.24879048,
           18.68352781,
           18.32412327,
           18.22486694,
           17.98020925,
           17.72780228,
           17.45179689,
           17.39757241,
           17.35787593,
           16.99403176,
           16.16119604,
           15.87784596,
           14.96188594,
           14.84018526
          ],
          "coloraxis": "coloraxis"
         },
         "name": "",
         "showlegend": false,
         "text": [
          37.11514896,
          36.98030415,
          33.829427,
          30.57438527,
          28.00733125,
          26.29179815,
          25.28971493,
          24.5156408,
          21.80118937,
          21.61213033,
          20.92866052,
          20.55179935,
          20.45587268,
          20.23957097,
          20.07795223,
          19.47198405,
          19.24879048,
          18.68352781,
          18.32412327,
          18.22486694,
          17.98020925,
          17.72780228,
          17.45179689,
          17.39757241,
          17.35787593,
          16.99403176,
          16.16119604,
          15.87784596,
          14.96188594,
          14.84018526
         ],
         "type": "scattergeo"
        }
       ],
       "frames": [
        {
         "data": [
          {
           "geo": "geo",
           "hovertemplate": "<b>%{hovertext}</b><br><br>Year=2015<br>Suicide_Rate=%{marker.color}<br>Latitude=%{lat}<br>Longitude=%{lon}<extra></extra>",
           "hovertext": [
            "Lesotho",
            "Lithuania",
            "Ukraine",
            "Russia",
            "South Korea",
            "Kazakhstan",
            "Suriname",
            "Belarus",
            "Latvia",
            "Hungary",
            "Slovenia",
            "Swaziland",
            "Japan",
            "Uruguay",
            "Belgium",
            "Sri Lanka",
            "Mongolia",
            "Montenegro",
            "Serbia",
            "Moldova",
            "Poland",
            "Botswana",
            "Croatia",
            "France",
            "Taiwan",
            "Austria",
            "Estonia",
            "Zimbabwe",
            "Finland",
            "Czech Republic"
           ],
           "lat": [
            -29.609988,
            55.169438,
            48.379433,
            61.52401,
            35.907757,
            48.019573,
            3.919305,
            53.709807,
            56.879635,
            47.162494,
            46.151241,
            -26.522503,
            36.204824,
            -32.522779,
            50.503887,
            7.873053999999999,
            46.862496,
            42.708678,
            44.016521,
            47.411631,
            51.919438,
            -22.328474,
            45.1,
            46.227638,
            23.69781,
            47.516231,
            58.595272,
            -19.015438,
            61.92410999999999,
            49.81749199999999
           ],
           "legendgroup": "",
           "lon": [
            28.233608,
            23.881275,
            31.1655799,
            105.318756,
            127.766922,
            66.923684,
            -56.027783,
            27.953389,
            24.603189,
            19.5033041,
            14.995463,
            31.465866,
            138.252924,
            -55.765835,
            4.469936,
            80.77179699999999,
            103.846656,
            19.37439,
            21.005859,
            28.369885,
            19.145136,
            24.684866,
            15.2000001,
            2.213749,
            120.960515,
            14.550072,
            25.0136071,
            29.154857,
            25.7481511,
            15.472962
           ],
           "marker": {
            "color": [
             37.11514896,
             36.98030415,
             33.829427,
             30.57438527,
             28.00733125,
             26.29179815,
             25.28971493,
             24.5156408,
             21.80118937,
             21.61213033,
             20.92866052,
             20.55179935,
             20.45587268,
             20.23957097,
             20.07795223,
             19.47198405,
             19.24879048,
             18.68352781,
             18.32412327,
             18.22486694,
             17.98020925,
             17.72780228,
             17.45179689,
             17.39757241,
             17.35787593,
             16.99403176,
             16.16119604,
             15.87784596,
             14.96188594,
             14.84018526
            ],
            "coloraxis": "coloraxis"
           },
           "name": "",
           "showlegend": false,
           "text": [
            37.11514896,
            36.98030415,
            33.829427,
            30.57438527,
            28.00733125,
            26.29179815,
            25.28971493,
            24.5156408,
            21.80118937,
            21.61213033,
            20.92866052,
            20.55179935,
            20.45587268,
            20.23957097,
            20.07795223,
            19.47198405,
            19.24879048,
            18.68352781,
            18.32412327,
            18.22486694,
            17.98020925,
            17.72780228,
            17.45179689,
            17.39757241,
            17.35787593,
            16.99403176,
            16.16119604,
            15.87784596,
            14.96188594,
            14.84018526
           ],
           "type": "scattergeo"
          }
         ],
         "name": "2015"
        },
        {
         "data": [
          {
           "geo": "geo",
           "hovertemplate": "<b>%{hovertext}</b><br><br>Year=2016<br>Suicide_Rate=%{marker.color}<br>Latitude=%{lat}<br>Longitude=%{lon}<extra></extra>",
           "hovertext": [
            "Lithuania",
            "Ukraine",
            "Russia",
            "South Korea",
            "Suriname",
            "Kazakhstan",
            "Belarus",
            "Hungary",
            "Latvia",
            "Uruguay",
            "Slovenia",
            "Sri Lanka",
            "Japan",
            "Belgium",
            "Montenegro",
            "Mongolia",
            "Taiwan",
            "Serbia",
            "Poland",
            "Botswana",
            "Moldova",
            "France",
            "Austria",
            "Croatia",
            "Estonia",
            "Zimbabwe",
            "Bulgaria",
            "Finland",
            "United States",
            "Czech Republic"
           ],
           "lat": [
            55.169438,
            48.379433,
            61.52401,
            35.907757,
            3.919305,
            48.019573,
            53.709807,
            47.162494,
            56.879635,
            -32.522779,
            46.151241,
            7.873053999999999,
            36.204824,
            50.503887,
            42.708678,
            46.862496,
            23.69781,
            44.016521,
            51.919438,
            -22.328474,
            47.411631,
            46.227638,
            47.516231,
            45.1,
            58.595272,
            -19.015438,
            42.733883,
            61.92410999999999,
            37.09024,
            49.81749199999999
           ],
           "legendgroup": "",
           "lon": [
            23.881275,
            31.1655799,
            105.318756,
            127.766922,
            -56.027783,
            66.923684,
            27.953389,
            19.5033041,
            24.603189,
            -55.765835,
            14.995463,
            80.77179699999999,
            138.252924,
            4.469936,
            19.37439,
            103.846656,
            120.960515,
            21.005859,
            19.145136,
            24.684866,
            28.369885,
            2.213749,
            14.550072,
            15.2000001,
            25.0136071,
            29.154857,
            25.48583,
            25.7481511,
            -95.712891,
            15.472962
           ],
           "marker": {
            "color": [
             35.85885031,
             33.20913061,
             29.08007712,
             27.16555736,
             25.80147657,
             24.79865336,
             24.01686709,
             20.43982331,
             20.40513491,
             20.36104723,
             20.29612547,
             19.86683263,
             19.82227198,
             19.80270765,
             19.13631072,
             18.94616385,
             17.78313601,
             17.43055206,
             17.42017082,
             17.39865632,
             17.32880263,
             16.72597577,
             16.66361091,
             16.38499186,
             16.14826542,
             16.05036031,
             15.19915205,
             14.956765,
             14.73647599,
             14.47642248
            ],
            "coloraxis": "coloraxis"
           },
           "name": "",
           "showlegend": false,
           "text": [
            35.85885031,
            33.20913061,
            29.08007712,
            27.16555736,
            25.80147657,
            24.79865336,
            24.01686709,
            20.43982331,
            20.40513491,
            20.36104723,
            20.29612547,
            19.86683263,
            19.82227198,
            19.80270765,
            19.13631072,
            18.94616385,
            17.78313601,
            17.43055206,
            17.42017082,
            17.39865632,
            17.32880263,
            16.72597577,
            16.66361091,
            16.38499186,
            16.14826542,
            16.05036031,
            15.19915205,
            14.956765,
            14.73647599,
            14.47642248
           ],
           "type": "scattergeo"
          }
         ],
         "name": "2016"
        },
        {
         "data": [
          {
           "geo": "geo",
           "hovertemplate": "<b>%{hovertext}</b><br><br>Year=2017<br>Suicide_Rate=%{marker.color}<br>Latitude=%{lat}<br>Longitude=%{lon}<extra></extra>",
           "hovertext": [
            "Lesotho",
            "Ukraine",
            "Lithuania",
            "Russia",
            "South Korea",
            "Belarus",
            "Kazakhstan",
            "Latvia",
            "Slovenia",
            "Uruguay",
            "Hungary",
            "Sri Lanka",
            "Belgium",
            "Japan",
            "Montenegro",
            "Mongolia",
            "Taiwan",
            "Serbia",
            "Botswana",
            "Poland",
            "France",
            "Croatia",
            "Austria",
            "Estonia",
            "Zimbabwe",
            "Moldova",
            "Bulgaria",
            "Finland",
            "United States",
            "Czech Republic"
           ],
           "lat": [
            -29.609988,
            48.379433,
            55.169438,
            61.52401,
            35.907757,
            53.709807,
            48.019573,
            56.879635,
            46.151241,
            -32.522779,
            47.162494,
            7.873053999999999,
            50.503887,
            36.204824,
            42.708678,
            46.862496,
            23.69781,
            44.016521,
            -22.328474,
            51.919438,
            46.227638,
            45.1,
            47.516231,
            58.595272,
            -19.015438,
            47.411631,
            42.733883,
            61.92410999999999,
            37.09024,
            49.81749199999999
           ],
           "legendgroup": "",
           "lon": [
            28.233608,
            31.1655799,
            23.881275,
            105.318756,
            127.766922,
            27.953389,
            66.923684,
            24.603189,
            14.995463,
            -55.765835,
            19.5033041,
            80.77179699999999,
            4.469936,
            138.252924,
            19.37439,
            103.846656,
            120.960515,
            21.005859,
            24.684866,
            19.145136,
            2.213749,
            15.2000001,
            14.550072,
            25.0136071,
            29.154857,
            28.369885,
            25.48583,
            25.7481511,
            -95.712891,
            15.472962
           ],
           "marker": {
            "color": [
             35.83575183,
             32.23923446,
             31.97976983,
             27.17573828,
             27.16062113,
             24.27722853,
             23.84317998,
             20.47148148,
             20.28499745,
             20.11775267,
             20.04784691,
             20.03653087,
             19.79636404,
             19.2308501,
             19.14411017,
             18.79923771,
             17.92907356,
             17.44049399,
             17.43966813,
             17.3445478,
             16.76786513,
             16.37177059,
             16.35738095,
             16.19503221,
             16.08355621,
             15.68243229,
             15.37669295,
             14.96603006,
             14.4014175,
             14.35878763
            ],
            "coloraxis": "coloraxis"
           },
           "name": "",
           "showlegend": false,
           "text": [
            35.83575183,
            32.23923446,
            31.97976983,
            27.17573828,
            27.16062113,
            24.27722853,
            23.84317998,
            20.47148148,
            20.28499745,
            20.11775267,
            20.04784691,
            20.03653087,
            19.79636404,
            19.2308501,
            19.14411017,
            18.79923771,
            17.92907356,
            17.44049399,
            17.43966813,
            17.3445478,
            16.76786513,
            16.37177059,
            16.35738095,
            16.19503221,
            16.08355621,
            15.68243229,
            15.37669295,
            14.96603006,
            14.4014175,
            14.35878763
           ],
           "type": "scattergeo"
          }
         ],
         "name": "2017"
        },
        {
         "data": [
          {
           "geo": "geo",
           "hovertemplate": "<b>%{hovertext}</b><br><br>Year=2018<br>Suicide_Rate=%{marker.color}<br>Latitude=%{lat}<br>Longitude=%{lon}<extra></extra>",
           "hovertext": [
            "Lesotho",
            "Ukraine",
            "Lithuania",
            "South Korea",
            "Russia",
            "Belarus",
            "Kazakhstan",
            "Latvia",
            "Sri Lanka",
            "Hungary",
            "Slovenia",
            "Uruguay",
            "Belgium",
            "Japan",
            "Montenegro",
            "Mongolia",
            "Taiwan",
            "Serbia",
            "Botswana",
            "Poland",
            "France",
            "Croatia",
            "Austria",
            "Estonia",
            "Zimbabwe",
            "Bulgaria",
            "Finland",
            "Moldova",
            "Czech Republic",
            "United States"
           ],
           "lat": [
            -29.609988,
            48.379433,
            55.169438,
            35.907757,
            61.52401,
            53.709807,
            48.019573,
            56.879635,
            7.873053999999999,
            47.162494,
            46.151241,
            -32.522779,
            50.503887,
            36.204824,
            42.708678,
            46.862496,
            23.69781,
            44.016521,
            -22.328474,
            51.919438,
            46.227638,
            45.1,
            47.516231,
            58.595272,
            -19.015438,
            42.733883,
            61.92410999999999,
            47.411631,
            49.81749199999999,
            37.09024
           ],
           "legendgroup": "",
           "lon": [
            28.233608,
            31.1655799,
            23.881275,
            127.766922,
            105.318756,
            27.953389,
            66.923684,
            24.603189,
            80.77179699999999,
            19.5033041,
            14.995463,
            -55.765835,
            4.469936,
            138.252924,
            19.37439,
            103.846656,
            120.960515,
            21.005859,
            24.684866,
            19.145136,
            2.213749,
            15.2000001,
            14.550072,
            25.0136071,
            29.154857,
            25.48583,
            25.7481511,
            28.369885,
            15.472962,
            -95.712891
           ],
           "marker": {
            "color": [
             35.52114891,
             31.44166657,
             31.26381964,
             27.20544536,
             27.11992105,
             24.35672087,
             23.39572083,
             20.44462522,
             20.39885489,
             20.12889926,
             20.10630943,
             19.81930013,
             19.61645033,
             19.35314984,
             19.00122499,
             18.21277979,
             18.13105988,
             17.56210084,
             17.45036435,
             17.27891326,
             16.73343564,
             16.37248602,
             16.11910407,
             16.06217783,
             16.05847018,
             15.59325836,
             15.18475434,
             15.14542409,
             14.22066446,
             14.10008944
            ],
            "coloraxis": "coloraxis"
           },
           "name": "",
           "showlegend": false,
           "text": [
            35.52114891,
            31.44166657,
            31.26381964,
            27.20544536,
            27.11992105,
            24.35672087,
            23.39572083,
            20.44462522,
            20.39885489,
            20.12889926,
            20.10630943,
            19.81930013,
            19.61645033,
            19.35314984,
            19.00122499,
            18.21277979,
            18.13105988,
            17.56210084,
            17.45036435,
            17.27891326,
            16.73343564,
            16.37248602,
            16.11910407,
            16.06217783,
            16.05847018,
            15.59325836,
            15.18475434,
            15.14542409,
            14.22066446,
            14.10008944
           ],
           "type": "scattergeo"
          }
         ],
         "name": "2018"
        },
        {
         "data": [
          {
           "geo": "geo",
           "hovertemplate": "<b>%{hovertext}</b><br><br>Year=2019<br>Suicide_Rate=%{marker.color}<br>Latitude=%{lat}<br>Longitude=%{lon}<extra></extra>",
           "hovertext": [
            "Lesotho",
            "Ukraine",
            "Lithuania",
            "South Korea",
            "Russia",
            "Belarus",
            "Kazakhstan",
            "Latvia",
            "Sri Lanka",
            "Swaziland",
            "Slovenia",
            "Hungary",
            "Japan",
            "Uruguay",
            "Belgium",
            "Montenegro",
            "Taiwan",
            "Serbia",
            "Mongolia",
            "Botswana",
            "Poland",
            "France",
            "Croatia",
            "Zimbabwe",
            "Austria",
            "Estonia",
            "Finland",
            "Bulgaria",
            "Moldova",
            "South Africa"
           ],
           "lat": [
            -29.609988,
            48.379433,
            55.169438,
            35.907757,
            61.52401,
            53.709807,
            48.019573,
            56.879635,
            7.873053999999999,
            -26.522503,
            46.151241,
            47.162494,
            36.204824,
            -32.522779,
            50.503887,
            42.708678,
            23.69781,
            44.016521,
            46.862496,
            -22.328474,
            51.919438,
            46.227638,
            45.1,
            -19.015438,
            47.516231,
            58.595272,
            61.92410999999999,
            42.733883,
            47.411631,
            -30.559482
           ],
           "legendgroup": "",
           "lon": [
            28.233608,
            31.1655799,
            23.881275,
            127.766922,
            105.318756,
            27.953389,
            66.923684,
            24.603189,
            80.77179699999999,
            31.465866,
            14.995463,
            19.5033041,
            138.252924,
            -55.765835,
            4.469936,
            19.37439,
            120.960515,
            21.005859,
            103.846656,
            24.684866,
            19.145136,
            2.213749,
            15.2000001,
            29.154857,
            14.550072,
            25.0136071,
            25.7481511,
            25.48583,
            28.369885,
            22.937506
           ],
           "marker": {
            "color": [
             35.20047696,
             31.08333885,
             30.68074953,
             27.29524664,
             26.60913689,
             23.9181743,
             23.24344525,
             20.44365667,
             20.24741239,
             19.80915862,
             19.76675202,
             19.66086877,
             19.38615437,
             19.37823075,
             19.37026554,
             18.79843787,
             18.19944927,
             17.55133902,
             17.46200745,
             17.24004788,
             17.11497435,
             16.63563435,
             16.34295556,
             16.00573873,
             15.89916725,
             15.85518235,
             15.7778437,
             15.67142247,
             14.89532018,
             14.14743354
            ],
            "coloraxis": "coloraxis"
           },
           "name": "",
           "showlegend": false,
           "text": [
            35.20047696,
            31.08333885,
            30.68074953,
            27.29524664,
            26.60913689,
            23.9181743,
            23.24344525,
            20.44365667,
            20.24741239,
            19.80915862,
            19.76675202,
            19.66086877,
            19.38615437,
            19.37823075,
            19.37026554,
            18.79843787,
            18.19944927,
            17.55133902,
            17.46200745,
            17.24004788,
            17.11497435,
            16.63563435,
            16.34295556,
            16.00573873,
            15.89916725,
            15.85518235,
            15.7778437,
            15.67142247,
            14.89532018,
            14.14743354
           ],
           "type": "scattergeo"
          }
         ],
         "name": "2019"
        }
       ],
       "layout": {
        "coloraxis": {
         "colorbar": {
          "title": {
           "text": "Suicide_Rate"
          }
         },
         "colorscale": [
          [
           0,
           "#0d0887"
          ],
          [
           0.1111111111111111,
           "#46039f"
          ],
          [
           0.2222222222222222,
           "#7201a8"
          ],
          [
           0.3333333333333333,
           "#9c179e"
          ],
          [
           0.4444444444444444,
           "#bd3786"
          ],
          [
           0.5555555555555556,
           "#d8576b"
          ],
          [
           0.6666666666666666,
           "#ed7953"
          ],
          [
           0.7777777777777778,
           "#fb9f3a"
          ],
          [
           0.8888888888888888,
           "#fdca26"
          ],
          [
           1,
           "#f0f921"
          ]
         ]
        },
        "geo": {
         "center": {},
         "domain": {
          "x": [
           0,
           1
          ],
          "y": [
           0,
           1
          ]
         },
         "projection": {
          "type": "natural earth"
         }
        },
        "legend": {
         "tracegroupgap": 0
        },
        "sliders": [
         {
          "active": 0,
          "currentvalue": {
           "prefix": "Year="
          },
          "len": 0.9,
          "pad": {
           "b": 10,
           "t": 60
          },
          "steps": [
           {
            "args": [
             [
              "2015"
             ],
             {
              "frame": {
               "duration": 0,
               "redraw": true
              },
              "fromcurrent": true,
              "mode": "immediate",
              "transition": {
               "duration": 0,
               "easing": "linear"
              }
             }
            ],
            "label": "2015",
            "method": "animate"
           },
           {
            "args": [
             [
              "2016"
             ],
             {
              "frame": {
               "duration": 0,
               "redraw": true
              },
              "fromcurrent": true,
              "mode": "immediate",
              "transition": {
               "duration": 0,
               "easing": "linear"
              }
             }
            ],
            "label": "2016",
            "method": "animate"
           },
           {
            "args": [
             [
              "2017"
             ],
             {
              "frame": {
               "duration": 0,
               "redraw": true
              },
              "fromcurrent": true,
              "mode": "immediate",
              "transition": {
               "duration": 0,
               "easing": "linear"
              }
             }
            ],
            "label": "2017",
            "method": "animate"
           },
           {
            "args": [
             [
              "2018"
             ],
             {
              "frame": {
               "duration": 0,
               "redraw": true
              },
              "fromcurrent": true,
              "mode": "immediate",
              "transition": {
               "duration": 0,
               "easing": "linear"
              }
             }
            ],
            "label": "2018",
            "method": "animate"
           },
           {
            "args": [
             [
              "2019"
             ],
             {
              "frame": {
               "duration": 0,
               "redraw": true
              },
              "fromcurrent": true,
              "mode": "immediate",
              "transition": {
               "duration": 0,
               "easing": "linear"
              }
             }
            ],
            "label": "2019",
            "method": "animate"
           }
          ],
          "x": 0.1,
          "xanchor": "left",
          "y": 0,
          "yanchor": "top"
         }
        ],
        "template": {
         "data": {
          "bar": [
           {
            "error_x": {
             "color": "#2a3f5f"
            },
            "error_y": {
             "color": "#2a3f5f"
            },
            "marker": {
             "line": {
              "color": "#E5ECF6",
              "width": 0.5
             }
            },
            "type": "bar"
           }
          ],
          "barpolar": [
           {
            "marker": {
             "line": {
              "color": "#E5ECF6",
              "width": 0.5
             }
            },
            "type": "barpolar"
           }
          ],
          "carpet": [
           {
            "aaxis": {
             "endlinecolor": "#2a3f5f",
             "gridcolor": "white",
             "linecolor": "white",
             "minorgridcolor": "white",
             "startlinecolor": "#2a3f5f"
            },
            "baxis": {
             "endlinecolor": "#2a3f5f",
             "gridcolor": "white",
             "linecolor": "white",
             "minorgridcolor": "white",
             "startlinecolor": "#2a3f5f"
            },
            "type": "carpet"
           }
          ],
          "choropleth": [
           {
            "colorbar": {
             "outlinewidth": 0,
             "ticks": ""
            },
            "type": "choropleth"
           }
          ],
          "contour": [
           {
            "colorbar": {
             "outlinewidth": 0,
             "ticks": ""
            },
            "colorscale": [
             [
              0,
              "#0d0887"
             ],
             [
              0.1111111111111111,
              "#46039f"
             ],
             [
              0.2222222222222222,
              "#7201a8"
             ],
             [
              0.3333333333333333,
              "#9c179e"
             ],
             [
              0.4444444444444444,
              "#bd3786"
             ],
             [
              0.5555555555555556,
              "#d8576b"
             ],
             [
              0.6666666666666666,
              "#ed7953"
             ],
             [
              0.7777777777777778,
              "#fb9f3a"
             ],
             [
              0.8888888888888888,
              "#fdca26"
             ],
             [
              1,
              "#f0f921"
             ]
            ],
            "type": "contour"
           }
          ],
          "contourcarpet": [
           {
            "colorbar": {
             "outlinewidth": 0,
             "ticks": ""
            },
            "type": "contourcarpet"
           }
          ],
          "heatmap": [
           {
            "colorbar": {
             "outlinewidth": 0,
             "ticks": ""
            },
            "colorscale": [
             [
              0,
              "#0d0887"
             ],
             [
              0.1111111111111111,
              "#46039f"
             ],
             [
              0.2222222222222222,
              "#7201a8"
             ],
             [
              0.3333333333333333,
              "#9c179e"
             ],
             [
              0.4444444444444444,
              "#bd3786"
             ],
             [
              0.5555555555555556,
              "#d8576b"
             ],
             [
              0.6666666666666666,
              "#ed7953"
             ],
             [
              0.7777777777777778,
              "#fb9f3a"
             ],
             [
              0.8888888888888888,
              "#fdca26"
             ],
             [
              1,
              "#f0f921"
             ]
            ],
            "type": "heatmap"
           }
          ],
          "heatmapgl": [
           {
            "colorbar": {
             "outlinewidth": 0,
             "ticks": ""
            },
            "colorscale": [
             [
              0,
              "#0d0887"
             ],
             [
              0.1111111111111111,
              "#46039f"
             ],
             [
              0.2222222222222222,
              "#7201a8"
             ],
             [
              0.3333333333333333,
              "#9c179e"
             ],
             [
              0.4444444444444444,
              "#bd3786"
             ],
             [
              0.5555555555555556,
              "#d8576b"
             ],
             [
              0.6666666666666666,
              "#ed7953"
             ],
             [
              0.7777777777777778,
              "#fb9f3a"
             ],
             [
              0.8888888888888888,
              "#fdca26"
             ],
             [
              1,
              "#f0f921"
             ]
            ],
            "type": "heatmapgl"
           }
          ],
          "histogram": [
           {
            "marker": {
             "colorbar": {
              "outlinewidth": 0,
              "ticks": ""
             }
            },
            "type": "histogram"
           }
          ],
          "histogram2d": [
           {
            "colorbar": {
             "outlinewidth": 0,
             "ticks": ""
            },
            "colorscale": [
             [
              0,
              "#0d0887"
             ],
             [
              0.1111111111111111,
              "#46039f"
             ],
             [
              0.2222222222222222,
              "#7201a8"
             ],
             [
              0.3333333333333333,
              "#9c179e"
             ],
             [
              0.4444444444444444,
              "#bd3786"
             ],
             [
              0.5555555555555556,
              "#d8576b"
             ],
             [
              0.6666666666666666,
              "#ed7953"
             ],
             [
              0.7777777777777778,
              "#fb9f3a"
             ],
             [
              0.8888888888888888,
              "#fdca26"
             ],
             [
              1,
              "#f0f921"
             ]
            ],
            "type": "histogram2d"
           }
          ],
          "histogram2dcontour": [
           {
            "colorbar": {
             "outlinewidth": 0,
             "ticks": ""
            },
            "colorscale": [
             [
              0,
              "#0d0887"
             ],
             [
              0.1111111111111111,
              "#46039f"
             ],
             [
              0.2222222222222222,
              "#7201a8"
             ],
             [
              0.3333333333333333,
              "#9c179e"
             ],
             [
              0.4444444444444444,
              "#bd3786"
             ],
             [
              0.5555555555555556,
              "#d8576b"
             ],
             [
              0.6666666666666666,
              "#ed7953"
             ],
             [
              0.7777777777777778,
              "#fb9f3a"
             ],
             [
              0.8888888888888888,
              "#fdca26"
             ],
             [
              1,
              "#f0f921"
             ]
            ],
            "type": "histogram2dcontour"
           }
          ],
          "mesh3d": [
           {
            "colorbar": {
             "outlinewidth": 0,
             "ticks": ""
            },
            "type": "mesh3d"
           }
          ],
          "parcoords": [
           {
            "line": {
             "colorbar": {
              "outlinewidth": 0,
              "ticks": ""
             }
            },
            "type": "parcoords"
           }
          ],
          "pie": [
           {
            "automargin": true,
            "type": "pie"
           }
          ],
          "scatter": [
           {
            "marker": {
             "colorbar": {
              "outlinewidth": 0,
              "ticks": ""
             }
            },
            "type": "scatter"
           }
          ],
          "scatter3d": [
           {
            "line": {
             "colorbar": {
              "outlinewidth": 0,
              "ticks": ""
             }
            },
            "marker": {
             "colorbar": {
              "outlinewidth": 0,
              "ticks": ""
             }
            },
            "type": "scatter3d"
           }
          ],
          "scattercarpet": [
           {
            "marker": {
             "colorbar": {
              "outlinewidth": 0,
              "ticks": ""
             }
            },
            "type": "scattercarpet"
           }
          ],
          "scattergeo": [
           {
            "marker": {
             "colorbar": {
              "outlinewidth": 0,
              "ticks": ""
             }
            },
            "type": "scattergeo"
           }
          ],
          "scattergl": [
           {
            "marker": {
             "colorbar": {
              "outlinewidth": 0,
              "ticks": ""
             }
            },
            "type": "scattergl"
           }
          ],
          "scattermapbox": [
           {
            "marker": {
             "colorbar": {
              "outlinewidth": 0,
              "ticks": ""
             }
            },
            "type": "scattermapbox"
           }
          ],
          "scatterpolar": [
           {
            "marker": {
             "colorbar": {
              "outlinewidth": 0,
              "ticks": ""
             }
            },
            "type": "scatterpolar"
           }
          ],
          "scatterpolargl": [
           {
            "marker": {
             "colorbar": {
              "outlinewidth": 0,
              "ticks": ""
             }
            },
            "type": "scatterpolargl"
           }
          ],
          "scatterternary": [
           {
            "marker": {
             "colorbar": {
              "outlinewidth": 0,
              "ticks": ""
             }
            },
            "type": "scatterternary"
           }
          ],
          "surface": [
           {
            "colorbar": {
             "outlinewidth": 0,
             "ticks": ""
            },
            "colorscale": [
             [
              0,
              "#0d0887"
             ],
             [
              0.1111111111111111,
              "#46039f"
             ],
             [
              0.2222222222222222,
              "#7201a8"
             ],
             [
              0.3333333333333333,
              "#9c179e"
             ],
             [
              0.4444444444444444,
              "#bd3786"
             ],
             [
              0.5555555555555556,
              "#d8576b"
             ],
             [
              0.6666666666666666,
              "#ed7953"
             ],
             [
              0.7777777777777778,
              "#fb9f3a"
             ],
             [
              0.8888888888888888,
              "#fdca26"
             ],
             [
              1,
              "#f0f921"
             ]
            ],
            "type": "surface"
           }
          ],
          "table": [
           {
            "cells": {
             "fill": {
              "color": "#EBF0F8"
             },
             "line": {
              "color": "white"
             }
            },
            "header": {
             "fill": {
              "color": "#C8D4E3"
             },
             "line": {
              "color": "white"
             }
            },
            "type": "table"
           }
          ]
         },
         "layout": {
          "annotationdefaults": {
           "arrowcolor": "#2a3f5f",
           "arrowhead": 0,
           "arrowwidth": 1
          },
          "coloraxis": {
           "colorbar": {
            "outlinewidth": 0,
            "ticks": ""
           }
          },
          "colorscale": {
           "diverging": [
            [
             0,
             "#8e0152"
            ],
            [
             0.1,
             "#c51b7d"
            ],
            [
             0.2,
             "#de77ae"
            ],
            [
             0.3,
             "#f1b6da"
            ],
            [
             0.4,
             "#fde0ef"
            ],
            [
             0.5,
             "#f7f7f7"
            ],
            [
             0.6,
             "#e6f5d0"
            ],
            [
             0.7,
             "#b8e186"
            ],
            [
             0.8,
             "#7fbc41"
            ],
            [
             0.9,
             "#4d9221"
            ],
            [
             1,
             "#276419"
            ]
           ],
           "sequential": [
            [
             0,
             "#0d0887"
            ],
            [
             0.1111111111111111,
             "#46039f"
            ],
            [
             0.2222222222222222,
             "#7201a8"
            ],
            [
             0.3333333333333333,
             "#9c179e"
            ],
            [
             0.4444444444444444,
             "#bd3786"
            ],
            [
             0.5555555555555556,
             "#d8576b"
            ],
            [
             0.6666666666666666,
             "#ed7953"
            ],
            [
             0.7777777777777778,
             "#fb9f3a"
            ],
            [
             0.8888888888888888,
             "#fdca26"
            ],
            [
             1,
             "#f0f921"
            ]
           ],
           "sequentialminus": [
            [
             0,
             "#0d0887"
            ],
            [
             0.1111111111111111,
             "#46039f"
            ],
            [
             0.2222222222222222,
             "#7201a8"
            ],
            [
             0.3333333333333333,
             "#9c179e"
            ],
            [
             0.4444444444444444,
             "#bd3786"
            ],
            [
             0.5555555555555556,
             "#d8576b"
            ],
            [
             0.6666666666666666,
             "#ed7953"
            ],
            [
             0.7777777777777778,
             "#fb9f3a"
            ],
            [
             0.8888888888888888,
             "#fdca26"
            ],
            [
             1,
             "#f0f921"
            ]
           ]
          },
          "colorway": [
           "#636efa",
           "#EF553B",
           "#00cc96",
           "#ab63fa",
           "#FFA15A",
           "#19d3f3",
           "#FF6692",
           "#B6E880",
           "#FF97FF",
           "#FECB52"
          ],
          "font": {
           "color": "#2a3f5f"
          },
          "geo": {
           "bgcolor": "white",
           "lakecolor": "white",
           "landcolor": "#E5ECF6",
           "showlakes": true,
           "showland": true,
           "subunitcolor": "white"
          },
          "hoverlabel": {
           "align": "left"
          },
          "hovermode": "closest",
          "mapbox": {
           "style": "light"
          },
          "paper_bgcolor": "white",
          "plot_bgcolor": "#E5ECF6",
          "polar": {
           "angularaxis": {
            "gridcolor": "white",
            "linecolor": "white",
            "ticks": ""
           },
           "bgcolor": "#E5ECF6",
           "radialaxis": {
            "gridcolor": "white",
            "linecolor": "white",
            "ticks": ""
           }
          },
          "scene": {
           "xaxis": {
            "backgroundcolor": "#E5ECF6",
            "gridcolor": "white",
            "gridwidth": 2,
            "linecolor": "white",
            "showbackground": true,
            "ticks": "",
            "zerolinecolor": "white"
           },
           "yaxis": {
            "backgroundcolor": "#E5ECF6",
            "gridcolor": "white",
            "gridwidth": 2,
            "linecolor": "white",
            "showbackground": true,
            "ticks": "",
            "zerolinecolor": "white"
           },
           "zaxis": {
            "backgroundcolor": "#E5ECF6",
            "gridcolor": "white",
            "gridwidth": 2,
            "linecolor": "white",
            "showbackground": true,
            "ticks": "",
            "zerolinecolor": "white"
           }
          },
          "shapedefaults": {
           "line": {
            "color": "#2a3f5f"
           }
          },
          "ternary": {
           "aaxis": {
            "gridcolor": "white",
            "linecolor": "white",
            "ticks": ""
           },
           "baxis": {
            "gridcolor": "white",
            "linecolor": "white",
            "ticks": ""
           },
           "bgcolor": "#E5ECF6",
           "caxis": {
            "gridcolor": "white",
            "linecolor": "white",
            "ticks": ""
           }
          },
          "title": {
           "x": 0.05
          },
          "xaxis": {
           "automargin": true,
           "gridcolor": "white",
           "linecolor": "white",
           "ticks": "",
           "title": {
            "standoff": 15
           },
           "zerolinecolor": "white",
           "zerolinewidth": 2
          },
          "yaxis": {
           "automargin": true,
           "gridcolor": "white",
           "linecolor": "white",
           "ticks": "",
           "title": {
            "standoff": 15
           },
           "zerolinecolor": "white",
           "zerolinewidth": 2
          }
         }
        },
        "title": {
         "text": "Top 30 Countries in Suicide Rate"
        },
        "updatemenus": [
         {
          "buttons": [
           {
            "args": [
             null,
             {
              "frame": {
               "duration": 500,
               "redraw": true
              },
              "fromcurrent": true,
              "mode": "immediate",
              "transition": {
               "duration": 500,
               "easing": "linear"
              }
             }
            ],
            "label": "&#9654;",
            "method": "animate"
           },
           {
            "args": [
             [
              null
             ],
             {
              "frame": {
               "duration": 0,
               "redraw": true
              },
              "fromcurrent": true,
              "mode": "immediate",
              "transition": {
               "duration": 0,
               "easing": "linear"
              }
             }
            ],
            "label": "&#9724;",
            "method": "animate"
           }
          ],
          "direction": "left",
          "pad": {
           "r": 10,
           "t": 70
          },
          "showactive": false,
          "type": "buttons",
          "x": 0.1,
          "xanchor": "right",
          "y": 0,
          "yanchor": "top"
         }
        ]
       }
      },
      "text/html": [
       "<div>                            <div id=\"bc4ce5e8-e243-488c-a1ec-10c834e1566f\" class=\"plotly-graph-div\" style=\"height:525px; width:100%;\"></div>            <script type=\"text/javascript\">                require([\"plotly\"], function(Plotly) {                    window.PLOTLYENV=window.PLOTLYENV || {};                                    if (document.getElementById(\"bc4ce5e8-e243-488c-a1ec-10c834e1566f\")) {                    Plotly.newPlot(                        \"bc4ce5e8-e243-488c-a1ec-10c834e1566f\",                        [{\"geo\": \"geo\", \"hovertemplate\": \"<b>%{hovertext}</b><br><br>Year=2015<br>Suicide_Rate=%{marker.color}<br>Latitude=%{lat}<br>Longitude=%{lon}<extra></extra>\", \"hovertext\": [\"Lesotho\", \"Lithuania\", \"Ukraine\", \"Russia\", \"South Korea\", \"Kazakhstan\", \"Suriname\", \"Belarus\", \"Latvia\", \"Hungary\", \"Slovenia\", \"Swaziland\", \"Japan\", \"Uruguay\", \"Belgium\", \"Sri Lanka\", \"Mongolia\", \"Montenegro\", \"Serbia\", \"Moldova\", \"Poland\", \"Botswana\", \"Croatia\", \"France\", \"Taiwan\", \"Austria\", \"Estonia\", \"Zimbabwe\", \"Finland\", \"Czech Republic\"], \"lat\": [-29.609988, 55.169438, 48.379433, 61.52401, 35.907757, 48.019573, 3.919305, 53.709807, 56.879635, 47.162494, 46.151241, -26.522503, 36.204824, -32.522779, 50.503887, 7.873053999999999, 46.862496, 42.708678, 44.016521, 47.411631, 51.919438, -22.328474, 45.1, 46.227638, 23.69781, 47.516231, 58.595272, -19.015438, 61.92410999999999, 49.81749199999999], \"legendgroup\": \"\", \"lon\": [28.233608, 23.881275, 31.1655799, 105.318756, 127.766922, 66.923684, -56.027783, 27.953389, 24.603189, 19.5033041, 14.995463, 31.465866, 138.252924, -55.765835, 4.469936, 80.77179699999999, 103.846656, 19.37439, 21.005859, 28.369885, 19.145136, 24.684866, 15.2000001, 2.213749, 120.960515, 14.550072, 25.0136071, 29.154857, 25.7481511, 15.472962], \"marker\": {\"color\": [37.11514896, 36.98030415, 33.829427, 30.57438527, 28.00733125, 26.29179815, 25.28971493, 24.5156408, 21.80118937, 21.61213033, 20.92866052, 20.55179935, 20.45587268, 20.23957097, 20.07795223, 19.47198405, 19.24879048, 18.68352781, 18.32412327, 18.22486694, 17.98020925, 17.72780228, 17.45179689, 17.39757241, 17.35787593, 16.99403176, 16.16119604, 15.87784596, 14.96188594, 14.84018526], \"coloraxis\": \"coloraxis\"}, \"name\": \"\", \"showlegend\": false, \"text\": [37.11514896, 36.98030415, 33.829427, 30.57438527, 28.00733125, 26.29179815, 25.28971493, 24.5156408, 21.80118937, 21.61213033, 20.92866052, 20.55179935, 20.45587268, 20.23957097, 20.07795223, 19.47198405, 19.24879048, 18.68352781, 18.32412327, 18.22486694, 17.98020925, 17.72780228, 17.45179689, 17.39757241, 17.35787593, 16.99403176, 16.16119604, 15.87784596, 14.96188594, 14.84018526], \"type\": \"scattergeo\"}],                        {\"coloraxis\": {\"colorbar\": {\"title\": {\"text\": \"Suicide_Rate\"}}, \"colorscale\": [[0.0, \"#0d0887\"], [0.1111111111111111, \"#46039f\"], [0.2222222222222222, \"#7201a8\"], [0.3333333333333333, \"#9c179e\"], [0.4444444444444444, \"#bd3786\"], [0.5555555555555556, \"#d8576b\"], [0.6666666666666666, \"#ed7953\"], [0.7777777777777778, \"#fb9f3a\"], [0.8888888888888888, \"#fdca26\"], [1.0, \"#f0f921\"]]}, \"geo\": {\"center\": {}, \"domain\": {\"x\": [0.0, 1.0], \"y\": [0.0, 1.0]}, \"projection\": {\"type\": \"natural earth\"}}, \"legend\": {\"tracegroupgap\": 0}, \"sliders\": [{\"active\": 0, \"currentvalue\": {\"prefix\": \"Year=\"}, \"len\": 0.9, \"pad\": {\"b\": 10, \"t\": 60}, \"steps\": [{\"args\": [[\"2015\"], {\"frame\": {\"duration\": 0, \"redraw\": true}, \"fromcurrent\": true, \"mode\": \"immediate\", \"transition\": {\"duration\": 0, \"easing\": \"linear\"}}], \"label\": \"2015\", \"method\": \"animate\"}, {\"args\": [[\"2016\"], {\"frame\": {\"duration\": 0, \"redraw\": true}, \"fromcurrent\": true, \"mode\": \"immediate\", \"transition\": {\"duration\": 0, \"easing\": \"linear\"}}], \"label\": \"2016\", \"method\": \"animate\"}, {\"args\": [[\"2017\"], {\"frame\": {\"duration\": 0, \"redraw\": true}, \"fromcurrent\": true, \"mode\": \"immediate\", \"transition\": {\"duration\": 0, \"easing\": \"linear\"}}], \"label\": \"2017\", \"method\": \"animate\"}, {\"args\": [[\"2018\"], {\"frame\": {\"duration\": 0, \"redraw\": true}, \"fromcurrent\": true, \"mode\": \"immediate\", \"transition\": {\"duration\": 0, \"easing\": \"linear\"}}], \"label\": \"2018\", \"method\": \"animate\"}, {\"args\": [[\"2019\"], {\"frame\": {\"duration\": 0, \"redraw\": true}, \"fromcurrent\": true, \"mode\": \"immediate\", \"transition\": {\"duration\": 0, \"easing\": \"linear\"}}], \"label\": \"2019\", \"method\": \"animate\"}], \"x\": 0.1, \"xanchor\": \"left\", \"y\": 0, \"yanchor\": \"top\"}], \"template\": {\"data\": {\"bar\": [{\"error_x\": {\"color\": \"#2a3f5f\"}, \"error_y\": {\"color\": \"#2a3f5f\"}, \"marker\": {\"line\": {\"color\": \"#E5ECF6\", \"width\": 0.5}}, \"type\": \"bar\"}], \"barpolar\": [{\"marker\": {\"line\": {\"color\": \"#E5ECF6\", \"width\": 0.5}}, \"type\": \"barpolar\"}], \"carpet\": [{\"aaxis\": {\"endlinecolor\": \"#2a3f5f\", \"gridcolor\": \"white\", \"linecolor\": \"white\", \"minorgridcolor\": \"white\", \"startlinecolor\": \"#2a3f5f\"}, \"baxis\": {\"endlinecolor\": \"#2a3f5f\", \"gridcolor\": \"white\", \"linecolor\": \"white\", \"minorgridcolor\": \"white\", \"startlinecolor\": \"#2a3f5f\"}, \"type\": \"carpet\"}], \"choropleth\": [{\"colorbar\": {\"outlinewidth\": 0, \"ticks\": \"\"}, \"type\": \"choropleth\"}], \"contour\": [{\"colorbar\": {\"outlinewidth\": 0, \"ticks\": \"\"}, \"colorscale\": [[0.0, \"#0d0887\"], [0.1111111111111111, \"#46039f\"], [0.2222222222222222, \"#7201a8\"], [0.3333333333333333, \"#9c179e\"], [0.4444444444444444, \"#bd3786\"], [0.5555555555555556, \"#d8576b\"], [0.6666666666666666, \"#ed7953\"], [0.7777777777777778, \"#fb9f3a\"], [0.8888888888888888, \"#fdca26\"], [1.0, \"#f0f921\"]], \"type\": \"contour\"}], \"contourcarpet\": [{\"colorbar\": {\"outlinewidth\": 0, \"ticks\": \"\"}, \"type\": \"contourcarpet\"}], \"heatmap\": [{\"colorbar\": {\"outlinewidth\": 0, \"ticks\": \"\"}, \"colorscale\": [[0.0, \"#0d0887\"], [0.1111111111111111, \"#46039f\"], [0.2222222222222222, \"#7201a8\"], [0.3333333333333333, \"#9c179e\"], [0.4444444444444444, \"#bd3786\"], [0.5555555555555556, \"#d8576b\"], [0.6666666666666666, \"#ed7953\"], [0.7777777777777778, \"#fb9f3a\"], [0.8888888888888888, \"#fdca26\"], [1.0, \"#f0f921\"]], \"type\": \"heatmap\"}], \"heatmapgl\": [{\"colorbar\": {\"outlinewidth\": 0, \"ticks\": \"\"}, \"colorscale\": [[0.0, \"#0d0887\"], [0.1111111111111111, \"#46039f\"], [0.2222222222222222, \"#7201a8\"], [0.3333333333333333, \"#9c179e\"], [0.4444444444444444, \"#bd3786\"], [0.5555555555555556, \"#d8576b\"], [0.6666666666666666, \"#ed7953\"], [0.7777777777777778, \"#fb9f3a\"], [0.8888888888888888, \"#fdca26\"], [1.0, \"#f0f921\"]], \"type\": \"heatmapgl\"}], \"histogram\": [{\"marker\": {\"colorbar\": {\"outlinewidth\": 0, \"ticks\": \"\"}}, \"type\": \"histogram\"}], \"histogram2d\": [{\"colorbar\": {\"outlinewidth\": 0, \"ticks\": \"\"}, \"colorscale\": [[0.0, \"#0d0887\"], [0.1111111111111111, \"#46039f\"], [0.2222222222222222, \"#7201a8\"], [0.3333333333333333, \"#9c179e\"], [0.4444444444444444, \"#bd3786\"], [0.5555555555555556, \"#d8576b\"], [0.6666666666666666, \"#ed7953\"], [0.7777777777777778, \"#fb9f3a\"], [0.8888888888888888, \"#fdca26\"], [1.0, \"#f0f921\"]], \"type\": \"histogram2d\"}], \"histogram2dcontour\": [{\"colorbar\": {\"outlinewidth\": 0, \"ticks\": \"\"}, \"colorscale\": [[0.0, \"#0d0887\"], [0.1111111111111111, \"#46039f\"], [0.2222222222222222, \"#7201a8\"], [0.3333333333333333, \"#9c179e\"], [0.4444444444444444, \"#bd3786\"], [0.5555555555555556, \"#d8576b\"], [0.6666666666666666, \"#ed7953\"], [0.7777777777777778, \"#fb9f3a\"], [0.8888888888888888, \"#fdca26\"], [1.0, \"#f0f921\"]], \"type\": \"histogram2dcontour\"}], \"mesh3d\": [{\"colorbar\": {\"outlinewidth\": 0, \"ticks\": \"\"}, \"type\": \"mesh3d\"}], \"parcoords\": [{\"line\": {\"colorbar\": {\"outlinewidth\": 0, \"ticks\": \"\"}}, \"type\": \"parcoords\"}], \"pie\": [{\"automargin\": true, \"type\": \"pie\"}], \"scatter\": [{\"marker\": {\"colorbar\": {\"outlinewidth\": 0, \"ticks\": \"\"}}, \"type\": \"scatter\"}], \"scatter3d\": [{\"line\": {\"colorbar\": {\"outlinewidth\": 0, \"ticks\": \"\"}}, \"marker\": {\"colorbar\": {\"outlinewidth\": 0, \"ticks\": \"\"}}, \"type\": \"scatter3d\"}], \"scattercarpet\": [{\"marker\": {\"colorbar\": {\"outlinewidth\": 0, \"ticks\": \"\"}}, \"type\": \"scattercarpet\"}], \"scattergeo\": [{\"marker\": {\"colorbar\": {\"outlinewidth\": 0, \"ticks\": \"\"}}, \"type\": \"scattergeo\"}], \"scattergl\": [{\"marker\": {\"colorbar\": {\"outlinewidth\": 0, \"ticks\": \"\"}}, \"type\": \"scattergl\"}], \"scattermapbox\": [{\"marker\": {\"colorbar\": {\"outlinewidth\": 0, \"ticks\": \"\"}}, \"type\": \"scattermapbox\"}], \"scatterpolar\": [{\"marker\": {\"colorbar\": {\"outlinewidth\": 0, \"ticks\": \"\"}}, \"type\": \"scatterpolar\"}], \"scatterpolargl\": [{\"marker\": {\"colorbar\": {\"outlinewidth\": 0, \"ticks\": \"\"}}, \"type\": \"scatterpolargl\"}], \"scatterternary\": [{\"marker\": {\"colorbar\": {\"outlinewidth\": 0, \"ticks\": \"\"}}, \"type\": \"scatterternary\"}], \"surface\": [{\"colorbar\": {\"outlinewidth\": 0, \"ticks\": \"\"}, \"colorscale\": [[0.0, \"#0d0887\"], [0.1111111111111111, \"#46039f\"], [0.2222222222222222, \"#7201a8\"], [0.3333333333333333, \"#9c179e\"], [0.4444444444444444, \"#bd3786\"], [0.5555555555555556, \"#d8576b\"], [0.6666666666666666, \"#ed7953\"], [0.7777777777777778, \"#fb9f3a\"], [0.8888888888888888, \"#fdca26\"], [1.0, \"#f0f921\"]], \"type\": \"surface\"}], \"table\": [{\"cells\": {\"fill\": {\"color\": \"#EBF0F8\"}, \"line\": {\"color\": \"white\"}}, \"header\": {\"fill\": {\"color\": \"#C8D4E3\"}, \"line\": {\"color\": \"white\"}}, \"type\": \"table\"}]}, \"layout\": {\"annotationdefaults\": {\"arrowcolor\": \"#2a3f5f\", \"arrowhead\": 0, \"arrowwidth\": 1}, \"coloraxis\": {\"colorbar\": {\"outlinewidth\": 0, \"ticks\": \"\"}}, \"colorscale\": {\"diverging\": [[0, \"#8e0152\"], [0.1, \"#c51b7d\"], [0.2, \"#de77ae\"], [0.3, \"#f1b6da\"], [0.4, \"#fde0ef\"], [0.5, \"#f7f7f7\"], [0.6, \"#e6f5d0\"], [0.7, \"#b8e186\"], [0.8, \"#7fbc41\"], [0.9, \"#4d9221\"], [1, \"#276419\"]], \"sequential\": [[0.0, \"#0d0887\"], [0.1111111111111111, \"#46039f\"], [0.2222222222222222, \"#7201a8\"], [0.3333333333333333, \"#9c179e\"], [0.4444444444444444, \"#bd3786\"], [0.5555555555555556, \"#d8576b\"], [0.6666666666666666, \"#ed7953\"], [0.7777777777777778, \"#fb9f3a\"], [0.8888888888888888, \"#fdca26\"], [1.0, \"#f0f921\"]], \"sequentialminus\": [[0.0, \"#0d0887\"], [0.1111111111111111, \"#46039f\"], [0.2222222222222222, \"#7201a8\"], [0.3333333333333333, \"#9c179e\"], [0.4444444444444444, \"#bd3786\"], [0.5555555555555556, \"#d8576b\"], [0.6666666666666666, \"#ed7953\"], [0.7777777777777778, \"#fb9f3a\"], [0.8888888888888888, \"#fdca26\"], [1.0, \"#f0f921\"]]}, \"colorway\": [\"#636efa\", \"#EF553B\", \"#00cc96\", \"#ab63fa\", \"#FFA15A\", \"#19d3f3\", \"#FF6692\", \"#B6E880\", \"#FF97FF\", \"#FECB52\"], \"font\": {\"color\": \"#2a3f5f\"}, \"geo\": {\"bgcolor\": \"white\", \"lakecolor\": \"white\", \"landcolor\": \"#E5ECF6\", \"showlakes\": true, \"showland\": true, \"subunitcolor\": \"white\"}, \"hoverlabel\": {\"align\": \"left\"}, \"hovermode\": \"closest\", \"mapbox\": {\"style\": \"light\"}, \"paper_bgcolor\": \"white\", \"plot_bgcolor\": \"#E5ECF6\", \"polar\": {\"angularaxis\": {\"gridcolor\": \"white\", \"linecolor\": \"white\", \"ticks\": \"\"}, \"bgcolor\": \"#E5ECF6\", \"radialaxis\": {\"gridcolor\": \"white\", \"linecolor\": \"white\", \"ticks\": \"\"}}, \"scene\": {\"xaxis\": {\"backgroundcolor\": \"#E5ECF6\", \"gridcolor\": \"white\", \"gridwidth\": 2, \"linecolor\": \"white\", \"showbackground\": true, \"ticks\": \"\", \"zerolinecolor\": \"white\"}, \"yaxis\": {\"backgroundcolor\": \"#E5ECF6\", \"gridcolor\": \"white\", \"gridwidth\": 2, \"linecolor\": \"white\", \"showbackground\": true, \"ticks\": \"\", \"zerolinecolor\": \"white\"}, \"zaxis\": {\"backgroundcolor\": \"#E5ECF6\", \"gridcolor\": \"white\", \"gridwidth\": 2, \"linecolor\": \"white\", \"showbackground\": true, \"ticks\": \"\", \"zerolinecolor\": \"white\"}}, \"shapedefaults\": {\"line\": {\"color\": \"#2a3f5f\"}}, \"ternary\": {\"aaxis\": {\"gridcolor\": \"white\", \"linecolor\": \"white\", \"ticks\": \"\"}, \"baxis\": {\"gridcolor\": \"white\", \"linecolor\": \"white\", \"ticks\": \"\"}, \"bgcolor\": \"#E5ECF6\", \"caxis\": {\"gridcolor\": \"white\", \"linecolor\": \"white\", \"ticks\": \"\"}}, \"title\": {\"x\": 0.05}, \"xaxis\": {\"automargin\": true, \"gridcolor\": \"white\", \"linecolor\": \"white\", \"ticks\": \"\", \"title\": {\"standoff\": 15}, \"zerolinecolor\": \"white\", \"zerolinewidth\": 2}, \"yaxis\": {\"automargin\": true, \"gridcolor\": \"white\", \"linecolor\": \"white\", \"ticks\": \"\", \"title\": {\"standoff\": 15}, \"zerolinecolor\": \"white\", \"zerolinewidth\": 2}}}, \"title\": {\"text\": \"Top 30 Countries in Suicide Rate\"}, \"updatemenus\": [{\"buttons\": [{\"args\": [null, {\"frame\": {\"duration\": 500, \"redraw\": true}, \"fromcurrent\": true, \"mode\": \"immediate\", \"transition\": {\"duration\": 500, \"easing\": \"linear\"}}], \"label\": \"&#9654;\", \"method\": \"animate\"}, {\"args\": [[null], {\"frame\": {\"duration\": 0, \"redraw\": true}, \"fromcurrent\": true, \"mode\": \"immediate\", \"transition\": {\"duration\": 0, \"easing\": \"linear\"}}], \"label\": \"&#9724;\", \"method\": \"animate\"}], \"direction\": \"left\", \"pad\": {\"r\": 10, \"t\": 70}, \"showactive\": false, \"type\": \"buttons\", \"x\": 0.1, \"xanchor\": \"right\", \"y\": 0, \"yanchor\": \"top\"}]},                        {\"responsive\": true}                    ).then(function(){\n",
       "                            Plotly.addFrames('bc4ce5e8-e243-488c-a1ec-10c834e1566f', [{\"data\": [{\"geo\": \"geo\", \"hovertemplate\": \"<b>%{hovertext}</b><br><br>Year=2015<br>Suicide_Rate=%{marker.color}<br>Latitude=%{lat}<br>Longitude=%{lon}<extra></extra>\", \"hovertext\": [\"Lesotho\", \"Lithuania\", \"Ukraine\", \"Russia\", \"South Korea\", \"Kazakhstan\", \"Suriname\", \"Belarus\", \"Latvia\", \"Hungary\", \"Slovenia\", \"Swaziland\", \"Japan\", \"Uruguay\", \"Belgium\", \"Sri Lanka\", \"Mongolia\", \"Montenegro\", \"Serbia\", \"Moldova\", \"Poland\", \"Botswana\", \"Croatia\", \"France\", \"Taiwan\", \"Austria\", \"Estonia\", \"Zimbabwe\", \"Finland\", \"Czech Republic\"], \"lat\": [-29.609988, 55.169438, 48.379433, 61.52401, 35.907757, 48.019573, 3.919305, 53.709807, 56.879635, 47.162494, 46.151241, -26.522503, 36.204824, -32.522779, 50.503887, 7.873053999999999, 46.862496, 42.708678, 44.016521, 47.411631, 51.919438, -22.328474, 45.1, 46.227638, 23.69781, 47.516231, 58.595272, -19.015438, 61.92410999999999, 49.81749199999999], \"legendgroup\": \"\", \"lon\": [28.233608, 23.881275, 31.1655799, 105.318756, 127.766922, 66.923684, -56.027783, 27.953389, 24.603189, 19.5033041, 14.995463, 31.465866, 138.252924, -55.765835, 4.469936, 80.77179699999999, 103.846656, 19.37439, 21.005859, 28.369885, 19.145136, 24.684866, 15.2000001, 2.213749, 120.960515, 14.550072, 25.0136071, 29.154857, 25.7481511, 15.472962], \"marker\": {\"color\": [37.11514896, 36.98030415, 33.829427, 30.57438527, 28.00733125, 26.29179815, 25.28971493, 24.5156408, 21.80118937, 21.61213033, 20.92866052, 20.55179935, 20.45587268, 20.23957097, 20.07795223, 19.47198405, 19.24879048, 18.68352781, 18.32412327, 18.22486694, 17.98020925, 17.72780228, 17.45179689, 17.39757241, 17.35787593, 16.99403176, 16.16119604, 15.87784596, 14.96188594, 14.84018526], \"coloraxis\": \"coloraxis\"}, \"name\": \"\", \"showlegend\": false, \"text\": [37.11514896, 36.98030415, 33.829427, 30.57438527, 28.00733125, 26.29179815, 25.28971493, 24.5156408, 21.80118937, 21.61213033, 20.92866052, 20.55179935, 20.45587268, 20.23957097, 20.07795223, 19.47198405, 19.24879048, 18.68352781, 18.32412327, 18.22486694, 17.98020925, 17.72780228, 17.45179689, 17.39757241, 17.35787593, 16.99403176, 16.16119604, 15.87784596, 14.96188594, 14.84018526], \"type\": \"scattergeo\"}], \"name\": \"2015\"}, {\"data\": [{\"geo\": \"geo\", \"hovertemplate\": \"<b>%{hovertext}</b><br><br>Year=2016<br>Suicide_Rate=%{marker.color}<br>Latitude=%{lat}<br>Longitude=%{lon}<extra></extra>\", \"hovertext\": [\"Lithuania\", \"Ukraine\", \"Russia\", \"South Korea\", \"Suriname\", \"Kazakhstan\", \"Belarus\", \"Hungary\", \"Latvia\", \"Uruguay\", \"Slovenia\", \"Sri Lanka\", \"Japan\", \"Belgium\", \"Montenegro\", \"Mongolia\", \"Taiwan\", \"Serbia\", \"Poland\", \"Botswana\", \"Moldova\", \"France\", \"Austria\", \"Croatia\", \"Estonia\", \"Zimbabwe\", \"Bulgaria\", \"Finland\", \"United States\", \"Czech Republic\"], \"lat\": [55.169438, 48.379433, 61.52401, 35.907757, 3.919305, 48.019573, 53.709807, 47.162494, 56.879635, -32.522779, 46.151241, 7.873053999999999, 36.204824, 50.503887, 42.708678, 46.862496, 23.69781, 44.016521, 51.919438, -22.328474, 47.411631, 46.227638, 47.516231, 45.1, 58.595272, -19.015438, 42.733883, 61.92410999999999, 37.09024, 49.81749199999999], \"legendgroup\": \"\", \"lon\": [23.881275, 31.1655799, 105.318756, 127.766922, -56.027783, 66.923684, 27.953389, 19.5033041, 24.603189, -55.765835, 14.995463, 80.77179699999999, 138.252924, 4.469936, 19.37439, 103.846656, 120.960515, 21.005859, 19.145136, 24.684866, 28.369885, 2.213749, 14.550072, 15.2000001, 25.0136071, 29.154857, 25.48583, 25.7481511, -95.712891, 15.472962], \"marker\": {\"color\": [35.85885031, 33.20913061, 29.08007712, 27.16555736, 25.80147657, 24.79865336, 24.01686709, 20.43982331, 20.40513491, 20.36104723, 20.29612547, 19.86683263, 19.82227198, 19.80270765, 19.13631072, 18.94616385, 17.78313601, 17.43055206, 17.42017082, 17.39865632, 17.32880263, 16.72597577, 16.66361091, 16.38499186, 16.14826542, 16.05036031, 15.19915205, 14.956765, 14.73647599, 14.47642248], \"coloraxis\": \"coloraxis\"}, \"name\": \"\", \"showlegend\": false, \"text\": [35.85885031, 33.20913061, 29.08007712, 27.16555736, 25.80147657, 24.79865336, 24.01686709, 20.43982331, 20.40513491, 20.36104723, 20.29612547, 19.86683263, 19.82227198, 19.80270765, 19.13631072, 18.94616385, 17.78313601, 17.43055206, 17.42017082, 17.39865632, 17.32880263, 16.72597577, 16.66361091, 16.38499186, 16.14826542, 16.05036031, 15.19915205, 14.956765, 14.73647599, 14.47642248], \"type\": \"scattergeo\"}], \"name\": \"2016\"}, {\"data\": [{\"geo\": \"geo\", \"hovertemplate\": \"<b>%{hovertext}</b><br><br>Year=2017<br>Suicide_Rate=%{marker.color}<br>Latitude=%{lat}<br>Longitude=%{lon}<extra></extra>\", \"hovertext\": [\"Lesotho\", \"Ukraine\", \"Lithuania\", \"Russia\", \"South Korea\", \"Belarus\", \"Kazakhstan\", \"Latvia\", \"Slovenia\", \"Uruguay\", \"Hungary\", \"Sri Lanka\", \"Belgium\", \"Japan\", \"Montenegro\", \"Mongolia\", \"Taiwan\", \"Serbia\", \"Botswana\", \"Poland\", \"France\", \"Croatia\", \"Austria\", \"Estonia\", \"Zimbabwe\", \"Moldova\", \"Bulgaria\", \"Finland\", \"United States\", \"Czech Republic\"], \"lat\": [-29.609988, 48.379433, 55.169438, 61.52401, 35.907757, 53.709807, 48.019573, 56.879635, 46.151241, -32.522779, 47.162494, 7.873053999999999, 50.503887, 36.204824, 42.708678, 46.862496, 23.69781, 44.016521, -22.328474, 51.919438, 46.227638, 45.1, 47.516231, 58.595272, -19.015438, 47.411631, 42.733883, 61.92410999999999, 37.09024, 49.81749199999999], \"legendgroup\": \"\", \"lon\": [28.233608, 31.1655799, 23.881275, 105.318756, 127.766922, 27.953389, 66.923684, 24.603189, 14.995463, -55.765835, 19.5033041, 80.77179699999999, 4.469936, 138.252924, 19.37439, 103.846656, 120.960515, 21.005859, 24.684866, 19.145136, 2.213749, 15.2000001, 14.550072, 25.0136071, 29.154857, 28.369885, 25.48583, 25.7481511, -95.712891, 15.472962], \"marker\": {\"color\": [35.83575183, 32.23923446, 31.97976983, 27.17573828, 27.16062113, 24.27722853, 23.84317998, 20.47148148, 20.28499745, 20.11775267, 20.04784691, 20.03653087, 19.79636404, 19.2308501, 19.14411017, 18.79923771, 17.92907356, 17.44049399, 17.43966813, 17.3445478, 16.76786513, 16.37177059, 16.35738095, 16.19503221, 16.08355621, 15.68243229, 15.37669295, 14.96603006, 14.4014175, 14.35878763], \"coloraxis\": \"coloraxis\"}, \"name\": \"\", \"showlegend\": false, \"text\": [35.83575183, 32.23923446, 31.97976983, 27.17573828, 27.16062113, 24.27722853, 23.84317998, 20.47148148, 20.28499745, 20.11775267, 20.04784691, 20.03653087, 19.79636404, 19.2308501, 19.14411017, 18.79923771, 17.92907356, 17.44049399, 17.43966813, 17.3445478, 16.76786513, 16.37177059, 16.35738095, 16.19503221, 16.08355621, 15.68243229, 15.37669295, 14.96603006, 14.4014175, 14.35878763], \"type\": \"scattergeo\"}], \"name\": \"2017\"}, {\"data\": [{\"geo\": \"geo\", \"hovertemplate\": \"<b>%{hovertext}</b><br><br>Year=2018<br>Suicide_Rate=%{marker.color}<br>Latitude=%{lat}<br>Longitude=%{lon}<extra></extra>\", \"hovertext\": [\"Lesotho\", \"Ukraine\", \"Lithuania\", \"South Korea\", \"Russia\", \"Belarus\", \"Kazakhstan\", \"Latvia\", \"Sri Lanka\", \"Hungary\", \"Slovenia\", \"Uruguay\", \"Belgium\", \"Japan\", \"Montenegro\", \"Mongolia\", \"Taiwan\", \"Serbia\", \"Botswana\", \"Poland\", \"France\", \"Croatia\", \"Austria\", \"Estonia\", \"Zimbabwe\", \"Bulgaria\", \"Finland\", \"Moldova\", \"Czech Republic\", \"United States\"], \"lat\": [-29.609988, 48.379433, 55.169438, 35.907757, 61.52401, 53.709807, 48.019573, 56.879635, 7.873053999999999, 47.162494, 46.151241, -32.522779, 50.503887, 36.204824, 42.708678, 46.862496, 23.69781, 44.016521, -22.328474, 51.919438, 46.227638, 45.1, 47.516231, 58.595272, -19.015438, 42.733883, 61.92410999999999, 47.411631, 49.81749199999999, 37.09024], \"legendgroup\": \"\", \"lon\": [28.233608, 31.1655799, 23.881275, 127.766922, 105.318756, 27.953389, 66.923684, 24.603189, 80.77179699999999, 19.5033041, 14.995463, -55.765835, 4.469936, 138.252924, 19.37439, 103.846656, 120.960515, 21.005859, 24.684866, 19.145136, 2.213749, 15.2000001, 14.550072, 25.0136071, 29.154857, 25.48583, 25.7481511, 28.369885, 15.472962, -95.712891], \"marker\": {\"color\": [35.52114891, 31.44166657, 31.26381964, 27.20544536, 27.11992105, 24.35672087, 23.39572083, 20.44462522, 20.39885489, 20.12889926, 20.10630943, 19.81930013, 19.61645033, 19.35314984, 19.00122499, 18.21277979, 18.13105988, 17.56210084, 17.45036435, 17.27891326, 16.73343564, 16.37248602, 16.11910407, 16.06217783, 16.05847018, 15.59325836, 15.18475434, 15.14542409, 14.22066446, 14.10008944], \"coloraxis\": \"coloraxis\"}, \"name\": \"\", \"showlegend\": false, \"text\": [35.52114891, 31.44166657, 31.26381964, 27.20544536, 27.11992105, 24.35672087, 23.39572083, 20.44462522, 20.39885489, 20.12889926, 20.10630943, 19.81930013, 19.61645033, 19.35314984, 19.00122499, 18.21277979, 18.13105988, 17.56210084, 17.45036435, 17.27891326, 16.73343564, 16.37248602, 16.11910407, 16.06217783, 16.05847018, 15.59325836, 15.18475434, 15.14542409, 14.22066446, 14.10008944], \"type\": \"scattergeo\"}], \"name\": \"2018\"}, {\"data\": [{\"geo\": \"geo\", \"hovertemplate\": \"<b>%{hovertext}</b><br><br>Year=2019<br>Suicide_Rate=%{marker.color}<br>Latitude=%{lat}<br>Longitude=%{lon}<extra></extra>\", \"hovertext\": [\"Lesotho\", \"Ukraine\", \"Lithuania\", \"South Korea\", \"Russia\", \"Belarus\", \"Kazakhstan\", \"Latvia\", \"Sri Lanka\", \"Swaziland\", \"Slovenia\", \"Hungary\", \"Japan\", \"Uruguay\", \"Belgium\", \"Montenegro\", \"Taiwan\", \"Serbia\", \"Mongolia\", \"Botswana\", \"Poland\", \"France\", \"Croatia\", \"Zimbabwe\", \"Austria\", \"Estonia\", \"Finland\", \"Bulgaria\", \"Moldova\", \"South Africa\"], \"lat\": [-29.609988, 48.379433, 55.169438, 35.907757, 61.52401, 53.709807, 48.019573, 56.879635, 7.873053999999999, -26.522503, 46.151241, 47.162494, 36.204824, -32.522779, 50.503887, 42.708678, 23.69781, 44.016521, 46.862496, -22.328474, 51.919438, 46.227638, 45.1, -19.015438, 47.516231, 58.595272, 61.92410999999999, 42.733883, 47.411631, -30.559482], \"legendgroup\": \"\", \"lon\": [28.233608, 31.1655799, 23.881275, 127.766922, 105.318756, 27.953389, 66.923684, 24.603189, 80.77179699999999, 31.465866, 14.995463, 19.5033041, 138.252924, -55.765835, 4.469936, 19.37439, 120.960515, 21.005859, 103.846656, 24.684866, 19.145136, 2.213749, 15.2000001, 29.154857, 14.550072, 25.0136071, 25.7481511, 25.48583, 28.369885, 22.937506], \"marker\": {\"color\": [35.20047696, 31.08333885, 30.68074953, 27.29524664, 26.60913689, 23.9181743, 23.24344525, 20.44365667, 20.24741239, 19.80915862, 19.76675202, 19.66086877, 19.38615437, 19.37823075, 19.37026554, 18.79843787, 18.19944927, 17.55133902, 17.46200745, 17.24004788, 17.11497435, 16.63563435, 16.34295556, 16.00573873, 15.89916725, 15.85518235, 15.7778437, 15.67142247, 14.89532018, 14.14743354], \"coloraxis\": \"coloraxis\"}, \"name\": \"\", \"showlegend\": false, \"text\": [35.20047696, 31.08333885, 30.68074953, 27.29524664, 26.60913689, 23.9181743, 23.24344525, 20.44365667, 20.24741239, 19.80915862, 19.76675202, 19.66086877, 19.38615437, 19.37823075, 19.37026554, 18.79843787, 18.19944927, 17.55133902, 17.46200745, 17.24004788, 17.11497435, 16.63563435, 16.34295556, 16.00573873, 15.89916725, 15.85518235, 15.7778437, 15.67142247, 14.89532018, 14.14743354], \"type\": \"scattergeo\"}], \"name\": \"2019\"}]);\n",
       "                        }).then(function(){\n",
       "                            \n",
       "var gd = document.getElementById('bc4ce5e8-e243-488c-a1ec-10c834e1566f');\n",
       "var x = new MutationObserver(function (mutations, observer) {{\n",
       "        var display = window.getComputedStyle(gd).display;\n",
       "        if (!display || display === 'none') {{\n",
       "            console.log([gd, 'removed!']);\n",
       "            Plotly.purge(gd);\n",
       "            observer.disconnect();\n",
       "        }}\n",
       "}});\n",
       "\n",
       "// Listen for the removal of the full notebook cells\n",
       "var notebookContainer = gd.closest('#notebook-container');\n",
       "if (notebookContainer) {{\n",
       "    x.observe(notebookContainer, {childList: true});\n",
       "}}\n",
       "\n",
       "// Listen for the clearing of the current output cell\n",
       "var outputEl = gd.closest('.output');\n",
       "if (outputEl) {{\n",
       "    x.observe(outputEl, {childList: true});\n",
       "}}\n",
       "\n",
       "                        })                };                });            </script>        </div>"
      ]
     },
     "metadata": {},
     "output_type": "display_data"
    }
   ],
   "source": [
    "import plotly.express as px\n",
    "fig = px.scatter_geo(df1, lat=\"Latitude\", lon=\"Longitude\",\n",
    "                     color=\"Suicide_Rate\", hover_name=\"Country\",\n",
    "                     title=\"Top 30 Countries in Suicide Rate\",\n",
    "                     text=\"Suicide_Rate\", animation_frame=\"Year\",\n",
    "                     projection=\"natural earth\")\n",
    "\n",
    "pio.write_html(fig, '../Images/Happiness_Suicide/suicidetop30.html')\n",
    "fig.show()"
   ]
  },
  {
   "cell_type": "code",
   "execution_count": null,
   "metadata": {},
   "outputs": [],
   "source": []
  }
 ],
 "metadata": {
  "hide_input": false,
  "kernelspec": {
   "display_name": "Python 3",
   "language": "python",
   "name": "python3"
  },
  "language_info": {
   "codemirror_mode": {
    "name": "ipython",
    "version": 3
   },
   "file_extension": ".py",
   "mimetype": "text/x-python",
   "name": "python",
   "nbconvert_exporter": "python",
   "pygments_lexer": "ipython3",
   "version": "3.7.9"
  },
  "varInspector": {
   "cols": {
    "lenName": 16,
    "lenType": 16,
    "lenVar": 40
   },
   "kernels_config": {
    "python": {
     "delete_cmd_postfix": "",
     "delete_cmd_prefix": "del ",
     "library": "var_list.py",
     "varRefreshCmd": "print(var_dic_list())"
    },
    "r": {
     "delete_cmd_postfix": ") ",
     "delete_cmd_prefix": "rm(",
     "library": "var_list.r",
     "varRefreshCmd": "cat(var_dic_list()) "
    }
   },
   "types_to_exclude": [
    "module",
    "function",
    "builtin_function_or_method",
    "instance",
    "_Feature"
   ],
   "window_display": false
  }
 },
 "nbformat": 4,
 "nbformat_minor": 4
}
