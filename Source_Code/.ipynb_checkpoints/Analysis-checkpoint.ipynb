{
 "cells": [
  {
   "cell_type": "markdown",
   "metadata": {},
   "source": [
    "### Region - Average  Happiness Score"
   ]
  },
  {
   "cell_type": "code",
   "execution_count": 1,
   "metadata": {
    "ExecuteTime": {
     "end_time": "2020-10-25T01:43:49.249424Z",
     "start_time": "2020-10-25T01:43:46.100623Z"
    }
   },
   "outputs": [
    {
     "ename": "ModuleNotFoundError",
     "evalue": "No module named 'api_keys'",
     "output_type": "error",
     "traceback": [
      "\u001b[1;31m---------------------------------------------------------------------------\u001b[0m",
      "\u001b[1;31mModuleNotFoundError\u001b[0m                       Traceback (most recent call last)",
      "\u001b[1;32m<ipython-input-1-2be3471f8d46>\u001b[0m in \u001b[0;36m<module>\u001b[1;34m\u001b[0m\n\u001b[0;32m      7\u001b[0m \u001b[1;32mimport\u001b[0m \u001b[0mjson\u001b[0m\u001b[1;33m\u001b[0m\u001b[1;33m\u001b[0m\u001b[0m\n\u001b[0;32m      8\u001b[0m \u001b[1;31m# Google developer API key\u001b[0m\u001b[1;33m\u001b[0m\u001b[1;33m\u001b[0m\u001b[1;33m\u001b[0m\u001b[0m\n\u001b[1;32m----> 9\u001b[1;33m \u001b[1;32mfrom\u001b[0m \u001b[0mapi_keys\u001b[0m \u001b[1;32mimport\u001b[0m \u001b[0mg_key\u001b[0m\u001b[1;33m\u001b[0m\u001b[1;33m\u001b[0m\u001b[0m\n\u001b[0m\u001b[0;32m     10\u001b[0m \u001b[1;33m\u001b[0m\u001b[0m\n\u001b[0;32m     11\u001b[0m \u001b[1;31m# Reading concatenated csv data into dataframes\u001b[0m\u001b[1;33m\u001b[0m\u001b[1;33m\u001b[0m\u001b[1;33m\u001b[0m\u001b[0m\n",
      "\u001b[1;31mModuleNotFoundError\u001b[0m: No module named 'api_keys'"
     ]
    }
   ],
   "source": [
    "import pandas as pd\n",
    "import numpy as np\n",
    "import plotly.express as px\n",
    "import plotly.io as pio\n",
    "import gmaps\n",
    "import requests\n",
    "import json\n",
    "import os\n",
    "# Google developer API key\n",
    "# from api_keys import g_key\n",
    "g_key = os.get.environ(\"GOOGLE_AP\")\n",
    "# Reading concatenated csv data into dataframes \n",
    "df = pd.read_csv(\"../Output/suicide_concat.csv\")\n",
    "df.head()"
   ]
  },
  {
   "cell_type": "code",
   "execution_count": null,
   "metadata": {
    "ExecuteTime": {
     "end_time": "2020-10-25T01:43:49.256423Z",
     "start_time": "2020-10-25T01:43:46.112Z"
    }
   },
   "outputs": [],
   "source": [
    "# Grouping based on Year and Region \n",
    "df_region = pd.DataFrame(df.groupby([\"Year\", \"Region\"])[\"Happiness_Score\"].mean())\n",
    "df_region = df_region.reset_index() \n",
    "df_region"
   ]
  },
  {
   "cell_type": "code",
   "execution_count": null,
   "metadata": {
    "ExecuteTime": {
     "end_time": "2020-10-25T01:43:49.259423Z",
     "start_time": "2020-10-25T01:43:46.127Z"
    }
   },
   "outputs": [],
   "source": [
    "# Ploting Avg Happiness score of each Region\n",
    "fig = px.bar(df_region, x=\"Year\", color=\"Region\",\n",
    "             y='Happiness_Score',\n",
    "             title=\"Average Happiness Score of each Region\",\n",
    "             barmode='group',\n",
    "             color_discrete_sequence=px.colors.qualitative.Antique,\n",
    "             height=400\n",
    "            )\n",
    "fig.update_yaxes(tick0=3, dtick=1)\n",
    "# fig.update_yaxes(tickvals=[3, 4, 5, 6, 7], tick0=3, dtick=1)\n",
    "fig.show()"
   ]
  },
  {
   "cell_type": "markdown",
   "metadata": {},
   "source": [
    "### Happiness vs Suicide Rate of Top 30 Happy Countries form 2015 to 2019"
   ]
  },
  {
   "cell_type": "code",
   "execution_count": null,
   "metadata": {
    "ExecuteTime": {
     "end_time": "2020-10-25T01:43:49.262424Z",
     "start_time": "2020-10-25T01:43:46.147Z"
    }
   },
   "outputs": [],
   "source": [
    "# Making a copy of the concatenated dataframe read from csv\n",
    "df_suicide = df.copy()\n",
    "\n",
    "# Creating a list of countries to compare\n",
    "cmp_country = ['Finland', 'Australia']\n",
    "# Initializing a dataframe for countries to compare\n",
    "aus_fin_df = pd.DataFrame()\n",
    "\n",
    "\n",
    "# Initializing a list for dataframes\n",
    "df2={}\n",
    "\n",
    "# Creating a list of years\n",
    "years = [2015,2016,2017,2018,2019]\n",
    "\n",
    "# Looping through each year in the list\n",
    "for year in years:\n",
    "    \n",
    "    # Separating the data of each year into separate data frame\n",
    "    df2['year'] = df_suicide.loc[df_suicide.Year==year].reset_index(drop=True)\n",
    "    # Sorting based on happiness score\n",
    "    df2['year'] = df2['year'].sort_values(by=\"Happiness_Score\", ascending=False)\n",
    "\n",
    "    \n",
    "    # Collecting data of countries in the countries list to compare\n",
    "    temp_df = df2['year'].loc[(df2['year']['Country'].isin(cmp_country))]\n",
    "    # Concatenating each year's data\n",
    "    aus_fin_df = pd.concat([aus_fin_df, temp_df])\n",
    "    \n",
    "    # Taking only the Top 30 rows in each year's dataframe\n",
    "    df2['year'] = df2['year'].head(30)\n",
    "\n",
    "    \n",
    "    # Melting the dataframe to make a new column 'Factor' \n",
    "    # Melting keeping Country, Region and Year same and Creating Factor column, and corresponding Happiness_and_Suicide_rate\n",
    "    df2['year'] = pd.melt(df2['year'], id_vars=['Country','Region','Year'],var_name='Factor',\n",
    "             value_name='Happiness_and_Suicide_rate', col_level=None)\n",
    "    \n",
    "    # Plotting Happiness Score vs Suicide Rate  \n",
    "    fig = px.bar(df2['year'], x=\"Country\", color=\"Factor\",\n",
    "                 y='Happiness_and_Suicide_rate',\n",
    "                 title=f\"Happiness score vs Suicide Rate of Top 30 Happy Countries {year}\",\n",
    "                 barmode='group',\n",
    "                 color_discrete_sequence=px.colors.qualitative.Antique,\n",
    "                 height=600\n",
    "                )\n",
    "    fig.update_yaxes(tick0=3, dtick=1)\n",
    "    \n",
    "    # Saving the image files\n",
    "    pio.write_image(fig, f\"../Images/Happiness_Suicide/happiness_suicide_{year}.png\")\n",
    "    fig.show()"
   ]
  },
  {
   "cell_type": "code",
   "execution_count": null,
   "metadata": {
    "ExecuteTime": {
     "end_time": "2020-10-25T01:43:49.266424Z",
     "start_time": "2020-10-25T01:43:46.160Z"
    }
   },
   "outputs": [],
   "source": [
    "# Comparing Australia vs Rank 1, Finland \n",
    "\n",
    "# Plotting Suicide rate of in the countries in the cmp_country list\n",
    "fig = px.line(aus_fin_df, x=\"Year\",\n",
    "                          y=\"Suicide_Rate\",\n",
    "                          color='Country',\n",
    "                          title=\"Suicide Rate of Australia vs Happiness Rank 1, Finland\",\n",
    "                          color_discrete_sequence=px.colors.qualitative.Antique)\n",
    "fig.update_xaxes(nticks=5)\n",
    "\n",
    "# Saving the image file\n",
    "# pio.write_image(fig, '../Images/Happiness_Suicide/Aus_vs_Fin_Suicide.png')\n",
    "fig.show()"
   ]
  },
  {
   "cell_type": "code",
   "execution_count": null,
   "metadata": {
    "ExecuteTime": {
     "end_time": "2020-10-25T01:43:49.268425Z",
     "start_time": "2020-10-25T01:43:46.169Z"
    }
   },
   "outputs": [],
   "source": [
    "# Making a copy of the concatenated dataframe read from csv\n",
    "data_file_df = df.copy()\n",
    "# Sorting the dataframe based on Suicide Rate\n",
    "data_file_df = data_file_df.sort_values(by=\"Suicide_Rate\", ascending=False)\n",
    "data_file_df.head()"
   ]
  },
  {
   "cell_type": "code",
   "execution_count": null,
   "metadata": {
    "ExecuteTime": {
     "end_time": "2020-10-25T01:43:49.272426Z",
     "start_time": "2020-10-25T01:43:46.175Z"
    }
   },
   "outputs": [],
   "source": [
    "# Creating a list of years to extract each years top 30 in suicide rate\n",
    "years = [2015,2016,2017,2018,2019]\n",
    "\n",
    "# Initializing a dataframe\n",
    "data_df = pd.DataFrame()\n",
    "\n",
    "# Looping through eacg year\n",
    "for year in years:\n",
    "    # Collecting only top 30 rows of each year\n",
    "    temp_df = data_file_df.loc[data_file_df.Year==year].head(30).reset_index(drop=True)\n",
    "    # Concatenating it to one dataframe\n",
    "    data_df = pd.concat([data_df, temp_df])\n",
    "    \n",
    "data_df.head()"
   ]
  },
  {
   "cell_type": "code",
   "execution_count": null,
   "metadata": {
    "ExecuteTime": {
     "end_time": "2020-10-25T01:43:49.276429Z",
     "start_time": "2020-10-25T01:43:46.183Z"
    }
   },
   "outputs": [],
   "source": [
    "# Creating empty lists for results to append\n",
    "lat= []\n",
    "lon =[]\n",
    "country_list=[]\n",
    "\n",
    "countries = data_df[\"Country\"].unique()\n",
    "\n",
    "# use iterrows to iterate through pandas dataframe\n",
    "for country in countries:\n",
    "\n",
    "    try:\n",
    "        # Target city\n",
    "        target_city = country\n",
    "\n",
    "        # Build the endpoint URL\n",
    "        target_url = ('https://maps.googleapis.com/maps/api/geocode/json?address={0}&key={1}').format(target_city, g_key)\n",
    "\n",
    "        # Run a request to endpoint and convert result to json\n",
    "        geo_data = requests.get(target_url).json()\n",
    "    \n",
    "        # Extract latitude and longitude\n",
    "        lat.append(geo_data[\"results\"][0][\"geometry\"][\"location\"][\"lat\"])\n",
    "        lon.append(geo_data[\"results\"][0][\"geometry\"][\"location\"][\"lng\"])\n",
    "        country_list.append(country)\n",
    "        \n",
    "        print(f\"Retrieved coordinates of {country}\")\n",
    "        \n",
    "    except (KeyError, IndexError):\n",
    "        print(\"Missing field/result... skipping.\")"
   ]
  },
  {
   "cell_type": "code",
   "execution_count": null,
   "metadata": {
    "ExecuteTime": {
     "end_time": "2020-10-25T01:43:49.280430Z",
     "start_time": "2020-10-25T01:43:46.191Z"
    }
   },
   "outputs": [],
   "source": [
    "# Creating a dataframe with the latitude and Longitude values of Countries\n",
    "lat_lng_df = pd.DataFrame({\"Country\": country_list, \"Latitude\": lat, \"Longitude\": lon})\n",
    "# Merging it with the data_df dataframe\n",
    "data_df = data_df.merge(lat_lng_df, on=\"Country\", how=\"left\")\n",
    "data_df.head()"
   ]
  },
  {
   "cell_type": "code",
   "execution_count": null,
   "metadata": {
    "ExecuteTime": {
     "end_time": "2020-10-25T01:43:49.284432Z",
     "start_time": "2020-10-25T01:43:46.197Z"
    }
   },
   "outputs": [],
   "source": [
    "import plotly.express as px\n",
    "fig = px.scatter_geo(data_df, lat=\"Latitude\", lon=\"Longitude\",\n",
    "                     color=\"Suicide_Rate\", hover_name=\"Country\",\n",
    "                     title=\"Top 30 Countries in Suicide Rate\",\n",
    "                     text=\"Suicide_Rate\", animation_frame=\"Year\",\n",
    "                     projection=\"natural earth\")\n",
    "\n",
    "# Saving the plot as html file\n",
    "pio.write_html(fig, '../Images/Happiness_Suicide/suicidetop30.html')\n",
    "fig.show()"
   ]
  }
 ],
 "metadata": {
  "hide_input": false,
  "kernelspec": {
   "display_name": "Python 3",
   "language": "python",
   "name": "python3"
  },
  "language_info": {
   "codemirror_mode": {
    "name": "ipython",
    "version": 3
   },
   "file_extension": ".py",
   "mimetype": "text/x-python",
   "name": "python",
   "nbconvert_exporter": "python",
   "pygments_lexer": "ipython3",
   "version": "3.8.3"
  },
  "varInspector": {
   "cols": {
    "lenName": 16,
    "lenType": 16,
    "lenVar": 40
   },
   "kernels_config": {
    "python": {
     "delete_cmd_postfix": "",
     "delete_cmd_prefix": "del ",
     "library": "var_list.py",
     "varRefreshCmd": "print(var_dic_list())"
    },
    "r": {
     "delete_cmd_postfix": ") ",
     "delete_cmd_prefix": "rm(",
     "library": "var_list.r",
     "varRefreshCmd": "cat(var_dic_list()) "
    }
   },
   "types_to_exclude": [
    "module",
    "function",
    "builtin_function_or_method",
    "instance",
    "_Feature"
   ],
   "window_display": false
  }
 },
 "nbformat": 4,
 "nbformat_minor": 4
}
