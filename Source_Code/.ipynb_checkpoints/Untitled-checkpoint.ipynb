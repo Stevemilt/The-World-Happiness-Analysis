{
 "cells": [
  {
   "cell_type": "code",
   "execution_count": 1,
   "metadata": {
    "ExecuteTime": {
     "end_time": "2020-10-19T10:00:40.606874Z",
     "start_time": "2020-10-19T10:00:39.903308Z"
    }
   },
   "outputs": [],
   "source": [
    "import matplotlib.pyplot as plt\n",
    "import numpy as np\n",
    "import pandas as pd"
   ]
  },
  {
   "cell_type": "code",
   "execution_count": 2,
   "metadata": {
    "ExecuteTime": {
     "end_time": "2020-10-19T10:00:40.638855Z",
     "start_time": "2020-10-19T10:00:40.608874Z"
    }
   },
   "outputs": [
    {
     "name": "stdout",
     "output_type": "stream",
     "text": [
      "   Happiness_Rank_2015  Happiness_Rank_2016  Happiness_Rank_2017  \\\n",
      "0                  1.0                  2.0                  4.0   \n",
      "1                  2.0                  3.0                  3.0   \n",
      "2                  3.0                  1.0                  2.0   \n",
      "3                  4.0                  4.0                  1.0   \n",
      "4                  5.0                  6.0                  7.0   \n",
      "5                  6.0                  5.0                  5.0   \n",
      "6                  7.0                  7.0                  6.0   \n",
      "7                  8.0                 10.0                  9.0   \n",
      "8                  9.0                  8.0                  8.0   \n",
      "9                 10.0                  9.0                 10.0   \n",
      "\n",
      "   Happiness_Rank_2018  Happiness_Rank_2019      Country  \n",
      "0                  5.0                  6.0  Switzerland  \n",
      "1                  4.0                  4.0      Iceland  \n",
      "2                  3.0                  2.0      Denmark  \n",
      "3                  2.0                  3.0       Norway  \n",
      "4                  7.0                  9.0       Canada  \n",
      "5                  1.0                  1.0      Finland  \n",
      "6                  6.0                  5.0  Netherlands  \n",
      "7                  9.0                  7.0       Sweden  \n",
      "8                  8.0                  8.0  New Zealand  \n",
      "9                 10.0                 11.0    Australia  \n"
     ]
    },
    {
     "name": "stderr",
     "output_type": "stream",
     "text": [
      "C:\\Users\\Abraham\\anaconda3\\envs\\python31\\lib\\site-packages\\ipykernel_launcher.py:3: SettingWithCopyWarning: \n",
      "A value is trying to be set on a copy of a slice from a DataFrame.\n",
      "Try using .loc[row_indexer,col_indexer] = value instead\n",
      "\n",
      "See the caveats in the documentation: https://pandas.pydata.org/pandas-docs/stable/user_guide/indexing.html#returning-a-view-versus-a-copy\n",
      "  This is separate from the ipykernel package so we can avoid doing imports until\n"
     ]
    }
   ],
   "source": [
    "df = pd.read_csv(\"../Output/happiness_merged.csv\")\n",
    "df2 = df.filter(regex='Happiness_Rank')\n",
    "df2[\"Country\"] = df[\"Country\"]\n",
    "df2 = df2.loc[(df2[\"Happiness_Rank_2015\"] < 10) & (df2[\"Happiness_Rank_2015\"] > 0) | \\\n",
    "              (df2[\"Happiness_Rank_2016\"] < 10) & (df2[\"Happiness_Rank_2016\"] > 0) | \\\n",
    "              (df2[\"Happiness_Rank_2017\"] < 10) & (df2[\"Happiness_Rank_2017\"] > 0) | \\\n",
    "              (df2[\"Happiness_Rank_2018\"] < 10) & (df2[\"Happiness_Rank_2018\"] > 0) | \\\n",
    "              (df2[\"Happiness_Rank_2019\"] < 10) & (df2[\"Happiness_Rank_2019\"] > 0)\n",
    "             ]\n",
    "print(df2)"
   ]
  },
  {
   "cell_type": "code",
   "execution_count": 3,
   "metadata": {
    "ExecuteTime": {
     "end_time": "2020-10-19T10:00:40.877049Z",
     "start_time": "2020-10-19T10:00:40.643852Z"
    }
   },
   "outputs": [
    {
     "data": {
      "image/png": "[encoded data removed]",
      "text/plain": [
       "<Figure size 432x288 with 1 Axes>"
      ]
     },
     "metadata": {
      "needs_background": "light"
     },
     "output_type": "display_data"
    }
   ],
   "source": [
    "df = pd.DataFrame([[5.1, 3.5, 0], [4.9, 3.0, 0], [7.0, 3.2, 1],\n",
    "                   [6.4, 3.2, 1], [5.9, 3.0, 2]],\n",
    "                  columns=['length', 'width', 'species'])\n",
    "ax1 = df2.plot.scatter(x='length',\n",
    "                      y='width',\n",
    "                      c='DarkBlue')"
   ]
  },
  {
   "cell_type": "code",
   "execution_count": 5,
   "metadata": {
    "ExecuteTime": {
     "end_time": "2020-10-19T10:03:04.095038Z",
     "start_time": "2020-10-19T10:03:04.062058Z"
    }
   },
   "outputs": [
    {
     "name": "stdout",
     "output_type": "stream",
     "text": [
      "Happiness_Rank_2015\n"
     ]
    },
    {
     "ename": "ValueError",
     "evalue": "attempt to assign sequence of size 19 to extended slice of size 3",
     "output_type": "error",
     "traceback": [
      "\u001b[1;31m---------------------------------------------------------------------------\u001b[0m",
      "\u001b[1;31mValueError\u001b[0m                                Traceback (most recent call last)",
      "\u001b[1;32m<ipython-input-5-ab06430e3b7e>\u001b[0m in \u001b[0;36m<module>\u001b[1;34m\u001b[0m\n\u001b[0;32m     15\u001b[0m \u001b[0martists\u001b[0m \u001b[1;33m=\u001b[0m \u001b[1;33m[\u001b[0m\u001b[1;33m]\u001b[0m\u001b[1;33m\u001b[0m\u001b[1;33m\u001b[0m\u001b[0m\n\u001b[0;32m     16\u001b[0m \u001b[1;32mfor\u001b[0m \u001b[0mrow\u001b[0m\u001b[1;33m,\u001b[0m \u001b[0mcolor\u001b[0m \u001b[1;32min\u001b[0m \u001b[0mzip\u001b[0m\u001b[1;33m(\u001b[0m\u001b[0mdata\u001b[0m\u001b[1;33m,\u001b[0m \u001b[1;33m(\u001b[0m\u001b[1;34m'red'\u001b[0m\u001b[1;33m,\u001b[0m\u001b[1;34m'blue'\u001b[0m\u001b[1;33m,\u001b[0m\u001b[1;34m'green'\u001b[0m\u001b[1;33m,\u001b[0m\u001b[1;34m'magenta'\u001b[0m\u001b[1;33m,\u001b[0m\u001b[1;34m'yellow'\u001b[0m\u001b[1;33m,\u001b[0m\u001b[1;34m'black'\u001b[0m\u001b[1;33m,\u001b[0m\u001b[1;34m'pink'\u001b[0m\u001b[1;33m,\u001b[0m\u001b[1;34m'orange'\u001b[0m\u001b[1;33m,\u001b[0m\u001b[1;34m'mint'\u001b[0m\u001b[1;33m,\u001b[0m\u001b[1;34m'navy'\u001b[0m\u001b[1;33m)\u001b[0m\u001b[1;33m)\u001b[0m\u001b[1;33m:\u001b[0m\u001b[1;33m\u001b[0m\u001b[1;33m\u001b[0m\u001b[0m\n\u001b[1;32m---> 17\u001b[1;33m     \u001b[0martists\u001b[0m\u001b[1;33m.\u001b[0m\u001b[0mextend\u001b[0m\u001b[1;33m(\u001b[0m\u001b[0menergy_rank\u001b[0m\u001b[1;33m(\u001b[0m\u001b[0mrow\u001b[0m\u001b[1;33m,\u001b[0m \u001b[0mcolor\u001b[0m\u001b[1;33m=\u001b[0m\u001b[0mcolor\u001b[0m\u001b[1;33m)\u001b[0m\u001b[1;33m)\u001b[0m\u001b[1;33m\u001b[0m\u001b[1;33m\u001b[0m\u001b[0m\n\u001b[0m\u001b[0;32m     18\u001b[0m \u001b[1;33m\u001b[0m\u001b[0m\n\u001b[0;32m     19\u001b[0m \u001b[0mfig\u001b[0m\u001b[1;33m,\u001b[0m \u001b[0max\u001b[0m \u001b[1;33m=\u001b[0m \u001b[0mplt\u001b[0m\u001b[1;33m.\u001b[0m\u001b[0msubplots\u001b[0m\u001b[1;33m(\u001b[0m\u001b[1;33m)\u001b[0m\u001b[1;33m\u001b[0m\u001b[1;33m\u001b[0m\u001b[0m\n",
      "\u001b[1;32m<ipython-input-5-ab06430e3b7e>\u001b[0m in \u001b[0;36menergy_rank\u001b[1;34m(data, marker_width, color)\u001b[0m\n\u001b[0;32m      3\u001b[0m     \u001b[0mprint\u001b[0m\u001b[1;33m(\u001b[0m\u001b[0mdata\u001b[0m\u001b[1;33m)\u001b[0m\u001b[1;33m\u001b[0m\u001b[1;33m\u001b[0m\u001b[0m\n\u001b[0;32m      4\u001b[0m     \u001b[0mx_data\u001b[0m \u001b[1;33m=\u001b[0m \u001b[1;33m[\u001b[0m\u001b[1;36m2015\u001b[0m\u001b[1;33m,\u001b[0m\u001b[1;36m2016\u001b[0m\u001b[1;33m,\u001b[0m\u001b[1;36m2017\u001b[0m\u001b[1;33m,\u001b[0m\u001b[1;36m2018\u001b[0m\u001b[1;33m,\u001b[0m\u001b[1;36m2019\u001b[0m\u001b[1;33m]\u001b[0m\u001b[1;33m\u001b[0m\u001b[1;33m\u001b[0m\u001b[0m\n\u001b[1;32m----> 5\u001b[1;33m     \u001b[0mx_data\u001b[0m\u001b[1;33m[\u001b[0m\u001b[1;36m0\u001b[0m\u001b[1;33m:\u001b[0m\u001b[1;33m:\u001b[0m\u001b[1;36m2\u001b[0m\u001b[1;33m]\u001b[0m \u001b[1;33m=\u001b[0m \u001b[0mnp\u001b[0m\u001b[1;33m.\u001b[0m\u001b[0marange\u001b[0m\u001b[1;33m(\u001b[0m\u001b[1;36m1\u001b[0m\u001b[1;33m,\u001b[0m \u001b[0mlen\u001b[0m\u001b[1;33m(\u001b[0m\u001b[0mdata\u001b[0m\u001b[1;33m)\u001b[0m\u001b[1;33m+\u001b[0m\u001b[1;36m1\u001b[0m\u001b[1;33m)\u001b[0m \u001b[1;33m-\u001b[0m \u001b[1;33m(\u001b[0m\u001b[0mmarker_width\u001b[0m\u001b[1;33m/\u001b[0m\u001b[1;36m2\u001b[0m\u001b[1;33m)\u001b[0m\u001b[1;33m\u001b[0m\u001b[1;33m\u001b[0m\u001b[0m\n\u001b[0m\u001b[0;32m      6\u001b[0m     \u001b[0mx_data\u001b[0m\u001b[1;33m[\u001b[0m\u001b[1;36m1\u001b[0m\u001b[1;33m:\u001b[0m\u001b[1;33m:\u001b[0m\u001b[1;36m2\u001b[0m\u001b[1;33m]\u001b[0m \u001b[1;33m=\u001b[0m \u001b[0mnp\u001b[0m\u001b[1;33m.\u001b[0m\u001b[0marange\u001b[0m\u001b[1;33m(\u001b[0m\u001b[1;36m1\u001b[0m\u001b[1;33m,\u001b[0m \u001b[0mlen\u001b[0m\u001b[1;33m(\u001b[0m\u001b[0mdata\u001b[0m\u001b[1;33m)\u001b[0m\u001b[1;33m+\u001b[0m\u001b[1;36m1\u001b[0m\u001b[1;33m)\u001b[0m \u001b[1;33m+\u001b[0m \u001b[1;33m(\u001b[0m\u001b[0mmarker_width\u001b[0m\u001b[1;33m/\u001b[0m\u001b[1;36m2\u001b[0m\u001b[1;33m)\u001b[0m\u001b[1;33m\u001b[0m\u001b[1;33m\u001b[0m\u001b[0m\n\u001b[0;32m      7\u001b[0m     \u001b[0mlines\u001b[0m \u001b[1;33m=\u001b[0m \u001b[1;33m[\u001b[0m\u001b[1;33m]\u001b[0m\u001b[1;33m\u001b[0m\u001b[1;33m\u001b[0m\u001b[0m\n",
      "\u001b[1;31mValueError\u001b[0m: attempt to assign sequence of size 19 to extended slice of size 3"
     ]
    }
   ],
   "source": [
    "def energy_rank(data, marker_width=.5, color='blue'):\n",
    "    y_data =  df2[data]\n",
    "    print(data)\n",
    "    x_data = [2015,2016,2017,2018,2019]\n",
    "    x_data[0::2] = np.arange(1, len(data)+1) - (marker_width/2)\n",
    "    x_data[1::2] = np.arange(1, len(data)+1) + (marker_width/2)\n",
    "    lines = []\n",
    "    lines.append(plt.Line2D(x_data, y_data, lw=1, linestyle='solid', color=color))\n",
    "    for x in range(0,len(data)*2, 2):\n",
    "        lines.append(plt.Line2D(x_data[x:x+2], y_data[x:x+2], lw=5, linestyle='solid', color=color))\n",
    "    return lines\n",
    "\n",
    "data = df2.iloc[0:10,0:5]\n",
    "\n",
    "artists = []\n",
    "for row, color in zip(data, ('red','blue','green','magenta','yellow','black','pink','orange','mint','navy')):\n",
    "    artists.extend(energy_rank(row, color=color))\n",
    "\n",
    "fig, ax = plt.subplots()\n",
    "\n",
    "for artist in artists:\n",
    "    ax.add_artist(artist)\n",
    "ax.set_ybound([0,4])\n",
    "ax.set_xbound([.5,8.5])"
   ]
  },
  {
   "cell_type": "code",
   "execution_count": null,
   "metadata": {
    "ExecuteTime": {
     "end_time": "2020-10-19T10:00:41.005970Z",
     "start_time": "2020-10-19T10:00:39.910Z"
    }
   },
   "outputs": [],
   "source": [
    "def energy_rank(data, marker_width=.5, color='blue'):\n",
    "    y_data = []\n",
    "    print(data)\n",
    "    x_data = [2015,2016,2017,2018,2019]\n",
    "    print(x_data)\n",
    "#     x_data[0::2] = np.arange(1, len(data)+1) - (marker_width/2)\n",
    "#     print(x_data)\n",
    "#     x_data[1::2] = np.arange(1, len(data)+1) + (marker_width/2)\n",
    "#     print(x_data)\n",
    "#     lines = []\n",
    "#     lines.append(plt.Line2D(x_data, y_data, lw=1, linestyle='dashed', color=color))\n",
    "#     for x in range(0,len(data)*2, 2):\n",
    "#         lines.append(plt.Line2D(x_data[x:x+2], y_data[x:x+2], lw=5, linestyle='solid', color=color))\n",
    "#     return lines\n",
    "\n",
    "data = df2.iloc[0:10,0:6]\n",
    "data=data.rename_axis(None, axis = 1)\n",
    "data\n",
    "# artists = []\n",
    "# for row, color in zip(data, ('red','blue','green','magenta','yellow','black','pink','orange','mint','navy')):\n",
    "#     print(row)\n",
    "#     artists.extend(energy_rank(row, color=color))\n",
    "\n",
    "# fig, ax = plt.subplots()\n",
    "\n",
    "# for artist in artists:\n",
    "#     ax.add_artist(artist)\n",
    "# ax.set_ybound([1,10])\n",
    "# ax.set_xbound([1,5])"
   ]
  },
  {
   "cell_type": "code",
   "execution_count": null,
   "metadata": {
    "ExecuteTime": {
     "end_time": "2020-10-19T10:00:41.006969Z",
     "start_time": "2020-10-19T10:00:39.912Z"
    }
   },
   "outputs": [],
   "source": [
    "def energy_rank(data, marker_width=.5, color='blue'):\n",
    "    y_data = np.repeat(data, 2)\n",
    "    x_data = np.empty_like(y_data)\n",
    "    x_data[0::2] = np.arange(1, len(data)+1) - (marker_width/2)\n",
    "    x_data[1::2] = np.arange(1, len(data)+1) + (marker_width/2)\n",
    "    lines = []\n",
    "    lines.append(plt.Line2D(x_data, y_data, lw=1, linestyle='dashed', color=color))\n",
    "    for x in range(0,len(data)*2, 2):\n",
    "        lines.append(plt.Line2D(x_data[x:x+2], y_data[x:x+2], lw=5, linestyle='solid', color=color))\n",
    "    return lines\n",
    "\n",
    "data = np.random.rand(10,5) * 4 # 4 lines with 8 datapoints from 0 - 4\n",
    "\n",
    "artists = []\n",
    "for row, color in zip(data, ('red','blue','green','magenta')):\n",
    "    artists.extend(energy_rank(row, color=color))\n",
    "\n",
    "fig, ax = plt.subplots()\n",
    "\n",
    "for artist in artists:\n",
    "    ax.add_artist(artist)\n",
    "ax.set_ybound([0,4])\n",
    "ax.set_xbound([.5,8.5])"
   ]
  },
  {
   "cell_type": "code",
   "execution_count": null,
   "metadata": {},
   "outputs": [],
   "source": []
  }
 ],
 "metadata": {
  "hide_input": false,
  "kernelspec": {
   "display_name": "Python 3",
   "language": "python",
   "name": "python3"
  },
  "language_info": {
   "codemirror_mode": {
    "name": "ipython",
    "version": 3
   },
   "file_extension": ".py",
   "mimetype": "text/x-python",
   "name": "python",
   "nbconvert_exporter": "python",
   "pygments_lexer": "ipython3",
   "version": "3.7.9"
  },
  "varInspector": {
   "cols": {
    "lenName": 16,
    "lenType": 16,
    "lenVar": 40
   },
   "kernels_config": {
    "python": {
     "delete_cmd_postfix": "",
     "delete_cmd_prefix": "del ",
     "library": "var_list.py",
     "varRefreshCmd": "print(var_dic_list())"
    },
    "r": {
     "delete_cmd_postfix": ") ",
     "delete_cmd_prefix": "rm(",
     "library": "var_list.r",
     "varRefreshCmd": "cat(var_dic_list()) "
    }
   },
   "types_to_exclude": [
    "module",
    "function",
    "builtin_function_or_method",
    "instance",
    "_Feature"
   ],
   "window_display": false
  }
 },
 "nbformat": 4,
 "nbformat_minor": 4
}
